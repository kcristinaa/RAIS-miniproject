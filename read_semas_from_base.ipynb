{
 "cells": [
  {
   "cell_type": "code",
   "execution_count": 112,
   "metadata": {
    "collapsed": true
   },
   "outputs": [],
   "source": [
    "import pandas as pd\n",
    "from pymongo import MongoClient\n",
    "import json"
   ]
  },
  {
   "cell_type": "code",
   "execution_count": 113,
   "outputs": [],
   "source": [
    "with open('credentials.json') as f:\n",
    "    data = json.load(f)\n",
    "    username = data['username']\n",
    "    password = data['password']"
   ],
   "metadata": {
    "collapsed": false
   }
  },
  {
   "cell_type": "code",
   "execution_count": 114,
   "outputs": [],
   "source": [
    "client = MongoClient('mongodb://%s:%s@127.0.0.1' % (username, password))\n",
    "db = client.rais"
   ],
   "metadata": {
    "collapsed": false
   }
  },
  {
   "cell_type": "code",
   "execution_count": 115,
   "outputs": [],
   "source": [
    "# read sema collection\n",
    "collection = db.sema\n",
    "df = pd.DataFrame(list(collection.find()))"
   ],
   "metadata": {
    "collapsed": false
   }
  },
  {
   "cell_type": "code",
   "execution_count": 116,
   "outputs": [],
   "source": [
    "# Deleting the no-responses and nones\n",
    "df=pd.DataFrame(list(collection.find( { '$and': [ {\"data.MOOD\": { \"$ne\": \"<no-response>\" }},{\"data.MOOD\": { \"$ne\": None }}, {\"data.PLACE\": { \"$ne\": \"<no-response>\" }},{\"data.PLACE\": { \"$ne\": None }} ] } )))"
   ],
   "metadata": {
    "collapsed": false
   }
  },
  {
   "cell_type": "code",
   "execution_count": 117,
   "outputs": [],
   "source": [
    "df=df[['user_id']].join(pd.DataFrame(df['data'].tolist(), index=df.index).add_prefix('data.'))"
   ],
   "metadata": {
    "collapsed": false
   }
  },
  {
   "cell_type": "code",
   "execution_count": 118,
   "outputs": [
    {
     "data": {
      "text/plain": "                       user_id       date      data.MOOD\n2897  621e362467b776a2404ad513 2021-04-22            JOY\n4075  621e362467b776a2404ad513 2021-04-23        NEUTRAL\n3186  621e362467b776a2404ad513 2021-04-23        NEUTRAL\n3669  621e362467b776a2404ad513 2021-04-23       SURPRISE\n3295  621e362467b776a2404ad513 2021-04-24          ANGER\n...                        ...        ...            ...\n138   621e2eaf67b776a2406b14ac 2022-01-16            SAD\n649   621e346f67b776a24081744f 2022-01-17  TENSE/ANXIOUS\n1113  621e30f467b776a240f22944 2022-01-17        NEUTRAL\n4946  621e2f9167b776a240011ccb 2022-01-17  TENSE/ANXIOUS\n4521  621e331067b776a24085dd3f 2022-01-17        NEUTRAL\n\n[5035 rows x 3 columns]",
      "text/html": "<div>\n<style scoped>\n    .dataframe tbody tr th:only-of-type {\n        vertical-align: middle;\n    }\n\n    .dataframe tbody tr th {\n        vertical-align: top;\n    }\n\n    .dataframe thead th {\n        text-align: right;\n    }\n</style>\n<table border=\"1\" class=\"dataframe\">\n  <thead>\n    <tr style=\"text-align: right;\">\n      <th></th>\n      <th>user_id</th>\n      <th>date</th>\n      <th>data.MOOD</th>\n    </tr>\n  </thead>\n  <tbody>\n    <tr>\n      <th>2897</th>\n      <td>621e362467b776a2404ad513</td>\n      <td>2021-04-22</td>\n      <td>JOY</td>\n    </tr>\n    <tr>\n      <th>4075</th>\n      <td>621e362467b776a2404ad513</td>\n      <td>2021-04-23</td>\n      <td>NEUTRAL</td>\n    </tr>\n    <tr>\n      <th>3186</th>\n      <td>621e362467b776a2404ad513</td>\n      <td>2021-04-23</td>\n      <td>NEUTRAL</td>\n    </tr>\n    <tr>\n      <th>3669</th>\n      <td>621e362467b776a2404ad513</td>\n      <td>2021-04-23</td>\n      <td>SURPRISE</td>\n    </tr>\n    <tr>\n      <th>3295</th>\n      <td>621e362467b776a2404ad513</td>\n      <td>2021-04-24</td>\n      <td>ANGER</td>\n    </tr>\n    <tr>\n      <th>...</th>\n      <td>...</td>\n      <td>...</td>\n      <td>...</td>\n    </tr>\n    <tr>\n      <th>138</th>\n      <td>621e2eaf67b776a2406b14ac</td>\n      <td>2022-01-16</td>\n      <td>SAD</td>\n    </tr>\n    <tr>\n      <th>649</th>\n      <td>621e346f67b776a24081744f</td>\n      <td>2022-01-17</td>\n      <td>TENSE/ANXIOUS</td>\n    </tr>\n    <tr>\n      <th>1113</th>\n      <td>621e30f467b776a240f22944</td>\n      <td>2022-01-17</td>\n      <td>NEUTRAL</td>\n    </tr>\n    <tr>\n      <th>4946</th>\n      <td>621e2f9167b776a240011ccb</td>\n      <td>2022-01-17</td>\n      <td>TENSE/ANXIOUS</td>\n    </tr>\n    <tr>\n      <th>4521</th>\n      <td>621e331067b776a24085dd3f</td>\n      <td>2022-01-17</td>\n      <td>NEUTRAL</td>\n    </tr>\n  </tbody>\n</table>\n<p>5035 rows × 3 columns</p>\n</div>"
     },
     "execution_count": 118,
     "metadata": {},
     "output_type": "execute_result"
    }
   ],
   "source": [
    "df['date'] = pd.to_datetime(df['data.CREATED_TS']).dt.date\n",
    "df['Time'] = pd.to_datetime(df['data.CREATED_TS']).dt.time\n",
    "users=df['user_id']\n",
    "days=df['date']\n",
    "mood=df['data.MOOD']\n",
    "df = pd.concat([users, days, mood],axis=1)\n",
    "df = df.sort_values(by='date', ascending=True)\n",
    "df['date'] = pd.to_datetime(df['date'].astype(\"str\"), format='%Y-%m-%d')\n",
    "df"
   ],
   "metadata": {
    "collapsed": false
   }
  },
  {
   "cell_type": "code",
   "execution_count": 119,
   "outputs": [
    {
     "data": {
      "text/plain": "                       user_id       date       data.MOOD\n0     621e362467b776a2404ad513 2021-05-24           HAPPY\n1     621e34ca67b776a240be3b69 2021-05-24           TIRED\n2     621e32d967b776a240627414 2021-05-24  RESTED/RELAXED\n3     621e30e467b776a240e817c7 2021-05-24   TENSE/ANXIOUS\n4     621e36f967b776a240e5e7c9 2021-05-24           TIRED\n...                        ...        ...             ...\n4942  621e2eaf67b776a2406b14ac 2022-01-16             SAD\n4943  621e346f67b776a24081744f 2022-01-17   TENSE/ANXIOUS\n4944  621e30f467b776a240f22944 2022-01-17         NEUTRAL\n4945  621e2f9167b776a240011ccb 2022-01-17   TENSE/ANXIOUS\n4946  621e331067b776a24085dd3f 2022-01-17         NEUTRAL\n\n[4947 rows x 3 columns]",
      "text/html": "<div>\n<style scoped>\n    .dataframe tbody tr th:only-of-type {\n        vertical-align: middle;\n    }\n\n    .dataframe tbody tr th {\n        vertical-align: top;\n    }\n\n    .dataframe thead th {\n        text-align: right;\n    }\n</style>\n<table border=\"1\" class=\"dataframe\">\n  <thead>\n    <tr style=\"text-align: right;\">\n      <th></th>\n      <th>user_id</th>\n      <th>date</th>\n      <th>data.MOOD</th>\n    </tr>\n  </thead>\n  <tbody>\n    <tr>\n      <th>0</th>\n      <td>621e362467b776a2404ad513</td>\n      <td>2021-05-24</td>\n      <td>HAPPY</td>\n    </tr>\n    <tr>\n      <th>1</th>\n      <td>621e34ca67b776a240be3b69</td>\n      <td>2021-05-24</td>\n      <td>TIRED</td>\n    </tr>\n    <tr>\n      <th>2</th>\n      <td>621e32d967b776a240627414</td>\n      <td>2021-05-24</td>\n      <td>RESTED/RELAXED</td>\n    </tr>\n    <tr>\n      <th>3</th>\n      <td>621e30e467b776a240e817c7</td>\n      <td>2021-05-24</td>\n      <td>TENSE/ANXIOUS</td>\n    </tr>\n    <tr>\n      <th>4</th>\n      <td>621e36f967b776a240e5e7c9</td>\n      <td>2021-05-24</td>\n      <td>TIRED</td>\n    </tr>\n    <tr>\n      <th>...</th>\n      <td>...</td>\n      <td>...</td>\n      <td>...</td>\n    </tr>\n    <tr>\n      <th>4942</th>\n      <td>621e2eaf67b776a2406b14ac</td>\n      <td>2022-01-16</td>\n      <td>SAD</td>\n    </tr>\n    <tr>\n      <th>4943</th>\n      <td>621e346f67b776a24081744f</td>\n      <td>2022-01-17</td>\n      <td>TENSE/ANXIOUS</td>\n    </tr>\n    <tr>\n      <th>4944</th>\n      <td>621e30f467b776a240f22944</td>\n      <td>2022-01-17</td>\n      <td>NEUTRAL</td>\n    </tr>\n    <tr>\n      <th>4945</th>\n      <td>621e2f9167b776a240011ccb</td>\n      <td>2022-01-17</td>\n      <td>TENSE/ANXIOUS</td>\n    </tr>\n    <tr>\n      <th>4946</th>\n      <td>621e331067b776a24085dd3f</td>\n      <td>2022-01-17</td>\n      <td>NEUTRAL</td>\n    </tr>\n  </tbody>\n</table>\n<p>4947 rows × 3 columns</p>\n</div>"
     },
     "execution_count": 119,
     "metadata": {},
     "output_type": "execute_result"
    }
   ],
   "source": [
    "# Selecting experiment dates\n",
    "df1 = df[(df['date'] >= \"2021-05-24\") & (df['date'] <= \"2021-07-26\")] #Round1\n",
    "df2 = df[(df['date'] >= \"2021-11-15\") & (df['date'] <= \"2022-01-17\")] #Round2\n",
    "df=pd.concat([df1, df2], ignore_index=True)\n",
    "df"
   ],
   "metadata": {
    "collapsed": false
   }
  },
  {
   "cell_type": "code",
   "execution_count": 120,
   "outputs": [
    {
     "data": {
      "text/plain": "      ALERT  HAPPY  NEUTRAL  RESTED/RELAXED  SAD  TENSE/ANXIOUS  TIRED\n0         0      1        0               0    0              0      0\n1         0      0        0               0    0              0      1\n2         0      0        0               1    0              0      0\n3         0      0        0               0    0              1      0\n4         0      0        0               0    0              0      1\n...     ...    ...      ...             ...  ...            ...    ...\n4942      0      0        0               0    1              0      0\n4943      0      0        0               0    0              1      0\n4944      0      0        1               0    0              0      0\n4945      0      0        0               0    0              1      0\n4946      0      0        1               0    0              0      0\n\n[4947 rows x 7 columns]",
      "text/html": "<div>\n<style scoped>\n    .dataframe tbody tr th:only-of-type {\n        vertical-align: middle;\n    }\n\n    .dataframe tbody tr th {\n        vertical-align: top;\n    }\n\n    .dataframe thead th {\n        text-align: right;\n    }\n</style>\n<table border=\"1\" class=\"dataframe\">\n  <thead>\n    <tr style=\"text-align: right;\">\n      <th></th>\n      <th>ALERT</th>\n      <th>HAPPY</th>\n      <th>NEUTRAL</th>\n      <th>RESTED/RELAXED</th>\n      <th>SAD</th>\n      <th>TENSE/ANXIOUS</th>\n      <th>TIRED</th>\n    </tr>\n  </thead>\n  <tbody>\n    <tr>\n      <th>0</th>\n      <td>0</td>\n      <td>1</td>\n      <td>0</td>\n      <td>0</td>\n      <td>0</td>\n      <td>0</td>\n      <td>0</td>\n    </tr>\n    <tr>\n      <th>1</th>\n      <td>0</td>\n      <td>0</td>\n      <td>0</td>\n      <td>0</td>\n      <td>0</td>\n      <td>0</td>\n      <td>1</td>\n    </tr>\n    <tr>\n      <th>2</th>\n      <td>0</td>\n      <td>0</td>\n      <td>0</td>\n      <td>1</td>\n      <td>0</td>\n      <td>0</td>\n      <td>0</td>\n    </tr>\n    <tr>\n      <th>3</th>\n      <td>0</td>\n      <td>0</td>\n      <td>0</td>\n      <td>0</td>\n      <td>0</td>\n      <td>1</td>\n      <td>0</td>\n    </tr>\n    <tr>\n      <th>4</th>\n      <td>0</td>\n      <td>0</td>\n      <td>0</td>\n      <td>0</td>\n      <td>0</td>\n      <td>0</td>\n      <td>1</td>\n    </tr>\n    <tr>\n      <th>...</th>\n      <td>...</td>\n      <td>...</td>\n      <td>...</td>\n      <td>...</td>\n      <td>...</td>\n      <td>...</td>\n      <td>...</td>\n    </tr>\n    <tr>\n      <th>4942</th>\n      <td>0</td>\n      <td>0</td>\n      <td>0</td>\n      <td>0</td>\n      <td>1</td>\n      <td>0</td>\n      <td>0</td>\n    </tr>\n    <tr>\n      <th>4943</th>\n      <td>0</td>\n      <td>0</td>\n      <td>0</td>\n      <td>0</td>\n      <td>0</td>\n      <td>1</td>\n      <td>0</td>\n    </tr>\n    <tr>\n      <th>4944</th>\n      <td>0</td>\n      <td>0</td>\n      <td>1</td>\n      <td>0</td>\n      <td>0</td>\n      <td>0</td>\n      <td>0</td>\n    </tr>\n    <tr>\n      <th>4945</th>\n      <td>0</td>\n      <td>0</td>\n      <td>0</td>\n      <td>0</td>\n      <td>0</td>\n      <td>1</td>\n      <td>0</td>\n    </tr>\n    <tr>\n      <th>4946</th>\n      <td>0</td>\n      <td>0</td>\n      <td>1</td>\n      <td>0</td>\n      <td>0</td>\n      <td>0</td>\n      <td>0</td>\n    </tr>\n  </tbody>\n</table>\n<p>4947 rows × 7 columns</p>\n</div>"
     },
     "execution_count": 120,
     "metadata": {},
     "output_type": "execute_result"
    }
   ],
   "source": [
    "sema = pd.get_dummies(df['data.MOOD'])\n",
    "sema"
   ],
   "metadata": {
    "collapsed": false
   }
  },
  {
   "cell_type": "code",
   "execution_count": 121,
   "outputs": [],
   "source": [
    "# combine one-hot encoding with actual df\n",
    "sema_moods = pd.concat([df, sema], axis=1)\n",
    "sema_moods.drop(['data.MOOD'], axis=1, inplace=True)"
   ],
   "metadata": {
    "collapsed": false
   }
  },
  {
   "cell_type": "code",
   "execution_count": 122,
   "outputs": [
    {
     "data": {
      "text/plain": "                       user_id       date  ALERT  HAPPY  NEUTRAL  \\\n0     621e362467b776a2404ad513 2021-05-24      0      1        0   \n1     621e34ca67b776a240be3b69 2021-05-24      0      0        0   \n2     621e32d967b776a240627414 2021-05-24      0      0        0   \n3     621e30e467b776a240e817c7 2021-05-24      0      0        0   \n4     621e36f967b776a240e5e7c9 2021-05-24      0      0        0   \n...                        ...        ...    ...    ...      ...   \n4942  621e2eaf67b776a2406b14ac 2022-01-16      0      0        0   \n4943  621e346f67b776a24081744f 2022-01-17      0      0        0   \n4944  621e30f467b776a240f22944 2022-01-17      0      0        1   \n4945  621e2f9167b776a240011ccb 2022-01-17      0      0        0   \n4946  621e331067b776a24085dd3f 2022-01-17      0      0        1   \n\n      RESTED/RELAXED  SAD  TENSE/ANXIOUS  TIRED  \n0                  0    0              0      0  \n1                  0    0              0      1  \n2                  1    0              0      0  \n3                  0    0              1      0  \n4                  0    0              0      1  \n...              ...  ...            ...    ...  \n4942               0    1              0      0  \n4943               0    0              1      0  \n4944               0    0              0      0  \n4945               0    0              1      0  \n4946               0    0              0      0  \n\n[4947 rows x 9 columns]",
      "text/html": "<div>\n<style scoped>\n    .dataframe tbody tr th:only-of-type {\n        vertical-align: middle;\n    }\n\n    .dataframe tbody tr th {\n        vertical-align: top;\n    }\n\n    .dataframe thead th {\n        text-align: right;\n    }\n</style>\n<table border=\"1\" class=\"dataframe\">\n  <thead>\n    <tr style=\"text-align: right;\">\n      <th></th>\n      <th>user_id</th>\n      <th>date</th>\n      <th>ALERT</th>\n      <th>HAPPY</th>\n      <th>NEUTRAL</th>\n      <th>RESTED/RELAXED</th>\n      <th>SAD</th>\n      <th>TENSE/ANXIOUS</th>\n      <th>TIRED</th>\n    </tr>\n  </thead>\n  <tbody>\n    <tr>\n      <th>0</th>\n      <td>621e362467b776a2404ad513</td>\n      <td>2021-05-24</td>\n      <td>0</td>\n      <td>1</td>\n      <td>0</td>\n      <td>0</td>\n      <td>0</td>\n      <td>0</td>\n      <td>0</td>\n    </tr>\n    <tr>\n      <th>1</th>\n      <td>621e34ca67b776a240be3b69</td>\n      <td>2021-05-24</td>\n      <td>0</td>\n      <td>0</td>\n      <td>0</td>\n      <td>0</td>\n      <td>0</td>\n      <td>0</td>\n      <td>1</td>\n    </tr>\n    <tr>\n      <th>2</th>\n      <td>621e32d967b776a240627414</td>\n      <td>2021-05-24</td>\n      <td>0</td>\n      <td>0</td>\n      <td>0</td>\n      <td>1</td>\n      <td>0</td>\n      <td>0</td>\n      <td>0</td>\n    </tr>\n    <tr>\n      <th>3</th>\n      <td>621e30e467b776a240e817c7</td>\n      <td>2021-05-24</td>\n      <td>0</td>\n      <td>0</td>\n      <td>0</td>\n      <td>0</td>\n      <td>0</td>\n      <td>1</td>\n      <td>0</td>\n    </tr>\n    <tr>\n      <th>4</th>\n      <td>621e36f967b776a240e5e7c9</td>\n      <td>2021-05-24</td>\n      <td>0</td>\n      <td>0</td>\n      <td>0</td>\n      <td>0</td>\n      <td>0</td>\n      <td>0</td>\n      <td>1</td>\n    </tr>\n    <tr>\n      <th>...</th>\n      <td>...</td>\n      <td>...</td>\n      <td>...</td>\n      <td>...</td>\n      <td>...</td>\n      <td>...</td>\n      <td>...</td>\n      <td>...</td>\n      <td>...</td>\n    </tr>\n    <tr>\n      <th>4942</th>\n      <td>621e2eaf67b776a2406b14ac</td>\n      <td>2022-01-16</td>\n      <td>0</td>\n      <td>0</td>\n      <td>0</td>\n      <td>0</td>\n      <td>1</td>\n      <td>0</td>\n      <td>0</td>\n    </tr>\n    <tr>\n      <th>4943</th>\n      <td>621e346f67b776a24081744f</td>\n      <td>2022-01-17</td>\n      <td>0</td>\n      <td>0</td>\n      <td>0</td>\n      <td>0</td>\n      <td>0</td>\n      <td>1</td>\n      <td>0</td>\n    </tr>\n    <tr>\n      <th>4944</th>\n      <td>621e30f467b776a240f22944</td>\n      <td>2022-01-17</td>\n      <td>0</td>\n      <td>0</td>\n      <td>1</td>\n      <td>0</td>\n      <td>0</td>\n      <td>0</td>\n      <td>0</td>\n    </tr>\n    <tr>\n      <th>4945</th>\n      <td>621e2f9167b776a240011ccb</td>\n      <td>2022-01-17</td>\n      <td>0</td>\n      <td>0</td>\n      <td>0</td>\n      <td>0</td>\n      <td>0</td>\n      <td>1</td>\n      <td>0</td>\n    </tr>\n    <tr>\n      <th>4946</th>\n      <td>621e331067b776a24085dd3f</td>\n      <td>2022-01-17</td>\n      <td>0</td>\n      <td>0</td>\n      <td>1</td>\n      <td>0</td>\n      <td>0</td>\n      <td>0</td>\n      <td>0</td>\n    </tr>\n  </tbody>\n</table>\n<p>4947 rows × 9 columns</p>\n</div>"
     },
     "execution_count": 122,
     "metadata": {},
     "output_type": "execute_result"
    }
   ],
   "source": [
    "sema_moods"
   ],
   "metadata": {
    "collapsed": false
   }
  },
  {
   "cell_type": "code",
   "execution_count": 123,
   "outputs": [],
   "source": [
    "sema_moods.to_pickle('data/sema_moods_read_from_the_base_experiment_dates.pkl')"
   ],
   "metadata": {
    "collapsed": false
   }
  }
 ],
 "metadata": {
  "kernelspec": {
   "display_name": "Python 3",
   "language": "python",
   "name": "python3"
  },
  "language_info": {
   "codemirror_mode": {
    "name": "ipython",
    "version": 2
   },
   "file_extension": ".py",
   "mimetype": "text/x-python",
   "name": "python",
   "nbconvert_exporter": "python",
   "pygments_lexer": "ipython2",
   "version": "2.7.6"
  }
 },
 "nbformat": 4,
 "nbformat_minor": 0
}
