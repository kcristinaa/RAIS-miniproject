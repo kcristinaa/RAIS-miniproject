{
 "cells": [
  {
   "cell_type": "code",
   "execution_count": 16,
   "metadata": {
    "collapsed": true
   },
   "outputs": [],
   "source": [
    "import pandas as pd\n",
    "from pymongo import MongoClient\n",
    "import json"
   ]
  },
  {
   "cell_type": "code",
   "execution_count": 17,
   "outputs": [],
   "source": [
    "with open('credentials.json') as f:\n",
    "    data = json.load(f)\n",
    "    username = data['username']\n",
    "    password = data['password']"
   ],
   "metadata": {
    "collapsed": false
   }
  },
  {
   "cell_type": "code",
   "execution_count": 18,
   "outputs": [],
   "source": [
    "client = MongoClient('mongodb://%s:%s@127.0.0.1' % (username, password))\n",
    "db = client.rais"
   ],
   "metadata": {
    "collapsed": false
   }
  },
  {
   "cell_type": "code",
   "execution_count": 19,
   "outputs": [],
   "source": [
    "# read the sema collection\n",
    "collection = db.sema\n",
    "df = pd.DataFrame(list(collection.find()))"
   ],
   "metadata": {
    "collapsed": false
   }
  },
  {
   "cell_type": "code",
   "execution_count": 20,
   "outputs": [],
   "source": [
    "# Deleting the no-responses and nones\n",
    "df=pd.DataFrame(list(collection.find( { '$and': [ {\"data.MOOD\": { \"$ne\": \"<no-response>\" }},{\"data.MOOD\": { \"$ne\": None }} ] } )))"
   ],
   "metadata": {
    "collapsed": false
   }
  },
  {
   "cell_type": "code",
   "execution_count": 21,
   "outputs": [],
   "source": [
    "df=df[['user_id']].join(pd.DataFrame(df['data'].tolist(), index=df.index).add_prefix('data.'))"
   ],
   "metadata": {
    "collapsed": false
   }
  },
  {
   "cell_type": "code",
   "execution_count": 22,
   "outputs": [
    {
     "data": {
      "text/plain": "                       user_id       date      time      data.MOOD\n2898  621e362467b776a2404ad513 2021-04-22  20:46:00            JOY\n3670  621e362467b776a2404ad513 2021-04-23  11:06:00       SURPRISE\n4076  621e362467b776a2404ad513 2021-04-23  15:06:00        NEUTRAL\n3187  621e362467b776a2404ad513 2021-04-23  10:43:00        NEUTRAL\n3296  621e362467b776a2404ad513 2021-04-24  18:40:00          ANGER\n...                        ...        ...       ...            ...\n138   621e2eaf67b776a2406b14ac 2022-01-16  18:38:00            SAD\n649   621e346f67b776a24081744f 2022-01-17  11:00:00  TENSE/ANXIOUS\n1113  621e30f467b776a240f22944 2022-01-17  10:19:00        NEUTRAL\n4947  621e2f9167b776a240011ccb 2022-01-17  11:09:00  TENSE/ANXIOUS\n4522  621e331067b776a24085dd3f 2022-01-17  10:05:00        NEUTRAL\n\n[5036 rows x 4 columns]",
      "text/html": "<div>\n<style scoped>\n    .dataframe tbody tr th:only-of-type {\n        vertical-align: middle;\n    }\n\n    .dataframe tbody tr th {\n        vertical-align: top;\n    }\n\n    .dataframe thead th {\n        text-align: right;\n    }\n</style>\n<table border=\"1\" class=\"dataframe\">\n  <thead>\n    <tr style=\"text-align: right;\">\n      <th></th>\n      <th>user_id</th>\n      <th>date</th>\n      <th>time</th>\n      <th>data.MOOD</th>\n    </tr>\n  </thead>\n  <tbody>\n    <tr>\n      <th>2898</th>\n      <td>621e362467b776a2404ad513</td>\n      <td>2021-04-22</td>\n      <td>20:46:00</td>\n      <td>JOY</td>\n    </tr>\n    <tr>\n      <th>3670</th>\n      <td>621e362467b776a2404ad513</td>\n      <td>2021-04-23</td>\n      <td>11:06:00</td>\n      <td>SURPRISE</td>\n    </tr>\n    <tr>\n      <th>4076</th>\n      <td>621e362467b776a2404ad513</td>\n      <td>2021-04-23</td>\n      <td>15:06:00</td>\n      <td>NEUTRAL</td>\n    </tr>\n    <tr>\n      <th>3187</th>\n      <td>621e362467b776a2404ad513</td>\n      <td>2021-04-23</td>\n      <td>10:43:00</td>\n      <td>NEUTRAL</td>\n    </tr>\n    <tr>\n      <th>3296</th>\n      <td>621e362467b776a2404ad513</td>\n      <td>2021-04-24</td>\n      <td>18:40:00</td>\n      <td>ANGER</td>\n    </tr>\n    <tr>\n      <th>...</th>\n      <td>...</td>\n      <td>...</td>\n      <td>...</td>\n      <td>...</td>\n    </tr>\n    <tr>\n      <th>138</th>\n      <td>621e2eaf67b776a2406b14ac</td>\n      <td>2022-01-16</td>\n      <td>18:38:00</td>\n      <td>SAD</td>\n    </tr>\n    <tr>\n      <th>649</th>\n      <td>621e346f67b776a24081744f</td>\n      <td>2022-01-17</td>\n      <td>11:00:00</td>\n      <td>TENSE/ANXIOUS</td>\n    </tr>\n    <tr>\n      <th>1113</th>\n      <td>621e30f467b776a240f22944</td>\n      <td>2022-01-17</td>\n      <td>10:19:00</td>\n      <td>NEUTRAL</td>\n    </tr>\n    <tr>\n      <th>4947</th>\n      <td>621e2f9167b776a240011ccb</td>\n      <td>2022-01-17</td>\n      <td>11:09:00</td>\n      <td>TENSE/ANXIOUS</td>\n    </tr>\n    <tr>\n      <th>4522</th>\n      <td>621e331067b776a24085dd3f</td>\n      <td>2022-01-17</td>\n      <td>10:05:00</td>\n      <td>NEUTRAL</td>\n    </tr>\n  </tbody>\n</table>\n<p>5036 rows × 4 columns</p>\n</div>"
     },
     "execution_count": 22,
     "metadata": {},
     "output_type": "execute_result"
    }
   ],
   "source": [
    "df['date'] = pd.to_datetime(df['data.CREATED_TS']).dt.date\n",
    "df['time'] = pd.to_datetime(df['data.CREATED_TS']).dt.time\n",
    "users=df['user_id']\n",
    "days=df['date']\n",
    "time=df['time']\n",
    "mood=df['data.MOOD']\n",
    "df = pd.concat([users, days, time, mood],axis=1)\n",
    "df = df.sort_values(by='date', ascending=True)\n",
    "df['date'] = pd.to_datetime(df['date'].astype(\"str\"), format='%Y-%m-%d')\n",
    "df"
   ],
   "metadata": {
    "collapsed": false
   }
  },
  {
   "cell_type": "code",
   "execution_count": 23,
   "outputs": [
    {
     "name": "stdout",
     "output_type": "stream",
     "text": [
      "Duplicates based on id, date, time and answer: 0\n",
      "Duplicates based on id, date, time: 0\n",
      "Duplicates based on id, date: 4435\n"
     ]
    }
   ],
   "source": [
    "# checking for duplicates\n",
    "print(\"Duplicates based on id, date, time and answer: {}\".format(df[df.duplicated(subset=['user_id','date','time','data.MOOD'], keep=False)].shape[0]))\n",
    "print(\"Duplicates based on id, date, time: {}\".format(df[df.duplicated(subset=['user_id','date','time'], keep=False)].shape[0]))\n",
    "print(\"Duplicates based on id, date: {}\".format(df[df.duplicated(subset=['user_id','date'], keep=False)].shape[0]))"
   ],
   "metadata": {
    "collapsed": false
   }
  },
  {
   "cell_type": "markdown",
   "source": [
    "SEMAS-Mood were sent thrice per day, thus the duplicates based on id, date are acceptable."
   ],
   "metadata": {
    "collapsed": false
   }
  },
  {
   "cell_type": "code",
   "execution_count": 24,
   "outputs": [
    {
     "data": {
      "text/plain": "                       user_id       date      time       data.MOOD\n0     621e2f3967b776a240c654db 2021-05-24  20:16:00  RESTED/RELAXED\n1     621e362467b776a2404ad513 2021-05-24  10:31:00           HAPPY\n2     621e32d967b776a240627414 2021-05-24  20:16:00  RESTED/RELAXED\n3     621e2f7a67b776a240f14425 2021-05-24  21:55:00  RESTED/RELAXED\n4     621e34ca67b776a240be3b69 2021-05-24  20:36:00           TIRED\n...                        ...        ...       ...             ...\n4943  621e2eaf67b776a2406b14ac 2022-01-16  18:38:00             SAD\n4944  621e346f67b776a24081744f 2022-01-17  11:00:00   TENSE/ANXIOUS\n4945  621e30f467b776a240f22944 2022-01-17  10:19:00         NEUTRAL\n4946  621e2f9167b776a240011ccb 2022-01-17  11:09:00   TENSE/ANXIOUS\n4947  621e331067b776a24085dd3f 2022-01-17  10:05:00         NEUTRAL\n\n[4948 rows x 4 columns]",
      "text/html": "<div>\n<style scoped>\n    .dataframe tbody tr th:only-of-type {\n        vertical-align: middle;\n    }\n\n    .dataframe tbody tr th {\n        vertical-align: top;\n    }\n\n    .dataframe thead th {\n        text-align: right;\n    }\n</style>\n<table border=\"1\" class=\"dataframe\">\n  <thead>\n    <tr style=\"text-align: right;\">\n      <th></th>\n      <th>user_id</th>\n      <th>date</th>\n      <th>time</th>\n      <th>data.MOOD</th>\n    </tr>\n  </thead>\n  <tbody>\n    <tr>\n      <th>0</th>\n      <td>621e2f3967b776a240c654db</td>\n      <td>2021-05-24</td>\n      <td>20:16:00</td>\n      <td>RESTED/RELAXED</td>\n    </tr>\n    <tr>\n      <th>1</th>\n      <td>621e362467b776a2404ad513</td>\n      <td>2021-05-24</td>\n      <td>10:31:00</td>\n      <td>HAPPY</td>\n    </tr>\n    <tr>\n      <th>2</th>\n      <td>621e32d967b776a240627414</td>\n      <td>2021-05-24</td>\n      <td>20:16:00</td>\n      <td>RESTED/RELAXED</td>\n    </tr>\n    <tr>\n      <th>3</th>\n      <td>621e2f7a67b776a240f14425</td>\n      <td>2021-05-24</td>\n      <td>21:55:00</td>\n      <td>RESTED/RELAXED</td>\n    </tr>\n    <tr>\n      <th>4</th>\n      <td>621e34ca67b776a240be3b69</td>\n      <td>2021-05-24</td>\n      <td>20:36:00</td>\n      <td>TIRED</td>\n    </tr>\n    <tr>\n      <th>...</th>\n      <td>...</td>\n      <td>...</td>\n      <td>...</td>\n      <td>...</td>\n    </tr>\n    <tr>\n      <th>4943</th>\n      <td>621e2eaf67b776a2406b14ac</td>\n      <td>2022-01-16</td>\n      <td>18:38:00</td>\n      <td>SAD</td>\n    </tr>\n    <tr>\n      <th>4944</th>\n      <td>621e346f67b776a24081744f</td>\n      <td>2022-01-17</td>\n      <td>11:00:00</td>\n      <td>TENSE/ANXIOUS</td>\n    </tr>\n    <tr>\n      <th>4945</th>\n      <td>621e30f467b776a240f22944</td>\n      <td>2022-01-17</td>\n      <td>10:19:00</td>\n      <td>NEUTRAL</td>\n    </tr>\n    <tr>\n      <th>4946</th>\n      <td>621e2f9167b776a240011ccb</td>\n      <td>2022-01-17</td>\n      <td>11:09:00</td>\n      <td>TENSE/ANXIOUS</td>\n    </tr>\n    <tr>\n      <th>4947</th>\n      <td>621e331067b776a24085dd3f</td>\n      <td>2022-01-17</td>\n      <td>10:05:00</td>\n      <td>NEUTRAL</td>\n    </tr>\n  </tbody>\n</table>\n<p>4948 rows × 4 columns</p>\n</div>"
     },
     "execution_count": 24,
     "metadata": {},
     "output_type": "execute_result"
    }
   ],
   "source": [
    "# Selecting experiment dates\n",
    "df1 = df[(df['date'] >= \"2021-05-24\") & (df['date'] <= \"2021-07-26\")] #Round1\n",
    "df2 = df[(df['date'] >= \"2021-11-15\") & (df['date'] <= \"2022-01-17\")] #Round2\n",
    "df=pd.concat([df1, df2], ignore_index=True)\n",
    "df"
   ],
   "metadata": {
    "collapsed": false
   }
  },
  {
   "cell_type": "code",
   "execution_count": 25,
   "outputs": [
    {
     "data": {
      "text/plain": "      ALERT  HAPPY  NEUTRAL  RESTED/RELAXED  SAD  TENSE/ANXIOUS  TIRED\n0         0      0        0               1    0              0      0\n1         0      1        0               0    0              0      0\n2         0      0        0               1    0              0      0\n3         0      0        0               1    0              0      0\n4         0      0        0               0    0              0      1\n...     ...    ...      ...             ...  ...            ...    ...\n4943      0      0        0               0    1              0      0\n4944      0      0        0               0    0              1      0\n4945      0      0        1               0    0              0      0\n4946      0      0        0               0    0              1      0\n4947      0      0        1               0    0              0      0\n\n[4948 rows x 7 columns]",
      "text/html": "<div>\n<style scoped>\n    .dataframe tbody tr th:only-of-type {\n        vertical-align: middle;\n    }\n\n    .dataframe tbody tr th {\n        vertical-align: top;\n    }\n\n    .dataframe thead th {\n        text-align: right;\n    }\n</style>\n<table border=\"1\" class=\"dataframe\">\n  <thead>\n    <tr style=\"text-align: right;\">\n      <th></th>\n      <th>ALERT</th>\n      <th>HAPPY</th>\n      <th>NEUTRAL</th>\n      <th>RESTED/RELAXED</th>\n      <th>SAD</th>\n      <th>TENSE/ANXIOUS</th>\n      <th>TIRED</th>\n    </tr>\n  </thead>\n  <tbody>\n    <tr>\n      <th>0</th>\n      <td>0</td>\n      <td>0</td>\n      <td>0</td>\n      <td>1</td>\n      <td>0</td>\n      <td>0</td>\n      <td>0</td>\n    </tr>\n    <tr>\n      <th>1</th>\n      <td>0</td>\n      <td>1</td>\n      <td>0</td>\n      <td>0</td>\n      <td>0</td>\n      <td>0</td>\n      <td>0</td>\n    </tr>\n    <tr>\n      <th>2</th>\n      <td>0</td>\n      <td>0</td>\n      <td>0</td>\n      <td>1</td>\n      <td>0</td>\n      <td>0</td>\n      <td>0</td>\n    </tr>\n    <tr>\n      <th>3</th>\n      <td>0</td>\n      <td>0</td>\n      <td>0</td>\n      <td>1</td>\n      <td>0</td>\n      <td>0</td>\n      <td>0</td>\n    </tr>\n    <tr>\n      <th>4</th>\n      <td>0</td>\n      <td>0</td>\n      <td>0</td>\n      <td>0</td>\n      <td>0</td>\n      <td>0</td>\n      <td>1</td>\n    </tr>\n    <tr>\n      <th>...</th>\n      <td>...</td>\n      <td>...</td>\n      <td>...</td>\n      <td>...</td>\n      <td>...</td>\n      <td>...</td>\n      <td>...</td>\n    </tr>\n    <tr>\n      <th>4943</th>\n      <td>0</td>\n      <td>0</td>\n      <td>0</td>\n      <td>0</td>\n      <td>1</td>\n      <td>0</td>\n      <td>0</td>\n    </tr>\n    <tr>\n      <th>4944</th>\n      <td>0</td>\n      <td>0</td>\n      <td>0</td>\n      <td>0</td>\n      <td>0</td>\n      <td>1</td>\n      <td>0</td>\n    </tr>\n    <tr>\n      <th>4945</th>\n      <td>0</td>\n      <td>0</td>\n      <td>1</td>\n      <td>0</td>\n      <td>0</td>\n      <td>0</td>\n      <td>0</td>\n    </tr>\n    <tr>\n      <th>4946</th>\n      <td>0</td>\n      <td>0</td>\n      <td>0</td>\n      <td>0</td>\n      <td>0</td>\n      <td>1</td>\n      <td>0</td>\n    </tr>\n    <tr>\n      <th>4947</th>\n      <td>0</td>\n      <td>0</td>\n      <td>1</td>\n      <td>0</td>\n      <td>0</td>\n      <td>0</td>\n      <td>0</td>\n    </tr>\n  </tbody>\n</table>\n<p>4948 rows × 7 columns</p>\n</div>"
     },
     "execution_count": 25,
     "metadata": {},
     "output_type": "execute_result"
    }
   ],
   "source": [
    "sema = pd.get_dummies(df['data.MOOD'])\n",
    "sema"
   ],
   "metadata": {
    "collapsed": false
   }
  },
  {
   "cell_type": "code",
   "execution_count": 26,
   "outputs": [],
   "source": [
    "# combine one-hot encoding with actual df\n",
    "sema_stress = pd.concat([df, sema], axis=1)\n",
    "sema_stress.drop(['data.MOOD'], axis=1, inplace=True)\n",
    "sema_stress.drop(['time'], axis=1, inplace=True)"
   ],
   "metadata": {
    "collapsed": false
   }
  },
  {
   "cell_type": "code",
   "execution_count": 27,
   "outputs": [
    {
     "data": {
      "text/plain": "                       user_id       date  ALERT  HAPPY  NEUTRAL  \\\n0     621e2f3967b776a240c654db 2021-05-24      0      0        0   \n1     621e362467b776a2404ad513 2021-05-24      0      1        0   \n2     621e32d967b776a240627414 2021-05-24      0      0        0   \n3     621e2f7a67b776a240f14425 2021-05-24      0      0        0   \n4     621e34ca67b776a240be3b69 2021-05-24      0      0        0   \n...                        ...        ...    ...    ...      ...   \n4943  621e2eaf67b776a2406b14ac 2022-01-16      0      0        0   \n4944  621e346f67b776a24081744f 2022-01-17      0      0        0   \n4945  621e30f467b776a240f22944 2022-01-17      0      0        1   \n4946  621e2f9167b776a240011ccb 2022-01-17      0      0        0   \n4947  621e331067b776a24085dd3f 2022-01-17      0      0        1   \n\n      RESTED/RELAXED  SAD  TENSE/ANXIOUS  TIRED  \n0                  1    0              0      0  \n1                  0    0              0      0  \n2                  1    0              0      0  \n3                  1    0              0      0  \n4                  0    0              0      1  \n...              ...  ...            ...    ...  \n4943               0    1              0      0  \n4944               0    0              1      0  \n4945               0    0              0      0  \n4946               0    0              1      0  \n4947               0    0              0      0  \n\n[4948 rows x 9 columns]",
      "text/html": "<div>\n<style scoped>\n    .dataframe tbody tr th:only-of-type {\n        vertical-align: middle;\n    }\n\n    .dataframe tbody tr th {\n        vertical-align: top;\n    }\n\n    .dataframe thead th {\n        text-align: right;\n    }\n</style>\n<table border=\"1\" class=\"dataframe\">\n  <thead>\n    <tr style=\"text-align: right;\">\n      <th></th>\n      <th>user_id</th>\n      <th>date</th>\n      <th>ALERT</th>\n      <th>HAPPY</th>\n      <th>NEUTRAL</th>\n      <th>RESTED/RELAXED</th>\n      <th>SAD</th>\n      <th>TENSE/ANXIOUS</th>\n      <th>TIRED</th>\n    </tr>\n  </thead>\n  <tbody>\n    <tr>\n      <th>0</th>\n      <td>621e2f3967b776a240c654db</td>\n      <td>2021-05-24</td>\n      <td>0</td>\n      <td>0</td>\n      <td>0</td>\n      <td>1</td>\n      <td>0</td>\n      <td>0</td>\n      <td>0</td>\n    </tr>\n    <tr>\n      <th>1</th>\n      <td>621e362467b776a2404ad513</td>\n      <td>2021-05-24</td>\n      <td>0</td>\n      <td>1</td>\n      <td>0</td>\n      <td>0</td>\n      <td>0</td>\n      <td>0</td>\n      <td>0</td>\n    </tr>\n    <tr>\n      <th>2</th>\n      <td>621e32d967b776a240627414</td>\n      <td>2021-05-24</td>\n      <td>0</td>\n      <td>0</td>\n      <td>0</td>\n      <td>1</td>\n      <td>0</td>\n      <td>0</td>\n      <td>0</td>\n    </tr>\n    <tr>\n      <th>3</th>\n      <td>621e2f7a67b776a240f14425</td>\n      <td>2021-05-24</td>\n      <td>0</td>\n      <td>0</td>\n      <td>0</td>\n      <td>1</td>\n      <td>0</td>\n      <td>0</td>\n      <td>0</td>\n    </tr>\n    <tr>\n      <th>4</th>\n      <td>621e34ca67b776a240be3b69</td>\n      <td>2021-05-24</td>\n      <td>0</td>\n      <td>0</td>\n      <td>0</td>\n      <td>0</td>\n      <td>0</td>\n      <td>0</td>\n      <td>1</td>\n    </tr>\n    <tr>\n      <th>...</th>\n      <td>...</td>\n      <td>...</td>\n      <td>...</td>\n      <td>...</td>\n      <td>...</td>\n      <td>...</td>\n      <td>...</td>\n      <td>...</td>\n      <td>...</td>\n    </tr>\n    <tr>\n      <th>4943</th>\n      <td>621e2eaf67b776a2406b14ac</td>\n      <td>2022-01-16</td>\n      <td>0</td>\n      <td>0</td>\n      <td>0</td>\n      <td>0</td>\n      <td>1</td>\n      <td>0</td>\n      <td>0</td>\n    </tr>\n    <tr>\n      <th>4944</th>\n      <td>621e346f67b776a24081744f</td>\n      <td>2022-01-17</td>\n      <td>0</td>\n      <td>0</td>\n      <td>0</td>\n      <td>0</td>\n      <td>0</td>\n      <td>1</td>\n      <td>0</td>\n    </tr>\n    <tr>\n      <th>4945</th>\n      <td>621e30f467b776a240f22944</td>\n      <td>2022-01-17</td>\n      <td>0</td>\n      <td>0</td>\n      <td>1</td>\n      <td>0</td>\n      <td>0</td>\n      <td>0</td>\n      <td>0</td>\n    </tr>\n    <tr>\n      <th>4946</th>\n      <td>621e2f9167b776a240011ccb</td>\n      <td>2022-01-17</td>\n      <td>0</td>\n      <td>0</td>\n      <td>0</td>\n      <td>0</td>\n      <td>0</td>\n      <td>1</td>\n      <td>0</td>\n    </tr>\n    <tr>\n      <th>4947</th>\n      <td>621e331067b776a24085dd3f</td>\n      <td>2022-01-17</td>\n      <td>0</td>\n      <td>0</td>\n      <td>1</td>\n      <td>0</td>\n      <td>0</td>\n      <td>0</td>\n      <td>0</td>\n    </tr>\n  </tbody>\n</table>\n<p>4948 rows × 9 columns</p>\n</div>"
     },
     "execution_count": 27,
     "metadata": {},
     "output_type": "execute_result"
    }
   ],
   "source": [
    "sema_stress"
   ],
   "metadata": {
    "collapsed": false
   }
  },
  {
   "cell_type": "code",
   "execution_count": 28,
   "outputs": [],
   "source": [
    "sema_stress.to_pickle('data/sema_stress_read_from_the_base_experiment_dates.pkl')"
   ],
   "metadata": {
    "collapsed": false
   }
  },
  {
   "cell_type": "code",
   "execution_count": 29,
   "outputs": [
    {
     "data": {
      "text/plain": "['user_id',\n 'date',\n 'ALERT',\n 'HAPPY',\n 'NEUTRAL',\n 'RESTED/RELAXED',\n 'SAD',\n 'TENSE/ANXIOUS',\n 'TIRED']"
     },
     "execution_count": 29,
     "metadata": {},
     "output_type": "execute_result"
    }
   ],
   "source": [
    "list(sema_stress)"
   ],
   "metadata": {
    "collapsed": false
   }
  }
 ],
 "metadata": {
  "kernelspec": {
   "display_name": "Python 3",
   "language": "python",
   "name": "python3"
  },
  "language_info": {
   "codemirror_mode": {
    "name": "ipython",
    "version": 2
   },
   "file_extension": ".py",
   "mimetype": "text/x-python",
   "name": "python",
   "nbconvert_exporter": "python",
   "pygments_lexer": "ipython2",
   "version": "2.7.6"
  }
 },
 "nbformat": 4,
 "nbformat_minor": 0
}
