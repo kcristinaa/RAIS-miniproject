{
 "cells": [
  {
   "cell_type": "code",
   "execution_count": 1,
   "metadata": {
    "collapsed": true,
    "pycharm": {
     "name": "#%%\n"
    }
   },
   "outputs": [],
   "source": [
    "import pickle\n",
    "import warnings\n",
    "import numpy as np\n",
    "import pandas as pd\n",
    "from datetime import datetime\n",
    "import preprocessing_functions\n",
    "warnings.filterwarnings(\"ignore\")"
   ]
  },
  {
   "cell_type": "markdown",
   "source": [
    "Create the baseline dataframe. It contains the following pre-processing actions:\n",
    "1. Selecting experiment days\n",
    "2. Drop duplicates\n",
    "3. Type conversion\n",
    "4. One-hot encoding"
   ],
   "metadata": {
    "collapsed": false,
    "pycharm": {
     "name": "#%% md\n"
    }
   }
  },
  {
   "cell_type": "code",
   "execution_count": 3,
   "outputs": [
    {
     "data": {
      "text/plain": "                            id       date  nightly_temperature  nremhr  \\\n0     621e2e8e67b776a24055b564 2021-05-24            34.137687  57.432   \n1     621e301e67b776a240608a72 2021-05-24            34.710232     NaN   \n3     621e301367b776a24057738e 2021-05-24                  NaN     NaN   \n4     621e360b67b776a24039709f 2021-05-24                  NaN  68.321   \n5     621e2fce67b776a240279baa 2021-05-24            34.783747  83.170   \n...                        ...        ...                  ...     ...   \n4959  621e345267b776a240691064 2022-01-17                  NaN     NaN   \n4960  621e310d67b776a24003096d 2022-01-17                  NaN     NaN   \n4961  621e324e67b776a2400191cb 2022-01-17            33.104768     NaN   \n4962  621e30f467b776a240f22944 2022-01-17            34.352490     NaN   \n4963  621e2f1b67b776a240b3d87c 2022-01-17            34.404580  65.782   \n\n       rmssd  spo2  full_sleep_breathing_rate  stress_score  \\\n0     89.603   NaN                       14.8          78.0   \n1        NaN   NaN                        NaN          74.0   \n3        NaN   NaN                        NaN           NaN   \n4     31.413   NaN                       15.4          69.0   \n5     15.941  96.6                       15.2          70.0   \n...      ...   ...                        ...           ...   \n4959     NaN   NaN                        NaN           NaN   \n4960     NaN   NaN                        NaN           NaN   \n4961     NaN   NaN                        NaN           NaN   \n4962     NaN   NaN                       13.4           NaN   \n4963  23.793   NaN                       16.0          72.0   \n\n      sleep_points_percentage  exertion_points_percentage  ...  Martial Arts  \\\n0                    0.833333                       0.675  ...           0.0   \n1                    0.700000                       0.700  ...           NaN   \n3                         NaN                         NaN  ...           0.0   \n4                    0.633333                       0.650  ...           NaN   \n5                    0.733333                       0.725  ...           NaN   \n...                       ...                         ...  ...           ...   \n4959                      NaN                         NaN  ...           NaN   \n4960                      NaN                         NaN  ...           NaN   \n4961                      NaN                         NaN  ...           NaN   \n4962                      NaN                         NaN  ...           NaN   \n4963                 0.766667                       0.725  ...           NaN   \n\n      Run  Spinning  Sport  Swim  Treadmill  Walk  Weights  Workout  \\\n0     0.0       0.0    0.0   0.0        0.0   1.0      0.0      0.0   \n1     NaN       NaN    NaN   NaN        NaN   NaN      NaN      NaN   \n3     1.0       0.0    0.0   0.0        0.0   0.0      0.0      0.0   \n4     NaN       NaN    NaN   NaN        NaN   NaN      NaN      NaN   \n5     NaN       NaN    NaN   NaN        NaN   NaN      NaN      NaN   \n...   ...       ...    ...   ...        ...   ...      ...      ...   \n4959  NaN       NaN    NaN   NaN        NaN   NaN      NaN      NaN   \n4960  NaN       NaN    NaN   NaN        NaN   NaN      NaN      NaN   \n4961  NaN       NaN    NaN   NaN        NaN   NaN      NaN      NaN   \n4962  NaN       NaN    NaN   NaN        NaN   NaN      NaN      NaN   \n4963  NaN       NaN    NaN   NaN        NaN   NaN      NaN      NaN   \n\n      Yoga/Pilates  \n0              0.0  \n1              NaN  \n3              0.0  \n4              NaN  \n5              NaN  \n...            ...  \n4959           NaN  \n4960           NaN  \n4961           NaN  \n4962           NaN  \n4963           NaN  \n\n[4907 rows x 64 columns]",
      "text/html": "<div>\n<style scoped>\n    .dataframe tbody tr th:only-of-type {\n        vertical-align: middle;\n    }\n\n    .dataframe tbody tr th {\n        vertical-align: top;\n    }\n\n    .dataframe thead th {\n        text-align: right;\n    }\n</style>\n<table border=\"1\" class=\"dataframe\">\n  <thead>\n    <tr style=\"text-align: right;\">\n      <th></th>\n      <th>id</th>\n      <th>date</th>\n      <th>nightly_temperature</th>\n      <th>nremhr</th>\n      <th>rmssd</th>\n      <th>spo2</th>\n      <th>full_sleep_breathing_rate</th>\n      <th>stress_score</th>\n      <th>sleep_points_percentage</th>\n      <th>exertion_points_percentage</th>\n      <th>...</th>\n      <th>Martial Arts</th>\n      <th>Run</th>\n      <th>Spinning</th>\n      <th>Sport</th>\n      <th>Swim</th>\n      <th>Treadmill</th>\n      <th>Walk</th>\n      <th>Weights</th>\n      <th>Workout</th>\n      <th>Yoga/Pilates</th>\n    </tr>\n  </thead>\n  <tbody>\n    <tr>\n      <th>0</th>\n      <td>621e2e8e67b776a24055b564</td>\n      <td>2021-05-24</td>\n      <td>34.137687</td>\n      <td>57.432</td>\n      <td>89.603</td>\n      <td>NaN</td>\n      <td>14.8</td>\n      <td>78.0</td>\n      <td>0.833333</td>\n      <td>0.675</td>\n      <td>...</td>\n      <td>0.0</td>\n      <td>0.0</td>\n      <td>0.0</td>\n      <td>0.0</td>\n      <td>0.0</td>\n      <td>0.0</td>\n      <td>1.0</td>\n      <td>0.0</td>\n      <td>0.0</td>\n      <td>0.0</td>\n    </tr>\n    <tr>\n      <th>1</th>\n      <td>621e301e67b776a240608a72</td>\n      <td>2021-05-24</td>\n      <td>34.710232</td>\n      <td>NaN</td>\n      <td>NaN</td>\n      <td>NaN</td>\n      <td>NaN</td>\n      <td>74.0</td>\n      <td>0.700000</td>\n      <td>0.700</td>\n      <td>...</td>\n      <td>NaN</td>\n      <td>NaN</td>\n      <td>NaN</td>\n      <td>NaN</td>\n      <td>NaN</td>\n      <td>NaN</td>\n      <td>NaN</td>\n      <td>NaN</td>\n      <td>NaN</td>\n      <td>NaN</td>\n    </tr>\n    <tr>\n      <th>3</th>\n      <td>621e301367b776a24057738e</td>\n      <td>2021-05-24</td>\n      <td>NaN</td>\n      <td>NaN</td>\n      <td>NaN</td>\n      <td>NaN</td>\n      <td>NaN</td>\n      <td>NaN</td>\n      <td>NaN</td>\n      <td>NaN</td>\n      <td>...</td>\n      <td>0.0</td>\n      <td>1.0</td>\n      <td>0.0</td>\n      <td>0.0</td>\n      <td>0.0</td>\n      <td>0.0</td>\n      <td>0.0</td>\n      <td>0.0</td>\n      <td>0.0</td>\n      <td>0.0</td>\n    </tr>\n    <tr>\n      <th>4</th>\n      <td>621e360b67b776a24039709f</td>\n      <td>2021-05-24</td>\n      <td>NaN</td>\n      <td>68.321</td>\n      <td>31.413</td>\n      <td>NaN</td>\n      <td>15.4</td>\n      <td>69.0</td>\n      <td>0.633333</td>\n      <td>0.650</td>\n      <td>...</td>\n      <td>NaN</td>\n      <td>NaN</td>\n      <td>NaN</td>\n      <td>NaN</td>\n      <td>NaN</td>\n      <td>NaN</td>\n      <td>NaN</td>\n      <td>NaN</td>\n      <td>NaN</td>\n      <td>NaN</td>\n    </tr>\n    <tr>\n      <th>5</th>\n      <td>621e2fce67b776a240279baa</td>\n      <td>2021-05-24</td>\n      <td>34.783747</td>\n      <td>83.170</td>\n      <td>15.941</td>\n      <td>96.6</td>\n      <td>15.2</td>\n      <td>70.0</td>\n      <td>0.733333</td>\n      <td>0.725</td>\n      <td>...</td>\n      <td>NaN</td>\n      <td>NaN</td>\n      <td>NaN</td>\n      <td>NaN</td>\n      <td>NaN</td>\n      <td>NaN</td>\n      <td>NaN</td>\n      <td>NaN</td>\n      <td>NaN</td>\n      <td>NaN</td>\n    </tr>\n    <tr>\n      <th>...</th>\n      <td>...</td>\n      <td>...</td>\n      <td>...</td>\n      <td>...</td>\n      <td>...</td>\n      <td>...</td>\n      <td>...</td>\n      <td>...</td>\n      <td>...</td>\n      <td>...</td>\n      <td>...</td>\n      <td>...</td>\n      <td>...</td>\n      <td>...</td>\n      <td>...</td>\n      <td>...</td>\n      <td>...</td>\n      <td>...</td>\n      <td>...</td>\n      <td>...</td>\n      <td>...</td>\n    </tr>\n    <tr>\n      <th>4959</th>\n      <td>621e345267b776a240691064</td>\n      <td>2022-01-17</td>\n      <td>NaN</td>\n      <td>NaN</td>\n      <td>NaN</td>\n      <td>NaN</td>\n      <td>NaN</td>\n      <td>NaN</td>\n      <td>NaN</td>\n      <td>NaN</td>\n      <td>...</td>\n      <td>NaN</td>\n      <td>NaN</td>\n      <td>NaN</td>\n      <td>NaN</td>\n      <td>NaN</td>\n      <td>NaN</td>\n      <td>NaN</td>\n      <td>NaN</td>\n      <td>NaN</td>\n      <td>NaN</td>\n    </tr>\n    <tr>\n      <th>4960</th>\n      <td>621e310d67b776a24003096d</td>\n      <td>2022-01-17</td>\n      <td>NaN</td>\n      <td>NaN</td>\n      <td>NaN</td>\n      <td>NaN</td>\n      <td>NaN</td>\n      <td>NaN</td>\n      <td>NaN</td>\n      <td>NaN</td>\n      <td>...</td>\n      <td>NaN</td>\n      <td>NaN</td>\n      <td>NaN</td>\n      <td>NaN</td>\n      <td>NaN</td>\n      <td>NaN</td>\n      <td>NaN</td>\n      <td>NaN</td>\n      <td>NaN</td>\n      <td>NaN</td>\n    </tr>\n    <tr>\n      <th>4961</th>\n      <td>621e324e67b776a2400191cb</td>\n      <td>2022-01-17</td>\n      <td>33.104768</td>\n      <td>NaN</td>\n      <td>NaN</td>\n      <td>NaN</td>\n      <td>NaN</td>\n      <td>NaN</td>\n      <td>NaN</td>\n      <td>NaN</td>\n      <td>...</td>\n      <td>NaN</td>\n      <td>NaN</td>\n      <td>NaN</td>\n      <td>NaN</td>\n      <td>NaN</td>\n      <td>NaN</td>\n      <td>NaN</td>\n      <td>NaN</td>\n      <td>NaN</td>\n      <td>NaN</td>\n    </tr>\n    <tr>\n      <th>4962</th>\n      <td>621e30f467b776a240f22944</td>\n      <td>2022-01-17</td>\n      <td>34.352490</td>\n      <td>NaN</td>\n      <td>NaN</td>\n      <td>NaN</td>\n      <td>13.4</td>\n      <td>NaN</td>\n      <td>NaN</td>\n      <td>NaN</td>\n      <td>...</td>\n      <td>NaN</td>\n      <td>NaN</td>\n      <td>NaN</td>\n      <td>NaN</td>\n      <td>NaN</td>\n      <td>NaN</td>\n      <td>NaN</td>\n      <td>NaN</td>\n      <td>NaN</td>\n      <td>NaN</td>\n    </tr>\n    <tr>\n      <th>4963</th>\n      <td>621e2f1b67b776a240b3d87c</td>\n      <td>2022-01-17</td>\n      <td>34.404580</td>\n      <td>65.782</td>\n      <td>23.793</td>\n      <td>NaN</td>\n      <td>16.0</td>\n      <td>72.0</td>\n      <td>0.766667</td>\n      <td>0.725</td>\n      <td>...</td>\n      <td>NaN</td>\n      <td>NaN</td>\n      <td>NaN</td>\n      <td>NaN</td>\n      <td>NaN</td>\n      <td>NaN</td>\n      <td>NaN</td>\n      <td>NaN</td>\n      <td>NaN</td>\n      <td>NaN</td>\n    </tr>\n  </tbody>\n</table>\n<p>4907 rows × 64 columns</p>\n</div>"
     },
     "execution_count": 3,
     "metadata": {},
     "output_type": "execute_result"
    }
   ],
   "source": [
    "fitbit = pd.read_pickle('data/daily_fitbit_df_unprocessed.pkl')\n",
    "fitbit = preprocessing_functions.fitbit_basic_preprocessing(fitbit)\n",
    "fitbit = preprocessing_functions.fitbit_one_hot_encoding(fitbit)\n",
    "fitbit"
   ],
   "metadata": {
    "collapsed": false,
    "pycharm": {
     "name": "#%%\n"
    }
   }
  },
  {
   "cell_type": "code",
   "execution_count": 4,
   "outputs": [],
   "source": [
    "fitbit.to_pickle('./data/fitbit_to_baseline_model.pkl')"
   ],
   "metadata": {
    "collapsed": false,
    "pycharm": {
     "name": "#%%\n"
    }
   }
  },
  {
   "cell_type": "markdown",
   "source": [
    "Continue with the following pre-processing actions after merging the fitbit dataframe with a survey dataframe:\n",
    "1. Drop highly NaN columns\n",
    "2. Drop duplicates\n",
    "3. Remove id\n",
    "4. Extract day-related features\n",
    "5. Replace outliers\n",
    "6. Replace NaN values"
   ],
   "metadata": {
    "collapsed": false,
    "pycharm": {
     "name": "#%% md\n"
    }
   }
  },
  {
   "cell_type": "markdown",
   "source": [
    "Fitbit merged TTM preprocessing"
   ],
   "metadata": {
    "collapsed": false,
    "pycharm": {
     "name": "#%% md\n"
    }
   }
  },
  {
   "cell_type": "code",
   "execution_count": null,
   "outputs": [],
   "source": [
    "fitbit_ttm = pd.read_pickle('data/fitbit_ttm_to_model.pkl')\n",
    "fitbit_ttm_processed = preprocessing_functions.post_preprocessing(fitbit_ttm, False)\n",
    "fitbit_ttm_processed.to_pickle('./data/fitbit_ttm_processed.pkl')\n",
    "fitbit_ttm_processed"
   ],
   "metadata": {
    "collapsed": false,
    "pycharm": {
     "name": "#%%\n",
     "is_executing": true
    }
   }
  },
  {
   "cell_type": "markdown",
   "source": [
    "Fitbit merged BREQ preprocessing"
   ],
   "metadata": {
    "collapsed": false,
    "pycharm": {
     "name": "#%% md\n"
    }
   }
  },
  {
   "cell_type": "code",
   "execution_count": null,
   "outputs": [],
   "source": [
    "fitbit_breq = pd.read_pickle('data/fitbit_breq_to_model.pkl')\n",
    "fitbit_breq_processed = preprocessing_functions.post_preprocessing(fitbit_breq, False)\n",
    "fitbit_breq_processed.to_pickle('./data/fitbit_breq_processed.pkl')\n",
    "fitbit_breq_processed"
   ],
   "metadata": {
    "collapsed": false,
    "pycharm": {
     "name": "#%%\n",
     "is_executing": true
    }
   }
  },
  {
   "cell_type": "markdown",
   "source": [
    "Fitbit merged personality preprocessing"
   ],
   "metadata": {
    "collapsed": false,
    "pycharm": {
     "name": "#%% md\n"
    }
   }
  },
  {
   "cell_type": "code",
   "execution_count": null,
   "outputs": [],
   "source": [
    "fitbit_personality = pd.read_pickle('data/fitbit_personality_to_model.pkl')\n",
    "fitbit_personality_processed = preprocessing_functions.post_preprocessing(fitbit_personality, False)\n",
    "fitbit_personality_processed.to_pickle('./data/fitbit_personality_processed.pkl')\n",
    "fitbit_personality_processed"
   ],
   "metadata": {
    "collapsed": false,
    "pycharm": {
     "name": "#%%\n",
     "is_executing": true
    }
   }
  },
  {
   "cell_type": "markdown",
   "source": [
    "Fitbit merged panas preprocessing"
   ],
   "metadata": {
    "collapsed": false,
    "pycharm": {
     "name": "#%% md\n"
    }
   }
  },
  {
   "cell_type": "code",
   "execution_count": null,
   "outputs": [],
   "source": [
    "fitbit_panas = pd.read_pickle('data/fitbit_panas_to_model.pkl')\n",
    "fitbit_panas_processed = preprocessing_functions.post_preprocessing(fitbit_panas, False)\n",
    "fitbit_panas_processed.to_pickle('./data/fitbit_panas_processed.pkl')\n",
    "fitbit_panas_processed"
   ],
   "metadata": {
    "collapsed": false,
    "pycharm": {
     "name": "#%%\n",
     "is_executing": true
    }
   }
  },
  {
   "cell_type": "markdown",
   "source": [
    "Fitbit merged stai preprocessing"
   ],
   "metadata": {
    "collapsed": false,
    "pycharm": {
     "name": "#%% md\n"
    }
   }
  },
  {
   "cell_type": "code",
   "execution_count": null,
   "outputs": [],
   "source": [
    "fitbit_stai = pd.read_pickle('data/fitbit_stai_to_model.pkl')\n",
    "fitbit_stai_processed = preprocessing_functions.post_preprocessing(fitbit_stai, False)\n",
    "fitbit_stai_processed.to_pickle('./data/fitbit_stai_processed.pkl')\n",
    "fitbit_stai_processed"
   ],
   "metadata": {
    "collapsed": false,
    "pycharm": {
     "name": "#%%\n",
     "is_executing": true
    }
   }
  },
  {
   "cell_type": "markdown",
   "source": [
    "Semas"
   ],
   "metadata": {
    "collapsed": false,
    "pycharm": {
     "name": "#%% md\n"
    }
   }
  },
  {
   "cell_type": "code",
   "execution_count": 6,
   "outputs": [
    {
     "data": {
      "text/plain": "                            id       date  negative_feelings  \\\n0     621e2f3967b776a240c654db 2021-05-24                  0   \n1     621e362467b776a2404ad513 2021-05-24                  0   \n2     621e32d967b776a240627414 2021-05-24                  0   \n3     621e2f7a67b776a240f14425 2021-05-24                  0   \n4     621e34ca67b776a240be3b69 2021-05-24                  1   \n...                        ...        ...                ...   \n4943  621e2eaf67b776a2406b14ac 2022-01-16                  1   \n4944  621e346f67b776a24081744f 2022-01-17                  1   \n4945  621e30f467b776a240f22944 2022-01-17                  0   \n4946  621e2f9167b776a240011ccb 2022-01-17                  1   \n4947  621e331067b776a24085dd3f 2022-01-17                  0   \n\n      positive_feelings  \n0                     1  \n1                     1  \n2                     1  \n3                     1  \n4                     0  \n...                 ...  \n4943                  0  \n4944                  0  \n4945                  1  \n4946                  0  \n4947                  1  \n\n[4948 rows x 4 columns]",
      "text/html": "<div>\n<style scoped>\n    .dataframe tbody tr th:only-of-type {\n        vertical-align: middle;\n    }\n\n    .dataframe tbody tr th {\n        vertical-align: top;\n    }\n\n    .dataframe thead th {\n        text-align: right;\n    }\n</style>\n<table border=\"1\" class=\"dataframe\">\n  <thead>\n    <tr style=\"text-align: right;\">\n      <th></th>\n      <th>id</th>\n      <th>date</th>\n      <th>negative_feelings</th>\n      <th>positive_feelings</th>\n    </tr>\n  </thead>\n  <tbody>\n    <tr>\n      <th>0</th>\n      <td>621e2f3967b776a240c654db</td>\n      <td>2021-05-24</td>\n      <td>0</td>\n      <td>1</td>\n    </tr>\n    <tr>\n      <th>1</th>\n      <td>621e362467b776a2404ad513</td>\n      <td>2021-05-24</td>\n      <td>0</td>\n      <td>1</td>\n    </tr>\n    <tr>\n      <th>2</th>\n      <td>621e32d967b776a240627414</td>\n      <td>2021-05-24</td>\n      <td>0</td>\n      <td>1</td>\n    </tr>\n    <tr>\n      <th>3</th>\n      <td>621e2f7a67b776a240f14425</td>\n      <td>2021-05-24</td>\n      <td>0</td>\n      <td>1</td>\n    </tr>\n    <tr>\n      <th>4</th>\n      <td>621e34ca67b776a240be3b69</td>\n      <td>2021-05-24</td>\n      <td>1</td>\n      <td>0</td>\n    </tr>\n    <tr>\n      <th>...</th>\n      <td>...</td>\n      <td>...</td>\n      <td>...</td>\n      <td>...</td>\n    </tr>\n    <tr>\n      <th>4943</th>\n      <td>621e2eaf67b776a2406b14ac</td>\n      <td>2022-01-16</td>\n      <td>1</td>\n      <td>0</td>\n    </tr>\n    <tr>\n      <th>4944</th>\n      <td>621e346f67b776a24081744f</td>\n      <td>2022-01-17</td>\n      <td>1</td>\n      <td>0</td>\n    </tr>\n    <tr>\n      <th>4945</th>\n      <td>621e30f467b776a240f22944</td>\n      <td>2022-01-17</td>\n      <td>0</td>\n      <td>1</td>\n    </tr>\n    <tr>\n      <th>4946</th>\n      <td>621e2f9167b776a240011ccb</td>\n      <td>2022-01-17</td>\n      <td>1</td>\n      <td>0</td>\n    </tr>\n    <tr>\n      <th>4947</th>\n      <td>621e331067b776a24085dd3f</td>\n      <td>2022-01-17</td>\n      <td>0</td>\n      <td>1</td>\n    </tr>\n  </tbody>\n</table>\n<p>4948 rows × 4 columns</p>\n</div>"
     },
     "execution_count": 6,
     "metadata": {},
     "output_type": "execute_result"
    }
   ],
   "source": [
    "semas = pd.read_pickle('data/sema_to_baseline_model.pkl')\n",
    "semas"
   ],
   "metadata": {
    "collapsed": false,
    "pycharm": {
     "name": "#%%\n"
    }
   }
  },
  {
   "cell_type": "code",
   "execution_count": 7,
   "outputs": [
    {
     "data": {
      "text/plain": "                            id       date  nightly_temperature  nremhr  \\\n0     621e2e8e67b776a24055b564 2021-05-24            34.137687  57.432   \n1     621e301e67b776a240608a72 2021-05-24            34.710232     NaN   \n3     621e301367b776a24057738e 2021-05-24                  NaN     NaN   \n4     621e360b67b776a24039709f 2021-05-24                  NaN  68.321   \n5     621e2fce67b776a240279baa 2021-05-24            34.783747  83.170   \n...                        ...        ...                  ...     ...   \n4959  621e345267b776a240691064 2022-01-17                  NaN     NaN   \n4960  621e310d67b776a24003096d 2022-01-17                  NaN     NaN   \n4961  621e324e67b776a2400191cb 2022-01-17            33.104768     NaN   \n4962  621e30f467b776a240f22944 2022-01-17            34.352490     NaN   \n4963  621e2f1b67b776a240b3d87c 2022-01-17            34.404580  65.782   \n\n       rmssd  spo2  full_sleep_breathing_rate  stress_score  \\\n0     89.603   NaN                       14.8          78.0   \n1        NaN   NaN                        NaN          74.0   \n3        NaN   NaN                        NaN           NaN   \n4     31.413   NaN                       15.4          69.0   \n5     15.941  96.6                       15.2          70.0   \n...      ...   ...                        ...           ...   \n4959     NaN   NaN                        NaN           NaN   \n4960     NaN   NaN                        NaN           NaN   \n4961     NaN   NaN                        NaN           NaN   \n4962     NaN   NaN                       13.4           NaN   \n4963  23.793   NaN                       16.0          72.0   \n\n      sleep_points_percentage  exertion_points_percentage  ...  Martial Arts  \\\n0                    0.833333                       0.675  ...           0.0   \n1                    0.700000                       0.700  ...           NaN   \n3                         NaN                         NaN  ...           0.0   \n4                    0.633333                       0.650  ...           NaN   \n5                    0.733333                       0.725  ...           NaN   \n...                       ...                         ...  ...           ...   \n4959                      NaN                         NaN  ...           NaN   \n4960                      NaN                         NaN  ...           NaN   \n4961                      NaN                         NaN  ...           NaN   \n4962                      NaN                         NaN  ...           NaN   \n4963                 0.766667                       0.725  ...           NaN   \n\n      Run  Spinning  Sport  Swim  Treadmill  Walk  Weights  Workout  \\\n0     0.0       0.0    0.0   0.0        0.0   1.0      0.0      0.0   \n1     NaN       NaN    NaN   NaN        NaN   NaN      NaN      NaN   \n3     1.0       0.0    0.0   0.0        0.0   0.0      0.0      0.0   \n4     NaN       NaN    NaN   NaN        NaN   NaN      NaN      NaN   \n5     NaN       NaN    NaN   NaN        NaN   NaN      NaN      NaN   \n...   ...       ...    ...   ...        ...   ...      ...      ...   \n4959  NaN       NaN    NaN   NaN        NaN   NaN      NaN      NaN   \n4960  NaN       NaN    NaN   NaN        NaN   NaN      NaN      NaN   \n4961  NaN       NaN    NaN   NaN        NaN   NaN      NaN      NaN   \n4962  NaN       NaN    NaN   NaN        NaN   NaN      NaN      NaN   \n4963  NaN       NaN    NaN   NaN        NaN   NaN      NaN      NaN   \n\n      Yoga/Pilates  \n0              0.0  \n1              NaN  \n3              0.0  \n4              NaN  \n5              NaN  \n...            ...  \n4959           NaN  \n4960           NaN  \n4961           NaN  \n4962           NaN  \n4963           NaN  \n\n[4907 rows x 64 columns]",
      "text/html": "<div>\n<style scoped>\n    .dataframe tbody tr th:only-of-type {\n        vertical-align: middle;\n    }\n\n    .dataframe tbody tr th {\n        vertical-align: top;\n    }\n\n    .dataframe thead th {\n        text-align: right;\n    }\n</style>\n<table border=\"1\" class=\"dataframe\">\n  <thead>\n    <tr style=\"text-align: right;\">\n      <th></th>\n      <th>id</th>\n      <th>date</th>\n      <th>nightly_temperature</th>\n      <th>nremhr</th>\n      <th>rmssd</th>\n      <th>spo2</th>\n      <th>full_sleep_breathing_rate</th>\n      <th>stress_score</th>\n      <th>sleep_points_percentage</th>\n      <th>exertion_points_percentage</th>\n      <th>...</th>\n      <th>Martial Arts</th>\n      <th>Run</th>\n      <th>Spinning</th>\n      <th>Sport</th>\n      <th>Swim</th>\n      <th>Treadmill</th>\n      <th>Walk</th>\n      <th>Weights</th>\n      <th>Workout</th>\n      <th>Yoga/Pilates</th>\n    </tr>\n  </thead>\n  <tbody>\n    <tr>\n      <th>0</th>\n      <td>621e2e8e67b776a24055b564</td>\n      <td>2021-05-24</td>\n      <td>34.137687</td>\n      <td>57.432</td>\n      <td>89.603</td>\n      <td>NaN</td>\n      <td>14.8</td>\n      <td>78.0</td>\n      <td>0.833333</td>\n      <td>0.675</td>\n      <td>...</td>\n      <td>0.0</td>\n      <td>0.0</td>\n      <td>0.0</td>\n      <td>0.0</td>\n      <td>0.0</td>\n      <td>0.0</td>\n      <td>1.0</td>\n      <td>0.0</td>\n      <td>0.0</td>\n      <td>0.0</td>\n    </tr>\n    <tr>\n      <th>1</th>\n      <td>621e301e67b776a240608a72</td>\n      <td>2021-05-24</td>\n      <td>34.710232</td>\n      <td>NaN</td>\n      <td>NaN</td>\n      <td>NaN</td>\n      <td>NaN</td>\n      <td>74.0</td>\n      <td>0.700000</td>\n      <td>0.700</td>\n      <td>...</td>\n      <td>NaN</td>\n      <td>NaN</td>\n      <td>NaN</td>\n      <td>NaN</td>\n      <td>NaN</td>\n      <td>NaN</td>\n      <td>NaN</td>\n      <td>NaN</td>\n      <td>NaN</td>\n      <td>NaN</td>\n    </tr>\n    <tr>\n      <th>3</th>\n      <td>621e301367b776a24057738e</td>\n      <td>2021-05-24</td>\n      <td>NaN</td>\n      <td>NaN</td>\n      <td>NaN</td>\n      <td>NaN</td>\n      <td>NaN</td>\n      <td>NaN</td>\n      <td>NaN</td>\n      <td>NaN</td>\n      <td>...</td>\n      <td>0.0</td>\n      <td>1.0</td>\n      <td>0.0</td>\n      <td>0.0</td>\n      <td>0.0</td>\n      <td>0.0</td>\n      <td>0.0</td>\n      <td>0.0</td>\n      <td>0.0</td>\n      <td>0.0</td>\n    </tr>\n    <tr>\n      <th>4</th>\n      <td>621e360b67b776a24039709f</td>\n      <td>2021-05-24</td>\n      <td>NaN</td>\n      <td>68.321</td>\n      <td>31.413</td>\n      <td>NaN</td>\n      <td>15.4</td>\n      <td>69.0</td>\n      <td>0.633333</td>\n      <td>0.650</td>\n      <td>...</td>\n      <td>NaN</td>\n      <td>NaN</td>\n      <td>NaN</td>\n      <td>NaN</td>\n      <td>NaN</td>\n      <td>NaN</td>\n      <td>NaN</td>\n      <td>NaN</td>\n      <td>NaN</td>\n      <td>NaN</td>\n    </tr>\n    <tr>\n      <th>5</th>\n      <td>621e2fce67b776a240279baa</td>\n      <td>2021-05-24</td>\n      <td>34.783747</td>\n      <td>83.170</td>\n      <td>15.941</td>\n      <td>96.6</td>\n      <td>15.2</td>\n      <td>70.0</td>\n      <td>0.733333</td>\n      <td>0.725</td>\n      <td>...</td>\n      <td>NaN</td>\n      <td>NaN</td>\n      <td>NaN</td>\n      <td>NaN</td>\n      <td>NaN</td>\n      <td>NaN</td>\n      <td>NaN</td>\n      <td>NaN</td>\n      <td>NaN</td>\n      <td>NaN</td>\n    </tr>\n    <tr>\n      <th>...</th>\n      <td>...</td>\n      <td>...</td>\n      <td>...</td>\n      <td>...</td>\n      <td>...</td>\n      <td>...</td>\n      <td>...</td>\n      <td>...</td>\n      <td>...</td>\n      <td>...</td>\n      <td>...</td>\n      <td>...</td>\n      <td>...</td>\n      <td>...</td>\n      <td>...</td>\n      <td>...</td>\n      <td>...</td>\n      <td>...</td>\n      <td>...</td>\n      <td>...</td>\n      <td>...</td>\n    </tr>\n    <tr>\n      <th>4959</th>\n      <td>621e345267b776a240691064</td>\n      <td>2022-01-17</td>\n      <td>NaN</td>\n      <td>NaN</td>\n      <td>NaN</td>\n      <td>NaN</td>\n      <td>NaN</td>\n      <td>NaN</td>\n      <td>NaN</td>\n      <td>NaN</td>\n      <td>...</td>\n      <td>NaN</td>\n      <td>NaN</td>\n      <td>NaN</td>\n      <td>NaN</td>\n      <td>NaN</td>\n      <td>NaN</td>\n      <td>NaN</td>\n      <td>NaN</td>\n      <td>NaN</td>\n      <td>NaN</td>\n    </tr>\n    <tr>\n      <th>4960</th>\n      <td>621e310d67b776a24003096d</td>\n      <td>2022-01-17</td>\n      <td>NaN</td>\n      <td>NaN</td>\n      <td>NaN</td>\n      <td>NaN</td>\n      <td>NaN</td>\n      <td>NaN</td>\n      <td>NaN</td>\n      <td>NaN</td>\n      <td>...</td>\n      <td>NaN</td>\n      <td>NaN</td>\n      <td>NaN</td>\n      <td>NaN</td>\n      <td>NaN</td>\n      <td>NaN</td>\n      <td>NaN</td>\n      <td>NaN</td>\n      <td>NaN</td>\n      <td>NaN</td>\n    </tr>\n    <tr>\n      <th>4961</th>\n      <td>621e324e67b776a2400191cb</td>\n      <td>2022-01-17</td>\n      <td>33.104768</td>\n      <td>NaN</td>\n      <td>NaN</td>\n      <td>NaN</td>\n      <td>NaN</td>\n      <td>NaN</td>\n      <td>NaN</td>\n      <td>NaN</td>\n      <td>...</td>\n      <td>NaN</td>\n      <td>NaN</td>\n      <td>NaN</td>\n      <td>NaN</td>\n      <td>NaN</td>\n      <td>NaN</td>\n      <td>NaN</td>\n      <td>NaN</td>\n      <td>NaN</td>\n      <td>NaN</td>\n    </tr>\n    <tr>\n      <th>4962</th>\n      <td>621e30f467b776a240f22944</td>\n      <td>2022-01-17</td>\n      <td>34.352490</td>\n      <td>NaN</td>\n      <td>NaN</td>\n      <td>NaN</td>\n      <td>13.4</td>\n      <td>NaN</td>\n      <td>NaN</td>\n      <td>NaN</td>\n      <td>...</td>\n      <td>NaN</td>\n      <td>NaN</td>\n      <td>NaN</td>\n      <td>NaN</td>\n      <td>NaN</td>\n      <td>NaN</td>\n      <td>NaN</td>\n      <td>NaN</td>\n      <td>NaN</td>\n      <td>NaN</td>\n    </tr>\n    <tr>\n      <th>4963</th>\n      <td>621e2f1b67b776a240b3d87c</td>\n      <td>2022-01-17</td>\n      <td>34.404580</td>\n      <td>65.782</td>\n      <td>23.793</td>\n      <td>NaN</td>\n      <td>16.0</td>\n      <td>72.0</td>\n      <td>0.766667</td>\n      <td>0.725</td>\n      <td>...</td>\n      <td>NaN</td>\n      <td>NaN</td>\n      <td>NaN</td>\n      <td>NaN</td>\n      <td>NaN</td>\n      <td>NaN</td>\n      <td>NaN</td>\n      <td>NaN</td>\n      <td>NaN</td>\n      <td>NaN</td>\n    </tr>\n  </tbody>\n</table>\n<p>4907 rows × 64 columns</p>\n</div>"
     },
     "execution_count": 7,
     "metadata": {},
     "output_type": "execute_result"
    }
   ],
   "source": [
    "fitbit = pd.read_pickle('data/fitbit_to_baseline_model.pkl')\n",
    "fitbit"
   ],
   "metadata": {
    "collapsed": false,
    "pycharm": {
     "name": "#%%\n"
    }
   }
  },
  {
   "cell_type": "code",
   "execution_count": 8,
   "outputs": [
    {
     "data": {
      "text/plain": "                            id       date  nightly_temperature  nremhr  \\\n0     621e301e67b776a240608a72 2021-05-24            34.710232     NaN   \n1     621e362467b776a2404ad513 2021-05-24            34.526732  67.118   \n2     621e362467b776a2404ad513 2021-05-24            34.526732  67.118   \n3     621e362467b776a2404ad513 2021-05-24            34.526732  67.118   \n4     621e2f3967b776a240c654db 2021-05-24                  NaN  69.820   \n...                        ...        ...                  ...     ...   \n4940  621e366567b776a24076a727 2022-01-16            33.277004  46.697   \n4941  621e346f67b776a24081744f 2022-01-17            32.903545  71.863   \n4942  621e331067b776a24085dd3f 2022-01-17                  NaN     NaN   \n4943  621e2f9167b776a240011ccb 2022-01-17            34.716690  58.489   \n4944  621e30f467b776a240f22944 2022-01-17            34.352490     NaN   \n\n       rmssd  spo2  full_sleep_breathing_rate  stress_score  \\\n0        NaN   NaN                        NaN          74.0   \n1     37.722  95.3                       10.6           0.0   \n2     37.722  95.3                       10.6           0.0   \n3     37.722  95.3                       10.6           0.0   \n4     28.594   NaN                       16.4          76.0   \n...      ...   ...                        ...           ...   \n4940  62.157  96.4                       13.0          76.0   \n4941  25.475   NaN                       18.2          72.0   \n4942     NaN   NaN                        NaN           NaN   \n4943  28.329  96.5                       14.2          76.0   \n4944     NaN   NaN                       13.4           NaN   \n\n      sleep_points_percentage  exertion_points_percentage  ...  Spinning  \\\n0                    0.700000                       0.700  ...       NaN   \n1                    0.000000                       0.000  ...       0.0   \n2                    0.000000                       0.000  ...       0.0   \n3                    0.000000                       0.000  ...       0.0   \n4                    0.800000                       0.850  ...       0.0   \n...                       ...                         ...  ...       ...   \n4940                 0.633333                       0.825  ...       NaN   \n4941                 0.833333                       0.625  ...       NaN   \n4942                      NaN                         NaN  ...       NaN   \n4943                 0.800000                       0.600  ...       NaN   \n4944                      NaN                         NaN  ...       NaN   \n\n      Sport  Swim  Treadmill  Walk  Weights  Workout  Yoga/Pilates  \\\n0       NaN   NaN        NaN   NaN      NaN      NaN           NaN   \n1       0.0   0.0        0.0   1.0      0.0      0.0           0.0   \n2       0.0   0.0        0.0   1.0      0.0      0.0           0.0   \n3       0.0   0.0        0.0   1.0      0.0      0.0           0.0   \n4       0.0   0.0        0.0   0.0      1.0      0.0           0.0   \n...     ...   ...        ...   ...      ...      ...           ...   \n4940    NaN   NaN        NaN   NaN      NaN      NaN           NaN   \n4941    NaN   NaN        NaN   NaN      NaN      NaN           NaN   \n4942    NaN   NaN        NaN   NaN      NaN      NaN           NaN   \n4943    NaN   NaN        NaN   NaN      NaN      NaN           NaN   \n4944    NaN   NaN        NaN   NaN      NaN      NaN           NaN   \n\n      negative_feelings  positive_feelings  \n0                     0                  1  \n1                     0                  1  \n2                     0                  1  \n3                     0                  1  \n4                     0                  1  \n...                 ...                ...  \n4940                  0                  1  \n4941                  1                  0  \n4942                  0                  1  \n4943                  1                  0  \n4944                  0                  1  \n\n[4945 rows x 66 columns]",
      "text/html": "<div>\n<style scoped>\n    .dataframe tbody tr th:only-of-type {\n        vertical-align: middle;\n    }\n\n    .dataframe tbody tr th {\n        vertical-align: top;\n    }\n\n    .dataframe thead th {\n        text-align: right;\n    }\n</style>\n<table border=\"1\" class=\"dataframe\">\n  <thead>\n    <tr style=\"text-align: right;\">\n      <th></th>\n      <th>id</th>\n      <th>date</th>\n      <th>nightly_temperature</th>\n      <th>nremhr</th>\n      <th>rmssd</th>\n      <th>spo2</th>\n      <th>full_sleep_breathing_rate</th>\n      <th>stress_score</th>\n      <th>sleep_points_percentage</th>\n      <th>exertion_points_percentage</th>\n      <th>...</th>\n      <th>Spinning</th>\n      <th>Sport</th>\n      <th>Swim</th>\n      <th>Treadmill</th>\n      <th>Walk</th>\n      <th>Weights</th>\n      <th>Workout</th>\n      <th>Yoga/Pilates</th>\n      <th>negative_feelings</th>\n      <th>positive_feelings</th>\n    </tr>\n  </thead>\n  <tbody>\n    <tr>\n      <th>0</th>\n      <td>621e301e67b776a240608a72</td>\n      <td>2021-05-24</td>\n      <td>34.710232</td>\n      <td>NaN</td>\n      <td>NaN</td>\n      <td>NaN</td>\n      <td>NaN</td>\n      <td>74.0</td>\n      <td>0.700000</td>\n      <td>0.700</td>\n      <td>...</td>\n      <td>NaN</td>\n      <td>NaN</td>\n      <td>NaN</td>\n      <td>NaN</td>\n      <td>NaN</td>\n      <td>NaN</td>\n      <td>NaN</td>\n      <td>NaN</td>\n      <td>0</td>\n      <td>1</td>\n    </tr>\n    <tr>\n      <th>1</th>\n      <td>621e362467b776a2404ad513</td>\n      <td>2021-05-24</td>\n      <td>34.526732</td>\n      <td>67.118</td>\n      <td>37.722</td>\n      <td>95.3</td>\n      <td>10.6</td>\n      <td>0.0</td>\n      <td>0.000000</td>\n      <td>0.000</td>\n      <td>...</td>\n      <td>0.0</td>\n      <td>0.0</td>\n      <td>0.0</td>\n      <td>0.0</td>\n      <td>1.0</td>\n      <td>0.0</td>\n      <td>0.0</td>\n      <td>0.0</td>\n      <td>0</td>\n      <td>1</td>\n    </tr>\n    <tr>\n      <th>2</th>\n      <td>621e362467b776a2404ad513</td>\n      <td>2021-05-24</td>\n      <td>34.526732</td>\n      <td>67.118</td>\n      <td>37.722</td>\n      <td>95.3</td>\n      <td>10.6</td>\n      <td>0.0</td>\n      <td>0.000000</td>\n      <td>0.000</td>\n      <td>...</td>\n      <td>0.0</td>\n      <td>0.0</td>\n      <td>0.0</td>\n      <td>0.0</td>\n      <td>1.0</td>\n      <td>0.0</td>\n      <td>0.0</td>\n      <td>0.0</td>\n      <td>0</td>\n      <td>1</td>\n    </tr>\n    <tr>\n      <th>3</th>\n      <td>621e362467b776a2404ad513</td>\n      <td>2021-05-24</td>\n      <td>34.526732</td>\n      <td>67.118</td>\n      <td>37.722</td>\n      <td>95.3</td>\n      <td>10.6</td>\n      <td>0.0</td>\n      <td>0.000000</td>\n      <td>0.000</td>\n      <td>...</td>\n      <td>0.0</td>\n      <td>0.0</td>\n      <td>0.0</td>\n      <td>0.0</td>\n      <td>1.0</td>\n      <td>0.0</td>\n      <td>0.0</td>\n      <td>0.0</td>\n      <td>0</td>\n      <td>1</td>\n    </tr>\n    <tr>\n      <th>4</th>\n      <td>621e2f3967b776a240c654db</td>\n      <td>2021-05-24</td>\n      <td>NaN</td>\n      <td>69.820</td>\n      <td>28.594</td>\n      <td>NaN</td>\n      <td>16.4</td>\n      <td>76.0</td>\n      <td>0.800000</td>\n      <td>0.850</td>\n      <td>...</td>\n      <td>0.0</td>\n      <td>0.0</td>\n      <td>0.0</td>\n      <td>0.0</td>\n      <td>0.0</td>\n      <td>1.0</td>\n      <td>0.0</td>\n      <td>0.0</td>\n      <td>0</td>\n      <td>1</td>\n    </tr>\n    <tr>\n      <th>...</th>\n      <td>...</td>\n      <td>...</td>\n      <td>...</td>\n      <td>...</td>\n      <td>...</td>\n      <td>...</td>\n      <td>...</td>\n      <td>...</td>\n      <td>...</td>\n      <td>...</td>\n      <td>...</td>\n      <td>...</td>\n      <td>...</td>\n      <td>...</td>\n      <td>...</td>\n      <td>...</td>\n      <td>...</td>\n      <td>...</td>\n      <td>...</td>\n      <td>...</td>\n      <td>...</td>\n    </tr>\n    <tr>\n      <th>4940</th>\n      <td>621e366567b776a24076a727</td>\n      <td>2022-01-16</td>\n      <td>33.277004</td>\n      <td>46.697</td>\n      <td>62.157</td>\n      <td>96.4</td>\n      <td>13.0</td>\n      <td>76.0</td>\n      <td>0.633333</td>\n      <td>0.825</td>\n      <td>...</td>\n      <td>NaN</td>\n      <td>NaN</td>\n      <td>NaN</td>\n      <td>NaN</td>\n      <td>NaN</td>\n      <td>NaN</td>\n      <td>NaN</td>\n      <td>NaN</td>\n      <td>0</td>\n      <td>1</td>\n    </tr>\n    <tr>\n      <th>4941</th>\n      <td>621e346f67b776a24081744f</td>\n      <td>2022-01-17</td>\n      <td>32.903545</td>\n      <td>71.863</td>\n      <td>25.475</td>\n      <td>NaN</td>\n      <td>18.2</td>\n      <td>72.0</td>\n      <td>0.833333</td>\n      <td>0.625</td>\n      <td>...</td>\n      <td>NaN</td>\n      <td>NaN</td>\n      <td>NaN</td>\n      <td>NaN</td>\n      <td>NaN</td>\n      <td>NaN</td>\n      <td>NaN</td>\n      <td>NaN</td>\n      <td>1</td>\n      <td>0</td>\n    </tr>\n    <tr>\n      <th>4942</th>\n      <td>621e331067b776a24085dd3f</td>\n      <td>2022-01-17</td>\n      <td>NaN</td>\n      <td>NaN</td>\n      <td>NaN</td>\n      <td>NaN</td>\n      <td>NaN</td>\n      <td>NaN</td>\n      <td>NaN</td>\n      <td>NaN</td>\n      <td>...</td>\n      <td>NaN</td>\n      <td>NaN</td>\n      <td>NaN</td>\n      <td>NaN</td>\n      <td>NaN</td>\n      <td>NaN</td>\n      <td>NaN</td>\n      <td>NaN</td>\n      <td>0</td>\n      <td>1</td>\n    </tr>\n    <tr>\n      <th>4943</th>\n      <td>621e2f9167b776a240011ccb</td>\n      <td>2022-01-17</td>\n      <td>34.716690</td>\n      <td>58.489</td>\n      <td>28.329</td>\n      <td>96.5</td>\n      <td>14.2</td>\n      <td>76.0</td>\n      <td>0.800000</td>\n      <td>0.600</td>\n      <td>...</td>\n      <td>NaN</td>\n      <td>NaN</td>\n      <td>NaN</td>\n      <td>NaN</td>\n      <td>NaN</td>\n      <td>NaN</td>\n      <td>NaN</td>\n      <td>NaN</td>\n      <td>1</td>\n      <td>0</td>\n    </tr>\n    <tr>\n      <th>4944</th>\n      <td>621e30f467b776a240f22944</td>\n      <td>2022-01-17</td>\n      <td>34.352490</td>\n      <td>NaN</td>\n      <td>NaN</td>\n      <td>NaN</td>\n      <td>13.4</td>\n      <td>NaN</td>\n      <td>NaN</td>\n      <td>NaN</td>\n      <td>...</td>\n      <td>NaN</td>\n      <td>NaN</td>\n      <td>NaN</td>\n      <td>NaN</td>\n      <td>NaN</td>\n      <td>NaN</td>\n      <td>NaN</td>\n      <td>NaN</td>\n      <td>0</td>\n      <td>1</td>\n    </tr>\n  </tbody>\n</table>\n<p>4945 rows × 66 columns</p>\n</div>"
     },
     "execution_count": 8,
     "metadata": {},
     "output_type": "execute_result"
    }
   ],
   "source": [
    "fitbit_sema = fitbit.merge(semas, on=['id', 'date'])\n",
    "fitbit_sema"
   ],
   "metadata": {
    "collapsed": false,
    "pycharm": {
     "name": "#%%\n"
    }
   }
  },
  {
   "cell_type": "code",
   "execution_count": 9,
   "outputs": [],
   "source": [
    "fitbit_sema.to_pickle('./data/fitbit_sema_to_model.pkl')"
   ],
   "metadata": {
    "collapsed": false,
    "pycharm": {
     "name": "#%%\n"
    }
   }
  },
  {
   "cell_type": "code",
   "execution_count": 5,
   "outputs": [
    {
     "data": {
      "text/plain": "      nightly_temperature  nremhr    rmssd  full_sleep_breathing_rate  \\\n0               34.710232  61.555  35.4345                       14.4   \n1               34.526732  67.118  37.7220                       10.6   \n2               34.526732  67.118  37.7220                       10.6   \n3               34.526732  67.118  37.7220                       10.6   \n4               33.991756  69.820  28.5940                       16.4   \n...                   ...     ...      ...                        ...   \n4940            33.277004  46.697  62.1570                       13.0   \n4941            32.903545  71.863  25.4750                       18.2   \n4942            33.991756  61.555  35.4345                       14.4   \n4943            34.716690  58.489  28.3290                       14.2   \n4944            34.352490  61.555  35.4345                       13.4   \n\n      stress_score  sleep_points_percentage  exertion_points_percentage  \\\n0             74.0                 0.700000                       0.700   \n1             77.0                 0.800000                       0.750   \n2             77.0                 0.800000                       0.750   \n3             77.0                 0.800000                       0.750   \n4             76.0                 0.800000                       0.850   \n...            ...                      ...                         ...   \n4940          76.0                 0.633333                       0.825   \n4941          72.0                 0.833333                       0.625   \n4942          77.0                 0.800000                       0.750   \n4943          76.0                 0.800000                       0.600   \n4944          77.0                 0.800000                       0.750   \n\n      responsiveness_points_percentage  daily_temperature_variation  calories  \\\n0                             0.833333                    -1.822489   3682.90   \n1                             0.766667                    -3.007565   2412.87   \n2                             0.766667                    -3.007565   2412.87   \n3                             0.766667                    -3.007565   2412.87   \n4                             0.600000                    -1.184004   1690.71   \n...                                ...                          ...       ...   \n4940                          0.800000                    -2.266232   3800.45   \n4941                          0.733333                    -3.234348   1549.08   \n4942                          0.766667                    -1.379863   1120.51   \n4943                          0.933333                    -2.096381   1913.30   \n4944                          0.766667                    -2.346201   1864.23   \n\n      ...  negative_feelings  positive_feelings  month_sin  weekday_sin  \\\n0     ...                  0                  1  -0.866025     0.000000   \n1     ...                  0                  1  -0.866025     0.000000   \n2     ...                  0                  1  -0.866025     0.000000   \n3     ...                  0                  1  -0.866025     0.000000   \n4     ...                  0                  1  -0.866025     0.000000   \n...   ...                ...                ...        ...          ...   \n4940  ...                  0                  1   0.866025    -0.781831   \n4941  ...                  1                  0   0.866025     0.000000   \n4942  ...                  0                  1   0.866025     0.000000   \n4943  ...                  1                  0   0.866025     0.000000   \n4944  ...                  0                  1   0.866025     0.000000   \n\n      week_sin   day_sin  month_cos  weekday_cos  week_cos   day_cos  \n0     0.309017 -0.988468        0.5      1.00000  0.951057  0.151428  \n1     0.309017 -0.988468        0.5      1.00000  0.951057  0.151428  \n2     0.309017 -0.988468        0.5      1.00000  0.951057  0.151428  \n3     0.309017 -0.988468        0.5      1.00000  0.951057  0.151428  \n4     0.309017 -0.988468        0.5      1.00000  0.951057  0.151428  \n...        ...       ...        ...          ...       ...       ...  \n4940  0.587785 -0.101168        0.5      0.62349  0.809017 -0.994869  \n4941  0.809017 -0.299363        0.5      1.00000  0.587785 -0.954139  \n4942  0.809017 -0.299363        0.5      1.00000  0.587785 -0.954139  \n4943  0.809017 -0.299363        0.5      1.00000  0.587785 -0.954139  \n4944  0.809017 -0.299363        0.5      1.00000  0.587785 -0.954139  \n\n[4945 rows x 70 columns]",
      "text/html": "<div>\n<style scoped>\n    .dataframe tbody tr th:only-of-type {\n        vertical-align: middle;\n    }\n\n    .dataframe tbody tr th {\n        vertical-align: top;\n    }\n\n    .dataframe thead th {\n        text-align: right;\n    }\n</style>\n<table border=\"1\" class=\"dataframe\">\n  <thead>\n    <tr style=\"text-align: right;\">\n      <th></th>\n      <th>nightly_temperature</th>\n      <th>nremhr</th>\n      <th>rmssd</th>\n      <th>full_sleep_breathing_rate</th>\n      <th>stress_score</th>\n      <th>sleep_points_percentage</th>\n      <th>exertion_points_percentage</th>\n      <th>responsiveness_points_percentage</th>\n      <th>daily_temperature_variation</th>\n      <th>calories</th>\n      <th>...</th>\n      <th>negative_feelings</th>\n      <th>positive_feelings</th>\n      <th>month_sin</th>\n      <th>weekday_sin</th>\n      <th>week_sin</th>\n      <th>day_sin</th>\n      <th>month_cos</th>\n      <th>weekday_cos</th>\n      <th>week_cos</th>\n      <th>day_cos</th>\n    </tr>\n  </thead>\n  <tbody>\n    <tr>\n      <th>0</th>\n      <td>34.710232</td>\n      <td>61.555</td>\n      <td>35.4345</td>\n      <td>14.4</td>\n      <td>74.0</td>\n      <td>0.700000</td>\n      <td>0.700</td>\n      <td>0.833333</td>\n      <td>-1.822489</td>\n      <td>3682.90</td>\n      <td>...</td>\n      <td>0</td>\n      <td>1</td>\n      <td>-0.866025</td>\n      <td>0.000000</td>\n      <td>0.309017</td>\n      <td>-0.988468</td>\n      <td>0.5</td>\n      <td>1.00000</td>\n      <td>0.951057</td>\n      <td>0.151428</td>\n    </tr>\n    <tr>\n      <th>1</th>\n      <td>34.526732</td>\n      <td>67.118</td>\n      <td>37.7220</td>\n      <td>10.6</td>\n      <td>77.0</td>\n      <td>0.800000</td>\n      <td>0.750</td>\n      <td>0.766667</td>\n      <td>-3.007565</td>\n      <td>2412.87</td>\n      <td>...</td>\n      <td>0</td>\n      <td>1</td>\n      <td>-0.866025</td>\n      <td>0.000000</td>\n      <td>0.309017</td>\n      <td>-0.988468</td>\n      <td>0.5</td>\n      <td>1.00000</td>\n      <td>0.951057</td>\n      <td>0.151428</td>\n    </tr>\n    <tr>\n      <th>2</th>\n      <td>34.526732</td>\n      <td>67.118</td>\n      <td>37.7220</td>\n      <td>10.6</td>\n      <td>77.0</td>\n      <td>0.800000</td>\n      <td>0.750</td>\n      <td>0.766667</td>\n      <td>-3.007565</td>\n      <td>2412.87</td>\n      <td>...</td>\n      <td>0</td>\n      <td>1</td>\n      <td>-0.866025</td>\n      <td>0.000000</td>\n      <td>0.309017</td>\n      <td>-0.988468</td>\n      <td>0.5</td>\n      <td>1.00000</td>\n      <td>0.951057</td>\n      <td>0.151428</td>\n    </tr>\n    <tr>\n      <th>3</th>\n      <td>34.526732</td>\n      <td>67.118</td>\n      <td>37.7220</td>\n      <td>10.6</td>\n      <td>77.0</td>\n      <td>0.800000</td>\n      <td>0.750</td>\n      <td>0.766667</td>\n      <td>-3.007565</td>\n      <td>2412.87</td>\n      <td>...</td>\n      <td>0</td>\n      <td>1</td>\n      <td>-0.866025</td>\n      <td>0.000000</td>\n      <td>0.309017</td>\n      <td>-0.988468</td>\n      <td>0.5</td>\n      <td>1.00000</td>\n      <td>0.951057</td>\n      <td>0.151428</td>\n    </tr>\n    <tr>\n      <th>4</th>\n      <td>33.991756</td>\n      <td>69.820</td>\n      <td>28.5940</td>\n      <td>16.4</td>\n      <td>76.0</td>\n      <td>0.800000</td>\n      <td>0.850</td>\n      <td>0.600000</td>\n      <td>-1.184004</td>\n      <td>1690.71</td>\n      <td>...</td>\n      <td>0</td>\n      <td>1</td>\n      <td>-0.866025</td>\n      <td>0.000000</td>\n      <td>0.309017</td>\n      <td>-0.988468</td>\n      <td>0.5</td>\n      <td>1.00000</td>\n      <td>0.951057</td>\n      <td>0.151428</td>\n    </tr>\n    <tr>\n      <th>...</th>\n      <td>...</td>\n      <td>...</td>\n      <td>...</td>\n      <td>...</td>\n      <td>...</td>\n      <td>...</td>\n      <td>...</td>\n      <td>...</td>\n      <td>...</td>\n      <td>...</td>\n      <td>...</td>\n      <td>...</td>\n      <td>...</td>\n      <td>...</td>\n      <td>...</td>\n      <td>...</td>\n      <td>...</td>\n      <td>...</td>\n      <td>...</td>\n      <td>...</td>\n      <td>...</td>\n    </tr>\n    <tr>\n      <th>4940</th>\n      <td>33.277004</td>\n      <td>46.697</td>\n      <td>62.1570</td>\n      <td>13.0</td>\n      <td>76.0</td>\n      <td>0.633333</td>\n      <td>0.825</td>\n      <td>0.800000</td>\n      <td>-2.266232</td>\n      <td>3800.45</td>\n      <td>...</td>\n      <td>0</td>\n      <td>1</td>\n      <td>0.866025</td>\n      <td>-0.781831</td>\n      <td>0.587785</td>\n      <td>-0.101168</td>\n      <td>0.5</td>\n      <td>0.62349</td>\n      <td>0.809017</td>\n      <td>-0.994869</td>\n    </tr>\n    <tr>\n      <th>4941</th>\n      <td>32.903545</td>\n      <td>71.863</td>\n      <td>25.4750</td>\n      <td>18.2</td>\n      <td>72.0</td>\n      <td>0.833333</td>\n      <td>0.625</td>\n      <td>0.733333</td>\n      <td>-3.234348</td>\n      <td>1549.08</td>\n      <td>...</td>\n      <td>1</td>\n      <td>0</td>\n      <td>0.866025</td>\n      <td>0.000000</td>\n      <td>0.809017</td>\n      <td>-0.299363</td>\n      <td>0.5</td>\n      <td>1.00000</td>\n      <td>0.587785</td>\n      <td>-0.954139</td>\n    </tr>\n    <tr>\n      <th>4942</th>\n      <td>33.991756</td>\n      <td>61.555</td>\n      <td>35.4345</td>\n      <td>14.4</td>\n      <td>77.0</td>\n      <td>0.800000</td>\n      <td>0.750</td>\n      <td>0.766667</td>\n      <td>-1.379863</td>\n      <td>1120.51</td>\n      <td>...</td>\n      <td>0</td>\n      <td>1</td>\n      <td>0.866025</td>\n      <td>0.000000</td>\n      <td>0.809017</td>\n      <td>-0.299363</td>\n      <td>0.5</td>\n      <td>1.00000</td>\n      <td>0.587785</td>\n      <td>-0.954139</td>\n    </tr>\n    <tr>\n      <th>4943</th>\n      <td>34.716690</td>\n      <td>58.489</td>\n      <td>28.3290</td>\n      <td>14.2</td>\n      <td>76.0</td>\n      <td>0.800000</td>\n      <td>0.600</td>\n      <td>0.933333</td>\n      <td>-2.096381</td>\n      <td>1913.30</td>\n      <td>...</td>\n      <td>1</td>\n      <td>0</td>\n      <td>0.866025</td>\n      <td>0.000000</td>\n      <td>0.809017</td>\n      <td>-0.299363</td>\n      <td>0.5</td>\n      <td>1.00000</td>\n      <td>0.587785</td>\n      <td>-0.954139</td>\n    </tr>\n    <tr>\n      <th>4944</th>\n      <td>34.352490</td>\n      <td>61.555</td>\n      <td>35.4345</td>\n      <td>13.4</td>\n      <td>77.0</td>\n      <td>0.800000</td>\n      <td>0.750</td>\n      <td>0.766667</td>\n      <td>-2.346201</td>\n      <td>1864.23</td>\n      <td>...</td>\n      <td>0</td>\n      <td>1</td>\n      <td>0.866025</td>\n      <td>0.000000</td>\n      <td>0.809017</td>\n      <td>-0.299363</td>\n      <td>0.5</td>\n      <td>1.00000</td>\n      <td>0.587785</td>\n      <td>-0.954139</td>\n    </tr>\n  </tbody>\n</table>\n<p>4945 rows × 70 columns</p>\n</div>"
     },
     "execution_count": 5,
     "metadata": {},
     "output_type": "execute_result"
    }
   ],
   "source": [
    "fitbit_sema_processed = preprocessing_functions.post_preprocessing(fitbit_sema, True)\n",
    "fitbit_sema_processed.to_pickle('./data/fitbit_sema_processed.pkl')\n",
    "fitbit_sema_processed"
   ],
   "metadata": {
    "collapsed": false,
    "pycharm": {
     "name": "#%%\n"
    }
   }
  },
  {
   "cell_type": "code",
   "execution_count": null,
   "outputs": [],
   "source": [],
   "metadata": {
    "collapsed": false,
    "pycharm": {
     "name": "#%%\n"
    }
   }
  }
 ],
 "metadata": {
  "kernelspec": {
   "display_name": "Python 3",
   "language": "python",
   "name": "python3"
  },
  "language_info": {
   "codemirror_mode": {
    "name": "ipython",
    "version": 2
   },
   "file_extension": ".py",
   "mimetype": "text/x-python",
   "name": "python",
   "nbconvert_exporter": "python",
   "pygments_lexer": "ipython2",
   "version": "2.7.6"
  }
 },
 "nbformat": 4,
 "nbformat_minor": 0
}