{
 "cells": [
  {
   "cell_type": "code",
   "execution_count": 44,
   "id": "b187fa71-e3ec-4c1d-bb65-7bd6376f40a5",
   "metadata": {},
   "outputs": [],
   "source": [
    "import pickle\n",
    "import pandas as pd\n",
    "import seaborn as sns\n",
    "import numpy as np\n",
    "import matplotlib.pyplot as plt\n",
    "import warnings\n",
    "import preprocessing_functions\n",
    "import feature_engineering_functions\n",
    "import pycaret\n",
    "from pycaret.classification import *\n",
    "from scipy.stats import pearsonr\n",
    "from dataprep.eda import create_report\n",
    "warnings.filterwarnings(\"ignore\")\n",
    "from sklearn.preprocessing import MinMaxScaler\n",
    "from sklearn import preprocessing"
   ]
  },
  {
   "cell_type": "markdown",
   "source": [
    "Basic preprocessing actions (Fitbit)\n",
    "1. Select experiment dates\n",
    "2. Drop duplicates\n",
    "3. Type conversion\n",
    "4. One hot encoding"
   ],
   "metadata": {
    "collapsed": false,
    "pycharm": {
     "name": "#%% md\n"
    }
   }
  },
  {
   "cell_type": "code",
   "execution_count": null,
   "outputs": [],
   "source": [
    "fitbit=pd.read_pickle('data/daily_fitbit_df_unprocessed.pkl')\n",
    "fitbit=preprocessing_functions.fitbit_basic_preprocessing(fitbit)\n",
    "fitbit=preprocessing_functions.fitbit_one_hot_encoding(fitbit)\n",
    "fitbit"
   ],
   "metadata": {
    "collapsed": false,
    "pycharm": {
     "name": "#%%\n"
    }
   }
  },
  {
   "cell_type": "markdown",
   "source": [
    "Basic preprocessing actions (Sema)\n",
    "1. Group positive and negative feelings"
   ],
   "metadata": {
    "collapsed": false,
    "pycharm": {
     "name": "#%% md\n"
    }
   }
  },
  {
   "cell_type": "code",
   "execution_count": null,
   "outputs": [],
   "source": [
    "sema=pd.read_pickle('data/semas_read_from_the_base_experiment_dates.pkl')\n",
    "sema = sema.sort_values(by='date', ascending=True)\n",
    "sema=preprocessing_functions.sema_basic_preprocessing(sema)\n",
    "sema"
   ],
   "metadata": {
    "collapsed": false,
    "pycharm": {
     "name": "#%%\n"
    }
   }
  },
  {
   "cell_type": "code",
   "execution_count": null,
   "outputs": [],
   "source": [
    "# merge fitbit and sema\n",
    "data = pd.merge(fitbit, sema, on=['date','id'], how='inner')\n",
    "data"
   ],
   "metadata": {
    "collapsed": false,
    "pycharm": {
     "name": "#%%\n"
    }
   }
  },
  {
   "cell_type": "code",
   "execution_count": null,
   "outputs": [],
   "source": [
    "data = data.drop(columns=['positive_feelings'])\n",
    "data"
   ],
   "metadata": {
    "collapsed": false,
    "pycharm": {
     "name": "#%%\n"
    }
   }
  },
  {
   "cell_type": "code",
   "execution_count": null,
   "outputs": [],
   "source": [
    "#create_report(data).show_browser()"
   ],
   "metadata": {
    "collapsed": false,
    "pycharm": {
     "name": "#%%\n"
    }
   }
  },
  {
   "cell_type": "markdown",
   "source": [
    "Preprocessing steps added:\n",
    "1. drop 'spo2', 'scl_avg'\n",
    "2. replace outliers and NaNs with columns median\n",
    "3. date engineering"
   ],
   "metadata": {
    "collapsed": false,
    "pycharm": {
     "name": "#%% md\n"
    }
   }
  },
  {
   "cell_type": "code",
   "execution_count": null,
   "outputs": [],
   "source": [
    "df = preprocessing_functions.post_preprocessing(data)\n",
    "df"
   ],
   "metadata": {
    "collapsed": false,
    "pycharm": {
     "name": "#%%\n"
    }
   }
  },
  {
   "cell_type": "code",
   "execution_count": null,
   "outputs": [],
   "source": [
    "#create_report(df).show_browser()"
   ],
   "metadata": {
    "collapsed": false,
    "pycharm": {
     "name": "#%%\n"
    }
   }
  }
 ],
 "metadata": {
  "kernelspec": {
   "display_name": "display-name",
   "language": "python",
   "name": "yourenvname"
  },
  "language_info": {
   "codemirror_mode": {
    "name": "ipython",
    "version": 3
   },
   "file_extension": ".py",
   "mimetype": "text/x-python",
   "name": "python",
   "nbconvert_exporter": "python",
   "pygments_lexer": "ipython3",
   "version": "3.8.13"
  }
 },
 "nbformat": 4,
 "nbformat_minor": 5
}