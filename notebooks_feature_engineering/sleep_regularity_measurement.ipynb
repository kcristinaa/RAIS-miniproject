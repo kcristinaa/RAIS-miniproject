{
 "cells": [
  {
   "cell_type": "markdown",
   "source": [
    "# Sleep Regularity Measurement\n",
    "Sleep regularity is a gauge of how consistent a person’s sleep patterns are, based on the day-to-day variability in their sleep–wake times. There are at least five different metrics that can be used to quantify sleep regularity, each capturing different aspects of it and useful in its own way. The five measures of sleep regularity that we’ll look at in this blog post are listed below:\n",
    "\n",
    "Traditional/Overall Metrics:\n",
    "- Individual Standard Deviation (StDev)\n",
    "- Interdaily Stability (IS)\n",
    "- Social Jet Lag (SJL)\n",
    "\n",
    "Newer Metrics:\n",
    "- Composite Phase Deviation (CPD)\n",
    "- Sleep Regularity Index (SRI)"
   ],
   "metadata": {
    "collapsed": false
   }
  },
  {
   "cell_type": "markdown",
   "source": [
    "## IMPORTING LIBRARIES"
   ],
   "metadata": {
    "collapsed": false
   }
  },
  {
   "cell_type": "code",
   "execution_count": 12,
   "outputs": [],
   "source": [
    "import pandas as pd"
   ],
   "metadata": {
    "collapsed": false
   }
  },
  {
   "cell_type": "markdown",
   "source": [
    "## READING DATA"
   ],
   "metadata": {
    "collapsed": false
   }
  },
  {
   "cell_type": "code",
   "execution_count": 13,
   "outputs": [
    {
     "data": {
      "text/plain": "   nightly_temperature  full_sleep_breathing_rate  sleep_duration  \\\n0            34.137687                       14.8      31260000.0   \n1            33.971195                       14.6      27240000.0   \n2            33.971195                       14.4      27240000.0   \n3            33.971195                       14.6      27240000.0   \n4            33.971195                       14.6      27240000.0   \n\n   minutesToFallAsleep  minutesAsleep  minutesAwake  minutesAfterWakeup  \\\n0                  0.0          445.0          76.0                 0.0   \n1                  0.0          399.0          54.0                 0.0   \n2                  0.0          399.0          54.0                 0.0   \n3                  0.0          399.0          54.0                 0.0   \n4                  0.0          399.0          54.0                 0.0   \n\n   sleep_efficiency  sleep_deep_ratio  sleep_wake_ratio  sleep_light_ratio  \\\n0              93.0          1.243243          0.987013           0.921642   \n1              95.0          0.984615          0.961538           0.984584   \n2              95.0          0.984615          0.961538           0.984584   \n3              95.0          0.984615          0.961538           0.984584   \n4              95.0          0.984615          0.961538           0.984584   \n\n   sleep_rem_ratio                        id  \n0         1.341772  621e2e8e67b776a24055b564  \n1         0.988294  621e328667b776a240281372  \n2         0.988294  621e326767b776a24012e179  \n3         0.988294  621e332267b776a24092a584  \n4         0.988294  621e333567b776a240a0c217  ",
      "text/html": "<div>\n<style scoped>\n    .dataframe tbody tr th:only-of-type {\n        vertical-align: middle;\n    }\n\n    .dataframe tbody tr th {\n        vertical-align: top;\n    }\n\n    .dataframe thead th {\n        text-align: right;\n    }\n</style>\n<table border=\"1\" class=\"dataframe\">\n  <thead>\n    <tr style=\"text-align: right;\">\n      <th></th>\n      <th>nightly_temperature</th>\n      <th>full_sleep_breathing_rate</th>\n      <th>sleep_duration</th>\n      <th>minutesToFallAsleep</th>\n      <th>minutesAsleep</th>\n      <th>minutesAwake</th>\n      <th>minutesAfterWakeup</th>\n      <th>sleep_efficiency</th>\n      <th>sleep_deep_ratio</th>\n      <th>sleep_wake_ratio</th>\n      <th>sleep_light_ratio</th>\n      <th>sleep_rem_ratio</th>\n      <th>id</th>\n    </tr>\n  </thead>\n  <tbody>\n    <tr>\n      <th>0</th>\n      <td>34.137687</td>\n      <td>14.8</td>\n      <td>31260000.0</td>\n      <td>0.0</td>\n      <td>445.0</td>\n      <td>76.0</td>\n      <td>0.0</td>\n      <td>93.0</td>\n      <td>1.243243</td>\n      <td>0.987013</td>\n      <td>0.921642</td>\n      <td>1.341772</td>\n      <td>621e2e8e67b776a24055b564</td>\n    </tr>\n    <tr>\n      <th>1</th>\n      <td>33.971195</td>\n      <td>14.6</td>\n      <td>27240000.0</td>\n      <td>0.0</td>\n      <td>399.0</td>\n      <td>54.0</td>\n      <td>0.0</td>\n      <td>95.0</td>\n      <td>0.984615</td>\n      <td>0.961538</td>\n      <td>0.984584</td>\n      <td>0.988294</td>\n      <td>621e328667b776a240281372</td>\n    </tr>\n    <tr>\n      <th>2</th>\n      <td>33.971195</td>\n      <td>14.4</td>\n      <td>27240000.0</td>\n      <td>0.0</td>\n      <td>399.0</td>\n      <td>54.0</td>\n      <td>0.0</td>\n      <td>95.0</td>\n      <td>0.984615</td>\n      <td>0.961538</td>\n      <td>0.984584</td>\n      <td>0.988294</td>\n      <td>621e326767b776a24012e179</td>\n    </tr>\n    <tr>\n      <th>3</th>\n      <td>33.971195</td>\n      <td>14.6</td>\n      <td>27240000.0</td>\n      <td>0.0</td>\n      <td>399.0</td>\n      <td>54.0</td>\n      <td>0.0</td>\n      <td>95.0</td>\n      <td>0.984615</td>\n      <td>0.961538</td>\n      <td>0.984584</td>\n      <td>0.988294</td>\n      <td>621e332267b776a24092a584</td>\n    </tr>\n    <tr>\n      <th>4</th>\n      <td>33.971195</td>\n      <td>14.6</td>\n      <td>27240000.0</td>\n      <td>0.0</td>\n      <td>399.0</td>\n      <td>54.0</td>\n      <td>0.0</td>\n      <td>95.0</td>\n      <td>0.984615</td>\n      <td>0.961538</td>\n      <td>0.984584</td>\n      <td>0.988294</td>\n      <td>621e333567b776a240a0c217</td>\n    </tr>\n  </tbody>\n</table>\n</div>"
     },
     "execution_count": 13,
     "metadata": {},
     "output_type": "execute_result"
    }
   ],
   "source": [
    "# Read the unified dataframe\n",
    "df = pd.read_pickle('.\\\\..\\\\data\\\\unified_dataframe\\\\data_preprocessed.pkl')\n",
    "df_sleep = df[[\"nightly_temperature\", \"full_sleep_breathing_rate\", \"sleep_duration\", \"minutesToFallAsleep\",\n",
    "                           \"minutesAsleep\", \"minutesAwake\", \"minutesAfterWakeup\", \"sleep_efficiency\",\n",
    "                           \"sleep_deep_ratio\", \"sleep_wake_ratio\", \"sleep_light_ratio\", \"sleep_rem_ratio\", \"id\"]]\n",
    "df_sleep.head()"
   ],
   "metadata": {
    "collapsed": false
   }
  },
  {
   "cell_type": "markdown",
   "source": [
    "## STD MEASUREMENT"
   ],
   "metadata": {
    "collapsed": false
   }
  },
  {
   "cell_type": "code",
   "execution_count": 13,
   "outputs": [],
   "source": [],
   "metadata": {
    "collapsed": false
   }
  }
 ],
 "metadata": {
  "kernelspec": {
   "display_name": "Python 3",
   "language": "python",
   "name": "python3"
  },
  "language_info": {
   "codemirror_mode": {
    "name": "ipython",
    "version": 2
   },
   "file_extension": ".py",
   "mimetype": "text/x-python",
   "name": "python",
   "nbconvert_exporter": "python",
   "pygments_lexer": "ipython2",
   "version": "2.7.6"
  }
 },
 "nbformat": 4,
 "nbformat_minor": 0
}
