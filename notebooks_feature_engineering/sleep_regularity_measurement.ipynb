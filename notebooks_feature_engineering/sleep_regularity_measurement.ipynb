{
 "cells": [
  {
   "cell_type": "markdown",
   "source": [
    "# Sleep Regularity Measurement\n",
    "Sleep regularity is a gauge of how consistent a person’s sleep patterns are, based on the day-to-day variability in their sleep–wake times. There are at least five different metrics that can be used to quantify sleep regularity, each capturing different aspects of it and useful in its own way. The five measures of sleep regularity that we’ll look at in this blog post are listed below:\n",
    "\n",
    "Traditional/Overall Metrics:\n",
    "- Individual Standard Deviation (StDev)\n",
    "- Interdaily Stability (IS)\n",
    "- Social Jet Lag (SJL)\n",
    "\n",
    "Newer Metrics:\n",
    "- Composite Phase Deviation (CPD)\n",
    "- Sleep Regularity Index (SRI)\n",
    "\n",
    "All the above metrics can be transferable to behaviors beyond sleep, e.g., exercise and steps. In this work, we look into regularity in all three behaviors."
   ],
   "metadata": {
    "collapsed": false
   }
  },
  {
   "cell_type": "markdown",
   "source": [
    "## IMPORTING LIBRARIES"
   ],
   "metadata": {
    "collapsed": false
   }
  },
  {
   "cell_type": "code",
   "execution_count": 39,
   "outputs": [],
   "source": [
    "import datetime as dt\n",
    "import json\n",
    "import warnings\n",
    "\n",
    "import numpy as np\n",
    "import pandas as pd\n",
    "from scipy import stats\n",
    "from tqdm import tqdm\n",
    "\n",
    "from notebooks_feature_engineering.feature_engineering_functions import interdaily_stability\n",
    "from notebooks_preprocessing_and_dataframe_creation.preprocessing_functions import fitbit_intraday_sleep\n",
    "pd.set_option('display.max_rows', 100)"
   ],
   "metadata": {
    "collapsed": false
   }
  },
  {
   "cell_type": "markdown",
   "source": [
    "## READING DATA"
   ],
   "metadata": {
    "collapsed": false
   }
  },
  {
   "cell_type": "code",
   "execution_count": 40,
   "outputs": [
    {
     "data": {
      "text/plain": "                         id        date  nightly_temperature  \\\n0  621e2e8e67b776a24055b564  2021-05-24            34.137687   \n1  621e328667b776a240281372  2021-05-24            33.973120   \n2  621e326767b776a24012e179  2021-05-24            33.973120   \n3  621e332267b776a24092a584  2021-05-24            33.973120   \n4  621e333567b776a240a0c217  2021-05-24            33.973120   \n\n   full_sleep_breathing_rate  sleep_duration  minutesToFallAsleep  \\\n0                       14.8      31260000.0                  0.0   \n1                       14.6      27240000.0                  0.0   \n2                       14.4      27240000.0                  0.0   \n3                       14.6      27240000.0                  0.0   \n4                       14.6      27240000.0                  0.0   \n\n   minutesAsleep  minutesAwake  minutesAfterWakeup  sleep_efficiency  \\\n0          445.0          76.0                 0.0              93.0   \n1          399.0          54.0                 0.0              95.0   \n2          399.0          54.0                 0.0              95.0   \n3          399.0          54.0                 0.0              95.0   \n4          399.0          54.0                 0.0              95.0   \n\n   sleep_deep_ratio  sleep_wake_ratio  sleep_light_ratio  sleep_rem_ratio  \\\n0          1.243243          0.987013           0.921642         1.341772   \n1          0.986206          0.963636           0.984866         0.987500   \n2          0.986206          0.963636           0.984866         0.987500   \n3          0.986206          0.963636           0.984866         0.987500   \n4          0.986206          0.963636           0.984866         0.987500   \n\n                 startTime                  endTime  \n0  2021-05-24T00:40:00.000  2021-05-24T09:21:00.000  \n1                      NaN                      NaN  \n2                      NaN                      NaN  \n3                      NaN                      NaN  \n4                      NaN                      NaN  ",
      "text/html": "<div>\n<style scoped>\n    .dataframe tbody tr th:only-of-type {\n        vertical-align: middle;\n    }\n\n    .dataframe tbody tr th {\n        vertical-align: top;\n    }\n\n    .dataframe thead th {\n        text-align: right;\n    }\n</style>\n<table border=\"1\" class=\"dataframe\">\n  <thead>\n    <tr style=\"text-align: right;\">\n      <th></th>\n      <th>id</th>\n      <th>date</th>\n      <th>nightly_temperature</th>\n      <th>full_sleep_breathing_rate</th>\n      <th>sleep_duration</th>\n      <th>minutesToFallAsleep</th>\n      <th>minutesAsleep</th>\n      <th>minutesAwake</th>\n      <th>minutesAfterWakeup</th>\n      <th>sleep_efficiency</th>\n      <th>sleep_deep_ratio</th>\n      <th>sleep_wake_ratio</th>\n      <th>sleep_light_ratio</th>\n      <th>sleep_rem_ratio</th>\n      <th>startTime</th>\n      <th>endTime</th>\n    </tr>\n  </thead>\n  <tbody>\n    <tr>\n      <th>0</th>\n      <td>621e2e8e67b776a24055b564</td>\n      <td>2021-05-24</td>\n      <td>34.137687</td>\n      <td>14.8</td>\n      <td>31260000.0</td>\n      <td>0.0</td>\n      <td>445.0</td>\n      <td>76.0</td>\n      <td>0.0</td>\n      <td>93.0</td>\n      <td>1.243243</td>\n      <td>0.987013</td>\n      <td>0.921642</td>\n      <td>1.341772</td>\n      <td>2021-05-24T00:40:00.000</td>\n      <td>2021-05-24T09:21:00.000</td>\n    </tr>\n    <tr>\n      <th>1</th>\n      <td>621e328667b776a240281372</td>\n      <td>2021-05-24</td>\n      <td>33.973120</td>\n      <td>14.6</td>\n      <td>27240000.0</td>\n      <td>0.0</td>\n      <td>399.0</td>\n      <td>54.0</td>\n      <td>0.0</td>\n      <td>95.0</td>\n      <td>0.986206</td>\n      <td>0.963636</td>\n      <td>0.984866</td>\n      <td>0.987500</td>\n      <td>NaN</td>\n      <td>NaN</td>\n    </tr>\n    <tr>\n      <th>2</th>\n      <td>621e326767b776a24012e179</td>\n      <td>2021-05-24</td>\n      <td>33.973120</td>\n      <td>14.4</td>\n      <td>27240000.0</td>\n      <td>0.0</td>\n      <td>399.0</td>\n      <td>54.0</td>\n      <td>0.0</td>\n      <td>95.0</td>\n      <td>0.986206</td>\n      <td>0.963636</td>\n      <td>0.984866</td>\n      <td>0.987500</td>\n      <td>NaN</td>\n      <td>NaN</td>\n    </tr>\n    <tr>\n      <th>3</th>\n      <td>621e332267b776a24092a584</td>\n      <td>2021-05-24</td>\n      <td>33.973120</td>\n      <td>14.6</td>\n      <td>27240000.0</td>\n      <td>0.0</td>\n      <td>399.0</td>\n      <td>54.0</td>\n      <td>0.0</td>\n      <td>95.0</td>\n      <td>0.986206</td>\n      <td>0.963636</td>\n      <td>0.984866</td>\n      <td>0.987500</td>\n      <td>NaN</td>\n      <td>NaN</td>\n    </tr>\n    <tr>\n      <th>4</th>\n      <td>621e333567b776a240a0c217</td>\n      <td>2021-05-24</td>\n      <td>33.973120</td>\n      <td>14.6</td>\n      <td>27240000.0</td>\n      <td>0.0</td>\n      <td>399.0</td>\n      <td>54.0</td>\n      <td>0.0</td>\n      <td>95.0</td>\n      <td>0.986206</td>\n      <td>0.963636</td>\n      <td>0.984866</td>\n      <td>0.987500</td>\n      <td>NaN</td>\n      <td>NaN</td>\n    </tr>\n  </tbody>\n</table>\n</div>"
     },
     "execution_count": 40,
     "metadata": {},
     "output_type": "execute_result"
    }
   ],
   "source": [
    "# Read the daily unified dataframe\n",
    "df = pd.read_pickle('.\\\\..\\\\data\\\\unified_dataframe\\\\data_preprocessed.pkl')\n",
    "df_sleep = df[[\"id\", \"date\", \"nightly_temperature\", \"full_sleep_breathing_rate\", \"sleep_duration\", \"minutesToFallAsleep\",\n",
    "                           \"minutesAsleep\", \"minutesAwake\", \"minutesAfterWakeup\", \"sleep_efficiency\",\n",
    "                           \"sleep_deep_ratio\", \"sleep_wake_ratio\", \"sleep_light_ratio\", \"sleep_rem_ratio\", \"startTime\", \"endTime\"]]\n",
    "df_sleep.head()"
   ],
   "metadata": {
    "collapsed": false
   }
  },
  {
   "cell_type": "code",
   "execution_count": 41,
   "outputs": [
    {
     "name": "stderr",
     "output_type": "stream",
     "text": [
      "C:\\Users\\Sofia\\AppData\\Local\\Temp\\ipykernel_3764\\3714866188.py:3: SettingWithCopyWarning: \n",
      "A value is trying to be set on a copy of a slice from a DataFrame.\n",
      "Try using .loc[row_indexer,col_indexer] = value instead\n",
      "\n",
      "See the caveats in the documentation: https://pandas.pydata.org/pandas-docs/stable/user_guide/indexing.html#returning-a-view-versus-a-copy\n",
      "  df_intraday.date = pd.to_datetime(df_intraday.date)\n",
      "C:\\Users\\Sofia\\AppData\\Local\\Temp\\ipykernel_3764\\3714866188.py:4: SettingWithCopyWarning: \n",
      "A value is trying to be set on a copy of a slice from a DataFrame.\n",
      "Try using .loc[row_indexer,col_indexer] = value instead\n",
      "\n",
      "See the caveats in the documentation: https://pandas.pydata.org/pandas-docs/stable/user_guide/indexing.html#returning-a-view-versus-a-copy\n",
      "  df_intraday.startTime = pd.to_datetime(df_intraday.startTime)\n",
      "C:\\Users\\Sofia\\AppData\\Local\\Temp\\ipykernel_3764\\3714866188.py:5: SettingWithCopyWarning: \n",
      "A value is trying to be set on a copy of a slice from a DataFrame.\n",
      "Try using .loc[row_indexer,col_indexer] = value instead\n",
      "\n",
      "See the caveats in the documentation: https://pandas.pydata.org/pandas-docs/stable/user_guide/indexing.html#returning-a-view-versus-a-copy\n",
      "  df_intraday.endTime = pd.to_datetime(df_intraday.endTime)\n",
      "C:\\Users\\Sofia\\AppData\\Local\\Temp\\ipykernel_3764\\3714866188.py:6: SettingWithCopyWarning: \n",
      "A value is trying to be set on a copy of a slice from a DataFrame\n",
      "\n",
      "See the caveats in the documentation: https://pandas.pydata.org/pandas-docs/stable/user_guide/indexing.html#returning-a-view-versus-a-copy\n",
      "  df_intraday.drop_duplicates(subset=['date', 'id'], inplace=True)\n",
      "C:\\Users\\Sofia\\AppData\\Local\\Temp\\ipykernel_3764\\3714866188.py:7: SettingWithCopyWarning: \n",
      "A value is trying to be set on a copy of a slice from a DataFrame.\n",
      "Try using .loc[row_indexer,col_indexer] = value instead\n",
      "\n",
      "See the caveats in the documentation: https://pandas.pydata.org/pandas-docs/stable/user_guide/indexing.html#returning-a-view-versus-a-copy\n",
      "  df_intraday['startTime'] = df_intraday['startTime'].dt.round('H')\n",
      "C:\\Users\\Sofia\\AppData\\Local\\Temp\\ipykernel_3764\\3714866188.py:8: SettingWithCopyWarning: \n",
      "A value is trying to be set on a copy of a slice from a DataFrame.\n",
      "Try using .loc[row_indexer,col_indexer] = value instead\n",
      "\n",
      "See the caveats in the documentation: https://pandas.pydata.org/pandas-docs/stable/user_guide/indexing.html#returning-a-view-versus-a-copy\n",
      "  df_intraday['endTime'] = df_intraday['endTime'].dt.round('H')\n"
     ]
    },
    {
     "data": {
      "text/plain": "                         id       date           startTime             endTime\n0  621e2e8e67b776a24055b564 2021-05-24 2021-05-24 01:00:00 2021-05-24 09:00:00\n1  621e328667b776a240281372 2021-05-24                 NaT                 NaT\n2  621e326767b776a24012e179 2021-05-24                 NaT                 NaT\n3  621e332267b776a24092a584 2021-05-24                 NaT                 NaT\n4  621e333567b776a240a0c217 2021-05-24                 NaT                 NaT",
      "text/html": "<div>\n<style scoped>\n    .dataframe tbody tr th:only-of-type {\n        vertical-align: middle;\n    }\n\n    .dataframe tbody tr th {\n        vertical-align: top;\n    }\n\n    .dataframe thead th {\n        text-align: right;\n    }\n</style>\n<table border=\"1\" class=\"dataframe\">\n  <thead>\n    <tr style=\"text-align: right;\">\n      <th></th>\n      <th>id</th>\n      <th>date</th>\n      <th>startTime</th>\n      <th>endTime</th>\n    </tr>\n  </thead>\n  <tbody>\n    <tr>\n      <th>0</th>\n      <td>621e2e8e67b776a24055b564</td>\n      <td>2021-05-24</td>\n      <td>2021-05-24 01:00:00</td>\n      <td>2021-05-24 09:00:00</td>\n    </tr>\n    <tr>\n      <th>1</th>\n      <td>621e328667b776a240281372</td>\n      <td>2021-05-24</td>\n      <td>NaT</td>\n      <td>NaT</td>\n    </tr>\n    <tr>\n      <th>2</th>\n      <td>621e326767b776a24012e179</td>\n      <td>2021-05-24</td>\n      <td>NaT</td>\n      <td>NaT</td>\n    </tr>\n    <tr>\n      <th>3</th>\n      <td>621e332267b776a24092a584</td>\n      <td>2021-05-24</td>\n      <td>NaT</td>\n      <td>NaT</td>\n    </tr>\n    <tr>\n      <th>4</th>\n      <td>621e333567b776a240a0c217</td>\n      <td>2021-05-24</td>\n      <td>NaT</td>\n      <td>NaT</td>\n    </tr>\n  </tbody>\n</table>\n</div>"
     },
     "execution_count": 41,
     "metadata": {},
     "output_type": "execute_result"
    }
   ],
   "source": [
    "# Calculate sleep time ranges per day\n",
    "df_intraday = df_sleep[['id', 'date', 'startTime', 'endTime']]\n",
    "df_intraday.date = pd.to_datetime(df_intraday.date)\n",
    "df_intraday.startTime = pd.to_datetime(df_intraday.startTime)\n",
    "df_intraday.endTime = pd.to_datetime(df_intraday.endTime)\n",
    "df_intraday.drop_duplicates(subset=['date', 'id'], inplace=True)\n",
    "df_intraday['startTime'] = df_intraday['startTime'].dt.round('H')\n",
    "df_intraday['endTime'] = df_intraday['endTime'].dt.round('H')\n",
    "df_intraday.head()"
   ],
   "metadata": {
    "collapsed": false
   }
  },
  {
   "cell_type": "code",
   "execution_count": 57,
   "outputs": [
    {
     "name": "stderr",
     "output_type": "stream",
     "text": [
      "  0%|          | 0/71 [00:00<?, ?it/s]C:\\Users\\Sofia\\AppData\\Local\\Temp\\ipykernel_3764\\4157491559.py:8: SettingWithCopyWarning: \n",
      "A value is trying to be set on a copy of a slice from a DataFrame.\n",
      "Try using .loc[row_indexer,col_indexer] = value instead\n",
      "\n",
      "See the caveats in the documentation: https://pandas.pydata.org/pandas-docs/stable/user_guide/indexing.html#returning-a-view-versus-a-copy\n",
      "  df_user.loc[:, 'startHour'] = df_user.startTime.dt.hour\n",
      "C:\\Users\\Sofia\\AppData\\Local\\Temp\\ipykernel_3764\\4157491559.py:9: SettingWithCopyWarning: \n",
      "A value is trying to be set on a copy of a slice from a DataFrame.\n",
      "Try using .loc[row_indexer,col_indexer] = value instead\n",
      "\n",
      "See the caveats in the documentation: https://pandas.pydata.org/pandas-docs/stable/user_guide/indexing.html#returning-a-view-versus-a-copy\n",
      "  df_user.loc[:, 'endHour'] = df_user.endTime.dt.hour\n",
      "C:\\Users\\Sofia\\AppData\\Local\\Temp\\ipykernel_3764\\4157491559.py:17: SettingWithCopyWarning: \n",
      "A value is trying to be set on a copy of a slice from a DataFrame\n",
      "\n",
      "See the caveats in the documentation: https://pandas.pydata.org/pandas-docs/stable/user_guide/indexing.html#returning-a-view-versus-a-copy\n",
      "  df_user.startHour.fillna(mode_sleep_time, inplace=True)\n",
      "C:\\Users\\Sofia\\AppData\\Local\\Temp\\ipykernel_3764\\4157491559.py:18: SettingWithCopyWarning: \n",
      "A value is trying to be set on a copy of a slice from a DataFrame\n",
      "\n",
      "See the caveats in the documentation: https://pandas.pydata.org/pandas-docs/stable/user_guide/indexing.html#returning-a-view-versus-a-copy\n",
      "  df_user.endHour.fillna(mode_awake_time, inplace=True)\n",
      "C:\\Users\\Sofia\\AppData\\Local\\Temp\\ipykernel_3764\\4157491559.py:22: SettingWithCopyWarning: \n",
      "A value is trying to be set on a copy of a slice from a DataFrame.\n",
      "Try using .loc[row_indexer,col_indexer] = value instead\n",
      "\n",
      "See the caveats in the documentation: https://pandas.pydata.org/pandas-docs/stable/user_guide/indexing.html#returning-a-view-versus-a-copy\n",
      "  df_user.loc[:, \"startTime\"] = df_user.apply(lambda row: dt.datetime.combine(row.date, dt.time(int(row.startHour))) if pd.isna(row.startTime) else row.startTime, axis=1)\n",
      "C:\\Users\\Sofia\\AppData\\Local\\Temp\\ipykernel_3764\\4157491559.py:22: FutureWarning: In a future version, `df.iloc[:, i] = newvals` will attempt to set the values inplace instead of always setting a new array. To retain the old behavior, use either `df[df.columns[i]] = newvals` or, if columns are non-unique, `df.isetitem(i, newvals)`\n",
      "  df_user.loc[:, \"startTime\"] = df_user.apply(lambda row: dt.datetime.combine(row.date, dt.time(int(row.startHour))) if pd.isna(row.startTime) else row.startTime, axis=1)\n",
      "C:\\Users\\Sofia\\AppData\\Local\\Temp\\ipykernel_3764\\4157491559.py:23: SettingWithCopyWarning: \n",
      "A value is trying to be set on a copy of a slice from a DataFrame.\n",
      "Try using .loc[row_indexer,col_indexer] = value instead\n",
      "\n",
      "See the caveats in the documentation: https://pandas.pydata.org/pandas-docs/stable/user_guide/indexing.html#returning-a-view-versus-a-copy\n",
      "  df_user.loc[:, \"endTime\"] = df_user.apply(lambda row: dt.datetime.combine(row.date + dt.timedelta(days=1), dt.time(int(row.endHour))) if pd.isna(row.endTime) else row.endTime, axis=1)\n",
      "C:\\Users\\Sofia\\AppData\\Local\\Temp\\ipykernel_3764\\4157491559.py:23: FutureWarning: In a future version, `df.iloc[:, i] = newvals` will attempt to set the values inplace instead of always setting a new array. To retain the old behavior, use either `df[df.columns[i]] = newvals` or, if columns are non-unique, `df.isetitem(i, newvals)`\n",
      "  df_user.loc[:, \"endTime\"] = df_user.apply(lambda row: dt.datetime.combine(row.date + dt.timedelta(days=1), dt.time(int(row.endHour))) if pd.isna(row.endTime) else row.endTime, axis=1)\n",
      "C:\\Users\\Sofia\\AppData\\Local\\Temp\\ipykernel_3764\\4157491559.py:25: SettingWithCopyWarning: \n",
      "A value is trying to be set on a copy of a slice from a DataFrame.\n",
      "Try using .loc[row_indexer,col_indexer] = value instead\n",
      "\n",
      "See the caveats in the documentation: https://pandas.pydata.org/pandas-docs/stable/user_guide/indexing.html#returning-a-view-versus-a-copy\n",
      "  df_user.loc[:, \"time_range\"] = df_user.apply(lambda row: np.nan if pd.isna(row.startTime) else pd.date_range(row.startTime, row.endTime, freq='H'), axis=1)\n",
      "D:\\JetBrains\\Toolbox\\apps\\PyCharm-P\\ch-0\\222.4459.20\\plugins\\python\\helpers\\pydev\\_pydevd_bundle\\pydevd_utils.py:605: FutureWarning: The behavior of `series[i:j]` with an integer-dtype index is deprecated. In a future version, this will be treated as *label-based* indexing, consistent with e.g. `series[i]` lookups. To retain the old behavior, use `series.iloc[i:j]`. To get the future behavior, use `series.loc[i:j]`.\n",
      "  s = s[:max_items]\n",
      "D:\\JetBrains\\Toolbox\\apps\\PyCharm-P\\ch-0\\222.4459.20\\plugins\\python\\helpers\\pydev\\_pydevd_bundle\\pydevd_utils.py:606: FutureWarning: iteritems is deprecated and will be removed in a future version. Use .items instead.\n",
      "  for item in s.iteritems():\n",
      "D:\\JetBrains\\Toolbox\\apps\\PyCharm-P\\ch-0\\222.4459.20\\plugins\\python\\helpers\\pydev\\_pydevd_bundle\\pydevd_utils.py:605: FutureWarning: The behavior of `series[i:j]` with an integer-dtype index is deprecated. In a future version, this will be treated as *label-based* indexing, consistent with e.g. `series[i]` lookups. To retain the old behavior, use `series.iloc[i:j]`. To get the future behavior, use `series.loc[i:j]`.\n",
      "  s = s[:max_items]\n",
      "D:\\JetBrains\\Toolbox\\apps\\PyCharm-P\\ch-0\\222.4459.20\\plugins\\python\\helpers\\pydev\\_pydevd_bundle\\pydevd_utils.py:606: FutureWarning: iteritems is deprecated and will be removed in a future version. Use .items instead.\n",
      "  for item in s.iteritems():\n",
      "D:\\JetBrains\\Toolbox\\apps\\PyCharm-P\\ch-0\\222.4459.20\\plugins\\python\\helpers\\pydev\\_pydevd_bundle\\pydevd_utils.py:605: FutureWarning: The behavior of `series[i:j]` with an integer-dtype index is deprecated. In a future version, this will be treated as *label-based* indexing, consistent with e.g. `series[i]` lookups. To retain the old behavior, use `series.iloc[i:j]`. To get the future behavior, use `series.loc[i:j]`.\n",
      "  s = s[:max_items]\n",
      "D:\\JetBrains\\Toolbox\\apps\\PyCharm-P\\ch-0\\222.4459.20\\plugins\\python\\helpers\\pydev\\_pydevd_bundle\\pydevd_utils.py:606: FutureWarning: iteritems is deprecated and will be removed in a future version. Use .items instead.\n",
      "  for item in s.iteritems():\n",
      "D:\\JetBrains\\Toolbox\\apps\\PyCharm-P\\ch-0\\222.4459.20\\plugins\\python\\helpers\\pydev\\_pydevd_bundle\\pydevd_utils.py:605: FutureWarning: The behavior of `series[i:j]` with an integer-dtype index is deprecated. In a future version, this will be treated as *label-based* indexing, consistent with e.g. `series[i]` lookups. To retain the old behavior, use `series.iloc[i:j]`. To get the future behavior, use `series.loc[i:j]`.\n",
      "  s = s[:max_items]\n",
      "D:\\JetBrains\\Toolbox\\apps\\PyCharm-P\\ch-0\\222.4459.20\\plugins\\python\\helpers\\pydev\\_pydevd_bundle\\pydevd_utils.py:606: FutureWarning: iteritems is deprecated and will be removed in a future version. Use .items instead.\n",
      "  for item in s.iteritems():\n",
      "D:\\JetBrains\\Toolbox\\apps\\PyCharm-P\\ch-0\\222.4459.20\\plugins\\python\\helpers\\pydev\\_pydevd_bundle\\pydevd_utils.py:605: FutureWarning: The behavior of `series[i:j]` with an integer-dtype index is deprecated. In a future version, this will be treated as *label-based* indexing, consistent with e.g. `series[i]` lookups. To retain the old behavior, use `series.iloc[i:j]`. To get the future behavior, use `series.loc[i:j]`.\n",
      "  s = s[:max_items]\n",
      "D:\\JetBrains\\Toolbox\\apps\\PyCharm-P\\ch-0\\222.4459.20\\plugins\\python\\helpers\\pydev\\_pydevd_bundle\\pydevd_utils.py:606: FutureWarning: iteritems is deprecated and will be removed in a future version. Use .items instead.\n",
      "  for item in s.iteritems():\n",
      "D:\\JetBrains\\Toolbox\\apps\\PyCharm-P\\ch-0\\222.4459.20\\plugins\\python\\helpers\\pydev\\_pydevd_bundle\\pydevd_utils.py:605: FutureWarning: The behavior of `series[i:j]` with an integer-dtype index is deprecated. In a future version, this will be treated as *label-based* indexing, consistent with e.g. `series[i]` lookups. To retain the old behavior, use `series.iloc[i:j]`. To get the future behavior, use `series.loc[i:j]`.\n",
      "  s = s[:max_items]\n",
      "D:\\JetBrains\\Toolbox\\apps\\PyCharm-P\\ch-0\\222.4459.20\\plugins\\python\\helpers\\pydev\\_pydevd_bundle\\pydevd_utils.py:606: FutureWarning: iteritems is deprecated and will be removed in a future version. Use .items instead.\n",
      "  for item in s.iteritems():\n",
      "D:\\JetBrains\\Toolbox\\apps\\PyCharm-P\\ch-0\\222.4459.20\\plugins\\python\\helpers\\pydev\\_pydevd_bundle\\pydevd_utils.py:605: FutureWarning: The behavior of `series[i:j]` with an integer-dtype index is deprecated. In a future version, this will be treated as *label-based* indexing, consistent with e.g. `series[i]` lookups. To retain the old behavior, use `series.iloc[i:j]`. To get the future behavior, use `series.loc[i:j]`.\n",
      "  s = s[:max_items]\n",
      "D:\\JetBrains\\Toolbox\\apps\\PyCharm-P\\ch-0\\222.4459.20\\plugins\\python\\helpers\\pydev\\_pydevd_bundle\\pydevd_utils.py:606: FutureWarning: iteritems is deprecated and will be removed in a future version. Use .items instead.\n",
      "  for item in s.iteritems():\n",
      "C:\\Users\\Sofia\\AppData\\Local\\Temp\\ipykernel_3764\\4157491559.py:28: SettingWithCopyWarning: \n",
      "A value is trying to be set on a copy of a slice from a DataFrame\n",
      "\n",
      "See the caveats in the documentation: https://pandas.pydata.org/pandas-docs/stable/user_guide/indexing.html#returning-a-view-versus-a-copy\n",
      "  hours_asleep.dropna(inplace=True)\n",
      "D:\\JetBrains\\Toolbox\\apps\\PyCharm-P\\ch-0\\222.4459.20\\plugins\\python\\helpers\\pydev\\_pydevd_bundle\\pydevd_utils.py:605: FutureWarning: The behavior of `series[i:j]` with an integer-dtype index is deprecated. In a future version, this will be treated as *label-based* indexing, consistent with e.g. `series[i]` lookups. To retain the old behavior, use `series.iloc[i:j]`. To get the future behavior, use `series.loc[i:j]`.\n",
      "  s = s[:max_items]\n",
      "D:\\JetBrains\\Toolbox\\apps\\PyCharm-P\\ch-0\\222.4459.20\\plugins\\python\\helpers\\pydev\\_pydevd_bundle\\pydevd_utils.py:606: FutureWarning: iteritems is deprecated and will be removed in a future version. Use .items instead.\n",
      "  for item in s.iteritems():\n",
      "D:\\JetBrains\\Toolbox\\apps\\PyCharm-P\\ch-0\\222.4459.20\\plugins\\python\\helpers\\pydev\\_pydevd_bundle\\pydevd_utils.py:605: FutureWarning: The behavior of `series[i:j]` with an integer-dtype index is deprecated. In a future version, this will be treated as *label-based* indexing, consistent with e.g. `series[i]` lookups. To retain the old behavior, use `series.iloc[i:j]`. To get the future behavior, use `series.loc[i:j]`.\n",
      "  s = s[:max_items]\n",
      "D:\\JetBrains\\Toolbox\\apps\\PyCharm-P\\ch-0\\222.4459.20\\plugins\\python\\helpers\\pydev\\_pydevd_bundle\\pydevd_utils.py:606: FutureWarning: iteritems is deprecated and will be removed in a future version. Use .items instead.\n",
      "  for item in s.iteritems():\n",
      "D:\\JetBrains\\Toolbox\\apps\\PyCharm-P\\ch-0\\222.4459.20\\plugins\\python\\helpers\\pydev\\_pydevd_bundle\\pydevd_utils.py:605: FutureWarning: The behavior of `series[i:j]` with an integer-dtype index is deprecated. In a future version, this will be treated as *label-based* indexing, consistent with e.g. `series[i]` lookups. To retain the old behavior, use `series.iloc[i:j]`. To get the future behavior, use `series.loc[i:j]`.\n",
      "  s = s[:max_items]\n",
      "D:\\JetBrains\\Toolbox\\apps\\PyCharm-P\\ch-0\\222.4459.20\\plugins\\python\\helpers\\pydev\\_pydevd_bundle\\pydevd_utils.py:606: FutureWarning: iteritems is deprecated and will be removed in a future version. Use .items instead.\n",
      "  for item in s.iteritems():\n",
      "D:\\JetBrains\\Toolbox\\apps\\PyCharm-P\\ch-0\\222.4459.20\\plugins\\python\\helpers\\pydev\\_pydevd_bundle\\pydevd_utils.py:605: FutureWarning: The behavior of `series[i:j]` with an integer-dtype index is deprecated. In a future version, this will be treated as *label-based* indexing, consistent with e.g. `series[i]` lookups. To retain the old behavior, use `series.iloc[i:j]`. To get the future behavior, use `series.loc[i:j]`.\n",
      "  s = s[:max_items]\n",
      "D:\\JetBrains\\Toolbox\\apps\\PyCharm-P\\ch-0\\222.4459.20\\plugins\\python\\helpers\\pydev\\_pydevd_bundle\\pydevd_utils.py:606: FutureWarning: iteritems is deprecated and will be removed in a future version. Use .items instead.\n",
      "  for item in s.iteritems():\n",
      "D:\\JetBrains\\Toolbox\\apps\\PyCharm-P\\ch-0\\222.4459.20\\plugins\\python\\helpers\\pydev\\_pydevd_bundle\\pydevd_utils.py:605: FutureWarning: The behavior of `series[i:j]` with an integer-dtype index is deprecated. In a future version, this will be treated as *label-based* indexing, consistent with e.g. `series[i]` lookups. To retain the old behavior, use `series.iloc[i:j]`. To get the future behavior, use `series.loc[i:j]`.\n",
      "  s = s[:max_items]\n",
      "D:\\JetBrains\\Toolbox\\apps\\PyCharm-P\\ch-0\\222.4459.20\\plugins\\python\\helpers\\pydev\\_pydevd_bundle\\pydevd_utils.py:606: FutureWarning: iteritems is deprecated and will be removed in a future version. Use .items instead.\n",
      "  for item in s.iteritems():\n",
      "D:\\JetBrains\\Toolbox\\apps\\PyCharm-P\\ch-0\\222.4459.20\\plugins\\python\\helpers\\pydev\\_pydevd_bundle\\pydevd_utils.py:605: FutureWarning: The behavior of `series[i:j]` with an integer-dtype index is deprecated. In a future version, this will be treated as *label-based* indexing, consistent with e.g. `series[i]` lookups. To retain the old behavior, use `series.iloc[i:j]`. To get the future behavior, use `series.loc[i:j]`.\n",
      "  s = s[:max_items]\n",
      "D:\\JetBrains\\Toolbox\\apps\\PyCharm-P\\ch-0\\222.4459.20\\plugins\\python\\helpers\\pydev\\_pydevd_bundle\\pydevd_utils.py:606: FutureWarning: iteritems is deprecated and will be removed in a future version. Use .items instead.\n",
      "  for item in s.iteritems():\n",
      "D:\\JetBrains\\Toolbox\\apps\\PyCharm-P\\ch-0\\222.4459.20\\plugins\\python\\helpers\\pydev\\_pydevd_bundle\\pydevd_utils.py:605: FutureWarning: The behavior of `series[i:j]` with an integer-dtype index is deprecated. In a future version, this will be treated as *label-based* indexing, consistent with e.g. `series[i]` lookups. To retain the old behavior, use `series.iloc[i:j]`. To get the future behavior, use `series.loc[i:j]`.\n",
      "  s = s[:max_items]\n",
      "D:\\JetBrains\\Toolbox\\apps\\PyCharm-P\\ch-0\\222.4459.20\\plugins\\python\\helpers\\pydev\\_pydevd_bundle\\pydevd_utils.py:606: FutureWarning: iteritems is deprecated and will be removed in a future version. Use .items instead.\n",
      "  for item in s.iteritems():\n",
      "D:\\JetBrains\\Toolbox\\apps\\PyCharm-P\\ch-0\\222.4459.20\\plugins\\python\\helpers\\pydev\\_pydevd_bundle\\pydevd_utils.py:605: FutureWarning: The behavior of `series[i:j]` with an integer-dtype index is deprecated. In a future version, this will be treated as *label-based* indexing, consistent with e.g. `series[i]` lookups. To retain the old behavior, use `series.iloc[i:j]`. To get the future behavior, use `series.loc[i:j]`.\n",
      "  s = s[:max_items]\n",
      "D:\\JetBrains\\Toolbox\\apps\\PyCharm-P\\ch-0\\222.4459.20\\plugins\\python\\helpers\\pydev\\_pydevd_bundle\\pydevd_utils.py:606: FutureWarning: iteritems is deprecated and will be removed in a future version. Use .items instead.\n",
      "  for item in s.iteritems():\n",
      "D:\\JetBrains\\Toolbox\\apps\\PyCharm-P\\ch-0\\222.4459.20\\plugins\\python\\helpers\\pydev\\_pydevd_bundle\\pydevd_utils.py:605: FutureWarning: The behavior of `series[i:j]` with an integer-dtype index is deprecated. In a future version, this will be treated as *label-based* indexing, consistent with e.g. `series[i]` lookups. To retain the old behavior, use `series.iloc[i:j]`. To get the future behavior, use `series.loc[i:j]`.\n",
      "  s = s[:max_items]\n",
      "D:\\JetBrains\\Toolbox\\apps\\PyCharm-P\\ch-0\\222.4459.20\\plugins\\python\\helpers\\pydev\\_pydevd_bundle\\pydevd_utils.py:606: FutureWarning: iteritems is deprecated and will be removed in a future version. Use .items instead.\n",
      "  for item in s.iteritems():\n"
     ]
    }
   ],
   "source": [
    "# create the sleep/awake dataframe per user\n",
    "user_ids = set(df_intraday.id)\n",
    "df_users = pd.DataFrame()\n",
    "for user in tqdm(user_ids):\n",
    "    # select user's data\n",
    "    df_user = df_intraday.loc[df_intraday.id == user]\n",
    "    # fill days without any sleep time\n",
    "    df_user.loc[:, 'startHour'] = df_user.startTime.dt.hour\n",
    "    df_user.loc[:, 'endHour'] = df_user.endTime.dt.hour\n",
    "    mode_sleep_time = stats.mode(df_user.startHour, keepdims=True).mode[0]\n",
    "    mode_awake_time = stats.mode(df_user.endHour, keepdims=True).mode[0]\n",
    "    # convert type\n",
    "    # todo\n",
    "    # df_user.startHour = df_user.startHour.astype('Int64')\n",
    "    # df_user.endHour = df_user.endHour.astype('Int64')\n",
    "    # now fill na\n",
    "    df_user.startHour.fillna(mode_sleep_time, inplace=True)\n",
    "    df_user.endHour.fillna(mode_awake_time, inplace=True)\n",
    "    if (mode_sleep_time >= 0) and (mode_sleep_time <= 4):\n",
    "        warnings.warn(\"WARNING: User with most common sleep time after midnight -> Date conversion will be incorrect\")\n",
    "    # convert to datetime\n",
    "    df_user.loc[:, \"startTime\"] = df_user.apply(lambda row: dt.datetime.combine(row.date, dt.time(int(row.startHour))) if pd.isna(row.startTime) else row.startTime, axis=1)\n",
    "    df_user.loc[:, \"endTime\"] = df_user.apply(lambda row: dt.datetime.combine(row.date + dt.timedelta(days=1), dt.time(int(row.endHour))) if pd.isna(row.endTime) else row.endTime, axis=1)\n",
    "    # extract time range column\n",
    "    df_user.loc[:, \"time_range\"] = df_user.apply(lambda row: np.nan if pd.isna(row.startTime) else pd.date_range(row.startTime, row.endTime, freq='H'), axis=1)\n",
    "    # extract the asleep hours per day in a list format\n",
    "    hours_asleep = df_user.time_range\n",
    "    hours_asleep.dropna(inplace=True)\n",
    "    timestamps = []\n",
    "    timestamps.extend(hours_asleep.apply(lambda time_range: [str(x) for x in time_range]))  # create a list of sleep hours\n",
    "    timestamps = [item for sublist in timestamps for item in sublist]  # flatten list of lists into normal list\n",
    "    timestamps = pd.Series(pd.to_datetime(timestamps, infer_datetime_format=True))\n",
    "    # resample the user's dataframe\n",
    "    df_user = df_user.set_index('date').resample('1H').asfreq().reset_index(drop=False)\n",
    "    # add new column for sleep/awake state\n",
    "    df_user.loc[:, 'sleep'] = df_user.date.apply(lambda d: d in timestamps.values)\n",
    "    # add user id\n",
    "    df_user.id = user\n",
    "    # drop unnecessary columns\n",
    "    df_user.drop(['startTime', 'endTime', 'time_range', 'startHour', 'endHour'], inplace=True, axis=1)\n",
    "    # append to common dataframe for all users\n",
    "    df_users.append(df_user)\n",
    "df_users.head(1000)"
   ],
   "metadata": {
    "collapsed": false
   }
  },
  {
   "cell_type": "code",
   "execution_count": 124,
   "outputs": [
    {
     "name": "stderr",
     "output_type": "stream",
     "text": [
      "C:\\Users\\Sofia\\AppData\\Local\\Temp\\ipykernel_10404\\485342035.py:2: SettingWithCopyWarning: \n",
      "A value is trying to be set on a copy of a slice from a DataFrame\n",
      "\n",
      "See the caveats in the documentation: https://pandas.pydata.org/pandas-docs/stable/user_guide/indexing.html#returning-a-view-versus-a-copy\n",
      "  df_intraday.drop('time_range', axis=1, inplace=True)\n"
     ]
    },
    {
     "data": {
      "text/plain": "                   date                        id           startTime  \\\n0   2021-05-24 00:00:00  621e2e8e67b776a24055b564 2021-05-24 01:00:00   \n1   2021-05-24 01:00:00                       NaN                 NaT   \n2   2021-05-24 02:00:00                       NaN                 NaT   \n3   2021-05-24 03:00:00                       NaN                 NaT   \n4   2021-05-24 04:00:00                       NaN                 NaT   \n..                  ...                       ...                 ...   \n995 2021-07-04 11:00:00                       NaN                 NaT   \n996 2021-07-04 12:00:00                       NaN                 NaT   \n997 2021-07-04 13:00:00                       NaN                 NaT   \n998 2021-07-04 14:00:00                       NaN                 NaT   \n999 2021-07-04 15:00:00                       NaN                 NaT   \n\n                endTime  \n0   2021-05-24 09:00:00  \n1                   NaT  \n2                   NaT  \n3                   NaT  \n4                   NaT  \n..                  ...  \n995                 NaT  \n996                 NaT  \n997                 NaT  \n998                 NaT  \n999                 NaT  \n\n[1000 rows x 4 columns]",
      "text/html": "<div>\n<style scoped>\n    .dataframe tbody tr th:only-of-type {\n        vertical-align: middle;\n    }\n\n    .dataframe tbody tr th {\n        vertical-align: top;\n    }\n\n    .dataframe thead th {\n        text-align: right;\n    }\n</style>\n<table border=\"1\" class=\"dataframe\">\n  <thead>\n    <tr style=\"text-align: right;\">\n      <th></th>\n      <th>date</th>\n      <th>id</th>\n      <th>startTime</th>\n      <th>endTime</th>\n    </tr>\n  </thead>\n  <tbody>\n    <tr>\n      <th>0</th>\n      <td>2021-05-24 00:00:00</td>\n      <td>621e2e8e67b776a24055b564</td>\n      <td>2021-05-24 01:00:00</td>\n      <td>2021-05-24 09:00:00</td>\n    </tr>\n    <tr>\n      <th>1</th>\n      <td>2021-05-24 01:00:00</td>\n      <td>NaN</td>\n      <td>NaT</td>\n      <td>NaT</td>\n    </tr>\n    <tr>\n      <th>2</th>\n      <td>2021-05-24 02:00:00</td>\n      <td>NaN</td>\n      <td>NaT</td>\n      <td>NaT</td>\n    </tr>\n    <tr>\n      <th>3</th>\n      <td>2021-05-24 03:00:00</td>\n      <td>NaN</td>\n      <td>NaT</td>\n      <td>NaT</td>\n    </tr>\n    <tr>\n      <th>4</th>\n      <td>2021-05-24 04:00:00</td>\n      <td>NaN</td>\n      <td>NaT</td>\n      <td>NaT</td>\n    </tr>\n    <tr>\n      <th>...</th>\n      <td>...</td>\n      <td>...</td>\n      <td>...</td>\n      <td>...</td>\n    </tr>\n    <tr>\n      <th>995</th>\n      <td>2021-07-04 11:00:00</td>\n      <td>NaN</td>\n      <td>NaT</td>\n      <td>NaT</td>\n    </tr>\n    <tr>\n      <th>996</th>\n      <td>2021-07-04 12:00:00</td>\n      <td>NaN</td>\n      <td>NaT</td>\n      <td>NaT</td>\n    </tr>\n    <tr>\n      <th>997</th>\n      <td>2021-07-04 13:00:00</td>\n      <td>NaN</td>\n      <td>NaT</td>\n      <td>NaT</td>\n    </tr>\n    <tr>\n      <th>998</th>\n      <td>2021-07-04 14:00:00</td>\n      <td>NaN</td>\n      <td>NaT</td>\n      <td>NaT</td>\n    </tr>\n    <tr>\n      <th>999</th>\n      <td>2021-07-04 15:00:00</td>\n      <td>NaN</td>\n      <td>NaT</td>\n      <td>NaT</td>\n    </tr>\n  </tbody>\n</table>\n<p>1000 rows × 4 columns</p>\n</div>"
     },
     "execution_count": 124,
     "metadata": {},
     "output_type": "execute_result"
    }
   ],
   "source": [
    "#groupby, resample and interpolate\n",
    "df_intraday.drop('time_range', axis=1, inplace=True)\n",
    "df_users = df_intraday.groupby('id').apply(lambda x : x.set_index('date')\n",
    "                                           .resample('1H')\n",
    "                                           .asfreq()\n",
    "                                           ).reset_index(level=0, drop=True).reset_index()\n",
    "df_users.head(1000)"
   ],
   "metadata": {
    "collapsed": false
   }
  },
  {
   "cell_type": "code",
   "execution_count": 127,
   "outputs": [
    {
     "name": "stderr",
     "output_type": "stream",
     "text": [
      "C:\\Users\\Sofia\\AppData\\Local\\Temp\\ipykernel_10404\\862738935.py:1: FutureWarning: In a future version, `df.iloc[:, i] = newvals` will attempt to set the values inplace instead of always setting a new array. To retain the old behavior, use either `df[df.columns[i]] = newvals` or, if columns are non-unique, `df.isetitem(i, newvals)`\n",
      "  df_users.loc[:, 'sleep'] = df_users.date.apply(lambda d: d in timestamps.values)\n"
     ]
    },
    {
     "data": {
      "text/plain": "                   date                        id           startTime  \\\n0   2021-05-24 00:00:00  621e2e8e67b776a24055b564 2021-05-24 01:00:00   \n1   2021-05-24 01:00:00                       NaN                 NaT   \n2   2021-05-24 02:00:00                       NaN                 NaT   \n3   2021-05-24 03:00:00                       NaN                 NaT   \n4   2021-05-24 04:00:00                       NaN                 NaT   \n..                  ...                       ...                 ...   \n995 2021-07-04 11:00:00                       NaN                 NaT   \n996 2021-07-04 12:00:00                       NaN                 NaT   \n997 2021-07-04 13:00:00                       NaN                 NaT   \n998 2021-07-04 14:00:00                       NaN                 NaT   \n999 2021-07-04 15:00:00                       NaN                 NaT   \n\n                endTime  sleep  \n0   2021-05-24 09:00:00   True  \n1                   NaT   True  \n2                   NaT   True  \n3                   NaT   True  \n4                   NaT   True  \n..                  ...    ...  \n995                 NaT   True  \n996                 NaT   True  \n997                 NaT   True  \n998                 NaT   True  \n999                 NaT   True  \n\n[1000 rows x 5 columns]",
      "text/html": "<div>\n<style scoped>\n    .dataframe tbody tr th:only-of-type {\n        vertical-align: middle;\n    }\n\n    .dataframe tbody tr th {\n        vertical-align: top;\n    }\n\n    .dataframe thead th {\n        text-align: right;\n    }\n</style>\n<table border=\"1\" class=\"dataframe\">\n  <thead>\n    <tr style=\"text-align: right;\">\n      <th></th>\n      <th>date</th>\n      <th>id</th>\n      <th>startTime</th>\n      <th>endTime</th>\n      <th>sleep</th>\n    </tr>\n  </thead>\n  <tbody>\n    <tr>\n      <th>0</th>\n      <td>2021-05-24 00:00:00</td>\n      <td>621e2e8e67b776a24055b564</td>\n      <td>2021-05-24 01:00:00</td>\n      <td>2021-05-24 09:00:00</td>\n      <td>True</td>\n    </tr>\n    <tr>\n      <th>1</th>\n      <td>2021-05-24 01:00:00</td>\n      <td>NaN</td>\n      <td>NaT</td>\n      <td>NaT</td>\n      <td>True</td>\n    </tr>\n    <tr>\n      <th>2</th>\n      <td>2021-05-24 02:00:00</td>\n      <td>NaN</td>\n      <td>NaT</td>\n      <td>NaT</td>\n      <td>True</td>\n    </tr>\n    <tr>\n      <th>3</th>\n      <td>2021-05-24 03:00:00</td>\n      <td>NaN</td>\n      <td>NaT</td>\n      <td>NaT</td>\n      <td>True</td>\n    </tr>\n    <tr>\n      <th>4</th>\n      <td>2021-05-24 04:00:00</td>\n      <td>NaN</td>\n      <td>NaT</td>\n      <td>NaT</td>\n      <td>True</td>\n    </tr>\n    <tr>\n      <th>...</th>\n      <td>...</td>\n      <td>...</td>\n      <td>...</td>\n      <td>...</td>\n      <td>...</td>\n    </tr>\n    <tr>\n      <th>995</th>\n      <td>2021-07-04 11:00:00</td>\n      <td>NaN</td>\n      <td>NaT</td>\n      <td>NaT</td>\n      <td>True</td>\n    </tr>\n    <tr>\n      <th>996</th>\n      <td>2021-07-04 12:00:00</td>\n      <td>NaN</td>\n      <td>NaT</td>\n      <td>NaT</td>\n      <td>True</td>\n    </tr>\n    <tr>\n      <th>997</th>\n      <td>2021-07-04 13:00:00</td>\n      <td>NaN</td>\n      <td>NaT</td>\n      <td>NaT</td>\n      <td>True</td>\n    </tr>\n    <tr>\n      <th>998</th>\n      <td>2021-07-04 14:00:00</td>\n      <td>NaN</td>\n      <td>NaT</td>\n      <td>NaT</td>\n      <td>True</td>\n    </tr>\n    <tr>\n      <th>999</th>\n      <td>2021-07-04 15:00:00</td>\n      <td>NaN</td>\n      <td>NaT</td>\n      <td>NaT</td>\n      <td>True</td>\n    </tr>\n  </tbody>\n</table>\n<p>1000 rows × 5 columns</p>\n</div>"
     },
     "execution_count": 127,
     "metadata": {},
     "output_type": "execute_result"
    }
   ],
   "source": [
    "df_users.loc[:, 'sleep'] = df_users.date.apply(lambda d: d in timestamps.values)\n",
    "df_users.head(1000)"
   ],
   "metadata": {
    "collapsed": false
   }
  },
  {
   "cell_type": "markdown",
   "source": [
    "# SLEEP REGULARIT MEASUREMENT"
   ],
   "metadata": {
    "collapsed": false
   }
  },
  {
   "cell_type": "markdown",
   "source": [
    "## Individual Standard Deviation (StDev)\n",
    "We are not working on this feature here, as it is a pure statistical feature, also available in tsfresh"
   ],
   "metadata": {
    "collapsed": false
   }
  },
  {
   "cell_type": "markdown",
   "source": [
    "## Interdaily Stability (IS)\n"
   ],
   "metadata": {
    "collapsed": false
   }
  },
  {
   "cell_type": "code",
   "execution_count": null,
   "outputs": [],
   "source": [],
   "metadata": {
    "collapsed": false
   }
  },
  {
   "cell_type": "code",
   "execution_count": 1,
   "outputs": [
    {
     "name": "stdout",
     "output_type": "stream",
     "text": [
      "<pyActigraphy.io.awd.awd.RawAWD object at 0x000001AA21165D60>\n"
     ]
    }
   ],
   "source": [
    "import pyActigraphy\n",
    "import os\n",
    "fpath = os.path.join(os.path.dirname(pyActigraphy.__file__),'tests/data/')\n",
    "raw = pyActigraphy.io.read_raw_awd(fpath+'example_01.AWD')\n",
    "print(raw)"
   ],
   "metadata": {
    "collapsed": false
   }
  },
  {
   "cell_type": "code",
   "execution_count": 3,
   "outputs": [
    {
     "data": {
      "text/plain": "0.470359109153365"
     },
     "execution_count": 3,
     "metadata": {},
     "output_type": "execute_result"
    }
   ],
   "source": [
    "raw.IS(binarize=False)"
   ],
   "metadata": {
    "collapsed": false
   }
  },
  {
   "cell_type": "code",
   "execution_count": 4,
   "outputs": [],
   "source": [
    "acti = raw.data"
   ],
   "metadata": {
    "collapsed": false
   }
  },
  {
   "cell_type": "code",
   "execution_count": 5,
   "outputs": [],
   "source": [
    "acti1 = acti.resample('1H').sum()"
   ],
   "metadata": {
    "collapsed": false
   }
  },
  {
   "cell_type": "code",
   "execution_count": 7,
   "outputs": [],
   "source": [
    "acti2 = acti1.copy()"
   ],
   "metadata": {
    "collapsed": false
   }
  },
  {
   "cell_type": "code",
   "execution_count": null,
   "outputs": [],
   "source": [],
   "metadata": {
    "collapsed": false
   }
  },
  {
   "cell_type": "code",
   "execution_count": 20,
   "outputs": [],
   "source": [
    "import random\n",
    "\n",
    "for i in range(len(acti2)):\n",
    "    acti2.iloc[i] = (i % 24)"
   ],
   "metadata": {
    "collapsed": false
   }
  },
  {
   "cell_type": "code",
   "execution_count": 11,
   "outputs": [
    {
     "data": {
      "text/plain": "0.470359109153365"
     },
     "execution_count": 11,
     "metadata": {},
     "output_type": "execute_result"
    }
   ],
   "source": [
    "interdaily_stability(acti1)"
   ],
   "metadata": {
    "collapsed": false
   }
  },
  {
   "cell_type": "code",
   "execution_count": 21,
   "outputs": [
    {
     "data": {
      "text/plain": "1.0557225350917545"
     },
     "execution_count": 21,
     "metadata": {},
     "output_type": "execute_result"
    }
   ],
   "source": [
    "interdaily_stability(acti2)"
   ],
   "metadata": {
    "collapsed": false
   }
  },
  {
   "cell_type": "markdown",
   "source": [
    "## Social Jet Lag (SJL)"
   ],
   "metadata": {
    "collapsed": false
   }
  },
  {
   "cell_type": "code",
   "execution_count": 59,
   "outputs": [],
   "source": [],
   "metadata": {
    "collapsed": false
   }
  },
  {
   "cell_type": "markdown",
   "source": [
    "## Composite Phase Deviation (CPD)"
   ],
   "metadata": {
    "collapsed": false
   }
  },
  {
   "cell_type": "code",
   "execution_count": 59,
   "outputs": [],
   "source": [],
   "metadata": {
    "collapsed": false
   }
  },
  {
   "cell_type": "markdown",
   "source": [
    "## Sleep Regularity Index (SRI)"
   ],
   "metadata": {
    "collapsed": false
   }
  },
  {
   "cell_type": "code",
   "execution_count": 59,
   "outputs": [],
   "source": [],
   "metadata": {
    "collapsed": false
   }
  }
 ],
 "metadata": {
  "kernelspec": {
   "display_name": "Python 3",
   "language": "python",
   "name": "python3"
  },
  "language_info": {
   "codemirror_mode": {
    "name": "ipython",
    "version": 2
   },
   "file_extension": ".py",
   "mimetype": "text/x-python",
   "name": "python",
   "nbconvert_exporter": "python",
   "pygments_lexer": "ipython2",
   "version": "2.7.6"
  }
 },
 "nbformat": 4,
 "nbformat_minor": 0
}
