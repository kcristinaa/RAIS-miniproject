{
 "cells": [
  {
   "cell_type": "code",
   "execution_count": 1,
   "metadata": {
    "collapsed": true
   },
   "outputs": [],
   "source": [
    "import pandas as pd\n",
    "\n",
    "from notebooks_feature_engineering.feature_engineering_functions import is_weekend, is_holiday"
   ]
  },
  {
   "cell_type": "code",
   "execution_count": 2,
   "outputs": [
    {
     "data": {
      "text/plain": "                         id        date  nightly_temperature  nremhr   rmssd  \\\n0  621e2e8e67b776a24055b564  2021-05-24            34.137687  57.432  89.603   \n1  621e328667b776a240281372  2021-05-24            33.971195  62.262  35.216   \n2  621e326767b776a24012e179  2021-05-24            33.971195  46.120  53.968   \n3  621e332267b776a24092a584  2021-05-24            33.971195  62.262  35.216   \n4  621e333567b776a240a0c217  2021-05-24            33.971195  62.262  35.216   \n\n   spo2  full_sleep_breathing_rate  stress_score  sleep_points_percentage  \\\n0  95.9                       14.8          78.0                 0.833333   \n1  95.9                       14.6          76.0                 0.766667   \n2  95.3                       14.4          80.0                 0.666667   \n3  95.9                       14.6          76.0                 0.766667   \n4  95.9                       14.6          76.0                 0.766667   \n\n   exertion_points_percentage  ...  Spinning  Sport  Swim  Treadmill  Walk  \\\n0                       0.675  ...       0.0    0.0   0.0        0.0   1.0   \n1                       0.725  ...       0.0    0.0   0.0        0.0   1.0   \n2                       0.925  ...       0.0    0.0   0.0        0.0   1.0   \n3                       0.725  ...       0.0    0.0   0.0        0.0   1.0   \n4                       0.725  ...       0.0    0.0   0.0        0.0   1.0   \n\n   Weights  Workout  Yoga/Pilates  spo2_tracking  ECG_tracking  \n0      0.0      0.0           0.0              0             0  \n1      0.0      0.0           0.0              0             0  \n2      0.0      0.0           0.0              1             1  \n3      0.0      0.0           0.0              1             0  \n4      0.0      0.0           0.0              0             0  \n\n[5 rows x 84 columns]",
      "text/html": "<div>\n<style scoped>\n    .dataframe tbody tr th:only-of-type {\n        vertical-align: middle;\n    }\n\n    .dataframe tbody tr th {\n        vertical-align: top;\n    }\n\n    .dataframe thead th {\n        text-align: right;\n    }\n</style>\n<table border=\"1\" class=\"dataframe\">\n  <thead>\n    <tr style=\"text-align: right;\">\n      <th></th>\n      <th>id</th>\n      <th>date</th>\n      <th>nightly_temperature</th>\n      <th>nremhr</th>\n      <th>rmssd</th>\n      <th>spo2</th>\n      <th>full_sleep_breathing_rate</th>\n      <th>stress_score</th>\n      <th>sleep_points_percentage</th>\n      <th>exertion_points_percentage</th>\n      <th>...</th>\n      <th>Spinning</th>\n      <th>Sport</th>\n      <th>Swim</th>\n      <th>Treadmill</th>\n      <th>Walk</th>\n      <th>Weights</th>\n      <th>Workout</th>\n      <th>Yoga/Pilates</th>\n      <th>spo2_tracking</th>\n      <th>ECG_tracking</th>\n    </tr>\n  </thead>\n  <tbody>\n    <tr>\n      <th>0</th>\n      <td>621e2e8e67b776a24055b564</td>\n      <td>2021-05-24</td>\n      <td>34.137687</td>\n      <td>57.432</td>\n      <td>89.603</td>\n      <td>95.9</td>\n      <td>14.8</td>\n      <td>78.0</td>\n      <td>0.833333</td>\n      <td>0.675</td>\n      <td>...</td>\n      <td>0.0</td>\n      <td>0.0</td>\n      <td>0.0</td>\n      <td>0.0</td>\n      <td>1.0</td>\n      <td>0.0</td>\n      <td>0.0</td>\n      <td>0.0</td>\n      <td>0</td>\n      <td>0</td>\n    </tr>\n    <tr>\n      <th>1</th>\n      <td>621e328667b776a240281372</td>\n      <td>2021-05-24</td>\n      <td>33.971195</td>\n      <td>62.262</td>\n      <td>35.216</td>\n      <td>95.9</td>\n      <td>14.6</td>\n      <td>76.0</td>\n      <td>0.766667</td>\n      <td>0.725</td>\n      <td>...</td>\n      <td>0.0</td>\n      <td>0.0</td>\n      <td>0.0</td>\n      <td>0.0</td>\n      <td>1.0</td>\n      <td>0.0</td>\n      <td>0.0</td>\n      <td>0.0</td>\n      <td>0</td>\n      <td>0</td>\n    </tr>\n    <tr>\n      <th>2</th>\n      <td>621e326767b776a24012e179</td>\n      <td>2021-05-24</td>\n      <td>33.971195</td>\n      <td>46.120</td>\n      <td>53.968</td>\n      <td>95.3</td>\n      <td>14.4</td>\n      <td>80.0</td>\n      <td>0.666667</td>\n      <td>0.925</td>\n      <td>...</td>\n      <td>0.0</td>\n      <td>0.0</td>\n      <td>0.0</td>\n      <td>0.0</td>\n      <td>1.0</td>\n      <td>0.0</td>\n      <td>0.0</td>\n      <td>0.0</td>\n      <td>1</td>\n      <td>1</td>\n    </tr>\n    <tr>\n      <th>3</th>\n      <td>621e332267b776a24092a584</td>\n      <td>2021-05-24</td>\n      <td>33.971195</td>\n      <td>62.262</td>\n      <td>35.216</td>\n      <td>95.9</td>\n      <td>14.6</td>\n      <td>76.0</td>\n      <td>0.766667</td>\n      <td>0.725</td>\n      <td>...</td>\n      <td>0.0</td>\n      <td>0.0</td>\n      <td>0.0</td>\n      <td>0.0</td>\n      <td>1.0</td>\n      <td>0.0</td>\n      <td>0.0</td>\n      <td>0.0</td>\n      <td>1</td>\n      <td>0</td>\n    </tr>\n    <tr>\n      <th>4</th>\n      <td>621e333567b776a240a0c217</td>\n      <td>2021-05-24</td>\n      <td>33.971195</td>\n      <td>62.262</td>\n      <td>35.216</td>\n      <td>95.9</td>\n      <td>14.6</td>\n      <td>76.0</td>\n      <td>0.766667</td>\n      <td>0.725</td>\n      <td>...</td>\n      <td>0.0</td>\n      <td>0.0</td>\n      <td>0.0</td>\n      <td>0.0</td>\n      <td>1.0</td>\n      <td>0.0</td>\n      <td>0.0</td>\n      <td>0.0</td>\n      <td>0</td>\n      <td>0</td>\n    </tr>\n  </tbody>\n</table>\n<p>5 rows × 84 columns</p>\n</div>"
     },
     "execution_count": 2,
     "metadata": {},
     "output_type": "execute_result"
    }
   ],
   "source": [
    "df = pd.read_pickle('.\\\\..\\\\data\\\\unified_dataframe\\\\data_preprocessed.pkl')\n",
    "df.head()"
   ],
   "metadata": {
    "collapsed": false
   }
  },
  {
   "cell_type": "markdown",
   "source": [
    "## Is the date weekend or weekday?"
   ],
   "metadata": {
    "collapsed": false
   }
  },
  {
   "cell_type": "code",
   "execution_count": 3,
   "outputs": [
    {
     "data": {
      "text/plain": "                         id       date  nightly_temperature  nremhr   rmssd  \\\n0  621e2e8e67b776a24055b564 2021-05-24            34.137687  57.432  89.603   \n1  621e328667b776a240281372 2021-05-24            33.971195  62.262  35.216   \n2  621e326767b776a24012e179 2021-05-24            33.971195  46.120  53.968   \n3  621e332267b776a24092a584 2021-05-24            33.971195  62.262  35.216   \n4  621e333567b776a240a0c217 2021-05-24            33.971195  62.262  35.216   \n\n   spo2  full_sleep_breathing_rate  stress_score  sleep_points_percentage  \\\n0  95.9                       14.8          78.0                 0.833333   \n1  95.9                       14.6          76.0                 0.766667   \n2  95.3                       14.4          80.0                 0.666667   \n3  95.9                       14.6          76.0                 0.766667   \n4  95.9                       14.6          76.0                 0.766667   \n\n   exertion_points_percentage  ...  Sport  Swim  Treadmill  Walk  Weights  \\\n0                       0.675  ...    0.0   0.0        0.0   1.0      0.0   \n1                       0.725  ...    0.0   0.0        0.0   1.0      0.0   \n2                       0.925  ...    0.0   0.0        0.0   1.0      0.0   \n3                       0.725  ...    0.0   0.0        0.0   1.0      0.0   \n4                       0.725  ...    0.0   0.0        0.0   1.0      0.0   \n\n   Workout  Yoga/Pilates  spo2_tracking  ECG_tracking  is_weekend  \n0      0.0           0.0              0             0       False  \n1      0.0           0.0              0             0       False  \n2      0.0           0.0              1             1       False  \n3      0.0           0.0              1             0       False  \n4      0.0           0.0              0             0       False  \n\n[5 rows x 85 columns]",
      "text/html": "<div>\n<style scoped>\n    .dataframe tbody tr th:only-of-type {\n        vertical-align: middle;\n    }\n\n    .dataframe tbody tr th {\n        vertical-align: top;\n    }\n\n    .dataframe thead th {\n        text-align: right;\n    }\n</style>\n<table border=\"1\" class=\"dataframe\">\n  <thead>\n    <tr style=\"text-align: right;\">\n      <th></th>\n      <th>id</th>\n      <th>date</th>\n      <th>nightly_temperature</th>\n      <th>nremhr</th>\n      <th>rmssd</th>\n      <th>spo2</th>\n      <th>full_sleep_breathing_rate</th>\n      <th>stress_score</th>\n      <th>sleep_points_percentage</th>\n      <th>exertion_points_percentage</th>\n      <th>...</th>\n      <th>Sport</th>\n      <th>Swim</th>\n      <th>Treadmill</th>\n      <th>Walk</th>\n      <th>Weights</th>\n      <th>Workout</th>\n      <th>Yoga/Pilates</th>\n      <th>spo2_tracking</th>\n      <th>ECG_tracking</th>\n      <th>is_weekend</th>\n    </tr>\n  </thead>\n  <tbody>\n    <tr>\n      <th>0</th>\n      <td>621e2e8e67b776a24055b564</td>\n      <td>2021-05-24</td>\n      <td>34.137687</td>\n      <td>57.432</td>\n      <td>89.603</td>\n      <td>95.9</td>\n      <td>14.8</td>\n      <td>78.0</td>\n      <td>0.833333</td>\n      <td>0.675</td>\n      <td>...</td>\n      <td>0.0</td>\n      <td>0.0</td>\n      <td>0.0</td>\n      <td>1.0</td>\n      <td>0.0</td>\n      <td>0.0</td>\n      <td>0.0</td>\n      <td>0</td>\n      <td>0</td>\n      <td>False</td>\n    </tr>\n    <tr>\n      <th>1</th>\n      <td>621e328667b776a240281372</td>\n      <td>2021-05-24</td>\n      <td>33.971195</td>\n      <td>62.262</td>\n      <td>35.216</td>\n      <td>95.9</td>\n      <td>14.6</td>\n      <td>76.0</td>\n      <td>0.766667</td>\n      <td>0.725</td>\n      <td>...</td>\n      <td>0.0</td>\n      <td>0.0</td>\n      <td>0.0</td>\n      <td>1.0</td>\n      <td>0.0</td>\n      <td>0.0</td>\n      <td>0.0</td>\n      <td>0</td>\n      <td>0</td>\n      <td>False</td>\n    </tr>\n    <tr>\n      <th>2</th>\n      <td>621e326767b776a24012e179</td>\n      <td>2021-05-24</td>\n      <td>33.971195</td>\n      <td>46.120</td>\n      <td>53.968</td>\n      <td>95.3</td>\n      <td>14.4</td>\n      <td>80.0</td>\n      <td>0.666667</td>\n      <td>0.925</td>\n      <td>...</td>\n      <td>0.0</td>\n      <td>0.0</td>\n      <td>0.0</td>\n      <td>1.0</td>\n      <td>0.0</td>\n      <td>0.0</td>\n      <td>0.0</td>\n      <td>1</td>\n      <td>1</td>\n      <td>False</td>\n    </tr>\n    <tr>\n      <th>3</th>\n      <td>621e332267b776a24092a584</td>\n      <td>2021-05-24</td>\n      <td>33.971195</td>\n      <td>62.262</td>\n      <td>35.216</td>\n      <td>95.9</td>\n      <td>14.6</td>\n      <td>76.0</td>\n      <td>0.766667</td>\n      <td>0.725</td>\n      <td>...</td>\n      <td>0.0</td>\n      <td>0.0</td>\n      <td>0.0</td>\n      <td>1.0</td>\n      <td>0.0</td>\n      <td>0.0</td>\n      <td>0.0</td>\n      <td>1</td>\n      <td>0</td>\n      <td>False</td>\n    </tr>\n    <tr>\n      <th>4</th>\n      <td>621e333567b776a240a0c217</td>\n      <td>2021-05-24</td>\n      <td>33.971195</td>\n      <td>62.262</td>\n      <td>35.216</td>\n      <td>95.9</td>\n      <td>14.6</td>\n      <td>76.0</td>\n      <td>0.766667</td>\n      <td>0.725</td>\n      <td>...</td>\n      <td>0.0</td>\n      <td>0.0</td>\n      <td>0.0</td>\n      <td>1.0</td>\n      <td>0.0</td>\n      <td>0.0</td>\n      <td>0.0</td>\n      <td>0</td>\n      <td>0</td>\n      <td>False</td>\n    </tr>\n  </tbody>\n</table>\n<p>5 rows × 85 columns</p>\n</div>"
     },
     "execution_count": 3,
     "metadata": {},
     "output_type": "execute_result"
    }
   ],
   "source": [
    "df = is_weekend(df)\n",
    "df.head()"
   ],
   "metadata": {
    "collapsed": false
   }
  },
  {
   "cell_type": "markdown",
   "source": [
    "## Is it a bank holiday in the participants' countries?"
   ],
   "metadata": {
    "collapsed": false
   }
  },
  {
   "cell_type": "code",
   "execution_count": 4,
   "outputs": [
    {
     "name": "stderr",
     "output_type": "stream",
     "text": [
      "C:\\Users\\syfan\\PycharmProjects\\RAIS-miniproject\\notebooks_feature_engineering\\feature_engineering_functions.py:87: FutureWarning: Comparison of Timestamp with datetime.date is deprecated in order to match the standard library behavior. In a future version these will be considered non-comparable. Use 'ts == pd.Timestamp(date)' or 'ts.date() == date' instead.\n",
      "  (d in gr_holidays) or (d in swe_holdidays) or (d in cy_holidays) or (d in it_holidays)) else False)\n"
     ]
    },
    {
     "data": {
      "text/plain": "                            id       date  nightly_temperature  nremhr  \\\n0     621e2e8e67b776a24055b564 2021-05-24            34.137687  57.432   \n1     621e328667b776a240281372 2021-05-24            33.971195  62.262   \n2     621e326767b776a24012e179 2021-05-24            33.971195  46.120   \n3     621e332267b776a24092a584 2021-05-24            33.971195  62.262   \n4     621e333567b776a240a0c217 2021-05-24            33.971195  62.262   \n...                        ...        ...                  ...     ...   \n1495  621e328667b776a240281372 2021-06-13            33.971195  62.262   \n1496  621e332267b776a24092a584 2021-06-13            33.500984  56.897   \n1497  621e375b67b776a240290cdc 2021-06-13            34.569474  64.663   \n1498  621e2fce67b776a240279baa 2021-06-13            34.158850  72.067   \n1499  621e2fce67b776a240279baa 2021-06-13            34.158850  72.067   \n\n       rmssd  spo2  full_sleep_breathing_rate  stress_score  \\\n0     89.603  95.9                       14.8          78.0   \n1     35.216  95.9                       14.6          76.0   \n2     53.968  95.3                       14.4          80.0   \n3     35.216  95.9                       14.6          76.0   \n4     35.216  95.9                       14.6          76.0   \n...      ...   ...                        ...           ...   \n1495  35.216  95.9                       14.6          76.0   \n1496  29.149  97.1                       17.2          76.0   \n1497  18.596  95.9                       16.8          86.0   \n1498  19.429  95.7                       13.4          78.0   \n1499  19.429  95.7                       13.4          78.0   \n\n      sleep_points_percentage  exertion_points_percentage  ...  Swim  \\\n0                    0.833333                       0.675  ...   0.0   \n1                    0.766667                       0.725  ...   0.0   \n2                    0.666667                       0.925  ...   0.0   \n3                    0.766667                       0.725  ...   0.0   \n4                    0.766667                       0.725  ...   0.0   \n...                       ...                         ...  ...   ...   \n1495                 0.766667                       0.725  ...   0.0   \n1496                 0.766667                       0.725  ...   0.0   \n1497                 0.966667                       0.875  ...   0.0   \n1498                 0.900000                       0.750  ...   0.0   \n1499                 0.900000                       0.750  ...   0.0   \n\n      Treadmill  Walk  Weights  Workout  Yoga/Pilates  spo2_tracking  \\\n0           0.0   1.0      0.0      0.0           0.0              0   \n1           0.0   1.0      0.0      0.0           0.0              0   \n2           0.0   1.0      0.0      0.0           0.0              1   \n3           0.0   1.0      0.0      0.0           0.0              1   \n4           0.0   1.0      0.0      0.0           0.0              0   \n...         ...   ...      ...      ...           ...            ...   \n1495        0.0   1.0      0.0      0.0           0.0              0   \n1496        0.0   1.0      0.0      0.0           0.0              1   \n1497        0.0   1.0      0.0      0.0           0.0              0   \n1498        0.0   1.0      0.0      0.0           0.0              1   \n1499        0.0   1.0      0.0      0.0           0.0              1   \n\n      ECG_tracking  is_weekend  is_holiday  \n0                0       False       False  \n1                0       False       False  \n2                1       False       False  \n3                0       False       False  \n4                0       False       False  \n...            ...         ...         ...  \n1495             0        True        True  \n1496             0        True        True  \n1497             0        True        True  \n1498             0        True        True  \n1499             0        True        True  \n\n[1500 rows x 86 columns]",
      "text/html": "<div>\n<style scoped>\n    .dataframe tbody tr th:only-of-type {\n        vertical-align: middle;\n    }\n\n    .dataframe tbody tr th {\n        vertical-align: top;\n    }\n\n    .dataframe thead th {\n        text-align: right;\n    }\n</style>\n<table border=\"1\" class=\"dataframe\">\n  <thead>\n    <tr style=\"text-align: right;\">\n      <th></th>\n      <th>id</th>\n      <th>date</th>\n      <th>nightly_temperature</th>\n      <th>nremhr</th>\n      <th>rmssd</th>\n      <th>spo2</th>\n      <th>full_sleep_breathing_rate</th>\n      <th>stress_score</th>\n      <th>sleep_points_percentage</th>\n      <th>exertion_points_percentage</th>\n      <th>...</th>\n      <th>Swim</th>\n      <th>Treadmill</th>\n      <th>Walk</th>\n      <th>Weights</th>\n      <th>Workout</th>\n      <th>Yoga/Pilates</th>\n      <th>spo2_tracking</th>\n      <th>ECG_tracking</th>\n      <th>is_weekend</th>\n      <th>is_holiday</th>\n    </tr>\n  </thead>\n  <tbody>\n    <tr>\n      <th>0</th>\n      <td>621e2e8e67b776a24055b564</td>\n      <td>2021-05-24</td>\n      <td>34.137687</td>\n      <td>57.432</td>\n      <td>89.603</td>\n      <td>95.9</td>\n      <td>14.8</td>\n      <td>78.0</td>\n      <td>0.833333</td>\n      <td>0.675</td>\n      <td>...</td>\n      <td>0.0</td>\n      <td>0.0</td>\n      <td>1.0</td>\n      <td>0.0</td>\n      <td>0.0</td>\n      <td>0.0</td>\n      <td>0</td>\n      <td>0</td>\n      <td>False</td>\n      <td>False</td>\n    </tr>\n    <tr>\n      <th>1</th>\n      <td>621e328667b776a240281372</td>\n      <td>2021-05-24</td>\n      <td>33.971195</td>\n      <td>62.262</td>\n      <td>35.216</td>\n      <td>95.9</td>\n      <td>14.6</td>\n      <td>76.0</td>\n      <td>0.766667</td>\n      <td>0.725</td>\n      <td>...</td>\n      <td>0.0</td>\n      <td>0.0</td>\n      <td>1.0</td>\n      <td>0.0</td>\n      <td>0.0</td>\n      <td>0.0</td>\n      <td>0</td>\n      <td>0</td>\n      <td>False</td>\n      <td>False</td>\n    </tr>\n    <tr>\n      <th>2</th>\n      <td>621e326767b776a24012e179</td>\n      <td>2021-05-24</td>\n      <td>33.971195</td>\n      <td>46.120</td>\n      <td>53.968</td>\n      <td>95.3</td>\n      <td>14.4</td>\n      <td>80.0</td>\n      <td>0.666667</td>\n      <td>0.925</td>\n      <td>...</td>\n      <td>0.0</td>\n      <td>0.0</td>\n      <td>1.0</td>\n      <td>0.0</td>\n      <td>0.0</td>\n      <td>0.0</td>\n      <td>1</td>\n      <td>1</td>\n      <td>False</td>\n      <td>False</td>\n    </tr>\n    <tr>\n      <th>3</th>\n      <td>621e332267b776a24092a584</td>\n      <td>2021-05-24</td>\n      <td>33.971195</td>\n      <td>62.262</td>\n      <td>35.216</td>\n      <td>95.9</td>\n      <td>14.6</td>\n      <td>76.0</td>\n      <td>0.766667</td>\n      <td>0.725</td>\n      <td>...</td>\n      <td>0.0</td>\n      <td>0.0</td>\n      <td>1.0</td>\n      <td>0.0</td>\n      <td>0.0</td>\n      <td>0.0</td>\n      <td>1</td>\n      <td>0</td>\n      <td>False</td>\n      <td>False</td>\n    </tr>\n    <tr>\n      <th>4</th>\n      <td>621e333567b776a240a0c217</td>\n      <td>2021-05-24</td>\n      <td>33.971195</td>\n      <td>62.262</td>\n      <td>35.216</td>\n      <td>95.9</td>\n      <td>14.6</td>\n      <td>76.0</td>\n      <td>0.766667</td>\n      <td>0.725</td>\n      <td>...</td>\n      <td>0.0</td>\n      <td>0.0</td>\n      <td>1.0</td>\n      <td>0.0</td>\n      <td>0.0</td>\n      <td>0.0</td>\n      <td>0</td>\n      <td>0</td>\n      <td>False</td>\n      <td>False</td>\n    </tr>\n    <tr>\n      <th>...</th>\n      <td>...</td>\n      <td>...</td>\n      <td>...</td>\n      <td>...</td>\n      <td>...</td>\n      <td>...</td>\n      <td>...</td>\n      <td>...</td>\n      <td>...</td>\n      <td>...</td>\n      <td>...</td>\n      <td>...</td>\n      <td>...</td>\n      <td>...</td>\n      <td>...</td>\n      <td>...</td>\n      <td>...</td>\n      <td>...</td>\n      <td>...</td>\n      <td>...</td>\n      <td>...</td>\n    </tr>\n    <tr>\n      <th>1495</th>\n      <td>621e328667b776a240281372</td>\n      <td>2021-06-13</td>\n      <td>33.971195</td>\n      <td>62.262</td>\n      <td>35.216</td>\n      <td>95.9</td>\n      <td>14.6</td>\n      <td>76.0</td>\n      <td>0.766667</td>\n      <td>0.725</td>\n      <td>...</td>\n      <td>0.0</td>\n      <td>0.0</td>\n      <td>1.0</td>\n      <td>0.0</td>\n      <td>0.0</td>\n      <td>0.0</td>\n      <td>0</td>\n      <td>0</td>\n      <td>True</td>\n      <td>True</td>\n    </tr>\n    <tr>\n      <th>1496</th>\n      <td>621e332267b776a24092a584</td>\n      <td>2021-06-13</td>\n      <td>33.500984</td>\n      <td>56.897</td>\n      <td>29.149</td>\n      <td>97.1</td>\n      <td>17.2</td>\n      <td>76.0</td>\n      <td>0.766667</td>\n      <td>0.725</td>\n      <td>...</td>\n      <td>0.0</td>\n      <td>0.0</td>\n      <td>1.0</td>\n      <td>0.0</td>\n      <td>0.0</td>\n      <td>0.0</td>\n      <td>1</td>\n      <td>0</td>\n      <td>True</td>\n      <td>True</td>\n    </tr>\n    <tr>\n      <th>1497</th>\n      <td>621e375b67b776a240290cdc</td>\n      <td>2021-06-13</td>\n      <td>34.569474</td>\n      <td>64.663</td>\n      <td>18.596</td>\n      <td>95.9</td>\n      <td>16.8</td>\n      <td>86.0</td>\n      <td>0.966667</td>\n      <td>0.875</td>\n      <td>...</td>\n      <td>0.0</td>\n      <td>0.0</td>\n      <td>1.0</td>\n      <td>0.0</td>\n      <td>0.0</td>\n      <td>0.0</td>\n      <td>0</td>\n      <td>0</td>\n      <td>True</td>\n      <td>True</td>\n    </tr>\n    <tr>\n      <th>1498</th>\n      <td>621e2fce67b776a240279baa</td>\n      <td>2021-06-13</td>\n      <td>34.158850</td>\n      <td>72.067</td>\n      <td>19.429</td>\n      <td>95.7</td>\n      <td>13.4</td>\n      <td>78.0</td>\n      <td>0.900000</td>\n      <td>0.750</td>\n      <td>...</td>\n      <td>0.0</td>\n      <td>0.0</td>\n      <td>1.0</td>\n      <td>0.0</td>\n      <td>0.0</td>\n      <td>0.0</td>\n      <td>1</td>\n      <td>0</td>\n      <td>True</td>\n      <td>True</td>\n    </tr>\n    <tr>\n      <th>1499</th>\n      <td>621e2fce67b776a240279baa</td>\n      <td>2021-06-13</td>\n      <td>34.158850</td>\n      <td>72.067</td>\n      <td>19.429</td>\n      <td>95.7</td>\n      <td>13.4</td>\n      <td>78.0</td>\n      <td>0.900000</td>\n      <td>0.750</td>\n      <td>...</td>\n      <td>0.0</td>\n      <td>0.0</td>\n      <td>1.0</td>\n      <td>0.0</td>\n      <td>0.0</td>\n      <td>0.0</td>\n      <td>1</td>\n      <td>0</td>\n      <td>True</td>\n      <td>True</td>\n    </tr>\n  </tbody>\n</table>\n<p>1500 rows × 86 columns</p>\n</div>"
     },
     "execution_count": 4,
     "metadata": {},
     "output_type": "execute_result"
    }
   ],
   "source": [
    "df = is_holiday(df)\n",
    "df.head(1500)"
   ],
   "metadata": {
    "collapsed": false
   }
  },
  {
   "cell_type": "code",
   "execution_count": 4,
   "outputs": [],
   "source": [],
   "metadata": {
    "collapsed": false
   }
  }
 ],
 "metadata": {
  "kernelspec": {
   "display_name": "Python 3",
   "language": "python",
   "name": "python3"
  },
  "language_info": {
   "codemirror_mode": {
    "name": "ipython",
    "version": 2
   },
   "file_extension": ".py",
   "mimetype": "text/x-python",
   "name": "python",
   "nbconvert_exporter": "python",
   "pygments_lexer": "ipython2",
   "version": "2.7.6"
  }
 },
 "nbformat": 4,
 "nbformat_minor": 0
}
