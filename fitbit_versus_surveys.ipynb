{
 "cells": [
  {
   "cell_type": "code",
   "execution_count": 73,
   "metadata": {
    "collapsed": false,
    "jupyter": {
     "outputs_hidden": false
    },
    "pycharm": {
     "name": "#%%\n"
    }
   },
   "outputs": [],
   "source": [
    "import warnings\n",
    "import numpy as np\n",
    "import scipy.stats\n",
    "import pandas as pd\n",
    "import seaborn as sns\n",
    "import matplotlib.pyplot as plt\n",
    "from dataprep.eda import create_report\n",
    "from pandas.core.common import SettingWithCopyWarning"
   ]
  },
  {
   "cell_type": "code",
   "execution_count": 74,
   "metadata": {
    "collapsed": false,
    "jupyter": {
     "outputs_hidden": false
    },
    "pycharm": {
     "name": "#%%\n"
    }
   },
   "outputs": [],
   "source": [
    "cmap='seismic'\n",
    "sns.set_palette(sns.color_palette(cmap))\n",
    "warnings.simplefilter(action=\"ignore\", category=SettingWithCopyWarning)"
   ]
  },
  {
   "cell_type": "markdown",
   "metadata": {
    "pycharm": {
     "name": "#%% md\n"
    }
   },
   "source": [
    "Find correlation between stai stress score and fitbit stress score"
   ]
  },
  {
   "cell_type": "code",
   "execution_count": 75,
   "metadata": {
    "collapsed": false,
    "jupyter": {
     "outputs_hidden": false
    },
    "pycharm": {
     "name": "#%%\n"
    }
   },
   "outputs": [
    {
     "data": {
      "text/html": [
       "<div>\n",
       "<style scoped>\n",
       "    .dataframe tbody tr th:only-of-type {\n",
       "        vertical-align: middle;\n",
       "    }\n",
       "\n",
       "    .dataframe tbody tr th {\n",
       "        vertical-align: top;\n",
       "    }\n",
       "\n",
       "    .dataframe thead th {\n",
       "        text-align: right;\n",
       "    }\n",
       "</style>\n",
       "<table border=\"1\" class=\"dataframe\">\n",
       "  <thead>\n",
       "    <tr style=\"text-align: right;\">\n",
       "      <th></th>\n",
       "      <th>id</th>\n",
       "      <th>date</th>\n",
       "      <th>stai_stress</th>\n",
       "      <th>stai_stress_category</th>\n",
       "      <th>nightly_temperature</th>\n",
       "      <th>nremhr</th>\n",
       "      <th>rmssd</th>\n",
       "      <th>spo2</th>\n",
       "      <th>full_sleep_breathing_rate</th>\n",
       "      <th>stress_score</th>\n",
       "      <th>...</th>\n",
       "      <th>Martial Arts</th>\n",
       "      <th>Run</th>\n",
       "      <th>Spinning</th>\n",
       "      <th>Sport</th>\n",
       "      <th>Swim</th>\n",
       "      <th>Treadmill</th>\n",
       "      <th>Walk</th>\n",
       "      <th>Weights</th>\n",
       "      <th>Workout</th>\n",
       "      <th>Yoga/Pilates</th>\n",
       "    </tr>\n",
       "  </thead>\n",
       "  <tbody>\n",
       "    <tr>\n",
       "      <th>0</th>\n",
       "      <td>621e2e8e67b776a24055b564</td>\n",
       "      <td>2021-05-31</td>\n",
       "      <td>45.0</td>\n",
       "      <td>Below average</td>\n",
       "      <td>34.408304</td>\n",
       "      <td>57.481</td>\n",
       "      <td>94.303</td>\n",
       "      <td>NaN</td>\n",
       "      <td>14.8</td>\n",
       "      <td>81.0</td>\n",
       "      <td>...</td>\n",
       "      <td>0.0</td>\n",
       "      <td>0.0</td>\n",
       "      <td>0.0</td>\n",
       "      <td>0.0</td>\n",
       "      <td>0.0</td>\n",
       "      <td>0.0</td>\n",
       "      <td>1.0</td>\n",
       "      <td>0.0</td>\n",
       "      <td>0.0</td>\n",
       "      <td>0.0</td>\n",
       "    </tr>\n",
       "    <tr>\n",
       "      <th>1</th>\n",
       "      <td>621e2e8e67b776a24055b564</td>\n",
       "      <td>2021-06-07</td>\n",
       "      <td>46.0</td>\n",
       "      <td>Average</td>\n",
       "      <td>34.476865</td>\n",
       "      <td>56.570</td>\n",
       "      <td>109.509</td>\n",
       "      <td>NaN</td>\n",
       "      <td>14.4</td>\n",
       "      <td>83.0</td>\n",
       "      <td>...</td>\n",
       "      <td>0.0</td>\n",
       "      <td>0.0</td>\n",
       "      <td>0.0</td>\n",
       "      <td>0.0</td>\n",
       "      <td>0.0</td>\n",
       "      <td>0.0</td>\n",
       "      <td>1.0</td>\n",
       "      <td>0.0</td>\n",
       "      <td>0.0</td>\n",
       "      <td>0.0</td>\n",
       "    </tr>\n",
       "    <tr>\n",
       "      <th>2</th>\n",
       "      <td>621e2e8e67b776a24055b564</td>\n",
       "      <td>2021-07-19</td>\n",
       "      <td>46.0</td>\n",
       "      <td>Average</td>\n",
       "      <td>34.254286</td>\n",
       "      <td>57.330</td>\n",
       "      <td>100.374</td>\n",
       "      <td>NaN</td>\n",
       "      <td>15.0</td>\n",
       "      <td>75.0</td>\n",
       "      <td>...</td>\n",
       "      <td>0.0</td>\n",
       "      <td>0.0</td>\n",
       "      <td>0.0</td>\n",
       "      <td>0.0</td>\n",
       "      <td>0.0</td>\n",
       "      <td>0.0</td>\n",
       "      <td>1.0</td>\n",
       "      <td>0.0</td>\n",
       "      <td>0.0</td>\n",
       "      <td>0.0</td>\n",
       "    </tr>\n",
       "    <tr>\n",
       "      <th>3</th>\n",
       "      <td>621e2e8e67b776a24055b564</td>\n",
       "      <td>2021-07-26</td>\n",
       "      <td>46.0</td>\n",
       "      <td>Average</td>\n",
       "      <td>34.515655</td>\n",
       "      <td>59.798</td>\n",
       "      <td>98.515</td>\n",
       "      <td>NaN</td>\n",
       "      <td>15.4</td>\n",
       "      <td>74.0</td>\n",
       "      <td>...</td>\n",
       "      <td>0.0</td>\n",
       "      <td>0.0</td>\n",
       "      <td>0.0</td>\n",
       "      <td>0.0</td>\n",
       "      <td>0.0</td>\n",
       "      <td>0.0</td>\n",
       "      <td>1.0</td>\n",
       "      <td>0.0</td>\n",
       "      <td>0.0</td>\n",
       "      <td>0.0</td>\n",
       "    </tr>\n",
       "    <tr>\n",
       "      <th>4</th>\n",
       "      <td>621e2e8e67b776a24055b564</td>\n",
       "      <td>2021-06-28</td>\n",
       "      <td>54.0</td>\n",
       "      <td>Above average</td>\n",
       "      <td>34.418045</td>\n",
       "      <td>53.006</td>\n",
       "      <td>107.388</td>\n",
       "      <td>NaN</td>\n",
       "      <td>15.6</td>\n",
       "      <td>76.0</td>\n",
       "      <td>...</td>\n",
       "      <td>0.0</td>\n",
       "      <td>0.0</td>\n",
       "      <td>0.0</td>\n",
       "      <td>0.0</td>\n",
       "      <td>0.0</td>\n",
       "      <td>0.0</td>\n",
       "      <td>1.0</td>\n",
       "      <td>0.0</td>\n",
       "      <td>0.0</td>\n",
       "      <td>0.0</td>\n",
       "    </tr>\n",
       "    <tr>\n",
       "      <th>...</th>\n",
       "      <td>...</td>\n",
       "      <td>...</td>\n",
       "      <td>...</td>\n",
       "      <td>...</td>\n",
       "      <td>...</td>\n",
       "      <td>...</td>\n",
       "      <td>...</td>\n",
       "      <td>...</td>\n",
       "      <td>...</td>\n",
       "      <td>...</td>\n",
       "      <td>...</td>\n",
       "      <td>...</td>\n",
       "      <td>...</td>\n",
       "      <td>...</td>\n",
       "      <td>...</td>\n",
       "      <td>...</td>\n",
       "      <td>...</td>\n",
       "      <td>...</td>\n",
       "      <td>...</td>\n",
       "      <td>...</td>\n",
       "      <td>...</td>\n",
       "    </tr>\n",
       "    <tr>\n",
       "      <th>274</th>\n",
       "      <td>621e339967b776a240e502de</td>\n",
       "      <td>2021-11-22</td>\n",
       "      <td>49.0</td>\n",
       "      <td>Average</td>\n",
       "      <td>NaN</td>\n",
       "      <td>NaN</td>\n",
       "      <td>NaN</td>\n",
       "      <td>NaN</td>\n",
       "      <td>NaN</td>\n",
       "      <td>NaN</td>\n",
       "      <td>...</td>\n",
       "      <td>NaN</td>\n",
       "      <td>NaN</td>\n",
       "      <td>NaN</td>\n",
       "      <td>NaN</td>\n",
       "      <td>NaN</td>\n",
       "      <td>NaN</td>\n",
       "      <td>NaN</td>\n",
       "      <td>NaN</td>\n",
       "      <td>NaN</td>\n",
       "      <td>NaN</td>\n",
       "    </tr>\n",
       "    <tr>\n",
       "      <th>275</th>\n",
       "      <td>621e339967b776a240e502de</td>\n",
       "      <td>2021-12-06</td>\n",
       "      <td>51.0</td>\n",
       "      <td>Above average</td>\n",
       "      <td>34.674633</td>\n",
       "      <td>51.192</td>\n",
       "      <td>49.232</td>\n",
       "      <td>96.2</td>\n",
       "      <td>12.2</td>\n",
       "      <td>83.0</td>\n",
       "      <td>...</td>\n",
       "      <td>0.0</td>\n",
       "      <td>0.0</td>\n",
       "      <td>0.0</td>\n",
       "      <td>0.0</td>\n",
       "      <td>0.0</td>\n",
       "      <td>0.0</td>\n",
       "      <td>1.0</td>\n",
       "      <td>0.0</td>\n",
       "      <td>0.0</td>\n",
       "      <td>0.0</td>\n",
       "    </tr>\n",
       "    <tr>\n",
       "      <th>276</th>\n",
       "      <td>621e339967b776a240e502de</td>\n",
       "      <td>2021-12-14</td>\n",
       "      <td>45.0</td>\n",
       "      <td>Below average</td>\n",
       "      <td>34.303759</td>\n",
       "      <td>46.311</td>\n",
       "      <td>56.468</td>\n",
       "      <td>96.5</td>\n",
       "      <td>11.0</td>\n",
       "      <td>87.0</td>\n",
       "      <td>...</td>\n",
       "      <td>0.0</td>\n",
       "      <td>0.0</td>\n",
       "      <td>0.0</td>\n",
       "      <td>0.0</td>\n",
       "      <td>0.0</td>\n",
       "      <td>0.0</td>\n",
       "      <td>1.0</td>\n",
       "      <td>0.0</td>\n",
       "      <td>0.0</td>\n",
       "      <td>0.0</td>\n",
       "    </tr>\n",
       "    <tr>\n",
       "      <th>277</th>\n",
       "      <td>621e339967b776a240e502de</td>\n",
       "      <td>2021-12-20</td>\n",
       "      <td>48.0</td>\n",
       "      <td>Average</td>\n",
       "      <td>34.876472</td>\n",
       "      <td>50.683</td>\n",
       "      <td>47.293</td>\n",
       "      <td>96.0</td>\n",
       "      <td>11.6</td>\n",
       "      <td>82.0</td>\n",
       "      <td>...</td>\n",
       "      <td>0.0</td>\n",
       "      <td>0.0</td>\n",
       "      <td>0.0</td>\n",
       "      <td>0.0</td>\n",
       "      <td>0.0</td>\n",
       "      <td>0.0</td>\n",
       "      <td>0.0</td>\n",
       "      <td>0.0</td>\n",
       "      <td>0.0</td>\n",
       "      <td>0.0</td>\n",
       "    </tr>\n",
       "    <tr>\n",
       "      <th>278</th>\n",
       "      <td>621e339967b776a240e502de</td>\n",
       "      <td>2022-01-12</td>\n",
       "      <td>49.0</td>\n",
       "      <td>Average</td>\n",
       "      <td>34.073346</td>\n",
       "      <td>51.364</td>\n",
       "      <td>51.324</td>\n",
       "      <td>96.1</td>\n",
       "      <td>12.2</td>\n",
       "      <td>84.0</td>\n",
       "      <td>...</td>\n",
       "      <td>0.0</td>\n",
       "      <td>0.0</td>\n",
       "      <td>0.0</td>\n",
       "      <td>0.0</td>\n",
       "      <td>0.0</td>\n",
       "      <td>0.0</td>\n",
       "      <td>1.0</td>\n",
       "      <td>0.0</td>\n",
       "      <td>0.0</td>\n",
       "      <td>0.0</td>\n",
       "    </tr>\n",
       "  </tbody>\n",
       "</table>\n",
       "<p>279 rows × 66 columns</p>\n",
       "</div>"
      ],
      "text/plain": [
       "                           id       date  stai_stress stai_stress_category  \\\n",
       "0    621e2e8e67b776a24055b564 2021-05-31         45.0        Below average   \n",
       "1    621e2e8e67b776a24055b564 2021-06-07         46.0              Average   \n",
       "2    621e2e8e67b776a24055b564 2021-07-19         46.0              Average   \n",
       "3    621e2e8e67b776a24055b564 2021-07-26         46.0              Average   \n",
       "4    621e2e8e67b776a24055b564 2021-06-28         54.0        Above average   \n",
       "..                        ...        ...          ...                  ...   \n",
       "274  621e339967b776a240e502de 2021-11-22         49.0              Average   \n",
       "275  621e339967b776a240e502de 2021-12-06         51.0        Above average   \n",
       "276  621e339967b776a240e502de 2021-12-14         45.0        Below average   \n",
       "277  621e339967b776a240e502de 2021-12-20         48.0              Average   \n",
       "278  621e339967b776a240e502de 2022-01-12         49.0              Average   \n",
       "\n",
       "     nightly_temperature  nremhr    rmssd  spo2  full_sleep_breathing_rate  \\\n",
       "0              34.408304  57.481   94.303   NaN                       14.8   \n",
       "1              34.476865  56.570  109.509   NaN                       14.4   \n",
       "2              34.254286  57.330  100.374   NaN                       15.0   \n",
       "3              34.515655  59.798   98.515   NaN                       15.4   \n",
       "4              34.418045  53.006  107.388   NaN                       15.6   \n",
       "..                   ...     ...      ...   ...                        ...   \n",
       "274                  NaN     NaN      NaN   NaN                        NaN   \n",
       "275            34.674633  51.192   49.232  96.2                       12.2   \n",
       "276            34.303759  46.311   56.468  96.5                       11.0   \n",
       "277            34.876472  50.683   47.293  96.0                       11.6   \n",
       "278            34.073346  51.364   51.324  96.1                       12.2   \n",
       "\n",
       "     stress_score  ...  Martial Arts  Run  Spinning  Sport  Swim  Treadmill  \\\n",
       "0            81.0  ...           0.0  0.0       0.0    0.0   0.0        0.0   \n",
       "1            83.0  ...           0.0  0.0       0.0    0.0   0.0        0.0   \n",
       "2            75.0  ...           0.0  0.0       0.0    0.0   0.0        0.0   \n",
       "3            74.0  ...           0.0  0.0       0.0    0.0   0.0        0.0   \n",
       "4            76.0  ...           0.0  0.0       0.0    0.0   0.0        0.0   \n",
       "..            ...  ...           ...  ...       ...    ...   ...        ...   \n",
       "274           NaN  ...           NaN  NaN       NaN    NaN   NaN        NaN   \n",
       "275          83.0  ...           0.0  0.0       0.0    0.0   0.0        0.0   \n",
       "276          87.0  ...           0.0  0.0       0.0    0.0   0.0        0.0   \n",
       "277          82.0  ...           0.0  0.0       0.0    0.0   0.0        0.0   \n",
       "278          84.0  ...           0.0  0.0       0.0    0.0   0.0        0.0   \n",
       "\n",
       "     Walk  Weights  Workout  Yoga/Pilates  \n",
       "0     1.0      0.0      0.0           0.0  \n",
       "1     1.0      0.0      0.0           0.0  \n",
       "2     1.0      0.0      0.0           0.0  \n",
       "3     1.0      0.0      0.0           0.0  \n",
       "4     1.0      0.0      0.0           0.0  \n",
       "..    ...      ...      ...           ...  \n",
       "274   NaN      NaN      NaN           NaN  \n",
       "275   1.0      0.0      0.0           0.0  \n",
       "276   1.0      0.0      0.0           0.0  \n",
       "277   0.0      0.0      0.0           0.0  \n",
       "278   1.0      0.0      0.0           0.0  \n",
       "\n",
       "[279 rows x 66 columns]"
      ]
     },
     "execution_count": 75,
     "metadata": {},
     "output_type": "execute_result"
    }
   ],
   "source": [
    "fitbit_stai = pd.read_pickle('data/fitbit_stai_to_model.pkl')\n",
    "cols = list(fitbit_stai.columns)\n",
    "removed_ele = ['id', 'date', 'stai_stress_category']\n",
    "for ele in removed_ele:\n",
    "    cols.remove(ele)\n",
    "for column in cols:\n",
    "    fitbit_stai[column] = pd.to_numeric(fitbit_stai[column])\n",
    "fitbit_stai"
   ]
  },
  {
   "cell_type": "code",
   "execution_count": 76,
   "metadata": {
    "collapsed": false,
    "jupyter": {
     "outputs_hidden": false
    },
    "pycharm": {
     "name": "#%%\n"
    }
   },
   "outputs": [
    {
     "data": {
      "text/html": [
       "<div>\n",
       "<style scoped>\n",
       "    .dataframe tbody tr th:only-of-type {\n",
       "        vertical-align: middle;\n",
       "    }\n",
       "\n",
       "    .dataframe tbody tr th {\n",
       "        vertical-align: top;\n",
       "    }\n",
       "\n",
       "    .dataframe thead th {\n",
       "        text-align: right;\n",
       "    }\n",
       "</style>\n",
       "<table border=\"1\" class=\"dataframe\">\n",
       "  <thead>\n",
       "    <tr style=\"text-align: right;\">\n",
       "      <th></th>\n",
       "      <th>stai_stress</th>\n",
       "      <th>stress_score</th>\n",
       "    </tr>\n",
       "  </thead>\n",
       "  <tbody>\n",
       "    <tr>\n",
       "      <th>0</th>\n",
       "      <td>45.0</td>\n",
       "      <td>81.0</td>\n",
       "    </tr>\n",
       "    <tr>\n",
       "      <th>1</th>\n",
       "      <td>46.0</td>\n",
       "      <td>83.0</td>\n",
       "    </tr>\n",
       "    <tr>\n",
       "      <th>2</th>\n",
       "      <td>46.0</td>\n",
       "      <td>75.0</td>\n",
       "    </tr>\n",
       "    <tr>\n",
       "      <th>3</th>\n",
       "      <td>46.0</td>\n",
       "      <td>74.0</td>\n",
       "    </tr>\n",
       "    <tr>\n",
       "      <th>4</th>\n",
       "      <td>54.0</td>\n",
       "      <td>76.0</td>\n",
       "    </tr>\n",
       "    <tr>\n",
       "      <th>...</th>\n",
       "      <td>...</td>\n",
       "      <td>...</td>\n",
       "    </tr>\n",
       "    <tr>\n",
       "      <th>274</th>\n",
       "      <td>49.0</td>\n",
       "      <td>NaN</td>\n",
       "    </tr>\n",
       "    <tr>\n",
       "      <th>275</th>\n",
       "      <td>51.0</td>\n",
       "      <td>83.0</td>\n",
       "    </tr>\n",
       "    <tr>\n",
       "      <th>276</th>\n",
       "      <td>45.0</td>\n",
       "      <td>87.0</td>\n",
       "    </tr>\n",
       "    <tr>\n",
       "      <th>277</th>\n",
       "      <td>48.0</td>\n",
       "      <td>82.0</td>\n",
       "    </tr>\n",
       "    <tr>\n",
       "      <th>278</th>\n",
       "      <td>49.0</td>\n",
       "      <td>84.0</td>\n",
       "    </tr>\n",
       "  </tbody>\n",
       "</table>\n",
       "<p>279 rows × 2 columns</p>\n",
       "</div>"
      ],
      "text/plain": [
       "     stai_stress  stress_score\n",
       "0           45.0          81.0\n",
       "1           46.0          83.0\n",
       "2           46.0          75.0\n",
       "3           46.0          74.0\n",
       "4           54.0          76.0\n",
       "..           ...           ...\n",
       "274         49.0           NaN\n",
       "275         51.0          83.0\n",
       "276         45.0          87.0\n",
       "277         48.0          82.0\n",
       "278         49.0          84.0\n",
       "\n",
       "[279 rows x 2 columns]"
      ]
     },
     "execution_count": 76,
     "metadata": {},
     "output_type": "execute_result"
    }
   ],
   "source": [
    "correlation_stai = fitbit_stai[['stai_stress', 'stress_score']]\n",
    "correlation_stai"
   ]
  },
  {
   "cell_type": "code",
   "execution_count": 77,
   "metadata": {
    "collapsed": false,
    "jupyter": {
     "outputs_hidden": false
    },
    "pycharm": {
     "name": "#%%\n"
    }
   },
   "outputs": [
    {
     "data": {
      "text/html": [
       "<div>\n",
       "<style scoped>\n",
       "    .dataframe tbody tr th:only-of-type {\n",
       "        vertical-align: middle;\n",
       "    }\n",
       "\n",
       "    .dataframe tbody tr th {\n",
       "        vertical-align: top;\n",
       "    }\n",
       "\n",
       "    .dataframe thead th {\n",
       "        text-align: right;\n",
       "    }\n",
       "</style>\n",
       "<table border=\"1\" class=\"dataframe\">\n",
       "  <thead>\n",
       "    <tr style=\"text-align: right;\">\n",
       "      <th></th>\n",
       "      <th>stai_stress</th>\n",
       "      <th>stress_score</th>\n",
       "    </tr>\n",
       "  </thead>\n",
       "  <tbody>\n",
       "    <tr>\n",
       "      <th>0</th>\n",
       "      <td>45.0</td>\n",
       "      <td>81.0</td>\n",
       "    </tr>\n",
       "    <tr>\n",
       "      <th>1</th>\n",
       "      <td>46.0</td>\n",
       "      <td>83.0</td>\n",
       "    </tr>\n",
       "    <tr>\n",
       "      <th>2</th>\n",
       "      <td>46.0</td>\n",
       "      <td>75.0</td>\n",
       "    </tr>\n",
       "    <tr>\n",
       "      <th>3</th>\n",
       "      <td>46.0</td>\n",
       "      <td>74.0</td>\n",
       "    </tr>\n",
       "    <tr>\n",
       "      <th>4</th>\n",
       "      <td>54.0</td>\n",
       "      <td>76.0</td>\n",
       "    </tr>\n",
       "    <tr>\n",
       "      <th>...</th>\n",
       "      <td>...</td>\n",
       "      <td>...</td>\n",
       "    </tr>\n",
       "    <tr>\n",
       "      <th>273</th>\n",
       "      <td>49.0</td>\n",
       "      <td>81.0</td>\n",
       "    </tr>\n",
       "    <tr>\n",
       "      <th>275</th>\n",
       "      <td>51.0</td>\n",
       "      <td>83.0</td>\n",
       "    </tr>\n",
       "    <tr>\n",
       "      <th>276</th>\n",
       "      <td>45.0</td>\n",
       "      <td>87.0</td>\n",
       "    </tr>\n",
       "    <tr>\n",
       "      <th>277</th>\n",
       "      <td>48.0</td>\n",
       "      <td>82.0</td>\n",
       "    </tr>\n",
       "    <tr>\n",
       "      <th>278</th>\n",
       "      <td>49.0</td>\n",
       "      <td>84.0</td>\n",
       "    </tr>\n",
       "  </tbody>\n",
       "</table>\n",
       "<p>134 rows × 2 columns</p>\n",
       "</div>"
      ],
      "text/plain": [
       "     stai_stress  stress_score\n",
       "0           45.0          81.0\n",
       "1           46.0          83.0\n",
       "2           46.0          75.0\n",
       "3           46.0          74.0\n",
       "4           54.0          76.0\n",
       "..           ...           ...\n",
       "273         49.0          81.0\n",
       "275         51.0          83.0\n",
       "276         45.0          87.0\n",
       "277         48.0          82.0\n",
       "278         49.0          84.0\n",
       "\n",
       "[134 rows x 2 columns]"
      ]
     },
     "execution_count": 77,
     "metadata": {},
     "output_type": "execute_result"
    }
   ],
   "source": [
    "correlation_stai.dropna(inplace=True)\n",
    "correlation_stai"
   ]
  },
  {
   "cell_type": "markdown",
   "metadata": {
    "pycharm": {
     "name": "#%% md\n"
    }
   },
   "source": [
    "Scatter plot with fitbit and stai"
   ]
  },
  {
   "cell_type": "code",
   "execution_count": 78,
   "metadata": {
    "collapsed": false,
    "jupyter": {
     "outputs_hidden": false
    },
    "pycharm": {
     "name": "#%%\n"
    }
   },
   "outputs": [
    {
     "data": {
      "image/png": "[encoded data removed]",
      "text/plain": [
       "<Figure size 640x480 with 1 Axes>"
      ]
     },
     "metadata": {},
     "output_type": "display_data"
    }
   ],
   "source": [
    "stress_scores = list(correlation_stai['stress_score'])\n",
    "stai_scores = list(correlation_stai['stai_stress'])\n",
    "\n",
    "plt.scatter(stress_scores, stai_scores)\n",
    "plt.xlabel(\"Stress scores\")\n",
    "plt.ylabel(\"Stai scores\")\n",
    "plt.title(\"Scatter plot\")\n",
    "plt.show()"
   ]
  },
  {
   "cell_type": "markdown",
   "metadata": {
    "pycharm": {
     "name": "#%% md\n"
    }
   },
   "source": [
    "Pearson correlation between fitbit and stai stress scores"
   ]
  },
  {
   "cell_type": "code",
   "execution_count": 79,
   "metadata": {
    "collapsed": false,
    "jupyter": {
     "outputs_hidden": false
    },
    "pycharm": {
     "name": "#%%\n"
    }
   },
   "outputs": [
    {
     "name": "stdout",
     "output_type": "stream",
     "text": [
      "Fitbit stress score vs Stai stress score =  -0.07964959702477661\n"
     ]
    }
   ],
   "source": [
    "correlation = scipy.stats.pearsonr(stress_scores,stai_scores)[0]\n",
    "print(\"Fitbit stress score vs Stai stress score = \", correlation)"
   ]
  },
  {
   "cell_type": "code",
   "execution_count": 80,
   "metadata": {
    "collapsed": false,
    "jupyter": {
     "outputs_hidden": false
    },
    "pycharm": {
     "name": "#%%\n"
    }
   },
   "outputs": [
    {
     "data": {
      "text/plain": [
       "<matplotlib.axes._subplots.AxesSubplot at 0x283820e66d0>"
      ]
     },
     "execution_count": 80,
     "metadata": {},
     "output_type": "execute_result"
    },
    {
     "data": {
      "image/png": "[encoded data removed]",
      "text/plain": [
       "<Figure size 640x480 with 2 Axes>"
      ]
     },
     "metadata": {},
     "output_type": "display_data"
    }
   ],
   "source": [
    "correlation_matrix = correlation_stai.corr().round(2)\n",
    "mask = np.triu(np.ones_like(correlation_matrix, dtype=bool))\n",
    "sns.heatmap(data=correlation_matrix, annot=True,cmap=cmap,mask=mask)"
   ]
  },
  {
   "cell_type": "markdown",
   "metadata": {
    "pycharm": {
     "name": "#%% md\n"
    }
   },
   "source": [
    "Find correlation between panas negative/positive affect score and fitbit stress score"
   ]
  },
  {
   "cell_type": "code",
   "execution_count": 81,
   "metadata": {
    "collapsed": false,
    "jupyter": {
     "outputs_hidden": false
    },
    "pycharm": {
     "name": "#%%\n"
    }
   },
   "outputs": [
    {
     "data": {
      "text/html": [
       "<div>\n",
       "<style scoped>\n",
       "    .dataframe tbody tr th:only-of-type {\n",
       "        vertical-align: middle;\n",
       "    }\n",
       "\n",
       "    .dataframe tbody tr th {\n",
       "        vertical-align: top;\n",
       "    }\n",
       "\n",
       "    .dataframe thead th {\n",
       "        text-align: right;\n",
       "    }\n",
       "</style>\n",
       "<table border=\"1\" class=\"dataframe\">\n",
       "  <thead>\n",
       "    <tr style=\"text-align: right;\">\n",
       "      <th></th>\n",
       "      <th>id</th>\n",
       "      <th>date</th>\n",
       "      <th>positive_affect_score</th>\n",
       "      <th>negative_affect_score</th>\n",
       "      <th>nightly_temperature</th>\n",
       "      <th>nremhr</th>\n",
       "      <th>rmssd</th>\n",
       "      <th>spo2</th>\n",
       "      <th>full_sleep_breathing_rate</th>\n",
       "      <th>stress_score</th>\n",
       "      <th>...</th>\n",
       "      <th>Martial Arts</th>\n",
       "      <th>Run</th>\n",
       "      <th>Spinning</th>\n",
       "      <th>Sport</th>\n",
       "      <th>Swim</th>\n",
       "      <th>Treadmill</th>\n",
       "      <th>Walk</th>\n",
       "      <th>Weights</th>\n",
       "      <th>Workout</th>\n",
       "      <th>Yoga/Pilates</th>\n",
       "    </tr>\n",
       "  </thead>\n",
       "  <tbody>\n",
       "    <tr>\n",
       "      <th>0</th>\n",
       "      <td>621e2e8e67b776a24055b564</td>\n",
       "      <td>2021-07-26</td>\n",
       "      <td>37</td>\n",
       "      <td>14</td>\n",
       "      <td>34.515655</td>\n",
       "      <td>59.798</td>\n",
       "      <td>98.515</td>\n",
       "      <td>NaN</td>\n",
       "      <td>15.4</td>\n",
       "      <td>74.0</td>\n",
       "      <td>...</td>\n",
       "      <td>0.0</td>\n",
       "      <td>0.0</td>\n",
       "      <td>0.0</td>\n",
       "      <td>0.0</td>\n",
       "      <td>0.0</td>\n",
       "      <td>0.0</td>\n",
       "      <td>1.0</td>\n",
       "      <td>0.0</td>\n",
       "      <td>0.0</td>\n",
       "      <td>0.0</td>\n",
       "    </tr>\n",
       "    <tr>\n",
       "      <th>1</th>\n",
       "      <td>621e2e8e67b776a24055b564</td>\n",
       "      <td>2021-05-31</td>\n",
       "      <td>38</td>\n",
       "      <td>12</td>\n",
       "      <td>34.408304</td>\n",
       "      <td>57.481</td>\n",
       "      <td>94.303</td>\n",
       "      <td>NaN</td>\n",
       "      <td>14.8</td>\n",
       "      <td>81.0</td>\n",
       "      <td>...</td>\n",
       "      <td>0.0</td>\n",
       "      <td>0.0</td>\n",
       "      <td>0.0</td>\n",
       "      <td>0.0</td>\n",
       "      <td>0.0</td>\n",
       "      <td>0.0</td>\n",
       "      <td>1.0</td>\n",
       "      <td>0.0</td>\n",
       "      <td>0.0</td>\n",
       "      <td>0.0</td>\n",
       "    </tr>\n",
       "    <tr>\n",
       "      <th>2</th>\n",
       "      <td>621e2e8e67b776a24055b564</td>\n",
       "      <td>2021-06-07</td>\n",
       "      <td>37</td>\n",
       "      <td>12</td>\n",
       "      <td>34.476865</td>\n",
       "      <td>56.570</td>\n",
       "      <td>109.509</td>\n",
       "      <td>NaN</td>\n",
       "      <td>14.4</td>\n",
       "      <td>83.0</td>\n",
       "      <td>...</td>\n",
       "      <td>0.0</td>\n",
       "      <td>0.0</td>\n",
       "      <td>0.0</td>\n",
       "      <td>0.0</td>\n",
       "      <td>0.0</td>\n",
       "      <td>0.0</td>\n",
       "      <td>1.0</td>\n",
       "      <td>0.0</td>\n",
       "      <td>0.0</td>\n",
       "      <td>0.0</td>\n",
       "    </tr>\n",
       "    <tr>\n",
       "      <th>3</th>\n",
       "      <td>621e2e8e67b776a24055b564</td>\n",
       "      <td>2021-06-28</td>\n",
       "      <td>31</td>\n",
       "      <td>12</td>\n",
       "      <td>34.418045</td>\n",
       "      <td>53.006</td>\n",
       "      <td>107.388</td>\n",
       "      <td>NaN</td>\n",
       "      <td>15.6</td>\n",
       "      <td>76.0</td>\n",
       "      <td>...</td>\n",
       "      <td>0.0</td>\n",
       "      <td>0.0</td>\n",
       "      <td>0.0</td>\n",
       "      <td>0.0</td>\n",
       "      <td>0.0</td>\n",
       "      <td>0.0</td>\n",
       "      <td>1.0</td>\n",
       "      <td>0.0</td>\n",
       "      <td>0.0</td>\n",
       "      <td>0.0</td>\n",
       "    </tr>\n",
       "    <tr>\n",
       "      <th>4</th>\n",
       "      <td>621e2e8e67b776a24055b564</td>\n",
       "      <td>2021-07-19</td>\n",
       "      <td>37</td>\n",
       "      <td>12</td>\n",
       "      <td>34.254286</td>\n",
       "      <td>57.330</td>\n",
       "      <td>100.374</td>\n",
       "      <td>NaN</td>\n",
       "      <td>15.0</td>\n",
       "      <td>75.0</td>\n",
       "      <td>...</td>\n",
       "      <td>0.0</td>\n",
       "      <td>0.0</td>\n",
       "      <td>0.0</td>\n",
       "      <td>0.0</td>\n",
       "      <td>0.0</td>\n",
       "      <td>0.0</td>\n",
       "      <td>1.0</td>\n",
       "      <td>0.0</td>\n",
       "      <td>0.0</td>\n",
       "      <td>0.0</td>\n",
       "    </tr>\n",
       "    <tr>\n",
       "      <th>...</th>\n",
       "      <td>...</td>\n",
       "      <td>...</td>\n",
       "      <td>...</td>\n",
       "      <td>...</td>\n",
       "      <td>...</td>\n",
       "      <td>...</td>\n",
       "      <td>...</td>\n",
       "      <td>...</td>\n",
       "      <td>...</td>\n",
       "      <td>...</td>\n",
       "      <td>...</td>\n",
       "      <td>...</td>\n",
       "      <td>...</td>\n",
       "      <td>...</td>\n",
       "      <td>...</td>\n",
       "      <td>...</td>\n",
       "      <td>...</td>\n",
       "      <td>...</td>\n",
       "      <td>...</td>\n",
       "      <td>...</td>\n",
       "      <td>...</td>\n",
       "    </tr>\n",
       "    <tr>\n",
       "      <th>263</th>\n",
       "      <td>621e339967b776a240e502de</td>\n",
       "      <td>2021-12-20</td>\n",
       "      <td>44</td>\n",
       "      <td>13</td>\n",
       "      <td>34.876472</td>\n",
       "      <td>50.683</td>\n",
       "      <td>47.293</td>\n",
       "      <td>96.0</td>\n",
       "      <td>11.6</td>\n",
       "      <td>82.0</td>\n",
       "      <td>...</td>\n",
       "      <td>0.0</td>\n",
       "      <td>0.0</td>\n",
       "      <td>0.0</td>\n",
       "      <td>0.0</td>\n",
       "      <td>0.0</td>\n",
       "      <td>0.0</td>\n",
       "      <td>0.0</td>\n",
       "      <td>0.0</td>\n",
       "      <td>0.0</td>\n",
       "      <td>0.0</td>\n",
       "    </tr>\n",
       "    <tr>\n",
       "      <th>264</th>\n",
       "      <td>621e339967b776a240e502de</td>\n",
       "      <td>2021-12-27</td>\n",
       "      <td>45</td>\n",
       "      <td>11</td>\n",
       "      <td>35.107574</td>\n",
       "      <td>54.325</td>\n",
       "      <td>47.929</td>\n",
       "      <td>95.4</td>\n",
       "      <td>12.2</td>\n",
       "      <td>87.0</td>\n",
       "      <td>...</td>\n",
       "      <td>0.0</td>\n",
       "      <td>0.0</td>\n",
       "      <td>0.0</td>\n",
       "      <td>0.0</td>\n",
       "      <td>0.0</td>\n",
       "      <td>0.0</td>\n",
       "      <td>1.0</td>\n",
       "      <td>0.0</td>\n",
       "      <td>0.0</td>\n",
       "      <td>0.0</td>\n",
       "    </tr>\n",
       "    <tr>\n",
       "      <th>265</th>\n",
       "      <td>621e339967b776a240e502de</td>\n",
       "      <td>2022-01-03</td>\n",
       "      <td>44</td>\n",
       "      <td>11</td>\n",
       "      <td>34.957428</td>\n",
       "      <td>52.810</td>\n",
       "      <td>47.801</td>\n",
       "      <td>94.9</td>\n",
       "      <td>12.4</td>\n",
       "      <td>81.0</td>\n",
       "      <td>...</td>\n",
       "      <td>0.0</td>\n",
       "      <td>0.0</td>\n",
       "      <td>0.0</td>\n",
       "      <td>0.0</td>\n",
       "      <td>0.0</td>\n",
       "      <td>0.0</td>\n",
       "      <td>1.0</td>\n",
       "      <td>0.0</td>\n",
       "      <td>0.0</td>\n",
       "      <td>0.0</td>\n",
       "    </tr>\n",
       "    <tr>\n",
       "      <th>266</th>\n",
       "      <td>621e339967b776a240e502de</td>\n",
       "      <td>2022-01-12</td>\n",
       "      <td>45</td>\n",
       "      <td>13</td>\n",
       "      <td>34.073346</td>\n",
       "      <td>51.364</td>\n",
       "      <td>51.324</td>\n",
       "      <td>96.1</td>\n",
       "      <td>12.2</td>\n",
       "      <td>84.0</td>\n",
       "      <td>...</td>\n",
       "      <td>0.0</td>\n",
       "      <td>0.0</td>\n",
       "      <td>0.0</td>\n",
       "      <td>0.0</td>\n",
       "      <td>0.0</td>\n",
       "      <td>0.0</td>\n",
       "      <td>1.0</td>\n",
       "      <td>0.0</td>\n",
       "      <td>0.0</td>\n",
       "      <td>0.0</td>\n",
       "    </tr>\n",
       "    <tr>\n",
       "      <th>267</th>\n",
       "      <td>621e339967b776a240e502de</td>\n",
       "      <td>2021-12-06</td>\n",
       "      <td>41</td>\n",
       "      <td>12</td>\n",
       "      <td>34.674633</td>\n",
       "      <td>51.192</td>\n",
       "      <td>49.232</td>\n",
       "      <td>96.2</td>\n",
       "      <td>12.2</td>\n",
       "      <td>83.0</td>\n",
       "      <td>...</td>\n",
       "      <td>0.0</td>\n",
       "      <td>0.0</td>\n",
       "      <td>0.0</td>\n",
       "      <td>0.0</td>\n",
       "      <td>0.0</td>\n",
       "      <td>0.0</td>\n",
       "      <td>1.0</td>\n",
       "      <td>0.0</td>\n",
       "      <td>0.0</td>\n",
       "      <td>0.0</td>\n",
       "    </tr>\n",
       "  </tbody>\n",
       "</table>\n",
       "<p>268 rows × 66 columns</p>\n",
       "</div>"
      ],
      "text/plain": [
       "                           id       date  positive_affect_score  \\\n",
       "0    621e2e8e67b776a24055b564 2021-07-26                     37   \n",
       "1    621e2e8e67b776a24055b564 2021-05-31                     38   \n",
       "2    621e2e8e67b776a24055b564 2021-06-07                     37   \n",
       "3    621e2e8e67b776a24055b564 2021-06-28                     31   \n",
       "4    621e2e8e67b776a24055b564 2021-07-19                     37   \n",
       "..                        ...        ...                    ...   \n",
       "263  621e339967b776a240e502de 2021-12-20                     44   \n",
       "264  621e339967b776a240e502de 2021-12-27                     45   \n",
       "265  621e339967b776a240e502de 2022-01-03                     44   \n",
       "266  621e339967b776a240e502de 2022-01-12                     45   \n",
       "267  621e339967b776a240e502de 2021-12-06                     41   \n",
       "\n",
       "     negative_affect_score  nightly_temperature  nremhr    rmssd  spo2  \\\n",
       "0                       14            34.515655  59.798   98.515   NaN   \n",
       "1                       12            34.408304  57.481   94.303   NaN   \n",
       "2                       12            34.476865  56.570  109.509   NaN   \n",
       "3                       12            34.418045  53.006  107.388   NaN   \n",
       "4                       12            34.254286  57.330  100.374   NaN   \n",
       "..                     ...                  ...     ...      ...   ...   \n",
       "263                     13            34.876472  50.683   47.293  96.0   \n",
       "264                     11            35.107574  54.325   47.929  95.4   \n",
       "265                     11            34.957428  52.810   47.801  94.9   \n",
       "266                     13            34.073346  51.364   51.324  96.1   \n",
       "267                     12            34.674633  51.192   49.232  96.2   \n",
       "\n",
       "     full_sleep_breathing_rate  stress_score  ...  Martial Arts  Run  \\\n",
       "0                         15.4          74.0  ...           0.0  0.0   \n",
       "1                         14.8          81.0  ...           0.0  0.0   \n",
       "2                         14.4          83.0  ...           0.0  0.0   \n",
       "3                         15.6          76.0  ...           0.0  0.0   \n",
       "4                         15.0          75.0  ...           0.0  0.0   \n",
       "..                         ...           ...  ...           ...  ...   \n",
       "263                       11.6          82.0  ...           0.0  0.0   \n",
       "264                       12.2          87.0  ...           0.0  0.0   \n",
       "265                       12.4          81.0  ...           0.0  0.0   \n",
       "266                       12.2          84.0  ...           0.0  0.0   \n",
       "267                       12.2          83.0  ...           0.0  0.0   \n",
       "\n",
       "     Spinning  Sport  Swim  Treadmill  Walk  Weights  Workout  Yoga/Pilates  \n",
       "0         0.0    0.0   0.0        0.0   1.0      0.0      0.0           0.0  \n",
       "1         0.0    0.0   0.0        0.0   1.0      0.0      0.0           0.0  \n",
       "2         0.0    0.0   0.0        0.0   1.0      0.0      0.0           0.0  \n",
       "3         0.0    0.0   0.0        0.0   1.0      0.0      0.0           0.0  \n",
       "4         0.0    0.0   0.0        0.0   1.0      0.0      0.0           0.0  \n",
       "..        ...    ...   ...        ...   ...      ...      ...           ...  \n",
       "263       0.0    0.0   0.0        0.0   0.0      0.0      0.0           0.0  \n",
       "264       0.0    0.0   0.0        0.0   1.0      0.0      0.0           0.0  \n",
       "265       0.0    0.0   0.0        0.0   1.0      0.0      0.0           0.0  \n",
       "266       0.0    0.0   0.0        0.0   1.0      0.0      0.0           0.0  \n",
       "267       0.0    0.0   0.0        0.0   1.0      0.0      0.0           0.0  \n",
       "\n",
       "[268 rows x 66 columns]"
      ]
     },
     "execution_count": 81,
     "metadata": {},
     "output_type": "execute_result"
    }
   ],
   "source": [
    "fitbit_panas = pd.read_pickle('data/fitbit_panas_to_model.pkl')\n",
    "cols = list(fitbit_panas.columns)\n",
    "removed_ele = ['id', 'date']\n",
    "for ele in removed_ele:\n",
    "    cols.remove(ele)\n",
    "for column in cols:\n",
    "    fitbit_panas[column] = pd.to_numeric(fitbit_panas[column])\n",
    "fitbit_panas"
   ]
  },
  {
   "cell_type": "code",
   "execution_count": 82,
   "metadata": {
    "collapsed": false,
    "jupyter": {
     "outputs_hidden": false
    },
    "pycharm": {
     "name": "#%%\n"
    }
   },
   "outputs": [
    {
     "data": {
      "text/html": [
       "<div>\n",
       "<style scoped>\n",
       "    .dataframe tbody tr th:only-of-type {\n",
       "        vertical-align: middle;\n",
       "    }\n",
       "\n",
       "    .dataframe tbody tr th {\n",
       "        vertical-align: top;\n",
       "    }\n",
       "\n",
       "    .dataframe thead th {\n",
       "        text-align: right;\n",
       "    }\n",
       "</style>\n",
       "<table border=\"1\" class=\"dataframe\">\n",
       "  <thead>\n",
       "    <tr style=\"text-align: right;\">\n",
       "      <th></th>\n",
       "      <th>positive_affect_score</th>\n",
       "      <th>negative_affect_score</th>\n",
       "      <th>stress_score</th>\n",
       "    </tr>\n",
       "  </thead>\n",
       "  <tbody>\n",
       "    <tr>\n",
       "      <th>0</th>\n",
       "      <td>37</td>\n",
       "      <td>14</td>\n",
       "      <td>74.0</td>\n",
       "    </tr>\n",
       "    <tr>\n",
       "      <th>1</th>\n",
       "      <td>38</td>\n",
       "      <td>12</td>\n",
       "      <td>81.0</td>\n",
       "    </tr>\n",
       "    <tr>\n",
       "      <th>2</th>\n",
       "      <td>37</td>\n",
       "      <td>12</td>\n",
       "      <td>83.0</td>\n",
       "    </tr>\n",
       "    <tr>\n",
       "      <th>3</th>\n",
       "      <td>31</td>\n",
       "      <td>12</td>\n",
       "      <td>76.0</td>\n",
       "    </tr>\n",
       "    <tr>\n",
       "      <th>4</th>\n",
       "      <td>37</td>\n",
       "      <td>12</td>\n",
       "      <td>75.0</td>\n",
       "    </tr>\n",
       "    <tr>\n",
       "      <th>...</th>\n",
       "      <td>...</td>\n",
       "      <td>...</td>\n",
       "      <td>...</td>\n",
       "    </tr>\n",
       "    <tr>\n",
       "      <th>263</th>\n",
       "      <td>44</td>\n",
       "      <td>13</td>\n",
       "      <td>82.0</td>\n",
       "    </tr>\n",
       "    <tr>\n",
       "      <th>264</th>\n",
       "      <td>45</td>\n",
       "      <td>11</td>\n",
       "      <td>87.0</td>\n",
       "    </tr>\n",
       "    <tr>\n",
       "      <th>265</th>\n",
       "      <td>44</td>\n",
       "      <td>11</td>\n",
       "      <td>81.0</td>\n",
       "    </tr>\n",
       "    <tr>\n",
       "      <th>266</th>\n",
       "      <td>45</td>\n",
       "      <td>13</td>\n",
       "      <td>84.0</td>\n",
       "    </tr>\n",
       "    <tr>\n",
       "      <th>267</th>\n",
       "      <td>41</td>\n",
       "      <td>12</td>\n",
       "      <td>83.0</td>\n",
       "    </tr>\n",
       "  </tbody>\n",
       "</table>\n",
       "<p>268 rows × 3 columns</p>\n",
       "</div>"
      ],
      "text/plain": [
       "     positive_affect_score  negative_affect_score  stress_score\n",
       "0                       37                     14          74.0\n",
       "1                       38                     12          81.0\n",
       "2                       37                     12          83.0\n",
       "3                       31                     12          76.0\n",
       "4                       37                     12          75.0\n",
       "..                     ...                    ...           ...\n",
       "263                     44                     13          82.0\n",
       "264                     45                     11          87.0\n",
       "265                     44                     11          81.0\n",
       "266                     45                     13          84.0\n",
       "267                     41                     12          83.0\n",
       "\n",
       "[268 rows x 3 columns]"
      ]
     },
     "execution_count": 82,
     "metadata": {},
     "output_type": "execute_result"
    }
   ],
   "source": [
    "correlation_panas = fitbit_panas[['positive_affect_score', 'negative_affect_score', 'stress_score']]\n",
    "correlation_panas"
   ]
  },
  {
   "cell_type": "code",
   "execution_count": 83,
   "metadata": {
    "collapsed": false,
    "jupyter": {
     "outputs_hidden": false
    },
    "pycharm": {
     "name": "#%%\n"
    }
   },
   "outputs": [
    {
     "data": {
      "text/html": [
       "<div>\n",
       "<style scoped>\n",
       "    .dataframe tbody tr th:only-of-type {\n",
       "        vertical-align: middle;\n",
       "    }\n",
       "\n",
       "    .dataframe tbody tr th {\n",
       "        vertical-align: top;\n",
       "    }\n",
       "\n",
       "    .dataframe thead th {\n",
       "        text-align: right;\n",
       "    }\n",
       "</style>\n",
       "<table border=\"1\" class=\"dataframe\">\n",
       "  <thead>\n",
       "    <tr style=\"text-align: right;\">\n",
       "      <th></th>\n",
       "      <th>positive_affect_score</th>\n",
       "      <th>negative_affect_score</th>\n",
       "      <th>stress_score</th>\n",
       "    </tr>\n",
       "  </thead>\n",
       "  <tbody>\n",
       "    <tr>\n",
       "      <th>0</th>\n",
       "      <td>37</td>\n",
       "      <td>14</td>\n",
       "      <td>74.0</td>\n",
       "    </tr>\n",
       "    <tr>\n",
       "      <th>1</th>\n",
       "      <td>38</td>\n",
       "      <td>12</td>\n",
       "      <td>81.0</td>\n",
       "    </tr>\n",
       "    <tr>\n",
       "      <th>2</th>\n",
       "      <td>37</td>\n",
       "      <td>12</td>\n",
       "      <td>83.0</td>\n",
       "    </tr>\n",
       "    <tr>\n",
       "      <th>3</th>\n",
       "      <td>31</td>\n",
       "      <td>12</td>\n",
       "      <td>76.0</td>\n",
       "    </tr>\n",
       "    <tr>\n",
       "      <th>4</th>\n",
       "      <td>37</td>\n",
       "      <td>12</td>\n",
       "      <td>75.0</td>\n",
       "    </tr>\n",
       "    <tr>\n",
       "      <th>...</th>\n",
       "      <td>...</td>\n",
       "      <td>...</td>\n",
       "      <td>...</td>\n",
       "    </tr>\n",
       "    <tr>\n",
       "      <th>263</th>\n",
       "      <td>44</td>\n",
       "      <td>13</td>\n",
       "      <td>82.0</td>\n",
       "    </tr>\n",
       "    <tr>\n",
       "      <th>264</th>\n",
       "      <td>45</td>\n",
       "      <td>11</td>\n",
       "      <td>87.0</td>\n",
       "    </tr>\n",
       "    <tr>\n",
       "      <th>265</th>\n",
       "      <td>44</td>\n",
       "      <td>11</td>\n",
       "      <td>81.0</td>\n",
       "    </tr>\n",
       "    <tr>\n",
       "      <th>266</th>\n",
       "      <td>45</td>\n",
       "      <td>13</td>\n",
       "      <td>84.0</td>\n",
       "    </tr>\n",
       "    <tr>\n",
       "      <th>267</th>\n",
       "      <td>41</td>\n",
       "      <td>12</td>\n",
       "      <td>83.0</td>\n",
       "    </tr>\n",
       "  </tbody>\n",
       "</table>\n",
       "<p>127 rows × 3 columns</p>\n",
       "</div>"
      ],
      "text/plain": [
       "     positive_affect_score  negative_affect_score  stress_score\n",
       "0                       37                     14          74.0\n",
       "1                       38                     12          81.0\n",
       "2                       37                     12          83.0\n",
       "3                       31                     12          76.0\n",
       "4                       37                     12          75.0\n",
       "..                     ...                    ...           ...\n",
       "263                     44                     13          82.0\n",
       "264                     45                     11          87.0\n",
       "265                     44                     11          81.0\n",
       "266                     45                     13          84.0\n",
       "267                     41                     12          83.0\n",
       "\n",
       "[127 rows x 3 columns]"
      ]
     },
     "execution_count": 83,
     "metadata": {},
     "output_type": "execute_result"
    }
   ],
   "source": [
    "correlation_panas.dropna(inplace=True)\n",
    "correlation_panas"
   ]
  },
  {
   "cell_type": "markdown",
   "metadata": {
    "pycharm": {
     "name": "#%% md\n"
    }
   },
   "source": [
    "Scatter plot with fitbit and panas positive"
   ]
  },
  {
   "cell_type": "code",
   "execution_count": 84,
   "metadata": {
    "collapsed": false,
    "jupyter": {
     "outputs_hidden": false
    },
    "pycharm": {
     "name": "#%%\n"
    }
   },
   "outputs": [
    {
     "data": {
      "image/png": "[encoded data removed]",
      "text/plain": [
       "<Figure size 640x480 with 1 Axes>"
      ]
     },
     "metadata": {},
     "output_type": "display_data"
    }
   ],
   "source": [
    "panas_positive_scores = list(correlation_panas['positive_affect_score'])\n",
    "stress_scores = list(correlation_panas['stress_score'])\n",
    "\n",
    "plt.scatter(stress_scores, panas_positive_scores)\n",
    "plt.xlabel(\"Stress scores\")\n",
    "plt.ylabel(\"Panas positive scores\")\n",
    "plt.title(\"Scatter plot\")\n",
    "plt.show()"
   ]
  },
  {
   "cell_type": "markdown",
   "metadata": {
    "pycharm": {
     "name": "#%% md\n"
    }
   },
   "source": [
    "Scatter plot with fitbit and panas negative"
   ]
  },
  {
   "cell_type": "code",
   "execution_count": 85,
   "metadata": {
    "collapsed": false,
    "jupyter": {
     "outputs_hidden": false
    },
    "pycharm": {
     "name": "#%%\n"
    }
   },
   "outputs": [
    {
     "data": {
      "image/png": "[encoded data removed]",
      "text/plain": [
       "<Figure size 640x480 with 1 Axes>"
      ]
     },
     "metadata": {},
     "output_type": "display_data"
    }
   ],
   "source": [
    "panas_negative_scores = list(correlation_panas['negative_affect_score'])\n",
    "\n",
    "plt.scatter(stress_scores, panas_negative_scores)\n",
    "plt.xlabel(\"Stress scores\")\n",
    "plt.ylabel(\"Panas negative scores\")\n",
    "plt.title(\"Scatter plot\")\n",
    "plt.show()"
   ]
  },
  {
   "cell_type": "markdown",
   "metadata": {
    "pycharm": {
     "name": "#%% md\n"
    }
   },
   "source": [
    "Pearson correlation between fitbit stress score and negative affect scores"
   ]
  },
  {
   "cell_type": "code",
   "execution_count": 86,
   "metadata": {
    "collapsed": false,
    "jupyter": {
     "outputs_hidden": false
    },
    "pycharm": {
     "name": "#%%\n"
    }
   },
   "outputs": [
    {
     "name": "stdout",
     "output_type": "stream",
     "text": [
      "Fitbit stress score vs Panas negative affect score =  -0.11708181877905355\n",
      "Fitbit stress score vs Panas positive affect score =  0.1918342569777661\n"
     ]
    }
   ],
   "source": [
    "correlation_negative = scipy.stats.pearsonr(stress_scores,panas_negative_scores)[0]\n",
    "correlation_positive = scipy.stats.pearsonr(stress_scores,panas_positive_scores)[0]\n",
    "print(\"Fitbit stress score vs Panas negative affect score = \", correlation_negative)\n",
    "print(\"Fitbit stress score vs Panas positive affect score = \", correlation_positive)"
   ]
  },
  {
   "cell_type": "markdown",
   "metadata": {
    "pycharm": {
     "name": "#%% md\n"
    }
   },
   "source": [
    "Correlation matrix between fitbit and panas"
   ]
  },
  {
   "cell_type": "code",
   "execution_count": 87,
   "metadata": {
    "collapsed": false,
    "jupyter": {
     "outputs_hidden": false
    },
    "pycharm": {
     "name": "#%%\n"
    }
   },
   "outputs": [
    {
     "data": {
      "text/plain": [
       "<matplotlib.axes._subplots.AxesSubplot at 0x283820ec340>"
      ]
     },
     "execution_count": 87,
     "metadata": {},
     "output_type": "execute_result"
    },
    {
     "data": {
      "image/png": "[encoded data removed]",
      "text/plain": [
       "<Figure size 640x480 with 2 Axes>"
      ]
     },
     "metadata": {},
     "output_type": "display_data"
    }
   ],
   "source": [
    "correlation_matrix = correlation_panas.corr().round(2)\n",
    "mask = np.triu(np.ones_like(correlation_matrix, dtype=bool))\n",
    "sns.heatmap(data=correlation_matrix, annot=True,cmap=cmap,mask=mask)"
   ]
  },
  {
   "cell_type": "code",
   "execution_count": null,
   "metadata": {
    "collapsed": false,
    "jupyter": {
     "outputs_hidden": false
    },
    "pycharm": {
     "name": "#%%\n"
    }
   },
   "outputs": [],
   "source": []
  }
 ],
 "metadata": {
  "kernelspec": {
   "display_name": "Python 3 (ipykernel)",
   "language": "python",
   "name": "python3"
  },
  "language_info": {
   "codemirror_mode": {
    "name": "ipython",
    "version": 3
   },
   "file_extension": ".py",
   "mimetype": "text/x-python",
   "name": "python",
   "nbconvert_exporter": "python",
   "pygments_lexer": "ipython3",
   "version": "3.9.12"
  }
 },
 "nbformat": 4,
 "nbformat_minor": 4
}
