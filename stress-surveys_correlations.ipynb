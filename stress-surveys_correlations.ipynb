{
 "cells": [
  {
   "cell_type": "markdown",
   "metadata": {
    "pycharm": {
     "name": "#%% md\n"
    }
   },
   "source": [
    "Connect securely to the database"
   ]
  },
  {
   "cell_type": "code",
   "execution_count": null,
   "metadata": {
    "pycharm": {
     "name": "#%%\n"
    }
   },
   "outputs": [],
   "source": [
    "import os\n",
    "from dotenv import load_dotenv\n",
    "from pymongo import MongoClient\n",
    "\n",
    "load_dotenv(\"config.env\")\n",
    "MONGO_USER = os.getenv(\"MONGO_USER\")\n",
    "MONGO_PASSWORD = os.getenv(\"MONGO_PASSWORD\")\n",
    "client = MongoClient(\"mongodb://\" + MONGO_USER + \":\" + MONGO_PASSWORD + \"@localhost:27017/\")\n",
    "database = client.rais"
   ]
  },
  {
   "cell_type": "markdown",
   "metadata": {
    "pycharm": {
     "name": "#%% md\n"
    }
   },
   "source": [
    "Find all the users"
   ]
  },
  {
   "cell_type": "code",
   "execution_count": null,
   "metadata": {
    "pycharm": {
     "name": "#%%\n"
    }
   },
   "outputs": [],
   "source": [
    "users = database.fitbit.distinct('id')"
   ]
  },
  {
   "cell_type": "markdown",
   "metadata": {
    "pycharm": {
     "name": "#%% md\n"
    }
   },
   "source": [
    "Create the stress score dataframe"
   ]
  },
  {
   "cell_type": "code",
   "execution_count": null,
   "metadata": {
    "pycharm": {
     "name": "#%%\n"
    }
   },
   "outputs": [],
   "source": [
    "import warnings\n",
    "import statistics\n",
    "import pandas as pd\n",
    "from datetime import timedelta\n",
    "from pandas.core.common import SettingWithCopyWarning\n",
    "warnings.simplefilter(action=\"ignore\", category=SettingWithCopyWarning)\n",
    "\n",
    "stress_df = pd.DataFrame(columns=[\"id\", \"date\", \"stress_score\"])\n",
    "\n",
    "for user in users:\n",
    "    # obtain the stress data\n",
    "    user_data = pd.DataFrame(list(\n",
    "        database.fitbit.find({\"$and\": [\n",
    "            {\"type\": \"Stress Score\"},\n",
    "            {\"id\": user},\n",
    "            {\"data.STRESS_SCORE\": {\"$gt\": 0}} # this removes the calculation fail data (0s)\n",
    "        ]},\n",
    "            {\"id\": 1, \"data.DATE\": 1, \"data.STRESS_SCORE\": 1, \"_id\": 0}\n",
    "        )\n",
    "    ))\n",
    "\n",
    "    # maintain only the users that have stress data / avoid the others\n",
    "    if len(user_data.columns)>1:\n",
    "        user_stress = pd.DataFrame(columns=[\"date\", \"stress_score\"])\n",
    "        user_stress[\"date\"] = user_data[\"data\"].apply(lambda d: d[\"DATE\"])\n",
    "        user_stress[\"date\"] = pd.to_datetime(pd.to_datetime(user_stress[\"date\"]).dt.date)\n",
    "        user_stress[\"stress_score\"] = user_data[\"data\"].apply(lambda d: d[\"STRESS_SCORE\"])\n",
    "\n",
    "        # maintain only experiment's dates\n",
    "        user_stress = user_stress.loc[((user_stress['date'] >'2021-05-23') & (user_stress['date'] <'2021-07-26')) | ((user_stress['date'] >'2021-11-14') & (user_stress['date'] <'2022-01-17'))]\n",
    "        user_stress.reset_index(inplace=True, drop=True)\n",
    "\n",
    "        # remove duplicates\n",
    "        user_stress = user_stress.groupby([\"date\"]).first()\n",
    "        user_stress.reset_index(inplace=True)\n",
    "\n",
    "        # >=7 because we have weekly frequency (threshold)\n",
    "        if len(user_stress)>=7:\n",
    "            # end with the last appeared Sunday to shape a whole week\n",
    "            if user_stress[\"date\"][len(user_stress)-1].dayofweek!=6:\n",
    "                now = user_stress[\"date\"][len(user_stress)-1]\n",
    "                sunday = now - timedelta(days=((now.isoweekday()) % 7))\n",
    "                if sunday not in list(user_stress['date']): # add 0 stress score if Sunday not exists\n",
    "                    user_stress = user_stress.loc[user_stress['date']<sunday]\n",
    "                    user_stress.loc[len(user_stress.index)] = [sunday, 0]\n",
    "                    user_stress.index = user_stress.index + 1\n",
    "                    user_stress = user_stress.sort_index()\n",
    "                    user_stress.reset_index(inplace=True, drop=True)\n",
    "                else: # drop the days after Sunday\n",
    "                    sunday_index = list(user_stress['date']).index(sunday)\n",
    "                    user_stress = user_stress.iloc[:sunday_index+1]\n",
    "                    user_stress.reset_index(inplace=True, drop=True)\n",
    "\n",
    "            # resampling with weekly frequency that avoids 0s/NaNs\n",
    "            user_stress = user_stress.set_index('date')\n",
    "            user_stress = user_stress.resample('W-SUN').median()\n",
    "            user_stress.reset_index(inplace=True)\n",
    "            user_stress.insert(0, \"id\", user)\n",
    "\n",
    "            # shift the date column one day after for better representation\n",
    "            user_stress['date'] = user_stress['date'].apply(lambda x:x+timedelta(days=1))\n",
    "\n",
    "            # maintain only experiment's dates / for the one that has 218 days\n",
    "            user_stress = user_stress.loc[((user_stress['date'] >'2021-05-23') & (user_stress['date'] <'2021-07-26')) | ((user_stress['date'] >'2021-11-14') & (user_stress['date'] <'2022-01-17'))]\n",
    "            user_stress.reset_index(inplace=True, drop=True)\n",
    "\n",
    "            # drop NaNs & 0s\n",
    "            user_stress.dropna(inplace=True)\n",
    "            user_stress = user_stress[user_stress.stress_score != 0]\n",
    "            user_stress.reset_index(inplace=True, drop=True)\n",
    "\n",
    "            # cut to 2 decimals the stress scores and make them float\n",
    "            user_stress['stress_score'] = user_stress['stress_score'].apply(lambda x:format(x,\".2f\"))\n",
    "            user_stress['stress_score'] = pd.to_numeric(user_stress['stress_score'])\n",
    "\n",
    "            # user average stress score and mean_variation, median_variation, passive_median_variation\n",
    "            user_stress['average_stress_score'] = statistics.mean(list(user_stress['stress_score']))\n",
    "            user_stress['median_stress_score'] = statistics.median(list(user_stress['stress_score']))\n",
    "            user_stress['mean_variation'] = user_stress['stress_score'] - user_stress['average_stress_score']\n",
    "            user_stress['median_variation'] = user_stress['stress_score'] - user_stress['median_stress_score']\n",
    "            values = []\n",
    "            user_stress['passive_median_stress_score'] = 0\n",
    "            for it in range(len(user_stress['stress_score'])):\n",
    "                values.append(user_stress['stress_score'][it])\n",
    "                user_stress['passive_median_stress_score'][it] = statistics.mean(values)\n",
    "            user_stress['passive_median_variation'] = user_stress['stress_score'] - user_stress['passive_median_stress_score']\n",
    "\n",
    "            stress_df = pd.concat([stress_df, user_stress], axis=0)\n",
    "stress_df[\"id\"] = stress_df[\"id\"].apply(lambda t: str(t))\n",
    "stress_df"
   ]
  },
  {
   "cell_type": "markdown",
   "metadata": {
    "pycharm": {
     "name": "#%% md\n"
    }
   },
   "source": [
    "Create the stai dataframe"
   ]
  },
  {
   "cell_type": "code",
   "execution_count": null,
   "metadata": {
    "pycharm": {
     "name": "#%%\n"
    }
   },
   "outputs": [],
   "source": [
    "stai_df = pd.read_csv('stai.csv')\n",
    "stai_df = stai_df.iloc[: , 1:-1]\n",
    "stai_df.drop([\"type\"], axis=1, inplace=True)\n",
    "stai_df.rename(columns={\"user_id\": \"id\", \"submitdate\": \"date\"}, inplace=True)\n",
    "stai_df[\"date\"] = pd.to_datetime(pd.to_datetime(stai_df[\"date\"]).dt.date)\n",
    "stai_df"
   ]
  },
  {
   "cell_type": "markdown",
   "source": [
    "Create the panas dataframe"
   ],
   "metadata": {
    "collapsed": false,
    "pycharm": {
     "name": "#%% md\n"
    }
   }
  },
  {
   "cell_type": "code",
   "execution_count": null,
   "outputs": [],
   "source": [
    "panas_df = pd.read_csv('panas.csv')\n",
    "panas_df = panas_df.iloc[: , 1:]\n",
    "panas_df.drop([\"type\"], axis=1, inplace=True)\n",
    "panas_df.rename(columns={\"user_id\": \"id\", \"submitdate\": \"date\"}, inplace=True)\n",
    "panas_df[\"date\"] = pd.to_datetime(pd.to_datetime(panas_df[\"date\"]).dt.date)\n",
    "panas_df"
   ],
   "metadata": {
    "collapsed": false,
    "pycharm": {
     "name": "#%%\n"
    }
   }
  },
  {
   "cell_type": "markdown",
   "metadata": {
    "pycharm": {
     "name": "#%% md\n"
    }
   },
   "source": [
    "Merge stress scores and stai dataframe"
   ]
  },
  {
   "cell_type": "code",
   "execution_count": null,
   "metadata": {
    "pycharm": {
     "name": "#%%\n"
    }
   },
   "outputs": [],
   "source": [
    "df_fitbit_stai = stress_df.merge(stai_df, how='left', on=['id', 'date'])\n",
    "# remove NaNs (no existence of stress score or surveys' response)\n",
    "df_fitbit_stai.dropna(inplace=True)\n",
    "df_fitbit_stai.reset_index(inplace=True, drop=True)\n",
    "df_fitbit_stai"
   ]
  },
  {
   "cell_type": "markdown",
   "source": [
    "Merge stress scores and panas dataframe"
   ],
   "metadata": {
    "collapsed": false,
    "pycharm": {
     "name": "#%% md\n"
    }
   }
  },
  {
   "cell_type": "code",
   "execution_count": null,
   "outputs": [],
   "source": [
    "df_fitbit_panas = stress_df.merge(panas_df, how='left', on=['id', 'date'])\n",
    "# remove NaNs (no existence of stress score or surveys' response)\n",
    "df_fitbit_panas.dropna(inplace=True)\n",
    "df_fitbit_panas.reset_index(inplace=True, drop=True)\n",
    "df_fitbit_panas"
   ],
   "metadata": {
    "collapsed": false,
    "pycharm": {
     "name": "#%%\n"
    }
   }
  },
  {
   "cell_type": "markdown",
   "metadata": {
    "pycharm": {
     "name": "#%% md\n"
    }
   },
   "source": [
    "Scatter plot with stress score and stai score"
   ]
  },
  {
   "cell_type": "code",
   "execution_count": null,
   "metadata": {
    "pycharm": {
     "name": "#%%\n"
    }
   },
   "outputs": [],
   "source": [
    "import scipy as scipy\n",
    "import matplotlib.pyplot as plt\n",
    "\n",
    "stress_scores = list(df_fitbit_stai['stress_score'])\n",
    "stai_scores = list(df_fitbit_stai['stai_stress'])\n",
    "\n",
    "plt.scatter(stress_scores, stai_scores)\n",
    "plt.xlabel(\"Stress scores\")\n",
    "plt.ylabel(\"Stai scores\")\n",
    "plt.title(\"Scatter plot\")\n",
    "plt.show()"
   ]
  },
  {
   "cell_type": "markdown",
   "metadata": {
    "pycharm": {
     "name": "#%% md\n"
    }
   },
   "source": [
    "Find the correlation between fitbit stress score and stai score"
   ]
  },
  {
   "cell_type": "code",
   "execution_count": null,
   "metadata": {
    "pycharm": {
     "name": "#%%\n"
    }
   },
   "outputs": [],
   "source": [
    "# Pearson correlation\n",
    "print(\"Pearson correlation\")\n",
    "corr,p = scipy.stats.pearsonr(stress_scores, stai_scores)\n",
    "print(\"Stress scores\", corr, \"\\n\")\n",
    "\n",
    "# Spearman correlation\n",
    "print(\"Spearman correlation\")\n",
    "corr = scipy.stats.spearmanr(stress_scores, stai_scores).correlation\n",
    "print(\"Stress scores\", corr, \"\\n\")\n",
    "\n",
    "# Kendall correlation\n",
    "print(\"Kendall correlation\")\n",
    "corr = scipy.stats.kendalltau(stress_scores, stai_scores).correlation\n",
    "print(\"Stress scores\", corr, \"\\n\")"
   ]
  },
  {
   "cell_type": "markdown",
   "source": [
    "Find the correlation between median variation from user baseline and stai score"
   ],
   "metadata": {
    "collapsed": false,
    "pycharm": {
     "name": "#%% md\n"
    }
   }
  },
  {
   "cell_type": "code",
   "execution_count": null,
   "outputs": [],
   "source": [
    "median_variations = list(df_fitbit_stai['median_variation'])\n",
    "# Pearson correlation\n",
    "print(\"Pearson correlation\")\n",
    "corr_median, p_median = scipy.stats.pearsonr(median_variations, stai_scores)\n",
    "print(\"Median variation\", corr_median, \"\\n\")\n",
    "# Spearman correlation\n",
    "print(\"Spearman correlation\")\n",
    "corr_median = scipy.stats.spearmanr(median_variations, stai_scores).correlation\n",
    "print(\"Median variation\", corr_median, \"\\n\")\n",
    "# Kendall correlation\n",
    "print(\"Kendall correlation\")\n",
    "corr_median = scipy.stats.kendalltau(median_variations, stai_scores).correlation\n",
    "print(\"Median variation\", corr_median, \"\\n\")"
   ],
   "metadata": {
    "collapsed": false,
    "pycharm": {
     "name": "#%%\n"
    }
   }
  },
  {
   "cell_type": "markdown",
   "source": [
    "Find the correlation between mean variation from user baseline and stai score"
   ],
   "metadata": {
    "collapsed": false,
    "pycharm": {
     "name": "#%% md\n"
    }
   }
  },
  {
   "cell_type": "code",
   "execution_count": null,
   "outputs": [],
   "source": [
    "mean_variations = list(df_fitbit_stai['mean_variation'])\n",
    "# Pearson correlation\n",
    "print(\"Pearson correlation\")\n",
    "corr_mean, p_mean = scipy.stats.pearsonr(mean_variations, stai_scores)\n",
    "print(\"Mean variation\", corr_mean, \"\\n\")\n",
    "# Spearman correlation\n",
    "print(\"Spearman correlation\")\n",
    "corr_mean = scipy.stats.spearmanr(mean_variations, stai_scores).correlation\n",
    "print(\"Mean variation\", corr_mean, \"\\n\")\n",
    "# Kendall correlation\n",
    "print(\"Kendall correlation\")\n",
    "corr_mean = scipy.stats.kendalltau(mean_variations, stai_scores).correlation\n",
    "print(\"Mean variation\", corr_mean, \"\\n\")"
   ],
   "metadata": {
    "collapsed": false,
    "pycharm": {
     "name": "#%%\n"
    }
   }
  },
  {
   "cell_type": "markdown",
   "source": [
    "Find the correlation between passive median variation from user baseline and stai score"
   ],
   "metadata": {
    "collapsed": false,
    "pycharm": {
     "name": "#%% md\n"
    }
   }
  },
  {
   "cell_type": "code",
   "execution_count": null,
   "outputs": [],
   "source": [
    "passive_variations = list(df_fitbit_stai['passive_median_variation'])\n",
    "# Pearson correlation\n",
    "print(\"Pearson correlation\")\n",
    "corr_passive, p_passive = scipy.stats.pearsonr(passive_variations, stai_scores)\n",
    "print(\"Passive median variation\", corr_passive, \"\\n\")\n",
    "# Spearman correlation\n",
    "print(\"Spearman correlation\")\n",
    "corr_passive = scipy.stats.spearmanr(passive_variations, stai_scores).correlation\n",
    "print(\"Passive median variation\", corr_passive, \"\\n\")\n",
    "# Kendall correlation\n",
    "print(\"Kendall correlation\")\n",
    "corr_passive = scipy.stats.kendalltau(passive_variations, stai_scores).correlation\n",
    "print(\"Passive median variation\", corr_passive, \"\\n\")"
   ],
   "metadata": {
    "collapsed": false,
    "pycharm": {
     "name": "#%%\n"
    }
   }
  },
  {
   "cell_type": "markdown",
   "source": [
    "Scatter plot with stress score and panas positive score"
   ],
   "metadata": {
    "collapsed": false,
    "pycharm": {
     "name": "#%% md\n"
    }
   }
  },
  {
   "cell_type": "code",
   "execution_count": null,
   "outputs": [],
   "source": [
    "panas_positive_scores = list(df_fitbit_panas['positive_affect_score'])\n",
    "stress_scores = list(df_fitbit_panas['stress_score'])\n",
    "\n",
    "plt.scatter(stress_scores, panas_positive_scores)\n",
    "plt.xlabel(\"Stress scores\")\n",
    "plt.ylabel(\"Panas positive scores\")\n",
    "plt.title(\"Scatter plot\")\n",
    "plt.show()"
   ],
   "metadata": {
    "collapsed": false,
    "pycharm": {
     "name": "#%%\n"
    }
   }
  },
  {
   "cell_type": "markdown",
   "source": [
    "Find the correlation between stress score and panas positive score"
   ],
   "metadata": {
    "collapsed": false,
    "pycharm": {
     "name": "#%% md\n"
    }
   }
  },
  {
   "cell_type": "code",
   "execution_count": null,
   "outputs": [],
   "source": [
    "# Pearson correlation\n",
    "print(\"Pearson correlation\")\n",
    "corr,p = scipy.stats.pearsonr(stress_scores, panas_positive_scores)\n",
    "print(\"Stress scores\", corr, \"\\n\")\n",
    "\n",
    "# Spearman correlation\n",
    "print(\"Spearman correlation\")\n",
    "corr = scipy.stats.spearmanr(stress_scores, panas_positive_scores).correlation\n",
    "print(\"Stress scores\", corr, \"\\n\")\n",
    "\n",
    "# Kendall correlation\n",
    "print(\"Kendall correlation\")\n",
    "corr = scipy.stats.kendalltau(stress_scores, panas_positive_scores).correlation\n",
    "print(\"Stress scores\", corr, \"\\n\")"
   ],
   "metadata": {
    "collapsed": false,
    "pycharm": {
     "name": "#%%\n"
    }
   }
  },
  {
   "cell_type": "markdown",
   "source": [
    "Scatter plot with stress score and panas negative score"
   ],
   "metadata": {
    "collapsed": false,
    "pycharm": {
     "name": "#%% md\n"
    }
   }
  },
  {
   "cell_type": "code",
   "execution_count": null,
   "outputs": [],
   "source": [
    "panas_negative_scores = list(df_fitbit_panas['negative_affect_score'])\n",
    "\n",
    "plt.scatter(stress_scores, panas_negative_scores)\n",
    "plt.xlabel(\"Stress scores\")\n",
    "plt.ylabel(\"Panas negative scores\")\n",
    "plt.title(\"Scatter plot\")\n",
    "plt.show()"
   ],
   "metadata": {
    "collapsed": false,
    "pycharm": {
     "name": "#%%\n"
    }
   }
  },
  {
   "cell_type": "markdown",
   "source": [
    "Find the correlation between stress score and panas negative score"
   ],
   "metadata": {
    "collapsed": false,
    "pycharm": {
     "name": "#%% md\n"
    }
   }
  },
  {
   "cell_type": "code",
   "execution_count": null,
   "outputs": [],
   "source": [
    "# Pearson correlation\n",
    "print(\"Pearson correlation\")\n",
    "corr,p = scipy.stats.pearsonr(stress_scores, panas_negative_scores)\n",
    "print(\"Stress scores\", corr, \"\\n\")\n",
    "\n",
    "# Spearman correlation\n",
    "print(\"Spearman correlation\")\n",
    "corr = scipy.stats.spearmanr(stress_scores, panas_negative_scores).correlation\n",
    "print(\"Stress scores\", corr, \"\\n\")\n",
    "\n",
    "# Kendall correlation\n",
    "print(\"Kendall correlation\")\n",
    "corr = scipy.stats.kendalltau(stress_scores, panas_negative_scores).correlation\n",
    "print(\"Stress scores\", corr, \"\\n\")"
   ],
   "metadata": {
    "collapsed": false,
    "pycharm": {
     "name": "#%%\n"
    }
   }
  },
  {
   "cell_type": "markdown",
   "source": [
    "Extra analysis/visualizations"
   ],
   "metadata": {
    "collapsed": false,
    "pycharm": {
     "name": "#%% md\n"
    }
   }
  },
  {
   "cell_type": "code",
   "execution_count": null,
   "outputs": [],
   "source": [
    "from dataprep.eda import create_report\n",
    "create_report(df_fitbit_stai).show_browser()"
   ],
   "metadata": {
    "collapsed": false,
    "pycharm": {
     "name": "#%%\n"
    }
   }
  },
  {
   "cell_type": "code",
   "execution_count": null,
   "outputs": [],
   "source": [
    "from pandas_profiling import ProfileReport\n",
    "profile = ProfileReport(df_fitbit_stai, title=\"Pandas Profiling Report\")\n",
    "profile.to_notebook_iframe()"
   ],
   "metadata": {
    "collapsed": false,
    "pycharm": {
     "name": "#%%\n"
    }
   }
  }
 ],
 "metadata": {
  "kernelspec": {
   "display_name": "Python 3 (ipykernel)",
   "language": "python",
   "name": "python3"
  },
  "language_info": {
   "codemirror_mode": {
    "name": "ipython",
    "version": 3
   },
   "file_extension": ".py",
   "mimetype": "text/x-python",
   "name": "python",
   "nbconvert_exporter": "python",
   "pygments_lexer": "ipython3",
   "version": "3.9.13"
  }
 },
 "nbformat": 4,
 "nbformat_minor": 1
}