{
 "cells": [
  {
   "cell_type": "markdown",
   "metadata": {
    "pycharm": {
     "name": "#%% md\n"
    }
   },
   "source": [
    "Connect securely to the database"
   ]
  },
  {
   "cell_type": "code",
   "execution_count": 18,
   "metadata": {
    "pycharm": {
     "name": "#%%\n"
    }
   },
   "outputs": [],
   "source": [
    "import os\n",
    "from dotenv import load_dotenv\n",
    "from pymongo import MongoClient\n",
    "\n",
    "load_dotenv(\"config.env\")\n",
    "MONGO_USER = os.getenv(\"MONGO_USER\")\n",
    "MONGO_PASSWORD = os.getenv(\"MONGO_PASSWORD\")\n",
    "client = MongoClient(\"mongodb://\" + MONGO_USER + \":\" + MONGO_PASSWORD + \"@localhost:27017/\")\n",
    "database = client.rais"
   ]
  },
  {
   "cell_type": "markdown",
   "metadata": {
    "pycharm": {
     "name": "#%% md\n"
    }
   },
   "source": [
    "Find all the users"
   ]
  },
  {
   "cell_type": "code",
   "execution_count": 19,
   "metadata": {
    "pycharm": {
     "name": "#%%\n"
    }
   },
   "outputs": [],
   "source": [
    "users = database.fitbit.distinct('id')"
   ]
  },
  {
   "cell_type": "markdown",
   "metadata": {
    "pycharm": {
     "name": "#%% md\n"
    }
   },
   "source": [
    "Create the stress score dataframe"
   ]
  },
  {
   "cell_type": "code",
   "execution_count": 20,
   "metadata": {
    "pycharm": {
     "name": "#%%\n"
    }
   },
   "outputs": [
    {
     "data": {
      "text/plain": "                          id       date  stress_score  average_stress_score  \\\n0   621e2e8e67b776a24055b564 2021-05-31          81.0               76.1875   \n1   621e2e8e67b776a24055b564 2021-06-07          83.0               76.1875   \n2   621e2e8e67b776a24055b564 2021-06-14          74.0               76.1875   \n3   621e2e8e67b776a24055b564 2021-06-21          76.0               76.1875   \n4   621e2e8e67b776a24055b564 2021-06-28          76.0               76.1875   \n..                       ...        ...           ...                   ...   \n3   621e375b67b776a240290cdc 2021-06-21          82.0               78.9375   \n4   621e375b67b776a240290cdc 2021-06-28          80.0               78.9375   \n5   621e375b67b776a240290cdc 2021-07-05          78.0               78.9375   \n6   621e375b67b776a240290cdc 2021-07-12          76.0               78.9375   \n7   621e375b67b776a240290cdc 2021-07-19          84.0               78.9375   \n\n    median_stress_score  mean_variation  median_variation  \\\n0                  75.5          4.8125               5.5   \n1                  75.5          6.8125               7.5   \n2                  75.5         -2.1875              -1.5   \n3                  75.5         -0.1875               0.5   \n4                  75.5         -0.1875               0.5   \n..                  ...             ...               ...   \n3                  79.0          3.0625               3.0   \n4                  79.0          1.0625               1.0   \n5                  79.0         -0.9375              -1.0   \n6                  79.0         -2.9375              -3.0   \n7                  79.0          5.0625               5.0   \n\n    passive_median_stress_score  passive_median_variation  \n0                     81.000000                  0.000000  \n1                     82.000000                  1.000000  \n2                     79.333333                 -5.333333  \n3                     78.500000                 -2.500000  \n4                     78.000000                 -2.000000  \n..                          ...                       ...  \n3                     78.375000                  3.625000  \n4                     78.700000                  1.300000  \n5                     78.583333                 -0.583333  \n6                     78.214286                 -2.214286  \n7                     78.937500                  5.062500  \n\n[225 rows x 9 columns]",
      "text/html": "<div>\n<style scoped>\n    .dataframe tbody tr th:only-of-type {\n        vertical-align: middle;\n    }\n\n    .dataframe tbody tr th {\n        vertical-align: top;\n    }\n\n    .dataframe thead th {\n        text-align: right;\n    }\n</style>\n<table border=\"1\" class=\"dataframe\">\n  <thead>\n    <tr style=\"text-align: right;\">\n      <th></th>\n      <th>id</th>\n      <th>date</th>\n      <th>stress_score</th>\n      <th>average_stress_score</th>\n      <th>median_stress_score</th>\n      <th>mean_variation</th>\n      <th>median_variation</th>\n      <th>passive_median_stress_score</th>\n      <th>passive_median_variation</th>\n    </tr>\n  </thead>\n  <tbody>\n    <tr>\n      <th>0</th>\n      <td>621e2e8e67b776a24055b564</td>\n      <td>2021-05-31</td>\n      <td>81.0</td>\n      <td>76.1875</td>\n      <td>75.5</td>\n      <td>4.8125</td>\n      <td>5.5</td>\n      <td>81.000000</td>\n      <td>0.000000</td>\n    </tr>\n    <tr>\n      <th>1</th>\n      <td>621e2e8e67b776a24055b564</td>\n      <td>2021-06-07</td>\n      <td>83.0</td>\n      <td>76.1875</td>\n      <td>75.5</td>\n      <td>6.8125</td>\n      <td>7.5</td>\n      <td>82.000000</td>\n      <td>1.000000</td>\n    </tr>\n    <tr>\n      <th>2</th>\n      <td>621e2e8e67b776a24055b564</td>\n      <td>2021-06-14</td>\n      <td>74.0</td>\n      <td>76.1875</td>\n      <td>75.5</td>\n      <td>-2.1875</td>\n      <td>-1.5</td>\n      <td>79.333333</td>\n      <td>-5.333333</td>\n    </tr>\n    <tr>\n      <th>3</th>\n      <td>621e2e8e67b776a24055b564</td>\n      <td>2021-06-21</td>\n      <td>76.0</td>\n      <td>76.1875</td>\n      <td>75.5</td>\n      <td>-0.1875</td>\n      <td>0.5</td>\n      <td>78.500000</td>\n      <td>-2.500000</td>\n    </tr>\n    <tr>\n      <th>4</th>\n      <td>621e2e8e67b776a24055b564</td>\n      <td>2021-06-28</td>\n      <td>76.0</td>\n      <td>76.1875</td>\n      <td>75.5</td>\n      <td>-0.1875</td>\n      <td>0.5</td>\n      <td>78.000000</td>\n      <td>-2.000000</td>\n    </tr>\n    <tr>\n      <th>...</th>\n      <td>...</td>\n      <td>...</td>\n      <td>...</td>\n      <td>...</td>\n      <td>...</td>\n      <td>...</td>\n      <td>...</td>\n      <td>...</td>\n      <td>...</td>\n    </tr>\n    <tr>\n      <th>3</th>\n      <td>621e375b67b776a240290cdc</td>\n      <td>2021-06-21</td>\n      <td>82.0</td>\n      <td>78.9375</td>\n      <td>79.0</td>\n      <td>3.0625</td>\n      <td>3.0</td>\n      <td>78.375000</td>\n      <td>3.625000</td>\n    </tr>\n    <tr>\n      <th>4</th>\n      <td>621e375b67b776a240290cdc</td>\n      <td>2021-06-28</td>\n      <td>80.0</td>\n      <td>78.9375</td>\n      <td>79.0</td>\n      <td>1.0625</td>\n      <td>1.0</td>\n      <td>78.700000</td>\n      <td>1.300000</td>\n    </tr>\n    <tr>\n      <th>5</th>\n      <td>621e375b67b776a240290cdc</td>\n      <td>2021-07-05</td>\n      <td>78.0</td>\n      <td>78.9375</td>\n      <td>79.0</td>\n      <td>-0.9375</td>\n      <td>-1.0</td>\n      <td>78.583333</td>\n      <td>-0.583333</td>\n    </tr>\n    <tr>\n      <th>6</th>\n      <td>621e375b67b776a240290cdc</td>\n      <td>2021-07-12</td>\n      <td>76.0</td>\n      <td>78.9375</td>\n      <td>79.0</td>\n      <td>-2.9375</td>\n      <td>-3.0</td>\n      <td>78.214286</td>\n      <td>-2.214286</td>\n    </tr>\n    <tr>\n      <th>7</th>\n      <td>621e375b67b776a240290cdc</td>\n      <td>2021-07-19</td>\n      <td>84.0</td>\n      <td>78.9375</td>\n      <td>79.0</td>\n      <td>5.0625</td>\n      <td>5.0</td>\n      <td>78.937500</td>\n      <td>5.062500</td>\n    </tr>\n  </tbody>\n</table>\n<p>225 rows × 9 columns</p>\n</div>"
     },
     "execution_count": 20,
     "metadata": {},
     "output_type": "execute_result"
    }
   ],
   "source": [
    "import warnings\n",
    "import statistics\n",
    "import pandas as pd\n",
    "from datetime import timedelta\n",
    "from pandas.core.common import SettingWithCopyWarning\n",
    "warnings.simplefilter(action=\"ignore\", category=SettingWithCopyWarning)\n",
    "\n",
    "stress_df = pd.DataFrame(columns=[\"id\", \"date\", \"stress_score\"])\n",
    "\n",
    "for user in users:\n",
    "    # obtain the stress data\n",
    "    user_data = pd.DataFrame(list(\n",
    "        database.fitbit.find({\"$and\": [\n",
    "            {\"type\": \"Stress Score\"},\n",
    "            {\"id\": user},\n",
    "            {\"data.STRESS_SCORE\": {\"$gt\": 0}} # this removes the calculation fail data (0s)\n",
    "        ]},\n",
    "            {\"id\": 1, \"data.DATE\": 1, \"data.STRESS_SCORE\": 1, \"_id\": 0}\n",
    "        )\n",
    "    ))\n",
    "\n",
    "    # maintain only the users that have stress data / avoid the others\n",
    "    if len(user_data.columns)>1:\n",
    "        user_stress = pd.DataFrame(columns=[\"date\", \"stress_score\"])\n",
    "        user_stress[\"date\"] = user_data[\"data\"].apply(lambda d: d[\"DATE\"])\n",
    "        user_stress[\"date\"] = pd.to_datetime(pd.to_datetime(user_stress[\"date\"]).dt.date)\n",
    "        user_stress[\"stress_score\"] = user_data[\"data\"].apply(lambda d: d[\"STRESS_SCORE\"])\n",
    "\n",
    "        # maintain only experiment's dates\n",
    "        user_stress = user_stress.loc[((user_stress['date'] >'2021-05-23') & (user_stress['date'] <'2021-07-26')) | ((user_stress['date'] >'2021-11-14') & (user_stress['date'] <'2022-01-17'))]\n",
    "        user_stress.reset_index(inplace=True, drop=True)\n",
    "\n",
    "        # remove duplicates\n",
    "        user_stress = user_stress.groupby([\"date\"]).first()\n",
    "        user_stress.reset_index(inplace=True)\n",
    "\n",
    "        # >=7 because we have weekly frequency (threshold)\n",
    "        if len(user_stress)>=7:\n",
    "            # end with the last appeared Sunday to shape a whole week\n",
    "            if user_stress[\"date\"][len(user_stress)-1].dayofweek!=6:\n",
    "                now = user_stress[\"date\"][len(user_stress)-1]\n",
    "                sunday = now - timedelta(days=((now.isoweekday()) % 7))\n",
    "                if sunday not in list(user_stress['date']): # add 0 stress score if Sunday not exists\n",
    "                    user_stress = user_stress.loc[user_stress['date']<sunday]\n",
    "                    user_stress.loc[len(user_stress.index)] = [sunday, 0]\n",
    "                    user_stress.index = user_stress.index + 1\n",
    "                    user_stress = user_stress.sort_index()\n",
    "                    user_stress.reset_index(inplace=True, drop=True)\n",
    "                else: # drop the days after Sunday\n",
    "                    sunday_index = list(user_stress['date']).index(sunday)\n",
    "                    user_stress = user_stress.iloc[:sunday_index+1]\n",
    "                    user_stress.reset_index(inplace=True, drop=True)\n",
    "\n",
    "            # resampling with weekly frequency that avoids 0s/NaNs\n",
    "            user_stress = user_stress.set_index('date')\n",
    "            user_stress = user_stress.resample('W-SUN').median()\n",
    "            user_stress.reset_index(inplace=True)\n",
    "            user_stress.insert(0, \"id\", user)\n",
    "\n",
    "            # shift the date column one day after for better representation\n",
    "            user_stress['date'] = user_stress['date'].apply(lambda x:x+timedelta(days=1))\n",
    "\n",
    "            # maintain only experiment's dates / for the one that has 218 days\n",
    "            user_stress = user_stress.loc[((user_stress['date'] >'2021-05-23') & (user_stress['date'] <'2021-07-26')) | ((user_stress['date'] >'2021-11-14') & (user_stress['date'] <'2022-01-17'))]\n",
    "            user_stress.reset_index(inplace=True, drop=True)\n",
    "\n",
    "            # drop NaNs & 0s\n",
    "            user_stress.dropna(inplace=True)\n",
    "            user_stress = user_stress[user_stress.stress_score != 0]\n",
    "            user_stress.reset_index(inplace=True, drop=True)\n",
    "\n",
    "            # cut to 2 decimals the stress scores and make them float\n",
    "            user_stress['stress_score'] = user_stress['stress_score'].apply(lambda x:format(x,\".2f\"))\n",
    "            user_stress['stress_score'] = pd.to_numeric(user_stress['stress_score'])\n",
    "\n",
    "            # user average stress score and mean_variation, median_variation, passive_median_variation\n",
    "            user_stress['average_stress_score'] = statistics.mean(list(user_stress['stress_score']))\n",
    "            user_stress['median_stress_score'] = statistics.median(list(user_stress['stress_score']))\n",
    "            user_stress['mean_variation'] = user_stress['stress_score'] - user_stress['average_stress_score']\n",
    "            user_stress['median_variation'] = user_stress['stress_score'] - user_stress['median_stress_score']\n",
    "            values = []\n",
    "            user_stress['passive_median_stress_score'] = 0\n",
    "            for it in range(len(user_stress['stress_score'])):\n",
    "                values.append(user_stress['stress_score'][it])\n",
    "                user_stress['passive_median_stress_score'][it] = statistics.mean(values)\n",
    "            user_stress['passive_median_variation'] = user_stress['stress_score'] - user_stress['passive_median_stress_score']\n",
    "\n",
    "            stress_df = pd.concat([stress_df, user_stress], axis=0)\n",
    "stress_df[\"id\"] = stress_df[\"id\"].apply(lambda t: str(t))\n",
    "stress_df"
   ]
  },
  {
   "cell_type": "markdown",
   "metadata": {
    "pycharm": {
     "name": "#%% md\n"
    }
   },
   "source": [
    "Create the stai dataframe"
   ]
  },
  {
   "cell_type": "code",
   "execution_count": 21,
   "metadata": {
    "pycharm": {
     "name": "#%%\n"
    }
   },
   "outputs": [
    {
     "data": {
      "text/plain": "                           id       date  stai_stress\n0    621e2e8e67b776a24055b564 2021-05-31         45.0\n1    621e2e8e67b776a24055b564 2021-06-07         46.0\n2    621e2e8e67b776a24055b564 2021-06-28         54.0\n3    621e2e8e67b776a24055b564 2021-07-19         46.0\n4    621e2e8e67b776a24055b564 2021-07-26         46.0\n..                        ...        ...          ...\n274  621e375b67b776a240290cdc 2021-06-01         59.0\n275  621e375b67b776a240290cdc 2021-06-08         60.0\n276  621e375b67b776a240290cdc 2021-06-22         60.0\n277  621e375b67b776a240290cdc 2021-07-06         60.0\n278  621e375b67b776a240290cdc 2021-07-12         51.0\n\n[279 rows x 3 columns]",
      "text/html": "<div>\n<style scoped>\n    .dataframe tbody tr th:only-of-type {\n        vertical-align: middle;\n    }\n\n    .dataframe tbody tr th {\n        vertical-align: top;\n    }\n\n    .dataframe thead th {\n        text-align: right;\n    }\n</style>\n<table border=\"1\" class=\"dataframe\">\n  <thead>\n    <tr style=\"text-align: right;\">\n      <th></th>\n      <th>id</th>\n      <th>date</th>\n      <th>stai_stress</th>\n    </tr>\n  </thead>\n  <tbody>\n    <tr>\n      <th>0</th>\n      <td>621e2e8e67b776a24055b564</td>\n      <td>2021-05-31</td>\n      <td>45.0</td>\n    </tr>\n    <tr>\n      <th>1</th>\n      <td>621e2e8e67b776a24055b564</td>\n      <td>2021-06-07</td>\n      <td>46.0</td>\n    </tr>\n    <tr>\n      <th>2</th>\n      <td>621e2e8e67b776a24055b564</td>\n      <td>2021-06-28</td>\n      <td>54.0</td>\n    </tr>\n    <tr>\n      <th>3</th>\n      <td>621e2e8e67b776a24055b564</td>\n      <td>2021-07-19</td>\n      <td>46.0</td>\n    </tr>\n    <tr>\n      <th>4</th>\n      <td>621e2e8e67b776a24055b564</td>\n      <td>2021-07-26</td>\n      <td>46.0</td>\n    </tr>\n    <tr>\n      <th>...</th>\n      <td>...</td>\n      <td>...</td>\n      <td>...</td>\n    </tr>\n    <tr>\n      <th>274</th>\n      <td>621e375b67b776a240290cdc</td>\n      <td>2021-06-01</td>\n      <td>59.0</td>\n    </tr>\n    <tr>\n      <th>275</th>\n      <td>621e375b67b776a240290cdc</td>\n      <td>2021-06-08</td>\n      <td>60.0</td>\n    </tr>\n    <tr>\n      <th>276</th>\n      <td>621e375b67b776a240290cdc</td>\n      <td>2021-06-22</td>\n      <td>60.0</td>\n    </tr>\n    <tr>\n      <th>277</th>\n      <td>621e375b67b776a240290cdc</td>\n      <td>2021-07-06</td>\n      <td>60.0</td>\n    </tr>\n    <tr>\n      <th>278</th>\n      <td>621e375b67b776a240290cdc</td>\n      <td>2021-07-12</td>\n      <td>51.0</td>\n    </tr>\n  </tbody>\n</table>\n<p>279 rows × 3 columns</p>\n</div>"
     },
     "execution_count": 21,
     "metadata": {},
     "output_type": "execute_result"
    }
   ],
   "source": [
    "stai_df = pd.read_csv('./data/stai.csv')\n",
    "stai_df = stai_df.iloc[: , 1:-1]\n",
    "stai_df.drop([\"type\"], axis=1, inplace=True)\n",
    "stai_df.rename(columns={\"user_id\": \"id\", \"submitdate\": \"date\"}, inplace=True)\n",
    "stai_df[\"date\"] = pd.to_datetime(pd.to_datetime(stai_df[\"date\"]).dt.date)\n",
    "stai_df"
   ]
  },
  {
   "cell_type": "markdown",
   "source": [
    "Create the panas dataframe"
   ],
   "metadata": {
    "collapsed": false,
    "pycharm": {
     "name": "#%% md\n"
    }
   }
  },
  {
   "cell_type": "code",
   "execution_count": 22,
   "outputs": [
    {
     "data": {
      "text/plain": "                           id       date  positive_affect_score  \\\n0    621e2e8e67b776a24055b564 2021-07-26                     37   \n1    621e2e8e67b776a24055b564 2021-05-31                     38   \n2    621e2e8e67b776a24055b564 2021-06-07                     37   \n3    621e2e8e67b776a24055b564 2021-06-28                     31   \n4    621e2e8e67b776a24055b564 2021-07-19                     37   \n..                        ...        ...                    ...   \n263  621e375367b776a24021e950 2022-01-02                     30   \n264  621e375b67b776a240290cdc 2021-06-01                     27   \n265  621e375b67b776a240290cdc 2021-06-08                     30   \n266  621e375b67b776a240290cdc 2021-06-22                     30   \n267  621e375b67b776a240290cdc 2021-07-06                     30   \n\n     negative_affect_score  \n0                       14  \n1                       12  \n2                       12  \n3                       12  \n4                       12  \n..                     ...  \n263                     33  \n264                     29  \n265                     30  \n266                     30  \n267                     29  \n\n[268 rows x 4 columns]",
      "text/html": "<div>\n<style scoped>\n    .dataframe tbody tr th:only-of-type {\n        vertical-align: middle;\n    }\n\n    .dataframe tbody tr th {\n        vertical-align: top;\n    }\n\n    .dataframe thead th {\n        text-align: right;\n    }\n</style>\n<table border=\"1\" class=\"dataframe\">\n  <thead>\n    <tr style=\"text-align: right;\">\n      <th></th>\n      <th>id</th>\n      <th>date</th>\n      <th>positive_affect_score</th>\n      <th>negative_affect_score</th>\n    </tr>\n  </thead>\n  <tbody>\n    <tr>\n      <th>0</th>\n      <td>621e2e8e67b776a24055b564</td>\n      <td>2021-07-26</td>\n      <td>37</td>\n      <td>14</td>\n    </tr>\n    <tr>\n      <th>1</th>\n      <td>621e2e8e67b776a24055b564</td>\n      <td>2021-05-31</td>\n      <td>38</td>\n      <td>12</td>\n    </tr>\n    <tr>\n      <th>2</th>\n      <td>621e2e8e67b776a24055b564</td>\n      <td>2021-06-07</td>\n      <td>37</td>\n      <td>12</td>\n    </tr>\n    <tr>\n      <th>3</th>\n      <td>621e2e8e67b776a24055b564</td>\n      <td>2021-06-28</td>\n      <td>31</td>\n      <td>12</td>\n    </tr>\n    <tr>\n      <th>4</th>\n      <td>621e2e8e67b776a24055b564</td>\n      <td>2021-07-19</td>\n      <td>37</td>\n      <td>12</td>\n    </tr>\n    <tr>\n      <th>...</th>\n      <td>...</td>\n      <td>...</td>\n      <td>...</td>\n      <td>...</td>\n    </tr>\n    <tr>\n      <th>263</th>\n      <td>621e375367b776a24021e950</td>\n      <td>2022-01-02</td>\n      <td>30</td>\n      <td>33</td>\n    </tr>\n    <tr>\n      <th>264</th>\n      <td>621e375b67b776a240290cdc</td>\n      <td>2021-06-01</td>\n      <td>27</td>\n      <td>29</td>\n    </tr>\n    <tr>\n      <th>265</th>\n      <td>621e375b67b776a240290cdc</td>\n      <td>2021-06-08</td>\n      <td>30</td>\n      <td>30</td>\n    </tr>\n    <tr>\n      <th>266</th>\n      <td>621e375b67b776a240290cdc</td>\n      <td>2021-06-22</td>\n      <td>30</td>\n      <td>30</td>\n    </tr>\n    <tr>\n      <th>267</th>\n      <td>621e375b67b776a240290cdc</td>\n      <td>2021-07-06</td>\n      <td>30</td>\n      <td>29</td>\n    </tr>\n  </tbody>\n</table>\n<p>268 rows × 4 columns</p>\n</div>"
     },
     "execution_count": 22,
     "metadata": {},
     "output_type": "execute_result"
    }
   ],
   "source": [
    "panas_df = pd.read_csv('./data/panas.csv')\n",
    "panas_df = panas_df.iloc[: , 1:]\n",
    "panas_df.drop([\"type\"], axis=1, inplace=True)\n",
    "panas_df.rename(columns={\"user_id\": \"id\", \"submitdate\": \"date\"}, inplace=True)\n",
    "panas_df[\"date\"] = pd.to_datetime(pd.to_datetime(panas_df[\"date\"]).dt.date)\n",
    "panas_df"
   ],
   "metadata": {
    "collapsed": false,
    "pycharm": {
     "name": "#%%\n"
    }
   }
  },
  {
   "cell_type": "markdown",
   "metadata": {
    "pycharm": {
     "name": "#%% md\n"
    }
   },
   "source": [
    "Merge stress scores and stai dataframe"
   ]
  },
  {
   "cell_type": "code",
   "execution_count": 23,
   "metadata": {
    "pycharm": {
     "name": "#%%\n"
    }
   },
   "outputs": [
    {
     "data": {
      "text/plain": "                          id       date  stress_score  average_stress_score  \\\n0   621e2e8e67b776a24055b564 2021-05-31          81.0               76.1875   \n1   621e2e8e67b776a24055b564 2021-06-07          83.0               76.1875   \n2   621e2e8e67b776a24055b564 2021-06-28          76.0               76.1875   \n3   621e2e8e67b776a24055b564 2021-07-19          75.0               76.1875   \n4   621e2eaf67b776a2406b14ac 2021-11-29          82.0               80.3750   \n..                       ...        ...           ...                   ...   \n71  621e36f967b776a240e5e7c9 2021-06-21          79.0               80.0000   \n72  621e36f967b776a240e5e7c9 2021-06-28          76.0               80.0000   \n73  621e36f967b776a240e5e7c9 2021-07-05          82.0               80.0000   \n74  621e36f967b776a240e5e7c9 2021-07-12          83.0               80.0000   \n75  621e375b67b776a240290cdc 2021-07-12          76.0               78.9375   \n\n    median_stress_score  mean_variation  median_variation  \\\n0                  75.5          4.8125               5.5   \n1                  75.5          6.8125               7.5   \n2                  75.5         -0.1875               0.5   \n3                  75.5         -1.1875              -0.5   \n4                  82.0          1.6250               0.0   \n..                  ...             ...               ...   \n71                 80.5         -1.0000              -1.5   \n72                 80.5         -4.0000              -4.5   \n73                 80.5          2.0000               1.5   \n74                 80.5          3.0000               2.5   \n75                 79.0         -2.9375              -3.0   \n\n    passive_median_stress_score  passive_median_variation  stai_stress  \n0                     81.000000                  0.000000         45.0  \n1                     82.000000                  1.000000         46.0  \n2                     78.000000                 -2.000000         54.0  \n3                     76.187500                 -1.187500         46.0  \n4                     82.000000                  0.000000         40.0  \n..                          ...                       ...          ...  \n71                    80.000000                 -1.000000         45.0  \n72                    79.200000                 -3.200000         45.0  \n73                    79.666667                  2.333333         49.0  \n74                    80.142857                  2.857143         50.0  \n75                    78.214286                 -2.214286         51.0  \n\n[76 rows x 10 columns]",
      "text/html": "<div>\n<style scoped>\n    .dataframe tbody tr th:only-of-type {\n        vertical-align: middle;\n    }\n\n    .dataframe tbody tr th {\n        vertical-align: top;\n    }\n\n    .dataframe thead th {\n        text-align: right;\n    }\n</style>\n<table border=\"1\" class=\"dataframe\">\n  <thead>\n    <tr style=\"text-align: right;\">\n      <th></th>\n      <th>id</th>\n      <th>date</th>\n      <th>stress_score</th>\n      <th>average_stress_score</th>\n      <th>median_stress_score</th>\n      <th>mean_variation</th>\n      <th>median_variation</th>\n      <th>passive_median_stress_score</th>\n      <th>passive_median_variation</th>\n      <th>stai_stress</th>\n    </tr>\n  </thead>\n  <tbody>\n    <tr>\n      <th>0</th>\n      <td>621e2e8e67b776a24055b564</td>\n      <td>2021-05-31</td>\n      <td>81.0</td>\n      <td>76.1875</td>\n      <td>75.5</td>\n      <td>4.8125</td>\n      <td>5.5</td>\n      <td>81.000000</td>\n      <td>0.000000</td>\n      <td>45.0</td>\n    </tr>\n    <tr>\n      <th>1</th>\n      <td>621e2e8e67b776a24055b564</td>\n      <td>2021-06-07</td>\n      <td>83.0</td>\n      <td>76.1875</td>\n      <td>75.5</td>\n      <td>6.8125</td>\n      <td>7.5</td>\n      <td>82.000000</td>\n      <td>1.000000</td>\n      <td>46.0</td>\n    </tr>\n    <tr>\n      <th>2</th>\n      <td>621e2e8e67b776a24055b564</td>\n      <td>2021-06-28</td>\n      <td>76.0</td>\n      <td>76.1875</td>\n      <td>75.5</td>\n      <td>-0.1875</td>\n      <td>0.5</td>\n      <td>78.000000</td>\n      <td>-2.000000</td>\n      <td>54.0</td>\n    </tr>\n    <tr>\n      <th>3</th>\n      <td>621e2e8e67b776a24055b564</td>\n      <td>2021-07-19</td>\n      <td>75.0</td>\n      <td>76.1875</td>\n      <td>75.5</td>\n      <td>-1.1875</td>\n      <td>-0.5</td>\n      <td>76.187500</td>\n      <td>-1.187500</td>\n      <td>46.0</td>\n    </tr>\n    <tr>\n      <th>4</th>\n      <td>621e2eaf67b776a2406b14ac</td>\n      <td>2021-11-29</td>\n      <td>82.0</td>\n      <td>80.3750</td>\n      <td>82.0</td>\n      <td>1.6250</td>\n      <td>0.0</td>\n      <td>82.000000</td>\n      <td>0.000000</td>\n      <td>40.0</td>\n    </tr>\n    <tr>\n      <th>...</th>\n      <td>...</td>\n      <td>...</td>\n      <td>...</td>\n      <td>...</td>\n      <td>...</td>\n      <td>...</td>\n      <td>...</td>\n      <td>...</td>\n      <td>...</td>\n      <td>...</td>\n    </tr>\n    <tr>\n      <th>71</th>\n      <td>621e36f967b776a240e5e7c9</td>\n      <td>2021-06-21</td>\n      <td>79.0</td>\n      <td>80.0000</td>\n      <td>80.5</td>\n      <td>-1.0000</td>\n      <td>-1.5</td>\n      <td>80.000000</td>\n      <td>-1.000000</td>\n      <td>45.0</td>\n    </tr>\n    <tr>\n      <th>72</th>\n      <td>621e36f967b776a240e5e7c9</td>\n      <td>2021-06-28</td>\n      <td>76.0</td>\n      <td>80.0000</td>\n      <td>80.5</td>\n      <td>-4.0000</td>\n      <td>-4.5</td>\n      <td>79.200000</td>\n      <td>-3.200000</td>\n      <td>45.0</td>\n    </tr>\n    <tr>\n      <th>73</th>\n      <td>621e36f967b776a240e5e7c9</td>\n      <td>2021-07-05</td>\n      <td>82.0</td>\n      <td>80.0000</td>\n      <td>80.5</td>\n      <td>2.0000</td>\n      <td>1.5</td>\n      <td>79.666667</td>\n      <td>2.333333</td>\n      <td>49.0</td>\n    </tr>\n    <tr>\n      <th>74</th>\n      <td>621e36f967b776a240e5e7c9</td>\n      <td>2021-07-12</td>\n      <td>83.0</td>\n      <td>80.0000</td>\n      <td>80.5</td>\n      <td>3.0000</td>\n      <td>2.5</td>\n      <td>80.142857</td>\n      <td>2.857143</td>\n      <td>50.0</td>\n    </tr>\n    <tr>\n      <th>75</th>\n      <td>621e375b67b776a240290cdc</td>\n      <td>2021-07-12</td>\n      <td>76.0</td>\n      <td>78.9375</td>\n      <td>79.0</td>\n      <td>-2.9375</td>\n      <td>-3.0</td>\n      <td>78.214286</td>\n      <td>-2.214286</td>\n      <td>51.0</td>\n    </tr>\n  </tbody>\n</table>\n<p>76 rows × 10 columns</p>\n</div>"
     },
     "execution_count": 23,
     "metadata": {},
     "output_type": "execute_result"
    }
   ],
   "source": [
    "df_fitbit_stai = stress_df.merge(stai_df, how='left', on=['id', 'date'])\n",
    "# remove NaNs (no existence of stress score or surveys' response)\n",
    "df_fitbit_stai.dropna(inplace=True)\n",
    "df_fitbit_stai.reset_index(inplace=True, drop=True)\n",
    "df_fitbit_stai"
   ]
  },
  {
   "cell_type": "markdown",
   "source": [
    "Merge stress scores and panas dataframe"
   ],
   "metadata": {
    "collapsed": false,
    "pycharm": {
     "name": "#%% md\n"
    }
   }
  },
  {
   "cell_type": "code",
   "execution_count": 24,
   "outputs": [
    {
     "data": {
      "text/plain": "                          id       date  stress_score  average_stress_score  \\\n0   621e2e8e67b776a24055b564 2021-05-31          81.0               76.1875   \n1   621e2e8e67b776a24055b564 2021-06-07          83.0               76.1875   \n2   621e2e8e67b776a24055b564 2021-06-28          76.0               76.1875   \n3   621e2e8e67b776a24055b564 2021-07-19          75.0               76.1875   \n4   621e2eaf67b776a2406b14ac 2021-11-29          82.0               80.3750   \n..                       ...        ...           ...                   ...   \n68  621e36f967b776a240e5e7c9 2021-06-07          85.0               80.0000   \n69  621e36f967b776a240e5e7c9 2021-06-21          79.0               80.0000   \n70  621e36f967b776a240e5e7c9 2021-06-28          76.0               80.0000   \n71  621e36f967b776a240e5e7c9 2021-07-05          82.0               80.0000   \n72  621e36f967b776a240e5e7c9 2021-07-12          83.0               80.0000   \n\n    median_stress_score  mean_variation  median_variation  \\\n0                  75.5          4.8125               5.5   \n1                  75.5          6.8125               7.5   \n2                  75.5         -0.1875               0.5   \n3                  75.5         -1.1875              -0.5   \n4                  82.0          1.6250               0.0   \n..                  ...             ...               ...   \n68                 80.5          5.0000               4.5   \n69                 80.5         -1.0000              -1.5   \n70                 80.5         -4.0000              -4.5   \n71                 80.5          2.0000               1.5   \n72                 80.5          3.0000               2.5   \n\n    passive_median_stress_score  passive_median_variation  \\\n0                     81.000000                  0.000000   \n1                     82.000000                  1.000000   \n2                     78.000000                 -2.000000   \n3                     76.187500                 -1.187500   \n4                     82.000000                  0.000000   \n..                          ...                       ...   \n68                    84.500000                  0.500000   \n69                    80.000000                 -1.000000   \n70                    79.200000                 -3.200000   \n71                    79.666667                  2.333333   \n72                    80.142857                  2.857143   \n\n    positive_affect_score  negative_affect_score  \n0                    38.0                   12.0  \n1                    37.0                   12.0  \n2                    31.0                   12.0  \n3                    37.0                   12.0  \n4                    28.0                   35.0  \n..                    ...                    ...  \n68                   27.0                   37.0  \n69                   17.0                   27.0  \n70                   28.0                   24.0  \n71                   36.0                   17.0  \n72                   34.0                   18.0  \n\n[73 rows x 11 columns]",
      "text/html": "<div>\n<style scoped>\n    .dataframe tbody tr th:only-of-type {\n        vertical-align: middle;\n    }\n\n    .dataframe tbody tr th {\n        vertical-align: top;\n    }\n\n    .dataframe thead th {\n        text-align: right;\n    }\n</style>\n<table border=\"1\" class=\"dataframe\">\n  <thead>\n    <tr style=\"text-align: right;\">\n      <th></th>\n      <th>id</th>\n      <th>date</th>\n      <th>stress_score</th>\n      <th>average_stress_score</th>\n      <th>median_stress_score</th>\n      <th>mean_variation</th>\n      <th>median_variation</th>\n      <th>passive_median_stress_score</th>\n      <th>passive_median_variation</th>\n      <th>positive_affect_score</th>\n      <th>negative_affect_score</th>\n    </tr>\n  </thead>\n  <tbody>\n    <tr>\n      <th>0</th>\n      <td>621e2e8e67b776a24055b564</td>\n      <td>2021-05-31</td>\n      <td>81.0</td>\n      <td>76.1875</td>\n      <td>75.5</td>\n      <td>4.8125</td>\n      <td>5.5</td>\n      <td>81.000000</td>\n      <td>0.000000</td>\n      <td>38.0</td>\n      <td>12.0</td>\n    </tr>\n    <tr>\n      <th>1</th>\n      <td>621e2e8e67b776a24055b564</td>\n      <td>2021-06-07</td>\n      <td>83.0</td>\n      <td>76.1875</td>\n      <td>75.5</td>\n      <td>6.8125</td>\n      <td>7.5</td>\n      <td>82.000000</td>\n      <td>1.000000</td>\n      <td>37.0</td>\n      <td>12.0</td>\n    </tr>\n    <tr>\n      <th>2</th>\n      <td>621e2e8e67b776a24055b564</td>\n      <td>2021-06-28</td>\n      <td>76.0</td>\n      <td>76.1875</td>\n      <td>75.5</td>\n      <td>-0.1875</td>\n      <td>0.5</td>\n      <td>78.000000</td>\n      <td>-2.000000</td>\n      <td>31.0</td>\n      <td>12.0</td>\n    </tr>\n    <tr>\n      <th>3</th>\n      <td>621e2e8e67b776a24055b564</td>\n      <td>2021-07-19</td>\n      <td>75.0</td>\n      <td>76.1875</td>\n      <td>75.5</td>\n      <td>-1.1875</td>\n      <td>-0.5</td>\n      <td>76.187500</td>\n      <td>-1.187500</td>\n      <td>37.0</td>\n      <td>12.0</td>\n    </tr>\n    <tr>\n      <th>4</th>\n      <td>621e2eaf67b776a2406b14ac</td>\n      <td>2021-11-29</td>\n      <td>82.0</td>\n      <td>80.3750</td>\n      <td>82.0</td>\n      <td>1.6250</td>\n      <td>0.0</td>\n      <td>82.000000</td>\n      <td>0.000000</td>\n      <td>28.0</td>\n      <td>35.0</td>\n    </tr>\n    <tr>\n      <th>...</th>\n      <td>...</td>\n      <td>...</td>\n      <td>...</td>\n      <td>...</td>\n      <td>...</td>\n      <td>...</td>\n      <td>...</td>\n      <td>...</td>\n      <td>...</td>\n      <td>...</td>\n      <td>...</td>\n    </tr>\n    <tr>\n      <th>68</th>\n      <td>621e36f967b776a240e5e7c9</td>\n      <td>2021-06-07</td>\n      <td>85.0</td>\n      <td>80.0000</td>\n      <td>80.5</td>\n      <td>5.0000</td>\n      <td>4.5</td>\n      <td>84.500000</td>\n      <td>0.500000</td>\n      <td>27.0</td>\n      <td>37.0</td>\n    </tr>\n    <tr>\n      <th>69</th>\n      <td>621e36f967b776a240e5e7c9</td>\n      <td>2021-06-21</td>\n      <td>79.0</td>\n      <td>80.0000</td>\n      <td>80.5</td>\n      <td>-1.0000</td>\n      <td>-1.5</td>\n      <td>80.000000</td>\n      <td>-1.000000</td>\n      <td>17.0</td>\n      <td>27.0</td>\n    </tr>\n    <tr>\n      <th>70</th>\n      <td>621e36f967b776a240e5e7c9</td>\n      <td>2021-06-28</td>\n      <td>76.0</td>\n      <td>80.0000</td>\n      <td>80.5</td>\n      <td>-4.0000</td>\n      <td>-4.5</td>\n      <td>79.200000</td>\n      <td>-3.200000</td>\n      <td>28.0</td>\n      <td>24.0</td>\n    </tr>\n    <tr>\n      <th>71</th>\n      <td>621e36f967b776a240e5e7c9</td>\n      <td>2021-07-05</td>\n      <td>82.0</td>\n      <td>80.0000</td>\n      <td>80.5</td>\n      <td>2.0000</td>\n      <td>1.5</td>\n      <td>79.666667</td>\n      <td>2.333333</td>\n      <td>36.0</td>\n      <td>17.0</td>\n    </tr>\n    <tr>\n      <th>72</th>\n      <td>621e36f967b776a240e5e7c9</td>\n      <td>2021-07-12</td>\n      <td>83.0</td>\n      <td>80.0000</td>\n      <td>80.5</td>\n      <td>3.0000</td>\n      <td>2.5</td>\n      <td>80.142857</td>\n      <td>2.857143</td>\n      <td>34.0</td>\n      <td>18.0</td>\n    </tr>\n  </tbody>\n</table>\n<p>73 rows × 11 columns</p>\n</div>"
     },
     "execution_count": 24,
     "metadata": {},
     "output_type": "execute_result"
    }
   ],
   "source": [
    "df_fitbit_panas = stress_df.merge(panas_df, how='left', on=['id', 'date'])\n",
    "# remove NaNs (no existence of stress score or surveys' response)\n",
    "df_fitbit_panas.dropna(inplace=True)\n",
    "df_fitbit_panas.reset_index(inplace=True, drop=True)\n",
    "df_fitbit_panas"
   ],
   "metadata": {
    "collapsed": false,
    "pycharm": {
     "name": "#%%\n"
    }
   }
  },
  {
   "cell_type": "markdown",
   "metadata": {
    "pycharm": {
     "name": "#%% md\n"
    }
   },
   "source": [
    "Scatter plot with stress score and stai score"
   ]
  },
  {
   "cell_type": "code",
   "execution_count": 25,
   "metadata": {
    "pycharm": {
     "name": "#%%\n"
    }
   },
   "outputs": [
    {
     "data": {
      "text/plain": "<Figure size 640x480 with 1 Axes>",
      "image/png": "[encoded data removed]"
     },
     "metadata": {},
     "output_type": "display_data"
    }
   ],
   "source": [
    "import scipy as scipy\n",
    "from scipy import stats\n",
    "import matplotlib.pyplot as plt\n",
    "\n",
    "stress_scores = list(df_fitbit_stai['stress_score'])\n",
    "stai_scores = list(df_fitbit_stai['stai_stress'])\n",
    "\n",
    "plt.scatter(stress_scores, stai_scores)\n",
    "plt.xlabel(\"Stress scores\")\n",
    "plt.ylabel(\"Stai scores\")\n",
    "plt.title(\"Scatter plot\")\n",
    "plt.show()"
   ]
  },
  {
   "cell_type": "markdown",
   "metadata": {
    "pycharm": {
     "name": "#%% md\n"
    }
   },
   "source": [
    "Find the correlation between fitbit stress score and stai score"
   ]
  },
  {
   "cell_type": "code",
   "execution_count": 26,
   "metadata": {
    "pycharm": {
     "name": "#%%\n"
    }
   },
   "outputs": [
    {
     "name": "stdout",
     "output_type": "stream",
     "text": [
      "Pearson correlation\n",
      "Stress scores -0.28211735908972646 \n",
      "\n",
      "Spearman correlation\n",
      "Stress scores -0.2687749082601475 \n",
      "\n",
      "Kendall correlation\n",
      "Stress scores -0.18260756090342398 \n",
      "\n"
     ]
    }
   ],
   "source": [
    "# Pearson correlation\n",
    "print(\"Pearson correlation\")\n",
    "corr,p = scipy.stats.pearsonr(stress_scores, stai_scores)\n",
    "print(\"Stress scores\", corr, \"\\n\")\n",
    "\n",
    "# Spearman correlation\n",
    "print(\"Spearman correlation\")\n",
    "corr = scipy.stats.spearmanr(stress_scores, stai_scores).correlation\n",
    "print(\"Stress scores\", corr, \"\\n\")\n",
    "\n",
    "# Kendall correlation\n",
    "print(\"Kendall correlation\")\n",
    "corr = scipy.stats.kendalltau(stress_scores, stai_scores).correlation\n",
    "print(\"Stress scores\", corr, \"\\n\")"
   ]
  },
  {
   "cell_type": "markdown",
   "source": [
    "Find the correlation between median variation from user baseline and stai score"
   ],
   "metadata": {
    "collapsed": false,
    "pycharm": {
     "name": "#%% md\n"
    }
   }
  },
  {
   "cell_type": "code",
   "execution_count": 27,
   "outputs": [
    {
     "name": "stdout",
     "output_type": "stream",
     "text": [
      "Pearson correlation\n",
      "Median variation -0.060355937516732634 \n",
      "\n",
      "Spearman correlation\n",
      "Median variation -0.09744035851930366 \n",
      "\n",
      "Kendall correlation\n",
      "Median variation -0.06851688315563866 \n",
      "\n"
     ]
    }
   ],
   "source": [
    "median_variations = list(df_fitbit_stai['median_variation'])\n",
    "# Pearson correlation\n",
    "print(\"Pearson correlation\")\n",
    "corr_median, p_median = scipy.stats.pearsonr(median_variations, stai_scores)\n",
    "print(\"Median variation\", corr_median, \"\\n\")\n",
    "# Spearman correlation\n",
    "print(\"Spearman correlation\")\n",
    "corr_median = scipy.stats.spearmanr(median_variations, stai_scores).correlation\n",
    "print(\"Median variation\", corr_median, \"\\n\")\n",
    "# Kendall correlation\n",
    "print(\"Kendall correlation\")\n",
    "corr_median = scipy.stats.kendalltau(median_variations, stai_scores).correlation\n",
    "print(\"Median variation\", corr_median, \"\\n\")"
   ],
   "metadata": {
    "collapsed": false,
    "pycharm": {
     "name": "#%%\n"
    }
   }
  },
  {
   "cell_type": "markdown",
   "source": [
    "Find the correlation between mean variation from user baseline and stai score"
   ],
   "metadata": {
    "collapsed": false,
    "pycharm": {
     "name": "#%% md\n"
    }
   }
  },
  {
   "cell_type": "code",
   "execution_count": 28,
   "outputs": [
    {
     "name": "stdout",
     "output_type": "stream",
     "text": [
      "Pearson correlation\n",
      "Mean variation -0.11776208189892352 \n",
      "\n",
      "Spearman correlation\n",
      "Mean variation -0.14780663239095526 \n",
      "\n",
      "Kendall correlation\n",
      "Mean variation -0.10969757813161755 \n",
      "\n"
     ]
    }
   ],
   "source": [
    "mean_variations = list(df_fitbit_stai['mean_variation'])\n",
    "# Pearson correlation\n",
    "print(\"Pearson correlation\")\n",
    "corr_mean, p_mean = scipy.stats.pearsonr(mean_variations, stai_scores)\n",
    "print(\"Mean variation\", corr_mean, \"\\n\")\n",
    "# Spearman correlation\n",
    "print(\"Spearman correlation\")\n",
    "corr_mean = scipy.stats.spearmanr(mean_variations, stai_scores).correlation\n",
    "print(\"Mean variation\", corr_mean, \"\\n\")\n",
    "# Kendall correlation\n",
    "print(\"Kendall correlation\")\n",
    "corr_mean = scipy.stats.kendalltau(mean_variations, stai_scores).correlation\n",
    "print(\"Mean variation\", corr_mean, \"\\n\")"
   ],
   "metadata": {
    "collapsed": false,
    "pycharm": {
     "name": "#%%\n"
    }
   }
  },
  {
   "cell_type": "markdown",
   "source": [
    "Find the correlation between passive median variation from user baseline and stai score"
   ],
   "metadata": {
    "collapsed": false,
    "pycharm": {
     "name": "#%% md\n"
    }
   }
  },
  {
   "cell_type": "code",
   "execution_count": 29,
   "outputs": [
    {
     "name": "stdout",
     "output_type": "stream",
     "text": [
      "Pearson correlation\n",
      "Passive median variation -0.10819303170851029 \n",
      "\n",
      "Spearman correlation\n",
      "Passive median variation -0.13639777129513275 \n",
      "\n",
      "Kendall correlation\n",
      "Passive median variation -0.09574502661237914 \n",
      "\n"
     ]
    }
   ],
   "source": [
    "passive_variations = list(df_fitbit_stai['passive_median_variation'])\n",
    "# Pearson correlation\n",
    "print(\"Pearson correlation\")\n",
    "corr_passive, p_passive = scipy.stats.pearsonr(passive_variations, stai_scores)\n",
    "print(\"Passive median variation\", corr_passive, \"\\n\")\n",
    "# Spearman correlation\n",
    "print(\"Spearman correlation\")\n",
    "corr_passive = scipy.stats.spearmanr(passive_variations, stai_scores).correlation\n",
    "print(\"Passive median variation\", corr_passive, \"\\n\")\n",
    "# Kendall correlation\n",
    "print(\"Kendall correlation\")\n",
    "corr_passive = scipy.stats.kendalltau(passive_variations, stai_scores).correlation\n",
    "print(\"Passive median variation\", corr_passive, \"\\n\")"
   ],
   "metadata": {
    "collapsed": false,
    "pycharm": {
     "name": "#%%\n"
    }
   }
  },
  {
   "cell_type": "markdown",
   "source": [
    "Scatter plot with stress score and panas positive score"
   ],
   "metadata": {
    "collapsed": false,
    "pycharm": {
     "name": "#%% md\n"
    }
   }
  },
  {
   "cell_type": "code",
   "execution_count": 30,
   "outputs": [
    {
     "data": {
      "text/plain": "<Figure size 640x480 with 1 Axes>",
      "image/png": "[encoded data removed]"
     },
     "metadata": {},
     "output_type": "display_data"
    }
   ],
   "source": [
    "panas_positive_scores = list(df_fitbit_panas['positive_affect_score'])\n",
    "stress_scores = list(df_fitbit_panas['stress_score'])\n",
    "\n",
    "plt.scatter(stress_scores, panas_positive_scores)\n",
    "plt.xlabel(\"Stress scores\")\n",
    "plt.ylabel(\"Panas positive scores\")\n",
    "plt.title(\"Scatter plot\")\n",
    "plt.show()"
   ],
   "metadata": {
    "collapsed": false,
    "pycharm": {
     "name": "#%%\n"
    }
   }
  },
  {
   "cell_type": "markdown",
   "source": [
    "Find the correlation between stress score and panas positive score"
   ],
   "metadata": {
    "collapsed": false,
    "pycharm": {
     "name": "#%% md\n"
    }
   }
  },
  {
   "cell_type": "code",
   "execution_count": 31,
   "outputs": [
    {
     "name": "stdout",
     "output_type": "stream",
     "text": [
      "Pearson correlation\n",
      "Stress scores 0.06924674591990454 \n",
      "\n",
      "Spearman correlation\n",
      "Stress scores 0.026841814403720805 \n",
      "\n",
      "Kendall correlation\n",
      "Stress scores 0.022307131530196107 \n",
      "\n"
     ]
    }
   ],
   "source": [
    "# Pearson correlation\n",
    "print(\"Pearson correlation\")\n",
    "corr,p = scipy.stats.pearsonr(stress_scores, panas_positive_scores)\n",
    "print(\"Stress scores\", corr, \"\\n\")\n",
    "\n",
    "# Spearman correlation\n",
    "print(\"Spearman correlation\")\n",
    "corr = scipy.stats.spearmanr(stress_scores, panas_positive_scores).correlation\n",
    "print(\"Stress scores\", corr, \"\\n\")\n",
    "\n",
    "# Kendall correlation\n",
    "print(\"Kendall correlation\")\n",
    "corr = scipy.stats.kendalltau(stress_scores, panas_positive_scores).correlation\n",
    "print(\"Stress scores\", corr, \"\\n\")"
   ],
   "metadata": {
    "collapsed": false,
    "pycharm": {
     "name": "#%%\n"
    }
   }
  },
  {
   "cell_type": "markdown",
   "source": [
    "Scatter plot with stress score and panas negative score"
   ],
   "metadata": {
    "collapsed": false,
    "pycharm": {
     "name": "#%% md\n"
    }
   }
  },
  {
   "cell_type": "code",
   "execution_count": 32,
   "outputs": [
    {
     "data": {
      "text/plain": "<Figure size 640x480 with 1 Axes>",
      "image/png": "[encoded data removed]"
     },
     "metadata": {},
     "output_type": "display_data"
    }
   ],
   "source": [
    "panas_negative_scores = list(df_fitbit_panas['negative_affect_score'])\n",
    "\n",
    "plt.scatter(stress_scores, panas_negative_scores)\n",
    "plt.xlabel(\"Stress scores\")\n",
    "plt.ylabel(\"Panas negative scores\")\n",
    "plt.title(\"Scatter plot\")\n",
    "plt.show()"
   ],
   "metadata": {
    "collapsed": false,
    "pycharm": {
     "name": "#%%\n"
    }
   }
  },
  {
   "cell_type": "markdown",
   "source": [
    "Find the correlation between stress score and panas negative score"
   ],
   "metadata": {
    "collapsed": false,
    "pycharm": {
     "name": "#%% md\n"
    }
   }
  },
  {
   "cell_type": "code",
   "execution_count": 33,
   "outputs": [
    {
     "name": "stdout",
     "output_type": "stream",
     "text": [
      "Pearson correlation\n",
      "Stress scores -0.31588130337439063 \n",
      "\n",
      "Spearman correlation\n",
      "Stress scores -0.2852838300163001 \n",
      "\n",
      "Kendall correlation\n",
      "Stress scores -0.21229538764370923 \n",
      "\n"
     ]
    }
   ],
   "source": [
    "# Pearson correlation\n",
    "print(\"Pearson correlation\")\n",
    "corr,p = scipy.stats.pearsonr(stress_scores, panas_negative_scores)\n",
    "print(\"Stress scores\", corr, \"\\n\")\n",
    "\n",
    "# Spearman correlation\n",
    "print(\"Spearman correlation\")\n",
    "corr = scipy.stats.spearmanr(stress_scores, panas_negative_scores).correlation\n",
    "print(\"Stress scores\", corr, \"\\n\")\n",
    "\n",
    "# Kendall correlation\n",
    "print(\"Kendall correlation\")\n",
    "corr = scipy.stats.kendalltau(stress_scores, panas_negative_scores).correlation\n",
    "print(\"Stress scores\", corr, \"\\n\")"
   ],
   "metadata": {
    "collapsed": false,
    "pycharm": {
     "name": "#%%\n"
    }
   }
  },
  {
   "cell_type": "markdown",
   "source": [
    "Extra analysis/visualizations"
   ],
   "metadata": {
    "collapsed": false,
    "pycharm": {
     "name": "#%% md\n"
    }
   }
  },
  {
   "cell_type": "code",
   "execution_count": 34,
   "outputs": [
    {
     "data": {
      "text/plain": "  0%|          | 0/1711 [00:00<?, ?it/s]",
      "application/vnd.jupyter.widget-view+json": {
       "version_major": 2,
       "version_minor": 0,
       "model_id": "1b695ace5e8045ab9dded4732699e269"
      }
     },
     "metadata": {},
     "output_type": "display_data"
    },
    {
     "name": "stderr",
     "output_type": "stream",
     "text": [
      "C:\\Users\\evapa\\miniconda3\\envs\\RAIS-miniproject\\lib\\site-packages\\dask\\core.py:119: RuntimeWarning: invalid value encountered in divide\n",
      "  return func(*(_execute_task(a, cache) for a in args))\n",
      "C:\\Users\\evapa\\miniconda3\\envs\\RAIS-miniproject\\lib\\site-packages\\dataprep\\eda\\distribution\\render.py:274: FutureWarning: The frame.append method is deprecated and will be removed from pandas in a future version. Use pandas.concat instead.\n",
      "  df = df.append(pd.DataFrame({col: [nrows - npresent]}, index=[\"Others\"]))\n"
     ]
    }
   ],
   "source": [
    "from dataprep.eda import create_report\n",
    "create_report(df_fitbit_stai).show_browser()"
   ],
   "metadata": {
    "collapsed": false,
    "pycharm": {
     "name": "#%%\n"
    }
   }
  }
 ],
 "metadata": {
  "kernelspec": {
   "display_name": "Python 3 (ipykernel)",
   "language": "python",
   "name": "python3"
  },
  "language_info": {
   "codemirror_mode": {
    "name": "ipython",
    "version": 3
   },
   "file_extension": ".py",
   "mimetype": "text/x-python",
   "name": "python",
   "nbconvert_exporter": "python",
   "pygments_lexer": "ipython3",
   "version": "3.9.13"
  }
 },
 "nbformat": 4,
 "nbformat_minor": 1
}