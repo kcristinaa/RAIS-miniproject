{
 "cells": [
  {
   "cell_type": "code",
   "execution_count": 1,
   "outputs": [],
   "source": [
    "import gc\n",
    "import os\n",
    "import json\n",
    "import pickle\n",
    "import warnings\n",
    "import numpy as np\n",
    "import pandas as pd\n",
    "import seaborn as sns\n",
    "from tqdm import tqdm\n",
    "from datetime import date\n",
    "from bson import ObjectId\n",
    "import matplotlib.dates as md\n",
    "from datetime import datetime\n",
    "from dotenv import load_dotenv\n",
    "from pymongo import MongoClient\n",
    "import matplotlib.pyplot as plt\n",
    "import matplotlib.ticker as mticker"
   ],
   "metadata": {
    "collapsed": false,
    "pycharm": {
     "name": "#%%\n"
    }
   }
  },
  {
   "cell_type": "markdown",
   "source": [
    "Connect securely to the database"
   ],
   "metadata": {
    "collapsed": false,
    "pycharm": {
     "name": "#%% md\n"
    }
   }
  },
  {
   "cell_type": "code",
   "execution_count": 2,
   "outputs": [],
   "source": [
    "load_dotenv(\"config.env\")\n",
    "MONGO_USER = os.getenv(\"MONGO_USER\")\n",
    "MONGO_PASSWORD = os.getenv(\"MONGO_PASSWORD\")\n",
    "client = MongoClient(\"mongodb://\" + MONGO_USER + \":\" + MONGO_PASSWORD + \"@localhost:27017/\")\n",
    "db = client.rais"
   ],
   "metadata": {
    "collapsed": false,
    "pycharm": {
     "name": "#%%\n"
    }
   }
  },
  {
   "cell_type": "markdown",
   "source": [
    "Find all the users"
   ],
   "metadata": {
    "collapsed": false,
    "pycharm": {
     "name": "#%% md\n"
    }
   }
  },
  {
   "cell_type": "code",
   "execution_count": 4,
   "outputs": [],
   "source": [
    "users = db.fitbit.distinct('id')"
   ],
   "metadata": {
    "collapsed": false,
    "pycharm": {
     "name": "#%%\n"
    }
   }
  },
  {
   "cell_type": "markdown",
   "source": [
    "Integrate all the fitbit data one by one with daily granularity"
   ],
   "metadata": {
    "collapsed": false,
    "pycharm": {
     "name": "#%% md\n"
    }
   }
  },
  {
   "cell_type": "markdown",
   "source": [
    "Nightly Temperature"
   ],
   "metadata": {
    "collapsed": false,
    "pycharm": {
     "name": "#%% md\n"
    }
   }
  },
  {
   "cell_type": "code",
   "execution_count": 20,
   "outputs": [
    {
     "data": {
      "text/plain": "                                     nightly_temperature\nid                       date                           \n621e2e8e67b776a24055b564 2021-05-24            34.137687\n                         2021-05-25            33.794544\n                         2021-05-26            34.611011\n                         2021-05-27            34.408304\n                         2021-05-28            34.178922\n...                                                  ...\n621e375b67b776a240290cdc 2021-07-24            33.687826\n                         2021-07-25            34.112386\n                         2021-07-26            33.895137\n                         2021-07-27            33.758319\n                         2021-07-29            34.571786\n\n[3359 rows x 1 columns]",
      "text/html": "<div>\n<style scoped>\n    .dataframe tbody tr th:only-of-type {\n        vertical-align: middle;\n    }\n\n    .dataframe tbody tr th {\n        vertical-align: top;\n    }\n\n    .dataframe thead th {\n        text-align: right;\n    }\n</style>\n<table border=\"1\" class=\"dataframe\">\n  <thead>\n    <tr style=\"text-align: right;\">\n      <th></th>\n      <th></th>\n      <th>nightly_temperature</th>\n    </tr>\n    <tr>\n      <th>id</th>\n      <th>date</th>\n      <th></th>\n    </tr>\n  </thead>\n  <tbody>\n    <tr>\n      <th rowspan=\"5\" valign=\"top\">621e2e8e67b776a24055b564</th>\n      <th>2021-05-24</th>\n      <td>34.137687</td>\n    </tr>\n    <tr>\n      <th>2021-05-25</th>\n      <td>33.794544</td>\n    </tr>\n    <tr>\n      <th>2021-05-26</th>\n      <td>34.611011</td>\n    </tr>\n    <tr>\n      <th>2021-05-27</th>\n      <td>34.408304</td>\n    </tr>\n    <tr>\n      <th>2021-05-28</th>\n      <td>34.178922</td>\n    </tr>\n    <tr>\n      <th>...</th>\n      <th>...</th>\n      <td>...</td>\n    </tr>\n    <tr>\n      <th rowspan=\"5\" valign=\"top\">621e375b67b776a240290cdc</th>\n      <th>2021-07-24</th>\n      <td>33.687826</td>\n    </tr>\n    <tr>\n      <th>2021-07-25</th>\n      <td>34.112386</td>\n    </tr>\n    <tr>\n      <th>2021-07-26</th>\n      <td>33.895137</td>\n    </tr>\n    <tr>\n      <th>2021-07-27</th>\n      <td>33.758319</td>\n    </tr>\n    <tr>\n      <th>2021-07-29</th>\n      <td>34.571786</td>\n    </tr>\n  </tbody>\n</table>\n<p>3359 rows × 1 columns</p>\n</div>"
     },
     "execution_count": 20,
     "metadata": {},
     "output_type": "execute_result"
    }
   ],
   "source": [
    "# Reading temperature data from MongoDB\n",
    "users_skin_temperature = pd.DataFrame(columns=[\"id\", \"data\"])\n",
    "for user in users:\n",
    "    user_data = pd.DataFrame(list(\n",
    "                    db.fitbit.find({ \"$and\": [\n",
    "                        { \"type\": \"Computed Temperature\"},\n",
    "                        {\"data.type\": \"SKIN\"},\n",
    "                        {\"id\": user}\n",
    "                    ] },\n",
    "                        {\"id\": 1, \"data.nightly_temperature\": 1, \"data.sleep_end\": 1, \"_id\": 0}\n",
    "                    )\n",
    "                ))\n",
    "\n",
    "    users_skin_temperature = pd.concat([users_skin_temperature, user_data], axis=0)\n",
    "\n",
    "# split data column (json format) into two columns\n",
    "users_skin_temperature[\"date\"] = users_skin_temperature[\"data\"].apply(lambda d: d[\"sleep_end\"])\n",
    "users_skin_temperature[\"nightly_temperature\"] = users_skin_temperature[\"data\"].apply(lambda d: d[\"nightly_temperature\"])\n",
    "users_skin_temperature.drop([\"data\"], inplace=True, axis=1)\n",
    "\n",
    "# convert timestamp date object and then to datetime64[ns]\n",
    "users_skin_temperature[\"date\"] = pd.to_datetime(pd.to_datetime(users_skin_temperature[\"date\"]).dt.date)\n",
    "\n",
    "# merge with df\n",
    "df = users_skin_temperature\n",
    "\n",
    "# checking for duplicates; if the two values are identical it means that all duplicates (in terms of date and ID) have also equal values.\n",
    "df = df.groupby([\"id\", \"date\"]).first()\n",
    "df"
   ],
   "metadata": {
    "collapsed": false,
    "pycharm": {
     "name": "#%%\n"
    }
   }
  },
  {
   "cell_type": "markdown",
   "source": [
    "Heart Rate Variability"
   ],
   "metadata": {
    "collapsed": false,
    "pycharm": {
     "name": "#%% md\n"
    }
   }
  },
  {
   "cell_type": "code",
   "execution_count": 21,
   "outputs": [
    {
     "data": {
      "text/plain": "                            id       date  nightly_temperature  nremhr  \\\n0     621e2e8e67b776a24055b564 2021-05-24            34.137687  57.432   \n1     621e2e8e67b776a24055b564 2021-05-25            33.794544  57.681   \n2     621e2e8e67b776a24055b564 2021-05-26            34.611011  57.481   \n3     621e2e8e67b776a24055b564 2021-05-27            34.408304  57.493   \n4     621e2e8e67b776a24055b564 2021-05-28            34.178922  56.750   \n...                        ...        ...                  ...     ...   \n3433  621e356967b776a24027bd9f 2022-01-15                  NaN  63.064   \n3434  621e356967b776a24027bd9f 2022-01-19                  NaN  59.473   \n3435  621e360b67b776a24039709f 2021-05-24                  NaN  68.321   \n3436  621e367e67b776a24087d75d 2022-01-22                  NaN  63.564   \n3437  621e36f967b776a240e5e7c9 2021-05-24                  NaN  59.911   \n\n        rmssd  \n0      89.603  \n1      94.303  \n2     119.212  \n3     111.709  \n4     103.034  \n...       ...  \n3433   55.949  \n3434   56.795  \n3435   31.413  \n3436   31.473  \n3437   61.157  \n\n[3438 rows x 5 columns]",
      "text/html": "<div>\n<style scoped>\n    .dataframe tbody tr th:only-of-type {\n        vertical-align: middle;\n    }\n\n    .dataframe tbody tr th {\n        vertical-align: top;\n    }\n\n    .dataframe thead th {\n        text-align: right;\n    }\n</style>\n<table border=\"1\" class=\"dataframe\">\n  <thead>\n    <tr style=\"text-align: right;\">\n      <th></th>\n      <th>id</th>\n      <th>date</th>\n      <th>nightly_temperature</th>\n      <th>nremhr</th>\n      <th>rmssd</th>\n    </tr>\n  </thead>\n  <tbody>\n    <tr>\n      <th>0</th>\n      <td>621e2e8e67b776a24055b564</td>\n      <td>2021-05-24</td>\n      <td>34.137687</td>\n      <td>57.432</td>\n      <td>89.603</td>\n    </tr>\n    <tr>\n      <th>1</th>\n      <td>621e2e8e67b776a24055b564</td>\n      <td>2021-05-25</td>\n      <td>33.794544</td>\n      <td>57.681</td>\n      <td>94.303</td>\n    </tr>\n    <tr>\n      <th>2</th>\n      <td>621e2e8e67b776a24055b564</td>\n      <td>2021-05-26</td>\n      <td>34.611011</td>\n      <td>57.481</td>\n      <td>119.212</td>\n    </tr>\n    <tr>\n      <th>3</th>\n      <td>621e2e8e67b776a24055b564</td>\n      <td>2021-05-27</td>\n      <td>34.408304</td>\n      <td>57.493</td>\n      <td>111.709</td>\n    </tr>\n    <tr>\n      <th>4</th>\n      <td>621e2e8e67b776a24055b564</td>\n      <td>2021-05-28</td>\n      <td>34.178922</td>\n      <td>56.750</td>\n      <td>103.034</td>\n    </tr>\n    <tr>\n      <th>...</th>\n      <td>...</td>\n      <td>...</td>\n      <td>...</td>\n      <td>...</td>\n      <td>...</td>\n    </tr>\n    <tr>\n      <th>3433</th>\n      <td>621e356967b776a24027bd9f</td>\n      <td>2022-01-15</td>\n      <td>NaN</td>\n      <td>63.064</td>\n      <td>55.949</td>\n    </tr>\n    <tr>\n      <th>3434</th>\n      <td>621e356967b776a24027bd9f</td>\n      <td>2022-01-19</td>\n      <td>NaN</td>\n      <td>59.473</td>\n      <td>56.795</td>\n    </tr>\n    <tr>\n      <th>3435</th>\n      <td>621e360b67b776a24039709f</td>\n      <td>2021-05-24</td>\n      <td>NaN</td>\n      <td>68.321</td>\n      <td>31.413</td>\n    </tr>\n    <tr>\n      <th>3436</th>\n      <td>621e367e67b776a24087d75d</td>\n      <td>2022-01-22</td>\n      <td>NaN</td>\n      <td>63.564</td>\n      <td>31.473</td>\n    </tr>\n    <tr>\n      <th>3437</th>\n      <td>621e36f967b776a240e5e7c9</td>\n      <td>2021-05-24</td>\n      <td>NaN</td>\n      <td>59.911</td>\n      <td>61.157</td>\n    </tr>\n  </tbody>\n</table>\n<p>3438 rows × 5 columns</p>\n</div>"
     },
     "execution_count": 21,
     "metadata": {},
     "output_type": "execute_result"
    }
   ],
   "source": [
    "users_HRV = pd.DataFrame(columns=[\"id\", \"data\"])\n",
    "for user in users:\n",
    "    user_data = pd.DataFrame(list(\n",
    "        db.fitbit.find({\"$and\": [\n",
    "            {\"type\": \"Daily Heart Rate Variability Summary\"},\n",
    "            {\"id\": user}\n",
    "        ]},\n",
    "            {\"id\": 1, \"data.timestamp\": 1, \"data.nremhr\": 1, \"data.rmssd\": 1, \"_id\": 0}\n",
    "        )\n",
    "    ))\n",
    "\n",
    "    users_HRV = pd.concat([users_HRV, user_data], axis=0)\n",
    "\n",
    "# split data column (json format) into two columns\n",
    "users_HRV[\"date\"] = users_HRV[\"data\"].apply(lambda d: d[\"timestamp\"])\n",
    "users_HRV[\"nremhr\"] = users_HRV[\"data\"].apply(lambda d: d[\"nremhr\"])\n",
    "users_HRV[\"rmssd\"] = users_HRV[\"data\"].apply(lambda d: d[\"rmssd\"])\n",
    "users_HRV.drop([\"data\"], inplace=True, axis=1)\n",
    "\n",
    "# convert timestamp date object and then to datetime64[ns]\n",
    "users_HRV[\"date\"] = pd.to_datetime(pd.to_datetime(users_HRV[\"date\"]).dt.date)\n",
    "\n",
    "# merge\n",
    "df = df.merge(users_HRV, how='outer', on=['id', 'date'])\n",
    "df"
   ],
   "metadata": {
    "collapsed": false,
    "pycharm": {
     "name": "#%%\n"
    }
   }
  },
  {
   "cell_type": "markdown",
   "source": [
    "SpO2"
   ],
   "metadata": {
    "collapsed": false,
    "pycharm": {
     "name": "#%% md\n"
    }
   }
  },
  {
   "cell_type": "code",
   "execution_count": 22,
   "outputs": [
    {
     "data": {
      "text/plain": "                                     nightly_temperature  nremhr    rmssd  \\\nid                       date                                               \n621e2e8e67b776a24055b564 2021-05-24            34.137687  57.432   89.603   \n                         2021-05-25            33.794544  57.681   94.303   \n                         2021-05-26            34.611011  57.481  119.212   \n                         2021-05-27            34.408304  57.493  111.709   \n                         2021-05-28            34.178922  56.750  103.034   \n...                                                  ...     ...      ...   \n621e375b67b776a240290cdc 2021-07-24            33.687826  69.579   19.407   \n                         2021-07-25            34.112386  65.899   22.892   \n                         2021-07-26            33.895137  65.468   22.888   \n                         2021-07-27            33.758319  63.808   21.189   \n                         2021-07-29            34.571786  63.397   20.818   \n\n                                     spo2  \nid                       date              \n621e2e8e67b776a24055b564 2021-05-24   NaN  \n                         2021-05-25   NaN  \n                         2021-05-26   NaN  \n                         2021-05-27   NaN  \n                         2021-05-28   NaN  \n...                                   ...  \n621e375b67b776a240290cdc 2021-07-24   NaN  \n                         2021-07-25   NaN  \n                         2021-07-26   NaN  \n                         2021-07-27   NaN  \n                         2021-07-29   NaN  \n\n[3475 rows x 4 columns]",
      "text/html": "<div>\n<style scoped>\n    .dataframe tbody tr th:only-of-type {\n        vertical-align: middle;\n    }\n\n    .dataframe tbody tr th {\n        vertical-align: top;\n    }\n\n    .dataframe thead th {\n        text-align: right;\n    }\n</style>\n<table border=\"1\" class=\"dataframe\">\n  <thead>\n    <tr style=\"text-align: right;\">\n      <th></th>\n      <th></th>\n      <th>nightly_temperature</th>\n      <th>nremhr</th>\n      <th>rmssd</th>\n      <th>spo2</th>\n    </tr>\n    <tr>\n      <th>id</th>\n      <th>date</th>\n      <th></th>\n      <th></th>\n      <th></th>\n      <th></th>\n    </tr>\n  </thead>\n  <tbody>\n    <tr>\n      <th rowspan=\"5\" valign=\"top\">621e2e8e67b776a24055b564</th>\n      <th>2021-05-24</th>\n      <td>34.137687</td>\n      <td>57.432</td>\n      <td>89.603</td>\n      <td>NaN</td>\n    </tr>\n    <tr>\n      <th>2021-05-25</th>\n      <td>33.794544</td>\n      <td>57.681</td>\n      <td>94.303</td>\n      <td>NaN</td>\n    </tr>\n    <tr>\n      <th>2021-05-26</th>\n      <td>34.611011</td>\n      <td>57.481</td>\n      <td>119.212</td>\n      <td>NaN</td>\n    </tr>\n    <tr>\n      <th>2021-05-27</th>\n      <td>34.408304</td>\n      <td>57.493</td>\n      <td>111.709</td>\n      <td>NaN</td>\n    </tr>\n    <tr>\n      <th>2021-05-28</th>\n      <td>34.178922</td>\n      <td>56.750</td>\n      <td>103.034</td>\n      <td>NaN</td>\n    </tr>\n    <tr>\n      <th>...</th>\n      <th>...</th>\n      <td>...</td>\n      <td>...</td>\n      <td>...</td>\n      <td>...</td>\n    </tr>\n    <tr>\n      <th rowspan=\"5\" valign=\"top\">621e375b67b776a240290cdc</th>\n      <th>2021-07-24</th>\n      <td>33.687826</td>\n      <td>69.579</td>\n      <td>19.407</td>\n      <td>NaN</td>\n    </tr>\n    <tr>\n      <th>2021-07-25</th>\n      <td>34.112386</td>\n      <td>65.899</td>\n      <td>22.892</td>\n      <td>NaN</td>\n    </tr>\n    <tr>\n      <th>2021-07-26</th>\n      <td>33.895137</td>\n      <td>65.468</td>\n      <td>22.888</td>\n      <td>NaN</td>\n    </tr>\n    <tr>\n      <th>2021-07-27</th>\n      <td>33.758319</td>\n      <td>63.808</td>\n      <td>21.189</td>\n      <td>NaN</td>\n    </tr>\n    <tr>\n      <th>2021-07-29</th>\n      <td>34.571786</td>\n      <td>63.397</td>\n      <td>20.818</td>\n      <td>NaN</td>\n    </tr>\n  </tbody>\n</table>\n<p>3475 rows × 4 columns</p>\n</div>"
     },
     "execution_count": 22,
     "metadata": {},
     "output_type": "execute_result"
    }
   ],
   "source": [
    "users_spo2 = pd.DataFrame(columns=[\"id\", \"data\"])\n",
    "for user in users:\n",
    "    user_data = pd.DataFrame(list(\n",
    "        db.fitbit.find({\"$and\": [\n",
    "            {\"type\": \"Daily SpO2\"},\n",
    "            {\"id\": user}\n",
    "        ]},\n",
    "            {\"id\": 1, \"data.timestamp\": 1, \"data.average_value\": 1, \"_id\": 0}\n",
    "        )\n",
    "    ))\n",
    "\n",
    "    users_spo2 = pd.concat([users_spo2, user_data], axis=0)\n",
    "\n",
    "# split data column (json format) into two columns\n",
    "users_spo2[\"date\"] = users_spo2[\"data\"].apply(lambda d: d[\"timestamp\"])\n",
    "users_spo2[\"spo2\"] = users_spo2[\"data\"].apply(lambda d: d[\"average_value\"])\n",
    "users_spo2.drop([\"data\"], inplace=True, axis=1)\n",
    "\n",
    "# convert timestamp date object and then to datetime64[ns]\n",
    "users_spo2[\"date\"] = pd.to_datetime(pd.to_datetime(users_spo2[\"date\"]).dt.date)\n",
    "\n",
    "# merge\n",
    "df = df.merge(users_spo2, how='outer', on=['id', 'date'])\n",
    "\n",
    "# drop duplicates\n",
    "df = df.groupby([\"id\", \"date\"]).first()\n",
    "df"
   ],
   "metadata": {
    "collapsed": false,
    "pycharm": {
     "name": "#%%\n"
    }
   }
  },
  {
   "cell_type": "markdown",
   "source": [
    "Respiratory Rate Summary"
   ],
   "metadata": {
    "collapsed": false,
    "pycharm": {
     "name": "#%% md\n"
    }
   }
  },
  {
   "cell_type": "code",
   "execution_count": 23,
   "outputs": [
    {
     "data": {
      "text/plain": "                                     nightly_temperature  nremhr    rmssd  \\\nid                       date                                               \n621e2e8e67b776a24055b564 2021-05-24            34.137687  57.432   89.603   \n                         2021-05-25            33.794544  57.681   94.303   \n                         2021-05-26            34.611011  57.481  119.212   \n                         2021-05-27            34.408304  57.493  111.709   \n                         2021-05-28            34.178922  56.750  103.034   \n...                                                  ...     ...      ...   \n621e375b67b776a240290cdc 2021-07-24            33.687826  69.579   19.407   \n                         2021-07-25            34.112386  65.899   22.892   \n                         2021-07-26            33.895137  65.468   22.888   \n                         2021-07-27            33.758319  63.808   21.189   \n                         2021-07-29            34.571786  63.397   20.818   \n\n                                     spo2  full_sleep_breathing_rate  \nid                       date                                         \n621e2e8e67b776a24055b564 2021-05-24   NaN                       14.8  \n                         2021-05-25   NaN                       15.8  \n                         2021-05-26   NaN                       14.6  \n                         2021-05-27   NaN                       14.8  \n                         2021-05-28   NaN                       15.2  \n...                                   ...                        ...  \n621e375b67b776a240290cdc 2021-07-24   NaN                       17.0  \n                         2021-07-25   NaN                       18.0  \n                         2021-07-26   NaN                       17.0  \n                         2021-07-27   NaN                       17.4  \n                         2021-07-29   NaN                       16.8  \n\n[3476 rows x 5 columns]",
      "text/html": "<div>\n<style scoped>\n    .dataframe tbody tr th:only-of-type {\n        vertical-align: middle;\n    }\n\n    .dataframe tbody tr th {\n        vertical-align: top;\n    }\n\n    .dataframe thead th {\n        text-align: right;\n    }\n</style>\n<table border=\"1\" class=\"dataframe\">\n  <thead>\n    <tr style=\"text-align: right;\">\n      <th></th>\n      <th></th>\n      <th>nightly_temperature</th>\n      <th>nremhr</th>\n      <th>rmssd</th>\n      <th>spo2</th>\n      <th>full_sleep_breathing_rate</th>\n    </tr>\n    <tr>\n      <th>id</th>\n      <th>date</th>\n      <th></th>\n      <th></th>\n      <th></th>\n      <th></th>\n      <th></th>\n    </tr>\n  </thead>\n  <tbody>\n    <tr>\n      <th rowspan=\"5\" valign=\"top\">621e2e8e67b776a24055b564</th>\n      <th>2021-05-24</th>\n      <td>34.137687</td>\n      <td>57.432</td>\n      <td>89.603</td>\n      <td>NaN</td>\n      <td>14.8</td>\n    </tr>\n    <tr>\n      <th>2021-05-25</th>\n      <td>33.794544</td>\n      <td>57.681</td>\n      <td>94.303</td>\n      <td>NaN</td>\n      <td>15.8</td>\n    </tr>\n    <tr>\n      <th>2021-05-26</th>\n      <td>34.611011</td>\n      <td>57.481</td>\n      <td>119.212</td>\n      <td>NaN</td>\n      <td>14.6</td>\n    </tr>\n    <tr>\n      <th>2021-05-27</th>\n      <td>34.408304</td>\n      <td>57.493</td>\n      <td>111.709</td>\n      <td>NaN</td>\n      <td>14.8</td>\n    </tr>\n    <tr>\n      <th>2021-05-28</th>\n      <td>34.178922</td>\n      <td>56.750</td>\n      <td>103.034</td>\n      <td>NaN</td>\n      <td>15.2</td>\n    </tr>\n    <tr>\n      <th>...</th>\n      <th>...</th>\n      <td>...</td>\n      <td>...</td>\n      <td>...</td>\n      <td>...</td>\n      <td>...</td>\n    </tr>\n    <tr>\n      <th rowspan=\"5\" valign=\"top\">621e375b67b776a240290cdc</th>\n      <th>2021-07-24</th>\n      <td>33.687826</td>\n      <td>69.579</td>\n      <td>19.407</td>\n      <td>NaN</td>\n      <td>17.0</td>\n    </tr>\n    <tr>\n      <th>2021-07-25</th>\n      <td>34.112386</td>\n      <td>65.899</td>\n      <td>22.892</td>\n      <td>NaN</td>\n      <td>18.0</td>\n    </tr>\n    <tr>\n      <th>2021-07-26</th>\n      <td>33.895137</td>\n      <td>65.468</td>\n      <td>22.888</td>\n      <td>NaN</td>\n      <td>17.0</td>\n    </tr>\n    <tr>\n      <th>2021-07-27</th>\n      <td>33.758319</td>\n      <td>63.808</td>\n      <td>21.189</td>\n      <td>NaN</td>\n      <td>17.4</td>\n    </tr>\n    <tr>\n      <th>2021-07-29</th>\n      <td>34.571786</td>\n      <td>63.397</td>\n      <td>20.818</td>\n      <td>NaN</td>\n      <td>16.8</td>\n    </tr>\n  </tbody>\n</table>\n<p>3476 rows × 5 columns</p>\n</div>"
     },
     "execution_count": 23,
     "metadata": {},
     "output_type": "execute_result"
    }
   ],
   "source": [
    "users_respiratory_rate = pd.DataFrame(columns=[\"id\", \"data\"])\n",
    "for user in users:\n",
    "    user_data = pd.DataFrame(list(\n",
    "        db.fitbit.find({\"$and\": [\n",
    "            {\"type\": \"Respiratory Rate Summary\"},\n",
    "            {\"id\": user}\n",
    "        ]},\n",
    "            {\"id\": 1, \"data.timestamp\": 1, \"data.full_sleep_breathing_rate\": 1, \"_id\": 0}\n",
    "        )\n",
    "    ))\n",
    "\n",
    "    users_respiratory_rate = pd.concat([users_respiratory_rate, user_data], axis=0)\n",
    "\n",
    "# split data column (json format) into two columns\n",
    "users_respiratory_rate[\"date\"] = users_respiratory_rate[\"data\"].apply(lambda d: d[\"timestamp\"])\n",
    "users_respiratory_rate[\"full_sleep_breathing_rate\"] = users_respiratory_rate[\"data\"].apply(lambda d: d[\"full_sleep_breathing_rate\"])\n",
    "users_respiratory_rate.drop([\"data\"], inplace=True, axis=1)\n",
    "\n",
    "# convert timestamp date object and then to datetime64[ns]\n",
    "users_respiratory_rate[\"date\"] = pd.to_datetime(pd.to_datetime(users_respiratory_rate[\"date\"]).dt.date)\n",
    "\n",
    "# merge\n",
    "df = df.merge(users_respiratory_rate, how='outer', on=['id', 'date'])\n",
    "\n",
    "# drop duplicates\n",
    "df = df.groupby([\"id\", \"date\"]).max()\n",
    "df"
   ],
   "metadata": {
    "collapsed": false,
    "pycharm": {
     "name": "#%%\n"
    }
   }
  },
  {
   "cell_type": "markdown",
   "source": [
    "Stress Score"
   ],
   "metadata": {
    "collapsed": false,
    "pycharm": {
     "name": "#%% md\n"
    }
   }
  },
  {
   "cell_type": "code",
   "execution_count": 24,
   "outputs": [
    {
     "data": {
      "text/plain": "                                     nightly_temperature  nremhr    rmssd  \\\nid                       date                                               \n621e2e8e67b776a24055b564 2021-05-24            34.137687  57.432   89.603   \n                         2021-05-25            33.794544  57.681   94.303   \n                         2021-05-26            34.611011  57.481  119.212   \n                         2021-05-27            34.408304  57.493  111.709   \n                         2021-05-28            34.178922  56.750  103.034   \n...                                                  ...     ...      ...   \n621e375b67b776a240290cdc 2021-07-25            34.112386  65.899   22.892   \n                         2021-07-26            33.895137  65.468   22.888   \n                         2021-07-27            33.758319  63.808   21.189   \n                         2021-07-29            34.571786  63.397   20.818   \n                         2021-07-31                  NaN     NaN      NaN   \n\n                                     spo2  full_sleep_breathing_rate  \\\nid                       date                                          \n621e2e8e67b776a24055b564 2021-05-24   NaN                       14.8   \n                         2021-05-25   NaN                       15.8   \n                         2021-05-26   NaN                       14.6   \n                         2021-05-27   NaN                       14.8   \n                         2021-05-28   NaN                       15.2   \n...                                   ...                        ...   \n621e375b67b776a240290cdc 2021-07-25   NaN                       18.0   \n                         2021-07-26   NaN                       17.0   \n                         2021-07-27   NaN                       17.4   \n                         2021-07-29   NaN                       16.8   \n                         2021-07-31   NaN                        NaN   \n\n                                     stress_score  sleep_points_percentage  \\\nid                       date                                                \n621e2e8e67b776a24055b564 2021-05-24          78.0                 0.833333   \n                         2021-05-25          80.0                 0.833333   \n                         2021-05-26          84.0                 0.966667   \n                         2021-05-27          82.0                 0.933333   \n                         2021-05-28          81.0                 0.866667   \n...                                           ...                      ...   \n621e375b67b776a240290cdc 2021-07-25          84.0                 0.833333   \n                         2021-07-26          89.0                 1.000000   \n                         2021-07-27          82.0                 0.900000   \n                         2021-07-29          84.0                 0.633333   \n                         2021-07-31           0.0                 0.000000   \n\n                                     exertion_points_percentage  \\\nid                       date                                     \n621e2e8e67b776a24055b564 2021-05-24                       0.675   \n                         2021-05-25                       0.725   \n                         2021-05-26                       0.725   \n                         2021-05-27                       0.725   \n                         2021-05-28                       0.725   \n...                                                         ...   \n621e375b67b776a240290cdc 2021-07-25                       0.900   \n                         2021-07-26                       0.900   \n                         2021-07-27                       0.800   \n                         2021-07-29                       0.900   \n                         2021-07-31                       0.000   \n\n                                     responsiveness_points_percentage  \nid                       date                                          \n621e2e8e67b776a24055b564 2021-05-24                          0.866667  \n                         2021-05-25                          0.866667  \n                         2021-05-26                          0.866667  \n                         2021-05-27                          0.833333  \n                         2021-05-28                          0.866667  \n...                                                               ...  \n621e375b67b776a240290cdc 2021-07-25                          0.766667  \n                         2021-07-26                          0.766667  \n                         2021-07-27                          0.766667  \n                         2021-07-29                          0.966667  \n                         2021-07-31                          0.000000  \n\n[3531 rows x 9 columns]",
      "text/html": "<div>\n<style scoped>\n    .dataframe tbody tr th:only-of-type {\n        vertical-align: middle;\n    }\n\n    .dataframe tbody tr th {\n        vertical-align: top;\n    }\n\n    .dataframe thead th {\n        text-align: right;\n    }\n</style>\n<table border=\"1\" class=\"dataframe\">\n  <thead>\n    <tr style=\"text-align: right;\">\n      <th></th>\n      <th></th>\n      <th>nightly_temperature</th>\n      <th>nremhr</th>\n      <th>rmssd</th>\n      <th>spo2</th>\n      <th>full_sleep_breathing_rate</th>\n      <th>stress_score</th>\n      <th>sleep_points_percentage</th>\n      <th>exertion_points_percentage</th>\n      <th>responsiveness_points_percentage</th>\n    </tr>\n    <tr>\n      <th>id</th>\n      <th>date</th>\n      <th></th>\n      <th></th>\n      <th></th>\n      <th></th>\n      <th></th>\n      <th></th>\n      <th></th>\n      <th></th>\n      <th></th>\n    </tr>\n  </thead>\n  <tbody>\n    <tr>\n      <th rowspan=\"5\" valign=\"top\">621e2e8e67b776a24055b564</th>\n      <th>2021-05-24</th>\n      <td>34.137687</td>\n      <td>57.432</td>\n      <td>89.603</td>\n      <td>NaN</td>\n      <td>14.8</td>\n      <td>78.0</td>\n      <td>0.833333</td>\n      <td>0.675</td>\n      <td>0.866667</td>\n    </tr>\n    <tr>\n      <th>2021-05-25</th>\n      <td>33.794544</td>\n      <td>57.681</td>\n      <td>94.303</td>\n      <td>NaN</td>\n      <td>15.8</td>\n      <td>80.0</td>\n      <td>0.833333</td>\n      <td>0.725</td>\n      <td>0.866667</td>\n    </tr>\n    <tr>\n      <th>2021-05-26</th>\n      <td>34.611011</td>\n      <td>57.481</td>\n      <td>119.212</td>\n      <td>NaN</td>\n      <td>14.6</td>\n      <td>84.0</td>\n      <td>0.966667</td>\n      <td>0.725</td>\n      <td>0.866667</td>\n    </tr>\n    <tr>\n      <th>2021-05-27</th>\n      <td>34.408304</td>\n      <td>57.493</td>\n      <td>111.709</td>\n      <td>NaN</td>\n      <td>14.8</td>\n      <td>82.0</td>\n      <td>0.933333</td>\n      <td>0.725</td>\n      <td>0.833333</td>\n    </tr>\n    <tr>\n      <th>2021-05-28</th>\n      <td>34.178922</td>\n      <td>56.750</td>\n      <td>103.034</td>\n      <td>NaN</td>\n      <td>15.2</td>\n      <td>81.0</td>\n      <td>0.866667</td>\n      <td>0.725</td>\n      <td>0.866667</td>\n    </tr>\n    <tr>\n      <th>...</th>\n      <th>...</th>\n      <td>...</td>\n      <td>...</td>\n      <td>...</td>\n      <td>...</td>\n      <td>...</td>\n      <td>...</td>\n      <td>...</td>\n      <td>...</td>\n      <td>...</td>\n    </tr>\n    <tr>\n      <th rowspan=\"5\" valign=\"top\">621e375b67b776a240290cdc</th>\n      <th>2021-07-25</th>\n      <td>34.112386</td>\n      <td>65.899</td>\n      <td>22.892</td>\n      <td>NaN</td>\n      <td>18.0</td>\n      <td>84.0</td>\n      <td>0.833333</td>\n      <td>0.900</td>\n      <td>0.766667</td>\n    </tr>\n    <tr>\n      <th>2021-07-26</th>\n      <td>33.895137</td>\n      <td>65.468</td>\n      <td>22.888</td>\n      <td>NaN</td>\n      <td>17.0</td>\n      <td>89.0</td>\n      <td>1.000000</td>\n      <td>0.900</td>\n      <td>0.766667</td>\n    </tr>\n    <tr>\n      <th>2021-07-27</th>\n      <td>33.758319</td>\n      <td>63.808</td>\n      <td>21.189</td>\n      <td>NaN</td>\n      <td>17.4</td>\n      <td>82.0</td>\n      <td>0.900000</td>\n      <td>0.800</td>\n      <td>0.766667</td>\n    </tr>\n    <tr>\n      <th>2021-07-29</th>\n      <td>34.571786</td>\n      <td>63.397</td>\n      <td>20.818</td>\n      <td>NaN</td>\n      <td>16.8</td>\n      <td>84.0</td>\n      <td>0.633333</td>\n      <td>0.900</td>\n      <td>0.966667</td>\n    </tr>\n    <tr>\n      <th>2021-07-31</th>\n      <td>NaN</td>\n      <td>NaN</td>\n      <td>NaN</td>\n      <td>NaN</td>\n      <td>NaN</td>\n      <td>0.0</td>\n      <td>0.000000</td>\n      <td>0.000</td>\n      <td>0.000000</td>\n    </tr>\n  </tbody>\n</table>\n<p>3531 rows × 9 columns</p>\n</div>"
     },
     "execution_count": 24,
     "metadata": {},
     "output_type": "execute_result"
    }
   ],
   "source": [
    "users_stress = pd.DataFrame(columns=[\"id\", \"data\"])\n",
    "for user in users:\n",
    "    user_data = pd.DataFrame(list(\n",
    "        db.fitbit.find({\"$and\": [\n",
    "            {\"type\": \"Stress Score\"},\n",
    "            {\"id\": user}\n",
    "        ]},\n",
    "            {\"id\": 1, \"data.DATE\": 1, \"data.STRESS_SCORE\": 1, \"data.SLEEP_POINTS\": 1, \"data.MAX_SLEEP_POINTS\": 1, \"data.EXERTION_POINTS\": 1, \"data.MAX_EXERTION_POINTS\": 1, \"data.RESPONSIVENESS_POINTS\": 1, \"data.MAX_RESPONSIVENESS_POINTS\": 1, \"_id\": 0}\n",
    "        )\n",
    "    ))\n",
    "\n",
    "    users_stress = pd.concat([users_stress, user_data], axis=0)\n",
    "\n",
    "users_avg_max_sleep_points = np.mean(users_stress[\"data\"].apply(lambda d: d[\"MAX_SLEEP_POINTS\"]))\n",
    "users_avg_max_exertion_points = np.mean(users_stress[\"data\"].apply(lambda d: d[\"MAX_EXERTION_POINTS\"]))\n",
    "users_avg_max_responsiveness_points = np.mean(users_stress[\"data\"].apply(lambda d: d[\"MAX_RESPONSIVENESS_POINTS\"]))\n",
    "\n",
    "# split data column (json format) into two columns\n",
    "users_stress[\"date\"] = users_stress[\"data\"].apply(lambda d: d[\"DATE\"])\n",
    "users_stress[\"stress_score\"] = users_stress[\"data\"].apply(lambda d: d[\"STRESS_SCORE\"])\n",
    "users_stress[\"sleep_points_percentage\"] = users_stress[\"data\"].apply(lambda d: d[\"SLEEP_POINTS\"]/d[\"MAX_SLEEP_POINTS\"] if d[\"MAX_SLEEP_POINTS\"] != 0 else d[\"SLEEP_POINTS\"]/users_avg_max_sleep_points)\n",
    "users_stress[\"exertion_points_percentage\"] = users_stress[\"data\"].apply(lambda d: d[\"EXERTION_POINTS\"]/d[\"MAX_EXERTION_POINTS\"] if d[\"MAX_EXERTION_POINTS\"] != 0 else d[\"EXERTION_POINTS\"]/users_avg_max_exertion_points)\n",
    "users_stress[\"responsiveness_points_percentage\"] = users_stress[\"data\"].apply(lambda d: d[\"RESPONSIVENESS_POINTS\"]/d[\"MAX_RESPONSIVENESS_POINTS\"] if d[\"MAX_RESPONSIVENESS_POINTS\"] != 0 else d[\"RESPONSIVENESS_POINTS\"]/users_avg_max_responsiveness_points)\n",
    "users_stress.drop([\"data\"], inplace=True, axis=1)\n",
    "\n",
    "# convert timestamp date object and then to datetime64[ns]\n",
    "users_stress[\"date\"] = pd.to_datetime(pd.to_datetime(users_stress[\"date\"]).dt.date)\n",
    "\n",
    "# merge\n",
    "df = df.merge(users_stress, how='outer', on=['id', 'date'])\n",
    "\n",
    "# drop duplicates\n",
    "df = df.groupby([\"id\", \"date\"]).first()\n",
    "df"
   ],
   "metadata": {
    "collapsed": false,
    "pycharm": {
     "name": "#%%\n"
    }
   }
  },
  {
   "cell_type": "markdown",
   "source": [
    "Wrist Temperature"
   ],
   "metadata": {
    "collapsed": false,
    "pycharm": {
     "name": "#%% md\n"
    }
   }
  },
  {
   "cell_type": "code",
   "execution_count": 25,
   "outputs": [
    {
     "name": "stdout",
     "output_type": "stream",
     "text": [
      "Reading from pickle...\n"
     ]
    },
    {
     "data": {
      "text/plain": "                            id       date  nightly_temperature  nremhr  \\\n0     621e2e8e67b776a24055b564 2021-05-24            34.137687  57.432   \n1     621e2e8e67b776a24055b564 2021-05-25            33.794544  57.681   \n2     621e2e8e67b776a24055b564 2021-05-26            34.611011  57.481   \n3     621e2e8e67b776a24055b564 2021-05-27            34.408304  57.493   \n4     621e2e8e67b776a24055b564 2021-05-28            34.178922  56.750   \n...                        ...        ...                  ...     ...   \n3530  621e375b67b776a240290cdc 2021-07-31                  NaN     NaN   \n3531  621e314867b776a24029ebf9 2021-05-24                  NaN     NaN   \n3532  621e335a67b776a240bb12ff 2021-05-24                  NaN     NaN   \n3533  621e341067b776a24037b105 2021-05-24                  NaN     NaN   \n3534  621e367e67b776a24087d75d 2021-05-24                  NaN     NaN   \n\n        rmssd  spo2  full_sleep_breathing_rate  stress_score  \\\n0      89.603   NaN                       14.8          78.0   \n1      94.303   NaN                       15.8          80.0   \n2     119.212   NaN                       14.6          84.0   \n3     111.709   NaN                       14.8          82.0   \n4     103.034   NaN                       15.2          81.0   \n...       ...   ...                        ...           ...   \n3530      NaN   NaN                        NaN           0.0   \n3531      NaN   NaN                        NaN           NaN   \n3532      NaN   NaN                        NaN           NaN   \n3533      NaN   NaN                        NaN           NaN   \n3534      NaN   NaN                        NaN           NaN   \n\n      sleep_points_percentage  exertion_points_percentage  \\\n0                    0.833333                       0.675   \n1                    0.833333                       0.725   \n2                    0.966667                       0.725   \n3                    0.933333                       0.725   \n4                    0.866667                       0.725   \n...                       ...                         ...   \n3530                 0.000000                       0.000   \n3531                      NaN                         NaN   \n3532                      NaN                         NaN   \n3533                      NaN                         NaN   \n3534                      NaN                         NaN   \n\n      responsiveness_points_percentage  daily_temperature_variation  \n0                             0.866667                    -1.788325  \n1                             0.866667                    -2.462709  \n2                             0.866667                    -2.385801  \n3                             0.833333                    -2.124199  \n4                             0.866667                    -2.396873  \n...                                ...                          ...  \n3530                          0.000000                          NaN  \n3531                               NaN                    -3.102195  \n3532                               NaN                    -2.667528  \n3533                               NaN                     0.031670  \n3534                               NaN                     0.031670  \n\n[3535 rows x 12 columns]",
      "text/html": "<div>\n<style scoped>\n    .dataframe tbody tr th:only-of-type {\n        vertical-align: middle;\n    }\n\n    .dataframe tbody tr th {\n        vertical-align: top;\n    }\n\n    .dataframe thead th {\n        text-align: right;\n    }\n</style>\n<table border=\"1\" class=\"dataframe\">\n  <thead>\n    <tr style=\"text-align: right;\">\n      <th></th>\n      <th>id</th>\n      <th>date</th>\n      <th>nightly_temperature</th>\n      <th>nremhr</th>\n      <th>rmssd</th>\n      <th>spo2</th>\n      <th>full_sleep_breathing_rate</th>\n      <th>stress_score</th>\n      <th>sleep_points_percentage</th>\n      <th>exertion_points_percentage</th>\n      <th>responsiveness_points_percentage</th>\n      <th>daily_temperature_variation</th>\n    </tr>\n  </thead>\n  <tbody>\n    <tr>\n      <th>0</th>\n      <td>621e2e8e67b776a24055b564</td>\n      <td>2021-05-24</td>\n      <td>34.137687</td>\n      <td>57.432</td>\n      <td>89.603</td>\n      <td>NaN</td>\n      <td>14.8</td>\n      <td>78.0</td>\n      <td>0.833333</td>\n      <td>0.675</td>\n      <td>0.866667</td>\n      <td>-1.788325</td>\n    </tr>\n    <tr>\n      <th>1</th>\n      <td>621e2e8e67b776a24055b564</td>\n      <td>2021-05-25</td>\n      <td>33.794544</td>\n      <td>57.681</td>\n      <td>94.303</td>\n      <td>NaN</td>\n      <td>15.8</td>\n      <td>80.0</td>\n      <td>0.833333</td>\n      <td>0.725</td>\n      <td>0.866667</td>\n      <td>-2.462709</td>\n    </tr>\n    <tr>\n      <th>2</th>\n      <td>621e2e8e67b776a24055b564</td>\n      <td>2021-05-26</td>\n      <td>34.611011</td>\n      <td>57.481</td>\n      <td>119.212</td>\n      <td>NaN</td>\n      <td>14.6</td>\n      <td>84.0</td>\n      <td>0.966667</td>\n      <td>0.725</td>\n      <td>0.866667</td>\n      <td>-2.385801</td>\n    </tr>\n    <tr>\n      <th>3</th>\n      <td>621e2e8e67b776a24055b564</td>\n      <td>2021-05-27</td>\n      <td>34.408304</td>\n      <td>57.493</td>\n      <td>111.709</td>\n      <td>NaN</td>\n      <td>14.8</td>\n      <td>82.0</td>\n      <td>0.933333</td>\n      <td>0.725</td>\n      <td>0.833333</td>\n      <td>-2.124199</td>\n    </tr>\n    <tr>\n      <th>4</th>\n      <td>621e2e8e67b776a24055b564</td>\n      <td>2021-05-28</td>\n      <td>34.178922</td>\n      <td>56.750</td>\n      <td>103.034</td>\n      <td>NaN</td>\n      <td>15.2</td>\n      <td>81.0</td>\n      <td>0.866667</td>\n      <td>0.725</td>\n      <td>0.866667</td>\n      <td>-2.396873</td>\n    </tr>\n    <tr>\n      <th>...</th>\n      <td>...</td>\n      <td>...</td>\n      <td>...</td>\n      <td>...</td>\n      <td>...</td>\n      <td>...</td>\n      <td>...</td>\n      <td>...</td>\n      <td>...</td>\n      <td>...</td>\n      <td>...</td>\n      <td>...</td>\n    </tr>\n    <tr>\n      <th>3530</th>\n      <td>621e375b67b776a240290cdc</td>\n      <td>2021-07-31</td>\n      <td>NaN</td>\n      <td>NaN</td>\n      <td>NaN</td>\n      <td>NaN</td>\n      <td>NaN</td>\n      <td>0.0</td>\n      <td>0.000000</td>\n      <td>0.000</td>\n      <td>0.000000</td>\n      <td>NaN</td>\n    </tr>\n    <tr>\n      <th>3531</th>\n      <td>621e314867b776a24029ebf9</td>\n      <td>2021-05-24</td>\n      <td>NaN</td>\n      <td>NaN</td>\n      <td>NaN</td>\n      <td>NaN</td>\n      <td>NaN</td>\n      <td>NaN</td>\n      <td>NaN</td>\n      <td>NaN</td>\n      <td>NaN</td>\n      <td>-3.102195</td>\n    </tr>\n    <tr>\n      <th>3532</th>\n      <td>621e335a67b776a240bb12ff</td>\n      <td>2021-05-24</td>\n      <td>NaN</td>\n      <td>NaN</td>\n      <td>NaN</td>\n      <td>NaN</td>\n      <td>NaN</td>\n      <td>NaN</td>\n      <td>NaN</td>\n      <td>NaN</td>\n      <td>NaN</td>\n      <td>-2.667528</td>\n    </tr>\n    <tr>\n      <th>3533</th>\n      <td>621e341067b776a24037b105</td>\n      <td>2021-05-24</td>\n      <td>NaN</td>\n      <td>NaN</td>\n      <td>NaN</td>\n      <td>NaN</td>\n      <td>NaN</td>\n      <td>NaN</td>\n      <td>NaN</td>\n      <td>NaN</td>\n      <td>NaN</td>\n      <td>0.031670</td>\n    </tr>\n    <tr>\n      <th>3534</th>\n      <td>621e367e67b776a24087d75d</td>\n      <td>2021-05-24</td>\n      <td>NaN</td>\n      <td>NaN</td>\n      <td>NaN</td>\n      <td>NaN</td>\n      <td>NaN</td>\n      <td>NaN</td>\n      <td>NaN</td>\n      <td>NaN</td>\n      <td>NaN</td>\n      <td>0.031670</td>\n    </tr>\n  </tbody>\n</table>\n<p>3535 rows × 12 columns</p>\n</div>"
     },
     "execution_count": 25,
     "metadata": {},
     "output_type": "execute_result"
    }
   ],
   "source": [
    "if os.path.exists('data/users_temperature.pkl'):\n",
    "    print(\"Reading from pickle...\")\n",
    "    users_wrist_temperature = pd.read_pickle(\"data/users_temperature.pkl\")\n",
    "else:\n",
    "    users_wrist_temperature = pd.DataFrame(columns=[\"id\", \"data\"])\n",
    "    for user in users:\n",
    "        user_data = pd.DataFrame(list(\n",
    "            db.fitbit.find({\"$and\": [\n",
    "                {\"type\": \"Wrist Temperature\"},\n",
    "                {\"id\": user}\n",
    "            ]},\n",
    "                {\"id\": 1, \"data.recorded_time\": 1, \"data.temperature\": 1, \"_id\": 0}\n",
    "            )\n",
    "        ))\n",
    "\n",
    "        users_wrist_temperature = pd.concat([users_wrist_temperature, user_data], axis=0)\n",
    "\n",
    "    # split data column (json format) into two columns\n",
    "    users_wrist_temperature[\"date\"] = users_wrist_temperature[\"data\"].apply(lambda d: d[\"recorded_time\"])\n",
    "    users_wrist_temperature[\"daily_temperature_variation\"] = users_wrist_temperature[\"data\"].apply(lambda d: d[\"temperature\"])\n",
    "    users_wrist_temperature.drop([\"data\"], inplace=True, axis=1)\n",
    "\n",
    "    # convert timestamp date object and then to datetime64[ns]\n",
    "    users_wrist_temperature[\"date\"] = pd.to_datetime(pd.to_datetime(users_wrist_temperature[\"date\"]).dt.date, infer_datetime_format=True)\n",
    "\n",
    "users_wrist_temperature.to_pickle(\"data/users_temperature.pkl\")\n",
    "\n",
    "# group by date and then take the average\n",
    "users_wrist_temperature = users_wrist_temperature.groupby(['id', 'date']).mean()\n",
    "users_wrist_temperature.reset_index(drop=False, inplace=True)\n",
    "\n",
    "# merge\n",
    "df = df.merge(users_wrist_temperature, how='outer', on=['id', 'date'])\n",
    "df"
   ],
   "metadata": {
    "collapsed": false,
    "pycharm": {
     "name": "#%%\n"
    }
   }
  },
  {
   "cell_type": "markdown",
   "source": [
    "Badge"
   ],
   "metadata": {
    "collapsed": false,
    "pycharm": {
     "name": "#%% md\n"
    }
   }
  },
  {
   "cell_type": "code",
   "execution_count": 26,
   "outputs": [
    {
     "data": {
      "text/plain": "                            id       date  nightly_temperature  nremhr  \\\n0     621e2e8e67b776a24055b564 2021-05-24            34.137687  57.432   \n1     621e2e8e67b776a24055b564 2021-05-25            33.794544  57.681   \n2     621e2e8e67b776a24055b564 2021-05-26            34.611011  57.481   \n3     621e2e8e67b776a24055b564 2021-05-27            34.408304  57.493   \n4     621e2e8e67b776a24055b564 2021-05-28            34.178922  56.750   \n...                        ...        ...                  ...     ...   \n3673  621e375367b776a24021e950 2022-01-13                  NaN     NaN   \n3674  621e375367b776a24021e950 2022-01-18                  NaN     NaN   \n3675  621e375367b776a24021e950 2022-01-19                  NaN     NaN   \n3676  621e375367b776a24021e950 2022-01-20                  NaN     NaN   \n3677  621e375b67b776a240290cdc 2021-08-01                  NaN     NaN   \n\n        rmssd  spo2  full_sleep_breathing_rate  stress_score  \\\n0      89.603   NaN                       14.8          78.0   \n1      94.303   NaN                       15.8          80.0   \n2     119.212   NaN                       14.6          84.0   \n3     111.709   NaN                       14.8          82.0   \n4     103.034   NaN                       15.2          81.0   \n...       ...   ...                        ...           ...   \n3673      NaN   NaN                        NaN           NaN   \n3674      NaN   NaN                        NaN           NaN   \n3675      NaN   NaN                        NaN           NaN   \n3676      NaN   NaN                        NaN           NaN   \n3677      NaN   NaN                        NaN           NaN   \n\n      sleep_points_percentage  exertion_points_percentage  \\\n0                    0.833333                       0.675   \n1                    0.833333                       0.725   \n2                    0.966667                       0.725   \n3                    0.933333                       0.725   \n4                    0.866667                       0.725   \n...                       ...                         ...   \n3673                      NaN                         NaN   \n3674                      NaN                         NaN   \n3675                      NaN                         NaN   \n3676                      NaN                         NaN   \n3677                      NaN                         NaN   \n\n      responsiveness_points_percentage  daily_temperature_variation  \\\n0                             0.866667                    -1.788325   \n1                             0.866667                    -2.462709   \n2                             0.866667                    -2.385801   \n3                             0.833333                    -2.124199   \n4                             0.866667                    -2.396873   \n...                                ...                          ...   \n3673                               NaN                          NaN   \n3674                               NaN                          NaN   \n3675                               NaN                          NaN   \n3676                               NaN                          NaN   \n3677                               NaN                          NaN   \n\n                        badgeType  \n0                             NaN  \n1                             NaN  \n2                             NaN  \n3             [LIFETIME_DISTANCE]  \n4                             NaN  \n...                           ...  \n3673                [DAILY_STEPS]  \n3674            [LIFETIME_FLOORS]  \n3675               [DAILY_FLOORS]  \n3676               [DAILY_FLOORS]  \n3677  [DAILY_FLOORS, DAILY_STEPS]  \n\n[3678 rows x 13 columns]",
      "text/html": "<div>\n<style scoped>\n    .dataframe tbody tr th:only-of-type {\n        vertical-align: middle;\n    }\n\n    .dataframe tbody tr th {\n        vertical-align: top;\n    }\n\n    .dataframe thead th {\n        text-align: right;\n    }\n</style>\n<table border=\"1\" class=\"dataframe\">\n  <thead>\n    <tr style=\"text-align: right;\">\n      <th></th>\n      <th>id</th>\n      <th>date</th>\n      <th>nightly_temperature</th>\n      <th>nremhr</th>\n      <th>rmssd</th>\n      <th>spo2</th>\n      <th>full_sleep_breathing_rate</th>\n      <th>stress_score</th>\n      <th>sleep_points_percentage</th>\n      <th>exertion_points_percentage</th>\n      <th>responsiveness_points_percentage</th>\n      <th>daily_temperature_variation</th>\n      <th>badgeType</th>\n    </tr>\n  </thead>\n  <tbody>\n    <tr>\n      <th>0</th>\n      <td>621e2e8e67b776a24055b564</td>\n      <td>2021-05-24</td>\n      <td>34.137687</td>\n      <td>57.432</td>\n      <td>89.603</td>\n      <td>NaN</td>\n      <td>14.8</td>\n      <td>78.0</td>\n      <td>0.833333</td>\n      <td>0.675</td>\n      <td>0.866667</td>\n      <td>-1.788325</td>\n      <td>NaN</td>\n    </tr>\n    <tr>\n      <th>1</th>\n      <td>621e2e8e67b776a24055b564</td>\n      <td>2021-05-25</td>\n      <td>33.794544</td>\n      <td>57.681</td>\n      <td>94.303</td>\n      <td>NaN</td>\n      <td>15.8</td>\n      <td>80.0</td>\n      <td>0.833333</td>\n      <td>0.725</td>\n      <td>0.866667</td>\n      <td>-2.462709</td>\n      <td>NaN</td>\n    </tr>\n    <tr>\n      <th>2</th>\n      <td>621e2e8e67b776a24055b564</td>\n      <td>2021-05-26</td>\n      <td>34.611011</td>\n      <td>57.481</td>\n      <td>119.212</td>\n      <td>NaN</td>\n      <td>14.6</td>\n      <td>84.0</td>\n      <td>0.966667</td>\n      <td>0.725</td>\n      <td>0.866667</td>\n      <td>-2.385801</td>\n      <td>NaN</td>\n    </tr>\n    <tr>\n      <th>3</th>\n      <td>621e2e8e67b776a24055b564</td>\n      <td>2021-05-27</td>\n      <td>34.408304</td>\n      <td>57.493</td>\n      <td>111.709</td>\n      <td>NaN</td>\n      <td>14.8</td>\n      <td>82.0</td>\n      <td>0.933333</td>\n      <td>0.725</td>\n      <td>0.833333</td>\n      <td>-2.124199</td>\n      <td>[LIFETIME_DISTANCE]</td>\n    </tr>\n    <tr>\n      <th>4</th>\n      <td>621e2e8e67b776a24055b564</td>\n      <td>2021-05-28</td>\n      <td>34.178922</td>\n      <td>56.750</td>\n      <td>103.034</td>\n      <td>NaN</td>\n      <td>15.2</td>\n      <td>81.0</td>\n      <td>0.866667</td>\n      <td>0.725</td>\n      <td>0.866667</td>\n      <td>-2.396873</td>\n      <td>NaN</td>\n    </tr>\n    <tr>\n      <th>...</th>\n      <td>...</td>\n      <td>...</td>\n      <td>...</td>\n      <td>...</td>\n      <td>...</td>\n      <td>...</td>\n      <td>...</td>\n      <td>...</td>\n      <td>...</td>\n      <td>...</td>\n      <td>...</td>\n      <td>...</td>\n      <td>...</td>\n    </tr>\n    <tr>\n      <th>3673</th>\n      <td>621e375367b776a24021e950</td>\n      <td>2022-01-13</td>\n      <td>NaN</td>\n      <td>NaN</td>\n      <td>NaN</td>\n      <td>NaN</td>\n      <td>NaN</td>\n      <td>NaN</td>\n      <td>NaN</td>\n      <td>NaN</td>\n      <td>NaN</td>\n      <td>NaN</td>\n      <td>[DAILY_STEPS]</td>\n    </tr>\n    <tr>\n      <th>3674</th>\n      <td>621e375367b776a24021e950</td>\n      <td>2022-01-18</td>\n      <td>NaN</td>\n      <td>NaN</td>\n      <td>NaN</td>\n      <td>NaN</td>\n      <td>NaN</td>\n      <td>NaN</td>\n      <td>NaN</td>\n      <td>NaN</td>\n      <td>NaN</td>\n      <td>NaN</td>\n      <td>[LIFETIME_FLOORS]</td>\n    </tr>\n    <tr>\n      <th>3675</th>\n      <td>621e375367b776a24021e950</td>\n      <td>2022-01-19</td>\n      <td>NaN</td>\n      <td>NaN</td>\n      <td>NaN</td>\n      <td>NaN</td>\n      <td>NaN</td>\n      <td>NaN</td>\n      <td>NaN</td>\n      <td>NaN</td>\n      <td>NaN</td>\n      <td>NaN</td>\n      <td>[DAILY_FLOORS]</td>\n    </tr>\n    <tr>\n      <th>3676</th>\n      <td>621e375367b776a24021e950</td>\n      <td>2022-01-20</td>\n      <td>NaN</td>\n      <td>NaN</td>\n      <td>NaN</td>\n      <td>NaN</td>\n      <td>NaN</td>\n      <td>NaN</td>\n      <td>NaN</td>\n      <td>NaN</td>\n      <td>NaN</td>\n      <td>NaN</td>\n      <td>[DAILY_FLOORS]</td>\n    </tr>\n    <tr>\n      <th>3677</th>\n      <td>621e375b67b776a240290cdc</td>\n      <td>2021-08-01</td>\n      <td>NaN</td>\n      <td>NaN</td>\n      <td>NaN</td>\n      <td>NaN</td>\n      <td>NaN</td>\n      <td>NaN</td>\n      <td>NaN</td>\n      <td>NaN</td>\n      <td>NaN</td>\n      <td>NaN</td>\n      <td>[DAILY_FLOORS, DAILY_STEPS]</td>\n    </tr>\n  </tbody>\n</table>\n<p>3678 rows × 13 columns</p>\n</div>"
     },
     "execution_count": 26,
     "metadata": {},
     "output_type": "execute_result"
    }
   ],
   "source": [
    "users_badges = pd.DataFrame(columns=[\"id\", \"data\"])\n",
    "for user in users:\n",
    "    user_data = pd.DataFrame(list(\n",
    "        db.fitbit.find({\"$and\": [\n",
    "            {\"type\": \"badge\"},\n",
    "            {\"id\": user}\n",
    "        ]},\n",
    "            {\"id\": 1, \"data.dateTime\": 1, \"data.badgeType\": 1, \"_id\": 0}\n",
    "        )\n",
    "    ))\n",
    "\n",
    "    users_badges = pd.concat([users_badges, user_data], axis=0)\n",
    "\n",
    "# split data column (json format) into two columns\n",
    "users_badges[\"date\"] = users_badges[\"data\"].apply(lambda d: d[\"dateTime\"])\n",
    "users_badges[\"badgeType\"] = users_badges[\"data\"].apply(lambda d: d[\"badgeType\"])\n",
    "users_badges.drop([\"data\"], inplace=True, axis=1)\n",
    "\n",
    "# convert timestamp date object and then to datetime64[ns]\n",
    "users_badges[\"date\"] = pd.to_datetime(pd.to_datetime(users_badges[\"date\"]).dt.date)\n",
    "\n",
    "# group by ID and date to have only unique dates per participant\n",
    "users_badges = users_badges.groupby(['id', 'date']).badgeType.apply(list).reset_index(drop=False)\n",
    "users_badges.badgeType = users_badges.badgeType.apply(lambda l: list(set(l)) if isinstance(l, list) else l)\n",
    "users_badges.badgeType = users_badges.badgeType.apply(lambda l: np.NaN if l == [np.nan] else l)\n",
    "users_badges.badgeType.value_counts()\n",
    "\n",
    "# merge\n",
    "df = df.merge(users_badges, how='outer', on=['id', 'date'])\n",
    "df"
   ],
   "metadata": {
    "collapsed": false,
    "pycharm": {
     "name": "#%%\n"
    }
   }
  },
  {
   "cell_type": "markdown",
   "source": [
    "Calories"
   ],
   "metadata": {
    "collapsed": false,
    "pycharm": {
     "name": "#%% md\n"
    }
   }
  },
  {
   "cell_type": "code",
   "execution_count": 27,
   "outputs": [
    {
     "name": "stderr",
     "output_type": "stream",
     "text": [
      "100%|██████████| 71/71 [01:57<00:00,  1.65s/it]\n"
     ]
    },
    {
     "name": "stdout",
     "output_type": "stream",
     "text": [
      "Column Split...\n",
      "Column Split Completed\n",
      "Date Conversion...\n",
      "Date Conversion Completed\n"
     ]
    },
    {
     "data": {
      "text/plain": "                            id       date  nightly_temperature  nremhr  \\\n0     621e2e8e67b776a24055b564 2021-05-24            34.137687  57.432   \n1     621e2e8e67b776a24055b564 2021-05-25            33.794544  57.681   \n2     621e2e8e67b776a24055b564 2021-05-26            34.611011  57.481   \n3     621e2e8e67b776a24055b564 2021-05-27            34.408304  57.493   \n4     621e2e8e67b776a24055b564 2021-05-28            34.178922  56.750   \n...                        ...        ...                  ...     ...   \n6666  621e375b67b776a240290cdc 2021-08-13                  NaN     NaN   \n6667  621e375b67b776a240290cdc 2021-08-14                  NaN     NaN   \n6668  621e375b67b776a240290cdc 2021-08-15                  NaN     NaN   \n6669  621e375b67b776a240290cdc 2021-08-16                  NaN     NaN   \n6670  621e375b67b776a240290cdc 2021-08-17                  NaN     NaN   \n\n        rmssd  spo2  full_sleep_breathing_rate  stress_score  \\\n0      89.603   NaN                       14.8          78.0   \n1      94.303   NaN                       15.8          80.0   \n2     119.212   NaN                       14.6          84.0   \n3     111.709   NaN                       14.8          82.0   \n4     103.034   NaN                       15.2          81.0   \n...       ...   ...                        ...           ...   \n6666      NaN   NaN                        NaN           NaN   \n6667      NaN   NaN                        NaN           NaN   \n6668      NaN   NaN                        NaN           NaN   \n6669      NaN   NaN                        NaN           NaN   \n6670      NaN   NaN                        NaN           NaN   \n\n      sleep_points_percentage  exertion_points_percentage  \\\n0                    0.833333                       0.675   \n1                    0.833333                       0.725   \n2                    0.966667                       0.725   \n3                    0.933333                       0.725   \n4                    0.866667                       0.725   \n...                       ...                         ...   \n6666                      NaN                         NaN   \n6667                      NaN                         NaN   \n6668                      NaN                         NaN   \n6669                      NaN                         NaN   \n6670                      NaN                         NaN   \n\n      responsiveness_points_percentage  daily_temperature_variation  \\\n0                             0.866667                    -1.788325   \n1                             0.866667                    -2.462709   \n2                             0.866667                    -2.385801   \n3                             0.833333                    -2.124199   \n4                             0.866667                    -2.396873   \n...                                ...                          ...   \n6666                               NaN                          NaN   \n6667                               NaN                          NaN   \n6668                               NaN                          NaN   \n6669                               NaN                          NaN   \n6670                               NaN                          NaN   \n\n                badgeType  calories  \n0                     NaN   2351.59  \n1                     NaN   2332.08  \n2                     NaN   2262.30  \n3     [LIFETIME_DISTANCE]   2325.10  \n4                     NaN   2586.76  \n...                   ...       ...  \n6666                  NaN   1296.00  \n6667                  NaN   1296.00  \n6668                  NaN   1296.00  \n6669                  NaN   1296.00  \n6670                  NaN    635.40  \n\n[6671 rows x 14 columns]",
      "text/html": "<div>\n<style scoped>\n    .dataframe tbody tr th:only-of-type {\n        vertical-align: middle;\n    }\n\n    .dataframe tbody tr th {\n        vertical-align: top;\n    }\n\n    .dataframe thead th {\n        text-align: right;\n    }\n</style>\n<table border=\"1\" class=\"dataframe\">\n  <thead>\n    <tr style=\"text-align: right;\">\n      <th></th>\n      <th>id</th>\n      <th>date</th>\n      <th>nightly_temperature</th>\n      <th>nremhr</th>\n      <th>rmssd</th>\n      <th>spo2</th>\n      <th>full_sleep_breathing_rate</th>\n      <th>stress_score</th>\n      <th>sleep_points_percentage</th>\n      <th>exertion_points_percentage</th>\n      <th>responsiveness_points_percentage</th>\n      <th>daily_temperature_variation</th>\n      <th>badgeType</th>\n      <th>calories</th>\n    </tr>\n  </thead>\n  <tbody>\n    <tr>\n      <th>0</th>\n      <td>621e2e8e67b776a24055b564</td>\n      <td>2021-05-24</td>\n      <td>34.137687</td>\n      <td>57.432</td>\n      <td>89.603</td>\n      <td>NaN</td>\n      <td>14.8</td>\n      <td>78.0</td>\n      <td>0.833333</td>\n      <td>0.675</td>\n      <td>0.866667</td>\n      <td>-1.788325</td>\n      <td>NaN</td>\n      <td>2351.59</td>\n    </tr>\n    <tr>\n      <th>1</th>\n      <td>621e2e8e67b776a24055b564</td>\n      <td>2021-05-25</td>\n      <td>33.794544</td>\n      <td>57.681</td>\n      <td>94.303</td>\n      <td>NaN</td>\n      <td>15.8</td>\n      <td>80.0</td>\n      <td>0.833333</td>\n      <td>0.725</td>\n      <td>0.866667</td>\n      <td>-2.462709</td>\n      <td>NaN</td>\n      <td>2332.08</td>\n    </tr>\n    <tr>\n      <th>2</th>\n      <td>621e2e8e67b776a24055b564</td>\n      <td>2021-05-26</td>\n      <td>34.611011</td>\n      <td>57.481</td>\n      <td>119.212</td>\n      <td>NaN</td>\n      <td>14.6</td>\n      <td>84.0</td>\n      <td>0.966667</td>\n      <td>0.725</td>\n      <td>0.866667</td>\n      <td>-2.385801</td>\n      <td>NaN</td>\n      <td>2262.30</td>\n    </tr>\n    <tr>\n      <th>3</th>\n      <td>621e2e8e67b776a24055b564</td>\n      <td>2021-05-27</td>\n      <td>34.408304</td>\n      <td>57.493</td>\n      <td>111.709</td>\n      <td>NaN</td>\n      <td>14.8</td>\n      <td>82.0</td>\n      <td>0.933333</td>\n      <td>0.725</td>\n      <td>0.833333</td>\n      <td>-2.124199</td>\n      <td>[LIFETIME_DISTANCE]</td>\n      <td>2325.10</td>\n    </tr>\n    <tr>\n      <th>4</th>\n      <td>621e2e8e67b776a24055b564</td>\n      <td>2021-05-28</td>\n      <td>34.178922</td>\n      <td>56.750</td>\n      <td>103.034</td>\n      <td>NaN</td>\n      <td>15.2</td>\n      <td>81.0</td>\n      <td>0.866667</td>\n      <td>0.725</td>\n      <td>0.866667</td>\n      <td>-2.396873</td>\n      <td>NaN</td>\n      <td>2586.76</td>\n    </tr>\n    <tr>\n      <th>...</th>\n      <td>...</td>\n      <td>...</td>\n      <td>...</td>\n      <td>...</td>\n      <td>...</td>\n      <td>...</td>\n      <td>...</td>\n      <td>...</td>\n      <td>...</td>\n      <td>...</td>\n      <td>...</td>\n      <td>...</td>\n      <td>...</td>\n      <td>...</td>\n    </tr>\n    <tr>\n      <th>6666</th>\n      <td>621e375b67b776a240290cdc</td>\n      <td>2021-08-13</td>\n      <td>NaN</td>\n      <td>NaN</td>\n      <td>NaN</td>\n      <td>NaN</td>\n      <td>NaN</td>\n      <td>NaN</td>\n      <td>NaN</td>\n      <td>NaN</td>\n      <td>NaN</td>\n      <td>NaN</td>\n      <td>NaN</td>\n      <td>1296.00</td>\n    </tr>\n    <tr>\n      <th>6667</th>\n      <td>621e375b67b776a240290cdc</td>\n      <td>2021-08-14</td>\n      <td>NaN</td>\n      <td>NaN</td>\n      <td>NaN</td>\n      <td>NaN</td>\n      <td>NaN</td>\n      <td>NaN</td>\n      <td>NaN</td>\n      <td>NaN</td>\n      <td>NaN</td>\n      <td>NaN</td>\n      <td>NaN</td>\n      <td>1296.00</td>\n    </tr>\n    <tr>\n      <th>6668</th>\n      <td>621e375b67b776a240290cdc</td>\n      <td>2021-08-15</td>\n      <td>NaN</td>\n      <td>NaN</td>\n      <td>NaN</td>\n      <td>NaN</td>\n      <td>NaN</td>\n      <td>NaN</td>\n      <td>NaN</td>\n      <td>NaN</td>\n      <td>NaN</td>\n      <td>NaN</td>\n      <td>NaN</td>\n      <td>1296.00</td>\n    </tr>\n    <tr>\n      <th>6669</th>\n      <td>621e375b67b776a240290cdc</td>\n      <td>2021-08-16</td>\n      <td>NaN</td>\n      <td>NaN</td>\n      <td>NaN</td>\n      <td>NaN</td>\n      <td>NaN</td>\n      <td>NaN</td>\n      <td>NaN</td>\n      <td>NaN</td>\n      <td>NaN</td>\n      <td>NaN</td>\n      <td>NaN</td>\n      <td>1296.00</td>\n    </tr>\n    <tr>\n      <th>6670</th>\n      <td>621e375b67b776a240290cdc</td>\n      <td>2021-08-17</td>\n      <td>NaN</td>\n      <td>NaN</td>\n      <td>NaN</td>\n      <td>NaN</td>\n      <td>NaN</td>\n      <td>NaN</td>\n      <td>NaN</td>\n      <td>NaN</td>\n      <td>NaN</td>\n      <td>NaN</td>\n      <td>NaN</td>\n      <td>635.40</td>\n    </tr>\n  </tbody>\n</table>\n<p>6671 rows × 14 columns</p>\n</div>"
     },
     "execution_count": 27,
     "metadata": {},
     "output_type": "execute_result"
    }
   ],
   "source": [
    "if os.path.exists('data/users_calories.pkl'):\n",
    "    print(\"Reading from pickle...\")\n",
    "    f = open(\"data/users_calories.pkl\", \"rb\")\n",
    "    # disable garbage collector\n",
    "    gc.disable()\n",
    "    # read pickle\n",
    "    users_calories = pickle.load(f)\n",
    "    # enable garbage collector again\n",
    "    gc.enable()\n",
    "    f.close()\n",
    "else:\n",
    "    users_calories = pd.DataFrame(columns=[\"id\", \"data\"])\n",
    "    for user in tqdm(users):\n",
    "        user_data = pd.DataFrame(list(\n",
    "            db.fitbit.find({\"$and\": [\n",
    "                {\"type\": \"calories\"},\n",
    "                {\"id\": user}\n",
    "            ]},\n",
    "                {\"id\": 1, \"data.dateTime\": 1, \"data.value\": 1, \"_id\": 0}\n",
    "            )\n",
    "        ))\n",
    "\n",
    "        users_calories = pd.concat([users_calories, user_data], axis=0)\n",
    "\n",
    "    print(\"Column Split...\")\n",
    "    # split data column (json format) into two columns\n",
    "    users_calories.reset_index(drop=True, inplace=True)\n",
    "    users_calories[\"date\"] = users_calories[\"data\"].apply(lambda d: d[\"dateTime\"])\n",
    "    users_calories[\"calories\"] = users_calories[\"data\"].apply(lambda d: d[\"value\"])\n",
    "    users_calories.drop([\"data\"], inplace=True, axis=1)\n",
    "    print(\"Column Split Completed\")\n",
    "    print(\"Date Conversion...\")\n",
    "    # convert timestamp date object and then to datetime64[ns]\n",
    "    users_calories[\"date\"] = pd.to_datetime(users_calories[\"date\"], format=\"%m/%d/%y %H:%M:%S\").dt.date\n",
    "    users_calories[\"date\"] = pd.to_datetime(users_calories[\"date\"], format=\"%Y/%m/%d\")\n",
    "    print(\"Date Conversion Completed\")\n",
    "    users_calories.to_pickle('data/users_calories.pkl')\n",
    "\n",
    "# group by date and then take the average\n",
    "users_calories.calories = users_calories.calories.astype(float)\n",
    "users_calories = users_calories.groupby(['id', 'date']).sum()\n",
    "users_calories.reset_index(drop=False, inplace=True)\n",
    "\n",
    "# merge\n",
    "df = df.merge(users_calories, how='outer', on=['id', 'date'])\n",
    "df"
   ],
   "metadata": {
    "collapsed": false,
    "pycharm": {
     "name": "#%%\n"
    }
   }
  },
  {
   "cell_type": "markdown",
   "source": [
    "VO2 Max"
   ],
   "metadata": {
    "collapsed": false,
    "pycharm": {
     "name": "#%% md\n"
    }
   }
  },
  {
   "cell_type": "code",
   "execution_count": 28,
   "outputs": [
    {
     "data": {
      "text/plain": "                                     nightly_temperature  nremhr    rmssd  \\\nid                       date                                               \n621e2e8e67b776a24055b564 2021-05-24            34.137687  57.432   89.603   \n                         2021-05-25            33.794544  57.681   94.303   \n                         2021-05-26            34.611011  57.481  119.212   \n                         2021-05-27            34.408304  57.493  111.709   \n                         2021-05-28            34.178922  56.750  103.034   \n...                                                  ...     ...      ...   \n621e375b67b776a240290cdc 2021-08-13                  NaN     NaN      NaN   \n                         2021-08-14                  NaN     NaN      NaN   \n                         2021-08-15                  NaN     NaN      NaN   \n                         2021-08-16                  NaN     NaN      NaN   \n                         2021-08-17                  NaN     NaN      NaN   \n\n                                     spo2  full_sleep_breathing_rate  \\\nid                       date                                          \n621e2e8e67b776a24055b564 2021-05-24   NaN                       14.8   \n                         2021-05-25   NaN                       15.8   \n                         2021-05-26   NaN                       14.6   \n                         2021-05-27   NaN                       14.8   \n                         2021-05-28   NaN                       15.2   \n...                                   ...                        ...   \n621e375b67b776a240290cdc 2021-08-13   NaN                        NaN   \n                         2021-08-14   NaN                        NaN   \n                         2021-08-15   NaN                        NaN   \n                         2021-08-16   NaN                        NaN   \n                         2021-08-17   NaN                        NaN   \n\n                                     stress_score  sleep_points_percentage  \\\nid                       date                                                \n621e2e8e67b776a24055b564 2021-05-24          78.0                 0.833333   \n                         2021-05-25          80.0                 0.833333   \n                         2021-05-26          84.0                 0.966667   \n                         2021-05-27          82.0                 0.933333   \n                         2021-05-28          81.0                 0.866667   \n...                                           ...                      ...   \n621e375b67b776a240290cdc 2021-08-13           NaN                      NaN   \n                         2021-08-14           NaN                      NaN   \n                         2021-08-15           NaN                      NaN   \n                         2021-08-16           NaN                      NaN   \n                         2021-08-17           NaN                      NaN   \n\n                                     exertion_points_percentage  \\\nid                       date                                     \n621e2e8e67b776a24055b564 2021-05-24                       0.675   \n                         2021-05-25                       0.725   \n                         2021-05-26                       0.725   \n                         2021-05-27                       0.725   \n                         2021-05-28                       0.725   \n...                                                         ...   \n621e375b67b776a240290cdc 2021-08-13                         NaN   \n                         2021-08-14                         NaN   \n                         2021-08-15                         NaN   \n                         2021-08-16                         NaN   \n                         2021-08-17                         NaN   \n\n                                     responsiveness_points_percentage  \\\nid                       date                                           \n621e2e8e67b776a24055b564 2021-05-24                          0.866667   \n                         2021-05-25                          0.866667   \n                         2021-05-26                          0.866667   \n                         2021-05-27                          0.833333   \n                         2021-05-28                          0.866667   \n...                                                               ...   \n621e375b67b776a240290cdc 2021-08-13                               NaN   \n                         2021-08-14                               NaN   \n                         2021-08-15                               NaN   \n                         2021-08-16                               NaN   \n                         2021-08-17                               NaN   \n\n                                     daily_temperature_variation  \\\nid                       date                                      \n621e2e8e67b776a24055b564 2021-05-24                    -1.788325   \n                         2021-05-25                    -2.462709   \n                         2021-05-26                    -2.385801   \n                         2021-05-27                    -2.124199   \n                         2021-05-28                    -2.396873   \n...                                                          ...   \n621e375b67b776a240290cdc 2021-08-13                          NaN   \n                         2021-08-14                          NaN   \n                         2021-08-15                          NaN   \n                         2021-08-16                          NaN   \n                         2021-08-17                          NaN   \n\n                                               badgeType  calories  \\\nid                       date                                        \n621e2e8e67b776a24055b564 2021-05-24                 None   2351.59   \n                         2021-05-25                 None   2332.08   \n                         2021-05-26                 None   2262.30   \n                         2021-05-27  [LIFETIME_DISTANCE]   2325.10   \n                         2021-05-28                 None   2586.76   \n...                                                  ...       ...   \n621e375b67b776a240290cdc 2021-08-13                 None   1296.00   \n                         2021-08-14                 None   1296.00   \n                         2021-08-15                 None   1296.00   \n                         2021-08-16                 None   1296.00   \n                         2021-08-17                 None    635.40   \n\n                                     filteredDemographicVO2Max  \nid                       date                                   \n621e2e8e67b776a24055b564 2021-05-24                   62.79210  \n                         2021-05-25                   62.67912  \n                         2021-05-26                   62.57307  \n                         2021-05-27                   62.47493  \n                         2021-05-28                   62.41166  \n...                                                        ...  \n621e375b67b776a240290cdc 2021-08-13                        NaN  \n                         2021-08-14                        NaN  \n                         2021-08-15                        NaN  \n                         2021-08-16                        NaN  \n                         2021-08-17                        NaN  \n\n[6671 rows x 13 columns]",
      "text/html": "<div>\n<style scoped>\n    .dataframe tbody tr th:only-of-type {\n        vertical-align: middle;\n    }\n\n    .dataframe tbody tr th {\n        vertical-align: top;\n    }\n\n    .dataframe thead th {\n        text-align: right;\n    }\n</style>\n<table border=\"1\" class=\"dataframe\">\n  <thead>\n    <tr style=\"text-align: right;\">\n      <th></th>\n      <th></th>\n      <th>nightly_temperature</th>\n      <th>nremhr</th>\n      <th>rmssd</th>\n      <th>spo2</th>\n      <th>full_sleep_breathing_rate</th>\n      <th>stress_score</th>\n      <th>sleep_points_percentage</th>\n      <th>exertion_points_percentage</th>\n      <th>responsiveness_points_percentage</th>\n      <th>daily_temperature_variation</th>\n      <th>badgeType</th>\n      <th>calories</th>\n      <th>filteredDemographicVO2Max</th>\n    </tr>\n    <tr>\n      <th>id</th>\n      <th>date</th>\n      <th></th>\n      <th></th>\n      <th></th>\n      <th></th>\n      <th></th>\n      <th></th>\n      <th></th>\n      <th></th>\n      <th></th>\n      <th></th>\n      <th></th>\n      <th></th>\n      <th></th>\n    </tr>\n  </thead>\n  <tbody>\n    <tr>\n      <th rowspan=\"5\" valign=\"top\">621e2e8e67b776a24055b564</th>\n      <th>2021-05-24</th>\n      <td>34.137687</td>\n      <td>57.432</td>\n      <td>89.603</td>\n      <td>NaN</td>\n      <td>14.8</td>\n      <td>78.0</td>\n      <td>0.833333</td>\n      <td>0.675</td>\n      <td>0.866667</td>\n      <td>-1.788325</td>\n      <td>None</td>\n      <td>2351.59</td>\n      <td>62.79210</td>\n    </tr>\n    <tr>\n      <th>2021-05-25</th>\n      <td>33.794544</td>\n      <td>57.681</td>\n      <td>94.303</td>\n      <td>NaN</td>\n      <td>15.8</td>\n      <td>80.0</td>\n      <td>0.833333</td>\n      <td>0.725</td>\n      <td>0.866667</td>\n      <td>-2.462709</td>\n      <td>None</td>\n      <td>2332.08</td>\n      <td>62.67912</td>\n    </tr>\n    <tr>\n      <th>2021-05-26</th>\n      <td>34.611011</td>\n      <td>57.481</td>\n      <td>119.212</td>\n      <td>NaN</td>\n      <td>14.6</td>\n      <td>84.0</td>\n      <td>0.966667</td>\n      <td>0.725</td>\n      <td>0.866667</td>\n      <td>-2.385801</td>\n      <td>None</td>\n      <td>2262.30</td>\n      <td>62.57307</td>\n    </tr>\n    <tr>\n      <th>2021-05-27</th>\n      <td>34.408304</td>\n      <td>57.493</td>\n      <td>111.709</td>\n      <td>NaN</td>\n      <td>14.8</td>\n      <td>82.0</td>\n      <td>0.933333</td>\n      <td>0.725</td>\n      <td>0.833333</td>\n      <td>-2.124199</td>\n      <td>[LIFETIME_DISTANCE]</td>\n      <td>2325.10</td>\n      <td>62.47493</td>\n    </tr>\n    <tr>\n      <th>2021-05-28</th>\n      <td>34.178922</td>\n      <td>56.750</td>\n      <td>103.034</td>\n      <td>NaN</td>\n      <td>15.2</td>\n      <td>81.0</td>\n      <td>0.866667</td>\n      <td>0.725</td>\n      <td>0.866667</td>\n      <td>-2.396873</td>\n      <td>None</td>\n      <td>2586.76</td>\n      <td>62.41166</td>\n    </tr>\n    <tr>\n      <th>...</th>\n      <th>...</th>\n      <td>...</td>\n      <td>...</td>\n      <td>...</td>\n      <td>...</td>\n      <td>...</td>\n      <td>...</td>\n      <td>...</td>\n      <td>...</td>\n      <td>...</td>\n      <td>...</td>\n      <td>...</td>\n      <td>...</td>\n      <td>...</td>\n    </tr>\n    <tr>\n      <th rowspan=\"5\" valign=\"top\">621e375b67b776a240290cdc</th>\n      <th>2021-08-13</th>\n      <td>NaN</td>\n      <td>NaN</td>\n      <td>NaN</td>\n      <td>NaN</td>\n      <td>NaN</td>\n      <td>NaN</td>\n      <td>NaN</td>\n      <td>NaN</td>\n      <td>NaN</td>\n      <td>NaN</td>\n      <td>None</td>\n      <td>1296.00</td>\n      <td>NaN</td>\n    </tr>\n    <tr>\n      <th>2021-08-14</th>\n      <td>NaN</td>\n      <td>NaN</td>\n      <td>NaN</td>\n      <td>NaN</td>\n      <td>NaN</td>\n      <td>NaN</td>\n      <td>NaN</td>\n      <td>NaN</td>\n      <td>NaN</td>\n      <td>NaN</td>\n      <td>None</td>\n      <td>1296.00</td>\n      <td>NaN</td>\n    </tr>\n    <tr>\n      <th>2021-08-15</th>\n      <td>NaN</td>\n      <td>NaN</td>\n      <td>NaN</td>\n      <td>NaN</td>\n      <td>NaN</td>\n      <td>NaN</td>\n      <td>NaN</td>\n      <td>NaN</td>\n      <td>NaN</td>\n      <td>NaN</td>\n      <td>None</td>\n      <td>1296.00</td>\n      <td>NaN</td>\n    </tr>\n    <tr>\n      <th>2021-08-16</th>\n      <td>NaN</td>\n      <td>NaN</td>\n      <td>NaN</td>\n      <td>NaN</td>\n      <td>NaN</td>\n      <td>NaN</td>\n      <td>NaN</td>\n      <td>NaN</td>\n      <td>NaN</td>\n      <td>NaN</td>\n      <td>None</td>\n      <td>1296.00</td>\n      <td>NaN</td>\n    </tr>\n    <tr>\n      <th>2021-08-17</th>\n      <td>NaN</td>\n      <td>NaN</td>\n      <td>NaN</td>\n      <td>NaN</td>\n      <td>NaN</td>\n      <td>NaN</td>\n      <td>NaN</td>\n      <td>NaN</td>\n      <td>NaN</td>\n      <td>NaN</td>\n      <td>None</td>\n      <td>635.40</td>\n      <td>NaN</td>\n    </tr>\n  </tbody>\n</table>\n<p>6671 rows × 13 columns</p>\n</div>"
     },
     "execution_count": 28,
     "metadata": {},
     "output_type": "execute_result"
    }
   ],
   "source": [
    "users_vo2max = pd.DataFrame(columns=[\"id\", \"data\"])\n",
    "for user in users:\n",
    "    user_data = pd.DataFrame(list(\n",
    "        db.fitbit.find({\"$and\": [\n",
    "            {\"type\": \"demographic_vo2_max\"},\n",
    "            {\"id\": user}\n",
    "        ]},\n",
    "            {\"id\": 1, \"data.dateTime\": 1, \"data.value.filteredDemographicVO2Max\": 1, \"_id\": 0}\n",
    "        )\n",
    "    ))\n",
    "\n",
    "    users_vo2max = pd.concat([users_vo2max, user_data], axis=0)\n",
    "\n",
    "# split data column (json format) into two columns\n",
    "users_vo2max[\"date\"] = users_vo2max[\"data\"].apply(lambda d: d[\"dateTime\"])\n",
    "users_vo2max[\"filteredDemographicVO2Max\"] = users_vo2max[\"data\"].apply(lambda d: d[\"value\"].get(\"filteredDemographicVO2Max\"))\n",
    "users_vo2max.drop([\"data\"], inplace=True, axis=1)\n",
    "\n",
    "# convert timestamp date object and then to datetime64[ns]\n",
    "users_vo2max[\"date\"] = pd.to_datetime(pd.to_datetime(users_vo2max[\"date\"]).dt.date)\n",
    "\n",
    "# merge\n",
    "df = df.merge(users_vo2max, how='outer', on=['id', 'date'])\n",
    "\n",
    "# drop duplicates\n",
    "df = df.groupby([\"id\", \"date\"]).first()\n",
    "df"
   ],
   "metadata": {
    "collapsed": false,
    "pycharm": {
     "name": "#%%\n"
    }
   }
  },
  {
   "cell_type": "markdown",
   "source": [
    "Distance"
   ],
   "metadata": {
    "collapsed": false,
    "pycharm": {
     "name": "#%% md\n"
    }
   }
  },
  {
   "cell_type": "code",
   "execution_count": 29,
   "outputs": [
    {
     "name": "stderr",
     "output_type": "stream",
     "text": [
      "100%|██████████| 71/71 [00:33<00:00,  2.09it/s]\n"
     ]
    },
    {
     "name": "stdout",
     "output_type": "stream",
     "text": [
      "Column Split...\n",
      "Column Split Completed\n",
      "Date Conversion...\n",
      "Date Conversion Completed\n"
     ]
    },
    {
     "data": {
      "text/plain": "                            id       date  nightly_temperature  nremhr  \\\n0     621e2e8e67b776a24055b564 2021-05-24            34.137687  57.432   \n1     621e2e8e67b776a24055b564 2021-05-25            33.794544  57.681   \n2     621e2e8e67b776a24055b564 2021-05-26            34.611011  57.481   \n3     621e2e8e67b776a24055b564 2021-05-27            34.408304  57.493   \n4     621e2e8e67b776a24055b564 2021-05-28            34.178922  56.750   \n...                        ...        ...                  ...     ...   \n6666  621e375b67b776a240290cdc 2021-08-13                  NaN     NaN   \n6667  621e375b67b776a240290cdc 2021-08-14                  NaN     NaN   \n6668  621e375b67b776a240290cdc 2021-08-15                  NaN     NaN   \n6669  621e375b67b776a240290cdc 2021-08-16                  NaN     NaN   \n6670  621e375b67b776a240290cdc 2021-08-17                  NaN     NaN   \n\n        rmssd  spo2  full_sleep_breathing_rate  stress_score  \\\n0      89.603   NaN                       14.8          78.0   \n1      94.303   NaN                       15.8          80.0   \n2     119.212   NaN                       14.6          84.0   \n3     111.709   NaN                       14.8          82.0   \n4     103.034   NaN                       15.2          81.0   \n...       ...   ...                        ...           ...   \n6666      NaN   NaN                        NaN           NaN   \n6667      NaN   NaN                        NaN           NaN   \n6668      NaN   NaN                        NaN           NaN   \n6669      NaN   NaN                        NaN           NaN   \n6670      NaN   NaN                        NaN           NaN   \n\n      sleep_points_percentage  exertion_points_percentage  \\\n0                    0.833333                       0.675   \n1                    0.833333                       0.725   \n2                    0.966667                       0.725   \n3                    0.933333                       0.725   \n4                    0.866667                       0.725   \n...                       ...                         ...   \n6666                      NaN                         NaN   \n6667                      NaN                         NaN   \n6668                      NaN                         NaN   \n6669                      NaN                         NaN   \n6670                      NaN                         NaN   \n\n      responsiveness_points_percentage  daily_temperature_variation  \\\n0                             0.866667                    -1.788325   \n1                             0.866667                    -2.462709   \n2                             0.866667                    -2.385801   \n3                             0.833333                    -2.124199   \n4                             0.866667                    -2.396873   \n...                                ...                          ...   \n6666                               NaN                          NaN   \n6667                               NaN                          NaN   \n6668                               NaN                          NaN   \n6669                               NaN                          NaN   \n6670                               NaN                          NaN   \n\n                badgeType  calories  filteredDemographicVO2Max  distance  \n0                    None   2351.59                   62.79210    6517.5  \n1                    None   2332.08                   62.67912    7178.6  \n2                    None   2262.30                   62.57307    6090.9  \n3     [LIFETIME_DISTANCE]   2325.10                   62.47493    6653.1  \n4                    None   2586.76                   62.41166    9557.9  \n...                   ...       ...                        ...       ...  \n6666                 None   1296.00                        NaN       NaN  \n6667                 None   1296.00                        NaN       NaN  \n6668                 None   1296.00                        NaN       NaN  \n6669                 None   1296.00                        NaN       NaN  \n6670                 None    635.40                        NaN       NaN  \n\n[6671 rows x 16 columns]",
      "text/html": "<div>\n<style scoped>\n    .dataframe tbody tr th:only-of-type {\n        vertical-align: middle;\n    }\n\n    .dataframe tbody tr th {\n        vertical-align: top;\n    }\n\n    .dataframe thead th {\n        text-align: right;\n    }\n</style>\n<table border=\"1\" class=\"dataframe\">\n  <thead>\n    <tr style=\"text-align: right;\">\n      <th></th>\n      <th>id</th>\n      <th>date</th>\n      <th>nightly_temperature</th>\n      <th>nremhr</th>\n      <th>rmssd</th>\n      <th>spo2</th>\n      <th>full_sleep_breathing_rate</th>\n      <th>stress_score</th>\n      <th>sleep_points_percentage</th>\n      <th>exertion_points_percentage</th>\n      <th>responsiveness_points_percentage</th>\n      <th>daily_temperature_variation</th>\n      <th>badgeType</th>\n      <th>calories</th>\n      <th>filteredDemographicVO2Max</th>\n      <th>distance</th>\n    </tr>\n  </thead>\n  <tbody>\n    <tr>\n      <th>0</th>\n      <td>621e2e8e67b776a24055b564</td>\n      <td>2021-05-24</td>\n      <td>34.137687</td>\n      <td>57.432</td>\n      <td>89.603</td>\n      <td>NaN</td>\n      <td>14.8</td>\n      <td>78.0</td>\n      <td>0.833333</td>\n      <td>0.675</td>\n      <td>0.866667</td>\n      <td>-1.788325</td>\n      <td>None</td>\n      <td>2351.59</td>\n      <td>62.79210</td>\n      <td>6517.5</td>\n    </tr>\n    <tr>\n      <th>1</th>\n      <td>621e2e8e67b776a24055b564</td>\n      <td>2021-05-25</td>\n      <td>33.794544</td>\n      <td>57.681</td>\n      <td>94.303</td>\n      <td>NaN</td>\n      <td>15.8</td>\n      <td>80.0</td>\n      <td>0.833333</td>\n      <td>0.725</td>\n      <td>0.866667</td>\n      <td>-2.462709</td>\n      <td>None</td>\n      <td>2332.08</td>\n      <td>62.67912</td>\n      <td>7178.6</td>\n    </tr>\n    <tr>\n      <th>2</th>\n      <td>621e2e8e67b776a24055b564</td>\n      <td>2021-05-26</td>\n      <td>34.611011</td>\n      <td>57.481</td>\n      <td>119.212</td>\n      <td>NaN</td>\n      <td>14.6</td>\n      <td>84.0</td>\n      <td>0.966667</td>\n      <td>0.725</td>\n      <td>0.866667</td>\n      <td>-2.385801</td>\n      <td>None</td>\n      <td>2262.30</td>\n      <td>62.57307</td>\n      <td>6090.9</td>\n    </tr>\n    <tr>\n      <th>3</th>\n      <td>621e2e8e67b776a24055b564</td>\n      <td>2021-05-27</td>\n      <td>34.408304</td>\n      <td>57.493</td>\n      <td>111.709</td>\n      <td>NaN</td>\n      <td>14.8</td>\n      <td>82.0</td>\n      <td>0.933333</td>\n      <td>0.725</td>\n      <td>0.833333</td>\n      <td>-2.124199</td>\n      <td>[LIFETIME_DISTANCE]</td>\n      <td>2325.10</td>\n      <td>62.47493</td>\n      <td>6653.1</td>\n    </tr>\n    <tr>\n      <th>4</th>\n      <td>621e2e8e67b776a24055b564</td>\n      <td>2021-05-28</td>\n      <td>34.178922</td>\n      <td>56.750</td>\n      <td>103.034</td>\n      <td>NaN</td>\n      <td>15.2</td>\n      <td>81.0</td>\n      <td>0.866667</td>\n      <td>0.725</td>\n      <td>0.866667</td>\n      <td>-2.396873</td>\n      <td>None</td>\n      <td>2586.76</td>\n      <td>62.41166</td>\n      <td>9557.9</td>\n    </tr>\n    <tr>\n      <th>...</th>\n      <td>...</td>\n      <td>...</td>\n      <td>...</td>\n      <td>...</td>\n      <td>...</td>\n      <td>...</td>\n      <td>...</td>\n      <td>...</td>\n      <td>...</td>\n      <td>...</td>\n      <td>...</td>\n      <td>...</td>\n      <td>...</td>\n      <td>...</td>\n      <td>...</td>\n      <td>...</td>\n    </tr>\n    <tr>\n      <th>6666</th>\n      <td>621e375b67b776a240290cdc</td>\n      <td>2021-08-13</td>\n      <td>NaN</td>\n      <td>NaN</td>\n      <td>NaN</td>\n      <td>NaN</td>\n      <td>NaN</td>\n      <td>NaN</td>\n      <td>NaN</td>\n      <td>NaN</td>\n      <td>NaN</td>\n      <td>NaN</td>\n      <td>None</td>\n      <td>1296.00</td>\n      <td>NaN</td>\n      <td>NaN</td>\n    </tr>\n    <tr>\n      <th>6667</th>\n      <td>621e375b67b776a240290cdc</td>\n      <td>2021-08-14</td>\n      <td>NaN</td>\n      <td>NaN</td>\n      <td>NaN</td>\n      <td>NaN</td>\n      <td>NaN</td>\n      <td>NaN</td>\n      <td>NaN</td>\n      <td>NaN</td>\n      <td>NaN</td>\n      <td>NaN</td>\n      <td>None</td>\n      <td>1296.00</td>\n      <td>NaN</td>\n      <td>NaN</td>\n    </tr>\n    <tr>\n      <th>6668</th>\n      <td>621e375b67b776a240290cdc</td>\n      <td>2021-08-15</td>\n      <td>NaN</td>\n      <td>NaN</td>\n      <td>NaN</td>\n      <td>NaN</td>\n      <td>NaN</td>\n      <td>NaN</td>\n      <td>NaN</td>\n      <td>NaN</td>\n      <td>NaN</td>\n      <td>NaN</td>\n      <td>None</td>\n      <td>1296.00</td>\n      <td>NaN</td>\n      <td>NaN</td>\n    </tr>\n    <tr>\n      <th>6669</th>\n      <td>621e375b67b776a240290cdc</td>\n      <td>2021-08-16</td>\n      <td>NaN</td>\n      <td>NaN</td>\n      <td>NaN</td>\n      <td>NaN</td>\n      <td>NaN</td>\n      <td>NaN</td>\n      <td>NaN</td>\n      <td>NaN</td>\n      <td>NaN</td>\n      <td>NaN</td>\n      <td>None</td>\n      <td>1296.00</td>\n      <td>NaN</td>\n      <td>NaN</td>\n    </tr>\n    <tr>\n      <th>6670</th>\n      <td>621e375b67b776a240290cdc</td>\n      <td>2021-08-17</td>\n      <td>NaN</td>\n      <td>NaN</td>\n      <td>NaN</td>\n      <td>NaN</td>\n      <td>NaN</td>\n      <td>NaN</td>\n      <td>NaN</td>\n      <td>NaN</td>\n      <td>NaN</td>\n      <td>NaN</td>\n      <td>None</td>\n      <td>635.40</td>\n      <td>NaN</td>\n      <td>NaN</td>\n    </tr>\n  </tbody>\n</table>\n<p>6671 rows × 16 columns</p>\n</div>"
     },
     "execution_count": 29,
     "metadata": {},
     "output_type": "execute_result"
    }
   ],
   "source": [
    "if os.path.exists('data/users_distance.pkl'):\n",
    "    print(\"Reading from pickle...\")\n",
    "    f = open(\"data/users_distance.pkl\", \"rb\")\n",
    "    # disable garbage collector\n",
    "    gc.disable()\n",
    "    # read pickle\n",
    "    users_distance = pickle.load(f)\n",
    "    # enable garbage collector again\n",
    "    gc.enable()\n",
    "    f.close()\n",
    "else:\n",
    "    users_distance = pd.DataFrame(columns=[\"id\", \"data\"])\n",
    "    for user in tqdm(users):\n",
    "        user_data = pd.DataFrame(list(\n",
    "            db.fitbit.find({\"$and\": [\n",
    "                {\"type\": \"distance\"},\n",
    "                {\"id\": user}\n",
    "            ]},\n",
    "                {\"id\": 1, \"data.dateTime\": 1, \"data.value\": 1, \"_id\": 0}\n",
    "            )\n",
    "        ))\n",
    "\n",
    "        users_distance = pd.concat([users_distance, user_data], axis=0)\n",
    "\n",
    "    print(\"Column Split...\")\n",
    "    # split data column (json format) into two columns\n",
    "    users_distance.reset_index(drop=True, inplace=True)\n",
    "    users_distance[\"date\"] = users_distance[\"data\"].apply(lambda d: d[\"dateTime\"])\n",
    "    users_distance[\"distance\"] = users_distance[\"data\"].apply(lambda d: d[\"value\"])\n",
    "    users_distance.drop([\"data\"], inplace=True, axis=1)\n",
    "    print(\"Column Split Completed\")\n",
    "    print(\"Date Conversion...\")\n",
    "    # convert timestamp date object and then to datetime64[ns]\n",
    "    users_distance[\"date\"] = pd.to_datetime(users_distance[\"date\"], infer_datetime_format=True).dt.date\n",
    "    users_distance[\"date\"] = pd.to_datetime(users_distance[\"date\"], infer_datetime_format=True)\n",
    "    print(\"Date Conversion Completed\")\n",
    "    users_distance.to_pickle('data/users_distance.pkl')\n",
    "\n",
    "# group by date and then take the average\n",
    "users_distance.distance = users_distance.distance.astype(float)\n",
    "users_distance = users_distance.groupby(['id', 'date']).sum()\n",
    "users_distance.reset_index(drop=False, inplace=True)\n",
    "users_distance.distance = users_distance.distance / 100  # converts cm to m\n",
    "\n",
    "# merge\n",
    "df = df.merge(users_distance, how='outer', on=['id', 'date'])\n",
    "df"
   ],
   "metadata": {
    "collapsed": false,
    "pycharm": {
     "name": "#%%\n"
    }
   }
  },
  {
   "cell_type": "markdown",
   "source": [
    "Exercise"
   ],
   "metadata": {
    "collapsed": false,
    "pycharm": {
     "name": "#%% md\n"
    }
   }
  },
  {
   "cell_type": "code",
   "execution_count": 30,
   "outputs": [
    {
     "data": {
      "text/plain": "                            id       date  nightly_temperature  nremhr  \\\n0     621e2e8e67b776a24055b564 2021-05-24            34.137687  57.432   \n1     621e2e8e67b776a24055b564 2021-05-25            33.794544  57.681   \n2     621e2e8e67b776a24055b564 2021-05-26            34.611011  57.481   \n3     621e2e8e67b776a24055b564 2021-05-27            34.408304  57.493   \n4     621e2e8e67b776a24055b564 2021-05-28            34.178922  56.750   \n...                        ...        ...                  ...     ...   \n6683  621e323667b776a240f19134 2021-06-09                  NaN     NaN   \n6684  621e323667b776a240f19134 2021-06-13                  NaN     NaN   \n6685  621e323667b776a240f19134 2021-06-28                  NaN     NaN   \n6686  621e339967b776a240e502de 2021-10-10                  NaN     NaN   \n6687  621e339967b776a240e502de 2021-10-11                  NaN     NaN   \n\n        rmssd  spo2  full_sleep_breathing_rate  stress_score  \\\n0      89.603   NaN                       14.8          78.0   \n1      94.303   NaN                       15.8          80.0   \n2     119.212   NaN                       14.6          84.0   \n3     111.709   NaN                       14.8          82.0   \n4     103.034   NaN                       15.2          81.0   \n...       ...   ...                        ...           ...   \n6683      NaN   NaN                        NaN           NaN   \n6684      NaN   NaN                        NaN           NaN   \n6685      NaN   NaN                        NaN           NaN   \n6686      NaN   NaN                        NaN           NaN   \n6687      NaN   NaN                        NaN           NaN   \n\n      sleep_points_percentage  exertion_points_percentage  \\\n0                    0.833333                       0.675   \n1                    0.833333                       0.725   \n2                    0.966667                       0.725   \n3                    0.933333                       0.725   \n4                    0.866667                       0.725   \n...                       ...                         ...   \n6683                      NaN                         NaN   \n6684                      NaN                         NaN   \n6685                      NaN                         NaN   \n6686                      NaN                         NaN   \n6687                      NaN                         NaN   \n\n      responsiveness_points_percentage  daily_temperature_variation  \\\n0                             0.866667                    -1.788325   \n1                             0.866667                    -2.462709   \n2                             0.866667                    -2.385801   \n3                             0.833333                    -2.124199   \n4                             0.866667                    -2.396873   \n...                                ...                          ...   \n6683                               NaN                          NaN   \n6684                               NaN                          NaN   \n6685                               NaN                          NaN   \n6686                               NaN                          NaN   \n6687                               NaN                          NaN   \n\n                badgeType  calories  filteredDemographicVO2Max  distance  \\\n0                    None   2351.59                   62.79210    6517.5   \n1                    None   2332.08                   62.67912    7178.6   \n2                    None   2262.30                   62.57307    6090.9   \n3     [LIFETIME_DISTANCE]   2325.10                   62.47493    6653.1   \n4                    None   2586.76                   62.41166    9557.9   \n...                   ...       ...                        ...       ...   \n6683                  NaN       NaN                        NaN       NaN   \n6684                  NaN       NaN                        NaN       NaN   \n6685                  NaN       NaN                        NaN       NaN   \n6686                  NaN       NaN                        NaN       NaN   \n6687                  NaN       NaN                        NaN       NaN   \n\n            activityType  \n0                 [Walk]  \n1                 [Walk]  \n2                 [Walk]  \n3                 [Walk]  \n4                 [Walk]  \n...                  ...  \n6683              [Walk]  \n6684              [Walk]  \n6685              [Walk]  \n6686          [Spinning]  \n6687  [Interval Workout]  \n\n[6688 rows x 17 columns]",
      "text/html": "<div>\n<style scoped>\n    .dataframe tbody tr th:only-of-type {\n        vertical-align: middle;\n    }\n\n    .dataframe tbody tr th {\n        vertical-align: top;\n    }\n\n    .dataframe thead th {\n        text-align: right;\n    }\n</style>\n<table border=\"1\" class=\"dataframe\">\n  <thead>\n    <tr style=\"text-align: right;\">\n      <th></th>\n      <th>id</th>\n      <th>date</th>\n      <th>nightly_temperature</th>\n      <th>nremhr</th>\n      <th>rmssd</th>\n      <th>spo2</th>\n      <th>full_sleep_breathing_rate</th>\n      <th>stress_score</th>\n      <th>sleep_points_percentage</th>\n      <th>exertion_points_percentage</th>\n      <th>responsiveness_points_percentage</th>\n      <th>daily_temperature_variation</th>\n      <th>badgeType</th>\n      <th>calories</th>\n      <th>filteredDemographicVO2Max</th>\n      <th>distance</th>\n      <th>activityType</th>\n    </tr>\n  </thead>\n  <tbody>\n    <tr>\n      <th>0</th>\n      <td>621e2e8e67b776a24055b564</td>\n      <td>2021-05-24</td>\n      <td>34.137687</td>\n      <td>57.432</td>\n      <td>89.603</td>\n      <td>NaN</td>\n      <td>14.8</td>\n      <td>78.0</td>\n      <td>0.833333</td>\n      <td>0.675</td>\n      <td>0.866667</td>\n      <td>-1.788325</td>\n      <td>None</td>\n      <td>2351.59</td>\n      <td>62.79210</td>\n      <td>6517.5</td>\n      <td>[Walk]</td>\n    </tr>\n    <tr>\n      <th>1</th>\n      <td>621e2e8e67b776a24055b564</td>\n      <td>2021-05-25</td>\n      <td>33.794544</td>\n      <td>57.681</td>\n      <td>94.303</td>\n      <td>NaN</td>\n      <td>15.8</td>\n      <td>80.0</td>\n      <td>0.833333</td>\n      <td>0.725</td>\n      <td>0.866667</td>\n      <td>-2.462709</td>\n      <td>None</td>\n      <td>2332.08</td>\n      <td>62.67912</td>\n      <td>7178.6</td>\n      <td>[Walk]</td>\n    </tr>\n    <tr>\n      <th>2</th>\n      <td>621e2e8e67b776a24055b564</td>\n      <td>2021-05-26</td>\n      <td>34.611011</td>\n      <td>57.481</td>\n      <td>119.212</td>\n      <td>NaN</td>\n      <td>14.6</td>\n      <td>84.0</td>\n      <td>0.966667</td>\n      <td>0.725</td>\n      <td>0.866667</td>\n      <td>-2.385801</td>\n      <td>None</td>\n      <td>2262.30</td>\n      <td>62.57307</td>\n      <td>6090.9</td>\n      <td>[Walk]</td>\n    </tr>\n    <tr>\n      <th>3</th>\n      <td>621e2e8e67b776a24055b564</td>\n      <td>2021-05-27</td>\n      <td>34.408304</td>\n      <td>57.493</td>\n      <td>111.709</td>\n      <td>NaN</td>\n      <td>14.8</td>\n      <td>82.0</td>\n      <td>0.933333</td>\n      <td>0.725</td>\n      <td>0.833333</td>\n      <td>-2.124199</td>\n      <td>[LIFETIME_DISTANCE]</td>\n      <td>2325.10</td>\n      <td>62.47493</td>\n      <td>6653.1</td>\n      <td>[Walk]</td>\n    </tr>\n    <tr>\n      <th>4</th>\n      <td>621e2e8e67b776a24055b564</td>\n      <td>2021-05-28</td>\n      <td>34.178922</td>\n      <td>56.750</td>\n      <td>103.034</td>\n      <td>NaN</td>\n      <td>15.2</td>\n      <td>81.0</td>\n      <td>0.866667</td>\n      <td>0.725</td>\n      <td>0.866667</td>\n      <td>-2.396873</td>\n      <td>None</td>\n      <td>2586.76</td>\n      <td>62.41166</td>\n      <td>9557.9</td>\n      <td>[Walk]</td>\n    </tr>\n    <tr>\n      <th>...</th>\n      <td>...</td>\n      <td>...</td>\n      <td>...</td>\n      <td>...</td>\n      <td>...</td>\n      <td>...</td>\n      <td>...</td>\n      <td>...</td>\n      <td>...</td>\n      <td>...</td>\n      <td>...</td>\n      <td>...</td>\n      <td>...</td>\n      <td>...</td>\n      <td>...</td>\n      <td>...</td>\n      <td>...</td>\n    </tr>\n    <tr>\n      <th>6683</th>\n      <td>621e323667b776a240f19134</td>\n      <td>2021-06-09</td>\n      <td>NaN</td>\n      <td>NaN</td>\n      <td>NaN</td>\n      <td>NaN</td>\n      <td>NaN</td>\n      <td>NaN</td>\n      <td>NaN</td>\n      <td>NaN</td>\n      <td>NaN</td>\n      <td>NaN</td>\n      <td>NaN</td>\n      <td>NaN</td>\n      <td>NaN</td>\n      <td>NaN</td>\n      <td>[Walk]</td>\n    </tr>\n    <tr>\n      <th>6684</th>\n      <td>621e323667b776a240f19134</td>\n      <td>2021-06-13</td>\n      <td>NaN</td>\n      <td>NaN</td>\n      <td>NaN</td>\n      <td>NaN</td>\n      <td>NaN</td>\n      <td>NaN</td>\n      <td>NaN</td>\n      <td>NaN</td>\n      <td>NaN</td>\n      <td>NaN</td>\n      <td>NaN</td>\n      <td>NaN</td>\n      <td>NaN</td>\n      <td>NaN</td>\n      <td>[Walk]</td>\n    </tr>\n    <tr>\n      <th>6685</th>\n      <td>621e323667b776a240f19134</td>\n      <td>2021-06-28</td>\n      <td>NaN</td>\n      <td>NaN</td>\n      <td>NaN</td>\n      <td>NaN</td>\n      <td>NaN</td>\n      <td>NaN</td>\n      <td>NaN</td>\n      <td>NaN</td>\n      <td>NaN</td>\n      <td>NaN</td>\n      <td>NaN</td>\n      <td>NaN</td>\n      <td>NaN</td>\n      <td>NaN</td>\n      <td>[Walk]</td>\n    </tr>\n    <tr>\n      <th>6686</th>\n      <td>621e339967b776a240e502de</td>\n      <td>2021-10-10</td>\n      <td>NaN</td>\n      <td>NaN</td>\n      <td>NaN</td>\n      <td>NaN</td>\n      <td>NaN</td>\n      <td>NaN</td>\n      <td>NaN</td>\n      <td>NaN</td>\n      <td>NaN</td>\n      <td>NaN</td>\n      <td>NaN</td>\n      <td>NaN</td>\n      <td>NaN</td>\n      <td>NaN</td>\n      <td>[Spinning]</td>\n    </tr>\n    <tr>\n      <th>6687</th>\n      <td>621e339967b776a240e502de</td>\n      <td>2021-10-11</td>\n      <td>NaN</td>\n      <td>NaN</td>\n      <td>NaN</td>\n      <td>NaN</td>\n      <td>NaN</td>\n      <td>NaN</td>\n      <td>NaN</td>\n      <td>NaN</td>\n      <td>NaN</td>\n      <td>NaN</td>\n      <td>NaN</td>\n      <td>NaN</td>\n      <td>NaN</td>\n      <td>NaN</td>\n      <td>[Interval Workout]</td>\n    </tr>\n  </tbody>\n</table>\n<p>6688 rows × 17 columns</p>\n</div>"
     },
     "execution_count": 30,
     "metadata": {},
     "output_type": "execute_result"
    }
   ],
   "source": [
    "users_exercise = pd.DataFrame(columns=[\"id\", \"data\"])\n",
    "for user in users:\n",
    "    user_data = pd.DataFrame(list(\n",
    "        db.fitbit.find({\"$and\": [\n",
    "            {\"type\": \"exercise\"},\n",
    "            {\"id\": user}\n",
    "        ]},\n",
    "            {\"id\": 1, \"data.originalStartTime\": 1, \"data.activityTypeId\": 1, \"_id\": 0}\n",
    "        )\n",
    "    ))\n",
    "\n",
    "    users_exercise = pd.concat([users_exercise, user_data], axis=0)\n",
    "\n",
    "# split data column (json format) into two columns\n",
    "users_exercise[\"date\"] = users_exercise[\"data\"].apply(lambda d: d[\"originalStartTime\"])\n",
    "users_exercise[\"activityType\"] = users_exercise[\"data\"].apply(lambda d: d[\"activityTypeId\"])\n",
    "users_exercise.drop([\"data\"], inplace=True, axis=1)\n",
    "\n",
    "# convert timestamp date object and then to datetime64[ns]\n",
    "users_exercise[\"date\"] = pd.to_datetime(pd.to_datetime(users_exercise[\"date\"], infer_datetime_format=True).dt.date)\n",
    "\n",
    "# Get distinct activity types\n",
    "activity_types = pd.DataFrame(list(\n",
    "        db.fitbit.find(\n",
    "            {\"type\": \"exercise\"},\n",
    "            {\"id\": 1, \"data.activityTypeId\": 1, \"data.activityName\": 1, \"_id\": 0}\n",
    "        )\n",
    "    ))\n",
    "activity_types[\"activityTypeId\"] = activity_types.data.apply(lambda d: d[\"activityTypeId\"])\n",
    "activity_types[\"activityName\"] = activity_types.data.apply(lambda d: d[\"activityName\"])\n",
    "activity_types.drop([\"data\", \"id\"], inplace=True, axis=1)\n",
    "activity_types = activity_types.drop_duplicates().reset_index(drop=True)\n",
    "ACTIVITIES = {\n",
    "    90013: \"Walk\",\n",
    "    15000: \"Sport\",\n",
    "    3001: \"Aerobic Workout\",\n",
    "    52000: \"Yoga/Pilates\",\n",
    "    90024: \"Swim\",\n",
    "    90001: \"Bike\",\n",
    "    20047: \"Elliptical\",\n",
    "    2131: \"Weights\",\n",
    "    55001: \"Spinning\",\n",
    "    1071: \"Bike\",\n",
    "    90009: \"Run\",\n",
    "    20049: \"Treadmill\",\n",
    "    53000: \"Yoga/Pilates\",\n",
    "    55002: \"Martial Arts\",\n",
    "    2040: \"Circuit Training\",\n",
    "    2065: \"Stairclimber\",\n",
    "    3000: \"Workout\",\n",
    "    90012: \"Hike\",\n",
    "    12339646: \"Run\",\n",
    "    12350445: \"Walk\",\n",
    "    23418750: \"Swim\",\n",
    "    55003: \"Bootcamp\",\n",
    "    15430: \"Martial Arts\",\n",
    "    20057: \"Interval Workout\",\n",
    "    15675: \"Tennis\",\n",
    "    61980497: \"Workout\"\n",
    "}\n",
    "users_exercise[\"activityType\"] = users_exercise[\"activityType\"].apply(lambda a: ACTIVITIES.get(a))\n",
    "users_exercise = users_exercise.groupby(['id', 'date']).activityType.apply(list).reset_index(drop=False)\n",
    "users_exercise.activityType = users_exercise.activityType.apply(lambda l: list(set(l)) if isinstance(l, list) else l)\n",
    "\n",
    "# merge\n",
    "df = df.merge(users_exercise, how='outer', on=['id', 'date'])\n",
    "df.to_pickle(\"data/temp_df_1.pkl\")\n",
    "df"
   ],
   "metadata": {
    "collapsed": false,
    "pycharm": {
     "name": "#%%\n"
    }
   }
  },
  {
   "cell_type": "markdown",
   "source": [
    "Heart Rate"
   ],
   "metadata": {
    "collapsed": false,
    "pycharm": {
     "name": "#%% md\n"
    }
   }
  },
  {
   "cell_type": "code",
   "execution_count": 31,
   "outputs": [
    {
     "name": "stdout",
     "output_type": "stream",
     "text": [
      "Reading DataFrame from pickle...\n",
      "Reading completed.\n"
     ]
    }
   ],
   "source": [
    "if os.path.exists('data/temp_df_1.pkl'):\n",
    "    print(\"Reading DataFrame from pickle...\")\n",
    "    f = open(\"data/temp_df_1.pkl\", \"rb\")\n",
    "    # disable garbage collector\n",
    "    gc.disable()\n",
    "    # read pickle\n",
    "    df = pickle.load(f)\n",
    "    # enable garbage collector again\n",
    "    gc.enable()\n",
    "    f.close()\n",
    "    print(\"Reading completed.\")"
   ],
   "metadata": {
    "collapsed": false,
    "pycharm": {
     "name": "#%%\n"
    }
   }
  },
  {
   "cell_type": "code",
   "execution_count": 32,
   "outputs": [
    {
     "name": "stderr",
     "output_type": "stream",
     "text": [
      "C:\\Users\\evapa\\AppData\\Local\\Temp\\ipykernel_5916\\2267484148.py:28: UserWarning: \n",
      "To read and aggregate heart rate data from MongoDB you need to ensure index existence for both query (type, id) and projection (data.dateTime, data.value.bpm) fields (compound index of four fields)...\n",
      "\n",
      "  warnings.warn(\"\\nTo read and aggregate heart rate data from MongoDB you need to ensure index existence for both query (type, id) and projection (data.dateTime, data.value.bpm) fields (compound index of four fields)...\\n\")\n",
      "100%|██████████| 71/71 [16:48<00:00, 14.20s/it]\n"
     ]
    }
   ],
   "source": [
    "if os.path.exists('data/users_hr_daily.pkl'):\n",
    "    print(\"Reading daily data from pickle...\")\n",
    "    f = open(\"data/users_hr_daily.pkl\", \"rb\")\n",
    "    # disable garbage collector\n",
    "    gc.disable()\n",
    "    # read pickle\n",
    "    users_hr = pickle.load(f)\n",
    "    # enable garbage collector again\n",
    "    gc.enable()\n",
    "    f.close()\n",
    "    print(\"Reading completed.\")\n",
    "elif os.path.exists('data/users_hr.pkl'):\n",
    "    print(\"Reading raw data from pickle...\")\n",
    "    f = open(\"data/users_hr.pkl\", \"rb\")\n",
    "    # disable garbage collector\n",
    "    gc.disable()\n",
    "    # read pickle\n",
    "    users_hr = pickle.load(f)\n",
    "    # enable garbage collector again\n",
    "    gc.enable()\n",
    "    f.close()\n",
    "    print(\"Reading completed.\")\n",
    "\n",
    "    users_hr.bpm = users_hr.bpm.astype(float)\n",
    "    users_hr = users_hr.groupby(['id', 'date']).mean()\n",
    "    users_hr.reset_index(drop=False, inplace=True)\n",
    "else:\n",
    "    warnings.warn(\"\\nTo read and aggregate heart rate data from MongoDB you need to ensure index existence for both query (type, id) and projection (data.dateTime, data.value.bpm) fields (compound index of four fields)...\\n\")\n",
    "    rows = 0\n",
    "    users_hr = pd.DataFrame(columns=[\"id\", \"date\", \"bpm\"])\n",
    "    for user in tqdm(users):\n",
    "        user_data = pd.DataFrame(list(\n",
    "            db.fitbit.find({\"$and\": [\n",
    "                {\"id\": user},\n",
    "                {\"type\": \"heart_rate\"}\n",
    "            ]},\n",
    "                {\"id\": 1, \"data.dateTime\": 1, \"data.value.bpm\": 1, \"_id\": 0}\n",
    "            )\n",
    "        ))\n",
    "\n",
    "        # split data column (json format) into two columns\n",
    "        user_data[\"date\"] = user_data[\"data\"].apply(lambda d: d[\"dateTime\"])\n",
    "        user_data[\"bpm\"] = user_data[\"data\"].apply(lambda d: d[\"value\"].get(\"bpm\"))\n",
    "        user_data.drop([\"data\"], inplace=True, axis=1)\n",
    "\n",
    "        # convert timestamp date object and then to datetime64[ns]\n",
    "        user_data[\"date\"] = pd.to_datetime(pd.to_datetime(user_data[\"date\"], infer_datetime_format=\"%Y-%m-%dT%H:%M:%S\").dt.date, infer_datetime_format=True)\n",
    "\n",
    "        # group by date and then take the average\n",
    "        user_data.bpm = user_data.bpm.astype(float)\n",
    "        user_data = user_data.groupby(['id', 'date']).mean()\n",
    "        user_data.reset_index(drop=False, inplace=True)\n",
    "        users_hr = pd.concat([users_hr, user_data], axis=0)\n",
    "\n",
    "    users_hr.to_pickle('data/users_hr_daily.pkl')"
   ],
   "metadata": {
    "collapsed": false,
    "pycharm": {
     "name": "#%%\n"
    }
   }
  },
  {
   "cell_type": "code",
   "execution_count": 33,
   "outputs": [
    {
     "data": {
      "text/plain": "                            id       date  nightly_temperature  nremhr  \\\n0     621e2e8e67b776a24055b564 2021-05-24            34.137687  57.432   \n1     621e2e8e67b776a24055b564 2021-05-25            33.794544  57.681   \n2     621e2e8e67b776a24055b564 2021-05-26            34.611011  57.481   \n3     621e2e8e67b776a24055b564 2021-05-27            34.408304  57.493   \n4     621e2e8e67b776a24055b564 2021-05-28            34.178922  56.750   \n...                        ...        ...                  ...     ...   \n6683  621e323667b776a240f19134 2021-06-09                  NaN     NaN   \n6684  621e323667b776a240f19134 2021-06-13                  NaN     NaN   \n6685  621e323667b776a240f19134 2021-06-28                  NaN     NaN   \n6686  621e339967b776a240e502de 2021-10-10                  NaN     NaN   \n6687  621e339967b776a240e502de 2021-10-11                  NaN     NaN   \n\n        rmssd  spo2  full_sleep_breathing_rate  stress_score  \\\n0      89.603   NaN                       14.8          78.0   \n1      94.303   NaN                       15.8          80.0   \n2     119.212   NaN                       14.6          84.0   \n3     111.709   NaN                       14.8          82.0   \n4     103.034   NaN                       15.2          81.0   \n...       ...   ...                        ...           ...   \n6683      NaN   NaN                        NaN           NaN   \n6684      NaN   NaN                        NaN           NaN   \n6685      NaN   NaN                        NaN           NaN   \n6686      NaN   NaN                        NaN           NaN   \n6687      NaN   NaN                        NaN           NaN   \n\n      sleep_points_percentage  exertion_points_percentage  \\\n0                    0.833333                       0.675   \n1                    0.833333                       0.725   \n2                    0.966667                       0.725   \n3                    0.933333                       0.725   \n4                    0.866667                       0.725   \n...                       ...                         ...   \n6683                      NaN                         NaN   \n6684                      NaN                         NaN   \n6685                      NaN                         NaN   \n6686                      NaN                         NaN   \n6687                      NaN                         NaN   \n\n      responsiveness_points_percentage  daily_temperature_variation  \\\n0                             0.866667                    -1.788325   \n1                             0.866667                    -2.462709   \n2                             0.866667                    -2.385801   \n3                             0.833333                    -2.124199   \n4                             0.866667                    -2.396873   \n...                                ...                          ...   \n6683                               NaN                          NaN   \n6684                               NaN                          NaN   \n6685                               NaN                          NaN   \n6686                               NaN                          NaN   \n6687                               NaN                          NaN   \n\n                badgeType  calories  filteredDemographicVO2Max  distance  \\\n0                    None   2351.59                   62.79210    6517.5   \n1                    None   2332.08                   62.67912    7178.6   \n2                    None   2262.30                   62.57307    6090.9   \n3     [LIFETIME_DISTANCE]   2325.10                   62.47493    6653.1   \n4                    None   2586.76                   62.41166    9557.9   \n...                   ...       ...                        ...       ...   \n6683                  NaN       NaN                        NaN       NaN   \n6684                  NaN       NaN                        NaN       NaN   \n6685                  NaN       NaN                        NaN       NaN   \n6686                  NaN       NaN                        NaN       NaN   \n6687                  NaN       NaN                        NaN       NaN   \n\n            activityType        bpm  \n0                 [Walk]  71.701565  \n1                 [Walk]    70.5793  \n2                 [Walk]  71.842573  \n3                 [Walk]  71.725477  \n4                 [Walk]  74.401028  \n...                  ...        ...  \n6683              [Walk]        NaN  \n6684              [Walk]        NaN  \n6685              [Walk]        NaN  \n6686          [Spinning]        NaN  \n6687  [Interval Workout]        NaN  \n\n[6688 rows x 18 columns]",
      "text/html": "<div>\n<style scoped>\n    .dataframe tbody tr th:only-of-type {\n        vertical-align: middle;\n    }\n\n    .dataframe tbody tr th {\n        vertical-align: top;\n    }\n\n    .dataframe thead th {\n        text-align: right;\n    }\n</style>\n<table border=\"1\" class=\"dataframe\">\n  <thead>\n    <tr style=\"text-align: right;\">\n      <th></th>\n      <th>id</th>\n      <th>date</th>\n      <th>nightly_temperature</th>\n      <th>nremhr</th>\n      <th>rmssd</th>\n      <th>spo2</th>\n      <th>full_sleep_breathing_rate</th>\n      <th>stress_score</th>\n      <th>sleep_points_percentage</th>\n      <th>exertion_points_percentage</th>\n      <th>responsiveness_points_percentage</th>\n      <th>daily_temperature_variation</th>\n      <th>badgeType</th>\n      <th>calories</th>\n      <th>filteredDemographicVO2Max</th>\n      <th>distance</th>\n      <th>activityType</th>\n      <th>bpm</th>\n    </tr>\n  </thead>\n  <tbody>\n    <tr>\n      <th>0</th>\n      <td>621e2e8e67b776a24055b564</td>\n      <td>2021-05-24</td>\n      <td>34.137687</td>\n      <td>57.432</td>\n      <td>89.603</td>\n      <td>NaN</td>\n      <td>14.8</td>\n      <td>78.0</td>\n      <td>0.833333</td>\n      <td>0.675</td>\n      <td>0.866667</td>\n      <td>-1.788325</td>\n      <td>None</td>\n      <td>2351.59</td>\n      <td>62.79210</td>\n      <td>6517.5</td>\n      <td>[Walk]</td>\n      <td>71.701565</td>\n    </tr>\n    <tr>\n      <th>1</th>\n      <td>621e2e8e67b776a24055b564</td>\n      <td>2021-05-25</td>\n      <td>33.794544</td>\n      <td>57.681</td>\n      <td>94.303</td>\n      <td>NaN</td>\n      <td>15.8</td>\n      <td>80.0</td>\n      <td>0.833333</td>\n      <td>0.725</td>\n      <td>0.866667</td>\n      <td>-2.462709</td>\n      <td>None</td>\n      <td>2332.08</td>\n      <td>62.67912</td>\n      <td>7178.6</td>\n      <td>[Walk]</td>\n      <td>70.5793</td>\n    </tr>\n    <tr>\n      <th>2</th>\n      <td>621e2e8e67b776a24055b564</td>\n      <td>2021-05-26</td>\n      <td>34.611011</td>\n      <td>57.481</td>\n      <td>119.212</td>\n      <td>NaN</td>\n      <td>14.6</td>\n      <td>84.0</td>\n      <td>0.966667</td>\n      <td>0.725</td>\n      <td>0.866667</td>\n      <td>-2.385801</td>\n      <td>None</td>\n      <td>2262.30</td>\n      <td>62.57307</td>\n      <td>6090.9</td>\n      <td>[Walk]</td>\n      <td>71.842573</td>\n    </tr>\n    <tr>\n      <th>3</th>\n      <td>621e2e8e67b776a24055b564</td>\n      <td>2021-05-27</td>\n      <td>34.408304</td>\n      <td>57.493</td>\n      <td>111.709</td>\n      <td>NaN</td>\n      <td>14.8</td>\n      <td>82.0</td>\n      <td>0.933333</td>\n      <td>0.725</td>\n      <td>0.833333</td>\n      <td>-2.124199</td>\n      <td>[LIFETIME_DISTANCE]</td>\n      <td>2325.10</td>\n      <td>62.47493</td>\n      <td>6653.1</td>\n      <td>[Walk]</td>\n      <td>71.725477</td>\n    </tr>\n    <tr>\n      <th>4</th>\n      <td>621e2e8e67b776a24055b564</td>\n      <td>2021-05-28</td>\n      <td>34.178922</td>\n      <td>56.750</td>\n      <td>103.034</td>\n      <td>NaN</td>\n      <td>15.2</td>\n      <td>81.0</td>\n      <td>0.866667</td>\n      <td>0.725</td>\n      <td>0.866667</td>\n      <td>-2.396873</td>\n      <td>None</td>\n      <td>2586.76</td>\n      <td>62.41166</td>\n      <td>9557.9</td>\n      <td>[Walk]</td>\n      <td>74.401028</td>\n    </tr>\n    <tr>\n      <th>...</th>\n      <td>...</td>\n      <td>...</td>\n      <td>...</td>\n      <td>...</td>\n      <td>...</td>\n      <td>...</td>\n      <td>...</td>\n      <td>...</td>\n      <td>...</td>\n      <td>...</td>\n      <td>...</td>\n      <td>...</td>\n      <td>...</td>\n      <td>...</td>\n      <td>...</td>\n      <td>...</td>\n      <td>...</td>\n      <td>...</td>\n    </tr>\n    <tr>\n      <th>6683</th>\n      <td>621e323667b776a240f19134</td>\n      <td>2021-06-09</td>\n      <td>NaN</td>\n      <td>NaN</td>\n      <td>NaN</td>\n      <td>NaN</td>\n      <td>NaN</td>\n      <td>NaN</td>\n      <td>NaN</td>\n      <td>NaN</td>\n      <td>NaN</td>\n      <td>NaN</td>\n      <td>NaN</td>\n      <td>NaN</td>\n      <td>NaN</td>\n      <td>NaN</td>\n      <td>[Walk]</td>\n      <td>NaN</td>\n    </tr>\n    <tr>\n      <th>6684</th>\n      <td>621e323667b776a240f19134</td>\n      <td>2021-06-13</td>\n      <td>NaN</td>\n      <td>NaN</td>\n      <td>NaN</td>\n      <td>NaN</td>\n      <td>NaN</td>\n      <td>NaN</td>\n      <td>NaN</td>\n      <td>NaN</td>\n      <td>NaN</td>\n      <td>NaN</td>\n      <td>NaN</td>\n      <td>NaN</td>\n      <td>NaN</td>\n      <td>NaN</td>\n      <td>[Walk]</td>\n      <td>NaN</td>\n    </tr>\n    <tr>\n      <th>6685</th>\n      <td>621e323667b776a240f19134</td>\n      <td>2021-06-28</td>\n      <td>NaN</td>\n      <td>NaN</td>\n      <td>NaN</td>\n      <td>NaN</td>\n      <td>NaN</td>\n      <td>NaN</td>\n      <td>NaN</td>\n      <td>NaN</td>\n      <td>NaN</td>\n      <td>NaN</td>\n      <td>NaN</td>\n      <td>NaN</td>\n      <td>NaN</td>\n      <td>NaN</td>\n      <td>[Walk]</td>\n      <td>NaN</td>\n    </tr>\n    <tr>\n      <th>6686</th>\n      <td>621e339967b776a240e502de</td>\n      <td>2021-10-10</td>\n      <td>NaN</td>\n      <td>NaN</td>\n      <td>NaN</td>\n      <td>NaN</td>\n      <td>NaN</td>\n      <td>NaN</td>\n      <td>NaN</td>\n      <td>NaN</td>\n      <td>NaN</td>\n      <td>NaN</td>\n      <td>NaN</td>\n      <td>NaN</td>\n      <td>NaN</td>\n      <td>NaN</td>\n      <td>[Spinning]</td>\n      <td>NaN</td>\n    </tr>\n    <tr>\n      <th>6687</th>\n      <td>621e339967b776a240e502de</td>\n      <td>2021-10-11</td>\n      <td>NaN</td>\n      <td>NaN</td>\n      <td>NaN</td>\n      <td>NaN</td>\n      <td>NaN</td>\n      <td>NaN</td>\n      <td>NaN</td>\n      <td>NaN</td>\n      <td>NaN</td>\n      <td>NaN</td>\n      <td>NaN</td>\n      <td>NaN</td>\n      <td>NaN</td>\n      <td>NaN</td>\n      <td>[Interval Workout]</td>\n      <td>NaN</td>\n    </tr>\n  </tbody>\n</table>\n<p>6688 rows × 18 columns</p>\n</div>"
     },
     "execution_count": 33,
     "metadata": {},
     "output_type": "execute_result"
    }
   ],
   "source": [
    "# convert timestamp date object and then to datetime64[ns]\n",
    "users_hr[\"date\"] = pd.to_datetime(pd.to_datetime(users_hr[\"date\"], format=\"%Y/%m/%d  %H:%M:%S\").dt.date, format=\"%Y/%m/%d\")\n",
    "\n",
    "# merge\n",
    "df = df.merge(users_hr, how='outer', on=['id', 'date'])\n",
    "df"
   ],
   "metadata": {
    "collapsed": false,
    "pycharm": {
     "name": "#%%\n"
    }
   }
  },
  {
   "cell_type": "markdown",
   "source": [
    "Lightly Active Minutes"
   ],
   "metadata": {
    "collapsed": false,
    "pycharm": {
     "name": "#%% md\n"
    }
   }
  },
  {
   "cell_type": "code",
   "execution_count": 34,
   "outputs": [
    {
     "data": {
      "text/plain": "                            id       date  nightly_temperature  nremhr  \\\n0     621e2e8e67b776a24055b564 2021-05-24            34.137687  57.432   \n1     621e2e8e67b776a24055b564 2021-05-25            33.794544  57.681   \n2     621e2e8e67b776a24055b564 2021-05-26            34.611011  57.481   \n3     621e2e8e67b776a24055b564 2021-05-27            34.408304  57.493   \n4     621e2e8e67b776a24055b564 2021-05-28            34.178922  56.750   \n...                        ...        ...                  ...     ...   \n7106  621e375b67b776a240290cdc 2021-08-13                  NaN     NaN   \n7107  621e375b67b776a240290cdc 2021-08-14                  NaN     NaN   \n7108  621e375b67b776a240290cdc 2021-08-15                  NaN     NaN   \n7109  621e375b67b776a240290cdc 2021-08-16                  NaN     NaN   \n7110  621e375b67b776a240290cdc 2021-08-17                  NaN     NaN   \n\n        rmssd  spo2  full_sleep_breathing_rate  stress_score  \\\n0      89.603   NaN                       14.8          78.0   \n1      94.303   NaN                       15.8          80.0   \n2     119.212   NaN                       14.6          84.0   \n3     111.709   NaN                       14.8          82.0   \n4     103.034   NaN                       15.2          81.0   \n...       ...   ...                        ...           ...   \n7106      NaN   NaN                        NaN           NaN   \n7107      NaN   NaN                        NaN           NaN   \n7108      NaN   NaN                        NaN           NaN   \n7109      NaN   NaN                        NaN           NaN   \n7110      NaN   NaN                        NaN           NaN   \n\n      sleep_points_percentage  exertion_points_percentage  \\\n0                    0.833333                       0.675   \n1                    0.833333                       0.725   \n2                    0.966667                       0.725   \n3                    0.933333                       0.725   \n4                    0.866667                       0.725   \n...                       ...                         ...   \n7106                      NaN                         NaN   \n7107                      NaN                         NaN   \n7108                      NaN                         NaN   \n7109                      NaN                         NaN   \n7110                      NaN                         NaN   \n\n      responsiveness_points_percentage  daily_temperature_variation  \\\n0                             0.866667                    -1.788325   \n1                             0.866667                    -2.462709   \n2                             0.866667                    -2.385801   \n3                             0.833333                    -2.124199   \n4                             0.866667                    -2.396873   \n...                                ...                          ...   \n7106                               NaN                          NaN   \n7107                               NaN                          NaN   \n7108                               NaN                          NaN   \n7109                               NaN                          NaN   \n7110                               NaN                          NaN   \n\n                badgeType  calories  filteredDemographicVO2Max  distance  \\\n0                     NaN   2351.59                   62.79210    6517.5   \n1                     NaN   2332.08                   62.67912    7178.6   \n2                     NaN   2262.30                   62.57307    6090.9   \n3     [LIFETIME_DISTANCE]   2325.10                   62.47493    6653.1   \n4                     NaN   2586.76                   62.41166    9557.9   \n...                   ...       ...                        ...       ...   \n7106                  NaN   1296.00                        NaN       NaN   \n7107                  NaN   1296.00                        NaN       NaN   \n7108                  NaN   1296.00                        NaN       NaN   \n7109                  NaN   1296.00                        NaN       NaN   \n7110                  NaN    635.40                        NaN       NaN   \n\n     activityType        bpm lightly_active_minutes  \n0          [Walk]  71.701565                    149  \n1          [Walk]  70.579300                    132  \n2          [Walk]  71.842573                    112  \n3          [Walk]  71.725477                    133  \n4          [Walk]  74.401028                    136  \n...           ...        ...                    ...  \n7106          NaN        NaN                      0  \n7107          NaN        NaN                      0  \n7108          NaN        NaN                      0  \n7109          NaN        NaN                      0  \n7110          NaN        NaN                      0  \n\n[7111 rows x 19 columns]",
      "text/html": "<div>\n<style scoped>\n    .dataframe tbody tr th:only-of-type {\n        vertical-align: middle;\n    }\n\n    .dataframe tbody tr th {\n        vertical-align: top;\n    }\n\n    .dataframe thead th {\n        text-align: right;\n    }\n</style>\n<table border=\"1\" class=\"dataframe\">\n  <thead>\n    <tr style=\"text-align: right;\">\n      <th></th>\n      <th>id</th>\n      <th>date</th>\n      <th>nightly_temperature</th>\n      <th>nremhr</th>\n      <th>rmssd</th>\n      <th>spo2</th>\n      <th>full_sleep_breathing_rate</th>\n      <th>stress_score</th>\n      <th>sleep_points_percentage</th>\n      <th>exertion_points_percentage</th>\n      <th>responsiveness_points_percentage</th>\n      <th>daily_temperature_variation</th>\n      <th>badgeType</th>\n      <th>calories</th>\n      <th>filteredDemographicVO2Max</th>\n      <th>distance</th>\n      <th>activityType</th>\n      <th>bpm</th>\n      <th>lightly_active_minutes</th>\n    </tr>\n  </thead>\n  <tbody>\n    <tr>\n      <th>0</th>\n      <td>621e2e8e67b776a24055b564</td>\n      <td>2021-05-24</td>\n      <td>34.137687</td>\n      <td>57.432</td>\n      <td>89.603</td>\n      <td>NaN</td>\n      <td>14.8</td>\n      <td>78.0</td>\n      <td>0.833333</td>\n      <td>0.675</td>\n      <td>0.866667</td>\n      <td>-1.788325</td>\n      <td>NaN</td>\n      <td>2351.59</td>\n      <td>62.79210</td>\n      <td>6517.5</td>\n      <td>[Walk]</td>\n      <td>71.701565</td>\n      <td>149</td>\n    </tr>\n    <tr>\n      <th>1</th>\n      <td>621e2e8e67b776a24055b564</td>\n      <td>2021-05-25</td>\n      <td>33.794544</td>\n      <td>57.681</td>\n      <td>94.303</td>\n      <td>NaN</td>\n      <td>15.8</td>\n      <td>80.0</td>\n      <td>0.833333</td>\n      <td>0.725</td>\n      <td>0.866667</td>\n      <td>-2.462709</td>\n      <td>NaN</td>\n      <td>2332.08</td>\n      <td>62.67912</td>\n      <td>7178.6</td>\n      <td>[Walk]</td>\n      <td>70.579300</td>\n      <td>132</td>\n    </tr>\n    <tr>\n      <th>2</th>\n      <td>621e2e8e67b776a24055b564</td>\n      <td>2021-05-26</td>\n      <td>34.611011</td>\n      <td>57.481</td>\n      <td>119.212</td>\n      <td>NaN</td>\n      <td>14.6</td>\n      <td>84.0</td>\n      <td>0.966667</td>\n      <td>0.725</td>\n      <td>0.866667</td>\n      <td>-2.385801</td>\n      <td>NaN</td>\n      <td>2262.30</td>\n      <td>62.57307</td>\n      <td>6090.9</td>\n      <td>[Walk]</td>\n      <td>71.842573</td>\n      <td>112</td>\n    </tr>\n    <tr>\n      <th>3</th>\n      <td>621e2e8e67b776a24055b564</td>\n      <td>2021-05-27</td>\n      <td>34.408304</td>\n      <td>57.493</td>\n      <td>111.709</td>\n      <td>NaN</td>\n      <td>14.8</td>\n      <td>82.0</td>\n      <td>0.933333</td>\n      <td>0.725</td>\n      <td>0.833333</td>\n      <td>-2.124199</td>\n      <td>[LIFETIME_DISTANCE]</td>\n      <td>2325.10</td>\n      <td>62.47493</td>\n      <td>6653.1</td>\n      <td>[Walk]</td>\n      <td>71.725477</td>\n      <td>133</td>\n    </tr>\n    <tr>\n      <th>4</th>\n      <td>621e2e8e67b776a24055b564</td>\n      <td>2021-05-28</td>\n      <td>34.178922</td>\n      <td>56.750</td>\n      <td>103.034</td>\n      <td>NaN</td>\n      <td>15.2</td>\n      <td>81.0</td>\n      <td>0.866667</td>\n      <td>0.725</td>\n      <td>0.866667</td>\n      <td>-2.396873</td>\n      <td>NaN</td>\n      <td>2586.76</td>\n      <td>62.41166</td>\n      <td>9557.9</td>\n      <td>[Walk]</td>\n      <td>74.401028</td>\n      <td>136</td>\n    </tr>\n    <tr>\n      <th>...</th>\n      <td>...</td>\n      <td>...</td>\n      <td>...</td>\n      <td>...</td>\n      <td>...</td>\n      <td>...</td>\n      <td>...</td>\n      <td>...</td>\n      <td>...</td>\n      <td>...</td>\n      <td>...</td>\n      <td>...</td>\n      <td>...</td>\n      <td>...</td>\n      <td>...</td>\n      <td>...</td>\n      <td>...</td>\n      <td>...</td>\n      <td>...</td>\n    </tr>\n    <tr>\n      <th>7106</th>\n      <td>621e375b67b776a240290cdc</td>\n      <td>2021-08-13</td>\n      <td>NaN</td>\n      <td>NaN</td>\n      <td>NaN</td>\n      <td>NaN</td>\n      <td>NaN</td>\n      <td>NaN</td>\n      <td>NaN</td>\n      <td>NaN</td>\n      <td>NaN</td>\n      <td>NaN</td>\n      <td>NaN</td>\n      <td>1296.00</td>\n      <td>NaN</td>\n      <td>NaN</td>\n      <td>NaN</td>\n      <td>NaN</td>\n      <td>0</td>\n    </tr>\n    <tr>\n      <th>7107</th>\n      <td>621e375b67b776a240290cdc</td>\n      <td>2021-08-14</td>\n      <td>NaN</td>\n      <td>NaN</td>\n      <td>NaN</td>\n      <td>NaN</td>\n      <td>NaN</td>\n      <td>NaN</td>\n      <td>NaN</td>\n      <td>NaN</td>\n      <td>NaN</td>\n      <td>NaN</td>\n      <td>NaN</td>\n      <td>1296.00</td>\n      <td>NaN</td>\n      <td>NaN</td>\n      <td>NaN</td>\n      <td>NaN</td>\n      <td>0</td>\n    </tr>\n    <tr>\n      <th>7108</th>\n      <td>621e375b67b776a240290cdc</td>\n      <td>2021-08-15</td>\n      <td>NaN</td>\n      <td>NaN</td>\n      <td>NaN</td>\n      <td>NaN</td>\n      <td>NaN</td>\n      <td>NaN</td>\n      <td>NaN</td>\n      <td>NaN</td>\n      <td>NaN</td>\n      <td>NaN</td>\n      <td>NaN</td>\n      <td>1296.00</td>\n      <td>NaN</td>\n      <td>NaN</td>\n      <td>NaN</td>\n      <td>NaN</td>\n      <td>0</td>\n    </tr>\n    <tr>\n      <th>7109</th>\n      <td>621e375b67b776a240290cdc</td>\n      <td>2021-08-16</td>\n      <td>NaN</td>\n      <td>NaN</td>\n      <td>NaN</td>\n      <td>NaN</td>\n      <td>NaN</td>\n      <td>NaN</td>\n      <td>NaN</td>\n      <td>NaN</td>\n      <td>NaN</td>\n      <td>NaN</td>\n      <td>NaN</td>\n      <td>1296.00</td>\n      <td>NaN</td>\n      <td>NaN</td>\n      <td>NaN</td>\n      <td>NaN</td>\n      <td>0</td>\n    </tr>\n    <tr>\n      <th>7110</th>\n      <td>621e375b67b776a240290cdc</td>\n      <td>2021-08-17</td>\n      <td>NaN</td>\n      <td>NaN</td>\n      <td>NaN</td>\n      <td>NaN</td>\n      <td>NaN</td>\n      <td>NaN</td>\n      <td>NaN</td>\n      <td>NaN</td>\n      <td>NaN</td>\n      <td>NaN</td>\n      <td>NaN</td>\n      <td>635.40</td>\n      <td>NaN</td>\n      <td>NaN</td>\n      <td>NaN</td>\n      <td>NaN</td>\n      <td>0</td>\n    </tr>\n  </tbody>\n</table>\n<p>7111 rows × 19 columns</p>\n</div>"
     },
     "execution_count": 34,
     "metadata": {},
     "output_type": "execute_result"
    }
   ],
   "source": [
    "users_active_minutes = pd.DataFrame(columns=[\"id\", \"data\"])\n",
    "for user in users:\n",
    "    user_data = pd.DataFrame(list(\n",
    "        db.fitbit.find({\"$and\": [\n",
    "            {\"type\": \"lightly_active_minutes\"},\n",
    "            {\"id\": user}\n",
    "        ]},\n",
    "            {\"id\": 1, \"data.dateTime\": 1, \"data.value\": 1, \"_id\": 0}\n",
    "        )\n",
    "    ))\n",
    "\n",
    "    users_active_minutes = pd.concat([users_active_minutes, user_data], axis=0)\n",
    "\n",
    "# split data column (json format) into two columns\n",
    "users_active_minutes[\"date\"] = users_active_minutes[\"data\"].apply(lambda d: d[\"dateTime\"])\n",
    "users_active_minutes[\"lightly_active_minutes\"] = users_active_minutes[\"data\"].apply(lambda d: d[\"value\"])\n",
    "users_active_minutes.drop([\"data\"], inplace=True, axis=1)\n",
    "\n",
    "# convert timestamp date object and then to datetime64[ns]\n",
    "users_active_minutes[\"date\"] = pd.to_datetime(pd.to_datetime(users_active_minutes[\"date\"], format=\"%m/%d/%y %H:%M:%S\").dt.date, format=\"%Y/%m/%d\")\n",
    "\n",
    "# merge\n",
    "df = df.merge(users_active_minutes, how='outer', on=['id', 'date'])\n",
    "\n",
    "# drop duplicates\n",
    "df = df.groupby([\"id\", \"date\"]).max()\n",
    "df.reset_index(drop=False, inplace=True)\n",
    "df"
   ],
   "metadata": {
    "collapsed": false,
    "pycharm": {
     "name": "#%%\n"
    }
   }
  },
  {
   "cell_type": "markdown",
   "source": [
    "Moderately Active Minutes"
   ],
   "metadata": {
    "collapsed": false,
    "pycharm": {
     "name": "#%% md\n"
    }
   }
  },
  {
   "cell_type": "code",
   "execution_count": 35,
   "outputs": [
    {
     "data": {
      "text/plain": "                            id       date  nightly_temperature  nremhr  \\\n0     621e2e8e67b776a24055b564 2021-05-24            34.137687  57.432   \n1     621e2e8e67b776a24055b564 2021-05-25            33.794544  57.681   \n2     621e2e8e67b776a24055b564 2021-05-26            34.611011  57.481   \n3     621e2e8e67b776a24055b564 2021-05-27            34.408304  57.493   \n4     621e2e8e67b776a24055b564 2021-05-28            34.178922  56.750   \n...                        ...        ...                  ...     ...   \n7106  621e375b67b776a240290cdc 2021-08-13                  NaN     NaN   \n7107  621e375b67b776a240290cdc 2021-08-14                  NaN     NaN   \n7108  621e375b67b776a240290cdc 2021-08-15                  NaN     NaN   \n7109  621e375b67b776a240290cdc 2021-08-16                  NaN     NaN   \n7110  621e375b67b776a240290cdc 2021-08-17                  NaN     NaN   \n\n        rmssd  spo2  full_sleep_breathing_rate  stress_score  \\\n0      89.603   NaN                       14.8          78.0   \n1      94.303   NaN                       15.8          80.0   \n2     119.212   NaN                       14.6          84.0   \n3     111.709   NaN                       14.8          82.0   \n4     103.034   NaN                       15.2          81.0   \n...       ...   ...                        ...           ...   \n7106      NaN   NaN                        NaN           NaN   \n7107      NaN   NaN                        NaN           NaN   \n7108      NaN   NaN                        NaN           NaN   \n7109      NaN   NaN                        NaN           NaN   \n7110      NaN   NaN                        NaN           NaN   \n\n      sleep_points_percentage  exertion_points_percentage  \\\n0                    0.833333                       0.675   \n1                    0.833333                       0.725   \n2                    0.966667                       0.725   \n3                    0.933333                       0.725   \n4                    0.866667                       0.725   \n...                       ...                         ...   \n7106                      NaN                         NaN   \n7107                      NaN                         NaN   \n7108                      NaN                         NaN   \n7109                      NaN                         NaN   \n7110                      NaN                         NaN   \n\n      responsiveness_points_percentage  daily_temperature_variation  \\\n0                             0.866667                    -1.788325   \n1                             0.866667                    -2.462709   \n2                             0.866667                    -2.385801   \n3                             0.833333                    -2.124199   \n4                             0.866667                    -2.396873   \n...                                ...                          ...   \n7106                               NaN                          NaN   \n7107                               NaN                          NaN   \n7108                               NaN                          NaN   \n7109                               NaN                          NaN   \n7110                               NaN                          NaN   \n\n                badgeType  calories  filteredDemographicVO2Max  distance  \\\n0                     NaN   2351.59                   62.79210    6517.5   \n1                     NaN   2332.08                   62.67912    7178.6   \n2                     NaN   2262.30                   62.57307    6090.9   \n3     [LIFETIME_DISTANCE]   2325.10                   62.47493    6653.1   \n4                     NaN   2586.76                   62.41166    9557.9   \n...                   ...       ...                        ...       ...   \n7106                  NaN   1296.00                        NaN       NaN   \n7107                  NaN   1296.00                        NaN       NaN   \n7108                  NaN   1296.00                        NaN       NaN   \n7109                  NaN   1296.00                        NaN       NaN   \n7110                  NaN    635.40                        NaN       NaN   \n\n     activityType        bpm lightly_active_minutes moderately_active_minutes  \n0          [Walk]  71.701565                    149                        24  \n1          [Walk]  70.579300                    132                        25  \n2          [Walk]  71.842573                    112                        27  \n3          [Walk]  71.725477                    133                        21  \n4          [Walk]  74.401028                    136                        42  \n...           ...        ...                    ...                       ...  \n7106          NaN        NaN                      0                         0  \n7107          NaN        NaN                      0                         0  \n7108          NaN        NaN                      0                         0  \n7109          NaN        NaN                      0                         0  \n7110          NaN        NaN                      0                         0  \n\n[7111 rows x 20 columns]",
      "text/html": "<div>\n<style scoped>\n    .dataframe tbody tr th:only-of-type {\n        vertical-align: middle;\n    }\n\n    .dataframe tbody tr th {\n        vertical-align: top;\n    }\n\n    .dataframe thead th {\n        text-align: right;\n    }\n</style>\n<table border=\"1\" class=\"dataframe\">\n  <thead>\n    <tr style=\"text-align: right;\">\n      <th></th>\n      <th>id</th>\n      <th>date</th>\n      <th>nightly_temperature</th>\n      <th>nremhr</th>\n      <th>rmssd</th>\n      <th>spo2</th>\n      <th>full_sleep_breathing_rate</th>\n      <th>stress_score</th>\n      <th>sleep_points_percentage</th>\n      <th>exertion_points_percentage</th>\n      <th>responsiveness_points_percentage</th>\n      <th>daily_temperature_variation</th>\n      <th>badgeType</th>\n      <th>calories</th>\n      <th>filteredDemographicVO2Max</th>\n      <th>distance</th>\n      <th>activityType</th>\n      <th>bpm</th>\n      <th>lightly_active_minutes</th>\n      <th>moderately_active_minutes</th>\n    </tr>\n  </thead>\n  <tbody>\n    <tr>\n      <th>0</th>\n      <td>621e2e8e67b776a24055b564</td>\n      <td>2021-05-24</td>\n      <td>34.137687</td>\n      <td>57.432</td>\n      <td>89.603</td>\n      <td>NaN</td>\n      <td>14.8</td>\n      <td>78.0</td>\n      <td>0.833333</td>\n      <td>0.675</td>\n      <td>0.866667</td>\n      <td>-1.788325</td>\n      <td>NaN</td>\n      <td>2351.59</td>\n      <td>62.79210</td>\n      <td>6517.5</td>\n      <td>[Walk]</td>\n      <td>71.701565</td>\n      <td>149</td>\n      <td>24</td>\n    </tr>\n    <tr>\n      <th>1</th>\n      <td>621e2e8e67b776a24055b564</td>\n      <td>2021-05-25</td>\n      <td>33.794544</td>\n      <td>57.681</td>\n      <td>94.303</td>\n      <td>NaN</td>\n      <td>15.8</td>\n      <td>80.0</td>\n      <td>0.833333</td>\n      <td>0.725</td>\n      <td>0.866667</td>\n      <td>-2.462709</td>\n      <td>NaN</td>\n      <td>2332.08</td>\n      <td>62.67912</td>\n      <td>7178.6</td>\n      <td>[Walk]</td>\n      <td>70.579300</td>\n      <td>132</td>\n      <td>25</td>\n    </tr>\n    <tr>\n      <th>2</th>\n      <td>621e2e8e67b776a24055b564</td>\n      <td>2021-05-26</td>\n      <td>34.611011</td>\n      <td>57.481</td>\n      <td>119.212</td>\n      <td>NaN</td>\n      <td>14.6</td>\n      <td>84.0</td>\n      <td>0.966667</td>\n      <td>0.725</td>\n      <td>0.866667</td>\n      <td>-2.385801</td>\n      <td>NaN</td>\n      <td>2262.30</td>\n      <td>62.57307</td>\n      <td>6090.9</td>\n      <td>[Walk]</td>\n      <td>71.842573</td>\n      <td>112</td>\n      <td>27</td>\n    </tr>\n    <tr>\n      <th>3</th>\n      <td>621e2e8e67b776a24055b564</td>\n      <td>2021-05-27</td>\n      <td>34.408304</td>\n      <td>57.493</td>\n      <td>111.709</td>\n      <td>NaN</td>\n      <td>14.8</td>\n      <td>82.0</td>\n      <td>0.933333</td>\n      <td>0.725</td>\n      <td>0.833333</td>\n      <td>-2.124199</td>\n      <td>[LIFETIME_DISTANCE]</td>\n      <td>2325.10</td>\n      <td>62.47493</td>\n      <td>6653.1</td>\n      <td>[Walk]</td>\n      <td>71.725477</td>\n      <td>133</td>\n      <td>21</td>\n    </tr>\n    <tr>\n      <th>4</th>\n      <td>621e2e8e67b776a24055b564</td>\n      <td>2021-05-28</td>\n      <td>34.178922</td>\n      <td>56.750</td>\n      <td>103.034</td>\n      <td>NaN</td>\n      <td>15.2</td>\n      <td>81.0</td>\n      <td>0.866667</td>\n      <td>0.725</td>\n      <td>0.866667</td>\n      <td>-2.396873</td>\n      <td>NaN</td>\n      <td>2586.76</td>\n      <td>62.41166</td>\n      <td>9557.9</td>\n      <td>[Walk]</td>\n      <td>74.401028</td>\n      <td>136</td>\n      <td>42</td>\n    </tr>\n    <tr>\n      <th>...</th>\n      <td>...</td>\n      <td>...</td>\n      <td>...</td>\n      <td>...</td>\n      <td>...</td>\n      <td>...</td>\n      <td>...</td>\n      <td>...</td>\n      <td>...</td>\n      <td>...</td>\n      <td>...</td>\n      <td>...</td>\n      <td>...</td>\n      <td>...</td>\n      <td>...</td>\n      <td>...</td>\n      <td>...</td>\n      <td>...</td>\n      <td>...</td>\n      <td>...</td>\n    </tr>\n    <tr>\n      <th>7106</th>\n      <td>621e375b67b776a240290cdc</td>\n      <td>2021-08-13</td>\n      <td>NaN</td>\n      <td>NaN</td>\n      <td>NaN</td>\n      <td>NaN</td>\n      <td>NaN</td>\n      <td>NaN</td>\n      <td>NaN</td>\n      <td>NaN</td>\n      <td>NaN</td>\n      <td>NaN</td>\n      <td>NaN</td>\n      <td>1296.00</td>\n      <td>NaN</td>\n      <td>NaN</td>\n      <td>NaN</td>\n      <td>NaN</td>\n      <td>0</td>\n      <td>0</td>\n    </tr>\n    <tr>\n      <th>7107</th>\n      <td>621e375b67b776a240290cdc</td>\n      <td>2021-08-14</td>\n      <td>NaN</td>\n      <td>NaN</td>\n      <td>NaN</td>\n      <td>NaN</td>\n      <td>NaN</td>\n      <td>NaN</td>\n      <td>NaN</td>\n      <td>NaN</td>\n      <td>NaN</td>\n      <td>NaN</td>\n      <td>NaN</td>\n      <td>1296.00</td>\n      <td>NaN</td>\n      <td>NaN</td>\n      <td>NaN</td>\n      <td>NaN</td>\n      <td>0</td>\n      <td>0</td>\n    </tr>\n    <tr>\n      <th>7108</th>\n      <td>621e375b67b776a240290cdc</td>\n      <td>2021-08-15</td>\n      <td>NaN</td>\n      <td>NaN</td>\n      <td>NaN</td>\n      <td>NaN</td>\n      <td>NaN</td>\n      <td>NaN</td>\n      <td>NaN</td>\n      <td>NaN</td>\n      <td>NaN</td>\n      <td>NaN</td>\n      <td>NaN</td>\n      <td>1296.00</td>\n      <td>NaN</td>\n      <td>NaN</td>\n      <td>NaN</td>\n      <td>NaN</td>\n      <td>0</td>\n      <td>0</td>\n    </tr>\n    <tr>\n      <th>7109</th>\n      <td>621e375b67b776a240290cdc</td>\n      <td>2021-08-16</td>\n      <td>NaN</td>\n      <td>NaN</td>\n      <td>NaN</td>\n      <td>NaN</td>\n      <td>NaN</td>\n      <td>NaN</td>\n      <td>NaN</td>\n      <td>NaN</td>\n      <td>NaN</td>\n      <td>NaN</td>\n      <td>NaN</td>\n      <td>1296.00</td>\n      <td>NaN</td>\n      <td>NaN</td>\n      <td>NaN</td>\n      <td>NaN</td>\n      <td>0</td>\n      <td>0</td>\n    </tr>\n    <tr>\n      <th>7110</th>\n      <td>621e375b67b776a240290cdc</td>\n      <td>2021-08-17</td>\n      <td>NaN</td>\n      <td>NaN</td>\n      <td>NaN</td>\n      <td>NaN</td>\n      <td>NaN</td>\n      <td>NaN</td>\n      <td>NaN</td>\n      <td>NaN</td>\n      <td>NaN</td>\n      <td>NaN</td>\n      <td>NaN</td>\n      <td>635.40</td>\n      <td>NaN</td>\n      <td>NaN</td>\n      <td>NaN</td>\n      <td>NaN</td>\n      <td>0</td>\n      <td>0</td>\n    </tr>\n  </tbody>\n</table>\n<p>7111 rows × 20 columns</p>\n</div>"
     },
     "execution_count": 35,
     "metadata": {},
     "output_type": "execute_result"
    }
   ],
   "source": [
    "users_active_minutes = pd.DataFrame(columns=[\"id\", \"data\"])\n",
    "for user in users:\n",
    "    user_data = pd.DataFrame(list(\n",
    "        db.fitbit.find({\"$and\": [\n",
    "            {\"type\": \"moderately_active_minutes\"},\n",
    "            {\"id\": user}\n",
    "        ]},\n",
    "            {\"id\": 1, \"data.dateTime\": 1, \"data.value\": 1, \"_id\": 0}\n",
    "        )\n",
    "    ))\n",
    "\n",
    "    users_active_minutes = pd.concat([users_active_minutes, user_data], axis=0)\n",
    "\n",
    "# split data column (json format) into two columns\n",
    "users_active_minutes[\"date\"] = users_active_minutes[\"data\"].apply(lambda d: d[\"dateTime\"])\n",
    "users_active_minutes[\"moderately_active_minutes\"] = users_active_minutes[\"data\"].apply(lambda d: d[\"value\"])\n",
    "users_active_minutes.drop([\"data\"], inplace=True, axis=1)\n",
    "\n",
    "# convert timestamp date object and then to datetime64[ns]\n",
    "users_active_minutes[\"date\"] = pd.to_datetime(pd.to_datetime(users_active_minutes[\"date\"], format=\"%m/%d/%y %H:%M:%S\").dt.date, format=\"%Y/%m/%d\")\n",
    "\n",
    "# merge\n",
    "df = df.merge(users_active_minutes, how='outer', on=['id', 'date'])\n",
    "\n",
    "# drop duplicates\n",
    "df = df.groupby([\"id\", \"date\"]).max()\n",
    "df.reset_index(drop=False, inplace=True)\n",
    "df"
   ],
   "metadata": {
    "collapsed": false,
    "pycharm": {
     "name": "#%%\n"
    }
   }
  },
  {
   "cell_type": "markdown",
   "source": [
    "Very Active Minutes"
   ],
   "metadata": {
    "collapsed": false,
    "pycharm": {
     "name": "#%% md\n"
    }
   }
  },
  {
   "cell_type": "code",
   "execution_count": 36,
   "outputs": [
    {
     "data": {
      "text/plain": "                            id       date  nightly_temperature  nremhr  \\\n0     621e2e8e67b776a24055b564 2021-05-24            34.137687  57.432   \n1     621e2e8e67b776a24055b564 2021-05-25            33.794544  57.681   \n2     621e2e8e67b776a24055b564 2021-05-26            34.611011  57.481   \n3     621e2e8e67b776a24055b564 2021-05-27            34.408304  57.493   \n4     621e2e8e67b776a24055b564 2021-05-28            34.178922  56.750   \n...                        ...        ...                  ...     ...   \n7106  621e375b67b776a240290cdc 2021-08-13                  NaN     NaN   \n7107  621e375b67b776a240290cdc 2021-08-14                  NaN     NaN   \n7108  621e375b67b776a240290cdc 2021-08-15                  NaN     NaN   \n7109  621e375b67b776a240290cdc 2021-08-16                  NaN     NaN   \n7110  621e375b67b776a240290cdc 2021-08-17                  NaN     NaN   \n\n        rmssd  spo2  full_sleep_breathing_rate  stress_score  \\\n0      89.603   NaN                       14.8          78.0   \n1      94.303   NaN                       15.8          80.0   \n2     119.212   NaN                       14.6          84.0   \n3     111.709   NaN                       14.8          82.0   \n4     103.034   NaN                       15.2          81.0   \n...       ...   ...                        ...           ...   \n7106      NaN   NaN                        NaN           NaN   \n7107      NaN   NaN                        NaN           NaN   \n7108      NaN   NaN                        NaN           NaN   \n7109      NaN   NaN                        NaN           NaN   \n7110      NaN   NaN                        NaN           NaN   \n\n      sleep_points_percentage  exertion_points_percentage  ...  \\\n0                    0.833333                       0.675  ...   \n1                    0.833333                       0.725  ...   \n2                    0.966667                       0.725  ...   \n3                    0.933333                       0.725  ...   \n4                    0.866667                       0.725  ...   \n...                       ...                         ...  ...   \n7106                      NaN                         NaN  ...   \n7107                      NaN                         NaN  ...   \n7108                      NaN                         NaN  ...   \n7109                      NaN                         NaN  ...   \n7110                      NaN                         NaN  ...   \n\n      daily_temperature_variation            badgeType calories  \\\n0                       -1.788325                  NaN  2351.59   \n1                       -2.462709                  NaN  2332.08   \n2                       -2.385801                  NaN  2262.30   \n3                       -2.124199  [LIFETIME_DISTANCE]  2325.10   \n4                       -2.396873                  NaN  2586.76   \n...                           ...                  ...      ...   \n7106                          NaN                  NaN  1296.00   \n7107                          NaN                  NaN  1296.00   \n7108                          NaN                  NaN  1296.00   \n7109                          NaN                  NaN  1296.00   \n7110                          NaN                  NaN   635.40   \n\n      filteredDemographicVO2Max  distance  activityType        bpm  \\\n0                      62.79210    6517.5        [Walk]  71.701565   \n1                      62.67912    7178.6        [Walk]  70.579300   \n2                      62.57307    6090.9        [Walk]  71.842573   \n3                      62.47493    6653.1        [Walk]  71.725477   \n4                      62.41166    9557.9        [Walk]  74.401028   \n...                         ...       ...           ...        ...   \n7106                        NaN       NaN           NaN        NaN   \n7107                        NaN       NaN           NaN        NaN   \n7108                        NaN       NaN           NaN        NaN   \n7109                        NaN       NaN           NaN        NaN   \n7110                        NaN       NaN           NaN        NaN   \n\n      lightly_active_minutes moderately_active_minutes very_active_minutes  \n0                        149                        24                  33  \n1                        132                        25                  31  \n2                        112                        27                  31  \n3                        133                        21                  37  \n4                        136                        42                  54  \n...                      ...                       ...                 ...  \n7106                       0                         0                   0  \n7107                       0                         0                   0  \n7108                       0                         0                   0  \n7109                       0                         0                   0  \n7110                       0                         0                   0  \n\n[7111 rows x 21 columns]",
      "text/html": "<div>\n<style scoped>\n    .dataframe tbody tr th:only-of-type {\n        vertical-align: middle;\n    }\n\n    .dataframe tbody tr th {\n        vertical-align: top;\n    }\n\n    .dataframe thead th {\n        text-align: right;\n    }\n</style>\n<table border=\"1\" class=\"dataframe\">\n  <thead>\n    <tr style=\"text-align: right;\">\n      <th></th>\n      <th>id</th>\n      <th>date</th>\n      <th>nightly_temperature</th>\n      <th>nremhr</th>\n      <th>rmssd</th>\n      <th>spo2</th>\n      <th>full_sleep_breathing_rate</th>\n      <th>stress_score</th>\n      <th>sleep_points_percentage</th>\n      <th>exertion_points_percentage</th>\n      <th>...</th>\n      <th>daily_temperature_variation</th>\n      <th>badgeType</th>\n      <th>calories</th>\n      <th>filteredDemographicVO2Max</th>\n      <th>distance</th>\n      <th>activityType</th>\n      <th>bpm</th>\n      <th>lightly_active_minutes</th>\n      <th>moderately_active_minutes</th>\n      <th>very_active_minutes</th>\n    </tr>\n  </thead>\n  <tbody>\n    <tr>\n      <th>0</th>\n      <td>621e2e8e67b776a24055b564</td>\n      <td>2021-05-24</td>\n      <td>34.137687</td>\n      <td>57.432</td>\n      <td>89.603</td>\n      <td>NaN</td>\n      <td>14.8</td>\n      <td>78.0</td>\n      <td>0.833333</td>\n      <td>0.675</td>\n      <td>...</td>\n      <td>-1.788325</td>\n      <td>NaN</td>\n      <td>2351.59</td>\n      <td>62.79210</td>\n      <td>6517.5</td>\n      <td>[Walk]</td>\n      <td>71.701565</td>\n      <td>149</td>\n      <td>24</td>\n      <td>33</td>\n    </tr>\n    <tr>\n      <th>1</th>\n      <td>621e2e8e67b776a24055b564</td>\n      <td>2021-05-25</td>\n      <td>33.794544</td>\n      <td>57.681</td>\n      <td>94.303</td>\n      <td>NaN</td>\n      <td>15.8</td>\n      <td>80.0</td>\n      <td>0.833333</td>\n      <td>0.725</td>\n      <td>...</td>\n      <td>-2.462709</td>\n      <td>NaN</td>\n      <td>2332.08</td>\n      <td>62.67912</td>\n      <td>7178.6</td>\n      <td>[Walk]</td>\n      <td>70.579300</td>\n      <td>132</td>\n      <td>25</td>\n      <td>31</td>\n    </tr>\n    <tr>\n      <th>2</th>\n      <td>621e2e8e67b776a24055b564</td>\n      <td>2021-05-26</td>\n      <td>34.611011</td>\n      <td>57.481</td>\n      <td>119.212</td>\n      <td>NaN</td>\n      <td>14.6</td>\n      <td>84.0</td>\n      <td>0.966667</td>\n      <td>0.725</td>\n      <td>...</td>\n      <td>-2.385801</td>\n      <td>NaN</td>\n      <td>2262.30</td>\n      <td>62.57307</td>\n      <td>6090.9</td>\n      <td>[Walk]</td>\n      <td>71.842573</td>\n      <td>112</td>\n      <td>27</td>\n      <td>31</td>\n    </tr>\n    <tr>\n      <th>3</th>\n      <td>621e2e8e67b776a24055b564</td>\n      <td>2021-05-27</td>\n      <td>34.408304</td>\n      <td>57.493</td>\n      <td>111.709</td>\n      <td>NaN</td>\n      <td>14.8</td>\n      <td>82.0</td>\n      <td>0.933333</td>\n      <td>0.725</td>\n      <td>...</td>\n      <td>-2.124199</td>\n      <td>[LIFETIME_DISTANCE]</td>\n      <td>2325.10</td>\n      <td>62.47493</td>\n      <td>6653.1</td>\n      <td>[Walk]</td>\n      <td>71.725477</td>\n      <td>133</td>\n      <td>21</td>\n      <td>37</td>\n    </tr>\n    <tr>\n      <th>4</th>\n      <td>621e2e8e67b776a24055b564</td>\n      <td>2021-05-28</td>\n      <td>34.178922</td>\n      <td>56.750</td>\n      <td>103.034</td>\n      <td>NaN</td>\n      <td>15.2</td>\n      <td>81.0</td>\n      <td>0.866667</td>\n      <td>0.725</td>\n      <td>...</td>\n      <td>-2.396873</td>\n      <td>NaN</td>\n      <td>2586.76</td>\n      <td>62.41166</td>\n      <td>9557.9</td>\n      <td>[Walk]</td>\n      <td>74.401028</td>\n      <td>136</td>\n      <td>42</td>\n      <td>54</td>\n    </tr>\n    <tr>\n      <th>...</th>\n      <td>...</td>\n      <td>...</td>\n      <td>...</td>\n      <td>...</td>\n      <td>...</td>\n      <td>...</td>\n      <td>...</td>\n      <td>...</td>\n      <td>...</td>\n      <td>...</td>\n      <td>...</td>\n      <td>...</td>\n      <td>...</td>\n      <td>...</td>\n      <td>...</td>\n      <td>...</td>\n      <td>...</td>\n      <td>...</td>\n      <td>...</td>\n      <td>...</td>\n      <td>...</td>\n    </tr>\n    <tr>\n      <th>7106</th>\n      <td>621e375b67b776a240290cdc</td>\n      <td>2021-08-13</td>\n      <td>NaN</td>\n      <td>NaN</td>\n      <td>NaN</td>\n      <td>NaN</td>\n      <td>NaN</td>\n      <td>NaN</td>\n      <td>NaN</td>\n      <td>NaN</td>\n      <td>...</td>\n      <td>NaN</td>\n      <td>NaN</td>\n      <td>1296.00</td>\n      <td>NaN</td>\n      <td>NaN</td>\n      <td>NaN</td>\n      <td>NaN</td>\n      <td>0</td>\n      <td>0</td>\n      <td>0</td>\n    </tr>\n    <tr>\n      <th>7107</th>\n      <td>621e375b67b776a240290cdc</td>\n      <td>2021-08-14</td>\n      <td>NaN</td>\n      <td>NaN</td>\n      <td>NaN</td>\n      <td>NaN</td>\n      <td>NaN</td>\n      <td>NaN</td>\n      <td>NaN</td>\n      <td>NaN</td>\n      <td>...</td>\n      <td>NaN</td>\n      <td>NaN</td>\n      <td>1296.00</td>\n      <td>NaN</td>\n      <td>NaN</td>\n      <td>NaN</td>\n      <td>NaN</td>\n      <td>0</td>\n      <td>0</td>\n      <td>0</td>\n    </tr>\n    <tr>\n      <th>7108</th>\n      <td>621e375b67b776a240290cdc</td>\n      <td>2021-08-15</td>\n      <td>NaN</td>\n      <td>NaN</td>\n      <td>NaN</td>\n      <td>NaN</td>\n      <td>NaN</td>\n      <td>NaN</td>\n      <td>NaN</td>\n      <td>NaN</td>\n      <td>...</td>\n      <td>NaN</td>\n      <td>NaN</td>\n      <td>1296.00</td>\n      <td>NaN</td>\n      <td>NaN</td>\n      <td>NaN</td>\n      <td>NaN</td>\n      <td>0</td>\n      <td>0</td>\n      <td>0</td>\n    </tr>\n    <tr>\n      <th>7109</th>\n      <td>621e375b67b776a240290cdc</td>\n      <td>2021-08-16</td>\n      <td>NaN</td>\n      <td>NaN</td>\n      <td>NaN</td>\n      <td>NaN</td>\n      <td>NaN</td>\n      <td>NaN</td>\n      <td>NaN</td>\n      <td>NaN</td>\n      <td>...</td>\n      <td>NaN</td>\n      <td>NaN</td>\n      <td>1296.00</td>\n      <td>NaN</td>\n      <td>NaN</td>\n      <td>NaN</td>\n      <td>NaN</td>\n      <td>0</td>\n      <td>0</td>\n      <td>0</td>\n    </tr>\n    <tr>\n      <th>7110</th>\n      <td>621e375b67b776a240290cdc</td>\n      <td>2021-08-17</td>\n      <td>NaN</td>\n      <td>NaN</td>\n      <td>NaN</td>\n      <td>NaN</td>\n      <td>NaN</td>\n      <td>NaN</td>\n      <td>NaN</td>\n      <td>NaN</td>\n      <td>...</td>\n      <td>NaN</td>\n      <td>NaN</td>\n      <td>635.40</td>\n      <td>NaN</td>\n      <td>NaN</td>\n      <td>NaN</td>\n      <td>NaN</td>\n      <td>0</td>\n      <td>0</td>\n      <td>0</td>\n    </tr>\n  </tbody>\n</table>\n<p>7111 rows × 21 columns</p>\n</div>"
     },
     "execution_count": 36,
     "metadata": {},
     "output_type": "execute_result"
    }
   ],
   "source": [
    "users_active_minutes = pd.DataFrame(columns=[\"id\", \"data\"])\n",
    "for user in users:\n",
    "    user_data = pd.DataFrame(list(\n",
    "        db.fitbit.find({\"$and\": [\n",
    "            {\"type\": \"very_active_minutes\"},\n",
    "            {\"id\": user}\n",
    "        ]},\n",
    "            {\"id\": 1, \"data.dateTime\": 1, \"data.value\": 1, \"_id\": 0}\n",
    "        )\n",
    "    ))\n",
    "\n",
    "    users_active_minutes = pd.concat([users_active_minutes, user_data], axis=0)\n",
    "\n",
    "# split data column (json format) into two columns\n",
    "users_active_minutes[\"date\"] = users_active_minutes[\"data\"].apply(lambda d: d[\"dateTime\"])\n",
    "users_active_minutes[\"very_active_minutes\"] = users_active_minutes[\"data\"].apply(lambda d: d[\"value\"])\n",
    "users_active_minutes.drop([\"data\"], inplace=True, axis=1)\n",
    "\n",
    "# convert timestamp date object and then to datetime64[ns]\n",
    "users_active_minutes[\"date\"] = pd.to_datetime(pd.to_datetime(users_active_minutes[\"date\"], format=\"%m/%d/%y %H:%M:%S\").dt.date, format=\"%Y/%m/%d\")\n",
    "\n",
    "# merge\n",
    "df = df.merge(users_active_minutes, how='outer', on=['id', 'date'])\n",
    "\n",
    "# drop duplicates\n",
    "df = df.groupby([\"id\", \"date\"]).max()\n",
    "df.reset_index(drop=False, inplace=True)\n",
    "df"
   ],
   "metadata": {
    "collapsed": false,
    "pycharm": {
     "name": "#%%\n"
    }
   }
  },
  {
   "cell_type": "markdown",
   "source": [
    "Sedentary Minutes"
   ],
   "metadata": {
    "collapsed": false,
    "pycharm": {
     "name": "#%% md\n"
    }
   }
  },
  {
   "cell_type": "code",
   "execution_count": 37,
   "outputs": [
    {
     "data": {
      "text/plain": "                            id       date  nightly_temperature  nremhr  \\\n0     621e2e8e67b776a24055b564 2021-05-24            34.137687  57.432   \n1     621e2e8e67b776a24055b564 2021-05-25            33.794544  57.681   \n2     621e2e8e67b776a24055b564 2021-05-26            34.611011  57.481   \n3     621e2e8e67b776a24055b564 2021-05-27            34.408304  57.493   \n4     621e2e8e67b776a24055b564 2021-05-28            34.178922  56.750   \n...                        ...        ...                  ...     ...   \n7106  621e375b67b776a240290cdc 2021-08-13                  NaN     NaN   \n7107  621e375b67b776a240290cdc 2021-08-14                  NaN     NaN   \n7108  621e375b67b776a240290cdc 2021-08-15                  NaN     NaN   \n7109  621e375b67b776a240290cdc 2021-08-16                  NaN     NaN   \n7110  621e375b67b776a240290cdc 2021-08-17                  NaN     NaN   \n\n        rmssd  spo2  full_sleep_breathing_rate  stress_score  \\\n0      89.603   NaN                       14.8          78.0   \n1      94.303   NaN                       15.8          80.0   \n2     119.212   NaN                       14.6          84.0   \n3     111.709   NaN                       14.8          82.0   \n4     103.034   NaN                       15.2          81.0   \n...       ...   ...                        ...           ...   \n7106      NaN   NaN                        NaN           NaN   \n7107      NaN   NaN                        NaN           NaN   \n7108      NaN   NaN                        NaN           NaN   \n7109      NaN   NaN                        NaN           NaN   \n7110      NaN   NaN                        NaN           NaN   \n\n      sleep_points_percentage  exertion_points_percentage  ...  \\\n0                    0.833333                       0.675  ...   \n1                    0.833333                       0.725  ...   \n2                    0.966667                       0.725  ...   \n3                    0.933333                       0.725  ...   \n4                    0.866667                       0.725  ...   \n...                       ...                         ...  ...   \n7106                      NaN                         NaN  ...   \n7107                      NaN                         NaN  ...   \n7108                      NaN                         NaN  ...   \n7109                      NaN                         NaN  ...   \n7110                      NaN                         NaN  ...   \n\n                badgeType  calories filteredDemographicVO2Max  distance  \\\n0                     NaN   2351.59                  62.79210    6517.5   \n1                     NaN   2332.08                  62.67912    7178.6   \n2                     NaN   2262.30                  62.57307    6090.9   \n3     [LIFETIME_DISTANCE]   2325.10                  62.47493    6653.1   \n4                     NaN   2586.76                  62.41166    9557.9   \n...                   ...       ...                       ...       ...   \n7106                  NaN   1296.00                       NaN       NaN   \n7107                  NaN   1296.00                       NaN       NaN   \n7108                  NaN   1296.00                       NaN       NaN   \n7109                  NaN   1296.00                       NaN       NaN   \n7110                  NaN    635.40                       NaN       NaN   \n\n      activityType        bpm lightly_active_minutes  \\\n0           [Walk]  71.701565                    149   \n1           [Walk]  70.579300                    132   \n2           [Walk]  71.842573                    112   \n3           [Walk]  71.725477                    133   \n4           [Walk]  74.401028                    136   \n...            ...        ...                    ...   \n7106           NaN        NaN                      0   \n7107           NaN        NaN                      0   \n7108           NaN        NaN                      0   \n7109           NaN        NaN                      0   \n7110           NaN        NaN                      0   \n\n      moderately_active_minutes very_active_minutes sedentary_minutes  \n0                            24                  33               713  \n1                            25                  31               704  \n2                            27                  31               710  \n3                            21                  37               622  \n4                            42                  54               647  \n...                         ...                 ...               ...  \n7106                          0                   0              1440  \n7107                          0                   0              1440  \n7108                          0                   0              1440  \n7109                          0                   0              1440  \n7110                          0                   0               706  \n\n[7111 rows x 22 columns]",
      "text/html": "<div>\n<style scoped>\n    .dataframe tbody tr th:only-of-type {\n        vertical-align: middle;\n    }\n\n    .dataframe tbody tr th {\n        vertical-align: top;\n    }\n\n    .dataframe thead th {\n        text-align: right;\n    }\n</style>\n<table border=\"1\" class=\"dataframe\">\n  <thead>\n    <tr style=\"text-align: right;\">\n      <th></th>\n      <th>id</th>\n      <th>date</th>\n      <th>nightly_temperature</th>\n      <th>nremhr</th>\n      <th>rmssd</th>\n      <th>spo2</th>\n      <th>full_sleep_breathing_rate</th>\n      <th>stress_score</th>\n      <th>sleep_points_percentage</th>\n      <th>exertion_points_percentage</th>\n      <th>...</th>\n      <th>badgeType</th>\n      <th>calories</th>\n      <th>filteredDemographicVO2Max</th>\n      <th>distance</th>\n      <th>activityType</th>\n      <th>bpm</th>\n      <th>lightly_active_minutes</th>\n      <th>moderately_active_minutes</th>\n      <th>very_active_minutes</th>\n      <th>sedentary_minutes</th>\n    </tr>\n  </thead>\n  <tbody>\n    <tr>\n      <th>0</th>\n      <td>621e2e8e67b776a24055b564</td>\n      <td>2021-05-24</td>\n      <td>34.137687</td>\n      <td>57.432</td>\n      <td>89.603</td>\n      <td>NaN</td>\n      <td>14.8</td>\n      <td>78.0</td>\n      <td>0.833333</td>\n      <td>0.675</td>\n      <td>...</td>\n      <td>NaN</td>\n      <td>2351.59</td>\n      <td>62.79210</td>\n      <td>6517.5</td>\n      <td>[Walk]</td>\n      <td>71.701565</td>\n      <td>149</td>\n      <td>24</td>\n      <td>33</td>\n      <td>713</td>\n    </tr>\n    <tr>\n      <th>1</th>\n      <td>621e2e8e67b776a24055b564</td>\n      <td>2021-05-25</td>\n      <td>33.794544</td>\n      <td>57.681</td>\n      <td>94.303</td>\n      <td>NaN</td>\n      <td>15.8</td>\n      <td>80.0</td>\n      <td>0.833333</td>\n      <td>0.725</td>\n      <td>...</td>\n      <td>NaN</td>\n      <td>2332.08</td>\n      <td>62.67912</td>\n      <td>7178.6</td>\n      <td>[Walk]</td>\n      <td>70.579300</td>\n      <td>132</td>\n      <td>25</td>\n      <td>31</td>\n      <td>704</td>\n    </tr>\n    <tr>\n      <th>2</th>\n      <td>621e2e8e67b776a24055b564</td>\n      <td>2021-05-26</td>\n      <td>34.611011</td>\n      <td>57.481</td>\n      <td>119.212</td>\n      <td>NaN</td>\n      <td>14.6</td>\n      <td>84.0</td>\n      <td>0.966667</td>\n      <td>0.725</td>\n      <td>...</td>\n      <td>NaN</td>\n      <td>2262.30</td>\n      <td>62.57307</td>\n      <td>6090.9</td>\n      <td>[Walk]</td>\n      <td>71.842573</td>\n      <td>112</td>\n      <td>27</td>\n      <td>31</td>\n      <td>710</td>\n    </tr>\n    <tr>\n      <th>3</th>\n      <td>621e2e8e67b776a24055b564</td>\n      <td>2021-05-27</td>\n      <td>34.408304</td>\n      <td>57.493</td>\n      <td>111.709</td>\n      <td>NaN</td>\n      <td>14.8</td>\n      <td>82.0</td>\n      <td>0.933333</td>\n      <td>0.725</td>\n      <td>...</td>\n      <td>[LIFETIME_DISTANCE]</td>\n      <td>2325.10</td>\n      <td>62.47493</td>\n      <td>6653.1</td>\n      <td>[Walk]</td>\n      <td>71.725477</td>\n      <td>133</td>\n      <td>21</td>\n      <td>37</td>\n      <td>622</td>\n    </tr>\n    <tr>\n      <th>4</th>\n      <td>621e2e8e67b776a24055b564</td>\n      <td>2021-05-28</td>\n      <td>34.178922</td>\n      <td>56.750</td>\n      <td>103.034</td>\n      <td>NaN</td>\n      <td>15.2</td>\n      <td>81.0</td>\n      <td>0.866667</td>\n      <td>0.725</td>\n      <td>...</td>\n      <td>NaN</td>\n      <td>2586.76</td>\n      <td>62.41166</td>\n      <td>9557.9</td>\n      <td>[Walk]</td>\n      <td>74.401028</td>\n      <td>136</td>\n      <td>42</td>\n      <td>54</td>\n      <td>647</td>\n    </tr>\n    <tr>\n      <th>...</th>\n      <td>...</td>\n      <td>...</td>\n      <td>...</td>\n      <td>...</td>\n      <td>...</td>\n      <td>...</td>\n      <td>...</td>\n      <td>...</td>\n      <td>...</td>\n      <td>...</td>\n      <td>...</td>\n      <td>...</td>\n      <td>...</td>\n      <td>...</td>\n      <td>...</td>\n      <td>...</td>\n      <td>...</td>\n      <td>...</td>\n      <td>...</td>\n      <td>...</td>\n      <td>...</td>\n    </tr>\n    <tr>\n      <th>7106</th>\n      <td>621e375b67b776a240290cdc</td>\n      <td>2021-08-13</td>\n      <td>NaN</td>\n      <td>NaN</td>\n      <td>NaN</td>\n      <td>NaN</td>\n      <td>NaN</td>\n      <td>NaN</td>\n      <td>NaN</td>\n      <td>NaN</td>\n      <td>...</td>\n      <td>NaN</td>\n      <td>1296.00</td>\n      <td>NaN</td>\n      <td>NaN</td>\n      <td>NaN</td>\n      <td>NaN</td>\n      <td>0</td>\n      <td>0</td>\n      <td>0</td>\n      <td>1440</td>\n    </tr>\n    <tr>\n      <th>7107</th>\n      <td>621e375b67b776a240290cdc</td>\n      <td>2021-08-14</td>\n      <td>NaN</td>\n      <td>NaN</td>\n      <td>NaN</td>\n      <td>NaN</td>\n      <td>NaN</td>\n      <td>NaN</td>\n      <td>NaN</td>\n      <td>NaN</td>\n      <td>...</td>\n      <td>NaN</td>\n      <td>1296.00</td>\n      <td>NaN</td>\n      <td>NaN</td>\n      <td>NaN</td>\n      <td>NaN</td>\n      <td>0</td>\n      <td>0</td>\n      <td>0</td>\n      <td>1440</td>\n    </tr>\n    <tr>\n      <th>7108</th>\n      <td>621e375b67b776a240290cdc</td>\n      <td>2021-08-15</td>\n      <td>NaN</td>\n      <td>NaN</td>\n      <td>NaN</td>\n      <td>NaN</td>\n      <td>NaN</td>\n      <td>NaN</td>\n      <td>NaN</td>\n      <td>NaN</td>\n      <td>...</td>\n      <td>NaN</td>\n      <td>1296.00</td>\n      <td>NaN</td>\n      <td>NaN</td>\n      <td>NaN</td>\n      <td>NaN</td>\n      <td>0</td>\n      <td>0</td>\n      <td>0</td>\n      <td>1440</td>\n    </tr>\n    <tr>\n      <th>7109</th>\n      <td>621e375b67b776a240290cdc</td>\n      <td>2021-08-16</td>\n      <td>NaN</td>\n      <td>NaN</td>\n      <td>NaN</td>\n      <td>NaN</td>\n      <td>NaN</td>\n      <td>NaN</td>\n      <td>NaN</td>\n      <td>NaN</td>\n      <td>...</td>\n      <td>NaN</td>\n      <td>1296.00</td>\n      <td>NaN</td>\n      <td>NaN</td>\n      <td>NaN</td>\n      <td>NaN</td>\n      <td>0</td>\n      <td>0</td>\n      <td>0</td>\n      <td>1440</td>\n    </tr>\n    <tr>\n      <th>7110</th>\n      <td>621e375b67b776a240290cdc</td>\n      <td>2021-08-17</td>\n      <td>NaN</td>\n      <td>NaN</td>\n      <td>NaN</td>\n      <td>NaN</td>\n      <td>NaN</td>\n      <td>NaN</td>\n      <td>NaN</td>\n      <td>NaN</td>\n      <td>...</td>\n      <td>NaN</td>\n      <td>635.40</td>\n      <td>NaN</td>\n      <td>NaN</td>\n      <td>NaN</td>\n      <td>NaN</td>\n      <td>0</td>\n      <td>0</td>\n      <td>0</td>\n      <td>706</td>\n    </tr>\n  </tbody>\n</table>\n<p>7111 rows × 22 columns</p>\n</div>"
     },
     "execution_count": 37,
     "metadata": {},
     "output_type": "execute_result"
    }
   ],
   "source": [
    "users_active_minutes = pd.DataFrame(columns=[\"id\", \"data\"])\n",
    "for user in users:\n",
    "    user_data = pd.DataFrame(list(\n",
    "        db.fitbit.find({\"$and\": [\n",
    "            {\"type\": \"sedentary_minutes\"},\n",
    "            {\"id\": user}\n",
    "        ]},\n",
    "            {\"id\": 1, \"data.dateTime\": 1, \"data.value\": 1, \"_id\": 0}\n",
    "        )\n",
    "    ))\n",
    "\n",
    "    users_active_minutes = pd.concat([users_active_minutes, user_data], axis=0)\n",
    "\n",
    "# split data column (json format) into two columns\n",
    "users_active_minutes[\"date\"] = users_active_minutes[\"data\"].apply(lambda d: d[\"dateTime\"])\n",
    "users_active_minutes[\"sedentary_minutes\"] = users_active_minutes[\"data\"].apply(lambda d: d[\"value\"])\n",
    "users_active_minutes.drop([\"data\"], inplace=True, axis=1)\n",
    "\n",
    "# convert timestamp date object and then to datetime64[ns]\n",
    "users_active_minutes[\"date\"] = pd.to_datetime(pd.to_datetime(users_active_minutes[\"date\"], format=\"%m/%d/%y %H:%M:%S\").dt.date, format=\"%Y/%m/%d\")\n",
    "\n",
    "# merge\n",
    "df = df.merge(users_active_minutes, how='outer', on=['id', 'date'])\n",
    "\n",
    "# drop duplicates\n",
    "df.to_pickle(\"data/temp_df_2.pkl\")\n",
    "df = df.groupby([\"id\", \"date\"]).max()\n",
    "df.reset_index(drop=False, inplace=True)\n",
    "df"
   ],
   "metadata": {
    "collapsed": false,
    "pycharm": {
     "name": "#%%\n"
    }
   }
  },
  {
   "cell_type": "markdown",
   "source": [
    "Mindfulness Sessions"
   ],
   "metadata": {
    "collapsed": false,
    "pycharm": {
     "name": "#%% md\n"
    }
   }
  },
  {
   "cell_type": "code",
   "execution_count": 38,
   "outputs": [
    {
     "data": {
      "text/plain": "                            id       date  nightly_temperature  nremhr  \\\n0     621e2e8e67b776a24055b564 2021-05-24            34.137687  57.432   \n1     621e2e8e67b776a24055b564 2021-05-25            33.794544  57.681   \n2     621e2e8e67b776a24055b564 2021-05-26            34.611011  57.481   \n3     621e2e8e67b776a24055b564 2021-05-27            34.408304  57.493   \n4     621e2e8e67b776a24055b564 2021-05-28            34.178922  56.750   \n...                        ...        ...                  ...     ...   \n7106  621e375b67b776a240290cdc 2021-08-13                  NaN     NaN   \n7107  621e375b67b776a240290cdc 2021-08-14                  NaN     NaN   \n7108  621e375b67b776a240290cdc 2021-08-15                  NaN     NaN   \n7109  621e375b67b776a240290cdc 2021-08-16                  NaN     NaN   \n7110  621e375b67b776a240290cdc 2021-08-17                  NaN     NaN   \n\n        rmssd  spo2  full_sleep_breathing_rate  stress_score  \\\n0      89.603   NaN                       14.8          78.0   \n1      94.303   NaN                       15.8          80.0   \n2     119.212   NaN                       14.6          84.0   \n3     111.709   NaN                       14.8          82.0   \n4     103.034   NaN                       15.2          81.0   \n...       ...   ...                        ...           ...   \n7106      NaN   NaN                        NaN           NaN   \n7107      NaN   NaN                        NaN           NaN   \n7108      NaN   NaN                        NaN           NaN   \n7109      NaN   NaN                        NaN           NaN   \n7110      NaN   NaN                        NaN           NaN   \n\n      sleep_points_percentage  exertion_points_percentage  ...  calories  \\\n0                    0.833333                       0.675  ...   2351.59   \n1                    0.833333                       0.725  ...   2332.08   \n2                    0.966667                       0.725  ...   2262.30   \n3                    0.933333                       0.725  ...   2325.10   \n4                    0.866667                       0.725  ...   2586.76   \n...                       ...                         ...  ...       ...   \n7106                      NaN                         NaN  ...   1296.00   \n7107                      NaN                         NaN  ...   1296.00   \n7108                      NaN                         NaN  ...   1296.00   \n7109                      NaN                         NaN  ...   1296.00   \n7110                      NaN                         NaN  ...    635.40   \n\n      filteredDemographicVO2Max distance  activityType        bpm  \\\n0                      62.79210   6517.5        [Walk]  71.701565   \n1                      62.67912   7178.6        [Walk]  70.579300   \n2                      62.57307   6090.9        [Walk]  71.842573   \n3                      62.47493   6653.1        [Walk]  71.725477   \n4                      62.41166   9557.9        [Walk]  74.401028   \n...                         ...      ...           ...        ...   \n7106                        NaN      NaN           NaN        NaN   \n7107                        NaN      NaN           NaN        NaN   \n7108                        NaN      NaN           NaN        NaN   \n7109                        NaN      NaN           NaN        NaN   \n7110                        NaN      NaN           NaN        NaN   \n\n      lightly_active_minutes moderately_active_minutes  very_active_minutes  \\\n0                        149                        24                   33   \n1                        132                        25                   31   \n2                        112                        27                   31   \n3                        133                        21                   37   \n4                        136                        42                   54   \n...                      ...                       ...                  ...   \n7106                       0                         0                    0   \n7107                       0                         0                    0   \n7108                       0                         0                    0   \n7109                       0                         0                    0   \n7110                       0                         0                    0   \n\n     sedentary_minutes mindfulness_session  \n0                  713               False  \n1                  704               False  \n2                  710               False  \n3                  622               False  \n4                  647               False  \n...                ...                 ...  \n7106              1440               False  \n7107              1440               False  \n7108              1440               False  \n7109              1440               False  \n7110               706               False  \n\n[7111 rows x 23 columns]",
      "text/html": "<div>\n<style scoped>\n    .dataframe tbody tr th:only-of-type {\n        vertical-align: middle;\n    }\n\n    .dataframe tbody tr th {\n        vertical-align: top;\n    }\n\n    .dataframe thead th {\n        text-align: right;\n    }\n</style>\n<table border=\"1\" class=\"dataframe\">\n  <thead>\n    <tr style=\"text-align: right;\">\n      <th></th>\n      <th>id</th>\n      <th>date</th>\n      <th>nightly_temperature</th>\n      <th>nremhr</th>\n      <th>rmssd</th>\n      <th>spo2</th>\n      <th>full_sleep_breathing_rate</th>\n      <th>stress_score</th>\n      <th>sleep_points_percentage</th>\n      <th>exertion_points_percentage</th>\n      <th>...</th>\n      <th>calories</th>\n      <th>filteredDemographicVO2Max</th>\n      <th>distance</th>\n      <th>activityType</th>\n      <th>bpm</th>\n      <th>lightly_active_minutes</th>\n      <th>moderately_active_minutes</th>\n      <th>very_active_minutes</th>\n      <th>sedentary_minutes</th>\n      <th>mindfulness_session</th>\n    </tr>\n  </thead>\n  <tbody>\n    <tr>\n      <th>0</th>\n      <td>621e2e8e67b776a24055b564</td>\n      <td>2021-05-24</td>\n      <td>34.137687</td>\n      <td>57.432</td>\n      <td>89.603</td>\n      <td>NaN</td>\n      <td>14.8</td>\n      <td>78.0</td>\n      <td>0.833333</td>\n      <td>0.675</td>\n      <td>...</td>\n      <td>2351.59</td>\n      <td>62.79210</td>\n      <td>6517.5</td>\n      <td>[Walk]</td>\n      <td>71.701565</td>\n      <td>149</td>\n      <td>24</td>\n      <td>33</td>\n      <td>713</td>\n      <td>False</td>\n    </tr>\n    <tr>\n      <th>1</th>\n      <td>621e2e8e67b776a24055b564</td>\n      <td>2021-05-25</td>\n      <td>33.794544</td>\n      <td>57.681</td>\n      <td>94.303</td>\n      <td>NaN</td>\n      <td>15.8</td>\n      <td>80.0</td>\n      <td>0.833333</td>\n      <td>0.725</td>\n      <td>...</td>\n      <td>2332.08</td>\n      <td>62.67912</td>\n      <td>7178.6</td>\n      <td>[Walk]</td>\n      <td>70.579300</td>\n      <td>132</td>\n      <td>25</td>\n      <td>31</td>\n      <td>704</td>\n      <td>False</td>\n    </tr>\n    <tr>\n      <th>2</th>\n      <td>621e2e8e67b776a24055b564</td>\n      <td>2021-05-26</td>\n      <td>34.611011</td>\n      <td>57.481</td>\n      <td>119.212</td>\n      <td>NaN</td>\n      <td>14.6</td>\n      <td>84.0</td>\n      <td>0.966667</td>\n      <td>0.725</td>\n      <td>...</td>\n      <td>2262.30</td>\n      <td>62.57307</td>\n      <td>6090.9</td>\n      <td>[Walk]</td>\n      <td>71.842573</td>\n      <td>112</td>\n      <td>27</td>\n      <td>31</td>\n      <td>710</td>\n      <td>False</td>\n    </tr>\n    <tr>\n      <th>3</th>\n      <td>621e2e8e67b776a24055b564</td>\n      <td>2021-05-27</td>\n      <td>34.408304</td>\n      <td>57.493</td>\n      <td>111.709</td>\n      <td>NaN</td>\n      <td>14.8</td>\n      <td>82.0</td>\n      <td>0.933333</td>\n      <td>0.725</td>\n      <td>...</td>\n      <td>2325.10</td>\n      <td>62.47493</td>\n      <td>6653.1</td>\n      <td>[Walk]</td>\n      <td>71.725477</td>\n      <td>133</td>\n      <td>21</td>\n      <td>37</td>\n      <td>622</td>\n      <td>False</td>\n    </tr>\n    <tr>\n      <th>4</th>\n      <td>621e2e8e67b776a24055b564</td>\n      <td>2021-05-28</td>\n      <td>34.178922</td>\n      <td>56.750</td>\n      <td>103.034</td>\n      <td>NaN</td>\n      <td>15.2</td>\n      <td>81.0</td>\n      <td>0.866667</td>\n      <td>0.725</td>\n      <td>...</td>\n      <td>2586.76</td>\n      <td>62.41166</td>\n      <td>9557.9</td>\n      <td>[Walk]</td>\n      <td>74.401028</td>\n      <td>136</td>\n      <td>42</td>\n      <td>54</td>\n      <td>647</td>\n      <td>False</td>\n    </tr>\n    <tr>\n      <th>...</th>\n      <td>...</td>\n      <td>...</td>\n      <td>...</td>\n      <td>...</td>\n      <td>...</td>\n      <td>...</td>\n      <td>...</td>\n      <td>...</td>\n      <td>...</td>\n      <td>...</td>\n      <td>...</td>\n      <td>...</td>\n      <td>...</td>\n      <td>...</td>\n      <td>...</td>\n      <td>...</td>\n      <td>...</td>\n      <td>...</td>\n      <td>...</td>\n      <td>...</td>\n      <td>...</td>\n    </tr>\n    <tr>\n      <th>7106</th>\n      <td>621e375b67b776a240290cdc</td>\n      <td>2021-08-13</td>\n      <td>NaN</td>\n      <td>NaN</td>\n      <td>NaN</td>\n      <td>NaN</td>\n      <td>NaN</td>\n      <td>NaN</td>\n      <td>NaN</td>\n      <td>NaN</td>\n      <td>...</td>\n      <td>1296.00</td>\n      <td>NaN</td>\n      <td>NaN</td>\n      <td>NaN</td>\n      <td>NaN</td>\n      <td>0</td>\n      <td>0</td>\n      <td>0</td>\n      <td>1440</td>\n      <td>False</td>\n    </tr>\n    <tr>\n      <th>7107</th>\n      <td>621e375b67b776a240290cdc</td>\n      <td>2021-08-14</td>\n      <td>NaN</td>\n      <td>NaN</td>\n      <td>NaN</td>\n      <td>NaN</td>\n      <td>NaN</td>\n      <td>NaN</td>\n      <td>NaN</td>\n      <td>NaN</td>\n      <td>...</td>\n      <td>1296.00</td>\n      <td>NaN</td>\n      <td>NaN</td>\n      <td>NaN</td>\n      <td>NaN</td>\n      <td>0</td>\n      <td>0</td>\n      <td>0</td>\n      <td>1440</td>\n      <td>False</td>\n    </tr>\n    <tr>\n      <th>7108</th>\n      <td>621e375b67b776a240290cdc</td>\n      <td>2021-08-15</td>\n      <td>NaN</td>\n      <td>NaN</td>\n      <td>NaN</td>\n      <td>NaN</td>\n      <td>NaN</td>\n      <td>NaN</td>\n      <td>NaN</td>\n      <td>NaN</td>\n      <td>...</td>\n      <td>1296.00</td>\n      <td>NaN</td>\n      <td>NaN</td>\n      <td>NaN</td>\n      <td>NaN</td>\n      <td>0</td>\n      <td>0</td>\n      <td>0</td>\n      <td>1440</td>\n      <td>False</td>\n    </tr>\n    <tr>\n      <th>7109</th>\n      <td>621e375b67b776a240290cdc</td>\n      <td>2021-08-16</td>\n      <td>NaN</td>\n      <td>NaN</td>\n      <td>NaN</td>\n      <td>NaN</td>\n      <td>NaN</td>\n      <td>NaN</td>\n      <td>NaN</td>\n      <td>NaN</td>\n      <td>...</td>\n      <td>1296.00</td>\n      <td>NaN</td>\n      <td>NaN</td>\n      <td>NaN</td>\n      <td>NaN</td>\n      <td>0</td>\n      <td>0</td>\n      <td>0</td>\n      <td>1440</td>\n      <td>False</td>\n    </tr>\n    <tr>\n      <th>7110</th>\n      <td>621e375b67b776a240290cdc</td>\n      <td>2021-08-17</td>\n      <td>NaN</td>\n      <td>NaN</td>\n      <td>NaN</td>\n      <td>NaN</td>\n      <td>NaN</td>\n      <td>NaN</td>\n      <td>NaN</td>\n      <td>NaN</td>\n      <td>...</td>\n      <td>635.40</td>\n      <td>NaN</td>\n      <td>NaN</td>\n      <td>NaN</td>\n      <td>NaN</td>\n      <td>0</td>\n      <td>0</td>\n      <td>0</td>\n      <td>706</td>\n      <td>False</td>\n    </tr>\n  </tbody>\n</table>\n<p>7111 rows × 23 columns</p>\n</div>"
     },
     "execution_count": 38,
     "metadata": {},
     "output_type": "execute_result"
    }
   ],
   "source": [
    "users_mindfulness = pd.DataFrame(columns=[\"id\", \"data\"])\n",
    "for user in users:\n",
    "    user_data = pd.DataFrame(list(\n",
    "        db.fitbit.find({\"$and\": [\n",
    "            {\"type\": \"mindfulness_sessions\"},\n",
    "            {\"id\": user}\n",
    "        ]},\n",
    "            {\"id\": 1, \"data.start_date_time\": 1, \"data.session_type\": 1, \"_id\": 0}\n",
    "        )\n",
    "    ))\n",
    "    users_mindfulness = pd.concat([users_mindfulness, user_data], axis=0)\n",
    "\n",
    "# split data column (json format) into two columns\n",
    "users_mindfulness[\"date\"] = users_mindfulness[\"data\"].apply(lambda d: d[\"start_date_time\"])\n",
    "users_mindfulness[\"activityType\"] = users_mindfulness[\"data\"].apply(lambda d: d[\"session_type\"])\n",
    "users_mindfulness.drop([\"data\"], inplace=True, axis=1)\n",
    "\n",
    "# convert timestamp date object and then to datetime64[ns]\n",
    "users_mindfulness[\"date\"] = pd.to_datetime(pd.to_datetime(users_mindfulness[\"date\"], infer_datetime_format=True).dt.date)\n",
    "users_mindfulness[\"mindfulness_session\"] = True  # instead of storing the session type, only store if user engaged in session\n",
    "users_mindfulness.drop(['activityType'], axis=1, inplace=True)\n",
    "users_mindfulness = users_mindfulness.drop_duplicates()\n",
    "\n",
    "# merge\n",
    "df = df.merge(users_mindfulness, how='outer', on=['id', 'date'])\n",
    "df.mindfulness_session.fillna('False', inplace=True)\n",
    "df"
   ],
   "metadata": {
    "collapsed": false,
    "pycharm": {
     "name": "#%%\n"
    }
   }
  },
  {
   "cell_type": "markdown",
   "source": [
    "Mindfulness EDA Data Sessions"
   ],
   "metadata": {
    "collapsed": false,
    "pycharm": {
     "name": "#%% md\n"
    }
   }
  },
  {
   "cell_type": "code",
   "execution_count": 39,
   "outputs": [
    {
     "data": {
      "text/plain": "                            id       date  nightly_temperature  nremhr  \\\n0     621e2e8e67b776a24055b564 2021-05-24            34.137687  57.432   \n1     621e2e8e67b776a24055b564 2021-05-25            33.794544  57.681   \n2     621e2e8e67b776a24055b564 2021-05-26            34.611011  57.481   \n3     621e2e8e67b776a24055b564 2021-05-27            34.408304  57.493   \n4     621e2e8e67b776a24055b564 2021-05-28            34.178922  56.750   \n...                        ...        ...                  ...     ...   \n7348  621e2f9167b776a240011ccb 2021-09-15                  NaN     NaN   \n7349  621e2f9167b776a240011ccb 2021-09-26                  NaN     NaN   \n7350  621e2f9167b776a240011ccb 2021-10-01                  NaN     NaN   \n7351  621e2f9167b776a240011ccb 2021-10-02                  NaN     NaN   \n7352  621e2f9167b776a240011ccb 2022-01-20                  NaN     NaN   \n\n        rmssd  spo2  full_sleep_breathing_rate  stress_score  \\\n0      89.603   NaN                       14.8          78.0   \n1      94.303   NaN                       15.8          80.0   \n2     119.212   NaN                       14.6          84.0   \n3     111.709   NaN                       14.8          82.0   \n4     103.034   NaN                       15.2          81.0   \n...       ...   ...                        ...           ...   \n7348      NaN   NaN                        NaN           NaN   \n7349      NaN   NaN                        NaN           NaN   \n7350      NaN   NaN                        NaN           NaN   \n7351      NaN   NaN                        NaN           NaN   \n7352      NaN   NaN                        NaN           NaN   \n\n      sleep_points_percentage  exertion_points_percentage  ...  \\\n0                    0.833333                       0.675  ...   \n1                    0.833333                       0.725  ...   \n2                    0.966667                       0.725  ...   \n3                    0.933333                       0.725  ...   \n4                    0.866667                       0.725  ...   \n...                       ...                         ...  ...   \n7348                      NaN                         NaN  ...   \n7349                      NaN                         NaN  ...   \n7350                      NaN                         NaN  ...   \n7351                      NaN                         NaN  ...   \n7352                      NaN                         NaN  ...   \n\n      filteredDemographicVO2Max  distance activityType        bpm  \\\n0                      62.79210    6517.5       [Walk]  71.701565   \n1                      62.67912    7178.6       [Walk]  70.579300   \n2                      62.57307    6090.9       [Walk]  71.842573   \n3                      62.47493    6653.1       [Walk]  71.725477   \n4                      62.41166    9557.9       [Walk]  74.401028   \n...                         ...       ...          ...        ...   \n7348                        NaN       NaN          NaN        NaN   \n7349                        NaN       NaN          NaN        NaN   \n7350                        NaN       NaN          NaN        NaN   \n7351                        NaN       NaN          NaN        NaN   \n7352                        NaN       NaN          NaN        NaN   \n\n      lightly_active_minutes  moderately_active_minutes very_active_minutes  \\\n0                        149                         24                  33   \n1                        132                         25                  31   \n2                        112                         27                  31   \n3                        133                         21                  37   \n4                        136                         42                  54   \n...                      ...                        ...                 ...   \n7348                     NaN                        NaN                 NaN   \n7349                     NaN                        NaN                 NaN   \n7350                     NaN                        NaN                 NaN   \n7351                     NaN                        NaN                 NaN   \n7352                     NaN                        NaN                 NaN   \n\n      sedentary_minutes mindfulness_session    scl_avg  \n0                   713               False        NaN  \n1                   704               False        NaN  \n2                   710               False        NaN  \n3                   622               False        NaN  \n4                   647               False        NaN  \n...                 ...                 ...        ...  \n7348                NaN                 NaN  14.179268  \n7349                NaN                 NaN  13.343615  \n7350                NaN                 NaN  13.323018  \n7351                NaN                 NaN  14.019217  \n7352                NaN                 NaN  10.779619  \n\n[7353 rows x 24 columns]",
      "text/html": "<div>\n<style scoped>\n    .dataframe tbody tr th:only-of-type {\n        vertical-align: middle;\n    }\n\n    .dataframe tbody tr th {\n        vertical-align: top;\n    }\n\n    .dataframe thead th {\n        text-align: right;\n    }\n</style>\n<table border=\"1\" class=\"dataframe\">\n  <thead>\n    <tr style=\"text-align: right;\">\n      <th></th>\n      <th>id</th>\n      <th>date</th>\n      <th>nightly_temperature</th>\n      <th>nremhr</th>\n      <th>rmssd</th>\n      <th>spo2</th>\n      <th>full_sleep_breathing_rate</th>\n      <th>stress_score</th>\n      <th>sleep_points_percentage</th>\n      <th>exertion_points_percentage</th>\n      <th>...</th>\n      <th>filteredDemographicVO2Max</th>\n      <th>distance</th>\n      <th>activityType</th>\n      <th>bpm</th>\n      <th>lightly_active_minutes</th>\n      <th>moderately_active_minutes</th>\n      <th>very_active_minutes</th>\n      <th>sedentary_minutes</th>\n      <th>mindfulness_session</th>\n      <th>scl_avg</th>\n    </tr>\n  </thead>\n  <tbody>\n    <tr>\n      <th>0</th>\n      <td>621e2e8e67b776a24055b564</td>\n      <td>2021-05-24</td>\n      <td>34.137687</td>\n      <td>57.432</td>\n      <td>89.603</td>\n      <td>NaN</td>\n      <td>14.8</td>\n      <td>78.0</td>\n      <td>0.833333</td>\n      <td>0.675</td>\n      <td>...</td>\n      <td>62.79210</td>\n      <td>6517.5</td>\n      <td>[Walk]</td>\n      <td>71.701565</td>\n      <td>149</td>\n      <td>24</td>\n      <td>33</td>\n      <td>713</td>\n      <td>False</td>\n      <td>NaN</td>\n    </tr>\n    <tr>\n      <th>1</th>\n      <td>621e2e8e67b776a24055b564</td>\n      <td>2021-05-25</td>\n      <td>33.794544</td>\n      <td>57.681</td>\n      <td>94.303</td>\n      <td>NaN</td>\n      <td>15.8</td>\n      <td>80.0</td>\n      <td>0.833333</td>\n      <td>0.725</td>\n      <td>...</td>\n      <td>62.67912</td>\n      <td>7178.6</td>\n      <td>[Walk]</td>\n      <td>70.579300</td>\n      <td>132</td>\n      <td>25</td>\n      <td>31</td>\n      <td>704</td>\n      <td>False</td>\n      <td>NaN</td>\n    </tr>\n    <tr>\n      <th>2</th>\n      <td>621e2e8e67b776a24055b564</td>\n      <td>2021-05-26</td>\n      <td>34.611011</td>\n      <td>57.481</td>\n      <td>119.212</td>\n      <td>NaN</td>\n      <td>14.6</td>\n      <td>84.0</td>\n      <td>0.966667</td>\n      <td>0.725</td>\n      <td>...</td>\n      <td>62.57307</td>\n      <td>6090.9</td>\n      <td>[Walk]</td>\n      <td>71.842573</td>\n      <td>112</td>\n      <td>27</td>\n      <td>31</td>\n      <td>710</td>\n      <td>False</td>\n      <td>NaN</td>\n    </tr>\n    <tr>\n      <th>3</th>\n      <td>621e2e8e67b776a24055b564</td>\n      <td>2021-05-27</td>\n      <td>34.408304</td>\n      <td>57.493</td>\n      <td>111.709</td>\n      <td>NaN</td>\n      <td>14.8</td>\n      <td>82.0</td>\n      <td>0.933333</td>\n      <td>0.725</td>\n      <td>...</td>\n      <td>62.47493</td>\n      <td>6653.1</td>\n      <td>[Walk]</td>\n      <td>71.725477</td>\n      <td>133</td>\n      <td>21</td>\n      <td>37</td>\n      <td>622</td>\n      <td>False</td>\n      <td>NaN</td>\n    </tr>\n    <tr>\n      <th>4</th>\n      <td>621e2e8e67b776a24055b564</td>\n      <td>2021-05-28</td>\n      <td>34.178922</td>\n      <td>56.750</td>\n      <td>103.034</td>\n      <td>NaN</td>\n      <td>15.2</td>\n      <td>81.0</td>\n      <td>0.866667</td>\n      <td>0.725</td>\n      <td>...</td>\n      <td>62.41166</td>\n      <td>9557.9</td>\n      <td>[Walk]</td>\n      <td>74.401028</td>\n      <td>136</td>\n      <td>42</td>\n      <td>54</td>\n      <td>647</td>\n      <td>False</td>\n      <td>NaN</td>\n    </tr>\n    <tr>\n      <th>...</th>\n      <td>...</td>\n      <td>...</td>\n      <td>...</td>\n      <td>...</td>\n      <td>...</td>\n      <td>...</td>\n      <td>...</td>\n      <td>...</td>\n      <td>...</td>\n      <td>...</td>\n      <td>...</td>\n      <td>...</td>\n      <td>...</td>\n      <td>...</td>\n      <td>...</td>\n      <td>...</td>\n      <td>...</td>\n      <td>...</td>\n      <td>...</td>\n      <td>...</td>\n      <td>...</td>\n    </tr>\n    <tr>\n      <th>7348</th>\n      <td>621e2f9167b776a240011ccb</td>\n      <td>2021-09-15</td>\n      <td>NaN</td>\n      <td>NaN</td>\n      <td>NaN</td>\n      <td>NaN</td>\n      <td>NaN</td>\n      <td>NaN</td>\n      <td>NaN</td>\n      <td>NaN</td>\n      <td>...</td>\n      <td>NaN</td>\n      <td>NaN</td>\n      <td>NaN</td>\n      <td>NaN</td>\n      <td>NaN</td>\n      <td>NaN</td>\n      <td>NaN</td>\n      <td>NaN</td>\n      <td>NaN</td>\n      <td>14.179268</td>\n    </tr>\n    <tr>\n      <th>7349</th>\n      <td>621e2f9167b776a240011ccb</td>\n      <td>2021-09-26</td>\n      <td>NaN</td>\n      <td>NaN</td>\n      <td>NaN</td>\n      <td>NaN</td>\n      <td>NaN</td>\n      <td>NaN</td>\n      <td>NaN</td>\n      <td>NaN</td>\n      <td>...</td>\n      <td>NaN</td>\n      <td>NaN</td>\n      <td>NaN</td>\n      <td>NaN</td>\n      <td>NaN</td>\n      <td>NaN</td>\n      <td>NaN</td>\n      <td>NaN</td>\n      <td>NaN</td>\n      <td>13.343615</td>\n    </tr>\n    <tr>\n      <th>7350</th>\n      <td>621e2f9167b776a240011ccb</td>\n      <td>2021-10-01</td>\n      <td>NaN</td>\n      <td>NaN</td>\n      <td>NaN</td>\n      <td>NaN</td>\n      <td>NaN</td>\n      <td>NaN</td>\n      <td>NaN</td>\n      <td>NaN</td>\n      <td>...</td>\n      <td>NaN</td>\n      <td>NaN</td>\n      <td>NaN</td>\n      <td>NaN</td>\n      <td>NaN</td>\n      <td>NaN</td>\n      <td>NaN</td>\n      <td>NaN</td>\n      <td>NaN</td>\n      <td>13.323018</td>\n    </tr>\n    <tr>\n      <th>7351</th>\n      <td>621e2f9167b776a240011ccb</td>\n      <td>2021-10-02</td>\n      <td>NaN</td>\n      <td>NaN</td>\n      <td>NaN</td>\n      <td>NaN</td>\n      <td>NaN</td>\n      <td>NaN</td>\n      <td>NaN</td>\n      <td>NaN</td>\n      <td>...</td>\n      <td>NaN</td>\n      <td>NaN</td>\n      <td>NaN</td>\n      <td>NaN</td>\n      <td>NaN</td>\n      <td>NaN</td>\n      <td>NaN</td>\n      <td>NaN</td>\n      <td>NaN</td>\n      <td>14.019217</td>\n    </tr>\n    <tr>\n      <th>7352</th>\n      <td>621e2f9167b776a240011ccb</td>\n      <td>2022-01-20</td>\n      <td>NaN</td>\n      <td>NaN</td>\n      <td>NaN</td>\n      <td>NaN</td>\n      <td>NaN</td>\n      <td>NaN</td>\n      <td>NaN</td>\n      <td>NaN</td>\n      <td>...</td>\n      <td>NaN</td>\n      <td>NaN</td>\n      <td>NaN</td>\n      <td>NaN</td>\n      <td>NaN</td>\n      <td>NaN</td>\n      <td>NaN</td>\n      <td>NaN</td>\n      <td>NaN</td>\n      <td>10.779619</td>\n    </tr>\n  </tbody>\n</table>\n<p>7353 rows × 24 columns</p>\n</div>"
     },
     "execution_count": 39,
     "metadata": {},
     "output_type": "execute_result"
    }
   ],
   "source": [
    "users_eda = pd.DataFrame(columns=[\"id\", \"data\"])\n",
    "for user in users:\n",
    "    user_data = pd.DataFrame(list(\n",
    "        db.fitbit.find({\"$and\": [\n",
    "            {\"type\": \"mindfulness_eda_data_sessions\"},\n",
    "            {\"id\": user}\n",
    "        ]},\n",
    "            {\"id\": 1, \"data.timestamp\": 1, \"data.scl_avg\": 1, \"_id\": 0}\n",
    "        )\n",
    "    ))\n",
    "\n",
    "    users_eda = pd.concat([users_eda, user_data], axis=0)\n",
    "\n",
    "# split data column (json format) into two columns\n",
    "users_eda[\"date\"] = users_eda[\"data\"].apply(lambda d: d[\"timestamp\"])\n",
    "users_eda[\"scl_avg\"] = users_eda[\"data\"].apply(lambda d: d[\"scl_avg\"])\n",
    "users_eda.drop([\"data\"], inplace=True, axis=1)\n",
    "\n",
    "users_eda.reset_index(drop=True, inplace=True)\n",
    "# convert timestamp date object and then to datetime64[ns]\n",
    "users_eda[\"date\"] = pd.to_datetime(pd.to_datetime(users_exercise[\"date\"], infer_datetime_format=True).dt.date)\n",
    "\n",
    "# group by date and then take the average\n",
    "users_eda = users_eda.groupby(['id', 'date']).mean()\n",
    "users_eda.reset_index(drop=False, inplace=True)\n",
    "\n",
    "# merge\n",
    "df = df.merge(users_eda, how='outer', on=['id', 'date'])\n",
    "df"
   ],
   "metadata": {
    "collapsed": false,
    "pycharm": {
     "name": "#%%\n"
    }
   }
  },
  {
   "cell_type": "markdown",
   "source": [
    "Resting Heart Rate"
   ],
   "metadata": {
    "collapsed": false,
    "pycharm": {
     "name": "#%% md\n"
    }
   }
  },
  {
   "cell_type": "code",
   "execution_count": 40,
   "outputs": [
    {
     "data": {
      "text/plain": "                            id       date  nightly_temperature  nremhr  \\\n0     621e2e8e67b776a24055b564 2021-05-24            34.137687  57.432   \n1     621e2e8e67b776a24055b564 2021-05-25            33.794544  57.681   \n2     621e2e8e67b776a24055b564 2021-05-26            34.611011  57.481   \n3     621e2e8e67b776a24055b564 2021-05-27            34.408304  57.493   \n4     621e2e8e67b776a24055b564 2021-05-28            34.178922  56.750   \n...                        ...        ...                  ...     ...   \n7348  621e375b67b776a240290cdc 2021-08-13                  NaN     NaN   \n7349  621e375b67b776a240290cdc 2021-08-14                  NaN     NaN   \n7350  621e375b67b776a240290cdc 2021-08-15                  NaN     NaN   \n7351  621e375b67b776a240290cdc 2021-08-16                  NaN     NaN   \n7352  621e375b67b776a240290cdc 2021-08-17                  NaN     NaN   \n\n        rmssd  spo2  full_sleep_breathing_rate  stress_score  \\\n0      89.603   NaN                       14.8          78.0   \n1      94.303   NaN                       15.8          80.0   \n2     119.212   NaN                       14.6          84.0   \n3     111.709   NaN                       14.8          82.0   \n4     103.034   NaN                       15.2          81.0   \n...       ...   ...                        ...           ...   \n7348      NaN   NaN                        NaN           NaN   \n7349      NaN   NaN                        NaN           NaN   \n7350      NaN   NaN                        NaN           NaN   \n7351      NaN   NaN                        NaN           NaN   \n7352      NaN   NaN                        NaN           NaN   \n\n      sleep_points_percentage  exertion_points_percentage  ...  distance  \\\n0                    0.833333                       0.675  ...    6517.5   \n1                    0.833333                       0.725  ...    7178.6   \n2                    0.966667                       0.725  ...    6090.9   \n3                    0.933333                       0.725  ...    6653.1   \n4                    0.866667                       0.725  ...    9557.9   \n...                       ...                         ...  ...       ...   \n7348                      NaN                         NaN  ...       NaN   \n7349                      NaN                         NaN  ...       NaN   \n7350                      NaN                         NaN  ...       NaN   \n7351                      NaN                         NaN  ...       NaN   \n7352                      NaN                         NaN  ...       NaN   \n\n      activityType        bpm  lightly_active_minutes  \\\n0           [Walk]  71.701565                     149   \n1           [Walk]  70.579300                     132   \n2           [Walk]  71.842573                     112   \n3           [Walk]  71.725477                     133   \n4           [Walk]  74.401028                     136   \n...            ...        ...                     ...   \n7348          None        NaN                       0   \n7349          None        NaN                       0   \n7350          None        NaN                       0   \n7351          None        NaN                       0   \n7352          None        NaN                       0   \n\n      moderately_active_minutes  very_active_minutes sedentary_minutes  \\\n0                            24                   33               713   \n1                            25                   31               704   \n2                            27                   31               710   \n3                            21                   37               622   \n4                            42                   54               647   \n...                         ...                  ...               ...   \n7348                          0                    0              1440   \n7349                          0                    0              1440   \n7350                          0                    0              1440   \n7351                          0                    0              1440   \n7352                          0                    0               706   \n\n      mindfulness_session scl_avg resting_hr  \n0                   False     NaN  62.073070  \n1                   False     NaN  62.121476  \n2                   False     NaN  62.263999  \n3                   False     NaN  62.368900  \n4                   False     NaN  61.965409  \n...                   ...     ...        ...  \n7348                False     NaN        NaN  \n7349                False     NaN        NaN  \n7350                False     NaN        NaN  \n7351                False     NaN        NaN  \n7352                False     NaN        NaN  \n\n[7353 rows x 25 columns]",
      "text/html": "<div>\n<style scoped>\n    .dataframe tbody tr th:only-of-type {\n        vertical-align: middle;\n    }\n\n    .dataframe tbody tr th {\n        vertical-align: top;\n    }\n\n    .dataframe thead th {\n        text-align: right;\n    }\n</style>\n<table border=\"1\" class=\"dataframe\">\n  <thead>\n    <tr style=\"text-align: right;\">\n      <th></th>\n      <th>id</th>\n      <th>date</th>\n      <th>nightly_temperature</th>\n      <th>nremhr</th>\n      <th>rmssd</th>\n      <th>spo2</th>\n      <th>full_sleep_breathing_rate</th>\n      <th>stress_score</th>\n      <th>sleep_points_percentage</th>\n      <th>exertion_points_percentage</th>\n      <th>...</th>\n      <th>distance</th>\n      <th>activityType</th>\n      <th>bpm</th>\n      <th>lightly_active_minutes</th>\n      <th>moderately_active_minutes</th>\n      <th>very_active_minutes</th>\n      <th>sedentary_minutes</th>\n      <th>mindfulness_session</th>\n      <th>scl_avg</th>\n      <th>resting_hr</th>\n    </tr>\n  </thead>\n  <tbody>\n    <tr>\n      <th>0</th>\n      <td>621e2e8e67b776a24055b564</td>\n      <td>2021-05-24</td>\n      <td>34.137687</td>\n      <td>57.432</td>\n      <td>89.603</td>\n      <td>NaN</td>\n      <td>14.8</td>\n      <td>78.0</td>\n      <td>0.833333</td>\n      <td>0.675</td>\n      <td>...</td>\n      <td>6517.5</td>\n      <td>[Walk]</td>\n      <td>71.701565</td>\n      <td>149</td>\n      <td>24</td>\n      <td>33</td>\n      <td>713</td>\n      <td>False</td>\n      <td>NaN</td>\n      <td>62.073070</td>\n    </tr>\n    <tr>\n      <th>1</th>\n      <td>621e2e8e67b776a24055b564</td>\n      <td>2021-05-25</td>\n      <td>33.794544</td>\n      <td>57.681</td>\n      <td>94.303</td>\n      <td>NaN</td>\n      <td>15.8</td>\n      <td>80.0</td>\n      <td>0.833333</td>\n      <td>0.725</td>\n      <td>...</td>\n      <td>7178.6</td>\n      <td>[Walk]</td>\n      <td>70.579300</td>\n      <td>132</td>\n      <td>25</td>\n      <td>31</td>\n      <td>704</td>\n      <td>False</td>\n      <td>NaN</td>\n      <td>62.121476</td>\n    </tr>\n    <tr>\n      <th>2</th>\n      <td>621e2e8e67b776a24055b564</td>\n      <td>2021-05-26</td>\n      <td>34.611011</td>\n      <td>57.481</td>\n      <td>119.212</td>\n      <td>NaN</td>\n      <td>14.6</td>\n      <td>84.0</td>\n      <td>0.966667</td>\n      <td>0.725</td>\n      <td>...</td>\n      <td>6090.9</td>\n      <td>[Walk]</td>\n      <td>71.842573</td>\n      <td>112</td>\n      <td>27</td>\n      <td>31</td>\n      <td>710</td>\n      <td>False</td>\n      <td>NaN</td>\n      <td>62.263999</td>\n    </tr>\n    <tr>\n      <th>3</th>\n      <td>621e2e8e67b776a24055b564</td>\n      <td>2021-05-27</td>\n      <td>34.408304</td>\n      <td>57.493</td>\n      <td>111.709</td>\n      <td>NaN</td>\n      <td>14.8</td>\n      <td>82.0</td>\n      <td>0.933333</td>\n      <td>0.725</td>\n      <td>...</td>\n      <td>6653.1</td>\n      <td>[Walk]</td>\n      <td>71.725477</td>\n      <td>133</td>\n      <td>21</td>\n      <td>37</td>\n      <td>622</td>\n      <td>False</td>\n      <td>NaN</td>\n      <td>62.368900</td>\n    </tr>\n    <tr>\n      <th>4</th>\n      <td>621e2e8e67b776a24055b564</td>\n      <td>2021-05-28</td>\n      <td>34.178922</td>\n      <td>56.750</td>\n      <td>103.034</td>\n      <td>NaN</td>\n      <td>15.2</td>\n      <td>81.0</td>\n      <td>0.866667</td>\n      <td>0.725</td>\n      <td>...</td>\n      <td>9557.9</td>\n      <td>[Walk]</td>\n      <td>74.401028</td>\n      <td>136</td>\n      <td>42</td>\n      <td>54</td>\n      <td>647</td>\n      <td>False</td>\n      <td>NaN</td>\n      <td>61.965409</td>\n    </tr>\n    <tr>\n      <th>...</th>\n      <td>...</td>\n      <td>...</td>\n      <td>...</td>\n      <td>...</td>\n      <td>...</td>\n      <td>...</td>\n      <td>...</td>\n      <td>...</td>\n      <td>...</td>\n      <td>...</td>\n      <td>...</td>\n      <td>...</td>\n      <td>...</td>\n      <td>...</td>\n      <td>...</td>\n      <td>...</td>\n      <td>...</td>\n      <td>...</td>\n      <td>...</td>\n      <td>...</td>\n      <td>...</td>\n    </tr>\n    <tr>\n      <th>7348</th>\n      <td>621e375b67b776a240290cdc</td>\n      <td>2021-08-13</td>\n      <td>NaN</td>\n      <td>NaN</td>\n      <td>NaN</td>\n      <td>NaN</td>\n      <td>NaN</td>\n      <td>NaN</td>\n      <td>NaN</td>\n      <td>NaN</td>\n      <td>...</td>\n      <td>NaN</td>\n      <td>None</td>\n      <td>NaN</td>\n      <td>0</td>\n      <td>0</td>\n      <td>0</td>\n      <td>1440</td>\n      <td>False</td>\n      <td>NaN</td>\n      <td>NaN</td>\n    </tr>\n    <tr>\n      <th>7349</th>\n      <td>621e375b67b776a240290cdc</td>\n      <td>2021-08-14</td>\n      <td>NaN</td>\n      <td>NaN</td>\n      <td>NaN</td>\n      <td>NaN</td>\n      <td>NaN</td>\n      <td>NaN</td>\n      <td>NaN</td>\n      <td>NaN</td>\n      <td>...</td>\n      <td>NaN</td>\n      <td>None</td>\n      <td>NaN</td>\n      <td>0</td>\n      <td>0</td>\n      <td>0</td>\n      <td>1440</td>\n      <td>False</td>\n      <td>NaN</td>\n      <td>NaN</td>\n    </tr>\n    <tr>\n      <th>7350</th>\n      <td>621e375b67b776a240290cdc</td>\n      <td>2021-08-15</td>\n      <td>NaN</td>\n      <td>NaN</td>\n      <td>NaN</td>\n      <td>NaN</td>\n      <td>NaN</td>\n      <td>NaN</td>\n      <td>NaN</td>\n      <td>NaN</td>\n      <td>...</td>\n      <td>NaN</td>\n      <td>None</td>\n      <td>NaN</td>\n      <td>0</td>\n      <td>0</td>\n      <td>0</td>\n      <td>1440</td>\n      <td>False</td>\n      <td>NaN</td>\n      <td>NaN</td>\n    </tr>\n    <tr>\n      <th>7351</th>\n      <td>621e375b67b776a240290cdc</td>\n      <td>2021-08-16</td>\n      <td>NaN</td>\n      <td>NaN</td>\n      <td>NaN</td>\n      <td>NaN</td>\n      <td>NaN</td>\n      <td>NaN</td>\n      <td>NaN</td>\n      <td>NaN</td>\n      <td>...</td>\n      <td>NaN</td>\n      <td>None</td>\n      <td>NaN</td>\n      <td>0</td>\n      <td>0</td>\n      <td>0</td>\n      <td>1440</td>\n      <td>False</td>\n      <td>NaN</td>\n      <td>NaN</td>\n    </tr>\n    <tr>\n      <th>7352</th>\n      <td>621e375b67b776a240290cdc</td>\n      <td>2021-08-17</td>\n      <td>NaN</td>\n      <td>NaN</td>\n      <td>NaN</td>\n      <td>NaN</td>\n      <td>NaN</td>\n      <td>NaN</td>\n      <td>NaN</td>\n      <td>NaN</td>\n      <td>...</td>\n      <td>NaN</td>\n      <td>None</td>\n      <td>NaN</td>\n      <td>0</td>\n      <td>0</td>\n      <td>0</td>\n      <td>706</td>\n      <td>False</td>\n      <td>NaN</td>\n      <td>NaN</td>\n    </tr>\n  </tbody>\n</table>\n<p>7353 rows × 25 columns</p>\n</div>"
     },
     "execution_count": 40,
     "metadata": {},
     "output_type": "execute_result"
    }
   ],
   "source": [
    "users_rhr = pd.DataFrame(columns=[\"id\", \"data\"])\n",
    "for user in users:\n",
    "    user_data = pd.DataFrame(list(\n",
    "        db.fitbit.find({\"$and\": [\n",
    "            {\"type\": \"resting_heart_rate\"},\n",
    "            {\"id\": user}\n",
    "        ]},\n",
    "            {\"id\": 1, \"data.value.date\": 1, \"data.value.value\": 1, \"_id\": 0}\n",
    "        )\n",
    "    ))\n",
    "\n",
    "    users_rhr = pd.concat([users_rhr, user_data], axis=0)\n",
    "\n",
    "# split data column (json format) into two columns\n",
    "users_rhr[\"date\"] = users_rhr[\"data\"].apply(lambda d: d[\"value\"].get(\"date\"))\n",
    "users_rhr[\"resting_hr\"] = users_rhr[\"data\"].apply(lambda d: d[\"value\"].get(\"value\"))\n",
    "users_rhr.drop([\"data\"], inplace=True, axis=1)\n",
    "\n",
    "# convert timestamp date object and then to datetime64[ns]\n",
    "users_rhr[\"date\"] = pd.to_datetime(users_rhr[\"date\"], format=\"%m/%d/%y\")\n",
    "users_rhr = users_rhr[users_rhr.resting_hr != 0.0]\n",
    "\n",
    "# merge\n",
    "df = df.merge(users_rhr, how='outer', on=['id', 'date'])\n",
    "\n",
    "# drop duplicates\n",
    "df = df.groupby([\"id\", \"date\"]).first()\n",
    "df.reset_index(drop=False, inplace=True)\n",
    "df"
   ],
   "metadata": {
    "collapsed": false,
    "pycharm": {
     "name": "#%%\n"
    }
   }
  },
  {
   "cell_type": "markdown",
   "source": [
    "Sleep"
   ],
   "metadata": {
    "collapsed": false,
    "pycharm": {
     "name": "#%% md\n"
    }
   }
  },
  {
   "cell_type": "code",
   "execution_count": 41,
   "outputs": [
    {
     "data": {
      "text/plain": "                            id       date  nightly_temperature  nremhr  \\\n0     621e2e8e67b776a24055b564 2021-05-24            34.137687  57.432   \n1     621e2e8e67b776a24055b564 2021-05-25            33.794544  57.681   \n2     621e2e8e67b776a24055b564 2021-05-26            34.611011  57.481   \n3     621e2e8e67b776a24055b564 2021-05-27            34.408304  57.493   \n4     621e2e8e67b776a24055b564 2021-05-28            34.178922  56.750   \n...                        ...        ...                  ...     ...   \n7348  621e375b67b776a240290cdc 2021-08-13                  NaN     NaN   \n7349  621e375b67b776a240290cdc 2021-08-14                  NaN     NaN   \n7350  621e375b67b776a240290cdc 2021-08-15                  NaN     NaN   \n7351  621e375b67b776a240290cdc 2021-08-16                  NaN     NaN   \n7352  621e375b67b776a240290cdc 2021-08-17                  NaN     NaN   \n\n        rmssd  spo2  full_sleep_breathing_rate  stress_score  \\\n0      89.603   NaN                       14.8          78.0   \n1      94.303   NaN                       15.8          80.0   \n2     119.212   NaN                       14.6          84.0   \n3     111.709   NaN                       14.8          82.0   \n4     103.034   NaN                       15.2          81.0   \n...       ...   ...                        ...           ...   \n7348      NaN   NaN                        NaN           NaN   \n7349      NaN   NaN                        NaN           NaN   \n7350      NaN   NaN                        NaN           NaN   \n7351      NaN   NaN                        NaN           NaN   \n7352      NaN   NaN                        NaN           NaN   \n\n      sleep_points_percentage  exertion_points_percentage  ...  \\\n0                    0.833333                       0.675  ...   \n1                    0.833333                       0.725  ...   \n2                    0.966667                       0.725  ...   \n3                    0.933333                       0.725  ...   \n4                    0.866667                       0.725  ...   \n...                       ...                         ...  ...   \n7348                      NaN                         NaN  ...   \n7349                      NaN                         NaN  ...   \n7350                      NaN                         NaN  ...   \n7351                      NaN                         NaN  ...   \n7352                      NaN                         NaN  ...   \n\n      sleep_duration  minutesToFallAsleep minutesAsleep  minutesAwake  \\\n0         31260000.0                  0.0         445.0          76.0   \n1         32880000.0                  0.0         460.0          88.0   \n2         33600000.0                  0.0         493.0          67.0   \n3         37620000.0                  0.0         540.0          87.0   \n4         33660000.0                  0.0         493.0          68.0   \n...              ...                  ...           ...           ...   \n7348             NaN                  NaN           NaN           NaN   \n7349             NaN                  NaN           NaN           NaN   \n7350             NaN                  NaN           NaN           NaN   \n7351             NaN                  NaN           NaN           NaN   \n7352             NaN                  NaN           NaN           NaN   \n\n      minutesAfterWakeup  sleep_efficiency sleep_deep_ratio  sleep_wake_ratio  \\\n0                    0.0              93.0         1.243243          0.987013   \n1                    0.0              94.0         1.466667          1.142857   \n2                    0.0              96.0         1.116883          0.858974   \n3                    0.0              93.0         1.128205          1.129870   \n4                    0.0              94.0         0.910256          0.871795   \n...                  ...               ...              ...               ...   \n7348                 NaN               NaN              NaN               NaN   \n7349                 NaN               NaN              NaN               NaN   \n7350                 NaN               NaN              NaN               NaN   \n7351                 NaN               NaN              NaN               NaN   \n7352                 NaN               NaN              NaN               NaN   \n\n     sleep_light_ratio sleep_rem_ratio  \n0             0.921642        1.341772  \n1             0.947566        1.197531  \n2             1.015038        1.670732  \n3             1.191729        1.588235  \n4             1.211896        1.090909  \n...                ...             ...  \n7348               NaN             NaN  \n7349               NaN             NaN  \n7350               NaN             NaN  \n7351               NaN             NaN  \n7352               NaN             NaN  \n\n[7353 rows x 35 columns]",
      "text/html": "<div>\n<style scoped>\n    .dataframe tbody tr th:only-of-type {\n        vertical-align: middle;\n    }\n\n    .dataframe tbody tr th {\n        vertical-align: top;\n    }\n\n    .dataframe thead th {\n        text-align: right;\n    }\n</style>\n<table border=\"1\" class=\"dataframe\">\n  <thead>\n    <tr style=\"text-align: right;\">\n      <th></th>\n      <th>id</th>\n      <th>date</th>\n      <th>nightly_temperature</th>\n      <th>nremhr</th>\n      <th>rmssd</th>\n      <th>spo2</th>\n      <th>full_sleep_breathing_rate</th>\n      <th>stress_score</th>\n      <th>sleep_points_percentage</th>\n      <th>exertion_points_percentage</th>\n      <th>...</th>\n      <th>sleep_duration</th>\n      <th>minutesToFallAsleep</th>\n      <th>minutesAsleep</th>\n      <th>minutesAwake</th>\n      <th>minutesAfterWakeup</th>\n      <th>sleep_efficiency</th>\n      <th>sleep_deep_ratio</th>\n      <th>sleep_wake_ratio</th>\n      <th>sleep_light_ratio</th>\n      <th>sleep_rem_ratio</th>\n    </tr>\n  </thead>\n  <tbody>\n    <tr>\n      <th>0</th>\n      <td>621e2e8e67b776a24055b564</td>\n      <td>2021-05-24</td>\n      <td>34.137687</td>\n      <td>57.432</td>\n      <td>89.603</td>\n      <td>NaN</td>\n      <td>14.8</td>\n      <td>78.0</td>\n      <td>0.833333</td>\n      <td>0.675</td>\n      <td>...</td>\n      <td>31260000.0</td>\n      <td>0.0</td>\n      <td>445.0</td>\n      <td>76.0</td>\n      <td>0.0</td>\n      <td>93.0</td>\n      <td>1.243243</td>\n      <td>0.987013</td>\n      <td>0.921642</td>\n      <td>1.341772</td>\n    </tr>\n    <tr>\n      <th>1</th>\n      <td>621e2e8e67b776a24055b564</td>\n      <td>2021-05-25</td>\n      <td>33.794544</td>\n      <td>57.681</td>\n      <td>94.303</td>\n      <td>NaN</td>\n      <td>15.8</td>\n      <td>80.0</td>\n      <td>0.833333</td>\n      <td>0.725</td>\n      <td>...</td>\n      <td>32880000.0</td>\n      <td>0.0</td>\n      <td>460.0</td>\n      <td>88.0</td>\n      <td>0.0</td>\n      <td>94.0</td>\n      <td>1.466667</td>\n      <td>1.142857</td>\n      <td>0.947566</td>\n      <td>1.197531</td>\n    </tr>\n    <tr>\n      <th>2</th>\n      <td>621e2e8e67b776a24055b564</td>\n      <td>2021-05-26</td>\n      <td>34.611011</td>\n      <td>57.481</td>\n      <td>119.212</td>\n      <td>NaN</td>\n      <td>14.6</td>\n      <td>84.0</td>\n      <td>0.966667</td>\n      <td>0.725</td>\n      <td>...</td>\n      <td>33600000.0</td>\n      <td>0.0</td>\n      <td>493.0</td>\n      <td>67.0</td>\n      <td>0.0</td>\n      <td>96.0</td>\n      <td>1.116883</td>\n      <td>0.858974</td>\n      <td>1.015038</td>\n      <td>1.670732</td>\n    </tr>\n    <tr>\n      <th>3</th>\n      <td>621e2e8e67b776a24055b564</td>\n      <td>2021-05-27</td>\n      <td>34.408304</td>\n      <td>57.493</td>\n      <td>111.709</td>\n      <td>NaN</td>\n      <td>14.8</td>\n      <td>82.0</td>\n      <td>0.933333</td>\n      <td>0.725</td>\n      <td>...</td>\n      <td>37620000.0</td>\n      <td>0.0</td>\n      <td>540.0</td>\n      <td>87.0</td>\n      <td>0.0</td>\n      <td>93.0</td>\n      <td>1.128205</td>\n      <td>1.129870</td>\n      <td>1.191729</td>\n      <td>1.588235</td>\n    </tr>\n    <tr>\n      <th>4</th>\n      <td>621e2e8e67b776a24055b564</td>\n      <td>2021-05-28</td>\n      <td>34.178922</td>\n      <td>56.750</td>\n      <td>103.034</td>\n      <td>NaN</td>\n      <td>15.2</td>\n      <td>81.0</td>\n      <td>0.866667</td>\n      <td>0.725</td>\n      <td>...</td>\n      <td>33660000.0</td>\n      <td>0.0</td>\n      <td>493.0</td>\n      <td>68.0</td>\n      <td>0.0</td>\n      <td>94.0</td>\n      <td>0.910256</td>\n      <td>0.871795</td>\n      <td>1.211896</td>\n      <td>1.090909</td>\n    </tr>\n    <tr>\n      <th>...</th>\n      <td>...</td>\n      <td>...</td>\n      <td>...</td>\n      <td>...</td>\n      <td>...</td>\n      <td>...</td>\n      <td>...</td>\n      <td>...</td>\n      <td>...</td>\n      <td>...</td>\n      <td>...</td>\n      <td>...</td>\n      <td>...</td>\n      <td>...</td>\n      <td>...</td>\n      <td>...</td>\n      <td>...</td>\n      <td>...</td>\n      <td>...</td>\n      <td>...</td>\n      <td>...</td>\n    </tr>\n    <tr>\n      <th>7348</th>\n      <td>621e375b67b776a240290cdc</td>\n      <td>2021-08-13</td>\n      <td>NaN</td>\n      <td>NaN</td>\n      <td>NaN</td>\n      <td>NaN</td>\n      <td>NaN</td>\n      <td>NaN</td>\n      <td>NaN</td>\n      <td>NaN</td>\n      <td>...</td>\n      <td>NaN</td>\n      <td>NaN</td>\n      <td>NaN</td>\n      <td>NaN</td>\n      <td>NaN</td>\n      <td>NaN</td>\n      <td>NaN</td>\n      <td>NaN</td>\n      <td>NaN</td>\n      <td>NaN</td>\n    </tr>\n    <tr>\n      <th>7349</th>\n      <td>621e375b67b776a240290cdc</td>\n      <td>2021-08-14</td>\n      <td>NaN</td>\n      <td>NaN</td>\n      <td>NaN</td>\n      <td>NaN</td>\n      <td>NaN</td>\n      <td>NaN</td>\n      <td>NaN</td>\n      <td>NaN</td>\n      <td>...</td>\n      <td>NaN</td>\n      <td>NaN</td>\n      <td>NaN</td>\n      <td>NaN</td>\n      <td>NaN</td>\n      <td>NaN</td>\n      <td>NaN</td>\n      <td>NaN</td>\n      <td>NaN</td>\n      <td>NaN</td>\n    </tr>\n    <tr>\n      <th>7350</th>\n      <td>621e375b67b776a240290cdc</td>\n      <td>2021-08-15</td>\n      <td>NaN</td>\n      <td>NaN</td>\n      <td>NaN</td>\n      <td>NaN</td>\n      <td>NaN</td>\n      <td>NaN</td>\n      <td>NaN</td>\n      <td>NaN</td>\n      <td>...</td>\n      <td>NaN</td>\n      <td>NaN</td>\n      <td>NaN</td>\n      <td>NaN</td>\n      <td>NaN</td>\n      <td>NaN</td>\n      <td>NaN</td>\n      <td>NaN</td>\n      <td>NaN</td>\n      <td>NaN</td>\n    </tr>\n    <tr>\n      <th>7351</th>\n      <td>621e375b67b776a240290cdc</td>\n      <td>2021-08-16</td>\n      <td>NaN</td>\n      <td>NaN</td>\n      <td>NaN</td>\n      <td>NaN</td>\n      <td>NaN</td>\n      <td>NaN</td>\n      <td>NaN</td>\n      <td>NaN</td>\n      <td>...</td>\n      <td>NaN</td>\n      <td>NaN</td>\n      <td>NaN</td>\n      <td>NaN</td>\n      <td>NaN</td>\n      <td>NaN</td>\n      <td>NaN</td>\n      <td>NaN</td>\n      <td>NaN</td>\n      <td>NaN</td>\n    </tr>\n    <tr>\n      <th>7352</th>\n      <td>621e375b67b776a240290cdc</td>\n      <td>2021-08-17</td>\n      <td>NaN</td>\n      <td>NaN</td>\n      <td>NaN</td>\n      <td>NaN</td>\n      <td>NaN</td>\n      <td>NaN</td>\n      <td>NaN</td>\n      <td>NaN</td>\n      <td>...</td>\n      <td>NaN</td>\n      <td>NaN</td>\n      <td>NaN</td>\n      <td>NaN</td>\n      <td>NaN</td>\n      <td>NaN</td>\n      <td>NaN</td>\n      <td>NaN</td>\n      <td>NaN</td>\n      <td>NaN</td>\n    </tr>\n  </tbody>\n</table>\n<p>7353 rows × 35 columns</p>\n</div>"
     },
     "execution_count": 41,
     "metadata": {},
     "output_type": "execute_result"
    }
   ],
   "source": [
    "def try_sleep_minutes(d, type):\n",
    "    try:\n",
    "        ratio = d[\"levels\"].get(\"summary\").get(type).get(\"minutes\")/d[\"levels\"].get(\"summary\").get(type).get(\"thirtyDayAvgMinutes\")\n",
    "    except AttributeError:\n",
    "        ratio = np.nan\n",
    "    except ZeroDivisionError:\n",
    "        ratio = np.nan\n",
    "\n",
    "    return ratio\n",
    "\n",
    "users_sleep = pd.DataFrame(columns=[\"id\", \"data\"])\n",
    "for user in users:\n",
    "    user_data = pd.DataFrame(list(\n",
    "        db.fitbit.find({\"$and\": [\n",
    "            {\"type\": \"sleep\"},\n",
    "            {\"id\": user},\n",
    "            {\"data.mainSleep\": True}\n",
    "        ]},\n",
    "            {\"id\": 1, \"data.dateOfSleep\": 1, \"data.duration\": 1, \"data.minutesToFallAsleep\": 1, \"data.minutesAsleep\": 1, \"data.minutesAwake\": 1, \"data.minutesAfterWakeup\": 1, \"data.efficiency\": 1, \"data.levels.summary.deep.minutes\": 1, \"data.levels.summary.deep.thirtyDayAvgMinutes\": 1, \"data.levels.summary.wake.minutes\": 1, \"data.levels.summary.wake.thirtyDayAvgMinutes\": 1, \"data.levels.summary.light.minutes\": 1, \"data.levels.summary.light.thirtyDayAvgMinutes\": 1, \"data.levels.summary.rem.minutes\": 1, \"data.levels.summary.rem.thirtyDayAvgMinutes\": 1, \"_id\": 0}\n",
    "        )\n",
    "    ))\n",
    "\n",
    "    users_sleep = pd.concat([users_sleep, user_data], axis=0)\n",
    "\n",
    "# split data column (json format) into two columns\n",
    "users_sleep[\"date\"] = users_sleep[\"data\"].apply(lambda d: d[\"dateOfSleep\"])\n",
    "users_sleep[\"sleep_duration\"] = users_sleep[\"data\"].apply(lambda d: d[\"duration\"])\n",
    "users_sleep[\"minutesToFallAsleep\"] = users_sleep[\"data\"].apply(lambda d: d[\"minutesToFallAsleep\"])\n",
    "users_sleep[\"minutesAsleep\"] = users_sleep[\"data\"].apply(lambda d: d[\"minutesAsleep\"])\n",
    "users_sleep[\"minutesAwake\"] = users_sleep[\"data\"].apply(lambda d: d[\"minutesAwake\"])\n",
    "users_sleep[\"minutesAfterWakeup\"] = users_sleep[\"data\"].apply(lambda d: d[\"minutesAfterWakeup\"])\n",
    "users_sleep[\"sleep_efficiency\"] = users_sleep[\"data\"].apply(lambda d: d[\"efficiency\"])\n",
    "users_sleep[\"sleep_deep_ratio\"] = users_sleep[\"data\"].apply(lambda d: try_sleep_minutes(d, \"deep\"))\n",
    "users_sleep[\"sleep_wake_ratio\"] = users_sleep[\"data\"].apply(lambda d: try_sleep_minutes(d, \"wake\"))\n",
    "users_sleep[\"sleep_light_ratio\"] = users_sleep[\"data\"].apply(lambda d: try_sleep_minutes(d, \"light\"))\n",
    "users_sleep[\"sleep_rem_ratio\"] = users_sleep[\"data\"].apply(lambda d: try_sleep_minutes(d, \"rem\"))\n",
    "users_sleep.drop([\"data\"], inplace=True, axis=1)\n",
    "\n",
    "# convert timestamp date object and then to datetime64[ns]\n",
    "users_sleep[\"date\"] = pd.to_datetime(users_sleep[\"date\"], infer_datetime_format=True)\n",
    "\n",
    "# merge\n",
    "df = df.merge(users_sleep, how='outer', on=['id', 'date'])\n",
    "\n",
    "# drop duplicates\n",
    "df = df.groupby([\"id\", \"date\"]).first()\n",
    "df.reset_index(drop=False, inplace=True)\n",
    "df.to_pickle('./data/temp_df_3.pkl')\n",
    "df"
   ],
   "metadata": {
    "collapsed": false,
    "pycharm": {
     "name": "#%%\n"
    }
   }
  },
  {
   "cell_type": "markdown",
   "source": [
    "Steps"
   ],
   "metadata": {
    "collapsed": false,
    "pycharm": {
     "name": "#%% md\n"
    }
   }
  },
  {
   "cell_type": "code",
   "execution_count": 42,
   "outputs": [
    {
     "name": "stderr",
     "output_type": "stream",
     "text": [
      "100%|██████████| 71/71 [00:50<00:00,  1.41it/s]\n"
     ]
    },
    {
     "data": {
      "text/plain": "                            id       date  nightly_temperature  nremhr  \\\n0     621e2e8e67b776a24055b564 2021-05-24            34.137687  57.432   \n1     621e2e8e67b776a24055b564 2021-05-25            33.794544  57.681   \n2     621e2e8e67b776a24055b564 2021-05-26            34.611011  57.481   \n3     621e2e8e67b776a24055b564 2021-05-27            34.408304  57.493   \n4     621e2e8e67b776a24055b564 2021-05-28            34.178922  56.750   \n...                        ...        ...                  ...     ...   \n7348  621e375b67b776a240290cdc 2021-08-13                  NaN     NaN   \n7349  621e375b67b776a240290cdc 2021-08-14                  NaN     NaN   \n7350  621e375b67b776a240290cdc 2021-08-15                  NaN     NaN   \n7351  621e375b67b776a240290cdc 2021-08-16                  NaN     NaN   \n7352  621e375b67b776a240290cdc 2021-08-17                  NaN     NaN   \n\n        rmssd  spo2  full_sleep_breathing_rate  stress_score  \\\n0      89.603   NaN                       14.8          78.0   \n1      94.303   NaN                       15.8          80.0   \n2     119.212   NaN                       14.6          84.0   \n3     111.709   NaN                       14.8          82.0   \n4     103.034   NaN                       15.2          81.0   \n...       ...   ...                        ...           ...   \n7348      NaN   NaN                        NaN           NaN   \n7349      NaN   NaN                        NaN           NaN   \n7350      NaN   NaN                        NaN           NaN   \n7351      NaN   NaN                        NaN           NaN   \n7352      NaN   NaN                        NaN           NaN   \n\n      sleep_points_percentage  exertion_points_percentage  ...  \\\n0                    0.833333                       0.675  ...   \n1                    0.833333                       0.725  ...   \n2                    0.966667                       0.725  ...   \n3                    0.933333                       0.725  ...   \n4                    0.866667                       0.725  ...   \n...                       ...                         ...  ...   \n7348                      NaN                         NaN  ...   \n7349                      NaN                         NaN  ...   \n7350                      NaN                         NaN  ...   \n7351                      NaN                         NaN  ...   \n7352                      NaN                         NaN  ...   \n\n      minutesToFallAsleep  minutesAsleep minutesAwake  minutesAfterWakeup  \\\n0                     0.0          445.0         76.0                 0.0   \n1                     0.0          460.0         88.0                 0.0   \n2                     0.0          493.0         67.0                 0.0   \n3                     0.0          540.0         87.0                 0.0   \n4                     0.0          493.0         68.0                 0.0   \n...                   ...            ...          ...                 ...   \n7348                  NaN            NaN          NaN                 NaN   \n7349                  NaN            NaN          NaN                 NaN   \n7350                  NaN            NaN          NaN                 NaN   \n7351                  NaN            NaN          NaN                 NaN   \n7352                  NaN            NaN          NaN                 NaN   \n\n      sleep_efficiency  sleep_deep_ratio sleep_wake_ratio  sleep_light_ratio  \\\n0                 93.0          1.243243         0.987013           0.921642   \n1                 94.0          1.466667         1.142857           0.947566   \n2                 96.0          1.116883         0.858974           1.015038   \n3                 93.0          1.128205         1.129870           1.191729   \n4                 94.0          0.910256         0.871795           1.211896   \n...                ...               ...              ...                ...   \n7348               NaN               NaN              NaN                NaN   \n7349               NaN               NaN              NaN                NaN   \n7350               NaN               NaN              NaN                NaN   \n7351               NaN               NaN              NaN                NaN   \n7352               NaN               NaN              NaN                NaN   \n\n     sleep_rem_ratio    steps  \n0           1.341772   8833.0  \n1           1.197531   9727.0  \n2           1.670732   8253.0  \n3           1.588235   9015.0  \n4           1.090909  12949.0  \n...              ...      ...  \n7348             NaN      NaN  \n7349             NaN      NaN  \n7350             NaN      NaN  \n7351             NaN      NaN  \n7352             NaN      NaN  \n\n[7353 rows x 36 columns]",
      "text/html": "<div>\n<style scoped>\n    .dataframe tbody tr th:only-of-type {\n        vertical-align: middle;\n    }\n\n    .dataframe tbody tr th {\n        vertical-align: top;\n    }\n\n    .dataframe thead th {\n        text-align: right;\n    }\n</style>\n<table border=\"1\" class=\"dataframe\">\n  <thead>\n    <tr style=\"text-align: right;\">\n      <th></th>\n      <th>id</th>\n      <th>date</th>\n      <th>nightly_temperature</th>\n      <th>nremhr</th>\n      <th>rmssd</th>\n      <th>spo2</th>\n      <th>full_sleep_breathing_rate</th>\n      <th>stress_score</th>\n      <th>sleep_points_percentage</th>\n      <th>exertion_points_percentage</th>\n      <th>...</th>\n      <th>minutesToFallAsleep</th>\n      <th>minutesAsleep</th>\n      <th>minutesAwake</th>\n      <th>minutesAfterWakeup</th>\n      <th>sleep_efficiency</th>\n      <th>sleep_deep_ratio</th>\n      <th>sleep_wake_ratio</th>\n      <th>sleep_light_ratio</th>\n      <th>sleep_rem_ratio</th>\n      <th>steps</th>\n    </tr>\n  </thead>\n  <tbody>\n    <tr>\n      <th>0</th>\n      <td>621e2e8e67b776a24055b564</td>\n      <td>2021-05-24</td>\n      <td>34.137687</td>\n      <td>57.432</td>\n      <td>89.603</td>\n      <td>NaN</td>\n      <td>14.8</td>\n      <td>78.0</td>\n      <td>0.833333</td>\n      <td>0.675</td>\n      <td>...</td>\n      <td>0.0</td>\n      <td>445.0</td>\n      <td>76.0</td>\n      <td>0.0</td>\n      <td>93.0</td>\n      <td>1.243243</td>\n      <td>0.987013</td>\n      <td>0.921642</td>\n      <td>1.341772</td>\n      <td>8833.0</td>\n    </tr>\n    <tr>\n      <th>1</th>\n      <td>621e2e8e67b776a24055b564</td>\n      <td>2021-05-25</td>\n      <td>33.794544</td>\n      <td>57.681</td>\n      <td>94.303</td>\n      <td>NaN</td>\n      <td>15.8</td>\n      <td>80.0</td>\n      <td>0.833333</td>\n      <td>0.725</td>\n      <td>...</td>\n      <td>0.0</td>\n      <td>460.0</td>\n      <td>88.0</td>\n      <td>0.0</td>\n      <td>94.0</td>\n      <td>1.466667</td>\n      <td>1.142857</td>\n      <td>0.947566</td>\n      <td>1.197531</td>\n      <td>9727.0</td>\n    </tr>\n    <tr>\n      <th>2</th>\n      <td>621e2e8e67b776a24055b564</td>\n      <td>2021-05-26</td>\n      <td>34.611011</td>\n      <td>57.481</td>\n      <td>119.212</td>\n      <td>NaN</td>\n      <td>14.6</td>\n      <td>84.0</td>\n      <td>0.966667</td>\n      <td>0.725</td>\n      <td>...</td>\n      <td>0.0</td>\n      <td>493.0</td>\n      <td>67.0</td>\n      <td>0.0</td>\n      <td>96.0</td>\n      <td>1.116883</td>\n      <td>0.858974</td>\n      <td>1.015038</td>\n      <td>1.670732</td>\n      <td>8253.0</td>\n    </tr>\n    <tr>\n      <th>3</th>\n      <td>621e2e8e67b776a24055b564</td>\n      <td>2021-05-27</td>\n      <td>34.408304</td>\n      <td>57.493</td>\n      <td>111.709</td>\n      <td>NaN</td>\n      <td>14.8</td>\n      <td>82.0</td>\n      <td>0.933333</td>\n      <td>0.725</td>\n      <td>...</td>\n      <td>0.0</td>\n      <td>540.0</td>\n      <td>87.0</td>\n      <td>0.0</td>\n      <td>93.0</td>\n      <td>1.128205</td>\n      <td>1.129870</td>\n      <td>1.191729</td>\n      <td>1.588235</td>\n      <td>9015.0</td>\n    </tr>\n    <tr>\n      <th>4</th>\n      <td>621e2e8e67b776a24055b564</td>\n      <td>2021-05-28</td>\n      <td>34.178922</td>\n      <td>56.750</td>\n      <td>103.034</td>\n      <td>NaN</td>\n      <td>15.2</td>\n      <td>81.0</td>\n      <td>0.866667</td>\n      <td>0.725</td>\n      <td>...</td>\n      <td>0.0</td>\n      <td>493.0</td>\n      <td>68.0</td>\n      <td>0.0</td>\n      <td>94.0</td>\n      <td>0.910256</td>\n      <td>0.871795</td>\n      <td>1.211896</td>\n      <td>1.090909</td>\n      <td>12949.0</td>\n    </tr>\n    <tr>\n      <th>...</th>\n      <td>...</td>\n      <td>...</td>\n      <td>...</td>\n      <td>...</td>\n      <td>...</td>\n      <td>...</td>\n      <td>...</td>\n      <td>...</td>\n      <td>...</td>\n      <td>...</td>\n      <td>...</td>\n      <td>...</td>\n      <td>...</td>\n      <td>...</td>\n      <td>...</td>\n      <td>...</td>\n      <td>...</td>\n      <td>...</td>\n      <td>...</td>\n      <td>...</td>\n      <td>...</td>\n    </tr>\n    <tr>\n      <th>7348</th>\n      <td>621e375b67b776a240290cdc</td>\n      <td>2021-08-13</td>\n      <td>NaN</td>\n      <td>NaN</td>\n      <td>NaN</td>\n      <td>NaN</td>\n      <td>NaN</td>\n      <td>NaN</td>\n      <td>NaN</td>\n      <td>NaN</td>\n      <td>...</td>\n      <td>NaN</td>\n      <td>NaN</td>\n      <td>NaN</td>\n      <td>NaN</td>\n      <td>NaN</td>\n      <td>NaN</td>\n      <td>NaN</td>\n      <td>NaN</td>\n      <td>NaN</td>\n      <td>NaN</td>\n    </tr>\n    <tr>\n      <th>7349</th>\n      <td>621e375b67b776a240290cdc</td>\n      <td>2021-08-14</td>\n      <td>NaN</td>\n      <td>NaN</td>\n      <td>NaN</td>\n      <td>NaN</td>\n      <td>NaN</td>\n      <td>NaN</td>\n      <td>NaN</td>\n      <td>NaN</td>\n      <td>...</td>\n      <td>NaN</td>\n      <td>NaN</td>\n      <td>NaN</td>\n      <td>NaN</td>\n      <td>NaN</td>\n      <td>NaN</td>\n      <td>NaN</td>\n      <td>NaN</td>\n      <td>NaN</td>\n      <td>NaN</td>\n    </tr>\n    <tr>\n      <th>7350</th>\n      <td>621e375b67b776a240290cdc</td>\n      <td>2021-08-15</td>\n      <td>NaN</td>\n      <td>NaN</td>\n      <td>NaN</td>\n      <td>NaN</td>\n      <td>NaN</td>\n      <td>NaN</td>\n      <td>NaN</td>\n      <td>NaN</td>\n      <td>...</td>\n      <td>NaN</td>\n      <td>NaN</td>\n      <td>NaN</td>\n      <td>NaN</td>\n      <td>NaN</td>\n      <td>NaN</td>\n      <td>NaN</td>\n      <td>NaN</td>\n      <td>NaN</td>\n      <td>NaN</td>\n    </tr>\n    <tr>\n      <th>7351</th>\n      <td>621e375b67b776a240290cdc</td>\n      <td>2021-08-16</td>\n      <td>NaN</td>\n      <td>NaN</td>\n      <td>NaN</td>\n      <td>NaN</td>\n      <td>NaN</td>\n      <td>NaN</td>\n      <td>NaN</td>\n      <td>NaN</td>\n      <td>...</td>\n      <td>NaN</td>\n      <td>NaN</td>\n      <td>NaN</td>\n      <td>NaN</td>\n      <td>NaN</td>\n      <td>NaN</td>\n      <td>NaN</td>\n      <td>NaN</td>\n      <td>NaN</td>\n      <td>NaN</td>\n    </tr>\n    <tr>\n      <th>7352</th>\n      <td>621e375b67b776a240290cdc</td>\n      <td>2021-08-17</td>\n      <td>NaN</td>\n      <td>NaN</td>\n      <td>NaN</td>\n      <td>NaN</td>\n      <td>NaN</td>\n      <td>NaN</td>\n      <td>NaN</td>\n      <td>NaN</td>\n      <td>...</td>\n      <td>NaN</td>\n      <td>NaN</td>\n      <td>NaN</td>\n      <td>NaN</td>\n      <td>NaN</td>\n      <td>NaN</td>\n      <td>NaN</td>\n      <td>NaN</td>\n      <td>NaN</td>\n      <td>NaN</td>\n    </tr>\n  </tbody>\n</table>\n<p>7353 rows × 36 columns</p>\n</div>"
     },
     "execution_count": 42,
     "metadata": {},
     "output_type": "execute_result"
    }
   ],
   "source": [
    "if not os.path.exists(\"data/users_steps_daily.pkl\"):\n",
    "    steps_dataframe = pd.DataFrame(columns=[\"date\", \"steps\", \"id\"])\n",
    "    for user in tqdm(users):\n",
    "        user_dataframe = pd.DataFrame(list(\n",
    "            db.fitbit.find(\n",
    "                {\"type\": \"steps\",\n",
    "                 \"id\": user},\n",
    "                {\"data.dateTime\": 1, \"data.value\": 1, \"id\": 1, \"_id\": 0}\n",
    "            )\n",
    "        ))\n",
    "        user_dataframe['date'] = user_dataframe['data'].apply(lambda d: d['dateTime'])\n",
    "        user_dataframe['steps'] = user_dataframe['data'].apply(lambda d: d['value'])\n",
    "        user_dataframe.drop([\"data\"], inplace=True, axis=1)\n",
    "\n",
    "        # basic preprocessing for steps - transformations\n",
    "        user_dataframe['steps'] = pd.to_numeric(user_dataframe['steps'])  # was string\n",
    "        user_dataframe[\"date\"] = pd.to_datetime(pd.to_datetime(user_dataframe[\"date\"], infer_datetime_format=True).dt.date, infer_datetime_format=True)\n",
    "\n",
    "        steps_dataframe = pd.concat([steps_dataframe, user_dataframe], axis=0, ignore_index=True)\n",
    "\n",
    "    # group by date and then take the sum\n",
    "    steps_dataframe = steps_dataframe.groupby(['id', 'date']).sum()\n",
    "    steps_dataframe.reset_index(drop=False, inplace=True)\n",
    "    steps_dataframe.to_pickle(\"data/users_steps_daily.pkl\")\n",
    "\n",
    "infile = open('data/users_steps_daily.pkl','rb')\n",
    "steps_daily = pickle.load(infile)\n",
    "infile.close()\n",
    "\n",
    "# merge\n",
    "df = df.merge(steps_daily, how='outer', on=['id', 'date'])\n",
    "df"
   ],
   "metadata": {
    "collapsed": false,
    "pycharm": {
     "name": "#%%\n"
    }
   }
  },
  {
   "cell_type": "markdown",
   "source": [
    "Time in Heart Rate Zones"
   ],
   "metadata": {
    "collapsed": false,
    "pycharm": {
     "name": "#%% md\n"
    }
   }
  },
  {
   "cell_type": "code",
   "execution_count": 43,
   "outputs": [
    {
     "data": {
      "text/plain": "                            id       date  nightly_temperature  nremhr  \\\n0     621e2e8e67b776a24055b564 2021-05-24            34.137687  57.432   \n1     621e2e8e67b776a24055b564 2021-05-25            33.794544  57.681   \n2     621e2e8e67b776a24055b564 2021-05-26            34.611011  57.481   \n3     621e2e8e67b776a24055b564 2021-05-27            34.408304  57.493   \n4     621e2e8e67b776a24055b564 2021-05-28            34.178922  56.750   \n...                        ...        ...                  ...     ...   \n7416  621e375b67b776a240290cdc 2021-08-13                  NaN     NaN   \n7417  621e375b67b776a240290cdc 2021-08-14                  NaN     NaN   \n7418  621e375b67b776a240290cdc 2021-08-15                  NaN     NaN   \n7419  621e375b67b776a240290cdc 2021-08-16                  NaN     NaN   \n7420  621e375b67b776a240290cdc 2021-08-17                  NaN     NaN   \n\n        rmssd  spo2  full_sleep_breathing_rate  stress_score  \\\n0      89.603   NaN                       14.8          78.0   \n1      94.303   NaN                       15.8          80.0   \n2     119.212   NaN                       14.6          84.0   \n3     111.709   NaN                       14.8          82.0   \n4     103.034   NaN                       15.2          81.0   \n...       ...   ...                        ...           ...   \n7416      NaN   NaN                        NaN           NaN   \n7417      NaN   NaN                        NaN           NaN   \n7418      NaN   NaN                        NaN           NaN   \n7419      NaN   NaN                        NaN           NaN   \n7420      NaN   NaN                        NaN           NaN   \n\n      sleep_points_percentage  exertion_points_percentage  ...  \\\n0                    0.833333                       0.675  ...   \n1                    0.833333                       0.725  ...   \n2                    0.966667                       0.725  ...   \n3                    0.933333                       0.725  ...   \n4                    0.866667                       0.725  ...   \n...                       ...                         ...  ...   \n7416                      NaN                         NaN  ...   \n7417                      NaN                         NaN  ...   \n7418                      NaN                         NaN  ...   \n7419                      NaN                         NaN  ...   \n7420                      NaN                         NaN  ...   \n\n      sleep_efficiency  sleep_deep_ratio sleep_wake_ratio  sleep_light_ratio  \\\n0                 93.0          1.243243         0.987013           0.921642   \n1                 94.0          1.466667         1.142857           0.947566   \n2                 96.0          1.116883         0.858974           1.015038   \n3                 93.0          1.128205         1.129870           1.191729   \n4                 94.0          0.910256         0.871795           1.211896   \n...                ...               ...              ...                ...   \n7416               NaN               NaN              NaN                NaN   \n7417               NaN               NaN              NaN                NaN   \n7418               NaN               NaN              NaN                NaN   \n7419               NaN               NaN              NaN                NaN   \n7420               NaN               NaN              NaN                NaN   \n\n      sleep_rem_ratio    steps minutes_in_default_zone_1  \\\n0            1.341772   8833.0                      83.0   \n1            1.197531   9727.0                      56.0   \n2            1.670732   8253.0                      85.0   \n3            1.588235   9015.0                      90.0   \n4            1.090909  12949.0                     146.0   \n...               ...      ...                       ...   \n7416              NaN      NaN                       NaN   \n7417              NaN      NaN                       NaN   \n7418              NaN      NaN                       NaN   \n7419              NaN      NaN                       NaN   \n7420              NaN      NaN                       NaN   \n\n      minutes_below_default_zone_1 minutes_in_default_zone_2  \\\n0                           1349.0                       0.0   \n1                           1374.0                       4.0   \n2                           1350.0                       0.0   \n3                           1282.0                       0.0   \n4                           1274.0                       4.0   \n...                            ...                       ...   \n7416                           NaN                       NaN   \n7417                           NaN                       NaN   \n7418                           NaN                       NaN   \n7419                           NaN                       NaN   \n7420                           NaN                       NaN   \n\n     minutes_in_default_zone_3  \n0                          0.0  \n1                          0.0  \n2                          0.0  \n3                          0.0  \n4                          0.0  \n...                        ...  \n7416                       NaN  \n7417                       NaN  \n7418                       NaN  \n7419                       NaN  \n7420                       NaN  \n\n[7421 rows x 40 columns]",
      "text/html": "<div>\n<style scoped>\n    .dataframe tbody tr th:only-of-type {\n        vertical-align: middle;\n    }\n\n    .dataframe tbody tr th {\n        vertical-align: top;\n    }\n\n    .dataframe thead th {\n        text-align: right;\n    }\n</style>\n<table border=\"1\" class=\"dataframe\">\n  <thead>\n    <tr style=\"text-align: right;\">\n      <th></th>\n      <th>id</th>\n      <th>date</th>\n      <th>nightly_temperature</th>\n      <th>nremhr</th>\n      <th>rmssd</th>\n      <th>spo2</th>\n      <th>full_sleep_breathing_rate</th>\n      <th>stress_score</th>\n      <th>sleep_points_percentage</th>\n      <th>exertion_points_percentage</th>\n      <th>...</th>\n      <th>sleep_efficiency</th>\n      <th>sleep_deep_ratio</th>\n      <th>sleep_wake_ratio</th>\n      <th>sleep_light_ratio</th>\n      <th>sleep_rem_ratio</th>\n      <th>steps</th>\n      <th>minutes_in_default_zone_1</th>\n      <th>minutes_below_default_zone_1</th>\n      <th>minutes_in_default_zone_2</th>\n      <th>minutes_in_default_zone_3</th>\n    </tr>\n  </thead>\n  <tbody>\n    <tr>\n      <th>0</th>\n      <td>621e2e8e67b776a24055b564</td>\n      <td>2021-05-24</td>\n      <td>34.137687</td>\n      <td>57.432</td>\n      <td>89.603</td>\n      <td>NaN</td>\n      <td>14.8</td>\n      <td>78.0</td>\n      <td>0.833333</td>\n      <td>0.675</td>\n      <td>...</td>\n      <td>93.0</td>\n      <td>1.243243</td>\n      <td>0.987013</td>\n      <td>0.921642</td>\n      <td>1.341772</td>\n      <td>8833.0</td>\n      <td>83.0</td>\n      <td>1349.0</td>\n      <td>0.0</td>\n      <td>0.0</td>\n    </tr>\n    <tr>\n      <th>1</th>\n      <td>621e2e8e67b776a24055b564</td>\n      <td>2021-05-25</td>\n      <td>33.794544</td>\n      <td>57.681</td>\n      <td>94.303</td>\n      <td>NaN</td>\n      <td>15.8</td>\n      <td>80.0</td>\n      <td>0.833333</td>\n      <td>0.725</td>\n      <td>...</td>\n      <td>94.0</td>\n      <td>1.466667</td>\n      <td>1.142857</td>\n      <td>0.947566</td>\n      <td>1.197531</td>\n      <td>9727.0</td>\n      <td>56.0</td>\n      <td>1374.0</td>\n      <td>4.0</td>\n      <td>0.0</td>\n    </tr>\n    <tr>\n      <th>2</th>\n      <td>621e2e8e67b776a24055b564</td>\n      <td>2021-05-26</td>\n      <td>34.611011</td>\n      <td>57.481</td>\n      <td>119.212</td>\n      <td>NaN</td>\n      <td>14.6</td>\n      <td>84.0</td>\n      <td>0.966667</td>\n      <td>0.725</td>\n      <td>...</td>\n      <td>96.0</td>\n      <td>1.116883</td>\n      <td>0.858974</td>\n      <td>1.015038</td>\n      <td>1.670732</td>\n      <td>8253.0</td>\n      <td>85.0</td>\n      <td>1350.0</td>\n      <td>0.0</td>\n      <td>0.0</td>\n    </tr>\n    <tr>\n      <th>3</th>\n      <td>621e2e8e67b776a24055b564</td>\n      <td>2021-05-27</td>\n      <td>34.408304</td>\n      <td>57.493</td>\n      <td>111.709</td>\n      <td>NaN</td>\n      <td>14.8</td>\n      <td>82.0</td>\n      <td>0.933333</td>\n      <td>0.725</td>\n      <td>...</td>\n      <td>93.0</td>\n      <td>1.128205</td>\n      <td>1.129870</td>\n      <td>1.191729</td>\n      <td>1.588235</td>\n      <td>9015.0</td>\n      <td>90.0</td>\n      <td>1282.0</td>\n      <td>0.0</td>\n      <td>0.0</td>\n    </tr>\n    <tr>\n      <th>4</th>\n      <td>621e2e8e67b776a24055b564</td>\n      <td>2021-05-28</td>\n      <td>34.178922</td>\n      <td>56.750</td>\n      <td>103.034</td>\n      <td>NaN</td>\n      <td>15.2</td>\n      <td>81.0</td>\n      <td>0.866667</td>\n      <td>0.725</td>\n      <td>...</td>\n      <td>94.0</td>\n      <td>0.910256</td>\n      <td>0.871795</td>\n      <td>1.211896</td>\n      <td>1.090909</td>\n      <td>12949.0</td>\n      <td>146.0</td>\n      <td>1274.0</td>\n      <td>4.0</td>\n      <td>0.0</td>\n    </tr>\n    <tr>\n      <th>...</th>\n      <td>...</td>\n      <td>...</td>\n      <td>...</td>\n      <td>...</td>\n      <td>...</td>\n      <td>...</td>\n      <td>...</td>\n      <td>...</td>\n      <td>...</td>\n      <td>...</td>\n      <td>...</td>\n      <td>...</td>\n      <td>...</td>\n      <td>...</td>\n      <td>...</td>\n      <td>...</td>\n      <td>...</td>\n      <td>...</td>\n      <td>...</td>\n      <td>...</td>\n      <td>...</td>\n    </tr>\n    <tr>\n      <th>7416</th>\n      <td>621e375b67b776a240290cdc</td>\n      <td>2021-08-13</td>\n      <td>NaN</td>\n      <td>NaN</td>\n      <td>NaN</td>\n      <td>NaN</td>\n      <td>NaN</td>\n      <td>NaN</td>\n      <td>NaN</td>\n      <td>NaN</td>\n      <td>...</td>\n      <td>NaN</td>\n      <td>NaN</td>\n      <td>NaN</td>\n      <td>NaN</td>\n      <td>NaN</td>\n      <td>NaN</td>\n      <td>NaN</td>\n      <td>NaN</td>\n      <td>NaN</td>\n      <td>NaN</td>\n    </tr>\n    <tr>\n      <th>7417</th>\n      <td>621e375b67b776a240290cdc</td>\n      <td>2021-08-14</td>\n      <td>NaN</td>\n      <td>NaN</td>\n      <td>NaN</td>\n      <td>NaN</td>\n      <td>NaN</td>\n      <td>NaN</td>\n      <td>NaN</td>\n      <td>NaN</td>\n      <td>...</td>\n      <td>NaN</td>\n      <td>NaN</td>\n      <td>NaN</td>\n      <td>NaN</td>\n      <td>NaN</td>\n      <td>NaN</td>\n      <td>NaN</td>\n      <td>NaN</td>\n      <td>NaN</td>\n      <td>NaN</td>\n    </tr>\n    <tr>\n      <th>7418</th>\n      <td>621e375b67b776a240290cdc</td>\n      <td>2021-08-15</td>\n      <td>NaN</td>\n      <td>NaN</td>\n      <td>NaN</td>\n      <td>NaN</td>\n      <td>NaN</td>\n      <td>NaN</td>\n      <td>NaN</td>\n      <td>NaN</td>\n      <td>...</td>\n      <td>NaN</td>\n      <td>NaN</td>\n      <td>NaN</td>\n      <td>NaN</td>\n      <td>NaN</td>\n      <td>NaN</td>\n      <td>NaN</td>\n      <td>NaN</td>\n      <td>NaN</td>\n      <td>NaN</td>\n    </tr>\n    <tr>\n      <th>7419</th>\n      <td>621e375b67b776a240290cdc</td>\n      <td>2021-08-16</td>\n      <td>NaN</td>\n      <td>NaN</td>\n      <td>NaN</td>\n      <td>NaN</td>\n      <td>NaN</td>\n      <td>NaN</td>\n      <td>NaN</td>\n      <td>NaN</td>\n      <td>...</td>\n      <td>NaN</td>\n      <td>NaN</td>\n      <td>NaN</td>\n      <td>NaN</td>\n      <td>NaN</td>\n      <td>NaN</td>\n      <td>NaN</td>\n      <td>NaN</td>\n      <td>NaN</td>\n      <td>NaN</td>\n    </tr>\n    <tr>\n      <th>7420</th>\n      <td>621e375b67b776a240290cdc</td>\n      <td>2021-08-17</td>\n      <td>NaN</td>\n      <td>NaN</td>\n      <td>NaN</td>\n      <td>NaN</td>\n      <td>NaN</td>\n      <td>NaN</td>\n      <td>NaN</td>\n      <td>NaN</td>\n      <td>...</td>\n      <td>NaN</td>\n      <td>NaN</td>\n      <td>NaN</td>\n      <td>NaN</td>\n      <td>NaN</td>\n      <td>NaN</td>\n      <td>NaN</td>\n      <td>NaN</td>\n      <td>NaN</td>\n      <td>NaN</td>\n    </tr>\n  </tbody>\n</table>\n<p>7421 rows × 40 columns</p>\n</div>"
     },
     "execution_count": 43,
     "metadata": {},
     "output_type": "execute_result"
    }
   ],
   "source": [
    "users_time_in_heart_rate_zones = pd.DataFrame(columns=[\"id\", \"data\"])\n",
    "for user in users:\n",
    "    user_data = pd.DataFrame(list(\n",
    "        db.fitbit.find({\"$and\": [\n",
    "            {\"type\": \"time_in_heart_rate_zones\"},\n",
    "            {\"id\": user}\n",
    "        ]},\n",
    "            {\"id\": 1, \"data.dateTime\": 1, \"data.value\": 1, \"_id\": 0}\n",
    "        )\n",
    "    ))\n",
    "\n",
    "    users_time_in_heart_rate_zones = pd.concat([users_time_in_heart_rate_zones, user_data], axis=0)\n",
    "\n",
    "# split data column (json format) into two columns\n",
    "users_time_in_heart_rate_zones[\"date\"] = users_time_in_heart_rate_zones[\"data\"].apply(lambda d: d[\"dateTime\"])\n",
    "users_time_in_heart_rate_zones[\"minutes_in_default_zone_1\"] = users_time_in_heart_rate_zones[\"data\"].apply(lambda d: d[\"value\"].get(\"valuesInZones\").get(\"IN_DEFAULT_ZONE_1\"))\n",
    "users_time_in_heart_rate_zones[\"minutes_below_default_zone_1\"] = users_time_in_heart_rate_zones[\"data\"].apply(lambda d: d[\"value\"].get(\"valuesInZones\").get(\"BELOW_DEFAULT_ZONE_1\"))\n",
    "users_time_in_heart_rate_zones[\"minutes_in_default_zone_2\"] = users_time_in_heart_rate_zones[\"data\"].apply(lambda d: d[\"value\"].get(\"valuesInZones\").get(\"IN_DEFAULT_ZONE_2\"))\n",
    "users_time_in_heart_rate_zones[\"minutes_in_default_zone_3\"] = users_time_in_heart_rate_zones[\"data\"].apply(lambda d: d[\"value\"].get(\"valuesInZones\").get(\"IN_DEFAULT_ZONE_3\"))\n",
    "users_time_in_heart_rate_zones.drop([\"data\"], inplace=True, axis=1)\n",
    "\n",
    "# convert timestamp date object and then to datetime64[ns]\n",
    "users_time_in_heart_rate_zones[\"date\"] = pd.to_datetime(pd.to_datetime(users_time_in_heart_rate_zones[\"date\"], format=\"%m/%d/%y %H:%M:%S\").dt.date, format=\"%Y/%m/%d\")\n",
    "\n",
    "# merge\n",
    "df = df.merge(users_time_in_heart_rate_zones, how='outer', on=['id', 'date'])\n",
    "df"
   ],
   "metadata": {
    "collapsed": false,
    "pycharm": {
     "name": "#%%\n"
    }
   }
  },
  {
   "cell_type": "markdown",
   "source": [
    "Profile"
   ],
   "metadata": {
    "collapsed": false,
    "pycharm": {
     "name": "#%% md\n"
    }
   }
  },
  {
   "cell_type": "code",
   "execution_count": 44,
   "outputs": [],
   "source": [
    "def get_age(date_of_birth):\n",
    "    today = date.today()\n",
    "    return today.year - date_of_birth.year - ((today.month, today.day) < (date_of_birth.month, date_of_birth.day))"
   ],
   "metadata": {
    "collapsed": false,
    "pycharm": {
     "name": "#%%\n"
    }
   }
  },
  {
   "cell_type": "code",
   "execution_count": 45,
   "outputs": [
    {
     "data": {
      "text/plain": "                            id       date  nightly_temperature  nremhr  \\\n0     621e2e8e67b776a24055b564 2021-05-24            34.137687  57.432   \n1     621e2e8e67b776a24055b564 2021-05-25            33.794544  57.681   \n2     621e2e8e67b776a24055b564 2021-05-26            34.611011  57.481   \n3     621e2e8e67b776a24055b564 2021-05-27            34.408304  57.493   \n4     621e2e8e67b776a24055b564 2021-05-28            34.178922  56.750   \n...                        ...        ...                  ...     ...   \n7416  621e375b67b776a240290cdc 2021-08-13                  NaN     NaN   \n7417  621e375b67b776a240290cdc 2021-08-14                  NaN     NaN   \n7418  621e375b67b776a240290cdc 2021-08-15                  NaN     NaN   \n7419  621e375b67b776a240290cdc 2021-08-16                  NaN     NaN   \n7420  621e375b67b776a240290cdc 2021-08-17                  NaN     NaN   \n\n        rmssd  spo2  full_sleep_breathing_rate  stress_score  \\\n0      89.603   NaN                       14.8          78.0   \n1      94.303   NaN                       15.8          80.0   \n2     119.212   NaN                       14.6          84.0   \n3     111.709   NaN                       14.8          82.0   \n4     103.034   NaN                       15.2          81.0   \n...       ...   ...                        ...           ...   \n7416      NaN   NaN                        NaN           NaN   \n7417      NaN   NaN                        NaN           NaN   \n7418      NaN   NaN                        NaN           NaN   \n7419      NaN   NaN                        NaN           NaN   \n7420      NaN   NaN                        NaN           NaN   \n\n      sleep_points_percentage  exertion_points_percentage  ...  \\\n0                    0.833333                       0.675  ...   \n1                    0.833333                       0.725  ...   \n2                    0.966667                       0.725  ...   \n3                    0.933333                       0.725  ...   \n4                    0.866667                       0.725  ...   \n...                       ...                         ...  ...   \n7416                      NaN                         NaN  ...   \n7417                      NaN                         NaN  ...   \n7418                      NaN                         NaN  ...   \n7419                      NaN                         NaN  ...   \n7420                      NaN                         NaN  ...   \n\n      sleep_light_ratio  sleep_rem_ratio    steps  minutes_in_default_zone_1  \\\n0              0.921642         1.341772   8833.0                       83.0   \n1              0.947566         1.197531   9727.0                       56.0   \n2              1.015038         1.670732   8253.0                       85.0   \n3              1.191729         1.588235   9015.0                       90.0   \n4              1.211896         1.090909  12949.0                      146.0   \n...                 ...              ...      ...                        ...   \n7416                NaN              NaN      NaN                        NaN   \n7417                NaN              NaN      NaN                        NaN   \n7418                NaN              NaN      NaN                        NaN   \n7419                NaN              NaN      NaN                        NaN   \n7420                NaN              NaN      NaN                        NaN   \n\n      minutes_below_default_zone_1  minutes_in_default_zone_2  \\\n0                           1349.0                        0.0   \n1                           1374.0                        4.0   \n2                           1350.0                        0.0   \n3                           1282.0                        0.0   \n4                           1274.0                        4.0   \n...                            ...                        ...   \n7416                           NaN                        NaN   \n7417                           NaN                        NaN   \n7418                           NaN                        NaN   \n7419                           NaN                        NaN   \n7420                           NaN                        NaN   \n\n     minutes_in_default_zone_3  age  gender   bmi  \n0                          0.0  <30    MALE   <19  \n1                          0.0  <30    MALE   <19  \n2                          0.0  <30    MALE   <19  \n3                          0.0  <30    MALE   <19  \n4                          0.0  <30    MALE   <19  \n...                        ...  ...     ...   ...  \n7416                       NaN  <30  FEMALE  23.0  \n7417                       NaN  <30  FEMALE  23.0  \n7418                       NaN  <30  FEMALE  23.0  \n7419                       NaN  <30  FEMALE  23.0  \n7420                       NaN  <30  FEMALE  23.0  \n\n[7421 rows x 43 columns]",
      "text/html": "<div>\n<style scoped>\n    .dataframe tbody tr th:only-of-type {\n        vertical-align: middle;\n    }\n\n    .dataframe tbody tr th {\n        vertical-align: top;\n    }\n\n    .dataframe thead th {\n        text-align: right;\n    }\n</style>\n<table border=\"1\" class=\"dataframe\">\n  <thead>\n    <tr style=\"text-align: right;\">\n      <th></th>\n      <th>id</th>\n      <th>date</th>\n      <th>nightly_temperature</th>\n      <th>nremhr</th>\n      <th>rmssd</th>\n      <th>spo2</th>\n      <th>full_sleep_breathing_rate</th>\n      <th>stress_score</th>\n      <th>sleep_points_percentage</th>\n      <th>exertion_points_percentage</th>\n      <th>...</th>\n      <th>sleep_light_ratio</th>\n      <th>sleep_rem_ratio</th>\n      <th>steps</th>\n      <th>minutes_in_default_zone_1</th>\n      <th>minutes_below_default_zone_1</th>\n      <th>minutes_in_default_zone_2</th>\n      <th>minutes_in_default_zone_3</th>\n      <th>age</th>\n      <th>gender</th>\n      <th>bmi</th>\n    </tr>\n  </thead>\n  <tbody>\n    <tr>\n      <th>0</th>\n      <td>621e2e8e67b776a24055b564</td>\n      <td>2021-05-24</td>\n      <td>34.137687</td>\n      <td>57.432</td>\n      <td>89.603</td>\n      <td>NaN</td>\n      <td>14.8</td>\n      <td>78.0</td>\n      <td>0.833333</td>\n      <td>0.675</td>\n      <td>...</td>\n      <td>0.921642</td>\n      <td>1.341772</td>\n      <td>8833.0</td>\n      <td>83.0</td>\n      <td>1349.0</td>\n      <td>0.0</td>\n      <td>0.0</td>\n      <td>&lt;30</td>\n      <td>MALE</td>\n      <td>&lt;19</td>\n    </tr>\n    <tr>\n      <th>1</th>\n      <td>621e2e8e67b776a24055b564</td>\n      <td>2021-05-25</td>\n      <td>33.794544</td>\n      <td>57.681</td>\n      <td>94.303</td>\n      <td>NaN</td>\n      <td>15.8</td>\n      <td>80.0</td>\n      <td>0.833333</td>\n      <td>0.725</td>\n      <td>...</td>\n      <td>0.947566</td>\n      <td>1.197531</td>\n      <td>9727.0</td>\n      <td>56.0</td>\n      <td>1374.0</td>\n      <td>4.0</td>\n      <td>0.0</td>\n      <td>&lt;30</td>\n      <td>MALE</td>\n      <td>&lt;19</td>\n    </tr>\n    <tr>\n      <th>2</th>\n      <td>621e2e8e67b776a24055b564</td>\n      <td>2021-05-26</td>\n      <td>34.611011</td>\n      <td>57.481</td>\n      <td>119.212</td>\n      <td>NaN</td>\n      <td>14.6</td>\n      <td>84.0</td>\n      <td>0.966667</td>\n      <td>0.725</td>\n      <td>...</td>\n      <td>1.015038</td>\n      <td>1.670732</td>\n      <td>8253.0</td>\n      <td>85.0</td>\n      <td>1350.0</td>\n      <td>0.0</td>\n      <td>0.0</td>\n      <td>&lt;30</td>\n      <td>MALE</td>\n      <td>&lt;19</td>\n    </tr>\n    <tr>\n      <th>3</th>\n      <td>621e2e8e67b776a24055b564</td>\n      <td>2021-05-27</td>\n      <td>34.408304</td>\n      <td>57.493</td>\n      <td>111.709</td>\n      <td>NaN</td>\n      <td>14.8</td>\n      <td>82.0</td>\n      <td>0.933333</td>\n      <td>0.725</td>\n      <td>...</td>\n      <td>1.191729</td>\n      <td>1.588235</td>\n      <td>9015.0</td>\n      <td>90.0</td>\n      <td>1282.0</td>\n      <td>0.0</td>\n      <td>0.0</td>\n      <td>&lt;30</td>\n      <td>MALE</td>\n      <td>&lt;19</td>\n    </tr>\n    <tr>\n      <th>4</th>\n      <td>621e2e8e67b776a24055b564</td>\n      <td>2021-05-28</td>\n      <td>34.178922</td>\n      <td>56.750</td>\n      <td>103.034</td>\n      <td>NaN</td>\n      <td>15.2</td>\n      <td>81.0</td>\n      <td>0.866667</td>\n      <td>0.725</td>\n      <td>...</td>\n      <td>1.211896</td>\n      <td>1.090909</td>\n      <td>12949.0</td>\n      <td>146.0</td>\n      <td>1274.0</td>\n      <td>4.0</td>\n      <td>0.0</td>\n      <td>&lt;30</td>\n      <td>MALE</td>\n      <td>&lt;19</td>\n    </tr>\n    <tr>\n      <th>...</th>\n      <td>...</td>\n      <td>...</td>\n      <td>...</td>\n      <td>...</td>\n      <td>...</td>\n      <td>...</td>\n      <td>...</td>\n      <td>...</td>\n      <td>...</td>\n      <td>...</td>\n      <td>...</td>\n      <td>...</td>\n      <td>...</td>\n      <td>...</td>\n      <td>...</td>\n      <td>...</td>\n      <td>...</td>\n      <td>...</td>\n      <td>...</td>\n      <td>...</td>\n      <td>...</td>\n    </tr>\n    <tr>\n      <th>7416</th>\n      <td>621e375b67b776a240290cdc</td>\n      <td>2021-08-13</td>\n      <td>NaN</td>\n      <td>NaN</td>\n      <td>NaN</td>\n      <td>NaN</td>\n      <td>NaN</td>\n      <td>NaN</td>\n      <td>NaN</td>\n      <td>NaN</td>\n      <td>...</td>\n      <td>NaN</td>\n      <td>NaN</td>\n      <td>NaN</td>\n      <td>NaN</td>\n      <td>NaN</td>\n      <td>NaN</td>\n      <td>NaN</td>\n      <td>&lt;30</td>\n      <td>FEMALE</td>\n      <td>23.0</td>\n    </tr>\n    <tr>\n      <th>7417</th>\n      <td>621e375b67b776a240290cdc</td>\n      <td>2021-08-14</td>\n      <td>NaN</td>\n      <td>NaN</td>\n      <td>NaN</td>\n      <td>NaN</td>\n      <td>NaN</td>\n      <td>NaN</td>\n      <td>NaN</td>\n      <td>NaN</td>\n      <td>...</td>\n      <td>NaN</td>\n      <td>NaN</td>\n      <td>NaN</td>\n      <td>NaN</td>\n      <td>NaN</td>\n      <td>NaN</td>\n      <td>NaN</td>\n      <td>&lt;30</td>\n      <td>FEMALE</td>\n      <td>23.0</td>\n    </tr>\n    <tr>\n      <th>7418</th>\n      <td>621e375b67b776a240290cdc</td>\n      <td>2021-08-15</td>\n      <td>NaN</td>\n      <td>NaN</td>\n      <td>NaN</td>\n      <td>NaN</td>\n      <td>NaN</td>\n      <td>NaN</td>\n      <td>NaN</td>\n      <td>NaN</td>\n      <td>...</td>\n      <td>NaN</td>\n      <td>NaN</td>\n      <td>NaN</td>\n      <td>NaN</td>\n      <td>NaN</td>\n      <td>NaN</td>\n      <td>NaN</td>\n      <td>&lt;30</td>\n      <td>FEMALE</td>\n      <td>23.0</td>\n    </tr>\n    <tr>\n      <th>7419</th>\n      <td>621e375b67b776a240290cdc</td>\n      <td>2021-08-16</td>\n      <td>NaN</td>\n      <td>NaN</td>\n      <td>NaN</td>\n      <td>NaN</td>\n      <td>NaN</td>\n      <td>NaN</td>\n      <td>NaN</td>\n      <td>NaN</td>\n      <td>...</td>\n      <td>NaN</td>\n      <td>NaN</td>\n      <td>NaN</td>\n      <td>NaN</td>\n      <td>NaN</td>\n      <td>NaN</td>\n      <td>NaN</td>\n      <td>&lt;30</td>\n      <td>FEMALE</td>\n      <td>23.0</td>\n    </tr>\n    <tr>\n      <th>7420</th>\n      <td>621e375b67b776a240290cdc</td>\n      <td>2021-08-17</td>\n      <td>NaN</td>\n      <td>NaN</td>\n      <td>NaN</td>\n      <td>NaN</td>\n      <td>NaN</td>\n      <td>NaN</td>\n      <td>NaN</td>\n      <td>NaN</td>\n      <td>...</td>\n      <td>NaN</td>\n      <td>NaN</td>\n      <td>NaN</td>\n      <td>NaN</td>\n      <td>NaN</td>\n      <td>NaN</td>\n      <td>NaN</td>\n      <td>&lt;30</td>\n      <td>FEMALE</td>\n      <td>23.0</td>\n    </tr>\n  </tbody>\n</table>\n<p>7421 rows × 43 columns</p>\n</div>"
     },
     "execution_count": 45,
     "metadata": {},
     "output_type": "execute_result"
    }
   ],
   "source": [
    "users_profiles = pd.DataFrame(columns=[\"id\", \"data\"])\n",
    "for user in users:\n",
    "    user_data = pd.DataFrame(list(\n",
    "        db.fitbit.find({\"$and\": [\n",
    "            {\"type\": \"Profile\"},\n",
    "            {\"id\": user}\n",
    "        ]},\n",
    "            {\"id\": 1, \"data.age\": 1, \"data.gender\": 1, \"data.bmi\": 1,  \"_id\": 0}\n",
    "        )\n",
    "    ))\n",
    "\n",
    "    users_profiles = pd.concat([users_profiles, user_data], axis=0)\n",
    "\n",
    "users_profiles[\"age\"] = users_profiles[\"data\"].apply(lambda d: d[\"age\"] if \"age\" in d else np.NaN)\n",
    "users_profiles[\"gender\"] = users_profiles[\"data\"].apply(lambda d: d[\"gender\"] if \"gender\" in d else np.NaN)\n",
    "users_profiles[\"bmi\"] = users_profiles[\"data\"].apply(lambda d: d[\"bmi\"] if \"bmi\" in d else np.NaN)\n",
    "users_profiles.drop(['data'], axis=1, inplace=True)\n",
    "\n",
    "# merge\n",
    "df = df.merge(users_profiles, how='left', on=['id'])\n",
    "df.to_pickle('./data/daily_fitbit_df_unprocessed.pkl')\n",
    "df = pd.read_pickle('./data/daily_fitbit_df_unprocessed.pkl')\n",
    "df"
   ],
   "metadata": {
    "collapsed": false,
    "pycharm": {
     "name": "#%%\n"
    }
   }
  },
  {
   "cell_type": "markdown",
   "source": [
    "Integrating SEMA Data"
   ],
   "metadata": {
    "collapsed": false,
    "pycharm": {
     "name": "#%% md\n"
    }
   }
  },
  {
   "cell_type": "markdown",
   "source": [
    "Integrating step goals"
   ],
   "metadata": {
    "collapsed": false,
    "pycharm": {
     "name": "#%% md\n"
    }
   }
  },
  {
   "cell_type": "code",
   "execution_count": 46,
   "outputs": [],
   "source": [
    "# user goals in SEMA\n",
    "SEMA_GOALS_TO_MIN = {\n",
    "    \"2000\": 0,\n",
    "    \"4999\": 2000,\n",
    "    \"7999\": 5000,\n",
    "    \"9999\": 8000,\n",
    "    \"14999\": 10000,\n",
    "    \"19999\": 15000,\n",
    "    \"24999\": 20000,\n",
    "    \"25000\": 25000,\n",
    "    \"NO_GOAL\": 0\n",
    "}\n",
    "\n",
    "SEMA_GOALS_TO_MAX = {\n",
    "    \"2000\": 2000,\n",
    "    \"4999\": 5000,\n",
    "    \"7999\": 8000,\n",
    "    \"9999\": 10000,\n",
    "    \"14999\": 15000,\n",
    "    \"19999\": 20000,\n",
    "    \"24999\": 25000,\n",
    "    \"25000\": 30000,\n",
    "    \"NO_GOAL\": 0\n",
    "}\n",
    "\n",
    "SEMA_LABELS = {\n",
    "    \"2000\": \"Less than 2000\",\n",
    "    \"4999\": \"2000-4999\",\n",
    "    \"7999\": \"5000-7999\",\n",
    "    \"9999\": \"8000-9999\",\n",
    "    \"14999\": \"10000-14999\",\n",
    "    \"19999\": \"15000-19999\",\n",
    "    \"24999\": \"20000-24999\",\n",
    "    \"25000\": \"More than 25000\",\n",
    "    \"NO_GOAL\": \"No Goal\",\n",
    "    np.nan: \"No Goal\",\n",
    "    None: \"No Goal\"\n",
    "}"
   ],
   "metadata": {
    "collapsed": false,
    "pycharm": {
     "name": "#%%\n"
    }
   }
  },
  {
   "cell_type": "code",
   "execution_count": 47,
   "outputs": [
    {
     "data": {
      "text/plain": "                            id       date  nightly_temperature  nremhr  \\\n0     621e2e8e67b776a24055b564 2021-05-24            34.137687  57.432   \n1     621e2e8e67b776a24055b564 2021-05-25            33.794544  57.681   \n2     621e2e8e67b776a24055b564 2021-05-26            34.611011  57.481   \n3     621e2e8e67b776a24055b564 2021-05-27            34.408304  57.493   \n4     621e2e8e67b776a24055b564 2021-05-28            34.178922  56.750   \n...                        ...        ...                  ...     ...   \n7395  621e375b67b776a240290cdc 2021-08-13                  NaN     NaN   \n7396  621e375b67b776a240290cdc 2021-08-14                  NaN     NaN   \n7397  621e375b67b776a240290cdc 2021-08-15                  NaN     NaN   \n7398  621e375b67b776a240290cdc 2021-08-16                  NaN     NaN   \n7399  621e375b67b776a240290cdc 2021-08-17                  NaN     NaN   \n\n        rmssd  spo2  full_sleep_breathing_rate  stress_score  \\\n0      89.603   NaN                       14.8          78.0   \n1      94.303   NaN                       15.8          80.0   \n2     119.212   NaN                       14.6          84.0   \n3     111.709   NaN                       14.8          82.0   \n4     103.034   NaN                       15.2          81.0   \n...       ...   ...                        ...           ...   \n7395      NaN   NaN                        NaN           NaN   \n7396      NaN   NaN                        NaN           NaN   \n7397      NaN   NaN                        NaN           NaN   \n7398      NaN   NaN                        NaN           NaN   \n7399      NaN   NaN                        NaN           NaN   \n\n      sleep_points_percentage  exertion_points_percentage  ...  \\\n0                    0.833333                       0.675  ...   \n1                    0.833333                       0.725  ...   \n2                    0.966667                       0.725  ...   \n3                    0.933333                       0.725  ...   \n4                    0.866667                       0.725  ...   \n...                       ...                         ...  ...   \n7395                      NaN                         NaN  ...   \n7396                      NaN                         NaN  ...   \n7397                      NaN                         NaN  ...   \n7398                      NaN                         NaN  ...   \n7399                      NaN                         NaN  ...   \n\n      minutes_below_default_zone_1  minutes_in_default_zone_2  \\\n0                           1349.0                        0.0   \n1                           1374.0                        4.0   \n2                           1350.0                        0.0   \n3                           1282.0                        0.0   \n4                           1274.0                        4.0   \n...                            ...                        ...   \n7395                           NaN                        NaN   \n7396                           NaN                        NaN   \n7397                           NaN                        NaN   \n7398                           NaN                        NaN   \n7399                           NaN                        NaN   \n\n     minutes_in_default_zone_3  age  gender   bmi step_goal  min_goal  \\\n0                          0.0  <30    MALE   <19      None       NaN   \n1                          0.0  <30    MALE   <19     14999   10000.0   \n2                          0.0  <30    MALE   <19      None       NaN   \n3                          0.0  <30    MALE   <19     14999   10000.0   \n4                          0.0  <30    MALE   <19      None       NaN   \n...                        ...  ...     ...   ...       ...       ...   \n7395                       NaN  <30  FEMALE  23.0      None       NaN   \n7396                       NaN  <30  FEMALE  23.0      None       NaN   \n7397                       NaN  <30  FEMALE  23.0      None       NaN   \n7398                       NaN  <30  FEMALE  23.0      None       NaN   \n7399                       NaN  <30  FEMALE  23.0      None       NaN   \n\n     max_goal step_goal_label  \n0         NaN            None  \n1     15000.0     10000-14999  \n2         NaN            None  \n3     15000.0     10000-14999  \n4         NaN            None  \n...       ...             ...  \n7395      NaN            None  \n7396      NaN            None  \n7397      NaN            None  \n7398      NaN            None  \n7399      NaN            None  \n\n[7400 rows x 47 columns]",
      "text/html": "<div>\n<style scoped>\n    .dataframe tbody tr th:only-of-type {\n        vertical-align: middle;\n    }\n\n    .dataframe tbody tr th {\n        vertical-align: top;\n    }\n\n    .dataframe thead th {\n        text-align: right;\n    }\n</style>\n<table border=\"1\" class=\"dataframe\">\n  <thead>\n    <tr style=\"text-align: right;\">\n      <th></th>\n      <th>id</th>\n      <th>date</th>\n      <th>nightly_temperature</th>\n      <th>nremhr</th>\n      <th>rmssd</th>\n      <th>spo2</th>\n      <th>full_sleep_breathing_rate</th>\n      <th>stress_score</th>\n      <th>sleep_points_percentage</th>\n      <th>exertion_points_percentage</th>\n      <th>...</th>\n      <th>minutes_below_default_zone_1</th>\n      <th>minutes_in_default_zone_2</th>\n      <th>minutes_in_default_zone_3</th>\n      <th>age</th>\n      <th>gender</th>\n      <th>bmi</th>\n      <th>step_goal</th>\n      <th>min_goal</th>\n      <th>max_goal</th>\n      <th>step_goal_label</th>\n    </tr>\n  </thead>\n  <tbody>\n    <tr>\n      <th>0</th>\n      <td>621e2e8e67b776a24055b564</td>\n      <td>2021-05-24</td>\n      <td>34.137687</td>\n      <td>57.432</td>\n      <td>89.603</td>\n      <td>NaN</td>\n      <td>14.8</td>\n      <td>78.0</td>\n      <td>0.833333</td>\n      <td>0.675</td>\n      <td>...</td>\n      <td>1349.0</td>\n      <td>0.0</td>\n      <td>0.0</td>\n      <td>&lt;30</td>\n      <td>MALE</td>\n      <td>&lt;19</td>\n      <td>None</td>\n      <td>NaN</td>\n      <td>NaN</td>\n      <td>None</td>\n    </tr>\n    <tr>\n      <th>1</th>\n      <td>621e2e8e67b776a24055b564</td>\n      <td>2021-05-25</td>\n      <td>33.794544</td>\n      <td>57.681</td>\n      <td>94.303</td>\n      <td>NaN</td>\n      <td>15.8</td>\n      <td>80.0</td>\n      <td>0.833333</td>\n      <td>0.725</td>\n      <td>...</td>\n      <td>1374.0</td>\n      <td>4.0</td>\n      <td>0.0</td>\n      <td>&lt;30</td>\n      <td>MALE</td>\n      <td>&lt;19</td>\n      <td>14999</td>\n      <td>10000.0</td>\n      <td>15000.0</td>\n      <td>10000-14999</td>\n    </tr>\n    <tr>\n      <th>2</th>\n      <td>621e2e8e67b776a24055b564</td>\n      <td>2021-05-26</td>\n      <td>34.611011</td>\n      <td>57.481</td>\n      <td>119.212</td>\n      <td>NaN</td>\n      <td>14.6</td>\n      <td>84.0</td>\n      <td>0.966667</td>\n      <td>0.725</td>\n      <td>...</td>\n      <td>1350.0</td>\n      <td>0.0</td>\n      <td>0.0</td>\n      <td>&lt;30</td>\n      <td>MALE</td>\n      <td>&lt;19</td>\n      <td>None</td>\n      <td>NaN</td>\n      <td>NaN</td>\n      <td>None</td>\n    </tr>\n    <tr>\n      <th>3</th>\n      <td>621e2e8e67b776a24055b564</td>\n      <td>2021-05-27</td>\n      <td>34.408304</td>\n      <td>57.493</td>\n      <td>111.709</td>\n      <td>NaN</td>\n      <td>14.8</td>\n      <td>82.0</td>\n      <td>0.933333</td>\n      <td>0.725</td>\n      <td>...</td>\n      <td>1282.0</td>\n      <td>0.0</td>\n      <td>0.0</td>\n      <td>&lt;30</td>\n      <td>MALE</td>\n      <td>&lt;19</td>\n      <td>14999</td>\n      <td>10000.0</td>\n      <td>15000.0</td>\n      <td>10000-14999</td>\n    </tr>\n    <tr>\n      <th>4</th>\n      <td>621e2e8e67b776a24055b564</td>\n      <td>2021-05-28</td>\n      <td>34.178922</td>\n      <td>56.750</td>\n      <td>103.034</td>\n      <td>NaN</td>\n      <td>15.2</td>\n      <td>81.0</td>\n      <td>0.866667</td>\n      <td>0.725</td>\n      <td>...</td>\n      <td>1274.0</td>\n      <td>4.0</td>\n      <td>0.0</td>\n      <td>&lt;30</td>\n      <td>MALE</td>\n      <td>&lt;19</td>\n      <td>None</td>\n      <td>NaN</td>\n      <td>NaN</td>\n      <td>None</td>\n    </tr>\n    <tr>\n      <th>...</th>\n      <td>...</td>\n      <td>...</td>\n      <td>...</td>\n      <td>...</td>\n      <td>...</td>\n      <td>...</td>\n      <td>...</td>\n      <td>...</td>\n      <td>...</td>\n      <td>...</td>\n      <td>...</td>\n      <td>...</td>\n      <td>...</td>\n      <td>...</td>\n      <td>...</td>\n      <td>...</td>\n      <td>...</td>\n      <td>...</td>\n      <td>...</td>\n      <td>...</td>\n      <td>...</td>\n    </tr>\n    <tr>\n      <th>7395</th>\n      <td>621e375b67b776a240290cdc</td>\n      <td>2021-08-13</td>\n      <td>NaN</td>\n      <td>NaN</td>\n      <td>NaN</td>\n      <td>NaN</td>\n      <td>NaN</td>\n      <td>NaN</td>\n      <td>NaN</td>\n      <td>NaN</td>\n      <td>...</td>\n      <td>NaN</td>\n      <td>NaN</td>\n      <td>NaN</td>\n      <td>&lt;30</td>\n      <td>FEMALE</td>\n      <td>23.0</td>\n      <td>None</td>\n      <td>NaN</td>\n      <td>NaN</td>\n      <td>None</td>\n    </tr>\n    <tr>\n      <th>7396</th>\n      <td>621e375b67b776a240290cdc</td>\n      <td>2021-08-14</td>\n      <td>NaN</td>\n      <td>NaN</td>\n      <td>NaN</td>\n      <td>NaN</td>\n      <td>NaN</td>\n      <td>NaN</td>\n      <td>NaN</td>\n      <td>NaN</td>\n      <td>...</td>\n      <td>NaN</td>\n      <td>NaN</td>\n      <td>NaN</td>\n      <td>&lt;30</td>\n      <td>FEMALE</td>\n      <td>23.0</td>\n      <td>None</td>\n      <td>NaN</td>\n      <td>NaN</td>\n      <td>None</td>\n    </tr>\n    <tr>\n      <th>7397</th>\n      <td>621e375b67b776a240290cdc</td>\n      <td>2021-08-15</td>\n      <td>NaN</td>\n      <td>NaN</td>\n      <td>NaN</td>\n      <td>NaN</td>\n      <td>NaN</td>\n      <td>NaN</td>\n      <td>NaN</td>\n      <td>NaN</td>\n      <td>...</td>\n      <td>NaN</td>\n      <td>NaN</td>\n      <td>NaN</td>\n      <td>&lt;30</td>\n      <td>FEMALE</td>\n      <td>23.0</td>\n      <td>None</td>\n      <td>NaN</td>\n      <td>NaN</td>\n      <td>None</td>\n    </tr>\n    <tr>\n      <th>7398</th>\n      <td>621e375b67b776a240290cdc</td>\n      <td>2021-08-16</td>\n      <td>NaN</td>\n      <td>NaN</td>\n      <td>NaN</td>\n      <td>NaN</td>\n      <td>NaN</td>\n      <td>NaN</td>\n      <td>NaN</td>\n      <td>NaN</td>\n      <td>...</td>\n      <td>NaN</td>\n      <td>NaN</td>\n      <td>NaN</td>\n      <td>&lt;30</td>\n      <td>FEMALE</td>\n      <td>23.0</td>\n      <td>None</td>\n      <td>NaN</td>\n      <td>NaN</td>\n      <td>None</td>\n    </tr>\n    <tr>\n      <th>7399</th>\n      <td>621e375b67b776a240290cdc</td>\n      <td>2021-08-17</td>\n      <td>NaN</td>\n      <td>NaN</td>\n      <td>NaN</td>\n      <td>NaN</td>\n      <td>NaN</td>\n      <td>NaN</td>\n      <td>NaN</td>\n      <td>NaN</td>\n      <td>...</td>\n      <td>NaN</td>\n      <td>NaN</td>\n      <td>NaN</td>\n      <td>&lt;30</td>\n      <td>FEMALE</td>\n      <td>23.0</td>\n      <td>None</td>\n      <td>NaN</td>\n      <td>NaN</td>\n      <td>None</td>\n    </tr>\n  </tbody>\n</table>\n<p>7400 rows × 47 columns</p>\n</div>"
     },
     "execution_count": 47,
     "metadata": {},
     "output_type": "execute_result"
    }
   ],
   "source": [
    "if not os.path.exists(\"data/users_step_goals_daily.pkl\"):\n",
    "    # Get user self-reported goals from SEMA\n",
    "    sema_goals = pd.DataFrame(columns=[\"_id\", \"user_id\", \"data\"])\n",
    "    for user in users:\n",
    "        user_data = pd.DataFrame(list(\n",
    "                        db.sema.find({ \"$and\": [\n",
    "                            { \"data.STEPS\": { \"$ne\": \"<no-response>\" } },\n",
    "                            {\"user_id\": user}\n",
    "                        ] },\n",
    "                            {\"data.STEPS\": 1, \"id\": 1, \"user_id\": 1, \"data.STARTED_TS\": 1}\n",
    "                        )\n",
    "                    ))\n",
    "\n",
    "        sema_goals = pd.concat([sema_goals, user_data], axis=0)\n",
    "\n",
    "    # split data column (json format) into two columns\n",
    "    sema_goals[\"timestamp\"] = sema_goals[\"data\"].apply(lambda d: d[\"STARTED_TS\"])\n",
    "    sema_goals[\"step_goal\"] = sema_goals[\"data\"].apply(lambda d: d[\"STEPS\"])\n",
    "    sema_goals.drop([\"data\", \"_id\"], inplace=True, axis=1)\n",
    "\n",
    "    # convert timestamp to day format\n",
    "    sema_goals[\"date\"] = pd.to_datetime(sema_goals[\"timestamp\"], infer_datetime_format=True).dt.date\n",
    "    sema_goals[\"date\"] = pd.to_datetime(sema_goals[\"date\"], infer_datetime_format=True) # convert from object to datetime\n",
    "    sema_goals.drop([\"timestamp\"], inplace=True, axis=1)\n",
    "\n",
    "    # add min goal and max goal columns\n",
    "    sema_goals['min_goal'] = sema_goals.step_goal.apply(lambda s: SEMA_GOALS_TO_MIN.get(s))\n",
    "    sema_goals['max_goal'] = sema_goals.step_goal.apply(lambda s: SEMA_GOALS_TO_MAX.get(s))\n",
    "\n",
    "    # add goal labels\n",
    "    sema_goals['step_goal_label'] = sema_goals['step_goal'].apply(lambda v: SEMA_LABELS[v])\n",
    "    sema_goals[['date', 'user_id', 'step_goal', 'min_goal', 'max_goal', 'step_goal_label']].to_pickle('./data/users_step_goals_daily.pkl')\n",
    "\n",
    "users_step_goals = pd.read_pickle('./data/users_step_goals_daily.pkl')\n",
    "users_step_goals['id'] = users_step_goals.user_id.copy()\n",
    "users_step_goals.drop(['user_id'], axis=1, inplace=True)\n",
    "\n",
    "# merge\n",
    "df = df.merge(users_step_goals, how='outer', on=['id', 'date'])\n",
    "\n",
    "# drop duplicates\n",
    "df = df.groupby([\"id\", \"date\"]).first()\n",
    "df.reset_index(drop=False, inplace=True)\n",
    "df"
   ],
   "metadata": {
    "collapsed": false,
    "pycharm": {
     "name": "#%%\n"
    }
   }
  },
  {
   "cell_type": "markdown",
   "source": [
    "Integrating Emotions & Location"
   ],
   "metadata": {
    "collapsed": false,
    "pycharm": {
     "name": "#%% md\n"
    }
   }
  },
  {
   "cell_type": "code",
   "execution_count": 48,
   "outputs": [],
   "source": [
    "if not os.path.exists('./data/sema_mood_place.pkl'):\n",
    "    # Get user self-reported goals from SEMA\n",
    "    users = db.sema.distinct('user_id')\n",
    "\n",
    "    sema_mood = pd.DataFrame(columns=[\"_id\", \"user_id\", \"data\"])\n",
    "    for user in users:\n",
    "        user_data = pd.DataFrame(list(\n",
    "                        db.sema.find({\n",
    "                            \"$or\": [\n",
    "                                {\n",
    "                                    \"$and\": [\n",
    "                                        { \"data.MOOD\": { \"$ne\": \"<no-response>\" } },\n",
    "                                        {\"data.MOOD\": { \"$ne\": None }},\n",
    "                                        {\"user_id\": user}\n",
    "                                    ]\n",
    "                                },\n",
    "                                {\n",
    "                                    \"$and\": [\n",
    "                                        { \"data.PLACE\": { \"$ne\": \"<no-response>\" } },\n",
    "                                        {\"data.PLACE\": { \"$ne\": None }},\n",
    "                                        {\"user_id\": user}\n",
    "                                    ]\n",
    "                                }\n",
    "                            ]\n",
    "                        },\n",
    "                            {\"data.MOOD\": 1, \"data.PLACE\": 1, \"id\": 1, \"_id\": 0, \"user_id\": 1, \"data.STARTED_TS\": 1}\n",
    "                        )\n",
    "                    ))\n",
    "\n",
    "        sema_mood = pd.concat([sema_mood, user_data], axis=0)\n",
    "\n",
    "    sema_mood[\"date\"] = pd.to_datetime(pd.to_datetime(sema_mood[\"data\"].apply(lambda d: d[\"STARTED_TS\"]), infer_datetime_format=True).dt.date, infer_datetime_format=True)\n",
    "    sema_mood[\"time\"] = pd.to_datetime(sema_mood[\"data\"].apply(lambda d: d[\"STARTED_TS\"]), infer_datetime_format=True).dt.time\n",
    "    sema_mood[\"data.MOOD\"] = sema_mood[\"data\"].apply(lambda d: d[\"MOOD\"])\n",
    "    sema_mood[\"data.PLACE\"] = sema_mood[\"data\"].apply(lambda d: d[\"PLACE\"])\n",
    "    sema_mood.drop([\"_id\", \"data\"], axis=1, inplace=True)\n",
    "    sema_mood.to_pickle('./data/sema_mood_place.pkl')"
   ],
   "metadata": {
    "collapsed": false,
    "pycharm": {
     "name": "#%%\n"
    }
   }
  },
  {
   "cell_type": "code",
   "execution_count": 49,
   "outputs": [
    {
     "data": {
      "text/plain": "                            id       date  nightly_temperature  nremhr  \\\n0     621e2e8e67b776a24055b564 2021-05-24            34.137687  57.432   \n1     621e2e8e67b776a24055b564 2021-05-25            33.794544  57.681   \n2     621e2e8e67b776a24055b564 2021-05-26            34.611011  57.481   \n3     621e2e8e67b776a24055b564 2021-05-27            34.408304  57.493   \n4     621e2e8e67b776a24055b564 2021-05-28            34.178922  56.750   \n...                        ...        ...                  ...     ...   \n7405  621e362467b776a2404ad513 2021-05-18                  NaN     NaN   \n7406  621e36f967b776a240e5e7c9 2021-05-20                  NaN     NaN   \n7407  621e362467b776a2404ad513 2021-05-23                  NaN     NaN   \n7408  621e339967b776a240e502de 2021-11-19                  NaN     NaN   \n7409  621e339967b776a240e502de 2021-11-20                  NaN     NaN   \n\n        rmssd  spo2  full_sleep_breathing_rate  stress_score  \\\n0      89.603   NaN                       14.8          78.0   \n1      94.303   NaN                       15.8          80.0   \n2     119.212   NaN                       14.6          84.0   \n3     111.709   NaN                       14.8          82.0   \n4     103.034   NaN                       15.2          81.0   \n...       ...   ...                        ...           ...   \n7405      NaN   NaN                        NaN           NaN   \n7406      NaN   NaN                        NaN           NaN   \n7407      NaN   NaN                        NaN           NaN   \n7408      NaN   NaN                        NaN           NaN   \n7409      NaN   NaN                        NaN           NaN   \n\n      sleep_points_percentage  exertion_points_percentage  ...  TENSE/ANXIOUS  \\\n0                    0.833333                       0.675  ...            NaN   \n1                    0.833333                       0.725  ...            0.0   \n2                    0.966667                       0.725  ...            0.0   \n3                    0.933333                       0.725  ...            0.0   \n4                    0.866667                       0.725  ...            0.0   \n...                       ...                         ...  ...            ...   \n7405                      NaN                         NaN  ...            0.0   \n7406                      NaN                         NaN  ...            0.0   \n7407                      NaN                         NaN  ...            0.0   \n7408                      NaN                         NaN  ...            0.0   \n7409                      NaN                         NaN  ...            0.0   \n\n      TIRED ENTERTAINMENT  GYM  HOME  HOME_OFFICE OTHER  OUTDOORS TRANSIT  \\\n0       NaN           NaN  NaN   NaN          NaN   NaN       NaN     NaN   \n1       1.0           0.0  0.0   0.0          0.0   0.0       1.0     0.0   \n2       0.0           0.0  0.0   0.0          0.0   0.0       1.0     0.0   \n3       0.0           0.0  0.0   1.0          0.0   0.0       1.0     0.0   \n4       0.0           0.0  0.0   0.0          0.0   0.0       1.0     0.0   \n...     ...           ...  ...   ...          ...   ...       ...     ...   \n7405    0.0           0.0  0.0   1.0          0.0   0.0       0.0     0.0   \n7406    1.0           0.0  0.0   1.0          0.0   0.0       0.0     0.0   \n7407    0.0           0.0  0.0   0.0          0.0   0.0       0.0     1.0   \n7408    0.0           0.0  0.0   1.0          0.0   0.0       0.0     0.0   \n7409    0.0           0.0  0.0   1.0          0.0   0.0       0.0     0.0   \n\n     WORK/SCHOOL  \n0            NaN  \n1            1.0  \n2            0.0  \n3            1.0  \n4            0.0  \n...          ...  \n7405         0.0  \n7406         1.0  \n7407         0.0  \n7408         0.0  \n7409         0.0  \n\n[7410 rows x 62 columns]",
      "text/html": "<div>\n<style scoped>\n    .dataframe tbody tr th:only-of-type {\n        vertical-align: middle;\n    }\n\n    .dataframe tbody tr th {\n        vertical-align: top;\n    }\n\n    .dataframe thead th {\n        text-align: right;\n    }\n</style>\n<table border=\"1\" class=\"dataframe\">\n  <thead>\n    <tr style=\"text-align: right;\">\n      <th></th>\n      <th>id</th>\n      <th>date</th>\n      <th>nightly_temperature</th>\n      <th>nremhr</th>\n      <th>rmssd</th>\n      <th>spo2</th>\n      <th>full_sleep_breathing_rate</th>\n      <th>stress_score</th>\n      <th>sleep_points_percentage</th>\n      <th>exertion_points_percentage</th>\n      <th>...</th>\n      <th>TENSE/ANXIOUS</th>\n      <th>TIRED</th>\n      <th>ENTERTAINMENT</th>\n      <th>GYM</th>\n      <th>HOME</th>\n      <th>HOME_OFFICE</th>\n      <th>OTHER</th>\n      <th>OUTDOORS</th>\n      <th>TRANSIT</th>\n      <th>WORK/SCHOOL</th>\n    </tr>\n  </thead>\n  <tbody>\n    <tr>\n      <th>0</th>\n      <td>621e2e8e67b776a24055b564</td>\n      <td>2021-05-24</td>\n      <td>34.137687</td>\n      <td>57.432</td>\n      <td>89.603</td>\n      <td>NaN</td>\n      <td>14.8</td>\n      <td>78.0</td>\n      <td>0.833333</td>\n      <td>0.675</td>\n      <td>...</td>\n      <td>NaN</td>\n      <td>NaN</td>\n      <td>NaN</td>\n      <td>NaN</td>\n      <td>NaN</td>\n      <td>NaN</td>\n      <td>NaN</td>\n      <td>NaN</td>\n      <td>NaN</td>\n      <td>NaN</td>\n    </tr>\n    <tr>\n      <th>1</th>\n      <td>621e2e8e67b776a24055b564</td>\n      <td>2021-05-25</td>\n      <td>33.794544</td>\n      <td>57.681</td>\n      <td>94.303</td>\n      <td>NaN</td>\n      <td>15.8</td>\n      <td>80.0</td>\n      <td>0.833333</td>\n      <td>0.725</td>\n      <td>...</td>\n      <td>0.0</td>\n      <td>1.0</td>\n      <td>0.0</td>\n      <td>0.0</td>\n      <td>0.0</td>\n      <td>0.0</td>\n      <td>0.0</td>\n      <td>1.0</td>\n      <td>0.0</td>\n      <td>1.0</td>\n    </tr>\n    <tr>\n      <th>2</th>\n      <td>621e2e8e67b776a24055b564</td>\n      <td>2021-05-26</td>\n      <td>34.611011</td>\n      <td>57.481</td>\n      <td>119.212</td>\n      <td>NaN</td>\n      <td>14.6</td>\n      <td>84.0</td>\n      <td>0.966667</td>\n      <td>0.725</td>\n      <td>...</td>\n      <td>0.0</td>\n      <td>0.0</td>\n      <td>0.0</td>\n      <td>0.0</td>\n      <td>0.0</td>\n      <td>0.0</td>\n      <td>0.0</td>\n      <td>1.0</td>\n      <td>0.0</td>\n      <td>0.0</td>\n    </tr>\n    <tr>\n      <th>3</th>\n      <td>621e2e8e67b776a24055b564</td>\n      <td>2021-05-27</td>\n      <td>34.408304</td>\n      <td>57.493</td>\n      <td>111.709</td>\n      <td>NaN</td>\n      <td>14.8</td>\n      <td>82.0</td>\n      <td>0.933333</td>\n      <td>0.725</td>\n      <td>...</td>\n      <td>0.0</td>\n      <td>0.0</td>\n      <td>0.0</td>\n      <td>0.0</td>\n      <td>1.0</td>\n      <td>0.0</td>\n      <td>0.0</td>\n      <td>1.0</td>\n      <td>0.0</td>\n      <td>1.0</td>\n    </tr>\n    <tr>\n      <th>4</th>\n      <td>621e2e8e67b776a24055b564</td>\n      <td>2021-05-28</td>\n      <td>34.178922</td>\n      <td>56.750</td>\n      <td>103.034</td>\n      <td>NaN</td>\n      <td>15.2</td>\n      <td>81.0</td>\n      <td>0.866667</td>\n      <td>0.725</td>\n      <td>...</td>\n      <td>0.0</td>\n      <td>0.0</td>\n      <td>0.0</td>\n      <td>0.0</td>\n      <td>0.0</td>\n      <td>0.0</td>\n      <td>0.0</td>\n      <td>1.0</td>\n      <td>0.0</td>\n      <td>0.0</td>\n    </tr>\n    <tr>\n      <th>...</th>\n      <td>...</td>\n      <td>...</td>\n      <td>...</td>\n      <td>...</td>\n      <td>...</td>\n      <td>...</td>\n      <td>...</td>\n      <td>...</td>\n      <td>...</td>\n      <td>...</td>\n      <td>...</td>\n      <td>...</td>\n      <td>...</td>\n      <td>...</td>\n      <td>...</td>\n      <td>...</td>\n      <td>...</td>\n      <td>...</td>\n      <td>...</td>\n      <td>...</td>\n      <td>...</td>\n    </tr>\n    <tr>\n      <th>7405</th>\n      <td>621e362467b776a2404ad513</td>\n      <td>2021-05-18</td>\n      <td>NaN</td>\n      <td>NaN</td>\n      <td>NaN</td>\n      <td>NaN</td>\n      <td>NaN</td>\n      <td>NaN</td>\n      <td>NaN</td>\n      <td>NaN</td>\n      <td>...</td>\n      <td>0.0</td>\n      <td>0.0</td>\n      <td>0.0</td>\n      <td>0.0</td>\n      <td>1.0</td>\n      <td>0.0</td>\n      <td>0.0</td>\n      <td>0.0</td>\n      <td>0.0</td>\n      <td>0.0</td>\n    </tr>\n    <tr>\n      <th>7406</th>\n      <td>621e36f967b776a240e5e7c9</td>\n      <td>2021-05-20</td>\n      <td>NaN</td>\n      <td>NaN</td>\n      <td>NaN</td>\n      <td>NaN</td>\n      <td>NaN</td>\n      <td>NaN</td>\n      <td>NaN</td>\n      <td>NaN</td>\n      <td>...</td>\n      <td>0.0</td>\n      <td>1.0</td>\n      <td>0.0</td>\n      <td>0.0</td>\n      <td>1.0</td>\n      <td>0.0</td>\n      <td>0.0</td>\n      <td>0.0</td>\n      <td>0.0</td>\n      <td>1.0</td>\n    </tr>\n    <tr>\n      <th>7407</th>\n      <td>621e362467b776a2404ad513</td>\n      <td>2021-05-23</td>\n      <td>NaN</td>\n      <td>NaN</td>\n      <td>NaN</td>\n      <td>NaN</td>\n      <td>NaN</td>\n      <td>NaN</td>\n      <td>NaN</td>\n      <td>NaN</td>\n      <td>...</td>\n      <td>0.0</td>\n      <td>0.0</td>\n      <td>0.0</td>\n      <td>0.0</td>\n      <td>0.0</td>\n      <td>0.0</td>\n      <td>0.0</td>\n      <td>0.0</td>\n      <td>1.0</td>\n      <td>0.0</td>\n    </tr>\n    <tr>\n      <th>7408</th>\n      <td>621e339967b776a240e502de</td>\n      <td>2021-11-19</td>\n      <td>NaN</td>\n      <td>NaN</td>\n      <td>NaN</td>\n      <td>NaN</td>\n      <td>NaN</td>\n      <td>NaN</td>\n      <td>NaN</td>\n      <td>NaN</td>\n      <td>...</td>\n      <td>0.0</td>\n      <td>0.0</td>\n      <td>0.0</td>\n      <td>0.0</td>\n      <td>1.0</td>\n      <td>0.0</td>\n      <td>0.0</td>\n      <td>0.0</td>\n      <td>0.0</td>\n      <td>0.0</td>\n    </tr>\n    <tr>\n      <th>7409</th>\n      <td>621e339967b776a240e502de</td>\n      <td>2021-11-20</td>\n      <td>NaN</td>\n      <td>NaN</td>\n      <td>NaN</td>\n      <td>NaN</td>\n      <td>NaN</td>\n      <td>NaN</td>\n      <td>NaN</td>\n      <td>NaN</td>\n      <td>...</td>\n      <td>0.0</td>\n      <td>0.0</td>\n      <td>0.0</td>\n      <td>0.0</td>\n      <td>1.0</td>\n      <td>0.0</td>\n      <td>0.0</td>\n      <td>0.0</td>\n      <td>0.0</td>\n      <td>0.0</td>\n    </tr>\n  </tbody>\n</table>\n<p>7410 rows × 62 columns</p>\n</div>"
     },
     "execution_count": 49,
     "metadata": {},
     "output_type": "execute_result"
    }
   ],
   "source": [
    "infile = open('./data/sema_mood_place.pkl','rb')\n",
    "sema = pickle.load(infile)\n",
    "infile.close()\n",
    "\n",
    "# replace not common moods\n",
    "sema['data.MOOD'] = sema['data.MOOD'].apply(lambda mood: 'SAD' if mood == 'SADNESS' else ('HAPPY' if mood == 'JOY' else mood))\n",
    "sema = sema[(sema['data.MOOD'] != 'FEAR') & (sema['data.MOOD'] != 'SURPRISE') & (sema['data.MOOD'] != 'ANGER') & (sema['data.MOOD'] != '<no-response>')]\n",
    "\n",
    "# drop unnecessary columns\n",
    "sema.drop(['time'], axis=1, inplace=True)\n",
    "\n",
    "sema_moods = pd.get_dummies(sema['data.MOOD'])\n",
    "sema_places = pd.get_dummies(sema['data.PLACE'])\n",
    "\n",
    "# combine one-hot encoding with actual df\n",
    "sema = pd.concat([sema, sema_moods, sema_places], axis=1)\n",
    "sema.drop(['data.MOOD', 'data.PLACE'], axis=1, inplace=True)\n",
    "\n",
    "sema_grouped = sema.groupby(['date', 'user_id']).max()\n",
    "sema_grouped.reset_index(drop=False, inplace=True)\n",
    "sema_grouped['id'] = sema_grouped['user_id'].copy()\n",
    "sema_grouped.drop(['user_id'], axis=1, inplace=True)\n",
    "sema_grouped.reset_index(drop=True, inplace=True)\n",
    "sema_grouped.id = sema_grouped.id.apply(lambda id: ObjectId(id))\n",
    "\n",
    "# merge\n",
    "df = df.merge(sema_grouped, how='outer', on=['id', 'date'])\n",
    "df.to_pickle('./data/daily_fitbit_sema_df_unprocessed.pkl')\n",
    "df = pd.read_pickle('./data/daily_fitbit_sema_df_unprocessed.pkl')\n",
    "df.to_csv('./data/daily_fitbit_sema_df_unprocessed.csv')\n",
    "df"
   ],
   "metadata": {
    "collapsed": false,
    "pycharm": {
     "name": "#%%\n"
    }
   }
  },
  {
   "cell_type": "markdown",
   "source": [
    "Integrating Surveys Data"
   ],
   "metadata": {
    "collapsed": false,
    "pycharm": {
     "name": "#%% md\n"
    }
   }
  },
  {
   "cell_type": "code",
   "execution_count": 50,
   "outputs": [],
   "source": [
    "df = pd.read_pickle('./data/daily_fitbit_sema_df_unprocessed.pkl')"
   ],
   "metadata": {
    "collapsed": false,
    "pycharm": {
     "name": "#%%\n"
    }
   }
  },
  {
   "cell_type": "markdown",
   "source": [
    "Integrating Personality Type Responses"
   ],
   "metadata": {
    "collapsed": false,
    "pycharm": {
     "name": "#%% md\n"
    }
   }
  },
  {
   "cell_type": "code",
   "execution_count": 51,
   "outputs": [],
   "source": [
    "users_personality = pd.DataFrame(columns=[\"user_id\", \"data\"])\n",
    "for user in users:\n",
    "    user_data = pd.DataFrame(list(\n",
    "        db.surveys.find({\"$and\": [\n",
    "            {\"type\": \"bfpt\"},\n",
    "            {\"user_id\": user}\n",
    "        ]},\n",
    "            {\"_id\": 0}\n",
    "        )\n",
    "    ))\n",
    "\n",
    "    users_personality = pd.concat([users_personality, user_data], axis=0)\n",
    "\n",
    "users_personality[\"submitdate\"] = users_personality[\"data\"].apply(lambda d: d[\"submitdate\"])\n",
    "users_personality[\"submitdate\"] = pd.to_datetime(users_personality[\"submitdate\"], infer_datetime_format=True).dt.date\n",
    "\n",
    "for ipip in range(1,51):\n",
    "    if ipip < 10:\n",
    "        col_name = \"ipip[SQ00{}]\".format(ipip)\n",
    "    else:\n",
    "        col_name = \"ipip[SQ0{}]\".format(ipip)\n",
    "    users_personality[col_name] = users_personality[\"data\"].apply(lambda d: d[col_name])\n",
    "\n",
    "users_personality.drop(['data'], axis=1, inplace=True)\n",
    "\n",
    "# drop duplicates\n",
    "users_personality.drop_duplicates(subset=['user_id'], keep=\"first\")\n",
    "\n",
    "bfpt_scoring = pd.read_csv(\"data/utils/BFPT-Coding.csv\", sep=\";\")\n",
    "ipip_plus = bfpt_scoring[bfpt_scoring.plus == True].code\n",
    "ipip_minus = bfpt_scoring[bfpt_scoring.plus == False].code\n",
    "\n",
    "# Converting IPIP Item Responses to Scale Scores\n",
    "# For + keyed items, the response \"Very Inaccurate\" is assigned a value of 1, \"Moderately Inaccurate\" a value of 2, \"Neither Inaccurate nor Accurate\" a 3, \"Moderately Accurate\" a 4, and \"Very Accurate\" a value of 5.\n",
    "# For - keyed items, the response \"Very Inaccurate\" is assigned a value of 5, \"Moderately Inaccurate\" a value of 4, \"Neither Inaccurate nor Accurate\" a 3, \"Moderately Accurate\" a 2, and \"Very Accurate\" a value of 1.\n",
    "def inverse_score(score, min, max):\n",
    "    return max - score + min\n",
    "\n",
    "for col in users_personality.columns:\n",
    "    # inversing scores for the minus keyed items; the plus keyed items stay as is\n",
    "    if col in ipip_minus.values:\n",
    "        users_personality[col] = users_personality[col].apply(lambda score: inverse_score(score, 1, 5))\n",
    "\n",
    "ipip_extraversion = bfpt_scoring[bfpt_scoring.factor == 1].code\n",
    "ipip_agreeableness = bfpt_scoring[bfpt_scoring.factor == 2].code\n",
    "ipip_conscientiousness = bfpt_scoring[bfpt_scoring.factor == 3].code\n",
    "ipip_stability = bfpt_scoring[bfpt_scoring.factor == 4].code\n",
    "ipip_intellect = bfpt_scoring[bfpt_scoring.factor == 5].code\n",
    "\n",
    "# find a summary per factor per user\n",
    "# Factor I (Surgency or Extraversion)\n",
    "users_personality[\"extraversion\"] = users_personality[ipip_extraversion].sum(axis=1)\n",
    "# Factor II (Agreeableness)\n",
    "users_personality[\"agreeableness\"] = users_personality[ipip_agreeableness].sum(axis=1)\n",
    "# Factor III (Conscientiousness)\n",
    "users_personality[\"conscientiousness\"] = users_personality[ipip_conscientiousness].sum(axis=1)\n",
    "# Factor IV (Emotional Stability)\n",
    "users_personality[\"stability\"] = users_personality[ipip_stability].sum(axis=1)\n",
    "# Factor V (Intellect or Imagination)\n",
    "users_personality[\"intellect\"] = users_personality[ipip_intellect].sum(axis=1)"
   ],
   "metadata": {
    "collapsed": false,
    "pycharm": {
     "name": "#%%\n"
    }
   }
  },
  {
   "cell_type": "code",
   "execution_count": 52,
   "outputs": [],
   "source": [
    "# incorporate gender information\n",
    "users_personality = users_personality.merge(df[['id','gender']].drop_duplicates(), how='left', left_on='user_id', right_on='id')\n",
    "users_personality.drop_duplicates(subset='id', inplace=True)\n",
    "users_personality.gender.fillna('FEMALE', inplace=True)\n",
    "users_personality.drop(['id'], inplace=True, axis=1)"
   ],
   "metadata": {
    "collapsed": false,
    "pycharm": {
     "name": "#%%\n"
    }
   }
  },
  {
   "cell_type": "code",
   "execution_count": 53,
   "outputs": [],
   "source": [
    "MEAN_1_FEMALE, STD_1_FEMALE = users_personality.groupby('gender').extraversion.mean()[\"FEMALE\"], users_personality.groupby('gender').extraversion.std()[\"FEMALE\"]\n",
    "MEAN_1_MALE, STD_1_MALE = users_personality.groupby('gender').extraversion.mean()[\"MALE\"], users_personality.groupby('gender').extraversion.std()[\"MALE\"]\n",
    "\n",
    "MEAN_2_FEMALE, STD_2_FEMALE = users_personality.groupby('gender').agreeableness.mean()[\"FEMALE\"], users_personality.groupby('gender').agreeableness.std()[\"FEMALE\"]\n",
    "MEAN_2_MALE, STD_2_MALE = users_personality.groupby('gender').agreeableness.mean()[\"MALE\"], users_personality.groupby('gender').agreeableness.std()[\"MALE\"]\n",
    "\n",
    "MEAN_3_FEMALE, STD_3_FEMALE = users_personality.groupby('gender').conscientiousness.mean()[\"FEMALE\"], users_personality.groupby('gender').conscientiousness.std()[\"FEMALE\"]\n",
    "MEAN_3_MALE, STD_3_MALE = users_personality.groupby('gender').conscientiousness.mean()[\"MALE\"], users_personality.groupby('gender').conscientiousness.std()[\"MALE\"]\n",
    "\n",
    "MEAN_4_FEMALE, STD_4_FEMALE = users_personality.groupby('gender').stability.mean()[\"FEMALE\"], users_personality.groupby('gender').stability.std()[\"FEMALE\"]\n",
    "MEAN_4_MALE, STD_4_MALE = users_personality.groupby('gender').stability.mean()[\"MALE\"], users_personality.groupby('gender').stability.std()[\"MALE\"]\n",
    "\n",
    "MEAN_5_FEMALE, STD_5_FEMALE = users_personality.groupby('gender').intellect.mean()[\"FEMALE\"], users_personality.groupby('gender').intellect.std()[\"FEMALE\"]\n",
    "MEAN_5_MALE, STD_5_MALE = users_personality.groupby('gender').intellect.mean()[\"MALE\"], users_personality.groupby('gender').intellect.std()[\"MALE\"]"
   ],
   "metadata": {
    "collapsed": false,
    "pycharm": {
     "name": "#%%\n"
    }
   }
  },
  {
   "cell_type": "code",
   "execution_count": 54,
   "outputs": [],
   "source": [
    "def get_personality_category(score, mean, std):\n",
    "    if score > mean + 0.5*std:\n",
    "        return 'HIGH'\n",
    "    if score < mean - 0.5*std:\n",
    "        return 'LOW'\n",
    "    return 'AVERAGE'\n",
    "\n",
    "users_personality['ipip_extraversion_category'] = users_personality.apply(lambda row: get_personality_category(row.extraversion, MEAN_1_MALE, STD_1_MALE) if row.gender == \"MALE\" else get_personality_category(row.extraversion, MEAN_1_FEMALE, STD_1_FEMALE), axis=1)\n",
    "\n",
    "users_personality['ipip_agreeableness_category'] = users_personality.apply(lambda row: get_personality_category(row.agreeableness, MEAN_2_MALE, STD_2_MALE) if row.gender == \"MALE\" else get_personality_category(row.agreeableness, MEAN_2_FEMALE, STD_2_FEMALE), axis=1)\n",
    "\n",
    "users_personality['ipip_conscientiousness_category'] = users_personality.apply(lambda row: get_personality_category(row.conscientiousness, MEAN_3_MALE, STD_3_MALE) if row.gender == \"MALE\" else get_personality_category(row.conscientiousness, MEAN_3_FEMALE, STD_3_FEMALE), axis=1)\n",
    "\n",
    "users_personality['ipip_stability_category'] = users_personality.apply(lambda row: get_personality_category(row.stability, MEAN_4_MALE, STD_4_MALE) if row.gender == \"MALE\" else get_personality_category(row.stability, MEAN_4_FEMALE, STD_4_FEMALE), axis=1)\n",
    "\n",
    "users_personality['ipip_intellect_category'] = users_personality.apply(lambda row: get_personality_category(row.intellect, MEAN_5_MALE, STD_5_MALE) if row.gender == \"MALE\" else get_personality_category(row.intellect, MEAN_5_FEMALE, STD_5_FEMALE), axis=1)"
   ],
   "metadata": {
    "collapsed": false,
    "pycharm": {
     "name": "#%%\n"
    }
   }
  },
  {
   "cell_type": "code",
   "execution_count": 55,
   "outputs": [
    {
     "data": {
      "text/plain": "                     user_id  type  submitdate  extraversion  agreeableness  \\\n0   621e2e8e67b776a24055b564  bfpt  2021-05-31          21.0           33.0   \n1   621e2eaf67b776a2406b14ac  bfpt  2021-11-29          32.0           45.0   \n2   621e2ed667b776a24085d8d1  bfpt  2021-06-07          40.0           43.0   \n3   621e2f3967b776a240c654db  bfpt  2021-05-31          25.0           34.0   \n4   621e2f6167b776a240e082a9  bfpt  2021-06-01          41.0           41.0   \n5   621e2f7a67b776a240f14425  bfpt  2021-05-31          29.0           38.0   \n6   621e2f9167b776a240011ccb  bfpt  2021-11-28          21.0           45.0   \n7   621e2fb367b776a24015accd  bfpt  2021-05-31          37.0           36.0   \n8   621e2fce67b776a240279baa  bfpt  2021-05-31          34.0           42.0   \n9   621e2ff067b776a2403eb737  bfpt  2021-11-29          33.0           44.0   \n10  621e301367b776a24057738e  bfpt  2021-06-01          26.0           36.0   \n11  621e301e67b776a240608a72  bfpt  2021-05-31          35.0           44.0   \n12  621e30c867b776a240d4aa6c  bfpt  2021-06-04          34.0           40.0   \n13  621e30e267b776a240e5bf90  bfpt  2021-11-23          38.0           42.0   \n14  621e30e467b776a240e817c7  bfpt  2021-06-06          34.0           20.0   \n15  621e30f467b776a240f22944  bfpt  2021-11-29          28.0           40.0   \n16  621e310d67b776a24003096d  bfpt  2021-12-03          43.0           48.0   \n17  621e312a67b776a240164d59  bfpt  2021-11-22          25.0           33.0   \n18  621e314867b776a24029ebf9  bfpt  2021-05-31          20.0           40.0   \n19  621e323667b776a240f19134  bfpt  2021-11-23          39.0           44.0   \n20  621e324e67b776a2400191cb  bfpt  2021-11-27          32.0           39.0   \n21  621e328667b776a240281372  bfpt  2021-05-31          37.0           39.0   \n22  621e329067b776a2402ffad2  bfpt  2021-05-31          29.0           47.0   \n23  621e32af67b776a24045b4cf  bfpt  2021-05-31          18.0           36.0   \n24  621e32d067b776a2405b7d54  bfpt  2021-12-09          21.0           36.0   \n25  621e32d967b776a240627414  bfpt  2021-05-31          34.0           34.0   \n26  621e331067b776a24085dd3f  bfpt  2021-11-23          19.0           40.0   \n27  621e332267b776a24092a584  bfpt  2021-06-02          22.0           32.0   \n28  621e333567b776a240a0c217  bfpt  2021-11-23          30.0           41.0   \n29  621e333967b776a240a3cd06  bfpt  2021-11-27          22.0           37.0   \n30  621e335a67b776a240bb12ff  bfpt  2021-05-31          21.0           29.0   \n31  621e337667b776a240ce78ab  bfpt  2021-06-07          22.0           30.0   \n32  621e339967b776a240e502de  bfpt  2021-11-22          35.0           45.0   \n34  621e33b067b776a240f39e56  bfpt  2021-06-08          45.0           49.0   \n35  621e33cf67b776a240087de9  bfpt  2021-11-24          16.0           31.0   \n36  621e33ed67b776a2401cf5f7  bfpt  2021-06-03          39.0           48.0   \n37  621e341067b776a24037b105  bfpt  2021-05-31          19.0           30.0   \n38  621e346f67b776a24081744f  bfpt  2021-11-24          35.0           44.0   \n39  621e34db67b776a240c9c2be  bfpt  2021-05-31          28.0           45.0   \n40  621e34ec67b776a240d60873  bfpt  2021-06-02          31.0           29.0   \n41  621e34f767b776a240de4e1a  bfpt  2021-06-07          40.0           42.0   \n42  621e356967b776a24027bd9f  bfpt  2021-11-24          26.0           38.0   \n43  621e362467b776a2404ad513  bfpt  2021-06-02          19.0           36.0   \n45  621e366567b776a24076a727  bfpt  2021-11-22          30.0           36.0   \n46  621e367e67b776a24087d75d  bfpt  2021-11-24          13.0           26.0   \n47  621e36bb67b776a240b40d64  bfpt  2021-06-02          41.0           29.0   \n48  621e36c267b776a240ba2756  bfpt  2021-05-31          39.0           36.0   \n49  621e36dd67b776a240ce9a45  bfpt  2021-07-21          33.0           34.0   \n50  621e36f967b776a240e5e7c9  bfpt  2021-05-31          42.0           42.0   \n52  621e375b67b776a240290cdc  bfpt  2021-06-01          34.0           46.0   \n\n    conscientiousness  stability  intellect  gender  \\\n0                45.0       42.0       40.0    MALE   \n1                30.0       18.0       41.0  FEMALE   \n2                22.0       28.0       34.0  FEMALE   \n3                30.0       39.0       37.0    MALE   \n4                30.0       34.0       30.0  FEMALE   \n5                43.0       39.0       35.0    MALE   \n6                31.0       18.0       39.0  FEMALE   \n7                29.0       27.0       41.0    MALE   \n8                35.0       27.0       35.0    MALE   \n9                23.0       11.0       30.0  FEMALE   \n10               31.0       39.0       36.0    MALE   \n11               40.0       19.0       35.0  FEMALE   \n12               26.0       24.0       39.0  FEMALE   \n13               27.0       33.0       35.0    MALE   \n14               22.0       13.0       27.0    MALE   \n15               34.0       29.0       36.0    MALE   \n16               31.0       30.0       41.0  FEMALE   \n17               40.0       30.0       33.0    MALE   \n18               39.0       42.0       35.0    MALE   \n19               32.0       33.0       38.0    MALE   \n20               41.0       46.0       37.0    MALE   \n21               39.0       27.0       30.0    MALE   \n22               39.0       31.0       40.0    MALE   \n23               46.0       18.0       43.0    MALE   \n24               27.0       33.0       33.0  FEMALE   \n25               39.0       33.0       46.0    MALE   \n26               41.0       25.0       35.0  FEMALE   \n27               26.0       31.0       46.0    MALE   \n28               36.0       24.0       34.0    MALE   \n29               39.0       24.0       48.0    MALE   \n30               39.0       31.0       28.0  FEMALE   \n31               24.0       24.0       46.0    MALE   \n32               29.0       44.0       35.0  FEMALE   \n34               41.0       36.0       45.0    MALE   \n35               41.0       37.0       28.0    MALE   \n36               35.0       42.0       44.0    MALE   \n37               25.0       21.0       30.0    MALE   \n38               21.0       33.0       35.0  FEMALE   \n39               35.0       36.0       41.0  FEMALE   \n40               25.0       30.0       30.0    MALE   \n41               43.0       32.0       37.0  FEMALE   \n42               41.0       25.0       39.0  FEMALE   \n43               28.0       35.0       35.0  FEMALE   \n45               41.0       33.0       37.0    MALE   \n46               28.0       28.0       34.0    MALE   \n47               33.0       17.0       30.0  FEMALE   \n48               23.0       40.0       28.0    MALE   \n49               36.0       32.0       38.0    MALE   \n50               38.0       31.0       41.0  FEMALE   \n52               33.0       18.0       40.0  FEMALE   \n\n   ipip_extraversion_category ipip_agreeableness_category  \\\n0                         LOW                         LOW   \n1                     AVERAGE                        HIGH   \n2                        HIGH                     AVERAGE   \n3                     AVERAGE                     AVERAGE   \n4                        HIGH                     AVERAGE   \n5                     AVERAGE                     AVERAGE   \n6                         LOW                        HIGH   \n7                        HIGH                     AVERAGE   \n8                        HIGH                        HIGH   \n9                     AVERAGE                        HIGH   \n10                    AVERAGE                     AVERAGE   \n11                    AVERAGE                        HIGH   \n12                    AVERAGE                     AVERAGE   \n13                       HIGH                        HIGH   \n14                       HIGH                         LOW   \n15                    AVERAGE                        HIGH   \n16                       HIGH                        HIGH   \n17                    AVERAGE                         LOW   \n18                        LOW                        HIGH   \n19                       HIGH                        HIGH   \n20                    AVERAGE                     AVERAGE   \n21                       HIGH                     AVERAGE   \n22                    AVERAGE                        HIGH   \n23                        LOW                     AVERAGE   \n24                        LOW                         LOW   \n25                       HIGH                     AVERAGE   \n26                        LOW                     AVERAGE   \n27                        LOW                         LOW   \n28                    AVERAGE                        HIGH   \n29                        LOW                     AVERAGE   \n30                        LOW                         LOW   \n31                        LOW                         LOW   \n32                    AVERAGE                        HIGH   \n34                       HIGH                        HIGH   \n35                        LOW                         LOW   \n36                       HIGH                        HIGH   \n37                        LOW                         LOW   \n38                    AVERAGE                        HIGH   \n39                    AVERAGE                        HIGH   \n40                    AVERAGE                         LOW   \n41                       HIGH                     AVERAGE   \n42                        LOW                         LOW   \n43                        LOW                         LOW   \n45                    AVERAGE                     AVERAGE   \n46                        LOW                         LOW   \n47                       HIGH                         LOW   \n48                       HIGH                     AVERAGE   \n49                       HIGH                     AVERAGE   \n50                       HIGH                     AVERAGE   \n52                    AVERAGE                        HIGH   \n\n   ipip_conscientiousness_category ipip_stability_category  \\\n0                             HIGH                    HIGH   \n1                          AVERAGE                     LOW   \n2                              LOW                 AVERAGE   \n3                              LOW                    HIGH   \n4                          AVERAGE                    HIGH   \n5                             HIGH                    HIGH   \n6                          AVERAGE                     LOW   \n7                              LOW                     LOW   \n8                          AVERAGE                     LOW   \n9                              LOW                     LOW   \n10                         AVERAGE                    HIGH   \n11                            HIGH                     LOW   \n12                             LOW                 AVERAGE   \n13                             LOW                 AVERAGE   \n14                             LOW                     LOW   \n15                         AVERAGE                 AVERAGE   \n16                         AVERAGE                 AVERAGE   \n17                            HIGH                 AVERAGE   \n18                            HIGH                    HIGH   \n19                         AVERAGE                 AVERAGE   \n20                            HIGH                    HIGH   \n21                            HIGH                     LOW   \n22                            HIGH                 AVERAGE   \n23                            HIGH                     LOW   \n24                             LOW                    HIGH   \n25                            HIGH                 AVERAGE   \n26                            HIGH                 AVERAGE   \n27                             LOW                 AVERAGE   \n28                         AVERAGE                     LOW   \n29                            HIGH                     LOW   \n30                            HIGH                 AVERAGE   \n31                             LOW                     LOW   \n32                         AVERAGE                    HIGH   \n34                            HIGH                    HIGH   \n35                            HIGH                    HIGH   \n36                         AVERAGE                    HIGH   \n37                             LOW                     LOW   \n38                             LOW                    HIGH   \n39                         AVERAGE                    HIGH   \n40                             LOW                 AVERAGE   \n41                            HIGH                    HIGH   \n42                            HIGH                 AVERAGE   \n43                             LOW                    HIGH   \n45                            HIGH                 AVERAGE   \n46                             LOW                 AVERAGE   \n47                         AVERAGE                     LOW   \n48                             LOW                    HIGH   \n49                         AVERAGE                 AVERAGE   \n50                            HIGH                 AVERAGE   \n52                         AVERAGE                     LOW   \n\n   ipip_intellect_category  \n0                  AVERAGE  \n1                     HIGH  \n2                  AVERAGE  \n3                  AVERAGE  \n4                      LOW  \n5                  AVERAGE  \n6                     HIGH  \n7                     HIGH  \n8                  AVERAGE  \n9                      LOW  \n10                 AVERAGE  \n11                 AVERAGE  \n12                    HIGH  \n13                 AVERAGE  \n14                     LOW  \n15                 AVERAGE  \n16                    HIGH  \n17                     LOW  \n18                 AVERAGE  \n19                 AVERAGE  \n20                 AVERAGE  \n21                     LOW  \n22                 AVERAGE  \n23                    HIGH  \n24                     LOW  \n25                    HIGH  \n26                 AVERAGE  \n27                    HIGH  \n28                     LOW  \n29                    HIGH  \n30                     LOW  \n31                    HIGH  \n32                 AVERAGE  \n34                    HIGH  \n35                     LOW  \n36                    HIGH  \n37                     LOW  \n38                 AVERAGE  \n39                    HIGH  \n40                     LOW  \n41                 AVERAGE  \n42                    HIGH  \n43                 AVERAGE  \n45                 AVERAGE  \n46                     LOW  \n47                     LOW  \n48                     LOW  \n49                 AVERAGE  \n50                    HIGH  \n52                    HIGH  ",
      "text/html": "<div>\n<style scoped>\n    .dataframe tbody tr th:only-of-type {\n        vertical-align: middle;\n    }\n\n    .dataframe tbody tr th {\n        vertical-align: top;\n    }\n\n    .dataframe thead th {\n        text-align: right;\n    }\n</style>\n<table border=\"1\" class=\"dataframe\">\n  <thead>\n    <tr style=\"text-align: right;\">\n      <th></th>\n      <th>user_id</th>\n      <th>type</th>\n      <th>submitdate</th>\n      <th>extraversion</th>\n      <th>agreeableness</th>\n      <th>conscientiousness</th>\n      <th>stability</th>\n      <th>intellect</th>\n      <th>gender</th>\n      <th>ipip_extraversion_category</th>\n      <th>ipip_agreeableness_category</th>\n      <th>ipip_conscientiousness_category</th>\n      <th>ipip_stability_category</th>\n      <th>ipip_intellect_category</th>\n    </tr>\n  </thead>\n  <tbody>\n    <tr>\n      <th>0</th>\n      <td>621e2e8e67b776a24055b564</td>\n      <td>bfpt</td>\n      <td>2021-05-31</td>\n      <td>21.0</td>\n      <td>33.0</td>\n      <td>45.0</td>\n      <td>42.0</td>\n      <td>40.0</td>\n      <td>MALE</td>\n      <td>LOW</td>\n      <td>LOW</td>\n      <td>HIGH</td>\n      <td>HIGH</td>\n      <td>AVERAGE</td>\n    </tr>\n    <tr>\n      <th>1</th>\n      <td>621e2eaf67b776a2406b14ac</td>\n      <td>bfpt</td>\n      <td>2021-11-29</td>\n      <td>32.0</td>\n      <td>45.0</td>\n      <td>30.0</td>\n      <td>18.0</td>\n      <td>41.0</td>\n      <td>FEMALE</td>\n      <td>AVERAGE</td>\n      <td>HIGH</td>\n      <td>AVERAGE</td>\n      <td>LOW</td>\n      <td>HIGH</td>\n    </tr>\n    <tr>\n      <th>2</th>\n      <td>621e2ed667b776a24085d8d1</td>\n      <td>bfpt</td>\n      <td>2021-06-07</td>\n      <td>40.0</td>\n      <td>43.0</td>\n      <td>22.0</td>\n      <td>28.0</td>\n      <td>34.0</td>\n      <td>FEMALE</td>\n      <td>HIGH</td>\n      <td>AVERAGE</td>\n      <td>LOW</td>\n      <td>AVERAGE</td>\n      <td>AVERAGE</td>\n    </tr>\n    <tr>\n      <th>3</th>\n      <td>621e2f3967b776a240c654db</td>\n      <td>bfpt</td>\n      <td>2021-05-31</td>\n      <td>25.0</td>\n      <td>34.0</td>\n      <td>30.0</td>\n      <td>39.0</td>\n      <td>37.0</td>\n      <td>MALE</td>\n      <td>AVERAGE</td>\n      <td>AVERAGE</td>\n      <td>LOW</td>\n      <td>HIGH</td>\n      <td>AVERAGE</td>\n    </tr>\n    <tr>\n      <th>4</th>\n      <td>621e2f6167b776a240e082a9</td>\n      <td>bfpt</td>\n      <td>2021-06-01</td>\n      <td>41.0</td>\n      <td>41.0</td>\n      <td>30.0</td>\n      <td>34.0</td>\n      <td>30.0</td>\n      <td>FEMALE</td>\n      <td>HIGH</td>\n      <td>AVERAGE</td>\n      <td>AVERAGE</td>\n      <td>HIGH</td>\n      <td>LOW</td>\n    </tr>\n    <tr>\n      <th>5</th>\n      <td>621e2f7a67b776a240f14425</td>\n      <td>bfpt</td>\n      <td>2021-05-31</td>\n      <td>29.0</td>\n      <td>38.0</td>\n      <td>43.0</td>\n      <td>39.0</td>\n      <td>35.0</td>\n      <td>MALE</td>\n      <td>AVERAGE</td>\n      <td>AVERAGE</td>\n      <td>HIGH</td>\n      <td>HIGH</td>\n      <td>AVERAGE</td>\n    </tr>\n    <tr>\n      <th>6</th>\n      <td>621e2f9167b776a240011ccb</td>\n      <td>bfpt</td>\n      <td>2021-11-28</td>\n      <td>21.0</td>\n      <td>45.0</td>\n      <td>31.0</td>\n      <td>18.0</td>\n      <td>39.0</td>\n      <td>FEMALE</td>\n      <td>LOW</td>\n      <td>HIGH</td>\n      <td>AVERAGE</td>\n      <td>LOW</td>\n      <td>HIGH</td>\n    </tr>\n    <tr>\n      <th>7</th>\n      <td>621e2fb367b776a24015accd</td>\n      <td>bfpt</td>\n      <td>2021-05-31</td>\n      <td>37.0</td>\n      <td>36.0</td>\n      <td>29.0</td>\n      <td>27.0</td>\n      <td>41.0</td>\n      <td>MALE</td>\n      <td>HIGH</td>\n      <td>AVERAGE</td>\n      <td>LOW</td>\n      <td>LOW</td>\n      <td>HIGH</td>\n    </tr>\n    <tr>\n      <th>8</th>\n      <td>621e2fce67b776a240279baa</td>\n      <td>bfpt</td>\n      <td>2021-05-31</td>\n      <td>34.0</td>\n      <td>42.0</td>\n      <td>35.0</td>\n      <td>27.0</td>\n      <td>35.0</td>\n      <td>MALE</td>\n      <td>HIGH</td>\n      <td>HIGH</td>\n      <td>AVERAGE</td>\n      <td>LOW</td>\n      <td>AVERAGE</td>\n    </tr>\n    <tr>\n      <th>9</th>\n      <td>621e2ff067b776a2403eb737</td>\n      <td>bfpt</td>\n      <td>2021-11-29</td>\n      <td>33.0</td>\n      <td>44.0</td>\n      <td>23.0</td>\n      <td>11.0</td>\n      <td>30.0</td>\n      <td>FEMALE</td>\n      <td>AVERAGE</td>\n      <td>HIGH</td>\n      <td>LOW</td>\n      <td>LOW</td>\n      <td>LOW</td>\n    </tr>\n    <tr>\n      <th>10</th>\n      <td>621e301367b776a24057738e</td>\n      <td>bfpt</td>\n      <td>2021-06-01</td>\n      <td>26.0</td>\n      <td>36.0</td>\n      <td>31.0</td>\n      <td>39.0</td>\n      <td>36.0</td>\n      <td>MALE</td>\n      <td>AVERAGE</td>\n      <td>AVERAGE</td>\n      <td>AVERAGE</td>\n      <td>HIGH</td>\n      <td>AVERAGE</td>\n    </tr>\n    <tr>\n      <th>11</th>\n      <td>621e301e67b776a240608a72</td>\n      <td>bfpt</td>\n      <td>2021-05-31</td>\n      <td>35.0</td>\n      <td>44.0</td>\n      <td>40.0</td>\n      <td>19.0</td>\n      <td>35.0</td>\n      <td>FEMALE</td>\n      <td>AVERAGE</td>\n      <td>HIGH</td>\n      <td>HIGH</td>\n      <td>LOW</td>\n      <td>AVERAGE</td>\n    </tr>\n    <tr>\n      <th>12</th>\n      <td>621e30c867b776a240d4aa6c</td>\n      <td>bfpt</td>\n      <td>2021-06-04</td>\n      <td>34.0</td>\n      <td>40.0</td>\n      <td>26.0</td>\n      <td>24.0</td>\n      <td>39.0</td>\n      <td>FEMALE</td>\n      <td>AVERAGE</td>\n      <td>AVERAGE</td>\n      <td>LOW</td>\n      <td>AVERAGE</td>\n      <td>HIGH</td>\n    </tr>\n    <tr>\n      <th>13</th>\n      <td>621e30e267b776a240e5bf90</td>\n      <td>bfpt</td>\n      <td>2021-11-23</td>\n      <td>38.0</td>\n      <td>42.0</td>\n      <td>27.0</td>\n      <td>33.0</td>\n      <td>35.0</td>\n      <td>MALE</td>\n      <td>HIGH</td>\n      <td>HIGH</td>\n      <td>LOW</td>\n      <td>AVERAGE</td>\n      <td>AVERAGE</td>\n    </tr>\n    <tr>\n      <th>14</th>\n      <td>621e30e467b776a240e817c7</td>\n      <td>bfpt</td>\n      <td>2021-06-06</td>\n      <td>34.0</td>\n      <td>20.0</td>\n      <td>22.0</td>\n      <td>13.0</td>\n      <td>27.0</td>\n      <td>MALE</td>\n      <td>HIGH</td>\n      <td>LOW</td>\n      <td>LOW</td>\n      <td>LOW</td>\n      <td>LOW</td>\n    </tr>\n    <tr>\n      <th>15</th>\n      <td>621e30f467b776a240f22944</td>\n      <td>bfpt</td>\n      <td>2021-11-29</td>\n      <td>28.0</td>\n      <td>40.0</td>\n      <td>34.0</td>\n      <td>29.0</td>\n      <td>36.0</td>\n      <td>MALE</td>\n      <td>AVERAGE</td>\n      <td>HIGH</td>\n      <td>AVERAGE</td>\n      <td>AVERAGE</td>\n      <td>AVERAGE</td>\n    </tr>\n    <tr>\n      <th>16</th>\n      <td>621e310d67b776a24003096d</td>\n      <td>bfpt</td>\n      <td>2021-12-03</td>\n      <td>43.0</td>\n      <td>48.0</td>\n      <td>31.0</td>\n      <td>30.0</td>\n      <td>41.0</td>\n      <td>FEMALE</td>\n      <td>HIGH</td>\n      <td>HIGH</td>\n      <td>AVERAGE</td>\n      <td>AVERAGE</td>\n      <td>HIGH</td>\n    </tr>\n    <tr>\n      <th>17</th>\n      <td>621e312a67b776a240164d59</td>\n      <td>bfpt</td>\n      <td>2021-11-22</td>\n      <td>25.0</td>\n      <td>33.0</td>\n      <td>40.0</td>\n      <td>30.0</td>\n      <td>33.0</td>\n      <td>MALE</td>\n      <td>AVERAGE</td>\n      <td>LOW</td>\n      <td>HIGH</td>\n      <td>AVERAGE</td>\n      <td>LOW</td>\n    </tr>\n    <tr>\n      <th>18</th>\n      <td>621e314867b776a24029ebf9</td>\n      <td>bfpt</td>\n      <td>2021-05-31</td>\n      <td>20.0</td>\n      <td>40.0</td>\n      <td>39.0</td>\n      <td>42.0</td>\n      <td>35.0</td>\n      <td>MALE</td>\n      <td>LOW</td>\n      <td>HIGH</td>\n      <td>HIGH</td>\n      <td>HIGH</td>\n      <td>AVERAGE</td>\n    </tr>\n    <tr>\n      <th>19</th>\n      <td>621e323667b776a240f19134</td>\n      <td>bfpt</td>\n      <td>2021-11-23</td>\n      <td>39.0</td>\n      <td>44.0</td>\n      <td>32.0</td>\n      <td>33.0</td>\n      <td>38.0</td>\n      <td>MALE</td>\n      <td>HIGH</td>\n      <td>HIGH</td>\n      <td>AVERAGE</td>\n      <td>AVERAGE</td>\n      <td>AVERAGE</td>\n    </tr>\n    <tr>\n      <th>20</th>\n      <td>621e324e67b776a2400191cb</td>\n      <td>bfpt</td>\n      <td>2021-11-27</td>\n      <td>32.0</td>\n      <td>39.0</td>\n      <td>41.0</td>\n      <td>46.0</td>\n      <td>37.0</td>\n      <td>MALE</td>\n      <td>AVERAGE</td>\n      <td>AVERAGE</td>\n      <td>HIGH</td>\n      <td>HIGH</td>\n      <td>AVERAGE</td>\n    </tr>\n    <tr>\n      <th>21</th>\n      <td>621e328667b776a240281372</td>\n      <td>bfpt</td>\n      <td>2021-05-31</td>\n      <td>37.0</td>\n      <td>39.0</td>\n      <td>39.0</td>\n      <td>27.0</td>\n      <td>30.0</td>\n      <td>MALE</td>\n      <td>HIGH</td>\n      <td>AVERAGE</td>\n      <td>HIGH</td>\n      <td>LOW</td>\n      <td>LOW</td>\n    </tr>\n    <tr>\n      <th>22</th>\n      <td>621e329067b776a2402ffad2</td>\n      <td>bfpt</td>\n      <td>2021-05-31</td>\n      <td>29.0</td>\n      <td>47.0</td>\n      <td>39.0</td>\n      <td>31.0</td>\n      <td>40.0</td>\n      <td>MALE</td>\n      <td>AVERAGE</td>\n      <td>HIGH</td>\n      <td>HIGH</td>\n      <td>AVERAGE</td>\n      <td>AVERAGE</td>\n    </tr>\n    <tr>\n      <th>23</th>\n      <td>621e32af67b776a24045b4cf</td>\n      <td>bfpt</td>\n      <td>2021-05-31</td>\n      <td>18.0</td>\n      <td>36.0</td>\n      <td>46.0</td>\n      <td>18.0</td>\n      <td>43.0</td>\n      <td>MALE</td>\n      <td>LOW</td>\n      <td>AVERAGE</td>\n      <td>HIGH</td>\n      <td>LOW</td>\n      <td>HIGH</td>\n    </tr>\n    <tr>\n      <th>24</th>\n      <td>621e32d067b776a2405b7d54</td>\n      <td>bfpt</td>\n      <td>2021-12-09</td>\n      <td>21.0</td>\n      <td>36.0</td>\n      <td>27.0</td>\n      <td>33.0</td>\n      <td>33.0</td>\n      <td>FEMALE</td>\n      <td>LOW</td>\n      <td>LOW</td>\n      <td>LOW</td>\n      <td>HIGH</td>\n      <td>LOW</td>\n    </tr>\n    <tr>\n      <th>25</th>\n      <td>621e32d967b776a240627414</td>\n      <td>bfpt</td>\n      <td>2021-05-31</td>\n      <td>34.0</td>\n      <td>34.0</td>\n      <td>39.0</td>\n      <td>33.0</td>\n      <td>46.0</td>\n      <td>MALE</td>\n      <td>HIGH</td>\n      <td>AVERAGE</td>\n      <td>HIGH</td>\n      <td>AVERAGE</td>\n      <td>HIGH</td>\n    </tr>\n    <tr>\n      <th>26</th>\n      <td>621e331067b776a24085dd3f</td>\n      <td>bfpt</td>\n      <td>2021-11-23</td>\n      <td>19.0</td>\n      <td>40.0</td>\n      <td>41.0</td>\n      <td>25.0</td>\n      <td>35.0</td>\n      <td>FEMALE</td>\n      <td>LOW</td>\n      <td>AVERAGE</td>\n      <td>HIGH</td>\n      <td>AVERAGE</td>\n      <td>AVERAGE</td>\n    </tr>\n    <tr>\n      <th>27</th>\n      <td>621e332267b776a24092a584</td>\n      <td>bfpt</td>\n      <td>2021-06-02</td>\n      <td>22.0</td>\n      <td>32.0</td>\n      <td>26.0</td>\n      <td>31.0</td>\n      <td>46.0</td>\n      <td>MALE</td>\n      <td>LOW</td>\n      <td>LOW</td>\n      <td>LOW</td>\n      <td>AVERAGE</td>\n      <td>HIGH</td>\n    </tr>\n    <tr>\n      <th>28</th>\n      <td>621e333567b776a240a0c217</td>\n      <td>bfpt</td>\n      <td>2021-11-23</td>\n      <td>30.0</td>\n      <td>41.0</td>\n      <td>36.0</td>\n      <td>24.0</td>\n      <td>34.0</td>\n      <td>MALE</td>\n      <td>AVERAGE</td>\n      <td>HIGH</td>\n      <td>AVERAGE</td>\n      <td>LOW</td>\n      <td>LOW</td>\n    </tr>\n    <tr>\n      <th>29</th>\n      <td>621e333967b776a240a3cd06</td>\n      <td>bfpt</td>\n      <td>2021-11-27</td>\n      <td>22.0</td>\n      <td>37.0</td>\n      <td>39.0</td>\n      <td>24.0</td>\n      <td>48.0</td>\n      <td>MALE</td>\n      <td>LOW</td>\n      <td>AVERAGE</td>\n      <td>HIGH</td>\n      <td>LOW</td>\n      <td>HIGH</td>\n    </tr>\n    <tr>\n      <th>30</th>\n      <td>621e335a67b776a240bb12ff</td>\n      <td>bfpt</td>\n      <td>2021-05-31</td>\n      <td>21.0</td>\n      <td>29.0</td>\n      <td>39.0</td>\n      <td>31.0</td>\n      <td>28.0</td>\n      <td>FEMALE</td>\n      <td>LOW</td>\n      <td>LOW</td>\n      <td>HIGH</td>\n      <td>AVERAGE</td>\n      <td>LOW</td>\n    </tr>\n    <tr>\n      <th>31</th>\n      <td>621e337667b776a240ce78ab</td>\n      <td>bfpt</td>\n      <td>2021-06-07</td>\n      <td>22.0</td>\n      <td>30.0</td>\n      <td>24.0</td>\n      <td>24.0</td>\n      <td>46.0</td>\n      <td>MALE</td>\n      <td>LOW</td>\n      <td>LOW</td>\n      <td>LOW</td>\n      <td>LOW</td>\n      <td>HIGH</td>\n    </tr>\n    <tr>\n      <th>32</th>\n      <td>621e339967b776a240e502de</td>\n      <td>bfpt</td>\n      <td>2021-11-22</td>\n      <td>35.0</td>\n      <td>45.0</td>\n      <td>29.0</td>\n      <td>44.0</td>\n      <td>35.0</td>\n      <td>FEMALE</td>\n      <td>AVERAGE</td>\n      <td>HIGH</td>\n      <td>AVERAGE</td>\n      <td>HIGH</td>\n      <td>AVERAGE</td>\n    </tr>\n    <tr>\n      <th>34</th>\n      <td>621e33b067b776a240f39e56</td>\n      <td>bfpt</td>\n      <td>2021-06-08</td>\n      <td>45.0</td>\n      <td>49.0</td>\n      <td>41.0</td>\n      <td>36.0</td>\n      <td>45.0</td>\n      <td>MALE</td>\n      <td>HIGH</td>\n      <td>HIGH</td>\n      <td>HIGH</td>\n      <td>HIGH</td>\n      <td>HIGH</td>\n    </tr>\n    <tr>\n      <th>35</th>\n      <td>621e33cf67b776a240087de9</td>\n      <td>bfpt</td>\n      <td>2021-11-24</td>\n      <td>16.0</td>\n      <td>31.0</td>\n      <td>41.0</td>\n      <td>37.0</td>\n      <td>28.0</td>\n      <td>MALE</td>\n      <td>LOW</td>\n      <td>LOW</td>\n      <td>HIGH</td>\n      <td>HIGH</td>\n      <td>LOW</td>\n    </tr>\n    <tr>\n      <th>36</th>\n      <td>621e33ed67b776a2401cf5f7</td>\n      <td>bfpt</td>\n      <td>2021-06-03</td>\n      <td>39.0</td>\n      <td>48.0</td>\n      <td>35.0</td>\n      <td>42.0</td>\n      <td>44.0</td>\n      <td>MALE</td>\n      <td>HIGH</td>\n      <td>HIGH</td>\n      <td>AVERAGE</td>\n      <td>HIGH</td>\n      <td>HIGH</td>\n    </tr>\n    <tr>\n      <th>37</th>\n      <td>621e341067b776a24037b105</td>\n      <td>bfpt</td>\n      <td>2021-05-31</td>\n      <td>19.0</td>\n      <td>30.0</td>\n      <td>25.0</td>\n      <td>21.0</td>\n      <td>30.0</td>\n      <td>MALE</td>\n      <td>LOW</td>\n      <td>LOW</td>\n      <td>LOW</td>\n      <td>LOW</td>\n      <td>LOW</td>\n    </tr>\n    <tr>\n      <th>38</th>\n      <td>621e346f67b776a24081744f</td>\n      <td>bfpt</td>\n      <td>2021-11-24</td>\n      <td>35.0</td>\n      <td>44.0</td>\n      <td>21.0</td>\n      <td>33.0</td>\n      <td>35.0</td>\n      <td>FEMALE</td>\n      <td>AVERAGE</td>\n      <td>HIGH</td>\n      <td>LOW</td>\n      <td>HIGH</td>\n      <td>AVERAGE</td>\n    </tr>\n    <tr>\n      <th>39</th>\n      <td>621e34db67b776a240c9c2be</td>\n      <td>bfpt</td>\n      <td>2021-05-31</td>\n      <td>28.0</td>\n      <td>45.0</td>\n      <td>35.0</td>\n      <td>36.0</td>\n      <td>41.0</td>\n      <td>FEMALE</td>\n      <td>AVERAGE</td>\n      <td>HIGH</td>\n      <td>AVERAGE</td>\n      <td>HIGH</td>\n      <td>HIGH</td>\n    </tr>\n    <tr>\n      <th>40</th>\n      <td>621e34ec67b776a240d60873</td>\n      <td>bfpt</td>\n      <td>2021-06-02</td>\n      <td>31.0</td>\n      <td>29.0</td>\n      <td>25.0</td>\n      <td>30.0</td>\n      <td>30.0</td>\n      <td>MALE</td>\n      <td>AVERAGE</td>\n      <td>LOW</td>\n      <td>LOW</td>\n      <td>AVERAGE</td>\n      <td>LOW</td>\n    </tr>\n    <tr>\n      <th>41</th>\n      <td>621e34f767b776a240de4e1a</td>\n      <td>bfpt</td>\n      <td>2021-06-07</td>\n      <td>40.0</td>\n      <td>42.0</td>\n      <td>43.0</td>\n      <td>32.0</td>\n      <td>37.0</td>\n      <td>FEMALE</td>\n      <td>HIGH</td>\n      <td>AVERAGE</td>\n      <td>HIGH</td>\n      <td>HIGH</td>\n      <td>AVERAGE</td>\n    </tr>\n    <tr>\n      <th>42</th>\n      <td>621e356967b776a24027bd9f</td>\n      <td>bfpt</td>\n      <td>2021-11-24</td>\n      <td>26.0</td>\n      <td>38.0</td>\n      <td>41.0</td>\n      <td>25.0</td>\n      <td>39.0</td>\n      <td>FEMALE</td>\n      <td>LOW</td>\n      <td>LOW</td>\n      <td>HIGH</td>\n      <td>AVERAGE</td>\n      <td>HIGH</td>\n    </tr>\n    <tr>\n      <th>43</th>\n      <td>621e362467b776a2404ad513</td>\n      <td>bfpt</td>\n      <td>2021-06-02</td>\n      <td>19.0</td>\n      <td>36.0</td>\n      <td>28.0</td>\n      <td>35.0</td>\n      <td>35.0</td>\n      <td>FEMALE</td>\n      <td>LOW</td>\n      <td>LOW</td>\n      <td>LOW</td>\n      <td>HIGH</td>\n      <td>AVERAGE</td>\n    </tr>\n    <tr>\n      <th>45</th>\n      <td>621e366567b776a24076a727</td>\n      <td>bfpt</td>\n      <td>2021-11-22</td>\n      <td>30.0</td>\n      <td>36.0</td>\n      <td>41.0</td>\n      <td>33.0</td>\n      <td>37.0</td>\n      <td>MALE</td>\n      <td>AVERAGE</td>\n      <td>AVERAGE</td>\n      <td>HIGH</td>\n      <td>AVERAGE</td>\n      <td>AVERAGE</td>\n    </tr>\n    <tr>\n      <th>46</th>\n      <td>621e367e67b776a24087d75d</td>\n      <td>bfpt</td>\n      <td>2021-11-24</td>\n      <td>13.0</td>\n      <td>26.0</td>\n      <td>28.0</td>\n      <td>28.0</td>\n      <td>34.0</td>\n      <td>MALE</td>\n      <td>LOW</td>\n      <td>LOW</td>\n      <td>LOW</td>\n      <td>AVERAGE</td>\n      <td>LOW</td>\n    </tr>\n    <tr>\n      <th>47</th>\n      <td>621e36bb67b776a240b40d64</td>\n      <td>bfpt</td>\n      <td>2021-06-02</td>\n      <td>41.0</td>\n      <td>29.0</td>\n      <td>33.0</td>\n      <td>17.0</td>\n      <td>30.0</td>\n      <td>FEMALE</td>\n      <td>HIGH</td>\n      <td>LOW</td>\n      <td>AVERAGE</td>\n      <td>LOW</td>\n      <td>LOW</td>\n    </tr>\n    <tr>\n      <th>48</th>\n      <td>621e36c267b776a240ba2756</td>\n      <td>bfpt</td>\n      <td>2021-05-31</td>\n      <td>39.0</td>\n      <td>36.0</td>\n      <td>23.0</td>\n      <td>40.0</td>\n      <td>28.0</td>\n      <td>MALE</td>\n      <td>HIGH</td>\n      <td>AVERAGE</td>\n      <td>LOW</td>\n      <td>HIGH</td>\n      <td>LOW</td>\n    </tr>\n    <tr>\n      <th>49</th>\n      <td>621e36dd67b776a240ce9a45</td>\n      <td>bfpt</td>\n      <td>2021-07-21</td>\n      <td>33.0</td>\n      <td>34.0</td>\n      <td>36.0</td>\n      <td>32.0</td>\n      <td>38.0</td>\n      <td>MALE</td>\n      <td>HIGH</td>\n      <td>AVERAGE</td>\n      <td>AVERAGE</td>\n      <td>AVERAGE</td>\n      <td>AVERAGE</td>\n    </tr>\n    <tr>\n      <th>50</th>\n      <td>621e36f967b776a240e5e7c9</td>\n      <td>bfpt</td>\n      <td>2021-05-31</td>\n      <td>42.0</td>\n      <td>42.0</td>\n      <td>38.0</td>\n      <td>31.0</td>\n      <td>41.0</td>\n      <td>FEMALE</td>\n      <td>HIGH</td>\n      <td>AVERAGE</td>\n      <td>HIGH</td>\n      <td>AVERAGE</td>\n      <td>HIGH</td>\n    </tr>\n    <tr>\n      <th>52</th>\n      <td>621e375b67b776a240290cdc</td>\n      <td>bfpt</td>\n      <td>2021-06-01</td>\n      <td>34.0</td>\n      <td>46.0</td>\n      <td>33.0</td>\n      <td>18.0</td>\n      <td>40.0</td>\n      <td>FEMALE</td>\n      <td>AVERAGE</td>\n      <td>HIGH</td>\n      <td>AVERAGE</td>\n      <td>LOW</td>\n      <td>HIGH</td>\n    </tr>\n  </tbody>\n</table>\n</div>"
     },
     "execution_count": 55,
     "metadata": {},
     "output_type": "execute_result"
    }
   ],
   "source": [
    "users_personality = users_personality[users_personality.columns.drop(list(users_personality.filter(regex='ipip\\[SQ')))]\n",
    "users_personality.to_csv(\"data/surveys/personality.csv\")\n",
    "users_personality.to_pickle(\"data/surveys/personality.pkl\")\n",
    "users_personality"
   ],
   "metadata": {
    "collapsed": false,
    "pycharm": {
     "name": "#%%\n"
    }
   }
  },
  {
   "cell_type": "markdown",
   "source": [
    "Integrating BREQ-2 Type Responses"
   ],
   "metadata": {
    "collapsed": false,
    "pycharm": {
     "name": "#%% md\n"
    }
   }
  },
  {
   "cell_type": "code",
   "execution_count": 56,
   "outputs": [
    {
     "data": {
      "text/plain": "                     user_id  type  submitdate  breq_amotivation  \\\n0   621e2e8e67b776a24055b564  breq  2021-05-31              1.00   \n1   621e2e8e67b776a24055b564  breq  2021-07-26              1.00   \n0   621e2eaf67b776a2406b14ac  breq  2021-11-29              1.25   \n1   621e2eaf67b776a2406b14ac  breq  2022-01-17              1.00   \n0   621e2ed667b776a24085d8d1  breq  2021-06-07              2.75   \n..                       ...   ...         ...               ...   \n0   621e36c267b776a240ba2756  breq  2021-05-31              1.00   \n0   621e36f967b776a240e5e7c9  breq  2021-05-31              1.00   \n1   621e36f967b776a240e5e7c9  breq  2021-07-26              1.00   \n0   621e375b67b776a240290cdc  breq  2021-06-01              1.00   \n1   621e375b67b776a240290cdc  breq  2021-06-07              1.00   \n\n    breq_external_regulation  breq_introjected_regulation  \\\n0                       1.00                     1.000000   \n1                       1.00                     1.666667   \n0                       1.00                     1.666667   \n1                       1.25                     2.333333   \n0                       2.00                     3.000000   \n..                       ...                          ...   \n0                       1.00                     1.000000   \n0                       1.75                     4.666667   \n1                       1.75                     5.000000   \n0                       1.00                     1.666667   \n1                       1.00                     1.000000   \n\n    breq_identified_regulation  breq_intrinsic_regulation  \\\n0                         3.50                       4.25   \n1                         3.50                       4.00   \n0                         4.50                       3.75   \n1                         4.00                       3.50   \n0                         2.50                       1.00   \n..                         ...                        ...   \n0                         3.75                       4.75   \n0                         4.00                       3.25   \n1                         4.75                       3.25   \n0                         3.50                       2.75   \n1                         3.25                       2.75   \n\n   breq_self_determination  \n0     intrinsic_regulation  \n1     intrinsic_regulation  \n0    identified_regulation  \n1    identified_regulation  \n0   introjected_regulation  \n..                     ...  \n0     intrinsic_regulation  \n0   introjected_regulation  \n1   introjected_regulation  \n0    identified_regulation  \n1    identified_regulation  \n\n[92 rows x 9 columns]",
      "text/html": "<div>\n<style scoped>\n    .dataframe tbody tr th:only-of-type {\n        vertical-align: middle;\n    }\n\n    .dataframe tbody tr th {\n        vertical-align: top;\n    }\n\n    .dataframe thead th {\n        text-align: right;\n    }\n</style>\n<table border=\"1\" class=\"dataframe\">\n  <thead>\n    <tr style=\"text-align: right;\">\n      <th></th>\n      <th>user_id</th>\n      <th>type</th>\n      <th>submitdate</th>\n      <th>breq_amotivation</th>\n      <th>breq_external_regulation</th>\n      <th>breq_introjected_regulation</th>\n      <th>breq_identified_regulation</th>\n      <th>breq_intrinsic_regulation</th>\n      <th>breq_self_determination</th>\n    </tr>\n  </thead>\n  <tbody>\n    <tr>\n      <th>0</th>\n      <td>621e2e8e67b776a24055b564</td>\n      <td>breq</td>\n      <td>2021-05-31</td>\n      <td>1.00</td>\n      <td>1.00</td>\n      <td>1.000000</td>\n      <td>3.50</td>\n      <td>4.25</td>\n      <td>intrinsic_regulation</td>\n    </tr>\n    <tr>\n      <th>1</th>\n      <td>621e2e8e67b776a24055b564</td>\n      <td>breq</td>\n      <td>2021-07-26</td>\n      <td>1.00</td>\n      <td>1.00</td>\n      <td>1.666667</td>\n      <td>3.50</td>\n      <td>4.00</td>\n      <td>intrinsic_regulation</td>\n    </tr>\n    <tr>\n      <th>0</th>\n      <td>621e2eaf67b776a2406b14ac</td>\n      <td>breq</td>\n      <td>2021-11-29</td>\n      <td>1.25</td>\n      <td>1.00</td>\n      <td>1.666667</td>\n      <td>4.50</td>\n      <td>3.75</td>\n      <td>identified_regulation</td>\n    </tr>\n    <tr>\n      <th>1</th>\n      <td>621e2eaf67b776a2406b14ac</td>\n      <td>breq</td>\n      <td>2022-01-17</td>\n      <td>1.00</td>\n      <td>1.25</td>\n      <td>2.333333</td>\n      <td>4.00</td>\n      <td>3.50</td>\n      <td>identified_regulation</td>\n    </tr>\n    <tr>\n      <th>0</th>\n      <td>621e2ed667b776a24085d8d1</td>\n      <td>breq</td>\n      <td>2021-06-07</td>\n      <td>2.75</td>\n      <td>2.00</td>\n      <td>3.000000</td>\n      <td>2.50</td>\n      <td>1.00</td>\n      <td>introjected_regulation</td>\n    </tr>\n    <tr>\n      <th>...</th>\n      <td>...</td>\n      <td>...</td>\n      <td>...</td>\n      <td>...</td>\n      <td>...</td>\n      <td>...</td>\n      <td>...</td>\n      <td>...</td>\n      <td>...</td>\n    </tr>\n    <tr>\n      <th>0</th>\n      <td>621e36c267b776a240ba2756</td>\n      <td>breq</td>\n      <td>2021-05-31</td>\n      <td>1.00</td>\n      <td>1.00</td>\n      <td>1.000000</td>\n      <td>3.75</td>\n      <td>4.75</td>\n      <td>intrinsic_regulation</td>\n    </tr>\n    <tr>\n      <th>0</th>\n      <td>621e36f967b776a240e5e7c9</td>\n      <td>breq</td>\n      <td>2021-05-31</td>\n      <td>1.00</td>\n      <td>1.75</td>\n      <td>4.666667</td>\n      <td>4.00</td>\n      <td>3.25</td>\n      <td>introjected_regulation</td>\n    </tr>\n    <tr>\n      <th>1</th>\n      <td>621e36f967b776a240e5e7c9</td>\n      <td>breq</td>\n      <td>2021-07-26</td>\n      <td>1.00</td>\n      <td>1.75</td>\n      <td>5.000000</td>\n      <td>4.75</td>\n      <td>3.25</td>\n      <td>introjected_regulation</td>\n    </tr>\n    <tr>\n      <th>0</th>\n      <td>621e375b67b776a240290cdc</td>\n      <td>breq</td>\n      <td>2021-06-01</td>\n      <td>1.00</td>\n      <td>1.00</td>\n      <td>1.666667</td>\n      <td>3.50</td>\n      <td>2.75</td>\n      <td>identified_regulation</td>\n    </tr>\n    <tr>\n      <th>1</th>\n      <td>621e375b67b776a240290cdc</td>\n      <td>breq</td>\n      <td>2021-06-07</td>\n      <td>1.00</td>\n      <td>1.00</td>\n      <td>1.000000</td>\n      <td>3.25</td>\n      <td>2.75</td>\n      <td>identified_regulation</td>\n    </tr>\n  </tbody>\n</table>\n<p>92 rows × 9 columns</p>\n</div>"
     },
     "execution_count": 56,
     "metadata": {},
     "output_type": "execute_result"
    }
   ],
   "source": [
    "users_breq = pd.DataFrame(columns=[\"user_id\", \"data\"])\n",
    "for user in users:\n",
    "    user_data = pd.DataFrame(list(\n",
    "        db.surveys.find({\"$and\": [\n",
    "            {\"type\": \"breq\"},\n",
    "            {\"user_id\": user}\n",
    "        ]},\n",
    "            {\"_id\": 0}\n",
    "        )\n",
    "    ))\n",
    "    users_breq = pd.concat([users_breq, user_data], axis=0)\n",
    "users_breq[\"submitdate\"] = users_breq[\"data\"].apply(lambda d: d[\"submitdate\"])\n",
    "users_breq[\"submitdate\"] = pd.to_datetime(users_breq[\"submitdate\"], infer_datetime_format=True).dt.date\n",
    "\n",
    "for engage in range(1,20):\n",
    "    if engage < 10:\n",
    "        col_name = \"engage[SQ00{}]\".format(engage)\n",
    "    else:\n",
    "        col_name = \"engage[SQ0{}]\".format(engage)\n",
    "    users_breq[col_name] = users_breq[\"data\"].apply(lambda d: d[col_name])\n",
    "users_breq.drop(['data'], axis=1, inplace=True)\n",
    "\n",
    "# find a mean per factor per user\n",
    "users_breq[\"breq_amotivation\"] = users_breq[[\"engage[SQ005]\", \"engage[SQ009]\", \"engage[SQ012]\", \"engage[SQ019]\"]].mean(axis=1)\n",
    "users_breq[\"breq_external_regulation\"] = users_breq[[\"engage[SQ001]\", \"engage[SQ006]\", \"engage[SQ011]\", \"engage[SQ016]\"]].mean(axis=1)\n",
    "users_breq[\"breq_introjected_regulation\"] = users_breq[[\"engage[SQ002]\", \"engage[SQ007]\", \"engage[SQ013]\"]].mean(axis=1)\n",
    "users_breq[\"breq_identified_regulation\"] = users_breq[[\"engage[SQ003]\", \"engage[SQ008]\", \"engage[SQ014]\", \"engage[SQ017]\"]].mean(axis=1)\n",
    "users_breq[\"breq_intrinsic_regulation\"] = users_breq[[\"engage[SQ004]\", \"engage[SQ010]\", \"engage[SQ015]\", \"engage[SQ018]\"]].mean(axis=1)\n",
    "temp = users_breq[[\"breq_amotivation\", \"breq_external_regulation\", \"breq_introjected_regulation\", \"breq_identified_regulation\", \"breq_intrinsic_regulation\"]].agg(['idxmax','max'], axis=1).mask(lambda x: x['max'].eq(0))\n",
    "users_breq.loc[:, \"breq_self_determination\"] = temp.loc[:, \"idxmax\"]\n",
    "users_breq[\"breq_self_determination\"].replace(\"breq_\", \"\", inplace=True, regex=True)\n",
    "\n",
    "# drop duplicates\n",
    "users_breq.drop_duplicates(subset=[\"user_id\", \"submitdate\"], keep=\"last\", inplace=True)\n",
    "users_breq = users_breq[users_breq.columns.drop(list(users_breq.filter(regex='engage')))]\n",
    "users_breq.to_csv(\"data/surveys/breq.csv\")\n",
    "users_breq.to_pickle(\"data/surveys/breq.pkl\")\n",
    "users_breq"
   ],
   "metadata": {
    "collapsed": false,
    "pycharm": {
     "name": "#%%\n"
    }
   }
  },
  {
   "cell_type": "markdown",
   "source": [
    "Integrating TTM Responses"
   ],
   "metadata": {
    "collapsed": false,
    "pycharm": {
     "name": "#%% md\n"
    }
   }
  },
  {
   "cell_type": "code",
   "execution_count": 57,
   "outputs": [
    {
     "data": {
      "text/plain": "                     user_id     type  submitdate          stage  \\\n0   621e2e8e67b776a24055b564  ttmspbf  2021-07-26    Maintenance   \n0   621e2eaf67b776a2406b14ac  ttmspbf  2021-11-29  Contemplation   \n1   621e2eaf67b776a2406b14ac  ttmspbf  2022-01-17         Action   \n0   621e2ed667b776a24085d8d1  ttmspbf  2021-06-07    Preparation   \n1   621e2ed667b776a24085d8d1  ttmspbf  2021-07-30  Contemplation   \n..                       ...      ...         ...            ...   \n0   621e36c267b776a240ba2756  ttmspbf  2021-05-31         Action   \n0   621e36f967b776a240e5e7c9  ttmspbf  2021-05-31         Action   \n1   621e36f967b776a240e5e7c9  ttmspbf  2021-07-26         Action   \n0   621e375b67b776a240290cdc  ttmspbf  2021-06-01         Action   \n1   621e375b67b776a240290cdc  ttmspbf  2021-06-08         Action   \n\n    ttm_consciousness_raising  ttm_dramatic_relief  \\\n0                    1.333333             2.666667   \n0                    3.333333             2.666667   \n1                    3.666667             2.333333   \n0                    1.000000             2.000000   \n1                    1.666667             2.333333   \n..                        ...                  ...   \n0                    2.666667             1.000000   \n0                    2.000000             4.333333   \n1                    4.000000             3.666667   \n0                    2.333333             1.666667   \n1                    2.333333             1.666667   \n\n    ttm_environmental_reevaluation  ttm_self_reevaluation  \\\n0                         2.333333               4.333333   \n0                         4.000000               4.666667   \n1                         4.333333               4.333333   \n0                         3.000000               3.333333   \n1                         4.000000               3.333333   \n..                             ...                    ...   \n0                         3.000000               4.333333   \n0                         3.333333               5.000000   \n1                         3.666667               5.000000   \n0                         1.000000               2.666667   \n1                         1.000000               3.000000   \n\n    ttm_social_liberation  ttm_counterconditioning  ttm_helping_relationships  \\\n0                4.000000                 4.000000                   4.000000   \n0                4.000000                 2.333333                   3.000000   \n1                3.333333                 1.666667                   3.000000   \n0                3.333333                 1.000000                   1.000000   \n1                3.666667                 1.333333                   1.000000   \n..                    ...                      ...                        ...   \n0                3.666667                 4.000000                   3.333333   \n0                3.000000                 3.333333                   1.666667   \n1                3.000000                 3.000000                   1.666667   \n0                5.000000                 1.000000                   3.000000   \n1                4.666667                 1.333333                   3.000000   \n\n    ttm_reinforcement_management  ttm_self_liberation  ttm_stimulus_control  \n0                       4.000000             4.000000              1.666667  \n0                       4.333333             3.333333              1.000000  \n1                       4.333333             3.333333              3.000000  \n0                       3.333333             1.666667              1.000000  \n1                       2.333333             2.333333              1.666667  \n..                           ...                  ...                   ...  \n0                       4.000000             3.666667              3.000000  \n0                       3.666667             4.000000              3.333333  \n1                       4.666667             4.000000              3.000000  \n0                       4.666667             2.666667              1.333333  \n1                       3.333333             3.333333              1.000000  \n\n[94 rows x 14 columns]",
      "text/html": "<div>\n<style scoped>\n    .dataframe tbody tr th:only-of-type {\n        vertical-align: middle;\n    }\n\n    .dataframe tbody tr th {\n        vertical-align: top;\n    }\n\n    .dataframe thead th {\n        text-align: right;\n    }\n</style>\n<table border=\"1\" class=\"dataframe\">\n  <thead>\n    <tr style=\"text-align: right;\">\n      <th></th>\n      <th>user_id</th>\n      <th>type</th>\n      <th>submitdate</th>\n      <th>stage</th>\n      <th>ttm_consciousness_raising</th>\n      <th>ttm_dramatic_relief</th>\n      <th>ttm_environmental_reevaluation</th>\n      <th>ttm_self_reevaluation</th>\n      <th>ttm_social_liberation</th>\n      <th>ttm_counterconditioning</th>\n      <th>ttm_helping_relationships</th>\n      <th>ttm_reinforcement_management</th>\n      <th>ttm_self_liberation</th>\n      <th>ttm_stimulus_control</th>\n    </tr>\n  </thead>\n  <tbody>\n    <tr>\n      <th>0</th>\n      <td>621e2e8e67b776a24055b564</td>\n      <td>ttmspbf</td>\n      <td>2021-07-26</td>\n      <td>Maintenance</td>\n      <td>1.333333</td>\n      <td>2.666667</td>\n      <td>2.333333</td>\n      <td>4.333333</td>\n      <td>4.000000</td>\n      <td>4.000000</td>\n      <td>4.000000</td>\n      <td>4.000000</td>\n      <td>4.000000</td>\n      <td>1.666667</td>\n    </tr>\n    <tr>\n      <th>0</th>\n      <td>621e2eaf67b776a2406b14ac</td>\n      <td>ttmspbf</td>\n      <td>2021-11-29</td>\n      <td>Contemplation</td>\n      <td>3.333333</td>\n      <td>2.666667</td>\n      <td>4.000000</td>\n      <td>4.666667</td>\n      <td>4.000000</td>\n      <td>2.333333</td>\n      <td>3.000000</td>\n      <td>4.333333</td>\n      <td>3.333333</td>\n      <td>1.000000</td>\n    </tr>\n    <tr>\n      <th>1</th>\n      <td>621e2eaf67b776a2406b14ac</td>\n      <td>ttmspbf</td>\n      <td>2022-01-17</td>\n      <td>Action</td>\n      <td>3.666667</td>\n      <td>2.333333</td>\n      <td>4.333333</td>\n      <td>4.333333</td>\n      <td>3.333333</td>\n      <td>1.666667</td>\n      <td>3.000000</td>\n      <td>4.333333</td>\n      <td>3.333333</td>\n      <td>3.000000</td>\n    </tr>\n    <tr>\n      <th>0</th>\n      <td>621e2ed667b776a24085d8d1</td>\n      <td>ttmspbf</td>\n      <td>2021-06-07</td>\n      <td>Preparation</td>\n      <td>1.000000</td>\n      <td>2.000000</td>\n      <td>3.000000</td>\n      <td>3.333333</td>\n      <td>3.333333</td>\n      <td>1.000000</td>\n      <td>1.000000</td>\n      <td>3.333333</td>\n      <td>1.666667</td>\n      <td>1.000000</td>\n    </tr>\n    <tr>\n      <th>1</th>\n      <td>621e2ed667b776a24085d8d1</td>\n      <td>ttmspbf</td>\n      <td>2021-07-30</td>\n      <td>Contemplation</td>\n      <td>1.666667</td>\n      <td>2.333333</td>\n      <td>4.000000</td>\n      <td>3.333333</td>\n      <td>3.666667</td>\n      <td>1.333333</td>\n      <td>1.000000</td>\n      <td>2.333333</td>\n      <td>2.333333</td>\n      <td>1.666667</td>\n    </tr>\n    <tr>\n      <th>...</th>\n      <td>...</td>\n      <td>...</td>\n      <td>...</td>\n      <td>...</td>\n      <td>...</td>\n      <td>...</td>\n      <td>...</td>\n      <td>...</td>\n      <td>...</td>\n      <td>...</td>\n      <td>...</td>\n      <td>...</td>\n      <td>...</td>\n      <td>...</td>\n    </tr>\n    <tr>\n      <th>0</th>\n      <td>621e36c267b776a240ba2756</td>\n      <td>ttmspbf</td>\n      <td>2021-05-31</td>\n      <td>Action</td>\n      <td>2.666667</td>\n      <td>1.000000</td>\n      <td>3.000000</td>\n      <td>4.333333</td>\n      <td>3.666667</td>\n      <td>4.000000</td>\n      <td>3.333333</td>\n      <td>4.000000</td>\n      <td>3.666667</td>\n      <td>3.000000</td>\n    </tr>\n    <tr>\n      <th>0</th>\n      <td>621e36f967b776a240e5e7c9</td>\n      <td>ttmspbf</td>\n      <td>2021-05-31</td>\n      <td>Action</td>\n      <td>2.000000</td>\n      <td>4.333333</td>\n      <td>3.333333</td>\n      <td>5.000000</td>\n      <td>3.000000</td>\n      <td>3.333333</td>\n      <td>1.666667</td>\n      <td>3.666667</td>\n      <td>4.000000</td>\n      <td>3.333333</td>\n    </tr>\n    <tr>\n      <th>1</th>\n      <td>621e36f967b776a240e5e7c9</td>\n      <td>ttmspbf</td>\n      <td>2021-07-26</td>\n      <td>Action</td>\n      <td>4.000000</td>\n      <td>3.666667</td>\n      <td>3.666667</td>\n      <td>5.000000</td>\n      <td>3.000000</td>\n      <td>3.000000</td>\n      <td>1.666667</td>\n      <td>4.666667</td>\n      <td>4.000000</td>\n      <td>3.000000</td>\n    </tr>\n    <tr>\n      <th>0</th>\n      <td>621e375b67b776a240290cdc</td>\n      <td>ttmspbf</td>\n      <td>2021-06-01</td>\n      <td>Action</td>\n      <td>2.333333</td>\n      <td>1.666667</td>\n      <td>1.000000</td>\n      <td>2.666667</td>\n      <td>5.000000</td>\n      <td>1.000000</td>\n      <td>3.000000</td>\n      <td>4.666667</td>\n      <td>2.666667</td>\n      <td>1.333333</td>\n    </tr>\n    <tr>\n      <th>1</th>\n      <td>621e375b67b776a240290cdc</td>\n      <td>ttmspbf</td>\n      <td>2021-06-08</td>\n      <td>Action</td>\n      <td>2.333333</td>\n      <td>1.666667</td>\n      <td>1.000000</td>\n      <td>3.000000</td>\n      <td>4.666667</td>\n      <td>1.333333</td>\n      <td>3.000000</td>\n      <td>3.333333</td>\n      <td>3.333333</td>\n      <td>1.000000</td>\n    </tr>\n  </tbody>\n</table>\n<p>94 rows × 14 columns</p>\n</div>"
     },
     "execution_count": 57,
     "metadata": {},
     "output_type": "execute_result"
    }
   ],
   "source": [
    "users_ttm = pd.DataFrame(columns=[\"user_id\", \"data\"])\n",
    "for user in users:\n",
    "    user_data = pd.DataFrame(list(\n",
    "        db.surveys.find({\"$and\": [\n",
    "            {\"type\": \"ttmspbf\"},\n",
    "            {\"user_id\": user}\n",
    "        ]},\n",
    "            {\"_id\": 0}\n",
    "        )\n",
    "    ))\n",
    "\n",
    "    users_ttm = pd.concat([users_ttm, user_data], axis=0)\n",
    "\n",
    "users_ttm[\"submitdate\"] = users_ttm[\"data\"].apply(lambda d: d[\"submitdate\"])\n",
    "users_ttm[\"stage\"] = users_ttm[\"data\"].apply(lambda d: d[\"stage\"])\n",
    "users_ttm[\"submitdate\"] = pd.to_datetime(users_ttm[\"submitdate\"], infer_datetime_format=True).dt.date\n",
    "\n",
    "for engage in range(2,32):\n",
    "    if engage < 10:\n",
    "        col_name = \"processes[SQ00{}]\".format(engage)\n",
    "        new_col_name = \"processes[SQ00{}]\".format(engage-1)\n",
    "    else:\n",
    "        col_name = \"processes[SQ0{}]\".format(engage)\n",
    "        if engage == 10:\n",
    "            new_col_name = \"processes[SQ00{}]\".format(engage-1)\n",
    "        else:\n",
    "            new_col_name = \"processes[SQ0{}]\".format(engage-1)\n",
    "    users_ttm[new_col_name] = users_ttm[\"data\"].apply(lambda d: d[col_name])\n",
    "\n",
    "users_ttm.drop(['data'], axis=1, inplace=True)\n",
    "\n",
    "def define_stage_of_change(response):\n",
    "    if response == \"No, and I do not intend to do regular physical activity in the next 6 months.\":\n",
    "        return \"Precontemplation\"\n",
    "    if response == \"No, but I intend to do regular physical activity in the next 6 months.\":\n",
    "        return \"Contemplation\"\n",
    "    if response == \"No, but I intend to do regular physical activity in the next 30 days.\":\n",
    "        return \"Preparation\"\n",
    "    if response == \"Yes, I have been doing physical activity regularly, but for less than 6 months.\":\n",
    "        return \"Action\"\n",
    "    return \"Maintenance\"\n",
    "\n",
    "users_ttm[\"stage\"] = users_ttm.stage.apply(lambda response: define_stage_of_change(response))\n",
    "\n",
    "# drop duplicates\n",
    "users_ttm.drop_duplicates(subset=[\"user_id\", \"submitdate\"], keep=\"last\", inplace=True)\n",
    "\n",
    "users_ttm[\"ttm_consciousness_raising\"] = users_ttm[[\"processes[SQ001]\",\"processes[SQ011]\", \"processes[SQ021]\"]].mean(axis=1)\n",
    "users_ttm[\"ttm_dramatic_relief\"] = users_ttm[[\"processes[SQ002]\",\"processes[SQ012]\", \"processes[SQ022]\"]].mean(axis=1)\n",
    "users_ttm[\"ttm_environmental_reevaluation\"] = users_ttm[[\"processes[SQ003]\",\"processes[SQ013]\", \"processes[SQ023]\"]].mean(axis=1)\n",
    "users_ttm[\"ttm_self_reevaluation\"] = users_ttm[[\"processes[SQ004]\",\"processes[SQ014]\", \"processes[SQ024]\"]].mean(axis=1)\n",
    "users_ttm[\"ttm_social_liberation\"] = users_ttm[[\"processes[SQ005]\",\"processes[SQ015]\", \"processes[SQ025]\"]].mean(axis=1)\n",
    "users_ttm[\"ttm_counterconditioning\"] = users_ttm[[\"processes[SQ006]\",\"processes[SQ016]\", \"processes[SQ026]\"]].mean(axis=1)\n",
    "users_ttm[\"ttm_helping_relationships\"] = users_ttm[[\"processes[SQ007]\",\"processes[SQ017]\", \"processes[SQ027]\"]].mean(axis=1)\n",
    "users_ttm[\"ttm_reinforcement_management\"] = users_ttm[[\"processes[SQ008]\",\"processes[SQ018]\", \"processes[SQ028]\"]].mean(axis=1)\n",
    "users_ttm[\"ttm_self_liberation\"] = users_ttm[[\"processes[SQ009]\",\"processes[SQ019]\", \"processes[SQ029]\"]].mean(axis=1)\n",
    "users_ttm[\"ttm_stimulus_control\"] = users_ttm[[\"processes[SQ010]\",\"processes[SQ020]\", \"processes[SQ030]\"]].mean(axis=1)\n",
    "\n",
    "users_ttm = users_ttm[users_ttm.columns.drop(list(users_ttm.filter(regex='processes')))]\n",
    "users_ttm.to_csv(\"data/surveys/ttm.csv\")\n",
    "users_ttm.to_pickle(\"data/surveys/ttm.pkl\")\n",
    "users_ttm"
   ],
   "metadata": {
    "collapsed": false,
    "pycharm": {
     "name": "#%%\n"
    }
   }
  },
  {
   "cell_type": "markdown",
   "source": [
    "Integrating STAI Data"
   ],
   "metadata": {
    "collapsed": false,
    "pycharm": {
     "name": "#%% md\n"
    }
   }
  },
  {
   "cell_type": "code",
   "execution_count": 58,
   "outputs": [
    {
     "data": {
      "text/plain": "                     user_id  type  submitdate  stai_stress  \\\n0   621e2e8e67b776a24055b564  stai  2021-05-31         45.0   \n1   621e2e8e67b776a24055b564  stai  2021-06-07         46.0   \n3   621e2e8e67b776a24055b564  stai  2021-07-19         46.0   \n4   621e2e8e67b776a24055b564  stai  2021-07-26         46.0   \n5   621e2e8e67b776a24055b564  stai  2021-06-28         54.0   \n..                       ...   ...         ...          ...   \n0   621e375b67b776a240290cdc  stai  2021-06-08         60.0   \n1   621e375b67b776a240290cdc  stai  2021-07-06         60.0   \n2   621e375b67b776a240290cdc  stai  2021-06-01         59.0   \n3   621e375b67b776a240290cdc  stai  2021-06-22         60.0   \n4   621e375b67b776a240290cdc  stai  2021-07-12         51.0   \n\n   stai_stress_category  \n0         Below average  \n1               Average  \n3               Average  \n4               Average  \n5         Above average  \n..                  ...  \n0         Above average  \n1         Above average  \n2         Above average  \n3         Above average  \n4         Above average  \n\n[279 rows x 5 columns]",
      "text/html": "<div>\n<style scoped>\n    .dataframe tbody tr th:only-of-type {\n        vertical-align: middle;\n    }\n\n    .dataframe tbody tr th {\n        vertical-align: top;\n    }\n\n    .dataframe thead th {\n        text-align: right;\n    }\n</style>\n<table border=\"1\" class=\"dataframe\">\n  <thead>\n    <tr style=\"text-align: right;\">\n      <th></th>\n      <th>user_id</th>\n      <th>type</th>\n      <th>submitdate</th>\n      <th>stai_stress</th>\n      <th>stai_stress_category</th>\n    </tr>\n  </thead>\n  <tbody>\n    <tr>\n      <th>0</th>\n      <td>621e2e8e67b776a24055b564</td>\n      <td>stai</td>\n      <td>2021-05-31</td>\n      <td>45.0</td>\n      <td>Below average</td>\n    </tr>\n    <tr>\n      <th>1</th>\n      <td>621e2e8e67b776a24055b564</td>\n      <td>stai</td>\n      <td>2021-06-07</td>\n      <td>46.0</td>\n      <td>Average</td>\n    </tr>\n    <tr>\n      <th>3</th>\n      <td>621e2e8e67b776a24055b564</td>\n      <td>stai</td>\n      <td>2021-07-19</td>\n      <td>46.0</td>\n      <td>Average</td>\n    </tr>\n    <tr>\n      <th>4</th>\n      <td>621e2e8e67b776a24055b564</td>\n      <td>stai</td>\n      <td>2021-07-26</td>\n      <td>46.0</td>\n      <td>Average</td>\n    </tr>\n    <tr>\n      <th>5</th>\n      <td>621e2e8e67b776a24055b564</td>\n      <td>stai</td>\n      <td>2021-06-28</td>\n      <td>54.0</td>\n      <td>Above average</td>\n    </tr>\n    <tr>\n      <th>...</th>\n      <td>...</td>\n      <td>...</td>\n      <td>...</td>\n      <td>...</td>\n      <td>...</td>\n    </tr>\n    <tr>\n      <th>0</th>\n      <td>621e375b67b776a240290cdc</td>\n      <td>stai</td>\n      <td>2021-06-08</td>\n      <td>60.0</td>\n      <td>Above average</td>\n    </tr>\n    <tr>\n      <th>1</th>\n      <td>621e375b67b776a240290cdc</td>\n      <td>stai</td>\n      <td>2021-07-06</td>\n      <td>60.0</td>\n      <td>Above average</td>\n    </tr>\n    <tr>\n      <th>2</th>\n      <td>621e375b67b776a240290cdc</td>\n      <td>stai</td>\n      <td>2021-06-01</td>\n      <td>59.0</td>\n      <td>Above average</td>\n    </tr>\n    <tr>\n      <th>3</th>\n      <td>621e375b67b776a240290cdc</td>\n      <td>stai</td>\n      <td>2021-06-22</td>\n      <td>60.0</td>\n      <td>Above average</td>\n    </tr>\n    <tr>\n      <th>4</th>\n      <td>621e375b67b776a240290cdc</td>\n      <td>stai</td>\n      <td>2021-07-12</td>\n      <td>51.0</td>\n      <td>Above average</td>\n    </tr>\n  </tbody>\n</table>\n<p>279 rows × 5 columns</p>\n</div>"
     },
     "execution_count": 58,
     "metadata": {},
     "output_type": "execute_result"
    }
   ],
   "source": [
    "users_stai = pd.DataFrame(columns=[\"user_id\", \"data\"])\n",
    "for user in users:\n",
    "    user_data = pd.DataFrame(list(\n",
    "        db.surveys.find({\"$and\": [\n",
    "            {\"type\": \"stai\"},\n",
    "            {\"user_id\": user}\n",
    "        ]},\n",
    "            {\"_id\": 0}\n",
    "        )\n",
    "    ))\n",
    "\n",
    "    users_stai = pd.concat([users_stai, user_data], axis=0)\n",
    "\n",
    "users_stai[\"submitdate\"] = users_stai[\"data\"].apply(lambda d: d[\"submitdate\"])\n",
    "users_stai[\"submitdate\"] = pd.to_datetime(users_stai[\"submitdate\"], infer_datetime_format=True).dt.date\n",
    "\n",
    "for engage in range(1,21):\n",
    "    if engage < 10:\n",
    "        col_name = \"STAI[SQ00{}]\".format(engage)\n",
    "    else:\n",
    "        col_name = \"STAI[SQ0{}]\".format(engage)\n",
    "    users_stai[col_name] = users_stai[\"data\"].apply(lambda d: d[col_name])\n",
    "\n",
    "users_stai.drop(['data'], axis=1, inplace=True)\n",
    "\n",
    "# convert 5-likert to 4-likert scale (mistakenly the STAI scale was distributed with a 5-likert, but it's originally 4-likert)\n",
    "def convert_5_to_4_likert(x):\n",
    "    return (4 - 1) * (x - 1) / (5 - 1) + 1\n",
    "\n",
    "users_stai.iloc[:, 3:] = users_stai.iloc[:, 3:].apply(lambda x: convert_5_to_4_likert(x))\n",
    "\n",
    "def proper_round(num, dec=0):\n",
    "    num = str(num)[:str(num).index('.')+dec+2]\n",
    "    if num[-1]>='5':\n",
    "      a = num[:-2-(not dec)]       # integer part\n",
    "      b = int(num[-2-(not dec)])+1 # decimal part\n",
    "      return float(a)+b**(-dec+1) if a and b == 10 else float(a+str(b))\n",
    "    return float(num[:-1])\n",
    "\n",
    "for col in users_stai.iloc[:, 3:].columns:\n",
    "    users_stai[col] = users_stai[col].apply(lambda x: proper_round(x))\n",
    "\n",
    "# Based on the scoring document: https://oml.eular.org/sysModules/obxOML/docs/id_150/State-Trait-Anxiety-Inventory.pdf, some questions are reversed in STAI\n",
    "stai_reversed = [\"STAI[SQ001]\", \"STAI[SQ002]\", \"STAI[SQ005]\", \"STAI[SQ008]\", \"STAI[SQ010]\", \"STAI[SQ011]\", \"STAI[SQ015]\", \"STAI[SQ016]\", \"STAI[SQ019]\", \"STAI[SQ020]\"]\n",
    "for col in users_personality.columns:\n",
    "    # inversing scores for the minus keyed items; the plus keyed items stay as is\n",
    "    if col in stai_reversed:\n",
    "        users_stai[col] = users_stai[col].apply(lambda score: inverse_score(score, 1, 4))\n",
    "\n",
    "# to calculate the total stress score simply sum per row\n",
    "users_stai['stai_stress'] = users_stai.iloc[:, 3:].sum(axis=1)\n",
    "\n",
    "mean_stai = users_stai['stai_stress'].mean()\n",
    "std_stai = users_stai['stai_stress'].std()\n",
    "\n",
    "def get_stai_category(score):\n",
    "    if score < mean_stai-0.5*std_stai:\n",
    "        return \"Below average\"\n",
    "    if score > mean_stai+0.5*std_stai:\n",
    "        return \"Above average\"\n",
    "    return \"Average\"\n",
    "\n",
    "users_stai['stai_stress_category'] = users_stai['stai_stress'].apply(lambda score: get_stai_category(score))\n",
    "\n",
    "# drop duplicates\n",
    "users_stai.drop_duplicates(subset=[\"user_id\", \"submitdate\"], inplace=True, keep=\"last\")\n",
    "users_stai = users_stai[users_stai.columns.drop(list(users_stai.filter(regex='STAI\\[SQ')))]\n",
    "users_stai.to_csv(\"data/surveys/stai.csv\")\n",
    "users_stai.to_pickle(\"data/surveys/stai.pkl\")\n",
    "users_stai"
   ],
   "metadata": {
    "collapsed": false,
    "pycharm": {
     "name": "#%%\n"
    }
   }
  },
  {
   "cell_type": "markdown",
   "source": [
    "Integrating PANAS scale"
   ],
   "metadata": {
    "collapsed": false,
    "pycharm": {
     "name": "#%% md\n"
    }
   }
  },
  {
   "cell_type": "code",
   "execution_count": 59,
   "outputs": [
    {
     "data": {
      "text/plain": "                     user_id   type  submitdate  positive_affect_score  \\\n1   621e2e8e67b776a24055b564  panas  2021-07-26                     37   \n2   621e2e8e67b776a24055b564  panas  2021-05-31                     38   \n3   621e2e8e67b776a24055b564  panas  2021-06-07                     37   \n4   621e2e8e67b776a24055b564  panas  2021-06-28                     31   \n5   621e2e8e67b776a24055b564  panas  2021-07-19                     37   \n..                       ...    ...         ...                    ...   \n1   621e375367b776a24021e950  panas  2022-01-02                     30   \n0   621e375b67b776a240290cdc  panas  2021-06-01                     27   \n1   621e375b67b776a240290cdc  panas  2021-06-08                     30   \n2   621e375b67b776a240290cdc  panas  2021-06-22                     30   \n3   621e375b67b776a240290cdc  panas  2021-07-06                     30   \n\n    negative_affect_score  \n1                      14  \n2                      12  \n3                      12  \n4                      12  \n5                      12  \n..                    ...  \n1                      33  \n0                      29  \n1                      30  \n2                      30  \n3                      29  \n\n[268 rows x 5 columns]",
      "text/html": "<div>\n<style scoped>\n    .dataframe tbody tr th:only-of-type {\n        vertical-align: middle;\n    }\n\n    .dataframe tbody tr th {\n        vertical-align: top;\n    }\n\n    .dataframe thead th {\n        text-align: right;\n    }\n</style>\n<table border=\"1\" class=\"dataframe\">\n  <thead>\n    <tr style=\"text-align: right;\">\n      <th></th>\n      <th>user_id</th>\n      <th>type</th>\n      <th>submitdate</th>\n      <th>positive_affect_score</th>\n      <th>negative_affect_score</th>\n    </tr>\n  </thead>\n  <tbody>\n    <tr>\n      <th>1</th>\n      <td>621e2e8e67b776a24055b564</td>\n      <td>panas</td>\n      <td>2021-07-26</td>\n      <td>37</td>\n      <td>14</td>\n    </tr>\n    <tr>\n      <th>2</th>\n      <td>621e2e8e67b776a24055b564</td>\n      <td>panas</td>\n      <td>2021-05-31</td>\n      <td>38</td>\n      <td>12</td>\n    </tr>\n    <tr>\n      <th>3</th>\n      <td>621e2e8e67b776a24055b564</td>\n      <td>panas</td>\n      <td>2021-06-07</td>\n      <td>37</td>\n      <td>12</td>\n    </tr>\n    <tr>\n      <th>4</th>\n      <td>621e2e8e67b776a24055b564</td>\n      <td>panas</td>\n      <td>2021-06-28</td>\n      <td>31</td>\n      <td>12</td>\n    </tr>\n    <tr>\n      <th>5</th>\n      <td>621e2e8e67b776a24055b564</td>\n      <td>panas</td>\n      <td>2021-07-19</td>\n      <td>37</td>\n      <td>12</td>\n    </tr>\n    <tr>\n      <th>...</th>\n      <td>...</td>\n      <td>...</td>\n      <td>...</td>\n      <td>...</td>\n      <td>...</td>\n    </tr>\n    <tr>\n      <th>1</th>\n      <td>621e375367b776a24021e950</td>\n      <td>panas</td>\n      <td>2022-01-02</td>\n      <td>30</td>\n      <td>33</td>\n    </tr>\n    <tr>\n      <th>0</th>\n      <td>621e375b67b776a240290cdc</td>\n      <td>panas</td>\n      <td>2021-06-01</td>\n      <td>27</td>\n      <td>29</td>\n    </tr>\n    <tr>\n      <th>1</th>\n      <td>621e375b67b776a240290cdc</td>\n      <td>panas</td>\n      <td>2021-06-08</td>\n      <td>30</td>\n      <td>30</td>\n    </tr>\n    <tr>\n      <th>2</th>\n      <td>621e375b67b776a240290cdc</td>\n      <td>panas</td>\n      <td>2021-06-22</td>\n      <td>30</td>\n      <td>30</td>\n    </tr>\n    <tr>\n      <th>3</th>\n      <td>621e375b67b776a240290cdc</td>\n      <td>panas</td>\n      <td>2021-07-06</td>\n      <td>30</td>\n      <td>29</td>\n    </tr>\n  </tbody>\n</table>\n<p>268 rows × 5 columns</p>\n</div>"
     },
     "execution_count": 59,
     "metadata": {},
     "output_type": "execute_result"
    }
   ],
   "source": [
    "users_panas = pd.DataFrame(columns=[\"user_id\", \"data\"])\n",
    "for user in users:\n",
    "    user_data = pd.DataFrame(list(\n",
    "        db.surveys.find({\"$and\": [\n",
    "            {\"type\": \"panas\"},\n",
    "            {\"user_id\": user}\n",
    "        ]},\n",
    "            {\"_id\": 0}\n",
    "        )\n",
    "    ))\n",
    "\n",
    "    users_panas = pd.concat([users_panas, user_data], axis=0)\n",
    "\n",
    "users_panas[\"submitdate\"] = users_panas[\"data\"].apply(lambda d: d[\"submitdate\"])\n",
    "users_panas[\"submitdate\"] = pd.to_datetime(users_panas[\"submitdate\"], infer_datetime_format=True).dt.date\n",
    "\n",
    "for p in range(1,21):\n",
    "    if p < 10:\n",
    "        col_name = \"P1[SQ00{}]\".format(p)\n",
    "    else:\n",
    "        col_name = \"P1[SQ0{}]\".format(p)\n",
    "    users_panas[col_name] = users_panas[\"data\"].apply(lambda d: d[col_name])\n",
    "\n",
    "users_panas.drop(['data'], axis=1, inplace=True)\n",
    "\n",
    "# drop duplicates\n",
    "users_panas.drop_duplicates(subset=[\"user_id\", \"submitdate\"], inplace=True, keep=\"last\")\n",
    "\n",
    "positive = [\"P1[SQ001]\", \"P1[SQ003]\", \"P1[SQ005]\", \"P1[SQ009]\", \"P1[SQ010]\", \"P1[SQ012]\", \"P1[SQ014]\", \"P1[SQ016]\", \"P1[SQ017]\", \"P1[SQ019]\"]\n",
    "negative = [\"P1[SQ002]\", \"P1[SQ004]\", \"P1[SQ006]\", \"P1[SQ007]\", \"P1[SQ008]\", \"P1[SQ011]\", \"P1[SQ013]\", \"P1[SQ015]\", \"P1[SQ018]\", \"P1[SQ020]\"]\n",
    "users_panas[\"positive_affect_score\"] = users_panas[positive].sum(axis=1)\n",
    "users_panas[\"negative_affect_score\"] = users_panas[negative].sum(axis=1)\n",
    "\n",
    "users_panas = users_panas[users_panas.columns.drop(list(users_panas.filter(regex='P1\\[SQ')))]\n",
    "users_panas.to_csv(\"data/surveys/panas.csv\")\n",
    "users_panas.to_pickle(\"data/surveys/panas.pkl\")\n",
    "users_panas"
   ],
   "metadata": {
    "collapsed": false,
    "pycharm": {
     "name": "#%%\n"
    }
   }
  },
  {
   "cell_type": "markdown",
   "source": [
    "# Add ECG features"
   ],
   "metadata": {
    "collapsed": false,
    "pycharm": {
     "name": "#%% md\n"
    }
   }
  },
  {
   "cell_type": "code",
   "execution_count": 11,
   "outputs": [
    {
     "data": {
      "text/plain": "                            id       date  nightly_temperature  nremhr  \\\n0     621e2e8e67b776a24055b564 2021-05-24            34.137687  57.432   \n1     621e2e8e67b776a24055b564 2021-05-25            33.794544  57.681   \n2     621e2e8e67b776a24055b564 2021-05-26            34.611011  57.481   \n3     621e2e8e67b776a24055b564 2021-05-27            34.408304  57.493   \n4     621e2e8e67b776a24055b564 2021-05-28            34.178922  56.750   \n...                        ...        ...                  ...     ...   \n7416  621e375b67b776a240290cdc 2021-08-13                  NaN     NaN   \n7417  621e375b67b776a240290cdc 2021-08-14                  NaN     NaN   \n7418  621e375b67b776a240290cdc 2021-08-15                  NaN     NaN   \n7419  621e375b67b776a240290cdc 2021-08-16                  NaN     NaN   \n7420  621e375b67b776a240290cdc 2021-08-17                  NaN     NaN   \n\n        rmssd  spo2  full_sleep_breathing_rate  stress_score  \\\n0      89.603   NaN                       14.8          78.0   \n1      94.303   NaN                       15.8          80.0   \n2     119.212   NaN                       14.6          84.0   \n3     111.709   NaN                       14.8          82.0   \n4     103.034   NaN                       15.2          81.0   \n...       ...   ...                        ...           ...   \n7416      NaN   NaN                        NaN           NaN   \n7417      NaN   NaN                        NaN           NaN   \n7418      NaN   NaN                        NaN           NaN   \n7419      NaN   NaN                        NaN           NaN   \n7420      NaN   NaN                        NaN           NaN   \n\n      sleep_points_percentage  exertion_points_percentage  ...  \\\n0                    0.833333                       0.675  ...   \n1                    0.833333                       0.725  ...   \n2                    0.966667                       0.725  ...   \n3                    0.933333                       0.725  ...   \n4                    0.866667                       0.725  ...   \n...                       ...                         ...  ...   \n7416                      NaN                         NaN  ...   \n7417                      NaN                         NaN  ...   \n7418                      NaN                         NaN  ...   \n7419                      NaN                         NaN  ...   \n7420                      NaN                         NaN  ...   \n\n      sleep_light_ratio  sleep_rem_ratio    steps  minutes_in_default_zone_1  \\\n0              0.921642         1.341772   8833.0                       83.0   \n1              0.947566         1.197531   9727.0                       56.0   \n2              1.015038         1.670732   8253.0                       85.0   \n3              1.191729         1.588235   9015.0                       90.0   \n4              1.211896         1.090909  12949.0                      146.0   \n...                 ...              ...      ...                        ...   \n7416                NaN              NaN      NaN                        NaN   \n7417                NaN              NaN      NaN                        NaN   \n7418                NaN              NaN      NaN                        NaN   \n7419                NaN              NaN      NaN                        NaN   \n7420                NaN              NaN      NaN                        NaN   \n\n      minutes_below_default_zone_1  minutes_in_default_zone_2  \\\n0                           1349.0                        0.0   \n1                           1374.0                        4.0   \n2                           1350.0                        0.0   \n3                           1282.0                        0.0   \n4                           1274.0                        4.0   \n...                            ...                        ...   \n7416                           NaN                        NaN   \n7417                           NaN                        NaN   \n7418                           NaN                        NaN   \n7419                           NaN                        NaN   \n7420                           NaN                        NaN   \n\n     minutes_in_default_zone_3  age  gender   bmi  \n0                          0.0  <30    MALE   <19  \n1                          0.0  <30    MALE   <19  \n2                          0.0  <30    MALE   <19  \n3                          0.0  <30    MALE   <19  \n4                          0.0  <30    MALE   <19  \n...                        ...  ...     ...   ...  \n7416                       NaN  <30  FEMALE  23.0  \n7417                       NaN  <30  FEMALE  23.0  \n7418                       NaN  <30  FEMALE  23.0  \n7419                       NaN  <30  FEMALE  23.0  \n7420                       NaN  <30  FEMALE  23.0  \n\n[7421 rows x 43 columns]",
      "text/html": "<div>\n<style scoped>\n    .dataframe tbody tr th:only-of-type {\n        vertical-align: middle;\n    }\n\n    .dataframe tbody tr th {\n        vertical-align: top;\n    }\n\n    .dataframe thead th {\n        text-align: right;\n    }\n</style>\n<table border=\"1\" class=\"dataframe\">\n  <thead>\n    <tr style=\"text-align: right;\">\n      <th></th>\n      <th>id</th>\n      <th>date</th>\n      <th>nightly_temperature</th>\n      <th>nremhr</th>\n      <th>rmssd</th>\n      <th>spo2</th>\n      <th>full_sleep_breathing_rate</th>\n      <th>stress_score</th>\n      <th>sleep_points_percentage</th>\n      <th>exertion_points_percentage</th>\n      <th>...</th>\n      <th>sleep_light_ratio</th>\n      <th>sleep_rem_ratio</th>\n      <th>steps</th>\n      <th>minutes_in_default_zone_1</th>\n      <th>minutes_below_default_zone_1</th>\n      <th>minutes_in_default_zone_2</th>\n      <th>minutes_in_default_zone_3</th>\n      <th>age</th>\n      <th>gender</th>\n      <th>bmi</th>\n    </tr>\n  </thead>\n  <tbody>\n    <tr>\n      <th>0</th>\n      <td>621e2e8e67b776a24055b564</td>\n      <td>2021-05-24</td>\n      <td>34.137687</td>\n      <td>57.432</td>\n      <td>89.603</td>\n      <td>NaN</td>\n      <td>14.8</td>\n      <td>78.0</td>\n      <td>0.833333</td>\n      <td>0.675</td>\n      <td>...</td>\n      <td>0.921642</td>\n      <td>1.341772</td>\n      <td>8833.0</td>\n      <td>83.0</td>\n      <td>1349.0</td>\n      <td>0.0</td>\n      <td>0.0</td>\n      <td>&lt;30</td>\n      <td>MALE</td>\n      <td>&lt;19</td>\n    </tr>\n    <tr>\n      <th>1</th>\n      <td>621e2e8e67b776a24055b564</td>\n      <td>2021-05-25</td>\n      <td>33.794544</td>\n      <td>57.681</td>\n      <td>94.303</td>\n      <td>NaN</td>\n      <td>15.8</td>\n      <td>80.0</td>\n      <td>0.833333</td>\n      <td>0.725</td>\n      <td>...</td>\n      <td>0.947566</td>\n      <td>1.197531</td>\n      <td>9727.0</td>\n      <td>56.0</td>\n      <td>1374.0</td>\n      <td>4.0</td>\n      <td>0.0</td>\n      <td>&lt;30</td>\n      <td>MALE</td>\n      <td>&lt;19</td>\n    </tr>\n    <tr>\n      <th>2</th>\n      <td>621e2e8e67b776a24055b564</td>\n      <td>2021-05-26</td>\n      <td>34.611011</td>\n      <td>57.481</td>\n      <td>119.212</td>\n      <td>NaN</td>\n      <td>14.6</td>\n      <td>84.0</td>\n      <td>0.966667</td>\n      <td>0.725</td>\n      <td>...</td>\n      <td>1.015038</td>\n      <td>1.670732</td>\n      <td>8253.0</td>\n      <td>85.0</td>\n      <td>1350.0</td>\n      <td>0.0</td>\n      <td>0.0</td>\n      <td>&lt;30</td>\n      <td>MALE</td>\n      <td>&lt;19</td>\n    </tr>\n    <tr>\n      <th>3</th>\n      <td>621e2e8e67b776a24055b564</td>\n      <td>2021-05-27</td>\n      <td>34.408304</td>\n      <td>57.493</td>\n      <td>111.709</td>\n      <td>NaN</td>\n      <td>14.8</td>\n      <td>82.0</td>\n      <td>0.933333</td>\n      <td>0.725</td>\n      <td>...</td>\n      <td>1.191729</td>\n      <td>1.588235</td>\n      <td>9015.0</td>\n      <td>90.0</td>\n      <td>1282.0</td>\n      <td>0.0</td>\n      <td>0.0</td>\n      <td>&lt;30</td>\n      <td>MALE</td>\n      <td>&lt;19</td>\n    </tr>\n    <tr>\n      <th>4</th>\n      <td>621e2e8e67b776a24055b564</td>\n      <td>2021-05-28</td>\n      <td>34.178922</td>\n      <td>56.750</td>\n      <td>103.034</td>\n      <td>NaN</td>\n      <td>15.2</td>\n      <td>81.0</td>\n      <td>0.866667</td>\n      <td>0.725</td>\n      <td>...</td>\n      <td>1.211896</td>\n      <td>1.090909</td>\n      <td>12949.0</td>\n      <td>146.0</td>\n      <td>1274.0</td>\n      <td>4.0</td>\n      <td>0.0</td>\n      <td>&lt;30</td>\n      <td>MALE</td>\n      <td>&lt;19</td>\n    </tr>\n    <tr>\n      <th>...</th>\n      <td>...</td>\n      <td>...</td>\n      <td>...</td>\n      <td>...</td>\n      <td>...</td>\n      <td>...</td>\n      <td>...</td>\n      <td>...</td>\n      <td>...</td>\n      <td>...</td>\n      <td>...</td>\n      <td>...</td>\n      <td>...</td>\n      <td>...</td>\n      <td>...</td>\n      <td>...</td>\n      <td>...</td>\n      <td>...</td>\n      <td>...</td>\n      <td>...</td>\n      <td>...</td>\n    </tr>\n    <tr>\n      <th>7416</th>\n      <td>621e375b67b776a240290cdc</td>\n      <td>2021-08-13</td>\n      <td>NaN</td>\n      <td>NaN</td>\n      <td>NaN</td>\n      <td>NaN</td>\n      <td>NaN</td>\n      <td>NaN</td>\n      <td>NaN</td>\n      <td>NaN</td>\n      <td>...</td>\n      <td>NaN</td>\n      <td>NaN</td>\n      <td>NaN</td>\n      <td>NaN</td>\n      <td>NaN</td>\n      <td>NaN</td>\n      <td>NaN</td>\n      <td>&lt;30</td>\n      <td>FEMALE</td>\n      <td>23.0</td>\n    </tr>\n    <tr>\n      <th>7417</th>\n      <td>621e375b67b776a240290cdc</td>\n      <td>2021-08-14</td>\n      <td>NaN</td>\n      <td>NaN</td>\n      <td>NaN</td>\n      <td>NaN</td>\n      <td>NaN</td>\n      <td>NaN</td>\n      <td>NaN</td>\n      <td>NaN</td>\n      <td>...</td>\n      <td>NaN</td>\n      <td>NaN</td>\n      <td>NaN</td>\n      <td>NaN</td>\n      <td>NaN</td>\n      <td>NaN</td>\n      <td>NaN</td>\n      <td>&lt;30</td>\n      <td>FEMALE</td>\n      <td>23.0</td>\n    </tr>\n    <tr>\n      <th>7418</th>\n      <td>621e375b67b776a240290cdc</td>\n      <td>2021-08-15</td>\n      <td>NaN</td>\n      <td>NaN</td>\n      <td>NaN</td>\n      <td>NaN</td>\n      <td>NaN</td>\n      <td>NaN</td>\n      <td>NaN</td>\n      <td>NaN</td>\n      <td>...</td>\n      <td>NaN</td>\n      <td>NaN</td>\n      <td>NaN</td>\n      <td>NaN</td>\n      <td>NaN</td>\n      <td>NaN</td>\n      <td>NaN</td>\n      <td>&lt;30</td>\n      <td>FEMALE</td>\n      <td>23.0</td>\n    </tr>\n    <tr>\n      <th>7419</th>\n      <td>621e375b67b776a240290cdc</td>\n      <td>2021-08-16</td>\n      <td>NaN</td>\n      <td>NaN</td>\n      <td>NaN</td>\n      <td>NaN</td>\n      <td>NaN</td>\n      <td>NaN</td>\n      <td>NaN</td>\n      <td>NaN</td>\n      <td>...</td>\n      <td>NaN</td>\n      <td>NaN</td>\n      <td>NaN</td>\n      <td>NaN</td>\n      <td>NaN</td>\n      <td>NaN</td>\n      <td>NaN</td>\n      <td>&lt;30</td>\n      <td>FEMALE</td>\n      <td>23.0</td>\n    </tr>\n    <tr>\n      <th>7420</th>\n      <td>621e375b67b776a240290cdc</td>\n      <td>2021-08-17</td>\n      <td>NaN</td>\n      <td>NaN</td>\n      <td>NaN</td>\n      <td>NaN</td>\n      <td>NaN</td>\n      <td>NaN</td>\n      <td>NaN</td>\n      <td>NaN</td>\n      <td>...</td>\n      <td>NaN</td>\n      <td>NaN</td>\n      <td>NaN</td>\n      <td>NaN</td>\n      <td>NaN</td>\n      <td>NaN</td>\n      <td>NaN</td>\n      <td>&lt;30</td>\n      <td>FEMALE</td>\n      <td>23.0</td>\n    </tr>\n  </tbody>\n</table>\n<p>7421 rows × 43 columns</p>\n</div>"
     },
     "execution_count": 11,
     "metadata": {},
     "output_type": "execute_result"
    }
   ],
   "source": [
    "df = pd.read_pickle('data/daily_fitbit_df_unprocessed.pkl')\n",
    "df"
   ],
   "metadata": {
    "collapsed": false,
    "pycharm": {
     "name": "#%%\n"
    }
   }
  },
  {
   "cell_type": "code",
   "execution_count": 12,
   "outputs": [
    {
     "data": {
      "text/plain": "                          id       date heart_rate_alert\n0   621e2ff067b776a2403eb737 2021-12-22             NONE\n1   621e301367b776a24057738e 2021-06-08             NONE\n2   621e312a67b776a240164d59 2021-10-07             NONE\n3   621e312a67b776a240164d59 2021-10-10             NONE\n4   621e326767b776a24012e179 2021-07-28           LOW_HR\n..                       ...        ...              ...\n68  621e351a67b776a240f6204b 2021-07-22             NONE\n69  621e351a67b776a240f6204b 2021-07-06             NONE\n70  621e351a67b776a240f6204b 2021-07-08             NONE\n71  621e36dd67b776a240ce9a45 2021-05-24             NONE\n72  621e36dd67b776a240ce9a45 2021-08-19             NONE\n\n[73 rows x 3 columns]",
      "text/html": "<div>\n<style scoped>\n    .dataframe tbody tr th:only-of-type {\n        vertical-align: middle;\n    }\n\n    .dataframe tbody tr th {\n        vertical-align: top;\n    }\n\n    .dataframe thead th {\n        text-align: right;\n    }\n</style>\n<table border=\"1\" class=\"dataframe\">\n  <thead>\n    <tr style=\"text-align: right;\">\n      <th></th>\n      <th>id</th>\n      <th>date</th>\n      <th>heart_rate_alert</th>\n    </tr>\n  </thead>\n  <tbody>\n    <tr>\n      <th>0</th>\n      <td>621e2ff067b776a2403eb737</td>\n      <td>2021-12-22</td>\n      <td>NONE</td>\n    </tr>\n    <tr>\n      <th>1</th>\n      <td>621e301367b776a24057738e</td>\n      <td>2021-06-08</td>\n      <td>NONE</td>\n    </tr>\n    <tr>\n      <th>2</th>\n      <td>621e312a67b776a240164d59</td>\n      <td>2021-10-07</td>\n      <td>NONE</td>\n    </tr>\n    <tr>\n      <th>3</th>\n      <td>621e312a67b776a240164d59</td>\n      <td>2021-10-10</td>\n      <td>NONE</td>\n    </tr>\n    <tr>\n      <th>4</th>\n      <td>621e326767b776a24012e179</td>\n      <td>2021-07-28</td>\n      <td>LOW_HR</td>\n    </tr>\n    <tr>\n      <th>...</th>\n      <td>...</td>\n      <td>...</td>\n      <td>...</td>\n    </tr>\n    <tr>\n      <th>68</th>\n      <td>621e351a67b776a240f6204b</td>\n      <td>2021-07-22</td>\n      <td>NONE</td>\n    </tr>\n    <tr>\n      <th>69</th>\n      <td>621e351a67b776a240f6204b</td>\n      <td>2021-07-06</td>\n      <td>NONE</td>\n    </tr>\n    <tr>\n      <th>70</th>\n      <td>621e351a67b776a240f6204b</td>\n      <td>2021-07-08</td>\n      <td>NONE</td>\n    </tr>\n    <tr>\n      <th>71</th>\n      <td>621e36dd67b776a240ce9a45</td>\n      <td>2021-05-24</td>\n      <td>NONE</td>\n    </tr>\n    <tr>\n      <th>72</th>\n      <td>621e36dd67b776a240ce9a45</td>\n      <td>2021-08-19</td>\n      <td>NONE</td>\n    </tr>\n  </tbody>\n</table>\n<p>73 rows × 3 columns</p>\n</div>"
     },
     "execution_count": 12,
     "metadata": {},
     "output_type": "execute_result"
    }
   ],
   "source": [
    "users_ECG = pd.DataFrame(columns=[\"id\", \"data\"])\n",
    "for user in users:\n",
    "    user_data = pd.DataFrame(list(\n",
    "                    db.fitbit.find({ \"$and\": [\n",
    "                        {\"type\": \"Afib ECG Readings\"},\n",
    "                        {\"id\": user}\n",
    "                    ] },\n",
    "                        {\"id\": 1, \"data.reading_time\": 1, \"data.heart_rate_alert\": 1, \"_id\": 0}\n",
    "                    )\n",
    "                ))\n",
    "    users_ECG = pd.concat([users_ECG, user_data], axis=0)\n",
    "\n",
    "# split data column (json format) into two columns\n",
    "users_ECG[\"date\"] = users_ECG[\"data\"].apply(lambda d: d[\"reading_time\"])\n",
    "users_ECG[\"heart_rate_alert\"] = users_ECG[\"data\"].apply(lambda d: d[\"heart_rate_alert\"])\n",
    "users_ECG.drop([\"data\"], inplace=True, axis=1)\n",
    "users_ECG[\"date\"] = pd.to_datetime(pd.to_datetime(users_ECG[\"date\"]).dt.date)\n",
    "users_ECG.reset_index(inplace=True, drop=True)\n",
    "users_ECG"
   ],
   "metadata": {
    "collapsed": false,
    "pycharm": {
     "name": "#%%\n"
    }
   }
  },
  {
   "cell_type": "code",
   "execution_count": 13,
   "outputs": [
    {
     "data": {
      "text/plain": "                            id       date  nightly_temperature  nremhr  \\\n0     621e2e8e67b776a24055b564 2021-05-24            34.137687  57.432   \n1     621e2e8e67b776a24055b564 2021-05-25            33.794544  57.681   \n2     621e2e8e67b776a24055b564 2021-05-26            34.611011  57.481   \n3     621e2e8e67b776a24055b564 2021-05-27            34.408304  57.493   \n4     621e2e8e67b776a24055b564 2021-05-28            34.178922  56.750   \n...                        ...        ...                  ...     ...   \n7348  621e375b67b776a240290cdc 2021-08-13                  NaN     NaN   \n7349  621e375b67b776a240290cdc 2021-08-14                  NaN     NaN   \n7350  621e375b67b776a240290cdc 2021-08-15                  NaN     NaN   \n7351  621e375b67b776a240290cdc 2021-08-16                  NaN     NaN   \n7352  621e375b67b776a240290cdc 2021-08-17                  NaN     NaN   \n\n        rmssd  spo2  full_sleep_breathing_rate  stress_score  \\\n0      89.603   NaN                       14.8          78.0   \n1      94.303   NaN                       15.8          80.0   \n2     119.212   NaN                       14.6          84.0   \n3     111.709   NaN                       14.8          82.0   \n4     103.034   NaN                       15.2          81.0   \n...       ...   ...                        ...           ...   \n7348      NaN   NaN                        NaN           NaN   \n7349      NaN   NaN                        NaN           NaN   \n7350      NaN   NaN                        NaN           NaN   \n7351      NaN   NaN                        NaN           NaN   \n7352      NaN   NaN                        NaN           NaN   \n\n      sleep_points_percentage  exertion_points_percentage  ...  \\\n0                    0.833333                       0.675  ...   \n1                    0.833333                       0.725  ...   \n2                    0.966667                       0.725  ...   \n3                    0.933333                       0.725  ...   \n4                    0.866667                       0.725  ...   \n...                       ...                         ...  ...   \n7348                      NaN                         NaN  ...   \n7349                      NaN                         NaN  ...   \n7350                      NaN                         NaN  ...   \n7351                      NaN                         NaN  ...   \n7352                      NaN                         NaN  ...   \n\n      sleep_rem_ratio    steps minutes_in_default_zone_1  \\\n0            1.341772   8833.0                      83.0   \n1            1.197531   9727.0                      56.0   \n2            1.670732   8253.0                      85.0   \n3            1.588235   9015.0                      90.0   \n4            1.090909  12949.0                     146.0   \n...               ...      ...                       ...   \n7348              NaN      NaN                       NaN   \n7349              NaN      NaN                       NaN   \n7350              NaN      NaN                       NaN   \n7351              NaN      NaN                       NaN   \n7352              NaN      NaN                       NaN   \n\n      minutes_below_default_zone_1  minutes_in_default_zone_2  \\\n0                           1349.0                        0.0   \n1                           1374.0                        4.0   \n2                           1350.0                        0.0   \n3                           1282.0                        0.0   \n4                           1274.0                        4.0   \n...                            ...                        ...   \n7348                           NaN                        NaN   \n7349                           NaN                        NaN   \n7350                           NaN                        NaN   \n7351                           NaN                        NaN   \n7352                           NaN                        NaN   \n\n      minutes_in_default_zone_3  age  gender   bmi heart_rate_alert  \n0                           0.0  <30    MALE   <19             None  \n1                           0.0  <30    MALE   <19             None  \n2                           0.0  <30    MALE   <19             None  \n3                           0.0  <30    MALE   <19             None  \n4                           0.0  <30    MALE   <19             None  \n...                         ...  ...     ...   ...              ...  \n7348                        NaN  <30  FEMALE  23.0             None  \n7349                        NaN  <30  FEMALE  23.0             None  \n7350                        NaN  <30  FEMALE  23.0             None  \n7351                        NaN  <30  FEMALE  23.0             None  \n7352                        NaN  <30  FEMALE  23.0             None  \n\n[7353 rows x 44 columns]",
      "text/html": "<div>\n<style scoped>\n    .dataframe tbody tr th:only-of-type {\n        vertical-align: middle;\n    }\n\n    .dataframe tbody tr th {\n        vertical-align: top;\n    }\n\n    .dataframe thead th {\n        text-align: right;\n    }\n</style>\n<table border=\"1\" class=\"dataframe\">\n  <thead>\n    <tr style=\"text-align: right;\">\n      <th></th>\n      <th>id</th>\n      <th>date</th>\n      <th>nightly_temperature</th>\n      <th>nremhr</th>\n      <th>rmssd</th>\n      <th>spo2</th>\n      <th>full_sleep_breathing_rate</th>\n      <th>stress_score</th>\n      <th>sleep_points_percentage</th>\n      <th>exertion_points_percentage</th>\n      <th>...</th>\n      <th>sleep_rem_ratio</th>\n      <th>steps</th>\n      <th>minutes_in_default_zone_1</th>\n      <th>minutes_below_default_zone_1</th>\n      <th>minutes_in_default_zone_2</th>\n      <th>minutes_in_default_zone_3</th>\n      <th>age</th>\n      <th>gender</th>\n      <th>bmi</th>\n      <th>heart_rate_alert</th>\n    </tr>\n  </thead>\n  <tbody>\n    <tr>\n      <th>0</th>\n      <td>621e2e8e67b776a24055b564</td>\n      <td>2021-05-24</td>\n      <td>34.137687</td>\n      <td>57.432</td>\n      <td>89.603</td>\n      <td>NaN</td>\n      <td>14.8</td>\n      <td>78.0</td>\n      <td>0.833333</td>\n      <td>0.675</td>\n      <td>...</td>\n      <td>1.341772</td>\n      <td>8833.0</td>\n      <td>83.0</td>\n      <td>1349.0</td>\n      <td>0.0</td>\n      <td>0.0</td>\n      <td>&lt;30</td>\n      <td>MALE</td>\n      <td>&lt;19</td>\n      <td>None</td>\n    </tr>\n    <tr>\n      <th>1</th>\n      <td>621e2e8e67b776a24055b564</td>\n      <td>2021-05-25</td>\n      <td>33.794544</td>\n      <td>57.681</td>\n      <td>94.303</td>\n      <td>NaN</td>\n      <td>15.8</td>\n      <td>80.0</td>\n      <td>0.833333</td>\n      <td>0.725</td>\n      <td>...</td>\n      <td>1.197531</td>\n      <td>9727.0</td>\n      <td>56.0</td>\n      <td>1374.0</td>\n      <td>4.0</td>\n      <td>0.0</td>\n      <td>&lt;30</td>\n      <td>MALE</td>\n      <td>&lt;19</td>\n      <td>None</td>\n    </tr>\n    <tr>\n      <th>2</th>\n      <td>621e2e8e67b776a24055b564</td>\n      <td>2021-05-26</td>\n      <td>34.611011</td>\n      <td>57.481</td>\n      <td>119.212</td>\n      <td>NaN</td>\n      <td>14.6</td>\n      <td>84.0</td>\n      <td>0.966667</td>\n      <td>0.725</td>\n      <td>...</td>\n      <td>1.670732</td>\n      <td>8253.0</td>\n      <td>85.0</td>\n      <td>1350.0</td>\n      <td>0.0</td>\n      <td>0.0</td>\n      <td>&lt;30</td>\n      <td>MALE</td>\n      <td>&lt;19</td>\n      <td>None</td>\n    </tr>\n    <tr>\n      <th>3</th>\n      <td>621e2e8e67b776a24055b564</td>\n      <td>2021-05-27</td>\n      <td>34.408304</td>\n      <td>57.493</td>\n      <td>111.709</td>\n      <td>NaN</td>\n      <td>14.8</td>\n      <td>82.0</td>\n      <td>0.933333</td>\n      <td>0.725</td>\n      <td>...</td>\n      <td>1.588235</td>\n      <td>9015.0</td>\n      <td>90.0</td>\n      <td>1282.0</td>\n      <td>0.0</td>\n      <td>0.0</td>\n      <td>&lt;30</td>\n      <td>MALE</td>\n      <td>&lt;19</td>\n      <td>None</td>\n    </tr>\n    <tr>\n      <th>4</th>\n      <td>621e2e8e67b776a24055b564</td>\n      <td>2021-05-28</td>\n      <td>34.178922</td>\n      <td>56.750</td>\n      <td>103.034</td>\n      <td>NaN</td>\n      <td>15.2</td>\n      <td>81.0</td>\n      <td>0.866667</td>\n      <td>0.725</td>\n      <td>...</td>\n      <td>1.090909</td>\n      <td>12949.0</td>\n      <td>146.0</td>\n      <td>1274.0</td>\n      <td>4.0</td>\n      <td>0.0</td>\n      <td>&lt;30</td>\n      <td>MALE</td>\n      <td>&lt;19</td>\n      <td>None</td>\n    </tr>\n    <tr>\n      <th>...</th>\n      <td>...</td>\n      <td>...</td>\n      <td>...</td>\n      <td>...</td>\n      <td>...</td>\n      <td>...</td>\n      <td>...</td>\n      <td>...</td>\n      <td>...</td>\n      <td>...</td>\n      <td>...</td>\n      <td>...</td>\n      <td>...</td>\n      <td>...</td>\n      <td>...</td>\n      <td>...</td>\n      <td>...</td>\n      <td>...</td>\n      <td>...</td>\n      <td>...</td>\n      <td>...</td>\n    </tr>\n    <tr>\n      <th>7348</th>\n      <td>621e375b67b776a240290cdc</td>\n      <td>2021-08-13</td>\n      <td>NaN</td>\n      <td>NaN</td>\n      <td>NaN</td>\n      <td>NaN</td>\n      <td>NaN</td>\n      <td>NaN</td>\n      <td>NaN</td>\n      <td>NaN</td>\n      <td>...</td>\n      <td>NaN</td>\n      <td>NaN</td>\n      <td>NaN</td>\n      <td>NaN</td>\n      <td>NaN</td>\n      <td>NaN</td>\n      <td>&lt;30</td>\n      <td>FEMALE</td>\n      <td>23.0</td>\n      <td>None</td>\n    </tr>\n    <tr>\n      <th>7349</th>\n      <td>621e375b67b776a240290cdc</td>\n      <td>2021-08-14</td>\n      <td>NaN</td>\n      <td>NaN</td>\n      <td>NaN</td>\n      <td>NaN</td>\n      <td>NaN</td>\n      <td>NaN</td>\n      <td>NaN</td>\n      <td>NaN</td>\n      <td>...</td>\n      <td>NaN</td>\n      <td>NaN</td>\n      <td>NaN</td>\n      <td>NaN</td>\n      <td>NaN</td>\n      <td>NaN</td>\n      <td>&lt;30</td>\n      <td>FEMALE</td>\n      <td>23.0</td>\n      <td>None</td>\n    </tr>\n    <tr>\n      <th>7350</th>\n      <td>621e375b67b776a240290cdc</td>\n      <td>2021-08-15</td>\n      <td>NaN</td>\n      <td>NaN</td>\n      <td>NaN</td>\n      <td>NaN</td>\n      <td>NaN</td>\n      <td>NaN</td>\n      <td>NaN</td>\n      <td>NaN</td>\n      <td>...</td>\n      <td>NaN</td>\n      <td>NaN</td>\n      <td>NaN</td>\n      <td>NaN</td>\n      <td>NaN</td>\n      <td>NaN</td>\n      <td>&lt;30</td>\n      <td>FEMALE</td>\n      <td>23.0</td>\n      <td>None</td>\n    </tr>\n    <tr>\n      <th>7351</th>\n      <td>621e375b67b776a240290cdc</td>\n      <td>2021-08-16</td>\n      <td>NaN</td>\n      <td>NaN</td>\n      <td>NaN</td>\n      <td>NaN</td>\n      <td>NaN</td>\n      <td>NaN</td>\n      <td>NaN</td>\n      <td>NaN</td>\n      <td>...</td>\n      <td>NaN</td>\n      <td>NaN</td>\n      <td>NaN</td>\n      <td>NaN</td>\n      <td>NaN</td>\n      <td>NaN</td>\n      <td>&lt;30</td>\n      <td>FEMALE</td>\n      <td>23.0</td>\n      <td>None</td>\n    </tr>\n    <tr>\n      <th>7352</th>\n      <td>621e375b67b776a240290cdc</td>\n      <td>2021-08-17</td>\n      <td>NaN</td>\n      <td>NaN</td>\n      <td>NaN</td>\n      <td>NaN</td>\n      <td>NaN</td>\n      <td>NaN</td>\n      <td>NaN</td>\n      <td>NaN</td>\n      <td>...</td>\n      <td>NaN</td>\n      <td>NaN</td>\n      <td>NaN</td>\n      <td>NaN</td>\n      <td>NaN</td>\n      <td>NaN</td>\n      <td>&lt;30</td>\n      <td>FEMALE</td>\n      <td>23.0</td>\n      <td>None</td>\n    </tr>\n  </tbody>\n</table>\n<p>7353 rows × 44 columns</p>\n</div>"
     },
     "execution_count": 13,
     "metadata": {},
     "output_type": "execute_result"
    }
   ],
   "source": [
    "df = df.merge(users_ECG, how='outer', on=['id', 'date'])\n",
    "df = df.groupby([\"id\", \"date\"]).first()\n",
    "df.reset_index(drop=False, inplace=True)\n",
    "df"
   ],
   "metadata": {
    "collapsed": false,
    "pycharm": {
     "name": "#%%\n"
    }
   }
  },
  {
   "cell_type": "code",
   "execution_count": 14,
   "outputs": [],
   "source": [
    "df.to_pickle('./data/daily_fitbit_df_unprocessed.pkl')"
   ],
   "metadata": {
    "collapsed": false,
    "pycharm": {
     "name": "#%%\n"
    }
   }
  },
  {
   "cell_type": "code",
   "execution_count": null,
   "outputs": [],
   "source": [],
   "metadata": {
    "collapsed": false,
    "pycharm": {
     "name": "#%%\n"
    }
   }
  }
 ],
 "metadata": {
  "kernelspec": {
   "display_name": "Python 3",
   "language": "python",
   "name": "python3"
  },
  "language_info": {
   "codemirror_mode": {
    "name": "ipython",
    "version": 2
   },
   "file_extension": ".py",
   "mimetype": "text/x-python",
   "name": "python",
   "nbconvert_exporter": "python",
   "pygments_lexer": "ipython2",
   "version": "2.7.6"
  }
 },
 "nbformat": 4,
 "nbformat_minor": 0
}