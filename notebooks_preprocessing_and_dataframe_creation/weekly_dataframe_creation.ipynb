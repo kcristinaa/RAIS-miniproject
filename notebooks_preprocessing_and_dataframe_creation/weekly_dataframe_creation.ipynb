{
 "cells": [
  {
   "cell_type": "code",
   "execution_count": 5,
   "metadata": {
    "collapsed": true,
    "pycharm": {
     "name": "#%%\n"
    }
   },
   "outputs": [],
   "source": [
    "import pickle\n",
    "import warnings\n",
    "import pandas as pd\n",
    "import preprocessing_functions\n",
    "warnings.filterwarnings(\"ignore\")\n",
    "from notebooks_feature_engineering import feature_engineering_functions"
   ]
  },
  {
   "cell_type": "markdown",
   "source": [
    "load the Fitbit data"
   ],
   "metadata": {
    "collapsed": false,
    "pycharm": {
     "name": "#%% md\n"
    }
   }
  },
  {
   "cell_type": "code",
   "execution_count": 2,
   "outputs": [
    {
     "data": {
      "text/plain": "                            id       date  nightly_temperature  nremhr  \\\n0     621e2e8e67b776a24055b564 2021-05-24            34.137687  57.432   \n1     621e2e8e67b776a24055b564 2021-05-25            33.794544  57.681   \n2     621e2e8e67b776a24055b564 2021-05-26            34.611011  57.481   \n3     621e2e8e67b776a24055b564 2021-05-27            34.408304  57.493   \n4     621e2e8e67b776a24055b564 2021-05-28            34.178922  56.750   \n...                        ...        ...                  ...     ...   \n7348  621e375b67b776a240290cdc 2021-08-13                  NaN     NaN   \n7349  621e375b67b776a240290cdc 2021-08-14                  NaN     NaN   \n7350  621e375b67b776a240290cdc 2021-08-15                  NaN     NaN   \n7351  621e375b67b776a240290cdc 2021-08-16                  NaN     NaN   \n7352  621e375b67b776a240290cdc 2021-08-17                  NaN     NaN   \n\n        rmssd  spo2  full_sleep_breathing_rate  stress_score  \\\n0      89.603   NaN                       14.8          78.0   \n1      94.303   NaN                       15.8          80.0   \n2     119.212   NaN                       14.6          84.0   \n3     111.709   NaN                       14.8          82.0   \n4     103.034   NaN                       15.2          81.0   \n...       ...   ...                        ...           ...   \n7348      NaN   NaN                        NaN           NaN   \n7349      NaN   NaN                        NaN           NaN   \n7350      NaN   NaN                        NaN           NaN   \n7351      NaN   NaN                        NaN           NaN   \n7352      NaN   NaN                        NaN           NaN   \n\n      sleep_points_percentage  exertion_points_percentage  ...  \\\n0                    0.833333                       0.675  ...   \n1                    0.833333                       0.725  ...   \n2                    0.966667                       0.725  ...   \n3                    0.933333                       0.725  ...   \n4                    0.866667                       0.725  ...   \n...                       ...                         ...  ...   \n7348                      NaN                         NaN  ...   \n7349                      NaN                         NaN  ...   \n7350                      NaN                         NaN  ...   \n7351                      NaN                         NaN  ...   \n7352                      NaN                         NaN  ...   \n\n      sleep_rem_ratio    steps minutes_in_default_zone_1  \\\n0            1.341772   8833.0                      83.0   \n1            1.197531   9727.0                      56.0   \n2            1.670732   8253.0                      85.0   \n3            1.588235   9015.0                      90.0   \n4            1.090909  12949.0                     146.0   \n...               ...      ...                       ...   \n7348              NaN      NaN                       NaN   \n7349              NaN      NaN                       NaN   \n7350              NaN      NaN                       NaN   \n7351              NaN      NaN                       NaN   \n7352              NaN      NaN                       NaN   \n\n      minutes_below_default_zone_1  minutes_in_default_zone_2  \\\n0                           1349.0                        0.0   \n1                           1374.0                        4.0   \n2                           1350.0                        0.0   \n3                           1282.0                        0.0   \n4                           1274.0                        4.0   \n...                            ...                        ...   \n7348                           NaN                        NaN   \n7349                           NaN                        NaN   \n7350                           NaN                        NaN   \n7351                           NaN                        NaN   \n7352                           NaN                        NaN   \n\n      minutes_in_default_zone_3  age  gender   bmi heart_rate_alert  \n0                           0.0  <30    MALE   <19             None  \n1                           0.0  <30    MALE   <19             None  \n2                           0.0  <30    MALE   <19             None  \n3                           0.0  <30    MALE   <19             None  \n4                           0.0  <30    MALE   <19             None  \n...                         ...  ...     ...   ...              ...  \n7348                        NaN  <30  FEMALE  23.0             None  \n7349                        NaN  <30  FEMALE  23.0             None  \n7350                        NaN  <30  FEMALE  23.0             None  \n7351                        NaN  <30  FEMALE  23.0             None  \n7352                        NaN  <30  FEMALE  23.0             None  \n\n[7353 rows x 44 columns]",
      "text/html": "<div>\n<style scoped>\n    .dataframe tbody tr th:only-of-type {\n        vertical-align: middle;\n    }\n\n    .dataframe tbody tr th {\n        vertical-align: top;\n    }\n\n    .dataframe thead th {\n        text-align: right;\n    }\n</style>\n<table border=\"1\" class=\"dataframe\">\n  <thead>\n    <tr style=\"text-align: right;\">\n      <th></th>\n      <th>id</th>\n      <th>date</th>\n      <th>nightly_temperature</th>\n      <th>nremhr</th>\n      <th>rmssd</th>\n      <th>spo2</th>\n      <th>full_sleep_breathing_rate</th>\n      <th>stress_score</th>\n      <th>sleep_points_percentage</th>\n      <th>exertion_points_percentage</th>\n      <th>...</th>\n      <th>sleep_rem_ratio</th>\n      <th>steps</th>\n      <th>minutes_in_default_zone_1</th>\n      <th>minutes_below_default_zone_1</th>\n      <th>minutes_in_default_zone_2</th>\n      <th>minutes_in_default_zone_3</th>\n      <th>age</th>\n      <th>gender</th>\n      <th>bmi</th>\n      <th>heart_rate_alert</th>\n    </tr>\n  </thead>\n  <tbody>\n    <tr>\n      <th>0</th>\n      <td>621e2e8e67b776a24055b564</td>\n      <td>2021-05-24</td>\n      <td>34.137687</td>\n      <td>57.432</td>\n      <td>89.603</td>\n      <td>NaN</td>\n      <td>14.8</td>\n      <td>78.0</td>\n      <td>0.833333</td>\n      <td>0.675</td>\n      <td>...</td>\n      <td>1.341772</td>\n      <td>8833.0</td>\n      <td>83.0</td>\n      <td>1349.0</td>\n      <td>0.0</td>\n      <td>0.0</td>\n      <td>&lt;30</td>\n      <td>MALE</td>\n      <td>&lt;19</td>\n      <td>None</td>\n    </tr>\n    <tr>\n      <th>1</th>\n      <td>621e2e8e67b776a24055b564</td>\n      <td>2021-05-25</td>\n      <td>33.794544</td>\n      <td>57.681</td>\n      <td>94.303</td>\n      <td>NaN</td>\n      <td>15.8</td>\n      <td>80.0</td>\n      <td>0.833333</td>\n      <td>0.725</td>\n      <td>...</td>\n      <td>1.197531</td>\n      <td>9727.0</td>\n      <td>56.0</td>\n      <td>1374.0</td>\n      <td>4.0</td>\n      <td>0.0</td>\n      <td>&lt;30</td>\n      <td>MALE</td>\n      <td>&lt;19</td>\n      <td>None</td>\n    </tr>\n    <tr>\n      <th>2</th>\n      <td>621e2e8e67b776a24055b564</td>\n      <td>2021-05-26</td>\n      <td>34.611011</td>\n      <td>57.481</td>\n      <td>119.212</td>\n      <td>NaN</td>\n      <td>14.6</td>\n      <td>84.0</td>\n      <td>0.966667</td>\n      <td>0.725</td>\n      <td>...</td>\n      <td>1.670732</td>\n      <td>8253.0</td>\n      <td>85.0</td>\n      <td>1350.0</td>\n      <td>0.0</td>\n      <td>0.0</td>\n      <td>&lt;30</td>\n      <td>MALE</td>\n      <td>&lt;19</td>\n      <td>None</td>\n    </tr>\n    <tr>\n      <th>3</th>\n      <td>621e2e8e67b776a24055b564</td>\n      <td>2021-05-27</td>\n      <td>34.408304</td>\n      <td>57.493</td>\n      <td>111.709</td>\n      <td>NaN</td>\n      <td>14.8</td>\n      <td>82.0</td>\n      <td>0.933333</td>\n      <td>0.725</td>\n      <td>...</td>\n      <td>1.588235</td>\n      <td>9015.0</td>\n      <td>90.0</td>\n      <td>1282.0</td>\n      <td>0.0</td>\n      <td>0.0</td>\n      <td>&lt;30</td>\n      <td>MALE</td>\n      <td>&lt;19</td>\n      <td>None</td>\n    </tr>\n    <tr>\n      <th>4</th>\n      <td>621e2e8e67b776a24055b564</td>\n      <td>2021-05-28</td>\n      <td>34.178922</td>\n      <td>56.750</td>\n      <td>103.034</td>\n      <td>NaN</td>\n      <td>15.2</td>\n      <td>81.0</td>\n      <td>0.866667</td>\n      <td>0.725</td>\n      <td>...</td>\n      <td>1.090909</td>\n      <td>12949.0</td>\n      <td>146.0</td>\n      <td>1274.0</td>\n      <td>4.0</td>\n      <td>0.0</td>\n      <td>&lt;30</td>\n      <td>MALE</td>\n      <td>&lt;19</td>\n      <td>None</td>\n    </tr>\n    <tr>\n      <th>...</th>\n      <td>...</td>\n      <td>...</td>\n      <td>...</td>\n      <td>...</td>\n      <td>...</td>\n      <td>...</td>\n      <td>...</td>\n      <td>...</td>\n      <td>...</td>\n      <td>...</td>\n      <td>...</td>\n      <td>...</td>\n      <td>...</td>\n      <td>...</td>\n      <td>...</td>\n      <td>...</td>\n      <td>...</td>\n      <td>...</td>\n      <td>...</td>\n      <td>...</td>\n      <td>...</td>\n    </tr>\n    <tr>\n      <th>7348</th>\n      <td>621e375b67b776a240290cdc</td>\n      <td>2021-08-13</td>\n      <td>NaN</td>\n      <td>NaN</td>\n      <td>NaN</td>\n      <td>NaN</td>\n      <td>NaN</td>\n      <td>NaN</td>\n      <td>NaN</td>\n      <td>NaN</td>\n      <td>...</td>\n      <td>NaN</td>\n      <td>NaN</td>\n      <td>NaN</td>\n      <td>NaN</td>\n      <td>NaN</td>\n      <td>NaN</td>\n      <td>&lt;30</td>\n      <td>FEMALE</td>\n      <td>23.0</td>\n      <td>None</td>\n    </tr>\n    <tr>\n      <th>7349</th>\n      <td>621e375b67b776a240290cdc</td>\n      <td>2021-08-14</td>\n      <td>NaN</td>\n      <td>NaN</td>\n      <td>NaN</td>\n      <td>NaN</td>\n      <td>NaN</td>\n      <td>NaN</td>\n      <td>NaN</td>\n      <td>NaN</td>\n      <td>...</td>\n      <td>NaN</td>\n      <td>NaN</td>\n      <td>NaN</td>\n      <td>NaN</td>\n      <td>NaN</td>\n      <td>NaN</td>\n      <td>&lt;30</td>\n      <td>FEMALE</td>\n      <td>23.0</td>\n      <td>None</td>\n    </tr>\n    <tr>\n      <th>7350</th>\n      <td>621e375b67b776a240290cdc</td>\n      <td>2021-08-15</td>\n      <td>NaN</td>\n      <td>NaN</td>\n      <td>NaN</td>\n      <td>NaN</td>\n      <td>NaN</td>\n      <td>NaN</td>\n      <td>NaN</td>\n      <td>NaN</td>\n      <td>...</td>\n      <td>NaN</td>\n      <td>NaN</td>\n      <td>NaN</td>\n      <td>NaN</td>\n      <td>NaN</td>\n      <td>NaN</td>\n      <td>&lt;30</td>\n      <td>FEMALE</td>\n      <td>23.0</td>\n      <td>None</td>\n    </tr>\n    <tr>\n      <th>7351</th>\n      <td>621e375b67b776a240290cdc</td>\n      <td>2021-08-16</td>\n      <td>NaN</td>\n      <td>NaN</td>\n      <td>NaN</td>\n      <td>NaN</td>\n      <td>NaN</td>\n      <td>NaN</td>\n      <td>NaN</td>\n      <td>NaN</td>\n      <td>...</td>\n      <td>NaN</td>\n      <td>NaN</td>\n      <td>NaN</td>\n      <td>NaN</td>\n      <td>NaN</td>\n      <td>NaN</td>\n      <td>&lt;30</td>\n      <td>FEMALE</td>\n      <td>23.0</td>\n      <td>None</td>\n    </tr>\n    <tr>\n      <th>7352</th>\n      <td>621e375b67b776a240290cdc</td>\n      <td>2021-08-17</td>\n      <td>NaN</td>\n      <td>NaN</td>\n      <td>NaN</td>\n      <td>NaN</td>\n      <td>NaN</td>\n      <td>NaN</td>\n      <td>NaN</td>\n      <td>NaN</td>\n      <td>...</td>\n      <td>NaN</td>\n      <td>NaN</td>\n      <td>NaN</td>\n      <td>NaN</td>\n      <td>NaN</td>\n      <td>NaN</td>\n      <td>&lt;30</td>\n      <td>FEMALE</td>\n      <td>23.0</td>\n      <td>None</td>\n    </tr>\n  </tbody>\n</table>\n<p>7353 rows × 44 columns</p>\n</div>"
     },
     "execution_count": 2,
     "metadata": {},
     "output_type": "execute_result"
    }
   ],
   "source": [
    "fitbit = pd.read_pickle('../data/daily_fitbit_df_unprocessed.pkl')\n",
    "fitbit"
   ],
   "metadata": {
    "collapsed": false,
    "pycharm": {
     "name": "#%%\n"
    }
   }
  },
  {
   "cell_type": "markdown",
   "source": [
    "# Fitbit Basic Preprocessing\n",
    "1. Select the experiment days\n",
    "2. Drop duplicates\n",
    "3. Convert data types falsely described as categorical"
   ],
   "metadata": {
    "collapsed": false,
    "pycharm": {
     "name": "#%% md\n"
    }
   }
  },
  {
   "cell_type": "code",
   "execution_count": 3,
   "outputs": [
    {
     "data": {
      "text/plain": "                            id       date  nightly_temperature  nremhr  \\\n0     621e2e8e67b776a24055b564 2021-05-24            34.137687  57.432   \n1     621e301e67b776a240608a72 2021-05-24            34.710232     NaN   \n2     621e301367b776a24057738e 2021-05-24                  NaN     NaN   \n3     621e360b67b776a24039709f 2021-05-24                  NaN  68.321   \n4     621e2fce67b776a240279baa 2021-05-24            34.783747  83.170   \n...                        ...        ...                  ...     ...   \n4902  621e30e267b776a240e5bf90 2022-01-17                  NaN     NaN   \n4903  621e322367b776a240e44e9b 2022-01-17                  NaN     NaN   \n4904  621e300767b776a2404dc717 2022-01-17            33.186399     NaN   \n4905  621e2f1b67b776a240b3d87c 2022-01-17            34.404580  65.782   \n4906  621e331067b776a24085dd3f 2022-01-17                  NaN     NaN   \n\n       rmssd  spo2  full_sleep_breathing_rate  stress_score  \\\n0     89.603   NaN                       14.8          78.0   \n1        NaN   NaN                        NaN          74.0   \n2        NaN   NaN                        NaN           NaN   \n3     31.413   NaN                       15.4          69.0   \n4     15.941  96.6                       15.2          70.0   \n...      ...   ...                        ...           ...   \n4902     NaN   NaN                        NaN           NaN   \n4903     NaN   NaN                        NaN           NaN   \n4904     NaN   NaN                        NaN           NaN   \n4905  23.793   NaN                       16.0          72.0   \n4906     NaN   NaN                        NaN           NaN   \n\n      sleep_points_percentage  exertion_points_percentage  ...  \\\n0                    0.833333                       0.675  ...   \n1                    0.700000                       0.700  ...   \n2                         NaN                         NaN  ...   \n3                    0.633333                       0.650  ...   \n4                    0.733333                       0.725  ...   \n...                       ...                         ...  ...   \n4902                      NaN                         NaN  ...   \n4903                      NaN                         NaN  ...   \n4904                      NaN                         NaN  ...   \n4905                 0.766667                       0.725  ...   \n4906                      NaN                         NaN  ...   \n\n      sleep_rem_ratio    steps minutes_in_default_zone_1  \\\n0            1.341772   8833.0                      83.0   \n1            0.922222  12441.0                     164.0   \n2                 NaN   7279.0                      32.0   \n3                 NaN   7493.0                     127.0   \n4            0.663717   3317.0                     701.0   \n...               ...      ...                       ...   \n4902              NaN      NaN                       NaN   \n4903              NaN      NaN                       NaN   \n4904         0.742857   2223.0                      19.0   \n4905         0.774194   8213.0                     320.0   \n4906              NaN      NaN                       NaN   \n\n      minutes_below_default_zone_1  minutes_in_default_zone_2  \\\n0                           1349.0                        0.0   \n1                            997.0                       49.0   \n2                            236.0                       30.0   \n3                           1306.0                        7.0   \n4                            735.0                        0.0   \n...                            ...                        ...   \n4902                           NaN                        NaN   \n4903                           NaN                        NaN   \n4904                        1380.0                        4.0   \n4905                        1004.0                       20.0   \n4906                           NaN                        NaN   \n\n      minutes_in_default_zone_3   age  gender   bmi  heart_rate_alert  \n0                           0.0   <30    MALE   <19              None  \n1                           0.0   <30  FEMALE  19.0              None  \n2                           0.0  >=30    MALE  23.0              None  \n3                           0.0  >=30  FEMALE   <19              None  \n4                           0.0   <30    MALE  24.0              None  \n...                         ...   ...     ...   ...               ...  \n4902                        NaN   <30    MALE  >=30              None  \n4903                        NaN  >=30    MALE  27.0              None  \n4904                        0.0   <30    MALE  29.0              None  \n4905                        0.0  >=30  FEMALE  22.0              None  \n4906                        NaN  >=30  FEMALE  21.0              None  \n\n[4907 rows x 44 columns]",
      "text/html": "<div>\n<style scoped>\n    .dataframe tbody tr th:only-of-type {\n        vertical-align: middle;\n    }\n\n    .dataframe tbody tr th {\n        vertical-align: top;\n    }\n\n    .dataframe thead th {\n        text-align: right;\n    }\n</style>\n<table border=\"1\" class=\"dataframe\">\n  <thead>\n    <tr style=\"text-align: right;\">\n      <th></th>\n      <th>id</th>\n      <th>date</th>\n      <th>nightly_temperature</th>\n      <th>nremhr</th>\n      <th>rmssd</th>\n      <th>spo2</th>\n      <th>full_sleep_breathing_rate</th>\n      <th>stress_score</th>\n      <th>sleep_points_percentage</th>\n      <th>exertion_points_percentage</th>\n      <th>...</th>\n      <th>sleep_rem_ratio</th>\n      <th>steps</th>\n      <th>minutes_in_default_zone_1</th>\n      <th>minutes_below_default_zone_1</th>\n      <th>minutes_in_default_zone_2</th>\n      <th>minutes_in_default_zone_3</th>\n      <th>age</th>\n      <th>gender</th>\n      <th>bmi</th>\n      <th>heart_rate_alert</th>\n    </tr>\n  </thead>\n  <tbody>\n    <tr>\n      <th>0</th>\n      <td>621e2e8e67b776a24055b564</td>\n      <td>2021-05-24</td>\n      <td>34.137687</td>\n      <td>57.432</td>\n      <td>89.603</td>\n      <td>NaN</td>\n      <td>14.8</td>\n      <td>78.0</td>\n      <td>0.833333</td>\n      <td>0.675</td>\n      <td>...</td>\n      <td>1.341772</td>\n      <td>8833.0</td>\n      <td>83.0</td>\n      <td>1349.0</td>\n      <td>0.0</td>\n      <td>0.0</td>\n      <td>&lt;30</td>\n      <td>MALE</td>\n      <td>&lt;19</td>\n      <td>None</td>\n    </tr>\n    <tr>\n      <th>1</th>\n      <td>621e301e67b776a240608a72</td>\n      <td>2021-05-24</td>\n      <td>34.710232</td>\n      <td>NaN</td>\n      <td>NaN</td>\n      <td>NaN</td>\n      <td>NaN</td>\n      <td>74.0</td>\n      <td>0.700000</td>\n      <td>0.700</td>\n      <td>...</td>\n      <td>0.922222</td>\n      <td>12441.0</td>\n      <td>164.0</td>\n      <td>997.0</td>\n      <td>49.0</td>\n      <td>0.0</td>\n      <td>&lt;30</td>\n      <td>FEMALE</td>\n      <td>19.0</td>\n      <td>None</td>\n    </tr>\n    <tr>\n      <th>2</th>\n      <td>621e301367b776a24057738e</td>\n      <td>2021-05-24</td>\n      <td>NaN</td>\n      <td>NaN</td>\n      <td>NaN</td>\n      <td>NaN</td>\n      <td>NaN</td>\n      <td>NaN</td>\n      <td>NaN</td>\n      <td>NaN</td>\n      <td>...</td>\n      <td>NaN</td>\n      <td>7279.0</td>\n      <td>32.0</td>\n      <td>236.0</td>\n      <td>30.0</td>\n      <td>0.0</td>\n      <td>&gt;=30</td>\n      <td>MALE</td>\n      <td>23.0</td>\n      <td>None</td>\n    </tr>\n    <tr>\n      <th>3</th>\n      <td>621e360b67b776a24039709f</td>\n      <td>2021-05-24</td>\n      <td>NaN</td>\n      <td>68.321</td>\n      <td>31.413</td>\n      <td>NaN</td>\n      <td>15.4</td>\n      <td>69.0</td>\n      <td>0.633333</td>\n      <td>0.650</td>\n      <td>...</td>\n      <td>NaN</td>\n      <td>7493.0</td>\n      <td>127.0</td>\n      <td>1306.0</td>\n      <td>7.0</td>\n      <td>0.0</td>\n      <td>&gt;=30</td>\n      <td>FEMALE</td>\n      <td>&lt;19</td>\n      <td>None</td>\n    </tr>\n    <tr>\n      <th>4</th>\n      <td>621e2fce67b776a240279baa</td>\n      <td>2021-05-24</td>\n      <td>34.783747</td>\n      <td>83.170</td>\n      <td>15.941</td>\n      <td>96.6</td>\n      <td>15.2</td>\n      <td>70.0</td>\n      <td>0.733333</td>\n      <td>0.725</td>\n      <td>...</td>\n      <td>0.663717</td>\n      <td>3317.0</td>\n      <td>701.0</td>\n      <td>735.0</td>\n      <td>0.0</td>\n      <td>0.0</td>\n      <td>&lt;30</td>\n      <td>MALE</td>\n      <td>24.0</td>\n      <td>None</td>\n    </tr>\n    <tr>\n      <th>...</th>\n      <td>...</td>\n      <td>...</td>\n      <td>...</td>\n      <td>...</td>\n      <td>...</td>\n      <td>...</td>\n      <td>...</td>\n      <td>...</td>\n      <td>...</td>\n      <td>...</td>\n      <td>...</td>\n      <td>...</td>\n      <td>...</td>\n      <td>...</td>\n      <td>...</td>\n      <td>...</td>\n      <td>...</td>\n      <td>...</td>\n      <td>...</td>\n      <td>...</td>\n      <td>...</td>\n    </tr>\n    <tr>\n      <th>4902</th>\n      <td>621e30e267b776a240e5bf90</td>\n      <td>2022-01-17</td>\n      <td>NaN</td>\n      <td>NaN</td>\n      <td>NaN</td>\n      <td>NaN</td>\n      <td>NaN</td>\n      <td>NaN</td>\n      <td>NaN</td>\n      <td>NaN</td>\n      <td>...</td>\n      <td>NaN</td>\n      <td>NaN</td>\n      <td>NaN</td>\n      <td>NaN</td>\n      <td>NaN</td>\n      <td>NaN</td>\n      <td>&lt;30</td>\n      <td>MALE</td>\n      <td>&gt;=30</td>\n      <td>None</td>\n    </tr>\n    <tr>\n      <th>4903</th>\n      <td>621e322367b776a240e44e9b</td>\n      <td>2022-01-17</td>\n      <td>NaN</td>\n      <td>NaN</td>\n      <td>NaN</td>\n      <td>NaN</td>\n      <td>NaN</td>\n      <td>NaN</td>\n      <td>NaN</td>\n      <td>NaN</td>\n      <td>...</td>\n      <td>NaN</td>\n      <td>NaN</td>\n      <td>NaN</td>\n      <td>NaN</td>\n      <td>NaN</td>\n      <td>NaN</td>\n      <td>&gt;=30</td>\n      <td>MALE</td>\n      <td>27.0</td>\n      <td>None</td>\n    </tr>\n    <tr>\n      <th>4904</th>\n      <td>621e300767b776a2404dc717</td>\n      <td>2022-01-17</td>\n      <td>33.186399</td>\n      <td>NaN</td>\n      <td>NaN</td>\n      <td>NaN</td>\n      <td>NaN</td>\n      <td>NaN</td>\n      <td>NaN</td>\n      <td>NaN</td>\n      <td>...</td>\n      <td>0.742857</td>\n      <td>2223.0</td>\n      <td>19.0</td>\n      <td>1380.0</td>\n      <td>4.0</td>\n      <td>0.0</td>\n      <td>&lt;30</td>\n      <td>MALE</td>\n      <td>29.0</td>\n      <td>None</td>\n    </tr>\n    <tr>\n      <th>4905</th>\n      <td>621e2f1b67b776a240b3d87c</td>\n      <td>2022-01-17</td>\n      <td>34.404580</td>\n      <td>65.782</td>\n      <td>23.793</td>\n      <td>NaN</td>\n      <td>16.0</td>\n      <td>72.0</td>\n      <td>0.766667</td>\n      <td>0.725</td>\n      <td>...</td>\n      <td>0.774194</td>\n      <td>8213.0</td>\n      <td>320.0</td>\n      <td>1004.0</td>\n      <td>20.0</td>\n      <td>0.0</td>\n      <td>&gt;=30</td>\n      <td>FEMALE</td>\n      <td>22.0</td>\n      <td>None</td>\n    </tr>\n    <tr>\n      <th>4906</th>\n      <td>621e331067b776a24085dd3f</td>\n      <td>2022-01-17</td>\n      <td>NaN</td>\n      <td>NaN</td>\n      <td>NaN</td>\n      <td>NaN</td>\n      <td>NaN</td>\n      <td>NaN</td>\n      <td>NaN</td>\n      <td>NaN</td>\n      <td>...</td>\n      <td>NaN</td>\n      <td>NaN</td>\n      <td>NaN</td>\n      <td>NaN</td>\n      <td>NaN</td>\n      <td>NaN</td>\n      <td>&gt;=30</td>\n      <td>FEMALE</td>\n      <td>21.0</td>\n      <td>None</td>\n    </tr>\n  </tbody>\n</table>\n<p>4907 rows × 44 columns</p>\n</div>"
     },
     "execution_count": 3,
     "metadata": {},
     "output_type": "execute_result"
    }
   ],
   "source": [
    "data = preprocessing_functions.fitbit_basic_preprocessing(fitbit)\n",
    "data[\"date\"] = pd.to_datetime(pd.to_datetime(data[\"date\"]).dt.date)\n",
    "data"
   ],
   "metadata": {
    "collapsed": false,
    "pycharm": {
     "name": "#%%\n"
    }
   }
  },
  {
   "cell_type": "code",
   "execution_count": 9,
   "outputs": [],
   "source": [
    "# # read intra-day data from Mongo\n",
    "# data = preprocessing_functions.fitbit_intraday_sleep(data, 'rais')\n",
    "# data"
   ],
   "metadata": {
    "collapsed": false,
    "pycharm": {
     "name": "#%%\n"
    }
   }
  },
  {
   "cell_type": "markdown",
   "source": [
    "## One hot encoding"
   ],
   "metadata": {
    "collapsed": false,
    "pycharm": {
     "name": "#%% md\n"
    }
   }
  },
  {
   "cell_type": "code",
   "execution_count": 4,
   "outputs": [
    {
     "ename": "KeyboardInterrupt",
     "evalue": "",
     "output_type": "error",
     "traceback": [
      "\u001B[1;31m---------------------------------------------------------------------------\u001B[0m",
      "\u001B[1;31mKeyboardInterrupt\u001B[0m                         Traceback (most recent call last)",
      "Input \u001B[1;32mIn [4]\u001B[0m, in \u001B[0;36m<cell line: 1>\u001B[1;34m()\u001B[0m\n\u001B[1;32m----> 1\u001B[0m data \u001B[38;5;241m=\u001B[39m \u001B[43mpreprocessing_functions\u001B[49m\u001B[38;5;241;43m.\u001B[39;49m\u001B[43mone_hot_encoding\u001B[49m\u001B[43m(\u001B[49m\u001B[43mdata\u001B[49m\u001B[43m)\u001B[49m\n\u001B[0;32m      2\u001B[0m data\n",
      "File \u001B[1;32m~\\PycharmProjects\\RAIS-miniproject\\notebooks_preprocessing_and_dataframe_creation\\preprocessing_functions.py:132\u001B[0m, in \u001B[0;36mone_hot_encoding\u001B[1;34m(fitbit)\u001B[0m\n\u001B[0;32m    129\u001B[0m \u001B[38;5;28;01mdef\u001B[39;00m \u001B[38;5;21mone_hot_encoding\u001B[39m(fitbit):\n\u001B[0;32m    130\u001B[0m     \u001B[38;5;66;03m# badgeType encoding\u001B[39;00m\n\u001B[0;32m    131\u001B[0m     s \u001B[38;5;241m=\u001B[39m fitbit[\u001B[38;5;124m'\u001B[39m\u001B[38;5;124mbadgeType\u001B[39m\u001B[38;5;124m'\u001B[39m]\n\u001B[1;32m--> 132\u001B[0m     dum \u001B[38;5;241m=\u001B[39m pd\u001B[38;5;241m.\u001B[39mget_dummies(\u001B[43ms\u001B[49m\u001B[38;5;241;43m.\u001B[39;49m\u001B[43mapply\u001B[49m\u001B[43m(\u001B[49m\u001B[43mpd\u001B[49m\u001B[38;5;241;43m.\u001B[39;49m\u001B[43mSeries\u001B[49m\u001B[43m)\u001B[49m\u001B[38;5;241m.\u001B[39mstack())\u001B[38;5;241m.\u001B[39msum(level\u001B[38;5;241m=\u001B[39m\u001B[38;5;241m0\u001B[39m)\n\u001B[0;32m    133\u001B[0m     df \u001B[38;5;241m=\u001B[39m pd\u001B[38;5;241m.\u001B[39mconcat([s, dum], axis\u001B[38;5;241m=\u001B[39m\u001B[38;5;241m1\u001B[39m)\n\u001B[0;32m    134\u001B[0m     fitbit \u001B[38;5;241m=\u001B[39m pd\u001B[38;5;241m.\u001B[39mconcat([fitbit, df], axis\u001B[38;5;241m=\u001B[39m\u001B[38;5;241m1\u001B[39m)\n",
      "File \u001B[1;32m~\\miniconda3\\envs\\RAIS-miniproject\\lib\\site-packages\\pandas\\core\\series.py:4433\u001B[0m, in \u001B[0;36mSeries.apply\u001B[1;34m(self, func, convert_dtype, args, **kwargs)\u001B[0m\n\u001B[0;32m   4323\u001B[0m \u001B[38;5;28;01mdef\u001B[39;00m \u001B[38;5;21mapply\u001B[39m(\n\u001B[0;32m   4324\u001B[0m     \u001B[38;5;28mself\u001B[39m,\n\u001B[0;32m   4325\u001B[0m     func: AggFuncType,\n\u001B[1;32m   (...)\u001B[0m\n\u001B[0;32m   4328\u001B[0m     \u001B[38;5;241m*\u001B[39m\u001B[38;5;241m*\u001B[39mkwargs,\n\u001B[0;32m   4329\u001B[0m ) \u001B[38;5;241m-\u001B[39m\u001B[38;5;241m>\u001B[39m DataFrame \u001B[38;5;241m|\u001B[39m Series:\n\u001B[0;32m   4330\u001B[0m     \u001B[38;5;124;03m\"\"\"\u001B[39;00m\n\u001B[0;32m   4331\u001B[0m \u001B[38;5;124;03m    Invoke function on values of Series.\u001B[39;00m\n\u001B[0;32m   4332\u001B[0m \n\u001B[1;32m   (...)\u001B[0m\n\u001B[0;32m   4431\u001B[0m \u001B[38;5;124;03m    dtype: float64\u001B[39;00m\n\u001B[0;32m   4432\u001B[0m \u001B[38;5;124;03m    \"\"\"\u001B[39;00m\n\u001B[1;32m-> 4433\u001B[0m     \u001B[38;5;28;01mreturn\u001B[39;00m \u001B[43mSeriesApply\u001B[49m\u001B[43m(\u001B[49m\u001B[38;5;28;43mself\u001B[39;49m\u001B[43m,\u001B[49m\u001B[43m \u001B[49m\u001B[43mfunc\u001B[49m\u001B[43m,\u001B[49m\u001B[43m \u001B[49m\u001B[43mconvert_dtype\u001B[49m\u001B[43m,\u001B[49m\u001B[43m \u001B[49m\u001B[43margs\u001B[49m\u001B[43m,\u001B[49m\u001B[43m \u001B[49m\u001B[43mkwargs\u001B[49m\u001B[43m)\u001B[49m\u001B[38;5;241;43m.\u001B[39;49m\u001B[43mapply\u001B[49m\u001B[43m(\u001B[49m\u001B[43m)\u001B[49m\n",
      "File \u001B[1;32m~\\miniconda3\\envs\\RAIS-miniproject\\lib\\site-packages\\pandas\\core\\apply.py:1082\u001B[0m, in \u001B[0;36mSeriesApply.apply\u001B[1;34m(self)\u001B[0m\n\u001B[0;32m   1078\u001B[0m \u001B[38;5;28;01mif\u001B[39;00m \u001B[38;5;28misinstance\u001B[39m(\u001B[38;5;28mself\u001B[39m\u001B[38;5;241m.\u001B[39mf, \u001B[38;5;28mstr\u001B[39m):\n\u001B[0;32m   1079\u001B[0m     \u001B[38;5;66;03m# if we are a string, try to dispatch\u001B[39;00m\n\u001B[0;32m   1080\u001B[0m     \u001B[38;5;28;01mreturn\u001B[39;00m \u001B[38;5;28mself\u001B[39m\u001B[38;5;241m.\u001B[39mapply_str()\n\u001B[1;32m-> 1082\u001B[0m \u001B[38;5;28;01mreturn\u001B[39;00m \u001B[38;5;28;43mself\u001B[39;49m\u001B[38;5;241;43m.\u001B[39;49m\u001B[43mapply_standard\u001B[49m\u001B[43m(\u001B[49m\u001B[43m)\u001B[49m\n",
      "File \u001B[1;32m~\\miniconda3\\envs\\RAIS-miniproject\\lib\\site-packages\\pandas\\core\\apply.py:1137\u001B[0m, in \u001B[0;36mSeriesApply.apply_standard\u001B[1;34m(self)\u001B[0m\n\u001B[0;32m   1131\u001B[0m         values \u001B[38;5;241m=\u001B[39m obj\u001B[38;5;241m.\u001B[39mastype(\u001B[38;5;28mobject\u001B[39m)\u001B[38;5;241m.\u001B[39m_values\n\u001B[0;32m   1132\u001B[0m         \u001B[38;5;66;03m# error: Argument 2 to \"map_infer\" has incompatible type\u001B[39;00m\n\u001B[0;32m   1133\u001B[0m         \u001B[38;5;66;03m# \"Union[Callable[..., Any], str, List[Union[Callable[..., Any], str]],\u001B[39;00m\n\u001B[0;32m   1134\u001B[0m         \u001B[38;5;66;03m# Dict[Hashable, Union[Union[Callable[..., Any], str],\u001B[39;00m\n\u001B[0;32m   1135\u001B[0m         \u001B[38;5;66;03m# List[Union[Callable[..., Any], str]]]]]\"; expected\u001B[39;00m\n\u001B[0;32m   1136\u001B[0m         \u001B[38;5;66;03m# \"Callable[[Any], Any]\"\u001B[39;00m\n\u001B[1;32m-> 1137\u001B[0m         mapped \u001B[38;5;241m=\u001B[39m \u001B[43mlib\u001B[49m\u001B[38;5;241;43m.\u001B[39;49m\u001B[43mmap_infer\u001B[49m\u001B[43m(\u001B[49m\n\u001B[0;32m   1138\u001B[0m \u001B[43m            \u001B[49m\u001B[43mvalues\u001B[49m\u001B[43m,\u001B[49m\n\u001B[0;32m   1139\u001B[0m \u001B[43m            \u001B[49m\u001B[43mf\u001B[49m\u001B[43m,\u001B[49m\u001B[43m  \u001B[49m\u001B[38;5;66;43;03m# type: ignore[arg-type]\u001B[39;49;00m\n\u001B[0;32m   1140\u001B[0m \u001B[43m            \u001B[49m\u001B[43mconvert\u001B[49m\u001B[38;5;241;43m=\u001B[39;49m\u001B[38;5;28;43mself\u001B[39;49m\u001B[38;5;241;43m.\u001B[39;49m\u001B[43mconvert_dtype\u001B[49m\u001B[43m,\u001B[49m\n\u001B[0;32m   1141\u001B[0m \u001B[43m        \u001B[49m\u001B[43m)\u001B[49m\n\u001B[0;32m   1143\u001B[0m \u001B[38;5;28;01mif\u001B[39;00m \u001B[38;5;28mlen\u001B[39m(mapped) \u001B[38;5;129;01mand\u001B[39;00m \u001B[38;5;28misinstance\u001B[39m(mapped[\u001B[38;5;241m0\u001B[39m], ABCSeries):\n\u001B[0;32m   1144\u001B[0m     \u001B[38;5;66;03m# GH#43986 Need to do list(mapped) in order to get treated as nested\u001B[39;00m\n\u001B[0;32m   1145\u001B[0m     \u001B[38;5;66;03m#  See also GH#25959 regarding EA support\u001B[39;00m\n\u001B[0;32m   1146\u001B[0m     \u001B[38;5;28;01mreturn\u001B[39;00m obj\u001B[38;5;241m.\u001B[39m_constructor_expanddim(\u001B[38;5;28mlist\u001B[39m(mapped), index\u001B[38;5;241m=\u001B[39mobj\u001B[38;5;241m.\u001B[39mindex)\n",
      "File \u001B[1;32m~\\miniconda3\\envs\\RAIS-miniproject\\lib\\site-packages\\pandas\\_libs\\lib.pyx:2870\u001B[0m, in \u001B[0;36mpandas._libs.lib.map_infer\u001B[1;34m()\u001B[0m\n",
      "File \u001B[1;32m~\\miniconda3\\envs\\RAIS-miniproject\\lib\\site-packages\\pandas\\core\\series.py:374\u001B[0m, in \u001B[0;36mSeries.__init__\u001B[1;34m(self, data, index, dtype, name, copy, fastpath)\u001B[0m\n\u001B[0;32m    365\u001B[0m name \u001B[38;5;241m=\u001B[39m ibase\u001B[38;5;241m.\u001B[39mmaybe_extract_name(name, data, \u001B[38;5;28mtype\u001B[39m(\u001B[38;5;28mself\u001B[39m))\n\u001B[0;32m    367\u001B[0m \u001B[38;5;28;01mif\u001B[39;00m is_empty_data(data) \u001B[38;5;129;01mand\u001B[39;00m dtype \u001B[38;5;129;01mis\u001B[39;00m \u001B[38;5;28;01mNone\u001B[39;00m:\n\u001B[0;32m    368\u001B[0m     \u001B[38;5;66;03m# gh-17261\u001B[39;00m\n\u001B[0;32m    369\u001B[0m     warnings\u001B[38;5;241m.\u001B[39mwarn(\n\u001B[0;32m    370\u001B[0m         \u001B[38;5;124m\"\u001B[39m\u001B[38;5;124mThe default dtype for empty Series will be \u001B[39m\u001B[38;5;124m'\u001B[39m\u001B[38;5;124mobject\u001B[39m\u001B[38;5;124m'\u001B[39m\u001B[38;5;124m instead \u001B[39m\u001B[38;5;124m\"\u001B[39m\n\u001B[0;32m    371\u001B[0m         \u001B[38;5;124m\"\u001B[39m\u001B[38;5;124mof \u001B[39m\u001B[38;5;124m'\u001B[39m\u001B[38;5;124mfloat64\u001B[39m\u001B[38;5;124m'\u001B[39m\u001B[38;5;124m in a future version. Specify a dtype explicitly \u001B[39m\u001B[38;5;124m\"\u001B[39m\n\u001B[0;32m    372\u001B[0m         \u001B[38;5;124m\"\u001B[39m\u001B[38;5;124mto silence this warning.\u001B[39m\u001B[38;5;124m\"\u001B[39m,\n\u001B[0;32m    373\u001B[0m         \u001B[38;5;167;01mFutureWarning\u001B[39;00m,\n\u001B[1;32m--> 374\u001B[0m         stacklevel\u001B[38;5;241m=\u001B[39m\u001B[43mfind_stack_level\u001B[49m\u001B[43m(\u001B[49m\u001B[43m)\u001B[49m,\n\u001B[0;32m    375\u001B[0m     )\n\u001B[0;32m    376\u001B[0m     \u001B[38;5;66;03m# uncomment the line below when removing the FutureWarning\u001B[39;00m\n\u001B[0;32m    377\u001B[0m     \u001B[38;5;66;03m# dtype = np.dtype(object)\u001B[39;00m\n\u001B[0;32m    379\u001B[0m \u001B[38;5;28;01mif\u001B[39;00m index \u001B[38;5;129;01mis\u001B[39;00m \u001B[38;5;129;01mnot\u001B[39;00m \u001B[38;5;28;01mNone\u001B[39;00m:\n",
      "File \u001B[1;32m~\\miniconda3\\envs\\RAIS-miniproject\\lib\\site-packages\\pandas\\util\\_exceptions.py:32\u001B[0m, in \u001B[0;36mfind_stack_level\u001B[1;34m()\u001B[0m\n\u001B[0;32m     27\u001B[0m \u001B[38;5;28;01mdef\u001B[39;00m \u001B[38;5;21mfind_stack_level\u001B[39m() \u001B[38;5;241m-\u001B[39m\u001B[38;5;241m>\u001B[39m \u001B[38;5;28mint\u001B[39m:\n\u001B[0;32m     28\u001B[0m     \u001B[38;5;124;03m\"\"\"\u001B[39;00m\n\u001B[0;32m     29\u001B[0m \u001B[38;5;124;03m    Find the first place in the stack that is not inside pandas\u001B[39;00m\n\u001B[0;32m     30\u001B[0m \u001B[38;5;124;03m    (tests notwithstanding).\u001B[39;00m\n\u001B[0;32m     31\u001B[0m \u001B[38;5;124;03m    \"\"\"\u001B[39;00m\n\u001B[1;32m---> 32\u001B[0m     stack \u001B[38;5;241m=\u001B[39m \u001B[43minspect\u001B[49m\u001B[38;5;241;43m.\u001B[39;49m\u001B[43mstack\u001B[49m\u001B[43m(\u001B[49m\u001B[43m)\u001B[49m\n\u001B[0;32m     34\u001B[0m     \u001B[38;5;28;01mimport\u001B[39;00m \u001B[38;5;21;01mpandas\u001B[39;00m \u001B[38;5;28;01mas\u001B[39;00m \u001B[38;5;21;01mpd\u001B[39;00m\n\u001B[0;32m     36\u001B[0m     pkg_dir \u001B[38;5;241m=\u001B[39m os\u001B[38;5;241m.\u001B[39mpath\u001B[38;5;241m.\u001B[39mdirname(pd\u001B[38;5;241m.\u001B[39m\u001B[38;5;18m__file__\u001B[39m)\n",
      "File \u001B[1;32m~\\miniconda3\\envs\\RAIS-miniproject\\lib\\inspect.py:1526\u001B[0m, in \u001B[0;36mstack\u001B[1;34m(context)\u001B[0m\n\u001B[0;32m   1524\u001B[0m \u001B[38;5;28;01mdef\u001B[39;00m \u001B[38;5;21mstack\u001B[39m(context\u001B[38;5;241m=\u001B[39m\u001B[38;5;241m1\u001B[39m):\n\u001B[0;32m   1525\u001B[0m     \u001B[38;5;124;03m\"\"\"Return a list of records for the stack above the caller's frame.\"\"\"\u001B[39;00m\n\u001B[1;32m-> 1526\u001B[0m     \u001B[38;5;28;01mreturn\u001B[39;00m \u001B[43mgetouterframes\u001B[49m\u001B[43m(\u001B[49m\u001B[43msys\u001B[49m\u001B[38;5;241;43m.\u001B[39;49m\u001B[43m_getframe\u001B[49m\u001B[43m(\u001B[49m\u001B[38;5;241;43m1\u001B[39;49m\u001B[43m)\u001B[49m\u001B[43m,\u001B[49m\u001B[43m \u001B[49m\u001B[43mcontext\u001B[49m\u001B[43m)\u001B[49m\n",
      "File \u001B[1;32m~\\miniconda3\\envs\\RAIS-miniproject\\lib\\inspect.py:1503\u001B[0m, in \u001B[0;36mgetouterframes\u001B[1;34m(frame, context)\u001B[0m\n\u001B[0;32m   1501\u001B[0m framelist \u001B[38;5;241m=\u001B[39m []\n\u001B[0;32m   1502\u001B[0m \u001B[38;5;28;01mwhile\u001B[39;00m frame:\n\u001B[1;32m-> 1503\u001B[0m     frameinfo \u001B[38;5;241m=\u001B[39m (frame,) \u001B[38;5;241m+\u001B[39m \u001B[43mgetframeinfo\u001B[49m\u001B[43m(\u001B[49m\u001B[43mframe\u001B[49m\u001B[43m,\u001B[49m\u001B[43m \u001B[49m\u001B[43mcontext\u001B[49m\u001B[43m)\u001B[49m\n\u001B[0;32m   1504\u001B[0m     framelist\u001B[38;5;241m.\u001B[39mappend(FrameInfo(\u001B[38;5;241m*\u001B[39mframeinfo))\n\u001B[0;32m   1505\u001B[0m     frame \u001B[38;5;241m=\u001B[39m frame\u001B[38;5;241m.\u001B[39mf_back\n",
      "File \u001B[1;32m~\\miniconda3\\envs\\RAIS-miniproject\\lib\\inspect.py:1473\u001B[0m, in \u001B[0;36mgetframeinfo\u001B[1;34m(frame, context)\u001B[0m\n\u001B[0;32m   1470\u001B[0m \u001B[38;5;28;01mif\u001B[39;00m \u001B[38;5;129;01mnot\u001B[39;00m isframe(frame):\n\u001B[0;32m   1471\u001B[0m     \u001B[38;5;28;01mraise\u001B[39;00m \u001B[38;5;167;01mTypeError\u001B[39;00m(\u001B[38;5;124m'\u001B[39m\u001B[38;5;132;01m{!r}\u001B[39;00m\u001B[38;5;124m is not a frame or traceback object\u001B[39m\u001B[38;5;124m'\u001B[39m\u001B[38;5;241m.\u001B[39mformat(frame))\n\u001B[1;32m-> 1473\u001B[0m filename \u001B[38;5;241m=\u001B[39m \u001B[43mgetsourcefile\u001B[49m\u001B[43m(\u001B[49m\u001B[43mframe\u001B[49m\u001B[43m)\u001B[49m \u001B[38;5;129;01mor\u001B[39;00m getfile(frame)\n\u001B[0;32m   1474\u001B[0m \u001B[38;5;28;01mif\u001B[39;00m context \u001B[38;5;241m>\u001B[39m \u001B[38;5;241m0\u001B[39m:\n\u001B[0;32m   1475\u001B[0m     start \u001B[38;5;241m=\u001B[39m lineno \u001B[38;5;241m-\u001B[39m \u001B[38;5;241m1\u001B[39m \u001B[38;5;241m-\u001B[39m context\u001B[38;5;241m/\u001B[39m\u001B[38;5;241m/\u001B[39m\u001B[38;5;241m2\u001B[39m\n",
      "File \u001B[1;32m~\\miniconda3\\envs\\RAIS-miniproject\\lib\\inspect.py:705\u001B[0m, in \u001B[0;36mgetsourcefile\u001B[1;34m(object)\u001B[0m\n\u001B[0;32m    702\u001B[0m \u001B[38;5;28;01melif\u001B[39;00m \u001B[38;5;28many\u001B[39m(filename\u001B[38;5;241m.\u001B[39mendswith(s) \u001B[38;5;28;01mfor\u001B[39;00m s \u001B[38;5;129;01min\u001B[39;00m\n\u001B[0;32m    703\u001B[0m              importlib\u001B[38;5;241m.\u001B[39mmachinery\u001B[38;5;241m.\u001B[39mEXTENSION_SUFFIXES):\n\u001B[0;32m    704\u001B[0m     \u001B[38;5;28;01mreturn\u001B[39;00m \u001B[38;5;28;01mNone\u001B[39;00m\n\u001B[1;32m--> 705\u001B[0m \u001B[38;5;28;01mif\u001B[39;00m \u001B[43mos\u001B[49m\u001B[38;5;241;43m.\u001B[39;49m\u001B[43mpath\u001B[49m\u001B[38;5;241;43m.\u001B[39;49m\u001B[43mexists\u001B[49m\u001B[43m(\u001B[49m\u001B[43mfilename\u001B[49m\u001B[43m)\u001B[49m:\n\u001B[0;32m    706\u001B[0m     \u001B[38;5;28;01mreturn\u001B[39;00m filename\n\u001B[0;32m    707\u001B[0m \u001B[38;5;66;03m# only return a non-existent filename if the module has a PEP 302 loader\u001B[39;00m\n",
      "File \u001B[1;32m~\\miniconda3\\envs\\RAIS-miniproject\\lib\\genericpath.py:19\u001B[0m, in \u001B[0;36mexists\u001B[1;34m(path)\u001B[0m\n\u001B[0;32m     17\u001B[0m \u001B[38;5;124;03m\"\"\"Test whether a path exists.  Returns False for broken symbolic links\"\"\"\u001B[39;00m\n\u001B[0;32m     18\u001B[0m \u001B[38;5;28;01mtry\u001B[39;00m:\n\u001B[1;32m---> 19\u001B[0m     \u001B[43mos\u001B[49m\u001B[38;5;241;43m.\u001B[39;49m\u001B[43mstat\u001B[49m\u001B[43m(\u001B[49m\u001B[43mpath\u001B[49m\u001B[43m)\u001B[49m\n\u001B[0;32m     20\u001B[0m \u001B[38;5;28;01mexcept\u001B[39;00m (\u001B[38;5;167;01mOSError\u001B[39;00m, \u001B[38;5;167;01mValueError\u001B[39;00m):\n\u001B[0;32m     21\u001B[0m     \u001B[38;5;28;01mreturn\u001B[39;00m \u001B[38;5;28;01mFalse\u001B[39;00m\n",
      "\u001B[1;31mKeyboardInterrupt\u001B[0m: "
     ]
    }
   ],
   "source": [
    "data = preprocessing_functions.one_hot_encoding(data)\n",
    "data"
   ],
   "metadata": {
    "collapsed": false,
    "pycharm": {
     "name": "#%%\n"
    }
   }
  },
  {
   "cell_type": "code",
   "execution_count": 5,
   "outputs": [],
   "source": [
    "data.to_pickle('../data/unified_dataframe/weekly_temp.pkl')"
   ],
   "metadata": {
    "collapsed": false,
    "pycharm": {
     "name": "#%%\n"
    }
   }
  },
  {
   "cell_type": "code",
   "execution_count": 6,
   "outputs": [],
   "source": [
    "data = pd.read_pickle('../data/unified_dataframe/weekly_temp.pkl')"
   ],
   "metadata": {
    "collapsed": false,
    "pycharm": {
     "name": "#%%\n"
    }
   }
  },
  {
   "cell_type": "markdown",
   "source": [
    "# Merge fitbit data with stai and panas"
   ],
   "metadata": {
    "collapsed": false,
    "pycharm": {
     "name": "#%% md\n"
    }
   }
  },
  {
   "cell_type": "markdown",
   "source": [
    "## stai"
   ],
   "metadata": {
    "collapsed": false,
    "pycharm": {
     "name": "#%% md\n"
    }
   }
  },
  {
   "cell_type": "code",
   "execution_count": 7,
   "outputs": [
    {
     "data": {
      "text/plain": "                          id       date label_stai_stress_category\n0   621e2e8e67b776a24055b564 2021-05-31              Below average\n0   621e328667b776a240281372 2021-05-31                    Average\n0   621e329067b776a2402ffad2 2021-05-31              Above average\n3   621e30e467b776a240e817c7 2021-05-31              Above average\n4   621e32af67b776a24045b4cf 2021-05-31              Above average\n..                       ...        ...                        ...\n2   621e346f67b776a24081744f 2022-01-12                    Average\n4   621e2f9167b776a240011ccb 2022-01-16              Above average\n1   621e367e67b776a24087d75d 2022-01-17                    Average\n6   621e324e67b776a2400191cb 2022-01-17              Above average\n1   621e32e667b776a2406d2f1c 2022-01-25              Above average\n\n[279 rows x 3 columns]",
      "text/html": "<div>\n<style scoped>\n    .dataframe tbody tr th:only-of-type {\n        vertical-align: middle;\n    }\n\n    .dataframe tbody tr th {\n        vertical-align: top;\n    }\n\n    .dataframe thead th {\n        text-align: right;\n    }\n</style>\n<table border=\"1\" class=\"dataframe\">\n  <thead>\n    <tr style=\"text-align: right;\">\n      <th></th>\n      <th>id</th>\n      <th>date</th>\n      <th>label_stai_stress_category</th>\n    </tr>\n  </thead>\n  <tbody>\n    <tr>\n      <th>0</th>\n      <td>621e2e8e67b776a24055b564</td>\n      <td>2021-05-31</td>\n      <td>Below average</td>\n    </tr>\n    <tr>\n      <th>0</th>\n      <td>621e328667b776a240281372</td>\n      <td>2021-05-31</td>\n      <td>Average</td>\n    </tr>\n    <tr>\n      <th>0</th>\n      <td>621e329067b776a2402ffad2</td>\n      <td>2021-05-31</td>\n      <td>Above average</td>\n    </tr>\n    <tr>\n      <th>3</th>\n      <td>621e30e467b776a240e817c7</td>\n      <td>2021-05-31</td>\n      <td>Above average</td>\n    </tr>\n    <tr>\n      <th>4</th>\n      <td>621e32af67b776a24045b4cf</td>\n      <td>2021-05-31</td>\n      <td>Above average</td>\n    </tr>\n    <tr>\n      <th>...</th>\n      <td>...</td>\n      <td>...</td>\n      <td>...</td>\n    </tr>\n    <tr>\n      <th>2</th>\n      <td>621e346f67b776a24081744f</td>\n      <td>2022-01-12</td>\n      <td>Average</td>\n    </tr>\n    <tr>\n      <th>4</th>\n      <td>621e2f9167b776a240011ccb</td>\n      <td>2022-01-16</td>\n      <td>Above average</td>\n    </tr>\n    <tr>\n      <th>1</th>\n      <td>621e367e67b776a24087d75d</td>\n      <td>2022-01-17</td>\n      <td>Average</td>\n    </tr>\n    <tr>\n      <th>6</th>\n      <td>621e324e67b776a2400191cb</td>\n      <td>2022-01-17</td>\n      <td>Above average</td>\n    </tr>\n    <tr>\n      <th>1</th>\n      <td>621e32e667b776a2406d2f1c</td>\n      <td>2022-01-25</td>\n      <td>Above average</td>\n    </tr>\n  </tbody>\n</table>\n<p>279 rows × 3 columns</p>\n</div>"
     },
     "execution_count": 7,
     "metadata": {},
     "output_type": "execute_result"
    }
   ],
   "source": [
    "stai = pd.read_pickle('../data/surveys/stai.pkl')\n",
    "stai = stai.rename(columns={\"user_id\": \"id\", \"submitdate\": \"date\", \"stai_stress_category\":\"label_stai_stress_category\"})\n",
    "stai[\"date\"] = pd.to_datetime(pd.to_datetime(stai[\"date\"]).dt.date)\n",
    "stai = stai.sort_values(by='date', ascending=True)\n",
    "stai = stai.drop(columns=['type', 'stai_stress'])\n",
    "stai"
   ],
   "metadata": {
    "collapsed": false,
    "pycharm": {
     "name": "#%%\n"
    }
   }
  },
  {
   "cell_type": "markdown",
   "source": [
    "## panas"
   ],
   "metadata": {
    "collapsed": false,
    "pycharm": {
     "name": "#%% md\n"
    }
   }
  },
  {
   "cell_type": "code",
   "execution_count": 8,
   "outputs": [
    {
     "data": {
      "text/plain": "                          id       date label_panas_negative_affect\n0   621e329067b776a2402ffad2 2021-05-31                     Average\n0   621e328667b776a240281372 2021-05-31               Above average\n4   621e32af67b776a24045b4cf 2021-05-31               Above average\n6   621e301e67b776a240608a72 2021-05-31                     Average\n2   621e32d967b776a240627414 2021-05-31                     Average\n..                       ...        ...                         ...\n6   621e339967b776a240e502de 2022-01-12               Below average\n2   621e2f9167b776a240011ccb 2022-01-16               Above average\n5   621e367e67b776a24087d75d 2022-01-17                     Average\n3   621e324e67b776a2400191cb 2022-01-17               Below average\n3   621e32e667b776a2406d2f1c 2022-01-25                     Average\n\n[268 rows x 3 columns]",
      "text/html": "<div>\n<style scoped>\n    .dataframe tbody tr th:only-of-type {\n        vertical-align: middle;\n    }\n\n    .dataframe tbody tr th {\n        vertical-align: top;\n    }\n\n    .dataframe thead th {\n        text-align: right;\n    }\n</style>\n<table border=\"1\" class=\"dataframe\">\n  <thead>\n    <tr style=\"text-align: right;\">\n      <th></th>\n      <th>id</th>\n      <th>date</th>\n      <th>label_panas_negative_affect</th>\n    </tr>\n  </thead>\n  <tbody>\n    <tr>\n      <th>0</th>\n      <td>621e329067b776a2402ffad2</td>\n      <td>2021-05-31</td>\n      <td>Average</td>\n    </tr>\n    <tr>\n      <th>0</th>\n      <td>621e328667b776a240281372</td>\n      <td>2021-05-31</td>\n      <td>Above average</td>\n    </tr>\n    <tr>\n      <th>4</th>\n      <td>621e32af67b776a24045b4cf</td>\n      <td>2021-05-31</td>\n      <td>Above average</td>\n    </tr>\n    <tr>\n      <th>6</th>\n      <td>621e301e67b776a240608a72</td>\n      <td>2021-05-31</td>\n      <td>Average</td>\n    </tr>\n    <tr>\n      <th>2</th>\n      <td>621e32d967b776a240627414</td>\n      <td>2021-05-31</td>\n      <td>Average</td>\n    </tr>\n    <tr>\n      <th>...</th>\n      <td>...</td>\n      <td>...</td>\n      <td>...</td>\n    </tr>\n    <tr>\n      <th>6</th>\n      <td>621e339967b776a240e502de</td>\n      <td>2022-01-12</td>\n      <td>Below average</td>\n    </tr>\n    <tr>\n      <th>2</th>\n      <td>621e2f9167b776a240011ccb</td>\n      <td>2022-01-16</td>\n      <td>Above average</td>\n    </tr>\n    <tr>\n      <th>5</th>\n      <td>621e367e67b776a24087d75d</td>\n      <td>2022-01-17</td>\n      <td>Average</td>\n    </tr>\n    <tr>\n      <th>3</th>\n      <td>621e324e67b776a2400191cb</td>\n      <td>2022-01-17</td>\n      <td>Below average</td>\n    </tr>\n    <tr>\n      <th>3</th>\n      <td>621e32e667b776a2406d2f1c</td>\n      <td>2022-01-25</td>\n      <td>Average</td>\n    </tr>\n  </tbody>\n</table>\n<p>268 rows × 3 columns</p>\n</div>"
     },
     "execution_count": 8,
     "metadata": {},
     "output_type": "execute_result"
    }
   ],
   "source": [
    "panas = pd.read_pickle('../data/surveys/panas_classification.pkl')\n",
    "panas = panas.rename(columns={\"user_id\": \"id\", \"submitdate\": \"date\", \"negative_affect_category\":\"label_panas_negative_affect\"})\n",
    "panas[\"date\"] = pd.to_datetime(pd.to_datetime(panas[\"date\"]).dt.date)\n",
    "panas = panas.sort_values(by='date', ascending=True)\n",
    "panas"
   ],
   "metadata": {
    "collapsed": false,
    "pycharm": {
     "name": "#%%\n"
    }
   }
  },
  {
   "cell_type": "markdown",
   "source": [
    "## Merge stai with panas to create one survey dataframe"
   ],
   "metadata": {
    "collapsed": false,
    "pycharm": {
     "name": "#%% md\n"
    }
   }
  },
  {
   "cell_type": "code",
   "execution_count": 9,
   "outputs": [
    {
     "data": {
      "text/plain": "                           id       date label_panas_negative_affect  \\\n0    621e329067b776a2402ffad2 2021-05-31                     Average   \n1    621e328667b776a240281372 2021-05-31               Above average   \n2    621e32af67b776a24045b4cf 2021-05-31               Above average   \n3    621e301e67b776a240608a72 2021-05-31                     Average   \n4    621e32d967b776a240627414 2021-05-31                     Average   \n..                        ...        ...                         ...   \n279  621e366567b776a24076a727 2021-12-27                         NaN   \n280  621e2f1b67b776a240b3d87c 2021-12-27                         NaN   \n281  621e310d67b776a24003096d 2021-12-31                         NaN   \n282  621e312a67b776a240164d59 2022-01-03                         NaN   \n283  621e2f1b67b776a240b3d87c 2022-01-04                         NaN   \n\n    label_stai_stress_category  \n0                Above average  \n1                      Average  \n2                Above average  \n3                Below average  \n4                Above average  \n..                         ...  \n279              Below average  \n280              Above average  \n281                    Average  \n282              Above average  \n283              Above average  \n\n[284 rows x 4 columns]",
      "text/html": "<div>\n<style scoped>\n    .dataframe tbody tr th:only-of-type {\n        vertical-align: middle;\n    }\n\n    .dataframe tbody tr th {\n        vertical-align: top;\n    }\n\n    .dataframe thead th {\n        text-align: right;\n    }\n</style>\n<table border=\"1\" class=\"dataframe\">\n  <thead>\n    <tr style=\"text-align: right;\">\n      <th></th>\n      <th>id</th>\n      <th>date</th>\n      <th>label_panas_negative_affect</th>\n      <th>label_stai_stress_category</th>\n    </tr>\n  </thead>\n  <tbody>\n    <tr>\n      <th>0</th>\n      <td>621e329067b776a2402ffad2</td>\n      <td>2021-05-31</td>\n      <td>Average</td>\n      <td>Above average</td>\n    </tr>\n    <tr>\n      <th>1</th>\n      <td>621e328667b776a240281372</td>\n      <td>2021-05-31</td>\n      <td>Above average</td>\n      <td>Average</td>\n    </tr>\n    <tr>\n      <th>2</th>\n      <td>621e32af67b776a24045b4cf</td>\n      <td>2021-05-31</td>\n      <td>Above average</td>\n      <td>Above average</td>\n    </tr>\n    <tr>\n      <th>3</th>\n      <td>621e301e67b776a240608a72</td>\n      <td>2021-05-31</td>\n      <td>Average</td>\n      <td>Below average</td>\n    </tr>\n    <tr>\n      <th>4</th>\n      <td>621e32d967b776a240627414</td>\n      <td>2021-05-31</td>\n      <td>Average</td>\n      <td>Above average</td>\n    </tr>\n    <tr>\n      <th>...</th>\n      <td>...</td>\n      <td>...</td>\n      <td>...</td>\n      <td>...</td>\n    </tr>\n    <tr>\n      <th>279</th>\n      <td>621e366567b776a24076a727</td>\n      <td>2021-12-27</td>\n      <td>NaN</td>\n      <td>Below average</td>\n    </tr>\n    <tr>\n      <th>280</th>\n      <td>621e2f1b67b776a240b3d87c</td>\n      <td>2021-12-27</td>\n      <td>NaN</td>\n      <td>Above average</td>\n    </tr>\n    <tr>\n      <th>281</th>\n      <td>621e310d67b776a24003096d</td>\n      <td>2021-12-31</td>\n      <td>NaN</td>\n      <td>Average</td>\n    </tr>\n    <tr>\n      <th>282</th>\n      <td>621e312a67b776a240164d59</td>\n      <td>2022-01-03</td>\n      <td>NaN</td>\n      <td>Above average</td>\n    </tr>\n    <tr>\n      <th>283</th>\n      <td>621e2f1b67b776a240b3d87c</td>\n      <td>2022-01-04</td>\n      <td>NaN</td>\n      <td>Above average</td>\n    </tr>\n  </tbody>\n</table>\n<p>284 rows × 4 columns</p>\n</div>"
     },
     "execution_count": 9,
     "metadata": {},
     "output_type": "execute_result"
    }
   ],
   "source": [
    "survey = panas.merge(stai, how='outer', on=['id', 'date'])\n",
    "survey"
   ],
   "metadata": {
    "collapsed": false,
    "pycharm": {
     "name": "#%%\n"
    }
   }
  },
  {
   "cell_type": "code",
   "execution_count": 10,
   "outputs": [],
   "source": [
    "users = list(data['id'].unique())"
   ],
   "metadata": {
    "collapsed": false,
    "pycharm": {
     "name": "#%%\n"
    }
   }
  },
  {
   "cell_type": "code",
   "execution_count": 11,
   "outputs": [
    {
     "data": {
      "text/plain": "                           id       date label_panas_negative_affect  \\\n0    621e2e8e67b776a24055b564 2021-05-31               Below average   \n1    621e2e8e67b776a24055b564 2021-06-07               Below average   \n2    621e2e8e67b776a24055b564 2021-06-28               Below average   \n3    621e2e8e67b776a24055b564 2021-07-19               Below average   \n4    621e2e8e67b776a24055b564 2021-07-26               Below average   \n..                        ...        ...                         ...   \n279  621e339967b776a240e502de 2021-12-14               Below average   \n280  621e339967b776a240e502de 2021-12-20               Below average   \n281  621e339967b776a240e502de 2021-12-27               Below average   \n282  621e339967b776a240e502de 2022-01-03               Below average   \n283  621e339967b776a240e502de 2022-01-12               Below average   \n\n    label_stai_stress_category nightly_temperature  nremhr    rmssd  spo2  \\\n0                Below average           34.408304  57.481   94.303   NaN   \n1                      Average           34.476865   56.57  109.509   NaN   \n2                Above average           34.418045  53.006  107.388   NaN   \n3                      Average           34.254286   57.33  100.374   NaN   \n4                      Average           34.515655  59.798   98.515   NaN   \n..                         ...                 ...     ...      ...   ...   \n279              Below average           34.303759  46.311   56.468  96.5   \n280                    Average           34.876472  50.683   47.293  96.0   \n281                    Average           35.107574  54.325   47.929  95.4   \n282                    Average           34.957428   52.81   47.801  94.9   \n283                    Average           34.073346  51.364   51.324  96.1   \n\n    full_sleep_breathing_rate stress_score  ... Martial Arts  Run Spinning  \\\n0                        14.8         81.0  ...          0.0  0.0      0.0   \n1                        14.4         83.0  ...          0.0  0.0      0.0   \n2                        15.6         76.0  ...          0.0  0.0      0.0   \n3                        15.0         75.0  ...          0.0  0.0      0.0   \n4                        15.4         74.0  ...          0.0  0.0      0.0   \n..                        ...          ...  ...          ...  ...      ...   \n279                      11.0         87.0  ...          0.0  0.0      0.0   \n280                      11.6         82.0  ...          0.0  0.0      0.0   \n281                      12.2         87.0  ...          0.0  0.0      0.0   \n282                      12.4         81.0  ...          0.0  0.0      0.0   \n283                      12.2         84.0  ...          0.0  0.0      0.0   \n\n    Sport Swim Treadmill Walk Weights Workout Yoga/Pilates  \n0     0.0  0.0       0.0  1.0     0.0     0.0          0.0  \n1     0.0  0.0       0.0  1.0     0.0     0.0          0.0  \n2     0.0  0.0       0.0  1.0     0.0     0.0          0.0  \n3     0.0  0.0       0.0  1.0     0.0     0.0          0.0  \n4     0.0  0.0       0.0  1.0     0.0     0.0          0.0  \n..    ...  ...       ...  ...     ...     ...          ...  \n279   0.0  0.0       0.0  1.0     0.0     0.0          0.0  \n280   0.0  0.0       0.0  0.0     0.0     0.0          0.0  \n281   0.0  0.0       0.0  1.0     0.0     0.0          0.0  \n282   0.0  0.0       0.0  1.0     0.0     0.0          0.0  \n283   0.0  0.0       0.0  1.0     0.0     0.0          0.0  \n\n[284 rows x 67 columns]",
      "text/html": "<div>\n<style scoped>\n    .dataframe tbody tr th:only-of-type {\n        vertical-align: middle;\n    }\n\n    .dataframe tbody tr th {\n        vertical-align: top;\n    }\n\n    .dataframe thead th {\n        text-align: right;\n    }\n</style>\n<table border=\"1\" class=\"dataframe\">\n  <thead>\n    <tr style=\"text-align: right;\">\n      <th></th>\n      <th>id</th>\n      <th>date</th>\n      <th>label_panas_negative_affect</th>\n      <th>label_stai_stress_category</th>\n      <th>nightly_temperature</th>\n      <th>nremhr</th>\n      <th>rmssd</th>\n      <th>spo2</th>\n      <th>full_sleep_breathing_rate</th>\n      <th>stress_score</th>\n      <th>...</th>\n      <th>Martial Arts</th>\n      <th>Run</th>\n      <th>Spinning</th>\n      <th>Sport</th>\n      <th>Swim</th>\n      <th>Treadmill</th>\n      <th>Walk</th>\n      <th>Weights</th>\n      <th>Workout</th>\n      <th>Yoga/Pilates</th>\n    </tr>\n  </thead>\n  <tbody>\n    <tr>\n      <th>0</th>\n      <td>621e2e8e67b776a24055b564</td>\n      <td>2021-05-31</td>\n      <td>Below average</td>\n      <td>Below average</td>\n      <td>34.408304</td>\n      <td>57.481</td>\n      <td>94.303</td>\n      <td>NaN</td>\n      <td>14.8</td>\n      <td>81.0</td>\n      <td>...</td>\n      <td>0.0</td>\n      <td>0.0</td>\n      <td>0.0</td>\n      <td>0.0</td>\n      <td>0.0</td>\n      <td>0.0</td>\n      <td>1.0</td>\n      <td>0.0</td>\n      <td>0.0</td>\n      <td>0.0</td>\n    </tr>\n    <tr>\n      <th>1</th>\n      <td>621e2e8e67b776a24055b564</td>\n      <td>2021-06-07</td>\n      <td>Below average</td>\n      <td>Average</td>\n      <td>34.476865</td>\n      <td>56.57</td>\n      <td>109.509</td>\n      <td>NaN</td>\n      <td>14.4</td>\n      <td>83.0</td>\n      <td>...</td>\n      <td>0.0</td>\n      <td>0.0</td>\n      <td>0.0</td>\n      <td>0.0</td>\n      <td>0.0</td>\n      <td>0.0</td>\n      <td>1.0</td>\n      <td>0.0</td>\n      <td>0.0</td>\n      <td>0.0</td>\n    </tr>\n    <tr>\n      <th>2</th>\n      <td>621e2e8e67b776a24055b564</td>\n      <td>2021-06-28</td>\n      <td>Below average</td>\n      <td>Above average</td>\n      <td>34.418045</td>\n      <td>53.006</td>\n      <td>107.388</td>\n      <td>NaN</td>\n      <td>15.6</td>\n      <td>76.0</td>\n      <td>...</td>\n      <td>0.0</td>\n      <td>0.0</td>\n      <td>0.0</td>\n      <td>0.0</td>\n      <td>0.0</td>\n      <td>0.0</td>\n      <td>1.0</td>\n      <td>0.0</td>\n      <td>0.0</td>\n      <td>0.0</td>\n    </tr>\n    <tr>\n      <th>3</th>\n      <td>621e2e8e67b776a24055b564</td>\n      <td>2021-07-19</td>\n      <td>Below average</td>\n      <td>Average</td>\n      <td>34.254286</td>\n      <td>57.33</td>\n      <td>100.374</td>\n      <td>NaN</td>\n      <td>15.0</td>\n      <td>75.0</td>\n      <td>...</td>\n      <td>0.0</td>\n      <td>0.0</td>\n      <td>0.0</td>\n      <td>0.0</td>\n      <td>0.0</td>\n      <td>0.0</td>\n      <td>1.0</td>\n      <td>0.0</td>\n      <td>0.0</td>\n      <td>0.0</td>\n    </tr>\n    <tr>\n      <th>4</th>\n      <td>621e2e8e67b776a24055b564</td>\n      <td>2021-07-26</td>\n      <td>Below average</td>\n      <td>Average</td>\n      <td>34.515655</td>\n      <td>59.798</td>\n      <td>98.515</td>\n      <td>NaN</td>\n      <td>15.4</td>\n      <td>74.0</td>\n      <td>...</td>\n      <td>0.0</td>\n      <td>0.0</td>\n      <td>0.0</td>\n      <td>0.0</td>\n      <td>0.0</td>\n      <td>0.0</td>\n      <td>1.0</td>\n      <td>0.0</td>\n      <td>0.0</td>\n      <td>0.0</td>\n    </tr>\n    <tr>\n      <th>...</th>\n      <td>...</td>\n      <td>...</td>\n      <td>...</td>\n      <td>...</td>\n      <td>...</td>\n      <td>...</td>\n      <td>...</td>\n      <td>...</td>\n      <td>...</td>\n      <td>...</td>\n      <td>...</td>\n      <td>...</td>\n      <td>...</td>\n      <td>...</td>\n      <td>...</td>\n      <td>...</td>\n      <td>...</td>\n      <td>...</td>\n      <td>...</td>\n      <td>...</td>\n      <td>...</td>\n    </tr>\n    <tr>\n      <th>279</th>\n      <td>621e339967b776a240e502de</td>\n      <td>2021-12-14</td>\n      <td>Below average</td>\n      <td>Below average</td>\n      <td>34.303759</td>\n      <td>46.311</td>\n      <td>56.468</td>\n      <td>96.5</td>\n      <td>11.0</td>\n      <td>87.0</td>\n      <td>...</td>\n      <td>0.0</td>\n      <td>0.0</td>\n      <td>0.0</td>\n      <td>0.0</td>\n      <td>0.0</td>\n      <td>0.0</td>\n      <td>1.0</td>\n      <td>0.0</td>\n      <td>0.0</td>\n      <td>0.0</td>\n    </tr>\n    <tr>\n      <th>280</th>\n      <td>621e339967b776a240e502de</td>\n      <td>2021-12-20</td>\n      <td>Below average</td>\n      <td>Average</td>\n      <td>34.876472</td>\n      <td>50.683</td>\n      <td>47.293</td>\n      <td>96.0</td>\n      <td>11.6</td>\n      <td>82.0</td>\n      <td>...</td>\n      <td>0.0</td>\n      <td>0.0</td>\n      <td>0.0</td>\n      <td>0.0</td>\n      <td>0.0</td>\n      <td>0.0</td>\n      <td>0.0</td>\n      <td>0.0</td>\n      <td>0.0</td>\n      <td>0.0</td>\n    </tr>\n    <tr>\n      <th>281</th>\n      <td>621e339967b776a240e502de</td>\n      <td>2021-12-27</td>\n      <td>Below average</td>\n      <td>Average</td>\n      <td>35.107574</td>\n      <td>54.325</td>\n      <td>47.929</td>\n      <td>95.4</td>\n      <td>12.2</td>\n      <td>87.0</td>\n      <td>...</td>\n      <td>0.0</td>\n      <td>0.0</td>\n      <td>0.0</td>\n      <td>0.0</td>\n      <td>0.0</td>\n      <td>0.0</td>\n      <td>1.0</td>\n      <td>0.0</td>\n      <td>0.0</td>\n      <td>0.0</td>\n    </tr>\n    <tr>\n      <th>282</th>\n      <td>621e339967b776a240e502de</td>\n      <td>2022-01-03</td>\n      <td>Below average</td>\n      <td>Average</td>\n      <td>34.957428</td>\n      <td>52.81</td>\n      <td>47.801</td>\n      <td>94.9</td>\n      <td>12.4</td>\n      <td>81.0</td>\n      <td>...</td>\n      <td>0.0</td>\n      <td>0.0</td>\n      <td>0.0</td>\n      <td>0.0</td>\n      <td>0.0</td>\n      <td>0.0</td>\n      <td>1.0</td>\n      <td>0.0</td>\n      <td>0.0</td>\n      <td>0.0</td>\n    </tr>\n    <tr>\n      <th>283</th>\n      <td>621e339967b776a240e502de</td>\n      <td>2022-01-12</td>\n      <td>Below average</td>\n      <td>Average</td>\n      <td>34.073346</td>\n      <td>51.364</td>\n      <td>51.324</td>\n      <td>96.1</td>\n      <td>12.2</td>\n      <td>84.0</td>\n      <td>...</td>\n      <td>0.0</td>\n      <td>0.0</td>\n      <td>0.0</td>\n      <td>0.0</td>\n      <td>0.0</td>\n      <td>0.0</td>\n      <td>1.0</td>\n      <td>0.0</td>\n      <td>0.0</td>\n      <td>0.0</td>\n    </tr>\n  </tbody>\n</table>\n<p>284 rows × 67 columns</p>\n</div>"
     },
     "execution_count": 11,
     "metadata": {},
     "output_type": "execute_result"
    }
   ],
   "source": [
    "data = preprocessing_functions.weekly_fitbit_frequency(survey, data, users)\n",
    "data"
   ],
   "metadata": {
    "collapsed": false,
    "pycharm": {
     "name": "#%%\n"
    }
   }
  },
  {
   "cell_type": "code",
   "execution_count": 12,
   "outputs": [],
   "source": [
    "data.to_pickle('../data/unified_dataframe/weekly_unprocessed.pkl')"
   ],
   "metadata": {
    "collapsed": false,
    "pycharm": {
     "name": "#%%\n"
    }
   }
  },
  {
   "cell_type": "markdown",
   "source": [
    "## Date engineering"
   ],
   "metadata": {
    "collapsed": false,
    "pycharm": {
     "name": "#%% md\n"
    }
   }
  },
  {
   "cell_type": "code",
   "execution_count": 8,
   "outputs": [
    {
     "data": {
      "text/plain": "                           id        date label_panas_negative_affect  \\\n0    621e2e8e67b776a24055b564  2021-05-31               Below average   \n1    621e2e8e67b776a24055b564  2021-06-07               Below average   \n2    621e2e8e67b776a24055b564  2021-06-28               Below average   \n3    621e2e8e67b776a24055b564  2021-07-19               Below average   \n4    621e2e8e67b776a24055b564  2021-07-26               Below average   \n..                        ...         ...                         ...   \n279  621e339967b776a240e502de  2021-12-14               Below average   \n280  621e339967b776a240e502de  2021-12-20               Below average   \n281  621e339967b776a240e502de  2021-12-27               Below average   \n282  621e339967b776a240e502de  2022-01-03               Below average   \n283  621e339967b776a240e502de  2022-01-12               Below average   \n\n    label_stai_stress_category nightly_temperature  nremhr    rmssd  spo2  \\\n0                Below average           34.408304  57.481   94.303   NaN   \n1                      Average           34.476865   56.57  109.509   NaN   \n2                Above average           34.418045  53.006  107.388   NaN   \n3                      Average           34.254286   57.33  100.374   NaN   \n4                      Average           34.515655  59.798   98.515   NaN   \n..                         ...                 ...     ...      ...   ...   \n279              Below average           34.303759  46.311   56.468  96.5   \n280                    Average           34.876472  50.683   47.293  96.0   \n281                    Average           35.107574  54.325   47.929  95.4   \n282                    Average           34.957428   52.81   47.801  94.9   \n283                    Average           34.073346  51.364   51.324  96.1   \n\n    full_sleep_breathing_rate stress_score  ... Workout Yoga/Pilates  \\\n0                        14.8         81.0  ...     0.0          0.0   \n1                        14.4         83.0  ...     0.0          0.0   \n2                        15.6         76.0  ...     0.0          0.0   \n3                        15.0         75.0  ...     0.0          0.0   \n4                        15.4         74.0  ...     0.0          0.0   \n..                        ...          ...  ...     ...          ...   \n279                      11.0         87.0  ...     0.0          0.0   \n280                      11.6         82.0  ...     0.0          0.0   \n281                      12.2         87.0  ...     0.0          0.0   \n282                      12.4         81.0  ...     0.0          0.0   \n283                      12.2         84.0  ...     0.0          0.0   \n\n        month_sin weekday_sin      week_sin   day_sin     month_cos  \\\n0   -7.071068e-01    0.000000 -1.133108e-15  0.207912 -7.071068e-01   \n1   -1.000000e+00    0.000000  2.817326e-01  0.994522 -1.836970e-16   \n2   -1.000000e+00    0.000000  9.096320e-01 -0.406737 -1.836970e-16   \n3   -7.071068e-01    0.000000  9.096320e-01 -0.743145  7.071068e-01   \n4   -7.071068e-01    0.000000  7.557496e-01 -0.743145  7.071068e-01   \n..            ...         ...           ...       ...           ...   \n279  3.673940e-16    0.781831  9.898214e-01  0.207912 -1.000000e+00   \n280  3.673940e-16    0.000000  9.096320e-01 -0.866025 -1.000000e+00   \n281  3.673940e-16    0.000000  7.557496e-01 -0.587785 -1.000000e+00   \n282  7.071068e-01    0.000000  2.817326e-01  0.587785  7.071068e-01   \n283  7.071068e-01    0.974928  5.406408e-01  0.587785  7.071068e-01   \n\n    weekday_cos  week_cos   day_cos  \n0      1.000000  1.000000  0.978148  \n1      1.000000  0.959493  0.104528  \n2      1.000000  0.415415  0.913545  \n3      1.000000 -0.415415 -0.669131  \n4      1.000000 -0.654861  0.669131  \n..          ...       ...       ...  \n279    0.623490 -0.142315 -0.978148  \n280    1.000000 -0.415415 -0.500000  \n281    1.000000 -0.654861  0.809017  \n282    1.000000  0.959493  0.809017  \n283   -0.222521  0.841254 -0.809017  \n\n[284 rows x 75 columns]",
      "text/html": "<div>\n<style scoped>\n    .dataframe tbody tr th:only-of-type {\n        vertical-align: middle;\n    }\n\n    .dataframe tbody tr th {\n        vertical-align: top;\n    }\n\n    .dataframe thead th {\n        text-align: right;\n    }\n</style>\n<table border=\"1\" class=\"dataframe\">\n  <thead>\n    <tr style=\"text-align: right;\">\n      <th></th>\n      <th>id</th>\n      <th>date</th>\n      <th>label_panas_negative_affect</th>\n      <th>label_stai_stress_category</th>\n      <th>nightly_temperature</th>\n      <th>nremhr</th>\n      <th>rmssd</th>\n      <th>spo2</th>\n      <th>full_sleep_breathing_rate</th>\n      <th>stress_score</th>\n      <th>...</th>\n      <th>Workout</th>\n      <th>Yoga/Pilates</th>\n      <th>month_sin</th>\n      <th>weekday_sin</th>\n      <th>week_sin</th>\n      <th>day_sin</th>\n      <th>month_cos</th>\n      <th>weekday_cos</th>\n      <th>week_cos</th>\n      <th>day_cos</th>\n    </tr>\n  </thead>\n  <tbody>\n    <tr>\n      <th>0</th>\n      <td>621e2e8e67b776a24055b564</td>\n      <td>2021-05-31</td>\n      <td>Below average</td>\n      <td>Below average</td>\n      <td>34.408304</td>\n      <td>57.481</td>\n      <td>94.303</td>\n      <td>NaN</td>\n      <td>14.8</td>\n      <td>81.0</td>\n      <td>...</td>\n      <td>0.0</td>\n      <td>0.0</td>\n      <td>-7.071068e-01</td>\n      <td>0.000000</td>\n      <td>-1.133108e-15</td>\n      <td>0.207912</td>\n      <td>-7.071068e-01</td>\n      <td>1.000000</td>\n      <td>1.000000</td>\n      <td>0.978148</td>\n    </tr>\n    <tr>\n      <th>1</th>\n      <td>621e2e8e67b776a24055b564</td>\n      <td>2021-06-07</td>\n      <td>Below average</td>\n      <td>Average</td>\n      <td>34.476865</td>\n      <td>56.57</td>\n      <td>109.509</td>\n      <td>NaN</td>\n      <td>14.4</td>\n      <td>83.0</td>\n      <td>...</td>\n      <td>0.0</td>\n      <td>0.0</td>\n      <td>-1.000000e+00</td>\n      <td>0.000000</td>\n      <td>2.817326e-01</td>\n      <td>0.994522</td>\n      <td>-1.836970e-16</td>\n      <td>1.000000</td>\n      <td>0.959493</td>\n      <td>0.104528</td>\n    </tr>\n    <tr>\n      <th>2</th>\n      <td>621e2e8e67b776a24055b564</td>\n      <td>2021-06-28</td>\n      <td>Below average</td>\n      <td>Above average</td>\n      <td>34.418045</td>\n      <td>53.006</td>\n      <td>107.388</td>\n      <td>NaN</td>\n      <td>15.6</td>\n      <td>76.0</td>\n      <td>...</td>\n      <td>0.0</td>\n      <td>0.0</td>\n      <td>-1.000000e+00</td>\n      <td>0.000000</td>\n      <td>9.096320e-01</td>\n      <td>-0.406737</td>\n      <td>-1.836970e-16</td>\n      <td>1.000000</td>\n      <td>0.415415</td>\n      <td>0.913545</td>\n    </tr>\n    <tr>\n      <th>3</th>\n      <td>621e2e8e67b776a24055b564</td>\n      <td>2021-07-19</td>\n      <td>Below average</td>\n      <td>Average</td>\n      <td>34.254286</td>\n      <td>57.33</td>\n      <td>100.374</td>\n      <td>NaN</td>\n      <td>15.0</td>\n      <td>75.0</td>\n      <td>...</td>\n      <td>0.0</td>\n      <td>0.0</td>\n      <td>-7.071068e-01</td>\n      <td>0.000000</td>\n      <td>9.096320e-01</td>\n      <td>-0.743145</td>\n      <td>7.071068e-01</td>\n      <td>1.000000</td>\n      <td>-0.415415</td>\n      <td>-0.669131</td>\n    </tr>\n    <tr>\n      <th>4</th>\n      <td>621e2e8e67b776a24055b564</td>\n      <td>2021-07-26</td>\n      <td>Below average</td>\n      <td>Average</td>\n      <td>34.515655</td>\n      <td>59.798</td>\n      <td>98.515</td>\n      <td>NaN</td>\n      <td>15.4</td>\n      <td>74.0</td>\n      <td>...</td>\n      <td>0.0</td>\n      <td>0.0</td>\n      <td>-7.071068e-01</td>\n      <td>0.000000</td>\n      <td>7.557496e-01</td>\n      <td>-0.743145</td>\n      <td>7.071068e-01</td>\n      <td>1.000000</td>\n      <td>-0.654861</td>\n      <td>0.669131</td>\n    </tr>\n    <tr>\n      <th>...</th>\n      <td>...</td>\n      <td>...</td>\n      <td>...</td>\n      <td>...</td>\n      <td>...</td>\n      <td>...</td>\n      <td>...</td>\n      <td>...</td>\n      <td>...</td>\n      <td>...</td>\n      <td>...</td>\n      <td>...</td>\n      <td>...</td>\n      <td>...</td>\n      <td>...</td>\n      <td>...</td>\n      <td>...</td>\n      <td>...</td>\n      <td>...</td>\n      <td>...</td>\n      <td>...</td>\n    </tr>\n    <tr>\n      <th>279</th>\n      <td>621e339967b776a240e502de</td>\n      <td>2021-12-14</td>\n      <td>Below average</td>\n      <td>Below average</td>\n      <td>34.303759</td>\n      <td>46.311</td>\n      <td>56.468</td>\n      <td>96.5</td>\n      <td>11.0</td>\n      <td>87.0</td>\n      <td>...</td>\n      <td>0.0</td>\n      <td>0.0</td>\n      <td>3.673940e-16</td>\n      <td>0.781831</td>\n      <td>9.898214e-01</td>\n      <td>0.207912</td>\n      <td>-1.000000e+00</td>\n      <td>0.623490</td>\n      <td>-0.142315</td>\n      <td>-0.978148</td>\n    </tr>\n    <tr>\n      <th>280</th>\n      <td>621e339967b776a240e502de</td>\n      <td>2021-12-20</td>\n      <td>Below average</td>\n      <td>Average</td>\n      <td>34.876472</td>\n      <td>50.683</td>\n      <td>47.293</td>\n      <td>96.0</td>\n      <td>11.6</td>\n      <td>82.0</td>\n      <td>...</td>\n      <td>0.0</td>\n      <td>0.0</td>\n      <td>3.673940e-16</td>\n      <td>0.000000</td>\n      <td>9.096320e-01</td>\n      <td>-0.866025</td>\n      <td>-1.000000e+00</td>\n      <td>1.000000</td>\n      <td>-0.415415</td>\n      <td>-0.500000</td>\n    </tr>\n    <tr>\n      <th>281</th>\n      <td>621e339967b776a240e502de</td>\n      <td>2021-12-27</td>\n      <td>Below average</td>\n      <td>Average</td>\n      <td>35.107574</td>\n      <td>54.325</td>\n      <td>47.929</td>\n      <td>95.4</td>\n      <td>12.2</td>\n      <td>87.0</td>\n      <td>...</td>\n      <td>0.0</td>\n      <td>0.0</td>\n      <td>3.673940e-16</td>\n      <td>0.000000</td>\n      <td>7.557496e-01</td>\n      <td>-0.587785</td>\n      <td>-1.000000e+00</td>\n      <td>1.000000</td>\n      <td>-0.654861</td>\n      <td>0.809017</td>\n    </tr>\n    <tr>\n      <th>282</th>\n      <td>621e339967b776a240e502de</td>\n      <td>2022-01-03</td>\n      <td>Below average</td>\n      <td>Average</td>\n      <td>34.957428</td>\n      <td>52.81</td>\n      <td>47.801</td>\n      <td>94.9</td>\n      <td>12.4</td>\n      <td>81.0</td>\n      <td>...</td>\n      <td>0.0</td>\n      <td>0.0</td>\n      <td>7.071068e-01</td>\n      <td>0.000000</td>\n      <td>2.817326e-01</td>\n      <td>0.587785</td>\n      <td>7.071068e-01</td>\n      <td>1.000000</td>\n      <td>0.959493</td>\n      <td>0.809017</td>\n    </tr>\n    <tr>\n      <th>283</th>\n      <td>621e339967b776a240e502de</td>\n      <td>2022-01-12</td>\n      <td>Below average</td>\n      <td>Average</td>\n      <td>34.073346</td>\n      <td>51.364</td>\n      <td>51.324</td>\n      <td>96.1</td>\n      <td>12.2</td>\n      <td>84.0</td>\n      <td>...</td>\n      <td>0.0</td>\n      <td>0.0</td>\n      <td>7.071068e-01</td>\n      <td>0.974928</td>\n      <td>5.406408e-01</td>\n      <td>0.587785</td>\n      <td>7.071068e-01</td>\n      <td>-0.222521</td>\n      <td>0.841254</td>\n      <td>-0.809017</td>\n    </tr>\n  </tbody>\n</table>\n<p>284 rows × 75 columns</p>\n</div>"
     },
     "execution_count": 8,
     "metadata": {},
     "output_type": "execute_result"
    }
   ],
   "source": [
    "data = preprocessing_functions.date_engineering(data)\n",
    "data"
   ],
   "metadata": {
    "collapsed": false,
    "pycharm": {
     "name": "#%%\n"
    }
   }
  },
  {
   "cell_type": "markdown",
   "source": [
    "## post - preprocessing"
   ],
   "metadata": {
    "collapsed": false,
    "pycharm": {
     "name": "#%% md\n"
    }
   }
  },
  {
   "cell_type": "code",
   "execution_count": 9,
   "outputs": [
    {
     "data": {
      "text/plain": "                           id        date label_panas_negative_affect  \\\n0    621e2e8e67b776a24055b564  2021-05-31               Below average   \n1    621e2e8e67b776a24055b564  2021-06-07               Below average   \n2    621e2e8e67b776a24055b564  2021-06-28               Below average   \n3    621e2e8e67b776a24055b564  2021-07-19               Below average   \n4    621e2e8e67b776a24055b564  2021-07-26               Below average   \n..                        ...         ...                         ...   \n279  621e339967b776a240e502de  2021-12-14               Below average   \n280  621e339967b776a240e502de  2021-12-20               Below average   \n281  621e339967b776a240e502de  2021-12-27               Below average   \n282  621e339967b776a240e502de  2022-01-03               Below average   \n283  621e339967b776a240e502de  2022-01-12               Below average   \n\n    label_stai_stress_category  nightly_temperature  nremhr    rmssd  spo2  \\\n0                Below average            34.408304  57.481   94.303  96.1   \n1                      Average            34.476865  56.570   34.617  96.1   \n2                Above average            34.418045  53.006   34.617  96.1   \n3                      Average            34.254286  57.330  100.374  96.1   \n4                      Average            34.515655  59.798   98.515  96.1   \n..                         ...                  ...     ...      ...   ...   \n279              Below average            34.303759  46.311   56.468  96.5   \n280                    Average            34.876472  50.683   47.293  96.0   \n281                    Average            35.107574  54.325   47.929  95.4   \n282                    Average            34.957428  52.810   47.801  94.9   \n283                    Average            34.073346  51.364   51.324  96.1   \n\n     full_sleep_breathing_rate  stress_score  ...  weekday_sin      week_sin  \\\n0                         14.8          81.0  ...     0.000000 -1.133108e-15   \n1                         14.4          83.0  ...     0.000000  2.817326e-01   \n2                         15.6          76.0  ...     0.000000  9.096320e-01   \n3                         15.0          75.0  ...     0.000000  9.096320e-01   \n4                         15.4          74.0  ...     0.000000  7.557496e-01   \n..                         ...           ...  ...          ...           ...   \n279                       11.0          87.0  ...     0.781831  9.898214e-01   \n280                       11.6          82.0  ...     0.000000  9.096320e-01   \n281                       12.2          87.0  ...     0.000000  7.557496e-01   \n282                       12.4          81.0  ...     0.000000  2.817326e-01   \n283                       12.2          84.0  ...     0.974928  5.406408e-01   \n\n      day_sin     month_cos  weekday_cos  week_cos   day_cos  wear_day  \\\n0    0.207912 -7.071068e-01     1.000000  1.000000  0.978148         1   \n1    0.994522 -1.836970e-16     1.000000  0.959493  0.104528         1   \n2   -0.406737 -1.836970e-16     1.000000  0.415415  0.913545         1   \n3   -0.743145  7.071068e-01     1.000000 -0.415415 -0.669131         1   \n4   -0.743145  7.071068e-01     1.000000 -0.654861  0.669131         1   \n..        ...           ...          ...       ...       ...       ...   \n279  0.207912 -1.000000e+00     0.623490 -0.142315 -0.978148         1   \n280 -0.866025 -1.000000e+00     1.000000 -0.415415 -0.500000         1   \n281 -0.587785 -1.000000e+00     1.000000 -0.654861  0.809017         1   \n282  0.587785  7.071068e-01     1.000000  0.959493  0.809017         1   \n283  0.587785  7.071068e-01    -0.222521  0.841254 -0.809017         1   \n\n     early_features  used_during_night  \n0                 0              1.000  \n1                 0              1.000  \n2                 0              1.000  \n3                 0              1.000  \n4                 0              1.000  \n..              ...                ...  \n279               1              0.875  \n280               1              0.875  \n281               1              0.875  \n282               1              0.875  \n283               1              0.875  \n\n[284 rows x 77 columns]",
      "text/html": "<div>\n<style scoped>\n    .dataframe tbody tr th:only-of-type {\n        vertical-align: middle;\n    }\n\n    .dataframe tbody tr th {\n        vertical-align: top;\n    }\n\n    .dataframe thead th {\n        text-align: right;\n    }\n</style>\n<table border=\"1\" class=\"dataframe\">\n  <thead>\n    <tr style=\"text-align: right;\">\n      <th></th>\n      <th>id</th>\n      <th>date</th>\n      <th>label_panas_negative_affect</th>\n      <th>label_stai_stress_category</th>\n      <th>nightly_temperature</th>\n      <th>nremhr</th>\n      <th>rmssd</th>\n      <th>spo2</th>\n      <th>full_sleep_breathing_rate</th>\n      <th>stress_score</th>\n      <th>...</th>\n      <th>weekday_sin</th>\n      <th>week_sin</th>\n      <th>day_sin</th>\n      <th>month_cos</th>\n      <th>weekday_cos</th>\n      <th>week_cos</th>\n      <th>day_cos</th>\n      <th>wear_day</th>\n      <th>early_features</th>\n      <th>used_during_night</th>\n    </tr>\n  </thead>\n  <tbody>\n    <tr>\n      <th>0</th>\n      <td>621e2e8e67b776a24055b564</td>\n      <td>2021-05-31</td>\n      <td>Below average</td>\n      <td>Below average</td>\n      <td>34.408304</td>\n      <td>57.481</td>\n      <td>94.303</td>\n      <td>96.1</td>\n      <td>14.8</td>\n      <td>81.0</td>\n      <td>...</td>\n      <td>0.000000</td>\n      <td>-1.133108e-15</td>\n      <td>0.207912</td>\n      <td>-7.071068e-01</td>\n      <td>1.000000</td>\n      <td>1.000000</td>\n      <td>0.978148</td>\n      <td>1</td>\n      <td>0</td>\n      <td>1.000</td>\n    </tr>\n    <tr>\n      <th>1</th>\n      <td>621e2e8e67b776a24055b564</td>\n      <td>2021-06-07</td>\n      <td>Below average</td>\n      <td>Average</td>\n      <td>34.476865</td>\n      <td>56.570</td>\n      <td>34.617</td>\n      <td>96.1</td>\n      <td>14.4</td>\n      <td>83.0</td>\n      <td>...</td>\n      <td>0.000000</td>\n      <td>2.817326e-01</td>\n      <td>0.994522</td>\n      <td>-1.836970e-16</td>\n      <td>1.000000</td>\n      <td>0.959493</td>\n      <td>0.104528</td>\n      <td>1</td>\n      <td>0</td>\n      <td>1.000</td>\n    </tr>\n    <tr>\n      <th>2</th>\n      <td>621e2e8e67b776a24055b564</td>\n      <td>2021-06-28</td>\n      <td>Below average</td>\n      <td>Above average</td>\n      <td>34.418045</td>\n      <td>53.006</td>\n      <td>34.617</td>\n      <td>96.1</td>\n      <td>15.6</td>\n      <td>76.0</td>\n      <td>...</td>\n      <td>0.000000</td>\n      <td>9.096320e-01</td>\n      <td>-0.406737</td>\n      <td>-1.836970e-16</td>\n      <td>1.000000</td>\n      <td>0.415415</td>\n      <td>0.913545</td>\n      <td>1</td>\n      <td>0</td>\n      <td>1.000</td>\n    </tr>\n    <tr>\n      <th>3</th>\n      <td>621e2e8e67b776a24055b564</td>\n      <td>2021-07-19</td>\n      <td>Below average</td>\n      <td>Average</td>\n      <td>34.254286</td>\n      <td>57.330</td>\n      <td>100.374</td>\n      <td>96.1</td>\n      <td>15.0</td>\n      <td>75.0</td>\n      <td>...</td>\n      <td>0.000000</td>\n      <td>9.096320e-01</td>\n      <td>-0.743145</td>\n      <td>7.071068e-01</td>\n      <td>1.000000</td>\n      <td>-0.415415</td>\n      <td>-0.669131</td>\n      <td>1</td>\n      <td>0</td>\n      <td>1.000</td>\n    </tr>\n    <tr>\n      <th>4</th>\n      <td>621e2e8e67b776a24055b564</td>\n      <td>2021-07-26</td>\n      <td>Below average</td>\n      <td>Average</td>\n      <td>34.515655</td>\n      <td>59.798</td>\n      <td>98.515</td>\n      <td>96.1</td>\n      <td>15.4</td>\n      <td>74.0</td>\n      <td>...</td>\n      <td>0.000000</td>\n      <td>7.557496e-01</td>\n      <td>-0.743145</td>\n      <td>7.071068e-01</td>\n      <td>1.000000</td>\n      <td>-0.654861</td>\n      <td>0.669131</td>\n      <td>1</td>\n      <td>0</td>\n      <td>1.000</td>\n    </tr>\n    <tr>\n      <th>...</th>\n      <td>...</td>\n      <td>...</td>\n      <td>...</td>\n      <td>...</td>\n      <td>...</td>\n      <td>...</td>\n      <td>...</td>\n      <td>...</td>\n      <td>...</td>\n      <td>...</td>\n      <td>...</td>\n      <td>...</td>\n      <td>...</td>\n      <td>...</td>\n      <td>...</td>\n      <td>...</td>\n      <td>...</td>\n      <td>...</td>\n      <td>...</td>\n      <td>...</td>\n      <td>...</td>\n    </tr>\n    <tr>\n      <th>279</th>\n      <td>621e339967b776a240e502de</td>\n      <td>2021-12-14</td>\n      <td>Below average</td>\n      <td>Below average</td>\n      <td>34.303759</td>\n      <td>46.311</td>\n      <td>56.468</td>\n      <td>96.5</td>\n      <td>11.0</td>\n      <td>87.0</td>\n      <td>...</td>\n      <td>0.781831</td>\n      <td>9.898214e-01</td>\n      <td>0.207912</td>\n      <td>-1.000000e+00</td>\n      <td>0.623490</td>\n      <td>-0.142315</td>\n      <td>-0.978148</td>\n      <td>1</td>\n      <td>1</td>\n      <td>0.875</td>\n    </tr>\n    <tr>\n      <th>280</th>\n      <td>621e339967b776a240e502de</td>\n      <td>2021-12-20</td>\n      <td>Below average</td>\n      <td>Average</td>\n      <td>34.876472</td>\n      <td>50.683</td>\n      <td>47.293</td>\n      <td>96.0</td>\n      <td>11.6</td>\n      <td>82.0</td>\n      <td>...</td>\n      <td>0.000000</td>\n      <td>9.096320e-01</td>\n      <td>-0.866025</td>\n      <td>-1.000000e+00</td>\n      <td>1.000000</td>\n      <td>-0.415415</td>\n      <td>-0.500000</td>\n      <td>1</td>\n      <td>1</td>\n      <td>0.875</td>\n    </tr>\n    <tr>\n      <th>281</th>\n      <td>621e339967b776a240e502de</td>\n      <td>2021-12-27</td>\n      <td>Below average</td>\n      <td>Average</td>\n      <td>35.107574</td>\n      <td>54.325</td>\n      <td>47.929</td>\n      <td>95.4</td>\n      <td>12.2</td>\n      <td>87.0</td>\n      <td>...</td>\n      <td>0.000000</td>\n      <td>7.557496e-01</td>\n      <td>-0.587785</td>\n      <td>-1.000000e+00</td>\n      <td>1.000000</td>\n      <td>-0.654861</td>\n      <td>0.809017</td>\n      <td>1</td>\n      <td>1</td>\n      <td>0.875</td>\n    </tr>\n    <tr>\n      <th>282</th>\n      <td>621e339967b776a240e502de</td>\n      <td>2022-01-03</td>\n      <td>Below average</td>\n      <td>Average</td>\n      <td>34.957428</td>\n      <td>52.810</td>\n      <td>47.801</td>\n      <td>94.9</td>\n      <td>12.4</td>\n      <td>81.0</td>\n      <td>...</td>\n      <td>0.000000</td>\n      <td>2.817326e-01</td>\n      <td>0.587785</td>\n      <td>7.071068e-01</td>\n      <td>1.000000</td>\n      <td>0.959493</td>\n      <td>0.809017</td>\n      <td>1</td>\n      <td>1</td>\n      <td>0.875</td>\n    </tr>\n    <tr>\n      <th>283</th>\n      <td>621e339967b776a240e502de</td>\n      <td>2022-01-12</td>\n      <td>Below average</td>\n      <td>Average</td>\n      <td>34.073346</td>\n      <td>51.364</td>\n      <td>51.324</td>\n      <td>96.1</td>\n      <td>12.2</td>\n      <td>84.0</td>\n      <td>...</td>\n      <td>0.974928</td>\n      <td>5.406408e-01</td>\n      <td>0.587785</td>\n      <td>7.071068e-01</td>\n      <td>-0.222521</td>\n      <td>0.841254</td>\n      <td>-0.809017</td>\n      <td>1</td>\n      <td>1</td>\n      <td>0.875</td>\n    </tr>\n  </tbody>\n</table>\n<p>284 rows × 77 columns</p>\n</div>"
     },
     "execution_count": 9,
     "metadata": {},
     "output_type": "execute_result"
    }
   ],
   "source": [
    "data = preprocessing_functions.post_preprocessing(data, 'weekly')\n",
    "data"
   ],
   "metadata": {
    "collapsed": false,
    "pycharm": {
     "name": "#%%\n"
    }
   }
  },
  {
   "cell_type": "code",
   "execution_count": 10,
   "outputs": [],
   "source": [
    "special_zeros = ['stress_score', 'sleep_points_percentage', 'exertion_points_percentage',\n",
    "                 'responsiveness_points_percentage']\n",
    "\n",
    "for col in special_zeros:\n",
    "    data.loc[data[col] == 0, col] = data[col].median()"
   ],
   "metadata": {
    "collapsed": false,
    "pycharm": {
     "name": "#%%\n"
    }
   }
  },
  {
   "cell_type": "code",
   "execution_count": 11,
   "outputs": [],
   "source": [
    "# these columns have only 0 values\n",
    "data = data.drop(columns=['heart_rate_alert'])"
   ],
   "metadata": {
    "collapsed": false,
    "pycharm": {
     "name": "#%%\n"
    }
   }
  },
  {
   "cell_type": "markdown",
   "source": [
    "## add all the new features"
   ],
   "metadata": {
    "collapsed": false,
    "pycharm": {
     "name": "#%% md\n"
    }
   }
  },
  {
   "cell_type": "code",
   "execution_count": 12,
   "outputs": [
    {
     "data": {
      "text/plain": "                           id       date label_panas_negative_affect  \\\n0    621e2e8e67b776a24055b564 2021-05-31               Below average   \n1    621e2e8e67b776a24055b564 2021-06-07               Below average   \n2    621e2e8e67b776a24055b564 2021-06-28               Below average   \n3    621e2e8e67b776a24055b564 2021-07-19               Below average   \n4    621e2e8e67b776a24055b564 2021-07-26               Below average   \n..                        ...        ...                         ...   \n279  621e375b67b776a240290cdc 2021-06-01               Above average   \n280  621e375b67b776a240290cdc 2021-06-08               Above average   \n281  621e375b67b776a240290cdc 2021-06-22               Above average   \n282  621e375b67b776a240290cdc 2021-07-06               Above average   \n283  621e375b67b776a240290cdc 2021-07-12                         NaN   \n\n    label_stai_stress_category  nightly_temperature  nremhr    rmssd  spo2  \\\n0                Below average            34.408304  57.481   94.303  96.1   \n1                      Average            34.476865  56.570   34.617  96.1   \n2                Above average            34.418045  53.006   34.617  96.1   \n3                      Average            34.254286  57.330  100.374  96.1   \n4                      Average            34.515655  59.798   98.515  96.1   \n..                         ...                  ...     ...      ...   ...   \n279              Above average            34.480120  63.323   21.579  96.1   \n280              Above average            34.251482  63.730   20.485  96.1   \n281              Above average            34.588002  65.664   19.511  96.1   \n282              Above average            34.720564  60.287   23.620  96.1   \n283              Above average            34.495625  64.813   21.289  96.1   \n\n     full_sleep_breathing_rate  stress_score  ...  Steps_hour14  Steps_hour15  \\\n0                         14.8          81.0  ...           6.0         271.0   \n1                         14.4          83.0  ...         196.0         223.0   \n2                         15.6          76.0  ...         128.0         160.0   \n3                         15.0          75.0  ...         419.0          96.0   \n4                         15.4          74.0  ...         113.0         216.0   \n..                         ...           ...  ...           ...           ...   \n279                       17.4          72.0  ...         221.0          23.0   \n280                       17.0          78.0  ...          12.0           0.0   \n281                       17.0          80.0  ...         138.0         268.0   \n282                       17.0          75.0  ...         387.0          14.0   \n283                       17.0          74.0  ...        1437.0         948.0   \n\n     Steps_hour16  Steps_hour17  Steps_hour18  Steps_hour19  Steps_hour20  \\\n0           535.0         202.0        3226.0         530.0          72.0   \n1           262.0          96.0         181.0        3079.0          37.0   \n2           320.0         366.0        3190.0         191.0          23.0   \n3            83.0         168.0        1001.0        2215.0         231.0   \n4           233.0         274.0        2389.0        3393.0         162.0   \n..            ...           ...           ...           ...           ...   \n279          58.0           0.0         817.0        1384.0        2000.0   \n280         245.0         648.0        3403.0        6047.0        2326.0   \n281          12.0          16.0         290.0         210.0        1857.0   \n282          26.0         251.0         254.0         267.0         299.0   \n283          22.0          55.0         338.0        1185.0        2885.0   \n\n     Steps_hour21  Steps_hour22  Steps_hour23  \n0            52.0         421.0          38.0  \n1           173.0         179.0          45.0  \n2            95.0          23.0          36.0  \n3          1579.0          57.0         162.0  \n4            62.0          15.0         151.0  \n..            ...           ...           ...  \n279        3158.0         536.0          33.0  \n280        1469.0        1528.0         222.0  \n281        5394.0        2275.0          44.0  \n282         259.0         252.0         176.0  \n283        4561.0        2692.0         237.0  \n\n[284 rows x 124 columns]",
      "text/html": "<div>\n<style scoped>\n    .dataframe tbody tr th:only-of-type {\n        vertical-align: middle;\n    }\n\n    .dataframe tbody tr th {\n        vertical-align: top;\n    }\n\n    .dataframe thead th {\n        text-align: right;\n    }\n</style>\n<table border=\"1\" class=\"dataframe\">\n  <thead>\n    <tr style=\"text-align: right;\">\n      <th></th>\n      <th>id</th>\n      <th>date</th>\n      <th>label_panas_negative_affect</th>\n      <th>label_stai_stress_category</th>\n      <th>nightly_temperature</th>\n      <th>nremhr</th>\n      <th>rmssd</th>\n      <th>spo2</th>\n      <th>full_sleep_breathing_rate</th>\n      <th>stress_score</th>\n      <th>...</th>\n      <th>Steps_hour14</th>\n      <th>Steps_hour15</th>\n      <th>Steps_hour16</th>\n      <th>Steps_hour17</th>\n      <th>Steps_hour18</th>\n      <th>Steps_hour19</th>\n      <th>Steps_hour20</th>\n      <th>Steps_hour21</th>\n      <th>Steps_hour22</th>\n      <th>Steps_hour23</th>\n    </tr>\n  </thead>\n  <tbody>\n    <tr>\n      <th>0</th>\n      <td>621e2e8e67b776a24055b564</td>\n      <td>2021-05-31</td>\n      <td>Below average</td>\n      <td>Below average</td>\n      <td>34.408304</td>\n      <td>57.481</td>\n      <td>94.303</td>\n      <td>96.1</td>\n      <td>14.8</td>\n      <td>81.0</td>\n      <td>...</td>\n      <td>6.0</td>\n      <td>271.0</td>\n      <td>535.0</td>\n      <td>202.0</td>\n      <td>3226.0</td>\n      <td>530.0</td>\n      <td>72.0</td>\n      <td>52.0</td>\n      <td>421.0</td>\n      <td>38.0</td>\n    </tr>\n    <tr>\n      <th>1</th>\n      <td>621e2e8e67b776a24055b564</td>\n      <td>2021-06-07</td>\n      <td>Below average</td>\n      <td>Average</td>\n      <td>34.476865</td>\n      <td>56.570</td>\n      <td>34.617</td>\n      <td>96.1</td>\n      <td>14.4</td>\n      <td>83.0</td>\n      <td>...</td>\n      <td>196.0</td>\n      <td>223.0</td>\n      <td>262.0</td>\n      <td>96.0</td>\n      <td>181.0</td>\n      <td>3079.0</td>\n      <td>37.0</td>\n      <td>173.0</td>\n      <td>179.0</td>\n      <td>45.0</td>\n    </tr>\n    <tr>\n      <th>2</th>\n      <td>621e2e8e67b776a24055b564</td>\n      <td>2021-06-28</td>\n      <td>Below average</td>\n      <td>Above average</td>\n      <td>34.418045</td>\n      <td>53.006</td>\n      <td>34.617</td>\n      <td>96.1</td>\n      <td>15.6</td>\n      <td>76.0</td>\n      <td>...</td>\n      <td>128.0</td>\n      <td>160.0</td>\n      <td>320.0</td>\n      <td>366.0</td>\n      <td>3190.0</td>\n      <td>191.0</td>\n      <td>23.0</td>\n      <td>95.0</td>\n      <td>23.0</td>\n      <td>36.0</td>\n    </tr>\n    <tr>\n      <th>3</th>\n      <td>621e2e8e67b776a24055b564</td>\n      <td>2021-07-19</td>\n      <td>Below average</td>\n      <td>Average</td>\n      <td>34.254286</td>\n      <td>57.330</td>\n      <td>100.374</td>\n      <td>96.1</td>\n      <td>15.0</td>\n      <td>75.0</td>\n      <td>...</td>\n      <td>419.0</td>\n      <td>96.0</td>\n      <td>83.0</td>\n      <td>168.0</td>\n      <td>1001.0</td>\n      <td>2215.0</td>\n      <td>231.0</td>\n      <td>1579.0</td>\n      <td>57.0</td>\n      <td>162.0</td>\n    </tr>\n    <tr>\n      <th>4</th>\n      <td>621e2e8e67b776a24055b564</td>\n      <td>2021-07-26</td>\n      <td>Below average</td>\n      <td>Average</td>\n      <td>34.515655</td>\n      <td>59.798</td>\n      <td>98.515</td>\n      <td>96.1</td>\n      <td>15.4</td>\n      <td>74.0</td>\n      <td>...</td>\n      <td>113.0</td>\n      <td>216.0</td>\n      <td>233.0</td>\n      <td>274.0</td>\n      <td>2389.0</td>\n      <td>3393.0</td>\n      <td>162.0</td>\n      <td>62.0</td>\n      <td>15.0</td>\n      <td>151.0</td>\n    </tr>\n    <tr>\n      <th>...</th>\n      <td>...</td>\n      <td>...</td>\n      <td>...</td>\n      <td>...</td>\n      <td>...</td>\n      <td>...</td>\n      <td>...</td>\n      <td>...</td>\n      <td>...</td>\n      <td>...</td>\n      <td>...</td>\n      <td>...</td>\n      <td>...</td>\n      <td>...</td>\n      <td>...</td>\n      <td>...</td>\n      <td>...</td>\n      <td>...</td>\n      <td>...</td>\n      <td>...</td>\n      <td>...</td>\n    </tr>\n    <tr>\n      <th>279</th>\n      <td>621e375b67b776a240290cdc</td>\n      <td>2021-06-01</td>\n      <td>Above average</td>\n      <td>Above average</td>\n      <td>34.480120</td>\n      <td>63.323</td>\n      <td>21.579</td>\n      <td>96.1</td>\n      <td>17.4</td>\n      <td>72.0</td>\n      <td>...</td>\n      <td>221.0</td>\n      <td>23.0</td>\n      <td>58.0</td>\n      <td>0.0</td>\n      <td>817.0</td>\n      <td>1384.0</td>\n      <td>2000.0</td>\n      <td>3158.0</td>\n      <td>536.0</td>\n      <td>33.0</td>\n    </tr>\n    <tr>\n      <th>280</th>\n      <td>621e375b67b776a240290cdc</td>\n      <td>2021-06-08</td>\n      <td>Above average</td>\n      <td>Above average</td>\n      <td>34.251482</td>\n      <td>63.730</td>\n      <td>20.485</td>\n      <td>96.1</td>\n      <td>17.0</td>\n      <td>78.0</td>\n      <td>...</td>\n      <td>12.0</td>\n      <td>0.0</td>\n      <td>245.0</td>\n      <td>648.0</td>\n      <td>3403.0</td>\n      <td>6047.0</td>\n      <td>2326.0</td>\n      <td>1469.0</td>\n      <td>1528.0</td>\n      <td>222.0</td>\n    </tr>\n    <tr>\n      <th>281</th>\n      <td>621e375b67b776a240290cdc</td>\n      <td>2021-06-22</td>\n      <td>Above average</td>\n      <td>Above average</td>\n      <td>34.588002</td>\n      <td>65.664</td>\n      <td>19.511</td>\n      <td>96.1</td>\n      <td>17.0</td>\n      <td>80.0</td>\n      <td>...</td>\n      <td>138.0</td>\n      <td>268.0</td>\n      <td>12.0</td>\n      <td>16.0</td>\n      <td>290.0</td>\n      <td>210.0</td>\n      <td>1857.0</td>\n      <td>5394.0</td>\n      <td>2275.0</td>\n      <td>44.0</td>\n    </tr>\n    <tr>\n      <th>282</th>\n      <td>621e375b67b776a240290cdc</td>\n      <td>2021-07-06</td>\n      <td>Above average</td>\n      <td>Above average</td>\n      <td>34.720564</td>\n      <td>60.287</td>\n      <td>23.620</td>\n      <td>96.1</td>\n      <td>17.0</td>\n      <td>75.0</td>\n      <td>...</td>\n      <td>387.0</td>\n      <td>14.0</td>\n      <td>26.0</td>\n      <td>251.0</td>\n      <td>254.0</td>\n      <td>267.0</td>\n      <td>299.0</td>\n      <td>259.0</td>\n      <td>252.0</td>\n      <td>176.0</td>\n    </tr>\n    <tr>\n      <th>283</th>\n      <td>621e375b67b776a240290cdc</td>\n      <td>2021-07-12</td>\n      <td>NaN</td>\n      <td>Above average</td>\n      <td>34.495625</td>\n      <td>64.813</td>\n      <td>21.289</td>\n      <td>96.1</td>\n      <td>17.0</td>\n      <td>74.0</td>\n      <td>...</td>\n      <td>1437.0</td>\n      <td>948.0</td>\n      <td>22.0</td>\n      <td>55.0</td>\n      <td>338.0</td>\n      <td>1185.0</td>\n      <td>2885.0</td>\n      <td>4561.0</td>\n      <td>2692.0</td>\n      <td>237.0</td>\n    </tr>\n  </tbody>\n</table>\n<p>284 rows × 124 columns</p>\n</div>"
     },
     "execution_count": 12,
     "metadata": {},
     "output_type": "execute_result"
    }
   ],
   "source": [
    "data = feature_engineering_functions.add_features(data, 'weekly')\n",
    "data"
   ],
   "metadata": {
    "collapsed": false,
    "pycharm": {
     "name": "#%%\n"
    }
   }
  },
  {
   "cell_type": "markdown",
   "source": [
    "## add window features"
   ],
   "metadata": {
    "collapsed": false,
    "pycharm": {
     "name": "#%% md\n"
    }
   }
  },
  {
   "cell_type": "code",
   "execution_count": 13,
   "outputs": [
    {
     "data": {
      "text/plain": "                           id       date label_panas_negative_affect  \\\n0    621e2e8e67b776a24055b564 2021-05-31               Below average   \n1    621e2e8e67b776a24055b564 2021-06-07               Below average   \n2    621e2e8e67b776a24055b564 2021-06-28               Below average   \n3    621e2e8e67b776a24055b564 2021-07-19               Below average   \n4    621e2e8e67b776a24055b564 2021-07-26               Below average   \n..                        ...        ...                         ...   \n279  621e375b67b776a240290cdc 2021-06-01               Above average   \n280  621e375b67b776a240290cdc 2021-06-08               Above average   \n281  621e375b67b776a240290cdc 2021-06-22               Above average   \n282  621e375b67b776a240290cdc 2021-07-06               Above average   \n283  621e375b67b776a240290cdc 2021-07-12                         NaN   \n\n    label_stai_stress_category  nightly_temperature  nremhr    rmssd  spo2  \\\n0                Below average            34.408304  57.481   94.303  96.1   \n1                      Average            34.476865  56.570   34.617  96.1   \n2                Above average            34.418045  53.006   34.617  96.1   \n3                      Average            34.254286  57.330  100.374  96.1   \n4                      Average            34.515655  59.798   98.515  96.1   \n..                         ...                  ...     ...      ...   ...   \n279              Above average            34.480120  63.323   21.579  96.1   \n280              Above average            34.251482  63.730   20.485  96.1   \n281              Above average            34.588002  65.664   19.511  96.1   \n282              Above average            34.720564  60.287   23.620  96.1   \n283              Above average            34.495625  64.813   21.289  96.1   \n\n     full_sleep_breathing_rate  stress_score  ...  Steps_hour18  Steps_hour19  \\\n0                         14.8          81.0  ...        3226.0         530.0   \n1                         14.4          83.0  ...         181.0        3079.0   \n2                         15.6          76.0  ...        3190.0         191.0   \n3                         15.0          75.0  ...        1001.0        2215.0   \n4                         15.4          74.0  ...        2389.0        3393.0   \n..                         ...           ...  ...           ...           ...   \n279                       17.4          72.0  ...         817.0        1384.0   \n280                       17.0          78.0  ...        3403.0        6047.0   \n281                       17.0          80.0  ...         290.0         210.0   \n282                       17.0          75.0  ...         254.0         267.0   \n283                       17.0          74.0  ...         338.0        1185.0   \n\n     Steps_hour20  Steps_hour21  Steps_hour22  Steps_hour23        panas-1  \\\n0            72.0          52.0         421.0          38.0            NaN   \n1            37.0         173.0         179.0          45.0  Below average   \n2            23.0          95.0          23.0          36.0  Below average   \n3           231.0        1579.0          57.0         162.0  Below average   \n4           162.0          62.0          15.0         151.0  Below average   \n..            ...           ...           ...           ...            ...   \n279        2000.0        3158.0         536.0          33.0  Above average   \n280        2326.0        1469.0        1528.0         222.0  Above average   \n281        1857.0        5394.0        2275.0          44.0  Above average   \n282         299.0         259.0         252.0         176.0  Above average   \n283        2885.0        4561.0        2692.0         237.0  Above average   \n\n            stai-1        panas-2         stai-2  \n0              NaN            NaN            NaN  \n1    Below average            NaN            NaN  \n2          Average  Below average  Below average  \n3    Above average  Below average        Average  \n4          Average  Below average  Above average  \n..             ...            ...            ...  \n279  Above average  Above average  Below average  \n280  Above average  Above average  Above average  \n281  Above average  Above average  Above average  \n282  Above average  Above average  Above average  \n283  Above average  Above average  Above average  \n\n[284 rows x 128 columns]",
      "text/html": "<div>\n<style scoped>\n    .dataframe tbody tr th:only-of-type {\n        vertical-align: middle;\n    }\n\n    .dataframe tbody tr th {\n        vertical-align: top;\n    }\n\n    .dataframe thead th {\n        text-align: right;\n    }\n</style>\n<table border=\"1\" class=\"dataframe\">\n  <thead>\n    <tr style=\"text-align: right;\">\n      <th></th>\n      <th>id</th>\n      <th>date</th>\n      <th>label_panas_negative_affect</th>\n      <th>label_stai_stress_category</th>\n      <th>nightly_temperature</th>\n      <th>nremhr</th>\n      <th>rmssd</th>\n      <th>spo2</th>\n      <th>full_sleep_breathing_rate</th>\n      <th>stress_score</th>\n      <th>...</th>\n      <th>Steps_hour18</th>\n      <th>Steps_hour19</th>\n      <th>Steps_hour20</th>\n      <th>Steps_hour21</th>\n      <th>Steps_hour22</th>\n      <th>Steps_hour23</th>\n      <th>panas-1</th>\n      <th>stai-1</th>\n      <th>panas-2</th>\n      <th>stai-2</th>\n    </tr>\n  </thead>\n  <tbody>\n    <tr>\n      <th>0</th>\n      <td>621e2e8e67b776a24055b564</td>\n      <td>2021-05-31</td>\n      <td>Below average</td>\n      <td>Below average</td>\n      <td>34.408304</td>\n      <td>57.481</td>\n      <td>94.303</td>\n      <td>96.1</td>\n      <td>14.8</td>\n      <td>81.0</td>\n      <td>...</td>\n      <td>3226.0</td>\n      <td>530.0</td>\n      <td>72.0</td>\n      <td>52.0</td>\n      <td>421.0</td>\n      <td>38.0</td>\n      <td>NaN</td>\n      <td>NaN</td>\n      <td>NaN</td>\n      <td>NaN</td>\n    </tr>\n    <tr>\n      <th>1</th>\n      <td>621e2e8e67b776a24055b564</td>\n      <td>2021-06-07</td>\n      <td>Below average</td>\n      <td>Average</td>\n      <td>34.476865</td>\n      <td>56.570</td>\n      <td>34.617</td>\n      <td>96.1</td>\n      <td>14.4</td>\n      <td>83.0</td>\n      <td>...</td>\n      <td>181.0</td>\n      <td>3079.0</td>\n      <td>37.0</td>\n      <td>173.0</td>\n      <td>179.0</td>\n      <td>45.0</td>\n      <td>Below average</td>\n      <td>Below average</td>\n      <td>NaN</td>\n      <td>NaN</td>\n    </tr>\n    <tr>\n      <th>2</th>\n      <td>621e2e8e67b776a24055b564</td>\n      <td>2021-06-28</td>\n      <td>Below average</td>\n      <td>Above average</td>\n      <td>34.418045</td>\n      <td>53.006</td>\n      <td>34.617</td>\n      <td>96.1</td>\n      <td>15.6</td>\n      <td>76.0</td>\n      <td>...</td>\n      <td>3190.0</td>\n      <td>191.0</td>\n      <td>23.0</td>\n      <td>95.0</td>\n      <td>23.0</td>\n      <td>36.0</td>\n      <td>Below average</td>\n      <td>Average</td>\n      <td>Below average</td>\n      <td>Below average</td>\n    </tr>\n    <tr>\n      <th>3</th>\n      <td>621e2e8e67b776a24055b564</td>\n      <td>2021-07-19</td>\n      <td>Below average</td>\n      <td>Average</td>\n      <td>34.254286</td>\n      <td>57.330</td>\n      <td>100.374</td>\n      <td>96.1</td>\n      <td>15.0</td>\n      <td>75.0</td>\n      <td>...</td>\n      <td>1001.0</td>\n      <td>2215.0</td>\n      <td>231.0</td>\n      <td>1579.0</td>\n      <td>57.0</td>\n      <td>162.0</td>\n      <td>Below average</td>\n      <td>Above average</td>\n      <td>Below average</td>\n      <td>Average</td>\n    </tr>\n    <tr>\n      <th>4</th>\n      <td>621e2e8e67b776a24055b564</td>\n      <td>2021-07-26</td>\n      <td>Below average</td>\n      <td>Average</td>\n      <td>34.515655</td>\n      <td>59.798</td>\n      <td>98.515</td>\n      <td>96.1</td>\n      <td>15.4</td>\n      <td>74.0</td>\n      <td>...</td>\n      <td>2389.0</td>\n      <td>3393.0</td>\n      <td>162.0</td>\n      <td>62.0</td>\n      <td>15.0</td>\n      <td>151.0</td>\n      <td>Below average</td>\n      <td>Average</td>\n      <td>Below average</td>\n      <td>Above average</td>\n    </tr>\n    <tr>\n      <th>...</th>\n      <td>...</td>\n      <td>...</td>\n      <td>...</td>\n      <td>...</td>\n      <td>...</td>\n      <td>...</td>\n      <td>...</td>\n      <td>...</td>\n      <td>...</td>\n      <td>...</td>\n      <td>...</td>\n      <td>...</td>\n      <td>...</td>\n      <td>...</td>\n      <td>...</td>\n      <td>...</td>\n      <td>...</td>\n      <td>...</td>\n      <td>...</td>\n      <td>...</td>\n      <td>...</td>\n    </tr>\n    <tr>\n      <th>279</th>\n      <td>621e375b67b776a240290cdc</td>\n      <td>2021-06-01</td>\n      <td>Above average</td>\n      <td>Above average</td>\n      <td>34.480120</td>\n      <td>63.323</td>\n      <td>21.579</td>\n      <td>96.1</td>\n      <td>17.4</td>\n      <td>72.0</td>\n      <td>...</td>\n      <td>817.0</td>\n      <td>1384.0</td>\n      <td>2000.0</td>\n      <td>3158.0</td>\n      <td>536.0</td>\n      <td>33.0</td>\n      <td>Above average</td>\n      <td>Above average</td>\n      <td>Above average</td>\n      <td>Below average</td>\n    </tr>\n    <tr>\n      <th>280</th>\n      <td>621e375b67b776a240290cdc</td>\n      <td>2021-06-08</td>\n      <td>Above average</td>\n      <td>Above average</td>\n      <td>34.251482</td>\n      <td>63.730</td>\n      <td>20.485</td>\n      <td>96.1</td>\n      <td>17.0</td>\n      <td>78.0</td>\n      <td>...</td>\n      <td>3403.0</td>\n      <td>6047.0</td>\n      <td>2326.0</td>\n      <td>1469.0</td>\n      <td>1528.0</td>\n      <td>222.0</td>\n      <td>Above average</td>\n      <td>Above average</td>\n      <td>Above average</td>\n      <td>Above average</td>\n    </tr>\n    <tr>\n      <th>281</th>\n      <td>621e375b67b776a240290cdc</td>\n      <td>2021-06-22</td>\n      <td>Above average</td>\n      <td>Above average</td>\n      <td>34.588002</td>\n      <td>65.664</td>\n      <td>19.511</td>\n      <td>96.1</td>\n      <td>17.0</td>\n      <td>80.0</td>\n      <td>...</td>\n      <td>290.0</td>\n      <td>210.0</td>\n      <td>1857.0</td>\n      <td>5394.0</td>\n      <td>2275.0</td>\n      <td>44.0</td>\n      <td>Above average</td>\n      <td>Above average</td>\n      <td>Above average</td>\n      <td>Above average</td>\n    </tr>\n    <tr>\n      <th>282</th>\n      <td>621e375b67b776a240290cdc</td>\n      <td>2021-07-06</td>\n      <td>Above average</td>\n      <td>Above average</td>\n      <td>34.720564</td>\n      <td>60.287</td>\n      <td>23.620</td>\n      <td>96.1</td>\n      <td>17.0</td>\n      <td>75.0</td>\n      <td>...</td>\n      <td>254.0</td>\n      <td>267.0</td>\n      <td>299.0</td>\n      <td>259.0</td>\n      <td>252.0</td>\n      <td>176.0</td>\n      <td>Above average</td>\n      <td>Above average</td>\n      <td>Above average</td>\n      <td>Above average</td>\n    </tr>\n    <tr>\n      <th>283</th>\n      <td>621e375b67b776a240290cdc</td>\n      <td>2021-07-12</td>\n      <td>NaN</td>\n      <td>Above average</td>\n      <td>34.495625</td>\n      <td>64.813</td>\n      <td>21.289</td>\n      <td>96.1</td>\n      <td>17.0</td>\n      <td>74.0</td>\n      <td>...</td>\n      <td>338.0</td>\n      <td>1185.0</td>\n      <td>2885.0</td>\n      <td>4561.0</td>\n      <td>2692.0</td>\n      <td>237.0</td>\n      <td>Above average</td>\n      <td>Above average</td>\n      <td>Above average</td>\n      <td>Above average</td>\n    </tr>\n  </tbody>\n</table>\n<p>284 rows × 128 columns</p>\n</div>"
     },
     "execution_count": 13,
     "metadata": {},
     "output_type": "execute_result"
    }
   ],
   "source": [
    "data['panas-1'] = data['label_panas_negative_affect'].shift(1)\n",
    "data['stai-1'] = data['label_stai_stress_category'].shift(1)\n",
    "data['panas-2'] = data['label_panas_negative_affect'].shift(2)\n",
    "data['stai-2'] = data['label_stai_stress_category'].shift(2)\n",
    "data"
   ],
   "metadata": {
    "collapsed": false,
    "pycharm": {
     "name": "#%%\n"
    }
   }
  },
  {
   "cell_type": "markdown",
   "source": [
    "replace NaNs (from the first rows and because of label existed NaNs)"
   ],
   "metadata": {
    "collapsed": false,
    "pycharm": {
     "name": "#%% md\n"
    }
   }
  },
  {
   "cell_type": "code",
   "execution_count": 14,
   "outputs": [
    {
     "data": {
      "text/plain": "                           id       date label_panas_negative_affect  \\\n0    621e2e8e67b776a24055b564 2021-05-31               Below average   \n1    621e2e8e67b776a24055b564 2021-06-07               Below average   \n2    621e2e8e67b776a24055b564 2021-06-28               Below average   \n3    621e2e8e67b776a24055b564 2021-07-19               Below average   \n4    621e2e8e67b776a24055b564 2021-07-26               Below average   \n..                        ...        ...                         ...   \n279  621e375b67b776a240290cdc 2021-06-01               Above average   \n280  621e375b67b776a240290cdc 2021-06-08               Above average   \n281  621e375b67b776a240290cdc 2021-06-22               Above average   \n282  621e375b67b776a240290cdc 2021-07-06               Above average   \n283  621e375b67b776a240290cdc 2021-07-12                         NaN   \n\n    label_stai_stress_category  nightly_temperature  nremhr    rmssd  spo2  \\\n0                Below average            34.408304  57.481   94.303  96.1   \n1                      Average            34.476865  56.570   34.617  96.1   \n2                Above average            34.418045  53.006   34.617  96.1   \n3                      Average            34.254286  57.330  100.374  96.1   \n4                      Average            34.515655  59.798   98.515  96.1   \n..                         ...                  ...     ...      ...   ...   \n279              Above average            34.480120  63.323   21.579  96.1   \n280              Above average            34.251482  63.730   20.485  96.1   \n281              Above average            34.588002  65.664   19.511  96.1   \n282              Above average            34.720564  60.287   23.620  96.1   \n283              Above average            34.495625  64.813   21.289  96.1   \n\n     full_sleep_breathing_rate  stress_score  ...  Steps_hour18  Steps_hour19  \\\n0                         14.8          81.0  ...        3226.0         530.0   \n1                         14.4          83.0  ...         181.0        3079.0   \n2                         15.6          76.0  ...        3190.0         191.0   \n3                         15.0          75.0  ...        1001.0        2215.0   \n4                         15.4          74.0  ...        2389.0        3393.0   \n..                         ...           ...  ...           ...           ...   \n279                       17.4          72.0  ...         817.0        1384.0   \n280                       17.0          78.0  ...        3403.0        6047.0   \n281                       17.0          80.0  ...         290.0         210.0   \n282                       17.0          75.0  ...         254.0         267.0   \n283                       17.0          74.0  ...         338.0        1185.0   \n\n     Steps_hour20  Steps_hour21  Steps_hour22  Steps_hour23        panas-1  \\\n0            72.0          52.0         421.0          38.0  Below average   \n1            37.0         173.0         179.0          45.0  Below average   \n2            23.0          95.0          23.0          36.0  Below average   \n3           231.0        1579.0          57.0         162.0  Below average   \n4           162.0          62.0          15.0         151.0  Below average   \n..            ...           ...           ...           ...            ...   \n279        2000.0        3158.0         536.0          33.0  Above average   \n280        2326.0        1469.0        1528.0         222.0  Above average   \n281        1857.0        5394.0        2275.0          44.0  Above average   \n282         299.0         259.0         252.0         176.0  Above average   \n283        2885.0        4561.0        2692.0         237.0  Above average   \n\n            stai-1        panas-2         stai-2  \n0          Average  Below average        Average  \n1    Below average  Below average        Average  \n2          Average  Below average  Below average  \n3    Above average  Below average        Average  \n4          Average  Below average  Above average  \n..             ...            ...            ...  \n279  Above average  Above average  Below average  \n280  Above average  Above average  Above average  \n281  Above average  Above average  Above average  \n282  Above average  Above average  Above average  \n283  Above average  Above average  Above average  \n\n[284 rows x 128 columns]",
      "text/html": "<div>\n<style scoped>\n    .dataframe tbody tr th:only-of-type {\n        vertical-align: middle;\n    }\n\n    .dataframe tbody tr th {\n        vertical-align: top;\n    }\n\n    .dataframe thead th {\n        text-align: right;\n    }\n</style>\n<table border=\"1\" class=\"dataframe\">\n  <thead>\n    <tr style=\"text-align: right;\">\n      <th></th>\n      <th>id</th>\n      <th>date</th>\n      <th>label_panas_negative_affect</th>\n      <th>label_stai_stress_category</th>\n      <th>nightly_temperature</th>\n      <th>nremhr</th>\n      <th>rmssd</th>\n      <th>spo2</th>\n      <th>full_sleep_breathing_rate</th>\n      <th>stress_score</th>\n      <th>...</th>\n      <th>Steps_hour18</th>\n      <th>Steps_hour19</th>\n      <th>Steps_hour20</th>\n      <th>Steps_hour21</th>\n      <th>Steps_hour22</th>\n      <th>Steps_hour23</th>\n      <th>panas-1</th>\n      <th>stai-1</th>\n      <th>panas-2</th>\n      <th>stai-2</th>\n    </tr>\n  </thead>\n  <tbody>\n    <tr>\n      <th>0</th>\n      <td>621e2e8e67b776a24055b564</td>\n      <td>2021-05-31</td>\n      <td>Below average</td>\n      <td>Below average</td>\n      <td>34.408304</td>\n      <td>57.481</td>\n      <td>94.303</td>\n      <td>96.1</td>\n      <td>14.8</td>\n      <td>81.0</td>\n      <td>...</td>\n      <td>3226.0</td>\n      <td>530.0</td>\n      <td>72.0</td>\n      <td>52.0</td>\n      <td>421.0</td>\n      <td>38.0</td>\n      <td>Below average</td>\n      <td>Average</td>\n      <td>Below average</td>\n      <td>Average</td>\n    </tr>\n    <tr>\n      <th>1</th>\n      <td>621e2e8e67b776a24055b564</td>\n      <td>2021-06-07</td>\n      <td>Below average</td>\n      <td>Average</td>\n      <td>34.476865</td>\n      <td>56.570</td>\n      <td>34.617</td>\n      <td>96.1</td>\n      <td>14.4</td>\n      <td>83.0</td>\n      <td>...</td>\n      <td>181.0</td>\n      <td>3079.0</td>\n      <td>37.0</td>\n      <td>173.0</td>\n      <td>179.0</td>\n      <td>45.0</td>\n      <td>Below average</td>\n      <td>Below average</td>\n      <td>Below average</td>\n      <td>Average</td>\n    </tr>\n    <tr>\n      <th>2</th>\n      <td>621e2e8e67b776a24055b564</td>\n      <td>2021-06-28</td>\n      <td>Below average</td>\n      <td>Above average</td>\n      <td>34.418045</td>\n      <td>53.006</td>\n      <td>34.617</td>\n      <td>96.1</td>\n      <td>15.6</td>\n      <td>76.0</td>\n      <td>...</td>\n      <td>3190.0</td>\n      <td>191.0</td>\n      <td>23.0</td>\n      <td>95.0</td>\n      <td>23.0</td>\n      <td>36.0</td>\n      <td>Below average</td>\n      <td>Average</td>\n      <td>Below average</td>\n      <td>Below average</td>\n    </tr>\n    <tr>\n      <th>3</th>\n      <td>621e2e8e67b776a24055b564</td>\n      <td>2021-07-19</td>\n      <td>Below average</td>\n      <td>Average</td>\n      <td>34.254286</td>\n      <td>57.330</td>\n      <td>100.374</td>\n      <td>96.1</td>\n      <td>15.0</td>\n      <td>75.0</td>\n      <td>...</td>\n      <td>1001.0</td>\n      <td>2215.0</td>\n      <td>231.0</td>\n      <td>1579.0</td>\n      <td>57.0</td>\n      <td>162.0</td>\n      <td>Below average</td>\n      <td>Above average</td>\n      <td>Below average</td>\n      <td>Average</td>\n    </tr>\n    <tr>\n      <th>4</th>\n      <td>621e2e8e67b776a24055b564</td>\n      <td>2021-07-26</td>\n      <td>Below average</td>\n      <td>Average</td>\n      <td>34.515655</td>\n      <td>59.798</td>\n      <td>98.515</td>\n      <td>96.1</td>\n      <td>15.4</td>\n      <td>74.0</td>\n      <td>...</td>\n      <td>2389.0</td>\n      <td>3393.0</td>\n      <td>162.0</td>\n      <td>62.0</td>\n      <td>15.0</td>\n      <td>151.0</td>\n      <td>Below average</td>\n      <td>Average</td>\n      <td>Below average</td>\n      <td>Above average</td>\n    </tr>\n    <tr>\n      <th>...</th>\n      <td>...</td>\n      <td>...</td>\n      <td>...</td>\n      <td>...</td>\n      <td>...</td>\n      <td>...</td>\n      <td>...</td>\n      <td>...</td>\n      <td>...</td>\n      <td>...</td>\n      <td>...</td>\n      <td>...</td>\n      <td>...</td>\n      <td>...</td>\n      <td>...</td>\n      <td>...</td>\n      <td>...</td>\n      <td>...</td>\n      <td>...</td>\n      <td>...</td>\n      <td>...</td>\n    </tr>\n    <tr>\n      <th>279</th>\n      <td>621e375b67b776a240290cdc</td>\n      <td>2021-06-01</td>\n      <td>Above average</td>\n      <td>Above average</td>\n      <td>34.480120</td>\n      <td>63.323</td>\n      <td>21.579</td>\n      <td>96.1</td>\n      <td>17.4</td>\n      <td>72.0</td>\n      <td>...</td>\n      <td>817.0</td>\n      <td>1384.0</td>\n      <td>2000.0</td>\n      <td>3158.0</td>\n      <td>536.0</td>\n      <td>33.0</td>\n      <td>Above average</td>\n      <td>Above average</td>\n      <td>Above average</td>\n      <td>Below average</td>\n    </tr>\n    <tr>\n      <th>280</th>\n      <td>621e375b67b776a240290cdc</td>\n      <td>2021-06-08</td>\n      <td>Above average</td>\n      <td>Above average</td>\n      <td>34.251482</td>\n      <td>63.730</td>\n      <td>20.485</td>\n      <td>96.1</td>\n      <td>17.0</td>\n      <td>78.0</td>\n      <td>...</td>\n      <td>3403.0</td>\n      <td>6047.0</td>\n      <td>2326.0</td>\n      <td>1469.0</td>\n      <td>1528.0</td>\n      <td>222.0</td>\n      <td>Above average</td>\n      <td>Above average</td>\n      <td>Above average</td>\n      <td>Above average</td>\n    </tr>\n    <tr>\n      <th>281</th>\n      <td>621e375b67b776a240290cdc</td>\n      <td>2021-06-22</td>\n      <td>Above average</td>\n      <td>Above average</td>\n      <td>34.588002</td>\n      <td>65.664</td>\n      <td>19.511</td>\n      <td>96.1</td>\n      <td>17.0</td>\n      <td>80.0</td>\n      <td>...</td>\n      <td>290.0</td>\n      <td>210.0</td>\n      <td>1857.0</td>\n      <td>5394.0</td>\n      <td>2275.0</td>\n      <td>44.0</td>\n      <td>Above average</td>\n      <td>Above average</td>\n      <td>Above average</td>\n      <td>Above average</td>\n    </tr>\n    <tr>\n      <th>282</th>\n      <td>621e375b67b776a240290cdc</td>\n      <td>2021-07-06</td>\n      <td>Above average</td>\n      <td>Above average</td>\n      <td>34.720564</td>\n      <td>60.287</td>\n      <td>23.620</td>\n      <td>96.1</td>\n      <td>17.0</td>\n      <td>75.0</td>\n      <td>...</td>\n      <td>254.0</td>\n      <td>267.0</td>\n      <td>299.0</td>\n      <td>259.0</td>\n      <td>252.0</td>\n      <td>176.0</td>\n      <td>Above average</td>\n      <td>Above average</td>\n      <td>Above average</td>\n      <td>Above average</td>\n    </tr>\n    <tr>\n      <th>283</th>\n      <td>621e375b67b776a240290cdc</td>\n      <td>2021-07-12</td>\n      <td>NaN</td>\n      <td>Above average</td>\n      <td>34.495625</td>\n      <td>64.813</td>\n      <td>21.289</td>\n      <td>96.1</td>\n      <td>17.0</td>\n      <td>74.0</td>\n      <td>...</td>\n      <td>338.0</td>\n      <td>1185.0</td>\n      <td>2885.0</td>\n      <td>4561.0</td>\n      <td>2692.0</td>\n      <td>237.0</td>\n      <td>Above average</td>\n      <td>Above average</td>\n      <td>Above average</td>\n      <td>Above average</td>\n    </tr>\n  </tbody>\n</table>\n<p>284 rows × 128 columns</p>\n</div>"
     },
     "execution_count": 14,
     "metadata": {},
     "output_type": "execute_result"
    }
   ],
   "source": [
    "columns = ['panas-1', 'stai-1', 'panas-2', 'stai-2']\n",
    "for col in columns:\n",
    "    data[col] = data[col].fillna(data[col].mode().iloc[0])\n",
    "data"
   ],
   "metadata": {
    "collapsed": false,
    "pycharm": {
     "name": "#%%\n"
    }
   }
  },
  {
   "cell_type": "code",
   "execution_count": 15,
   "outputs": [],
   "source": [
    "data.to_pickle(\"../data/unified_dataframe/weekly_data_preprocessed.pkl\")"
   ],
   "metadata": {
    "collapsed": false,
    "pycharm": {
     "name": "#%%\n"
    }
   }
  },
  {
   "cell_type": "code",
   "execution_count": null,
   "outputs": [],
   "source": [],
   "metadata": {
    "collapsed": false,
    "pycharm": {
     "name": "#%%\n"
    }
   }
  }
 ],
 "metadata": {
  "kernelspec": {
   "display_name": "Python 3",
   "language": "python",
   "name": "python3"
  },
  "language_info": {
   "codemirror_mode": {
    "name": "ipython",
    "version": 2
   },
   "file_extension": ".py",
   "mimetype": "text/x-python",
   "name": "python",
   "nbconvert_exporter": "python",
   "pygments_lexer": "ipython2",
   "version": "2.7.6"
  }
 },
 "nbformat": 4,
 "nbformat_minor": 0
}