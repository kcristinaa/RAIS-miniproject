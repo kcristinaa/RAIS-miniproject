{
 "cells": [
  {
   "cell_type": "code",
   "execution_count": 1,
   "metadata": {
    "collapsed": true,
    "pycharm": {
     "name": "#%%\n"
    }
   },
   "outputs": [],
   "source": [
    "import pickle\n",
    "import warnings\n",
    "import pandas as pd\n",
    "import preprocessing_functions\n",
    "warnings.filterwarnings(\"ignore\")"
   ]
  },
  {
   "cell_type": "markdown",
   "source": [
    "load the Fitbit data"
   ],
   "metadata": {
    "collapsed": false,
    "pycharm": {
     "name": "#%% md\n"
    }
   }
  },
  {
   "cell_type": "code",
   "execution_count": 7,
   "outputs": [
    {
     "data": {
      "text/plain": "                            id       date  nightly_temperature  nremhr  \\\n0     621e2e8e67b776a24055b564 2021-05-24            34.137687  57.432   \n1     621e2e8e67b776a24055b564 2021-05-25            33.794544  57.681   \n2     621e2e8e67b776a24055b564 2021-05-26            34.611011  57.481   \n3     621e2e8e67b776a24055b564 2021-05-27            34.408304  57.493   \n4     621e2e8e67b776a24055b564 2021-05-28            34.178922  56.750   \n...                        ...        ...                  ...     ...   \n7348  621e375b67b776a240290cdc 2021-08-13                  NaN     NaN   \n7349  621e375b67b776a240290cdc 2021-08-14                  NaN     NaN   \n7350  621e375b67b776a240290cdc 2021-08-15                  NaN     NaN   \n7351  621e375b67b776a240290cdc 2021-08-16                  NaN     NaN   \n7352  621e375b67b776a240290cdc 2021-08-17                  NaN     NaN   \n\n        rmssd  spo2  full_sleep_breathing_rate  stress_score  \\\n0      89.603   NaN                       14.8          78.0   \n1      94.303   NaN                       15.8          80.0   \n2     119.212   NaN                       14.6          84.0   \n3     111.709   NaN                       14.8          82.0   \n4     103.034   NaN                       15.2          81.0   \n...       ...   ...                        ...           ...   \n7348      NaN   NaN                        NaN           NaN   \n7349      NaN   NaN                        NaN           NaN   \n7350      NaN   NaN                        NaN           NaN   \n7351      NaN   NaN                        NaN           NaN   \n7352      NaN   NaN                        NaN           NaN   \n\n      sleep_points_percentage  exertion_points_percentage  ...  \\\n0                    0.833333                       0.675  ...   \n1                    0.833333                       0.725  ...   \n2                    0.966667                       0.725  ...   \n3                    0.933333                       0.725  ...   \n4                    0.866667                       0.725  ...   \n...                       ...                         ...  ...   \n7348                      NaN                         NaN  ...   \n7349                      NaN                         NaN  ...   \n7350                      NaN                         NaN  ...   \n7351                      NaN                         NaN  ...   \n7352                      NaN                         NaN  ...   \n\n      sleep_rem_ratio    steps minutes_in_default_zone_1  \\\n0            1.341772   8833.0                      83.0   \n1            1.197531   9727.0                      56.0   \n2            1.670732   8253.0                      85.0   \n3            1.588235   9015.0                      90.0   \n4            1.090909  12949.0                     146.0   \n...               ...      ...                       ...   \n7348              NaN      NaN                       NaN   \n7349              NaN      NaN                       NaN   \n7350              NaN      NaN                       NaN   \n7351              NaN      NaN                       NaN   \n7352              NaN      NaN                       NaN   \n\n      minutes_below_default_zone_1  minutes_in_default_zone_2  \\\n0                           1349.0                        0.0   \n1                           1374.0                        4.0   \n2                           1350.0                        0.0   \n3                           1282.0                        0.0   \n4                           1274.0                        4.0   \n...                            ...                        ...   \n7348                           NaN                        NaN   \n7349                           NaN                        NaN   \n7350                           NaN                        NaN   \n7351                           NaN                        NaN   \n7352                           NaN                        NaN   \n\n      minutes_in_default_zone_3  age  gender   bmi heart_rate_alert  \n0                           0.0  <30    MALE   <19             None  \n1                           0.0  <30    MALE   <19             None  \n2                           0.0  <30    MALE   <19             None  \n3                           0.0  <30    MALE   <19             None  \n4                           0.0  <30    MALE   <19             None  \n...                         ...  ...     ...   ...              ...  \n7348                        NaN  <30  FEMALE  23.0             None  \n7349                        NaN  <30  FEMALE  23.0             None  \n7350                        NaN  <30  FEMALE  23.0             None  \n7351                        NaN  <30  FEMALE  23.0             None  \n7352                        NaN  <30  FEMALE  23.0             None  \n\n[7353 rows x 44 columns]",
      "text/html": "<div>\n<style scoped>\n    .dataframe tbody tr th:only-of-type {\n        vertical-align: middle;\n    }\n\n    .dataframe tbody tr th {\n        vertical-align: top;\n    }\n\n    .dataframe thead th {\n        text-align: right;\n    }\n</style>\n<table border=\"1\" class=\"dataframe\">\n  <thead>\n    <tr style=\"text-align: right;\">\n      <th></th>\n      <th>id</th>\n      <th>date</th>\n      <th>nightly_temperature</th>\n      <th>nremhr</th>\n      <th>rmssd</th>\n      <th>spo2</th>\n      <th>full_sleep_breathing_rate</th>\n      <th>stress_score</th>\n      <th>sleep_points_percentage</th>\n      <th>exertion_points_percentage</th>\n      <th>...</th>\n      <th>sleep_rem_ratio</th>\n      <th>steps</th>\n      <th>minutes_in_default_zone_1</th>\n      <th>minutes_below_default_zone_1</th>\n      <th>minutes_in_default_zone_2</th>\n      <th>minutes_in_default_zone_3</th>\n      <th>age</th>\n      <th>gender</th>\n      <th>bmi</th>\n      <th>heart_rate_alert</th>\n    </tr>\n  </thead>\n  <tbody>\n    <tr>\n      <th>0</th>\n      <td>621e2e8e67b776a24055b564</td>\n      <td>2021-05-24</td>\n      <td>34.137687</td>\n      <td>57.432</td>\n      <td>89.603</td>\n      <td>NaN</td>\n      <td>14.8</td>\n      <td>78.0</td>\n      <td>0.833333</td>\n      <td>0.675</td>\n      <td>...</td>\n      <td>1.341772</td>\n      <td>8833.0</td>\n      <td>83.0</td>\n      <td>1349.0</td>\n      <td>0.0</td>\n      <td>0.0</td>\n      <td>&lt;30</td>\n      <td>MALE</td>\n      <td>&lt;19</td>\n      <td>None</td>\n    </tr>\n    <tr>\n      <th>1</th>\n      <td>621e2e8e67b776a24055b564</td>\n      <td>2021-05-25</td>\n      <td>33.794544</td>\n      <td>57.681</td>\n      <td>94.303</td>\n      <td>NaN</td>\n      <td>15.8</td>\n      <td>80.0</td>\n      <td>0.833333</td>\n      <td>0.725</td>\n      <td>...</td>\n      <td>1.197531</td>\n      <td>9727.0</td>\n      <td>56.0</td>\n      <td>1374.0</td>\n      <td>4.0</td>\n      <td>0.0</td>\n      <td>&lt;30</td>\n      <td>MALE</td>\n      <td>&lt;19</td>\n      <td>None</td>\n    </tr>\n    <tr>\n      <th>2</th>\n      <td>621e2e8e67b776a24055b564</td>\n      <td>2021-05-26</td>\n      <td>34.611011</td>\n      <td>57.481</td>\n      <td>119.212</td>\n      <td>NaN</td>\n      <td>14.6</td>\n      <td>84.0</td>\n      <td>0.966667</td>\n      <td>0.725</td>\n      <td>...</td>\n      <td>1.670732</td>\n      <td>8253.0</td>\n      <td>85.0</td>\n      <td>1350.0</td>\n      <td>0.0</td>\n      <td>0.0</td>\n      <td>&lt;30</td>\n      <td>MALE</td>\n      <td>&lt;19</td>\n      <td>None</td>\n    </tr>\n    <tr>\n      <th>3</th>\n      <td>621e2e8e67b776a24055b564</td>\n      <td>2021-05-27</td>\n      <td>34.408304</td>\n      <td>57.493</td>\n      <td>111.709</td>\n      <td>NaN</td>\n      <td>14.8</td>\n      <td>82.0</td>\n      <td>0.933333</td>\n      <td>0.725</td>\n      <td>...</td>\n      <td>1.588235</td>\n      <td>9015.0</td>\n      <td>90.0</td>\n      <td>1282.0</td>\n      <td>0.0</td>\n      <td>0.0</td>\n      <td>&lt;30</td>\n      <td>MALE</td>\n      <td>&lt;19</td>\n      <td>None</td>\n    </tr>\n    <tr>\n      <th>4</th>\n      <td>621e2e8e67b776a24055b564</td>\n      <td>2021-05-28</td>\n      <td>34.178922</td>\n      <td>56.750</td>\n      <td>103.034</td>\n      <td>NaN</td>\n      <td>15.2</td>\n      <td>81.0</td>\n      <td>0.866667</td>\n      <td>0.725</td>\n      <td>...</td>\n      <td>1.090909</td>\n      <td>12949.0</td>\n      <td>146.0</td>\n      <td>1274.0</td>\n      <td>4.0</td>\n      <td>0.0</td>\n      <td>&lt;30</td>\n      <td>MALE</td>\n      <td>&lt;19</td>\n      <td>None</td>\n    </tr>\n    <tr>\n      <th>...</th>\n      <td>...</td>\n      <td>...</td>\n      <td>...</td>\n      <td>...</td>\n      <td>...</td>\n      <td>...</td>\n      <td>...</td>\n      <td>...</td>\n      <td>...</td>\n      <td>...</td>\n      <td>...</td>\n      <td>...</td>\n      <td>...</td>\n      <td>...</td>\n      <td>...</td>\n      <td>...</td>\n      <td>...</td>\n      <td>...</td>\n      <td>...</td>\n      <td>...</td>\n      <td>...</td>\n    </tr>\n    <tr>\n      <th>7348</th>\n      <td>621e375b67b776a240290cdc</td>\n      <td>2021-08-13</td>\n      <td>NaN</td>\n      <td>NaN</td>\n      <td>NaN</td>\n      <td>NaN</td>\n      <td>NaN</td>\n      <td>NaN</td>\n      <td>NaN</td>\n      <td>NaN</td>\n      <td>...</td>\n      <td>NaN</td>\n      <td>NaN</td>\n      <td>NaN</td>\n      <td>NaN</td>\n      <td>NaN</td>\n      <td>NaN</td>\n      <td>&lt;30</td>\n      <td>FEMALE</td>\n      <td>23.0</td>\n      <td>None</td>\n    </tr>\n    <tr>\n      <th>7349</th>\n      <td>621e375b67b776a240290cdc</td>\n      <td>2021-08-14</td>\n      <td>NaN</td>\n      <td>NaN</td>\n      <td>NaN</td>\n      <td>NaN</td>\n      <td>NaN</td>\n      <td>NaN</td>\n      <td>NaN</td>\n      <td>NaN</td>\n      <td>...</td>\n      <td>NaN</td>\n      <td>NaN</td>\n      <td>NaN</td>\n      <td>NaN</td>\n      <td>NaN</td>\n      <td>NaN</td>\n      <td>&lt;30</td>\n      <td>FEMALE</td>\n      <td>23.0</td>\n      <td>None</td>\n    </tr>\n    <tr>\n      <th>7350</th>\n      <td>621e375b67b776a240290cdc</td>\n      <td>2021-08-15</td>\n      <td>NaN</td>\n      <td>NaN</td>\n      <td>NaN</td>\n      <td>NaN</td>\n      <td>NaN</td>\n      <td>NaN</td>\n      <td>NaN</td>\n      <td>NaN</td>\n      <td>...</td>\n      <td>NaN</td>\n      <td>NaN</td>\n      <td>NaN</td>\n      <td>NaN</td>\n      <td>NaN</td>\n      <td>NaN</td>\n      <td>&lt;30</td>\n      <td>FEMALE</td>\n      <td>23.0</td>\n      <td>None</td>\n    </tr>\n    <tr>\n      <th>7351</th>\n      <td>621e375b67b776a240290cdc</td>\n      <td>2021-08-16</td>\n      <td>NaN</td>\n      <td>NaN</td>\n      <td>NaN</td>\n      <td>NaN</td>\n      <td>NaN</td>\n      <td>NaN</td>\n      <td>NaN</td>\n      <td>NaN</td>\n      <td>...</td>\n      <td>NaN</td>\n      <td>NaN</td>\n      <td>NaN</td>\n      <td>NaN</td>\n      <td>NaN</td>\n      <td>NaN</td>\n      <td>&lt;30</td>\n      <td>FEMALE</td>\n      <td>23.0</td>\n      <td>None</td>\n    </tr>\n    <tr>\n      <th>7352</th>\n      <td>621e375b67b776a240290cdc</td>\n      <td>2021-08-17</td>\n      <td>NaN</td>\n      <td>NaN</td>\n      <td>NaN</td>\n      <td>NaN</td>\n      <td>NaN</td>\n      <td>NaN</td>\n      <td>NaN</td>\n      <td>NaN</td>\n      <td>...</td>\n      <td>NaN</td>\n      <td>NaN</td>\n      <td>NaN</td>\n      <td>NaN</td>\n      <td>NaN</td>\n      <td>NaN</td>\n      <td>&lt;30</td>\n      <td>FEMALE</td>\n      <td>23.0</td>\n      <td>None</td>\n    </tr>\n  </tbody>\n</table>\n<p>7353 rows × 44 columns</p>\n</div>"
     },
     "execution_count": 7,
     "metadata": {},
     "output_type": "execute_result"
    }
   ],
   "source": [
    "fitbit = pd.read_pickle('../data/daily_fitbit_df_unprocessed.pkl')\n",
    "fitbit"
   ],
   "metadata": {
    "collapsed": false,
    "pycharm": {
     "name": "#%%\n"
    }
   }
  },
  {
   "cell_type": "markdown",
   "source": [
    "# Fitbit Basic Preprocessing\n",
    "1. Select the experiment days\n",
    "2. Drop duplicates\n",
    "3. Convert data types falsely described as categorical"
   ],
   "metadata": {
    "collapsed": false,
    "pycharm": {
     "name": "#%% md\n"
    }
   }
  },
  {
   "cell_type": "code",
   "execution_count": 8,
   "outputs": [
    {
     "data": {
      "text/plain": "                            id       date  nightly_temperature  nremhr  \\\n0     621e2e8e67b776a24055b564 2021-05-24            34.137687  57.432   \n1     621e301e67b776a240608a72 2021-05-24            34.710232     NaN   \n2     621e301367b776a24057738e 2021-05-24                  NaN     NaN   \n3     621e360b67b776a24039709f 2021-05-24                  NaN  68.321   \n4     621e2fce67b776a240279baa 2021-05-24            34.783747  83.170   \n...                        ...        ...                  ...     ...   \n4902  621e30e267b776a240e5bf90 2022-01-17                  NaN     NaN   \n4903  621e322367b776a240e44e9b 2022-01-17                  NaN     NaN   \n4904  621e300767b776a2404dc717 2022-01-17            33.186399     NaN   \n4905  621e2f1b67b776a240b3d87c 2022-01-17            34.404580  65.782   \n4906  621e331067b776a24085dd3f 2022-01-17                  NaN     NaN   \n\n       rmssd  spo2  full_sleep_breathing_rate  stress_score  \\\n0     89.603   NaN                       14.8          78.0   \n1        NaN   NaN                        NaN          74.0   \n2        NaN   NaN                        NaN           NaN   \n3     31.413   NaN                       15.4          69.0   \n4     15.941  96.6                       15.2          70.0   \n...      ...   ...                        ...           ...   \n4902     NaN   NaN                        NaN           NaN   \n4903     NaN   NaN                        NaN           NaN   \n4904     NaN   NaN                        NaN           NaN   \n4905  23.793   NaN                       16.0          72.0   \n4906     NaN   NaN                        NaN           NaN   \n\n      sleep_points_percentage  exertion_points_percentage  ...  \\\n0                    0.833333                       0.675  ...   \n1                    0.700000                       0.700  ...   \n2                         NaN                         NaN  ...   \n3                    0.633333                       0.650  ...   \n4                    0.733333                       0.725  ...   \n...                       ...                         ...  ...   \n4902                      NaN                         NaN  ...   \n4903                      NaN                         NaN  ...   \n4904                      NaN                         NaN  ...   \n4905                 0.766667                       0.725  ...   \n4906                      NaN                         NaN  ...   \n\n      sleep_rem_ratio    steps minutes_in_default_zone_1  \\\n0            1.341772   8833.0                      83.0   \n1            0.922222  12441.0                     164.0   \n2                 NaN   7279.0                      32.0   \n3                 NaN   7493.0                     127.0   \n4            0.663717   3317.0                     701.0   \n...               ...      ...                       ...   \n4902              NaN      NaN                       NaN   \n4903              NaN      NaN                       NaN   \n4904         0.742857   2223.0                      19.0   \n4905         0.774194   8213.0                     320.0   \n4906              NaN      NaN                       NaN   \n\n      minutes_below_default_zone_1  minutes_in_default_zone_2  \\\n0                           1349.0                        0.0   \n1                            997.0                       49.0   \n2                            236.0                       30.0   \n3                           1306.0                        7.0   \n4                            735.0                        0.0   \n...                            ...                        ...   \n4902                           NaN                        NaN   \n4903                           NaN                        NaN   \n4904                        1380.0                        4.0   \n4905                        1004.0                       20.0   \n4906                           NaN                        NaN   \n\n      minutes_in_default_zone_3   age  gender   bmi  heart_rate_alert  \n0                           0.0   <30    MALE   <19              None  \n1                           0.0   <30  FEMALE  19.0              None  \n2                           0.0  >=30    MALE  23.0              None  \n3                           0.0  >=30  FEMALE   <19              None  \n4                           0.0   <30    MALE  24.0              None  \n...                         ...   ...     ...   ...               ...  \n4902                        NaN   <30    MALE  >=30              None  \n4903                        NaN  >=30    MALE  27.0              None  \n4904                        0.0   <30    MALE  29.0              None  \n4905                        0.0  >=30  FEMALE  22.0              None  \n4906                        NaN  >=30  FEMALE  21.0              None  \n\n[4907 rows x 44 columns]",
      "text/html": "<div>\n<style scoped>\n    .dataframe tbody tr th:only-of-type {\n        vertical-align: middle;\n    }\n\n    .dataframe tbody tr th {\n        vertical-align: top;\n    }\n\n    .dataframe thead th {\n        text-align: right;\n    }\n</style>\n<table border=\"1\" class=\"dataframe\">\n  <thead>\n    <tr style=\"text-align: right;\">\n      <th></th>\n      <th>id</th>\n      <th>date</th>\n      <th>nightly_temperature</th>\n      <th>nremhr</th>\n      <th>rmssd</th>\n      <th>spo2</th>\n      <th>full_sleep_breathing_rate</th>\n      <th>stress_score</th>\n      <th>sleep_points_percentage</th>\n      <th>exertion_points_percentage</th>\n      <th>...</th>\n      <th>sleep_rem_ratio</th>\n      <th>steps</th>\n      <th>minutes_in_default_zone_1</th>\n      <th>minutes_below_default_zone_1</th>\n      <th>minutes_in_default_zone_2</th>\n      <th>minutes_in_default_zone_3</th>\n      <th>age</th>\n      <th>gender</th>\n      <th>bmi</th>\n      <th>heart_rate_alert</th>\n    </tr>\n  </thead>\n  <tbody>\n    <tr>\n      <th>0</th>\n      <td>621e2e8e67b776a24055b564</td>\n      <td>2021-05-24</td>\n      <td>34.137687</td>\n      <td>57.432</td>\n      <td>89.603</td>\n      <td>NaN</td>\n      <td>14.8</td>\n      <td>78.0</td>\n      <td>0.833333</td>\n      <td>0.675</td>\n      <td>...</td>\n      <td>1.341772</td>\n      <td>8833.0</td>\n      <td>83.0</td>\n      <td>1349.0</td>\n      <td>0.0</td>\n      <td>0.0</td>\n      <td>&lt;30</td>\n      <td>MALE</td>\n      <td>&lt;19</td>\n      <td>None</td>\n    </tr>\n    <tr>\n      <th>1</th>\n      <td>621e301e67b776a240608a72</td>\n      <td>2021-05-24</td>\n      <td>34.710232</td>\n      <td>NaN</td>\n      <td>NaN</td>\n      <td>NaN</td>\n      <td>NaN</td>\n      <td>74.0</td>\n      <td>0.700000</td>\n      <td>0.700</td>\n      <td>...</td>\n      <td>0.922222</td>\n      <td>12441.0</td>\n      <td>164.0</td>\n      <td>997.0</td>\n      <td>49.0</td>\n      <td>0.0</td>\n      <td>&lt;30</td>\n      <td>FEMALE</td>\n      <td>19.0</td>\n      <td>None</td>\n    </tr>\n    <tr>\n      <th>2</th>\n      <td>621e301367b776a24057738e</td>\n      <td>2021-05-24</td>\n      <td>NaN</td>\n      <td>NaN</td>\n      <td>NaN</td>\n      <td>NaN</td>\n      <td>NaN</td>\n      <td>NaN</td>\n      <td>NaN</td>\n      <td>NaN</td>\n      <td>...</td>\n      <td>NaN</td>\n      <td>7279.0</td>\n      <td>32.0</td>\n      <td>236.0</td>\n      <td>30.0</td>\n      <td>0.0</td>\n      <td>&gt;=30</td>\n      <td>MALE</td>\n      <td>23.0</td>\n      <td>None</td>\n    </tr>\n    <tr>\n      <th>3</th>\n      <td>621e360b67b776a24039709f</td>\n      <td>2021-05-24</td>\n      <td>NaN</td>\n      <td>68.321</td>\n      <td>31.413</td>\n      <td>NaN</td>\n      <td>15.4</td>\n      <td>69.0</td>\n      <td>0.633333</td>\n      <td>0.650</td>\n      <td>...</td>\n      <td>NaN</td>\n      <td>7493.0</td>\n      <td>127.0</td>\n      <td>1306.0</td>\n      <td>7.0</td>\n      <td>0.0</td>\n      <td>&gt;=30</td>\n      <td>FEMALE</td>\n      <td>&lt;19</td>\n      <td>None</td>\n    </tr>\n    <tr>\n      <th>4</th>\n      <td>621e2fce67b776a240279baa</td>\n      <td>2021-05-24</td>\n      <td>34.783747</td>\n      <td>83.170</td>\n      <td>15.941</td>\n      <td>96.6</td>\n      <td>15.2</td>\n      <td>70.0</td>\n      <td>0.733333</td>\n      <td>0.725</td>\n      <td>...</td>\n      <td>0.663717</td>\n      <td>3317.0</td>\n      <td>701.0</td>\n      <td>735.0</td>\n      <td>0.0</td>\n      <td>0.0</td>\n      <td>&lt;30</td>\n      <td>MALE</td>\n      <td>24.0</td>\n      <td>None</td>\n    </tr>\n    <tr>\n      <th>...</th>\n      <td>...</td>\n      <td>...</td>\n      <td>...</td>\n      <td>...</td>\n      <td>...</td>\n      <td>...</td>\n      <td>...</td>\n      <td>...</td>\n      <td>...</td>\n      <td>...</td>\n      <td>...</td>\n      <td>...</td>\n      <td>...</td>\n      <td>...</td>\n      <td>...</td>\n      <td>...</td>\n      <td>...</td>\n      <td>...</td>\n      <td>...</td>\n      <td>...</td>\n      <td>...</td>\n    </tr>\n    <tr>\n      <th>4902</th>\n      <td>621e30e267b776a240e5bf90</td>\n      <td>2022-01-17</td>\n      <td>NaN</td>\n      <td>NaN</td>\n      <td>NaN</td>\n      <td>NaN</td>\n      <td>NaN</td>\n      <td>NaN</td>\n      <td>NaN</td>\n      <td>NaN</td>\n      <td>...</td>\n      <td>NaN</td>\n      <td>NaN</td>\n      <td>NaN</td>\n      <td>NaN</td>\n      <td>NaN</td>\n      <td>NaN</td>\n      <td>&lt;30</td>\n      <td>MALE</td>\n      <td>&gt;=30</td>\n      <td>None</td>\n    </tr>\n    <tr>\n      <th>4903</th>\n      <td>621e322367b776a240e44e9b</td>\n      <td>2022-01-17</td>\n      <td>NaN</td>\n      <td>NaN</td>\n      <td>NaN</td>\n      <td>NaN</td>\n      <td>NaN</td>\n      <td>NaN</td>\n      <td>NaN</td>\n      <td>NaN</td>\n      <td>...</td>\n      <td>NaN</td>\n      <td>NaN</td>\n      <td>NaN</td>\n      <td>NaN</td>\n      <td>NaN</td>\n      <td>NaN</td>\n      <td>&gt;=30</td>\n      <td>MALE</td>\n      <td>27.0</td>\n      <td>None</td>\n    </tr>\n    <tr>\n      <th>4904</th>\n      <td>621e300767b776a2404dc717</td>\n      <td>2022-01-17</td>\n      <td>33.186399</td>\n      <td>NaN</td>\n      <td>NaN</td>\n      <td>NaN</td>\n      <td>NaN</td>\n      <td>NaN</td>\n      <td>NaN</td>\n      <td>NaN</td>\n      <td>...</td>\n      <td>0.742857</td>\n      <td>2223.0</td>\n      <td>19.0</td>\n      <td>1380.0</td>\n      <td>4.0</td>\n      <td>0.0</td>\n      <td>&lt;30</td>\n      <td>MALE</td>\n      <td>29.0</td>\n      <td>None</td>\n    </tr>\n    <tr>\n      <th>4905</th>\n      <td>621e2f1b67b776a240b3d87c</td>\n      <td>2022-01-17</td>\n      <td>34.404580</td>\n      <td>65.782</td>\n      <td>23.793</td>\n      <td>NaN</td>\n      <td>16.0</td>\n      <td>72.0</td>\n      <td>0.766667</td>\n      <td>0.725</td>\n      <td>...</td>\n      <td>0.774194</td>\n      <td>8213.0</td>\n      <td>320.0</td>\n      <td>1004.0</td>\n      <td>20.0</td>\n      <td>0.0</td>\n      <td>&gt;=30</td>\n      <td>FEMALE</td>\n      <td>22.0</td>\n      <td>None</td>\n    </tr>\n    <tr>\n      <th>4906</th>\n      <td>621e331067b776a24085dd3f</td>\n      <td>2022-01-17</td>\n      <td>NaN</td>\n      <td>NaN</td>\n      <td>NaN</td>\n      <td>NaN</td>\n      <td>NaN</td>\n      <td>NaN</td>\n      <td>NaN</td>\n      <td>NaN</td>\n      <td>...</td>\n      <td>NaN</td>\n      <td>NaN</td>\n      <td>NaN</td>\n      <td>NaN</td>\n      <td>NaN</td>\n      <td>NaN</td>\n      <td>&gt;=30</td>\n      <td>FEMALE</td>\n      <td>21.0</td>\n      <td>None</td>\n    </tr>\n  </tbody>\n</table>\n<p>4907 rows × 44 columns</p>\n</div>"
     },
     "execution_count": 8,
     "metadata": {},
     "output_type": "execute_result"
    }
   ],
   "source": [
    "data = preprocessing_functions.fitbit_basic_preprocessing(fitbit)\n",
    "data[\"date\"] = pd.to_datetime(pd.to_datetime(data[\"date\"]).dt.date)\n",
    "data"
   ],
   "metadata": {
    "collapsed": false,
    "pycharm": {
     "name": "#%%\n"
    }
   }
  },
  {
   "cell_type": "code",
   "execution_count": 9,
   "outputs": [],
   "source": [
    "# # read intra-day data from Mongo\n",
    "# data = preprocessing_functions.fitbit_intraday_sleep(data, 'rais')\n",
    "# data"
   ],
   "metadata": {
    "collapsed": false,
    "pycharm": {
     "name": "#%%\n"
    }
   }
  },
  {
   "cell_type": "markdown",
   "source": [
    "## One hot encoding"
   ],
   "metadata": {
    "collapsed": false,
    "pycharm": {
     "name": "#%% md\n"
    }
   }
  },
  {
   "cell_type": "code",
   "execution_count": 10,
   "outputs": [
    {
     "data": {
      "text/plain": "                            id       date  nightly_temperature  nremhr  \\\n0     621e2e8e67b776a24055b564 2021-05-24            34.137687  57.432   \n1     621e301e67b776a240608a72 2021-05-24            34.710232     NaN   \n2     621e301367b776a24057738e 2021-05-24                  NaN     NaN   \n3     621e360b67b776a24039709f 2021-05-24                  NaN  68.321   \n4     621e2fce67b776a240279baa 2021-05-24            34.783747  83.170   \n...                        ...        ...                  ...     ...   \n4902  621e30e267b776a240e5bf90 2022-01-17                  NaN     NaN   \n4903  621e322367b776a240e44e9b 2022-01-17                  NaN     NaN   \n4904  621e300767b776a2404dc717 2022-01-17            33.186399     NaN   \n4905  621e2f1b67b776a240b3d87c 2022-01-17            34.404580  65.782   \n4906  621e331067b776a24085dd3f 2022-01-17                  NaN     NaN   \n\n       rmssd  spo2  full_sleep_breathing_rate  stress_score  \\\n0     89.603   NaN                       14.8          78.0   \n1        NaN   NaN                        NaN          74.0   \n2        NaN   NaN                        NaN           NaN   \n3     31.413   NaN                       15.4          69.0   \n4     15.941  96.6                       15.2          70.0   \n...      ...   ...                        ...           ...   \n4902     NaN   NaN                        NaN           NaN   \n4903     NaN   NaN                        NaN           NaN   \n4904     NaN   NaN                        NaN           NaN   \n4905  23.793   NaN                       16.0          72.0   \n4906     NaN   NaN                        NaN           NaN   \n\n      sleep_points_percentage  exertion_points_percentage  ...  Martial Arts  \\\n0                    0.833333                       0.675  ...           0.0   \n1                    0.700000                       0.700  ...           NaN   \n2                         NaN                         NaN  ...           0.0   \n3                    0.633333                       0.650  ...           NaN   \n4                    0.733333                       0.725  ...           NaN   \n...                       ...                         ...  ...           ...   \n4902                      NaN                         NaN  ...           NaN   \n4903                      NaN                         NaN  ...           NaN   \n4904                      NaN                         NaN  ...           NaN   \n4905                 0.766667                       0.725  ...           NaN   \n4906                      NaN                         NaN  ...           NaN   \n\n      Run  Spinning  Sport  Swim  Treadmill  Walk  Weights  Workout  \\\n0     0.0       0.0    0.0   0.0        0.0   1.0      0.0      0.0   \n1     NaN       NaN    NaN   NaN        NaN   NaN      NaN      NaN   \n2     1.0       0.0    0.0   0.0        0.0   0.0      0.0      0.0   \n3     NaN       NaN    NaN   NaN        NaN   NaN      NaN      NaN   \n4     NaN       NaN    NaN   NaN        NaN   NaN      NaN      NaN   \n...   ...       ...    ...   ...        ...   ...      ...      ...   \n4902  NaN       NaN    NaN   NaN        NaN   NaN      NaN      NaN   \n4903  NaN       NaN    NaN   NaN        NaN   NaN      NaN      NaN   \n4904  NaN       NaN    NaN   NaN        NaN   NaN      NaN      NaN   \n4905  NaN       NaN    NaN   NaN        NaN   NaN      NaN      NaN   \n4906  NaN       NaN    NaN   NaN        NaN   NaN      NaN      NaN   \n\n      Yoga/Pilates  \n0              0.0  \n1              NaN  \n2              0.0  \n3              NaN  \n4              NaN  \n...            ...  \n4902           NaN  \n4903           NaN  \n4904           NaN  \n4905           NaN  \n4906           NaN  \n\n[4907 rows x 65 columns]",
      "text/html": "<div>\n<style scoped>\n    .dataframe tbody tr th:only-of-type {\n        vertical-align: middle;\n    }\n\n    .dataframe tbody tr th {\n        vertical-align: top;\n    }\n\n    .dataframe thead th {\n        text-align: right;\n    }\n</style>\n<table border=\"1\" class=\"dataframe\">\n  <thead>\n    <tr style=\"text-align: right;\">\n      <th></th>\n      <th>id</th>\n      <th>date</th>\n      <th>nightly_temperature</th>\n      <th>nremhr</th>\n      <th>rmssd</th>\n      <th>spo2</th>\n      <th>full_sleep_breathing_rate</th>\n      <th>stress_score</th>\n      <th>sleep_points_percentage</th>\n      <th>exertion_points_percentage</th>\n      <th>...</th>\n      <th>Martial Arts</th>\n      <th>Run</th>\n      <th>Spinning</th>\n      <th>Sport</th>\n      <th>Swim</th>\n      <th>Treadmill</th>\n      <th>Walk</th>\n      <th>Weights</th>\n      <th>Workout</th>\n      <th>Yoga/Pilates</th>\n    </tr>\n  </thead>\n  <tbody>\n    <tr>\n      <th>0</th>\n      <td>621e2e8e67b776a24055b564</td>\n      <td>2021-05-24</td>\n      <td>34.137687</td>\n      <td>57.432</td>\n      <td>89.603</td>\n      <td>NaN</td>\n      <td>14.8</td>\n      <td>78.0</td>\n      <td>0.833333</td>\n      <td>0.675</td>\n      <td>...</td>\n      <td>0.0</td>\n      <td>0.0</td>\n      <td>0.0</td>\n      <td>0.0</td>\n      <td>0.0</td>\n      <td>0.0</td>\n      <td>1.0</td>\n      <td>0.0</td>\n      <td>0.0</td>\n      <td>0.0</td>\n    </tr>\n    <tr>\n      <th>1</th>\n      <td>621e301e67b776a240608a72</td>\n      <td>2021-05-24</td>\n      <td>34.710232</td>\n      <td>NaN</td>\n      <td>NaN</td>\n      <td>NaN</td>\n      <td>NaN</td>\n      <td>74.0</td>\n      <td>0.700000</td>\n      <td>0.700</td>\n      <td>...</td>\n      <td>NaN</td>\n      <td>NaN</td>\n      <td>NaN</td>\n      <td>NaN</td>\n      <td>NaN</td>\n      <td>NaN</td>\n      <td>NaN</td>\n      <td>NaN</td>\n      <td>NaN</td>\n      <td>NaN</td>\n    </tr>\n    <tr>\n      <th>2</th>\n      <td>621e301367b776a24057738e</td>\n      <td>2021-05-24</td>\n      <td>NaN</td>\n      <td>NaN</td>\n      <td>NaN</td>\n      <td>NaN</td>\n      <td>NaN</td>\n      <td>NaN</td>\n      <td>NaN</td>\n      <td>NaN</td>\n      <td>...</td>\n      <td>0.0</td>\n      <td>1.0</td>\n      <td>0.0</td>\n      <td>0.0</td>\n      <td>0.0</td>\n      <td>0.0</td>\n      <td>0.0</td>\n      <td>0.0</td>\n      <td>0.0</td>\n      <td>0.0</td>\n    </tr>\n    <tr>\n      <th>3</th>\n      <td>621e360b67b776a24039709f</td>\n      <td>2021-05-24</td>\n      <td>NaN</td>\n      <td>68.321</td>\n      <td>31.413</td>\n      <td>NaN</td>\n      <td>15.4</td>\n      <td>69.0</td>\n      <td>0.633333</td>\n      <td>0.650</td>\n      <td>...</td>\n      <td>NaN</td>\n      <td>NaN</td>\n      <td>NaN</td>\n      <td>NaN</td>\n      <td>NaN</td>\n      <td>NaN</td>\n      <td>NaN</td>\n      <td>NaN</td>\n      <td>NaN</td>\n      <td>NaN</td>\n    </tr>\n    <tr>\n      <th>4</th>\n      <td>621e2fce67b776a240279baa</td>\n      <td>2021-05-24</td>\n      <td>34.783747</td>\n      <td>83.170</td>\n      <td>15.941</td>\n      <td>96.6</td>\n      <td>15.2</td>\n      <td>70.0</td>\n      <td>0.733333</td>\n      <td>0.725</td>\n      <td>...</td>\n      <td>NaN</td>\n      <td>NaN</td>\n      <td>NaN</td>\n      <td>NaN</td>\n      <td>NaN</td>\n      <td>NaN</td>\n      <td>NaN</td>\n      <td>NaN</td>\n      <td>NaN</td>\n      <td>NaN</td>\n    </tr>\n    <tr>\n      <th>...</th>\n      <td>...</td>\n      <td>...</td>\n      <td>...</td>\n      <td>...</td>\n      <td>...</td>\n      <td>...</td>\n      <td>...</td>\n      <td>...</td>\n      <td>...</td>\n      <td>...</td>\n      <td>...</td>\n      <td>...</td>\n      <td>...</td>\n      <td>...</td>\n      <td>...</td>\n      <td>...</td>\n      <td>...</td>\n      <td>...</td>\n      <td>...</td>\n      <td>...</td>\n      <td>...</td>\n    </tr>\n    <tr>\n      <th>4902</th>\n      <td>621e30e267b776a240e5bf90</td>\n      <td>2022-01-17</td>\n      <td>NaN</td>\n      <td>NaN</td>\n      <td>NaN</td>\n      <td>NaN</td>\n      <td>NaN</td>\n      <td>NaN</td>\n      <td>NaN</td>\n      <td>NaN</td>\n      <td>...</td>\n      <td>NaN</td>\n      <td>NaN</td>\n      <td>NaN</td>\n      <td>NaN</td>\n      <td>NaN</td>\n      <td>NaN</td>\n      <td>NaN</td>\n      <td>NaN</td>\n      <td>NaN</td>\n      <td>NaN</td>\n    </tr>\n    <tr>\n      <th>4903</th>\n      <td>621e322367b776a240e44e9b</td>\n      <td>2022-01-17</td>\n      <td>NaN</td>\n      <td>NaN</td>\n      <td>NaN</td>\n      <td>NaN</td>\n      <td>NaN</td>\n      <td>NaN</td>\n      <td>NaN</td>\n      <td>NaN</td>\n      <td>...</td>\n      <td>NaN</td>\n      <td>NaN</td>\n      <td>NaN</td>\n      <td>NaN</td>\n      <td>NaN</td>\n      <td>NaN</td>\n      <td>NaN</td>\n      <td>NaN</td>\n      <td>NaN</td>\n      <td>NaN</td>\n    </tr>\n    <tr>\n      <th>4904</th>\n      <td>621e300767b776a2404dc717</td>\n      <td>2022-01-17</td>\n      <td>33.186399</td>\n      <td>NaN</td>\n      <td>NaN</td>\n      <td>NaN</td>\n      <td>NaN</td>\n      <td>NaN</td>\n      <td>NaN</td>\n      <td>NaN</td>\n      <td>...</td>\n      <td>NaN</td>\n      <td>NaN</td>\n      <td>NaN</td>\n      <td>NaN</td>\n      <td>NaN</td>\n      <td>NaN</td>\n      <td>NaN</td>\n      <td>NaN</td>\n      <td>NaN</td>\n      <td>NaN</td>\n    </tr>\n    <tr>\n      <th>4905</th>\n      <td>621e2f1b67b776a240b3d87c</td>\n      <td>2022-01-17</td>\n      <td>34.404580</td>\n      <td>65.782</td>\n      <td>23.793</td>\n      <td>NaN</td>\n      <td>16.0</td>\n      <td>72.0</td>\n      <td>0.766667</td>\n      <td>0.725</td>\n      <td>...</td>\n      <td>NaN</td>\n      <td>NaN</td>\n      <td>NaN</td>\n      <td>NaN</td>\n      <td>NaN</td>\n      <td>NaN</td>\n      <td>NaN</td>\n      <td>NaN</td>\n      <td>NaN</td>\n      <td>NaN</td>\n    </tr>\n    <tr>\n      <th>4906</th>\n      <td>621e331067b776a24085dd3f</td>\n      <td>2022-01-17</td>\n      <td>NaN</td>\n      <td>NaN</td>\n      <td>NaN</td>\n      <td>NaN</td>\n      <td>NaN</td>\n      <td>NaN</td>\n      <td>NaN</td>\n      <td>NaN</td>\n      <td>...</td>\n      <td>NaN</td>\n      <td>NaN</td>\n      <td>NaN</td>\n      <td>NaN</td>\n      <td>NaN</td>\n      <td>NaN</td>\n      <td>NaN</td>\n      <td>NaN</td>\n      <td>NaN</td>\n      <td>NaN</td>\n    </tr>\n  </tbody>\n</table>\n<p>4907 rows × 65 columns</p>\n</div>"
     },
     "execution_count": 10,
     "metadata": {},
     "output_type": "execute_result"
    }
   ],
   "source": [
    "data = preprocessing_functions.one_hot_encoding(data)\n",
    "data"
   ],
   "metadata": {
    "collapsed": false,
    "pycharm": {
     "name": "#%%\n"
    }
   }
  },
  {
   "cell_type": "code",
   "execution_count": 11,
   "outputs": [],
   "source": [
    "data.to_pickle('../data/weekly_temp.pkl')"
   ],
   "metadata": {
    "collapsed": false,
    "pycharm": {
     "name": "#%%\n"
    }
   }
  },
  {
   "cell_type": "code",
   "execution_count": 2,
   "outputs": [],
   "source": [
    "data = pd.read_pickle('../data/weekly_temp.pkl')"
   ],
   "metadata": {
    "collapsed": false,
    "pycharm": {
     "name": "#%%\n"
    }
   }
  },
  {
   "cell_type": "markdown",
   "source": [
    "# Merge fitbit data with stai and panas"
   ],
   "metadata": {
    "collapsed": false,
    "pycharm": {
     "name": "#%% md\n"
    }
   }
  },
  {
   "cell_type": "markdown",
   "source": [
    "## stai"
   ],
   "metadata": {
    "collapsed": false,
    "pycharm": {
     "name": "#%% md\n"
    }
   }
  },
  {
   "cell_type": "code",
   "execution_count": 3,
   "outputs": [
    {
     "data": {
      "text/plain": "                          id       date label_stai_stress_category\n0   621e2e8e67b776a24055b564 2021-05-31              Below average\n0   621e328667b776a240281372 2021-05-31                    Average\n0   621e329067b776a2402ffad2 2021-05-31              Above average\n3   621e30e467b776a240e817c7 2021-05-31              Above average\n4   621e32af67b776a24045b4cf 2021-05-31              Above average\n..                       ...        ...                        ...\n2   621e346f67b776a24081744f 2022-01-12                    Average\n4   621e2f9167b776a240011ccb 2022-01-16              Above average\n1   621e367e67b776a24087d75d 2022-01-17                    Average\n6   621e324e67b776a2400191cb 2022-01-17              Above average\n1   621e32e667b776a2406d2f1c 2022-01-25              Above average\n\n[279 rows x 3 columns]",
      "text/html": "<div>\n<style scoped>\n    .dataframe tbody tr th:only-of-type {\n        vertical-align: middle;\n    }\n\n    .dataframe tbody tr th {\n        vertical-align: top;\n    }\n\n    .dataframe thead th {\n        text-align: right;\n    }\n</style>\n<table border=\"1\" class=\"dataframe\">\n  <thead>\n    <tr style=\"text-align: right;\">\n      <th></th>\n      <th>id</th>\n      <th>date</th>\n      <th>label_stai_stress_category</th>\n    </tr>\n  </thead>\n  <tbody>\n    <tr>\n      <th>0</th>\n      <td>621e2e8e67b776a24055b564</td>\n      <td>2021-05-31</td>\n      <td>Below average</td>\n    </tr>\n    <tr>\n      <th>0</th>\n      <td>621e328667b776a240281372</td>\n      <td>2021-05-31</td>\n      <td>Average</td>\n    </tr>\n    <tr>\n      <th>0</th>\n      <td>621e329067b776a2402ffad2</td>\n      <td>2021-05-31</td>\n      <td>Above average</td>\n    </tr>\n    <tr>\n      <th>3</th>\n      <td>621e30e467b776a240e817c7</td>\n      <td>2021-05-31</td>\n      <td>Above average</td>\n    </tr>\n    <tr>\n      <th>4</th>\n      <td>621e32af67b776a24045b4cf</td>\n      <td>2021-05-31</td>\n      <td>Above average</td>\n    </tr>\n    <tr>\n      <th>...</th>\n      <td>...</td>\n      <td>...</td>\n      <td>...</td>\n    </tr>\n    <tr>\n      <th>2</th>\n      <td>621e346f67b776a24081744f</td>\n      <td>2022-01-12</td>\n      <td>Average</td>\n    </tr>\n    <tr>\n      <th>4</th>\n      <td>621e2f9167b776a240011ccb</td>\n      <td>2022-01-16</td>\n      <td>Above average</td>\n    </tr>\n    <tr>\n      <th>1</th>\n      <td>621e367e67b776a24087d75d</td>\n      <td>2022-01-17</td>\n      <td>Average</td>\n    </tr>\n    <tr>\n      <th>6</th>\n      <td>621e324e67b776a2400191cb</td>\n      <td>2022-01-17</td>\n      <td>Above average</td>\n    </tr>\n    <tr>\n      <th>1</th>\n      <td>621e32e667b776a2406d2f1c</td>\n      <td>2022-01-25</td>\n      <td>Above average</td>\n    </tr>\n  </tbody>\n</table>\n<p>279 rows × 3 columns</p>\n</div>"
     },
     "execution_count": 3,
     "metadata": {},
     "output_type": "execute_result"
    }
   ],
   "source": [
    "stai = pd.read_pickle('../data/surveys/stai.pkl')\n",
    "stai = stai.rename(columns={\"user_id\": \"id\", \"submitdate\": \"date\", \"stai_stress_category\":\"label_stai_stress_category\"})\n",
    "stai[\"date\"] = pd.to_datetime(pd.to_datetime(stai[\"date\"]).dt.date)\n",
    "stai = stai.sort_values(by='date', ascending=True)\n",
    "stai = stai.drop(columns=['type', 'stai_stress'])\n",
    "stai"
   ],
   "metadata": {
    "collapsed": false,
    "pycharm": {
     "name": "#%%\n"
    }
   }
  },
  {
   "cell_type": "code",
   "execution_count": 4,
   "outputs": [],
   "source": [
    "users = list(data['id'].unique())"
   ],
   "metadata": {
    "collapsed": false,
    "pycharm": {
     "name": "#%%\n"
    }
   }
  },
  {
   "cell_type": "code",
   "execution_count": 5,
   "outputs": [
    {
     "data": {
      "text/plain": "                           id       date label_stai_stress_category  \\\n0    621e2e8e67b776a24055b564 2021-05-31              Below average   \n1    621e2e8e67b776a24055b564 2021-06-07                    Average   \n2    621e2e8e67b776a24055b564 2021-06-28              Above average   \n3    621e2e8e67b776a24055b564 2021-07-19                    Average   \n4    621e2e8e67b776a24055b564 2021-07-26                    Average   \n..                        ...        ...                        ...   \n274  621e339967b776a240e502de 2021-12-14              Below average   \n275  621e339967b776a240e502de 2021-12-20                    Average   \n276  621e339967b776a240e502de 2021-12-27                    Average   \n277  621e339967b776a240e502de 2022-01-03                    Average   \n278  621e339967b776a240e502de 2022-01-12                    Average   \n\n    nightly_temperature  nremhr    rmssd  spo2 full_sleep_breathing_rate  \\\n0             34.408304  57.481   94.303   NaN                      14.8   \n1             34.476865   56.57  109.509   NaN                      14.4   \n2             34.418045  53.006  107.388   NaN                      15.6   \n3             34.254286   57.33  100.374   NaN                      15.0   \n4             34.515655  59.798   98.515   NaN                      15.4   \n..                  ...     ...      ...   ...                       ...   \n274           34.303759  46.311   56.468  96.5                      11.0   \n275           34.876472  50.683   47.293  96.0                      11.6   \n276           35.107574  54.325   47.929  95.4                      12.2   \n277           34.957428   52.81   47.801  94.9                      12.4   \n278           34.073346  51.364   51.324  96.1                      12.2   \n\n    stress_score sleep_points_percentage  ... Martial Arts  Run Spinning  \\\n0           81.0                0.866667  ...          0.0  0.0      0.0   \n1           83.0                0.833333  ...          0.0  0.0      0.0   \n2           76.0                0.766667  ...          0.0  0.0      0.0   \n3           75.0                0.833333  ...          0.0  0.0      0.0   \n4           74.0                0.766667  ...          0.0  0.0      0.0   \n..           ...                     ...  ...          ...  ...      ...   \n274         87.0                0.833333  ...          0.0  0.0      0.0   \n275         82.0                0.766667  ...          0.0  0.0      0.0   \n276         87.0                0.866667  ...          0.0  0.0      0.0   \n277         81.0                     0.7  ...          0.0  0.0      0.0   \n278         84.0                0.833333  ...          0.0  0.0      0.0   \n\n    Sport Swim Treadmill Walk Weights Workout Yoga/Pilates  \n0     0.0  0.0       0.0  1.0     0.0     0.0          0.0  \n1     0.0  0.0       0.0  1.0     0.0     0.0          0.0  \n2     0.0  0.0       0.0  1.0     0.0     0.0          0.0  \n3     0.0  0.0       0.0  1.0     0.0     0.0          0.0  \n4     0.0  0.0       0.0  1.0     0.0     0.0          0.0  \n..    ...  ...       ...  ...     ...     ...          ...  \n274   0.0  0.0       0.0  1.0     0.0     0.0          0.0  \n275   0.0  0.0       0.0  0.0     0.0     0.0          0.0  \n276   0.0  0.0       0.0  1.0     0.0     0.0          0.0  \n277   0.0  0.0       0.0  1.0     0.0     0.0          0.0  \n278   0.0  0.0       0.0  1.0     0.0     0.0          0.0  \n\n[279 rows x 66 columns]",
      "text/html": "<div>\n<style scoped>\n    .dataframe tbody tr th:only-of-type {\n        vertical-align: middle;\n    }\n\n    .dataframe tbody tr th {\n        vertical-align: top;\n    }\n\n    .dataframe thead th {\n        text-align: right;\n    }\n</style>\n<table border=\"1\" class=\"dataframe\">\n  <thead>\n    <tr style=\"text-align: right;\">\n      <th></th>\n      <th>id</th>\n      <th>date</th>\n      <th>label_stai_stress_category</th>\n      <th>nightly_temperature</th>\n      <th>nremhr</th>\n      <th>rmssd</th>\n      <th>spo2</th>\n      <th>full_sleep_breathing_rate</th>\n      <th>stress_score</th>\n      <th>sleep_points_percentage</th>\n      <th>...</th>\n      <th>Martial Arts</th>\n      <th>Run</th>\n      <th>Spinning</th>\n      <th>Sport</th>\n      <th>Swim</th>\n      <th>Treadmill</th>\n      <th>Walk</th>\n      <th>Weights</th>\n      <th>Workout</th>\n      <th>Yoga/Pilates</th>\n    </tr>\n  </thead>\n  <tbody>\n    <tr>\n      <th>0</th>\n      <td>621e2e8e67b776a24055b564</td>\n      <td>2021-05-31</td>\n      <td>Below average</td>\n      <td>34.408304</td>\n      <td>57.481</td>\n      <td>94.303</td>\n      <td>NaN</td>\n      <td>14.8</td>\n      <td>81.0</td>\n      <td>0.866667</td>\n      <td>...</td>\n      <td>0.0</td>\n      <td>0.0</td>\n      <td>0.0</td>\n      <td>0.0</td>\n      <td>0.0</td>\n      <td>0.0</td>\n      <td>1.0</td>\n      <td>0.0</td>\n      <td>0.0</td>\n      <td>0.0</td>\n    </tr>\n    <tr>\n      <th>1</th>\n      <td>621e2e8e67b776a24055b564</td>\n      <td>2021-06-07</td>\n      <td>Average</td>\n      <td>34.476865</td>\n      <td>56.57</td>\n      <td>109.509</td>\n      <td>NaN</td>\n      <td>14.4</td>\n      <td>83.0</td>\n      <td>0.833333</td>\n      <td>...</td>\n      <td>0.0</td>\n      <td>0.0</td>\n      <td>0.0</td>\n      <td>0.0</td>\n      <td>0.0</td>\n      <td>0.0</td>\n      <td>1.0</td>\n      <td>0.0</td>\n      <td>0.0</td>\n      <td>0.0</td>\n    </tr>\n    <tr>\n      <th>2</th>\n      <td>621e2e8e67b776a24055b564</td>\n      <td>2021-06-28</td>\n      <td>Above average</td>\n      <td>34.418045</td>\n      <td>53.006</td>\n      <td>107.388</td>\n      <td>NaN</td>\n      <td>15.6</td>\n      <td>76.0</td>\n      <td>0.766667</td>\n      <td>...</td>\n      <td>0.0</td>\n      <td>0.0</td>\n      <td>0.0</td>\n      <td>0.0</td>\n      <td>0.0</td>\n      <td>0.0</td>\n      <td>1.0</td>\n      <td>0.0</td>\n      <td>0.0</td>\n      <td>0.0</td>\n    </tr>\n    <tr>\n      <th>3</th>\n      <td>621e2e8e67b776a24055b564</td>\n      <td>2021-07-19</td>\n      <td>Average</td>\n      <td>34.254286</td>\n      <td>57.33</td>\n      <td>100.374</td>\n      <td>NaN</td>\n      <td>15.0</td>\n      <td>75.0</td>\n      <td>0.833333</td>\n      <td>...</td>\n      <td>0.0</td>\n      <td>0.0</td>\n      <td>0.0</td>\n      <td>0.0</td>\n      <td>0.0</td>\n      <td>0.0</td>\n      <td>1.0</td>\n      <td>0.0</td>\n      <td>0.0</td>\n      <td>0.0</td>\n    </tr>\n    <tr>\n      <th>4</th>\n      <td>621e2e8e67b776a24055b564</td>\n      <td>2021-07-26</td>\n      <td>Average</td>\n      <td>34.515655</td>\n      <td>59.798</td>\n      <td>98.515</td>\n      <td>NaN</td>\n      <td>15.4</td>\n      <td>74.0</td>\n      <td>0.766667</td>\n      <td>...</td>\n      <td>0.0</td>\n      <td>0.0</td>\n      <td>0.0</td>\n      <td>0.0</td>\n      <td>0.0</td>\n      <td>0.0</td>\n      <td>1.0</td>\n      <td>0.0</td>\n      <td>0.0</td>\n      <td>0.0</td>\n    </tr>\n    <tr>\n      <th>...</th>\n      <td>...</td>\n      <td>...</td>\n      <td>...</td>\n      <td>...</td>\n      <td>...</td>\n      <td>...</td>\n      <td>...</td>\n      <td>...</td>\n      <td>...</td>\n      <td>...</td>\n      <td>...</td>\n      <td>...</td>\n      <td>...</td>\n      <td>...</td>\n      <td>...</td>\n      <td>...</td>\n      <td>...</td>\n      <td>...</td>\n      <td>...</td>\n      <td>...</td>\n      <td>...</td>\n    </tr>\n    <tr>\n      <th>274</th>\n      <td>621e339967b776a240e502de</td>\n      <td>2021-12-14</td>\n      <td>Below average</td>\n      <td>34.303759</td>\n      <td>46.311</td>\n      <td>56.468</td>\n      <td>96.5</td>\n      <td>11.0</td>\n      <td>87.0</td>\n      <td>0.833333</td>\n      <td>...</td>\n      <td>0.0</td>\n      <td>0.0</td>\n      <td>0.0</td>\n      <td>0.0</td>\n      <td>0.0</td>\n      <td>0.0</td>\n      <td>1.0</td>\n      <td>0.0</td>\n      <td>0.0</td>\n      <td>0.0</td>\n    </tr>\n    <tr>\n      <th>275</th>\n      <td>621e339967b776a240e502de</td>\n      <td>2021-12-20</td>\n      <td>Average</td>\n      <td>34.876472</td>\n      <td>50.683</td>\n      <td>47.293</td>\n      <td>96.0</td>\n      <td>11.6</td>\n      <td>82.0</td>\n      <td>0.766667</td>\n      <td>...</td>\n      <td>0.0</td>\n      <td>0.0</td>\n      <td>0.0</td>\n      <td>0.0</td>\n      <td>0.0</td>\n      <td>0.0</td>\n      <td>0.0</td>\n      <td>0.0</td>\n      <td>0.0</td>\n      <td>0.0</td>\n    </tr>\n    <tr>\n      <th>276</th>\n      <td>621e339967b776a240e502de</td>\n      <td>2021-12-27</td>\n      <td>Average</td>\n      <td>35.107574</td>\n      <td>54.325</td>\n      <td>47.929</td>\n      <td>95.4</td>\n      <td>12.2</td>\n      <td>87.0</td>\n      <td>0.866667</td>\n      <td>...</td>\n      <td>0.0</td>\n      <td>0.0</td>\n      <td>0.0</td>\n      <td>0.0</td>\n      <td>0.0</td>\n      <td>0.0</td>\n      <td>1.0</td>\n      <td>0.0</td>\n      <td>0.0</td>\n      <td>0.0</td>\n    </tr>\n    <tr>\n      <th>277</th>\n      <td>621e339967b776a240e502de</td>\n      <td>2022-01-03</td>\n      <td>Average</td>\n      <td>34.957428</td>\n      <td>52.81</td>\n      <td>47.801</td>\n      <td>94.9</td>\n      <td>12.4</td>\n      <td>81.0</td>\n      <td>0.7</td>\n      <td>...</td>\n      <td>0.0</td>\n      <td>0.0</td>\n      <td>0.0</td>\n      <td>0.0</td>\n      <td>0.0</td>\n      <td>0.0</td>\n      <td>1.0</td>\n      <td>0.0</td>\n      <td>0.0</td>\n      <td>0.0</td>\n    </tr>\n    <tr>\n      <th>278</th>\n      <td>621e339967b776a240e502de</td>\n      <td>2022-01-12</td>\n      <td>Average</td>\n      <td>34.073346</td>\n      <td>51.364</td>\n      <td>51.324</td>\n      <td>96.1</td>\n      <td>12.2</td>\n      <td>84.0</td>\n      <td>0.833333</td>\n      <td>...</td>\n      <td>0.0</td>\n      <td>0.0</td>\n      <td>0.0</td>\n      <td>0.0</td>\n      <td>0.0</td>\n      <td>0.0</td>\n      <td>1.0</td>\n      <td>0.0</td>\n      <td>0.0</td>\n      <td>0.0</td>\n    </tr>\n  </tbody>\n</table>\n<p>279 rows × 66 columns</p>\n</div>"
     },
     "execution_count": 5,
     "metadata": {},
     "output_type": "execute_result"
    }
   ],
   "source": [
    "data = preprocessing_functions.weekly_fitbit_frequency(stai, data, users)\n",
    "data"
   ],
   "metadata": {
    "collapsed": false,
    "pycharm": {
     "name": "#%%\n"
    }
   }
  },
  {
   "cell_type": "markdown",
   "source": [
    "## panas"
   ],
   "metadata": {
    "collapsed": false,
    "pycharm": {
     "name": "#%% md\n"
    }
   }
  },
  {
   "cell_type": "code",
   "execution_count": null,
   "outputs": [],
   "source": [
    "panas = pd.read_pickle('../data/surveys/panas_classification.pkl')\n",
    "panas = panas.rename(columns={\"user_id\": \"id\", \"submitdate\": \"date\", \"negative_affect_category\":\"label_panas_negative_affect\"})\n",
    "panas[\"date\"] = pd.to_datetime(pd.to_datetime(panas[\"date\"]).dt.date)\n",
    "panas = panas.sort_values(by='date', ascending=True)\n",
    "panas"
   ],
   "metadata": {
    "collapsed": false,
    "pycharm": {
     "name": "#%%\n"
    }
   }
  },
  {
   "cell_type": "markdown",
   "source": [
    "# TO DO"
   ],
   "metadata": {
    "collapsed": false,
    "pycharm": {
     "name": "#%% md\n"
    }
   }
  },
  {
   "cell_type": "markdown",
   "source": [
    "1. merge with panas\n",
    "2. date engineering\n",
    "3. add wear_day\n",
    "4. post-preprocessing\n",
    "5. rest code"
   ],
   "metadata": {
    "collapsed": false,
    "pycharm": {
     "name": "#%% md\n"
    }
   }
  },
  {
   "cell_type": "code",
   "execution_count": null,
   "outputs": [],
   "source": [],
   "metadata": {
    "collapsed": false,
    "pycharm": {
     "name": "#%%\n"
    }
   }
  }
 ],
 "metadata": {
  "kernelspec": {
   "display_name": "Python 3",
   "language": "python",
   "name": "python3"
  },
  "language_info": {
   "codemirror_mode": {
    "name": "ipython",
    "version": 2
   },
   "file_extension": ".py",
   "mimetype": "text/x-python",
   "name": "python",
   "nbconvert_exporter": "python",
   "pygments_lexer": "ipython2",
   "version": "2.7.6"
  }
 },
 "nbformat": 4,
 "nbformat_minor": 0
}