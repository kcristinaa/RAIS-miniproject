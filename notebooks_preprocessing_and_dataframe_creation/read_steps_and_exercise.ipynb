{
 "cells": [
  {
   "cell_type": "code",
   "execution_count": 120,
   "id": "0f3c88c4-8ce7-4a4f-9911-5429f83c3d3b",
   "metadata": {},
   "outputs": [],
   "source": [
    "from pymongo import MongoClient\n",
    "import json\n",
    "import pandas as pd\n",
    "from dataprep.eda import create_report\n",
    "import warnings\n",
    "warnings.filterwarnings(\"ignore\")"
   ]
  },
  {
   "cell_type": "code",
   "execution_count": 121,
   "id": "6f686ec9-5774-428f-8765-f12d47c892c6",
   "metadata": {},
   "outputs": [],
   "source": [
    "with open('../credentials.json') as f:\n",
    "    data = json.load(f)\n",
    "    username = data['username']\n",
    "    password = data['password']"
   ]
  },
  {
   "cell_type": "code",
   "execution_count": 122,
   "id": "63651063-67d9-4151-a8de-e03d8d254cff",
   "metadata": {},
   "outputs": [],
   "source": [
    "client = MongoClient('mongodb://%s:%s@127.0.0.1' % (username, password))\n",
    "db = client.rais"
   ]
  },
  {
   "cell_type": "markdown",
   "id": "f63e2b7c-3b33-4260-86c8-5815dc9bf7a6",
   "metadata": {},
   "source": [
    "# read steps"
   ]
  },
  {
   "cell_type": "code",
   "execution_count": 123,
   "id": "71d627d5-acfb-4c59-8dd9-dbf4a2c659e1",
   "metadata": {},
   "outputs": [],
   "source": [
    "number_of_steps = db.fitbit.find({\"type\": \"steps\"})\n",
    "\n",
    "users=db.fitbit.distinct('id')\n",
    "\n",
    "df = pd.DataFrame()\n",
    "\n",
    "for user in users:\n",
    "    user_data = list(db.fitbit.find({\"id\": user, \"type\": \"steps\"})) \n",
    "\n",
    "    # Create the 3 columns\n",
    "    userId = []\n",
    "    date = []\n",
    "    steps = []\n",
    "    for obj in user_data:\n",
    "        d = obj[\"data\"]\n",
    "        date.append(d[\"dateTime\"])\n",
    "        steps.append(d[\"value\"])\n",
    "        userId.append(obj[\"id\"])\n",
    "\n",
    "    # Construct the dataframe\n",
    "    data = {'date': date, 'id': userId, 'steps': steps} \n",
    "    user_df = pd.DataFrame(data)\n",
    "    \n",
    "    # Preprocessing \n",
    "    \n",
    "    user_df['date'] = pd.to_datetime(user_df.date)\n",
    "    user_df['steps'] = pd.to_numeric(user_df['steps'])\n",
    "    user_df=user_df.resample('H', on='date').sum()\n",
    "    user_df['id'] = obj['id']\n",
    "    \n",
    "    df = pd.concat([df, user_df]) "
   ]
  },
  {
   "cell_type": "code",
   "execution_count": 124,
   "id": "f6a739fc-baf6-4109-8270-6925b4173490",
   "metadata": {},
   "outputs": [],
   "source": [
    "df.to_pickle('../data/daily_hourly_fitbit_types/steps_hourly') "
   ]
  },
  {
   "cell_type": "markdown",
   "id": "6f95ceac-4c43-4a77-b5aa-6b4f4ec43458",
   "metadata": {
    "tags": []
   },
   "source": [
    "# read exercise"
   ]
  },
  {
   "cell_type": "code",
   "execution_count": 125,
   "id": "4315a282-20fc-42c4-ba17-d2b75fb2934d",
   "metadata": {},
   "outputs": [],
   "source": [
    "exercise = db.fitbit.find({\"type\": \"exercise\"})\n",
    "\n",
    "users=db.fitbit.distinct('id')\n",
    "\n",
    "df = pd.DataFrame()\n",
    "\n",
    "for user in users:\n",
    "    user_data = list(db.fitbit.find({\"id\": user, \"type\": \"exercise\"})) \n",
    "\n",
    "    # Create the 3 columns\n",
    "    userId = []\n",
    "    date = []\n",
    "    exercise = []\n",
    "    for obj in user_data:\n",
    "        d = obj[\"data\"]\n",
    "        date.append(d[\"startTime\"])\n",
    "        exercise.append(d[\"activityName\"])\n",
    "        userId.append(obj[\"id\"])\n",
    "\n",
    "    # Construct the dataframe\n",
    "    data = {'date': date, 'id': userId, 'exercise': exercise} \n",
    "    user_df = pd.DataFrame(data)\n",
    "    \n",
    "    # Preprocessing \n",
    "    \n",
    "    user_df['date'] = pd.to_datetime(user_df.date)\n",
    "    user_df['id'] = obj['id']\n",
    "    \n",
    "    df = pd.concat([df, user_df]) "
   ]
  },
  {
   "cell_type": "code",
   "execution_count": 126,
   "id": "dc6830af-0a92-481c-8416-26b32da2b648",
   "metadata": {},
   "outputs": [
    {
     "data": {
      "text/html": [
       "<div>\n",
       "<style scoped>\n",
       "    .dataframe tbody tr th:only-of-type {\n",
       "        vertical-align: middle;\n",
       "    }\n",
       "\n",
       "    .dataframe tbody tr th {\n",
       "        vertical-align: top;\n",
       "    }\n",
       "\n",
       "    .dataframe thead th {\n",
       "        text-align: right;\n",
       "    }\n",
       "</style>\n",
       "<table border=\"1\" class=\"dataframe\">\n",
       "  <thead>\n",
       "    <tr style=\"text-align: right;\">\n",
       "      <th></th>\n",
       "      <th>date</th>\n",
       "      <th>id</th>\n",
       "      <th>exercise</th>\n",
       "    </tr>\n",
       "  </thead>\n",
       "  <tbody>\n",
       "    <tr>\n",
       "      <th>0</th>\n",
       "      <td>2021-05-24 10:40:03</td>\n",
       "      <td>621e2e8e67b776a24055b564</td>\n",
       "      <td>Walk</td>\n",
       "    </tr>\n",
       "    <tr>\n",
       "      <th>1</th>\n",
       "      <td>2021-05-26 09:46:21</td>\n",
       "      <td>621e2e8e67b776a24055b564</td>\n",
       "      <td>Walk</td>\n",
       "    </tr>\n",
       "    <tr>\n",
       "      <th>2</th>\n",
       "      <td>2021-05-28 10:25:42</td>\n",
       "      <td>621e2e8e67b776a24055b564</td>\n",
       "      <td>Walk</td>\n",
       "    </tr>\n",
       "    <tr>\n",
       "      <th>3</th>\n",
       "      <td>2021-05-29 11:10:36</td>\n",
       "      <td>621e2e8e67b776a24055b564</td>\n",
       "      <td>Walk</td>\n",
       "    </tr>\n",
       "    <tr>\n",
       "      <th>4</th>\n",
       "      <td>2021-06-01 10:17:39</td>\n",
       "      <td>621e2e8e67b776a24055b564</td>\n",
       "      <td>Walk</td>\n",
       "    </tr>\n",
       "    <tr>\n",
       "      <th>...</th>\n",
       "      <td>...</td>\n",
       "      <td>...</td>\n",
       "      <td>...</td>\n",
       "    </tr>\n",
       "    <tr>\n",
       "      <th>84</th>\n",
       "      <td>2021-07-20 22:37:36</td>\n",
       "      <td>621e375b67b776a240290cdc</td>\n",
       "      <td>Walk</td>\n",
       "    </tr>\n",
       "    <tr>\n",
       "      <th>85</th>\n",
       "      <td>2021-07-23 13:56:01</td>\n",
       "      <td>621e375b67b776a240290cdc</td>\n",
       "      <td>Workout</td>\n",
       "    </tr>\n",
       "    <tr>\n",
       "      <th>86</th>\n",
       "      <td>2021-07-25 12:22:45</td>\n",
       "      <td>621e375b67b776a240290cdc</td>\n",
       "      <td>Walk</td>\n",
       "    </tr>\n",
       "    <tr>\n",
       "      <th>87</th>\n",
       "      <td>2021-07-28 15:00:43</td>\n",
       "      <td>621e375b67b776a240290cdc</td>\n",
       "      <td>Walk</td>\n",
       "    </tr>\n",
       "    <tr>\n",
       "      <th>88</th>\n",
       "      <td>2021-07-30 14:32:37</td>\n",
       "      <td>621e375b67b776a240290cdc</td>\n",
       "      <td>Workout</td>\n",
       "    </tr>\n",
       "  </tbody>\n",
       "</table>\n",
       "<p>4051 rows × 3 columns</p>\n",
       "</div>"
      ],
      "text/plain": [
       "                  date                        id exercise\n",
       "0  2021-05-24 10:40:03  621e2e8e67b776a24055b564     Walk\n",
       "1  2021-05-26 09:46:21  621e2e8e67b776a24055b564     Walk\n",
       "2  2021-05-28 10:25:42  621e2e8e67b776a24055b564     Walk\n",
       "3  2021-05-29 11:10:36  621e2e8e67b776a24055b564     Walk\n",
       "4  2021-06-01 10:17:39  621e2e8e67b776a24055b564     Walk\n",
       "..                 ...                       ...      ...\n",
       "84 2021-07-20 22:37:36  621e375b67b776a240290cdc     Walk\n",
       "85 2021-07-23 13:56:01  621e375b67b776a240290cdc  Workout\n",
       "86 2021-07-25 12:22:45  621e375b67b776a240290cdc     Walk\n",
       "87 2021-07-28 15:00:43  621e375b67b776a240290cdc     Walk\n",
       "88 2021-07-30 14:32:37  621e375b67b776a240290cdc  Workout\n",
       "\n",
       "[4051 rows x 3 columns]"
      ]
     },
     "execution_count": 126,
     "metadata": {},
     "output_type": "execute_result"
    }
   ],
   "source": [
    "df"
   ]
  },
  {
   "cell_type": "code",
   "execution_count": 127,
   "id": "43a8369c-ee84-4340-8dee-9d6d6831c084",
   "metadata": {},
   "outputs": [
    {
     "data": {
      "text/plain": [
       "Walk                2900\n",
       "Bike                 255\n",
       "Workout              178\n",
       "Sport                170\n",
       "Aerobic Workout      141\n",
       "Run                  127\n",
       "Swim                  65\n",
       "Yoga/Pilates          52\n",
       "Weights               44\n",
       "Treadmill             37\n",
       "Circuit Training      37\n",
       "Elliptical            14\n",
       "Hike                  13\n",
       "Martial Arts           6\n",
       "Interval Workout       5\n",
       "Spinning               3\n",
       "Bootcamp               2\n",
       "Tennis                 2\n",
       "Name: exercise, dtype: int64"
      ]
     },
     "execution_count": 127,
     "metadata": {},
     "output_type": "execute_result"
    }
   ],
   "source": [
    "df['exercise'].value_counts()"
   ]
  },
  {
   "cell_type": "code",
   "execution_count": 128,
   "id": "c06e15d2-0323-42f2-be31-b806ec958f5f",
   "metadata": {},
   "outputs": [
    {
     "data": {
      "text/plain": [
       "0"
      ]
     },
     "execution_count": 128,
     "metadata": {},
     "output_type": "execute_result"
    }
   ],
   "source": [
    "df['exercise'].isna().sum()"
   ]
  },
  {
   "cell_type": "code",
   "execution_count": 129,
   "id": "65f52530-b9b4-44c8-8ad7-afb4fc776bd0",
   "metadata": {},
   "outputs": [],
   "source": [
    "#create_report(df).show_browser()"
   ]
  },
  {
   "cell_type": "code",
   "execution_count": 130,
   "id": "0a66b4d4-dc01-4c6e-b7f9-1918b29ee141",
   "metadata": {},
   "outputs": [
    {
     "data": {
      "text/html": [
       "<div>\n",
       "<style scoped>\n",
       "    .dataframe tbody tr th:only-of-type {\n",
       "        vertical-align: middle;\n",
       "    }\n",
       "\n",
       "    .dataframe tbody tr th {\n",
       "        vertical-align: top;\n",
       "    }\n",
       "\n",
       "    .dataframe thead th {\n",
       "        text-align: right;\n",
       "    }\n",
       "</style>\n",
       "<table border=\"1\" class=\"dataframe\">\n",
       "  <thead>\n",
       "    <tr style=\"text-align: right;\">\n",
       "      <th></th>\n",
       "      <th>date</th>\n",
       "      <th>id</th>\n",
       "      <th>exercise</th>\n",
       "    </tr>\n",
       "  </thead>\n",
       "  <tbody>\n",
       "    <tr>\n",
       "      <th>0</th>\n",
       "      <td>2021-05-24 11:00:00</td>\n",
       "      <td>621e2e8e67b776a24055b564</td>\n",
       "      <td>1</td>\n",
       "    </tr>\n",
       "    <tr>\n",
       "      <th>1</th>\n",
       "      <td>2021-05-26 10:00:00</td>\n",
       "      <td>621e2e8e67b776a24055b564</td>\n",
       "      <td>1</td>\n",
       "    </tr>\n",
       "    <tr>\n",
       "      <th>2</th>\n",
       "      <td>2021-05-28 10:00:00</td>\n",
       "      <td>621e2e8e67b776a24055b564</td>\n",
       "      <td>1</td>\n",
       "    </tr>\n",
       "    <tr>\n",
       "      <th>3</th>\n",
       "      <td>2021-05-29 11:00:00</td>\n",
       "      <td>621e2e8e67b776a24055b564</td>\n",
       "      <td>1</td>\n",
       "    </tr>\n",
       "    <tr>\n",
       "      <th>4</th>\n",
       "      <td>2021-06-01 10:00:00</td>\n",
       "      <td>621e2e8e67b776a24055b564</td>\n",
       "      <td>1</td>\n",
       "    </tr>\n",
       "    <tr>\n",
       "      <th>...</th>\n",
       "      <td>...</td>\n",
       "      <td>...</td>\n",
       "      <td>...</td>\n",
       "    </tr>\n",
       "    <tr>\n",
       "      <th>84</th>\n",
       "      <td>2021-07-20 23:00:00</td>\n",
       "      <td>621e375b67b776a240290cdc</td>\n",
       "      <td>1</td>\n",
       "    </tr>\n",
       "    <tr>\n",
       "      <th>85</th>\n",
       "      <td>2021-07-23 14:00:00</td>\n",
       "      <td>621e375b67b776a240290cdc</td>\n",
       "      <td>1</td>\n",
       "    </tr>\n",
       "    <tr>\n",
       "      <th>86</th>\n",
       "      <td>2021-07-25 12:00:00</td>\n",
       "      <td>621e375b67b776a240290cdc</td>\n",
       "      <td>1</td>\n",
       "    </tr>\n",
       "    <tr>\n",
       "      <th>87</th>\n",
       "      <td>2021-07-28 15:00:00</td>\n",
       "      <td>621e375b67b776a240290cdc</td>\n",
       "      <td>1</td>\n",
       "    </tr>\n",
       "    <tr>\n",
       "      <th>88</th>\n",
       "      <td>2021-07-30 15:00:00</td>\n",
       "      <td>621e375b67b776a240290cdc</td>\n",
       "      <td>1</td>\n",
       "    </tr>\n",
       "  </tbody>\n",
       "</table>\n",
       "<p>4051 rows × 3 columns</p>\n",
       "</div>"
      ],
      "text/plain": [
       "                  date                        id  exercise\n",
       "0  2021-05-24 11:00:00  621e2e8e67b776a24055b564         1\n",
       "1  2021-05-26 10:00:00  621e2e8e67b776a24055b564         1\n",
       "2  2021-05-28 10:00:00  621e2e8e67b776a24055b564         1\n",
       "3  2021-05-29 11:00:00  621e2e8e67b776a24055b564         1\n",
       "4  2021-06-01 10:00:00  621e2e8e67b776a24055b564         1\n",
       "..                 ...                       ...       ...\n",
       "84 2021-07-20 23:00:00  621e375b67b776a240290cdc         1\n",
       "85 2021-07-23 14:00:00  621e375b67b776a240290cdc         1\n",
       "86 2021-07-25 12:00:00  621e375b67b776a240290cdc         1\n",
       "87 2021-07-28 15:00:00  621e375b67b776a240290cdc         1\n",
       "88 2021-07-30 15:00:00  621e375b67b776a240290cdc         1\n",
       "\n",
       "[4051 rows x 3 columns]"
      ]
     },
     "execution_count": 130,
     "metadata": {},
     "output_type": "execute_result"
    }
   ],
   "source": [
    "df['exercise'] = 1\n",
    "df['date'] = df['date'].round('H')\n",
    "df"
   ]
  },
  {
   "cell_type": "code",
   "execution_count": 131,
   "id": "c6b34d8b-4f8b-47b0-a9a6-f66607cff6e1",
   "metadata": {},
   "outputs": [
    {
     "data": {
      "text/html": [
       "<div>\n",
       "<style scoped>\n",
       "    .dataframe tbody tr th:only-of-type {\n",
       "        vertical-align: middle;\n",
       "    }\n",
       "\n",
       "    .dataframe tbody tr th {\n",
       "        vertical-align: top;\n",
       "    }\n",
       "\n",
       "    .dataframe thead th {\n",
       "        text-align: right;\n",
       "    }\n",
       "</style>\n",
       "<table border=\"1\" class=\"dataframe\">\n",
       "  <thead>\n",
       "    <tr style=\"text-align: right;\">\n",
       "      <th></th>\n",
       "      <th>steps</th>\n",
       "      <th>id</th>\n",
       "    </tr>\n",
       "    <tr>\n",
       "      <th>date</th>\n",
       "      <th></th>\n",
       "      <th></th>\n",
       "    </tr>\n",
       "  </thead>\n",
       "  <tbody>\n",
       "    <tr>\n",
       "      <th>2021-05-24 00:00:00</th>\n",
       "      <td>134</td>\n",
       "      <td>621e2e8e67b776a24055b564</td>\n",
       "    </tr>\n",
       "    <tr>\n",
       "      <th>2021-05-24 01:00:00</th>\n",
       "      <td>0</td>\n",
       "      <td>621e2e8e67b776a24055b564</td>\n",
       "    </tr>\n",
       "    <tr>\n",
       "      <th>2021-05-24 02:00:00</th>\n",
       "      <td>0</td>\n",
       "      <td>621e2e8e67b776a24055b564</td>\n",
       "    </tr>\n",
       "    <tr>\n",
       "      <th>2021-05-24 03:00:00</th>\n",
       "      <td>15</td>\n",
       "      <td>621e2e8e67b776a24055b564</td>\n",
       "    </tr>\n",
       "    <tr>\n",
       "      <th>2021-05-24 04:00:00</th>\n",
       "      <td>0</td>\n",
       "      <td>621e2e8e67b776a24055b564</td>\n",
       "    </tr>\n",
       "    <tr>\n",
       "      <th>...</th>\n",
       "      <td>...</td>\n",
       "      <td>...</td>\n",
       "    </tr>\n",
       "    <tr>\n",
       "      <th>2021-08-01 20:00:00</th>\n",
       "      <td>243</td>\n",
       "      <td>621e375b67b776a240290cdc</td>\n",
       "    </tr>\n",
       "    <tr>\n",
       "      <th>2021-08-01 21:00:00</th>\n",
       "      <td>704</td>\n",
       "      <td>621e375b67b776a240290cdc</td>\n",
       "    </tr>\n",
       "    <tr>\n",
       "      <th>2021-08-01 22:00:00</th>\n",
       "      <td>436</td>\n",
       "      <td>621e375b67b776a240290cdc</td>\n",
       "    </tr>\n",
       "    <tr>\n",
       "      <th>2021-08-01 23:00:00</th>\n",
       "      <td>205</td>\n",
       "      <td>621e375b67b776a240290cdc</td>\n",
       "    </tr>\n",
       "    <tr>\n",
       "      <th>2021-08-02 00:00:00</th>\n",
       "      <td>537</td>\n",
       "      <td>621e375b67b776a240290cdc</td>\n",
       "    </tr>\n",
       "  </tbody>\n",
       "</table>\n",
       "<p>128595 rows × 2 columns</p>\n",
       "</div>"
      ],
      "text/plain": [
       "                     steps                        id\n",
       "date                                                \n",
       "2021-05-24 00:00:00    134  621e2e8e67b776a24055b564\n",
       "2021-05-24 01:00:00      0  621e2e8e67b776a24055b564\n",
       "2021-05-24 02:00:00      0  621e2e8e67b776a24055b564\n",
       "2021-05-24 03:00:00     15  621e2e8e67b776a24055b564\n",
       "2021-05-24 04:00:00      0  621e2e8e67b776a24055b564\n",
       "...                    ...                       ...\n",
       "2021-08-01 20:00:00    243  621e375b67b776a240290cdc\n",
       "2021-08-01 21:00:00    704  621e375b67b776a240290cdc\n",
       "2021-08-01 22:00:00    436  621e375b67b776a240290cdc\n",
       "2021-08-01 23:00:00    205  621e375b67b776a240290cdc\n",
       "2021-08-02 00:00:00    537  621e375b67b776a240290cdc\n",
       "\n",
       "[128595 rows x 2 columns]"
      ]
     },
     "execution_count": 131,
     "metadata": {},
     "output_type": "execute_result"
    }
   ],
   "source": [
    "steps = pd.read_pickle('../data/daily_hourly_fitbit_types/steps_hourly')\n",
    "steps"
   ]
  },
  {
   "cell_type": "code",
   "execution_count": 132,
   "id": "7e9ec98c-ebcb-4c9e-9699-6113555e367f",
   "metadata": {},
   "outputs": [
    {
     "data": {
      "text/html": [
       "<div>\n",
       "<style scoped>\n",
       "    .dataframe tbody tr th:only-of-type {\n",
       "        vertical-align: middle;\n",
       "    }\n",
       "\n",
       "    .dataframe tbody tr th {\n",
       "        vertical-align: top;\n",
       "    }\n",
       "\n",
       "    .dataframe thead th {\n",
       "        text-align: right;\n",
       "    }\n",
       "</style>\n",
       "<table border=\"1\" class=\"dataframe\">\n",
       "  <thead>\n",
       "    <tr style=\"text-align: right;\">\n",
       "      <th></th>\n",
       "      <th>date</th>\n",
       "      <th>steps</th>\n",
       "      <th>id</th>\n",
       "      <th>exercise</th>\n",
       "    </tr>\n",
       "  </thead>\n",
       "  <tbody>\n",
       "    <tr>\n",
       "      <th>0</th>\n",
       "      <td>2021-05-24 00:00:00</td>\n",
       "      <td>134.0</td>\n",
       "      <td>621e2e8e67b776a24055b564</td>\n",
       "      <td>NaN</td>\n",
       "    </tr>\n",
       "    <tr>\n",
       "      <th>1</th>\n",
       "      <td>2021-05-24 01:00:00</td>\n",
       "      <td>0.0</td>\n",
       "      <td>621e2e8e67b776a24055b564</td>\n",
       "      <td>NaN</td>\n",
       "    </tr>\n",
       "    <tr>\n",
       "      <th>2</th>\n",
       "      <td>2021-05-24 02:00:00</td>\n",
       "      <td>0.0</td>\n",
       "      <td>621e2e8e67b776a24055b564</td>\n",
       "      <td>NaN</td>\n",
       "    </tr>\n",
       "    <tr>\n",
       "      <th>3</th>\n",
       "      <td>2021-05-24 03:00:00</td>\n",
       "      <td>15.0</td>\n",
       "      <td>621e2e8e67b776a24055b564</td>\n",
       "      <td>NaN</td>\n",
       "    </tr>\n",
       "    <tr>\n",
       "      <th>4</th>\n",
       "      <td>2021-05-24 04:00:00</td>\n",
       "      <td>0.0</td>\n",
       "      <td>621e2e8e67b776a24055b564</td>\n",
       "      <td>NaN</td>\n",
       "    </tr>\n",
       "    <tr>\n",
       "      <th>...</th>\n",
       "      <td>...</td>\n",
       "      <td>...</td>\n",
       "      <td>...</td>\n",
       "      <td>...</td>\n",
       "    </tr>\n",
       "    <tr>\n",
       "      <th>128764</th>\n",
       "      <td>2021-07-26 10:00:00</td>\n",
       "      <td>NaN</td>\n",
       "      <td>621e32af67b776a24045b4cf</td>\n",
       "      <td>1.0</td>\n",
       "    </tr>\n",
       "    <tr>\n",
       "      <th>128765</th>\n",
       "      <td>2021-07-26 08:00:00</td>\n",
       "      <td>NaN</td>\n",
       "      <td>621e32af67b776a24045b4cf</td>\n",
       "      <td>1.0</td>\n",
       "    </tr>\n",
       "    <tr>\n",
       "      <th>128766</th>\n",
       "      <td>2021-10-11 18:00:00</td>\n",
       "      <td>NaN</td>\n",
       "      <td>621e339967b776a240e502de</td>\n",
       "      <td>1.0</td>\n",
       "    </tr>\n",
       "    <tr>\n",
       "      <th>128767</th>\n",
       "      <td>2021-10-09 12:00:00</td>\n",
       "      <td>NaN</td>\n",
       "      <td>621e339967b776a240e502de</td>\n",
       "      <td>1.0</td>\n",
       "    </tr>\n",
       "    <tr>\n",
       "      <th>128768</th>\n",
       "      <td>2021-10-10 09:00:00</td>\n",
       "      <td>NaN</td>\n",
       "      <td>621e339967b776a240e502de</td>\n",
       "      <td>1.0</td>\n",
       "    </tr>\n",
       "  </tbody>\n",
       "</table>\n",
       "<p>128769 rows × 4 columns</p>\n",
       "</div>"
      ],
      "text/plain": [
       "                      date  steps                        id  exercise\n",
       "0      2021-05-24 00:00:00  134.0  621e2e8e67b776a24055b564       NaN\n",
       "1      2021-05-24 01:00:00    0.0  621e2e8e67b776a24055b564       NaN\n",
       "2      2021-05-24 02:00:00    0.0  621e2e8e67b776a24055b564       NaN\n",
       "3      2021-05-24 03:00:00   15.0  621e2e8e67b776a24055b564       NaN\n",
       "4      2021-05-24 04:00:00    0.0  621e2e8e67b776a24055b564       NaN\n",
       "...                    ...    ...                       ...       ...\n",
       "128764 2021-07-26 10:00:00    NaN  621e32af67b776a24045b4cf       1.0\n",
       "128765 2021-07-26 08:00:00    NaN  621e32af67b776a24045b4cf       1.0\n",
       "128766 2021-10-11 18:00:00    NaN  621e339967b776a240e502de       1.0\n",
       "128767 2021-10-09 12:00:00    NaN  621e339967b776a240e502de       1.0\n",
       "128768 2021-10-10 09:00:00    NaN  621e339967b776a240e502de       1.0\n",
       "\n",
       "[128769 rows x 4 columns]"
      ]
     },
     "execution_count": 132,
     "metadata": {},
     "output_type": "execute_result"
    }
   ],
   "source": [
    "df_new = steps.merge(df, on=['date','id'], how='outer')\n",
    "df_new"
   ]
  },
  {
   "cell_type": "code",
   "execution_count": 133,
   "id": "b8a1c2f7-a084-4bf3-91c7-6de7ea308781",
   "metadata": {},
   "outputs": [
    {
     "data": {
      "text/plain": [
       "1.0    4051\n",
       "Name: exercise, dtype: int64"
      ]
     },
     "execution_count": 133,
     "metadata": {},
     "output_type": "execute_result"
    }
   ],
   "source": [
    "df_new['exercise'].value_counts()"
   ]
  },
  {
   "cell_type": "code",
   "execution_count": 134,
   "id": "41f6e655-e26f-43a4-93eb-df8a7889a7aa",
   "metadata": {},
   "outputs": [
    {
     "data": {
      "text/plain": [
       "1    4051\n",
       "Name: exercise, dtype: int64"
      ]
     },
     "execution_count": 134,
     "metadata": {},
     "output_type": "execute_result"
    }
   ],
   "source": [
    "df['exercise'].value_counts()"
   ]
  },
  {
   "cell_type": "code",
   "execution_count": 135,
   "id": "afa8b6f3-4d23-428e-88fd-73ce216654a5",
   "metadata": {},
   "outputs": [
    {
     "data": {
      "text/plain": [
       "124718"
      ]
     },
     "execution_count": 135,
     "metadata": {},
     "output_type": "execute_result"
    }
   ],
   "source": [
    "df_new['exercise'].isna().sum()"
   ]
  },
  {
   "cell_type": "code",
   "execution_count": 136,
   "id": "8177e45f-99ba-4c02-a557-c3a2faaf40f3",
   "metadata": {},
   "outputs": [
    {
     "data": {
      "text/html": [
       "<div>\n",
       "<style scoped>\n",
       "    .dataframe tbody tr th:only-of-type {\n",
       "        vertical-align: middle;\n",
       "    }\n",
       "\n",
       "    .dataframe tbody tr th {\n",
       "        vertical-align: top;\n",
       "    }\n",
       "\n",
       "    .dataframe thead th {\n",
       "        text-align: right;\n",
       "    }\n",
       "</style>\n",
       "<table border=\"1\" class=\"dataframe\">\n",
       "  <thead>\n",
       "    <tr style=\"text-align: right;\">\n",
       "      <th></th>\n",
       "      <th>date</th>\n",
       "      <th>id</th>\n",
       "      <th>exercise</th>\n",
       "    </tr>\n",
       "  </thead>\n",
       "  <tbody>\n",
       "    <tr>\n",
       "      <th>0</th>\n",
       "      <td>2021-05-24 00:00:00</td>\n",
       "      <td>621e2e8e67b776a24055b564</td>\n",
       "      <td>0.0</td>\n",
       "    </tr>\n",
       "    <tr>\n",
       "      <th>1</th>\n",
       "      <td>2021-05-24 01:00:00</td>\n",
       "      <td>621e2e8e67b776a24055b564</td>\n",
       "      <td>0.0</td>\n",
       "    </tr>\n",
       "    <tr>\n",
       "      <th>2</th>\n",
       "      <td>2021-05-24 02:00:00</td>\n",
       "      <td>621e2e8e67b776a24055b564</td>\n",
       "      <td>0.0</td>\n",
       "    </tr>\n",
       "    <tr>\n",
       "      <th>3</th>\n",
       "      <td>2021-05-24 03:00:00</td>\n",
       "      <td>621e2e8e67b776a24055b564</td>\n",
       "      <td>0.0</td>\n",
       "    </tr>\n",
       "    <tr>\n",
       "      <th>4</th>\n",
       "      <td>2021-05-24 04:00:00</td>\n",
       "      <td>621e2e8e67b776a24055b564</td>\n",
       "      <td>0.0</td>\n",
       "    </tr>\n",
       "    <tr>\n",
       "      <th>...</th>\n",
       "      <td>...</td>\n",
       "      <td>...</td>\n",
       "      <td>...</td>\n",
       "    </tr>\n",
       "    <tr>\n",
       "      <th>128764</th>\n",
       "      <td>2021-07-26 10:00:00</td>\n",
       "      <td>621e32af67b776a24045b4cf</td>\n",
       "      <td>1.0</td>\n",
       "    </tr>\n",
       "    <tr>\n",
       "      <th>128765</th>\n",
       "      <td>2021-07-26 08:00:00</td>\n",
       "      <td>621e32af67b776a24045b4cf</td>\n",
       "      <td>1.0</td>\n",
       "    </tr>\n",
       "    <tr>\n",
       "      <th>128766</th>\n",
       "      <td>2021-10-11 18:00:00</td>\n",
       "      <td>621e339967b776a240e502de</td>\n",
       "      <td>1.0</td>\n",
       "    </tr>\n",
       "    <tr>\n",
       "      <th>128767</th>\n",
       "      <td>2021-10-09 12:00:00</td>\n",
       "      <td>621e339967b776a240e502de</td>\n",
       "      <td>1.0</td>\n",
       "    </tr>\n",
       "    <tr>\n",
       "      <th>128768</th>\n",
       "      <td>2021-10-10 09:00:00</td>\n",
       "      <td>621e339967b776a240e502de</td>\n",
       "      <td>1.0</td>\n",
       "    </tr>\n",
       "  </tbody>\n",
       "</table>\n",
       "<p>128769 rows × 3 columns</p>\n",
       "</div>"
      ],
      "text/plain": [
       "                      date                        id  exercise\n",
       "0      2021-05-24 00:00:00  621e2e8e67b776a24055b564       0.0\n",
       "1      2021-05-24 01:00:00  621e2e8e67b776a24055b564       0.0\n",
       "2      2021-05-24 02:00:00  621e2e8e67b776a24055b564       0.0\n",
       "3      2021-05-24 03:00:00  621e2e8e67b776a24055b564       0.0\n",
       "4      2021-05-24 04:00:00  621e2e8e67b776a24055b564       0.0\n",
       "...                    ...                       ...       ...\n",
       "128764 2021-07-26 10:00:00  621e32af67b776a24045b4cf       1.0\n",
       "128765 2021-07-26 08:00:00  621e32af67b776a24045b4cf       1.0\n",
       "128766 2021-10-11 18:00:00  621e339967b776a240e502de       1.0\n",
       "128767 2021-10-09 12:00:00  621e339967b776a240e502de       1.0\n",
       "128768 2021-10-10 09:00:00  621e339967b776a240e502de       1.0\n",
       "\n",
       "[128769 rows x 3 columns]"
      ]
     },
     "execution_count": 136,
     "metadata": {},
     "output_type": "execute_result"
    }
   ],
   "source": [
    "df_new['exercise'] = df_new['exercise'].fillna(0)\n",
    "df_new = df_new[['date', 'id', 'exercise']]\n",
    "df_new"
   ]
  },
  {
   "cell_type": "code",
   "execution_count": 137,
   "id": "32543447-b58a-4293-be98-5723dee3eded",
   "metadata": {},
   "outputs": [],
   "source": [
    "df_new.to_pickle('../data/daily_hourly_fitbit_types/exercise_hourly') "
   ]
  },
  {
   "cell_type": "code",
   "execution_count": 138,
   "id": "61e20c19-97b0-47a2-b758-7f54a5c24b58",
   "metadata": {},
   "outputs": [
    {
     "data": {
      "text/plain": [
       "Timestamp('2021-05-24 00:00:00')"
      ]
     },
     "execution_count": 138,
     "metadata": {},
     "output_type": "execute_result"
    }
   ],
   "source": [
    "df_new['date'].min()"
   ]
  },
  {
   "cell_type": "code",
   "execution_count": 139,
   "id": "9c17665c-374c-40e6-89cf-126e7681e762",
   "metadata": {},
   "outputs": [
    {
     "data": {
      "text/plain": [
       "Timestamp('2022-01-22 00:00:00')"
      ]
     },
     "execution_count": 139,
     "metadata": {},
     "output_type": "execute_result"
    }
   ],
   "source": [
    "df_new['date'].max()"
   ]
  },
  {
   "cell_type": "code",
   "execution_count": null,
   "id": "cc547264-d75b-47f3-93b4-c8ded58b5522",
   "metadata": {},
   "outputs": [],
   "source": []
  },
  {
   "cell_type": "code",
   "execution_count": null,
   "id": "63421ac0-cb38-4c38-b034-1f84f32a2a4e",
   "metadata": {},
   "outputs": [],
   "source": []
  }
 ],
 "metadata": {
  "kernelspec": {
   "display_name": "pycaret",
   "language": "python",
   "name": "pycaret"
  },
  "language_info": {
   "codemirror_mode": {
    "name": "ipython",
    "version": 3
   },
   "file_extension": ".py",
   "mimetype": "text/x-python",
   "name": "python",
   "nbconvert_exporter": "python",
   "pygments_lexer": "ipython3",
   "version": "3.8.15"
  }
 },
 "nbformat": 4,
 "nbformat_minor": 5
}
