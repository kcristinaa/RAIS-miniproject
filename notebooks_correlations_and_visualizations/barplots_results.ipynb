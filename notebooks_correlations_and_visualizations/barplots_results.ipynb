{
 "cells": [
  {
   "cell_type": "code",
   "execution_count": 2,
   "id": "03a5ff0d-66a8-48e2-99a3-f88869fc8ee3",
   "metadata": {},
   "outputs": [],
   "source": [
    "import pandas as pd\n",
    "import matplotlib.pyplot as plt\n",
    "import numpy as np\n",
    "import seaborn as sns\n",
    "import cycler"
   ]
  },
  {
   "cell_type": "code",
   "execution_count": 3,
   "id": "53e1e43b-e0d9-40ba-810b-4c0268f22167",
   "metadata": {},
   "outputs": [],
   "source": [
    "n = 100\n",
    "color = plt.cm.viridis(np.linspace(0, 1,n))\n",
    "plt.rcParams['axes.prop_cycle'] = cycler.cycler('color', color)"
   ]
  },
  {
   "cell_type": "code",
   "execution_count": 4,
   "id": "b44ba597-983a-4b0f-a978-c34811d9dcbf",
   "metadata": {},
   "outputs": [
    {
     "data": {
      "text/html": [
       "<div>\n",
       "<style scoped>\n",
       "    .dataframe tbody tr th:only-of-type {\n",
       "        vertical-align: middle;\n",
       "    }\n",
       "\n",
       "    .dataframe tbody tr th {\n",
       "        vertical-align: top;\n",
       "    }\n",
       "\n",
       "    .dataframe thead th {\n",
       "        text-align: right;\n",
       "    }\n",
       "</style>\n",
       "<table border=\"1\" class=\"dataframe\">\n",
       "  <thead>\n",
       "    <tr style=\"text-align: right;\">\n",
       "      <th></th>\n",
       "      <th>model</th>\n",
       "      <th>f1-score</th>\n",
       "    </tr>\n",
       "  </thead>\n",
       "  <tbody>\n",
       "    <tr>\n",
       "      <th>0</th>\n",
       "      <td>nb</td>\n",
       "      <td>0.6135</td>\n",
       "    </tr>\n",
       "    <tr>\n",
       "      <th>1</th>\n",
       "      <td>qda</td>\n",
       "      <td>0.5578</td>\n",
       "    </tr>\n",
       "    <tr>\n",
       "      <th>2</th>\n",
       "      <td>lr</td>\n",
       "      <td>0.5238</td>\n",
       "    </tr>\n",
       "    <tr>\n",
       "      <th>3</th>\n",
       "      <td>et</td>\n",
       "      <td>0.5276</td>\n",
       "    </tr>\n",
       "  </tbody>\n",
       "</table>\n",
       "</div>"
      ],
      "text/plain": [
       "  model  f1-score\n",
       "0    nb    0.6135\n",
       "1   qda    0.5578\n",
       "2    lr    0.5238\n",
       "3    et    0.5276"
      ]
     },
     "execution_count": 4,
     "metadata": {},
     "output_type": "execute_result"
    }
   ],
   "source": [
    "model = ['nb', 'qda', 'lr', 'et']\n",
    "f1 = [0.6135, 0.5578, 0.5238, 0.5276]\n",
    "sema = {'model': model, 'f1-score': f1} \n",
    "df = pd.DataFrame(sema)\n",
    "df"
   ]
  },
  {
   "cell_type": "code",
   "execution_count": 5,
   "id": "4cd8f0ce-e55e-4d0b-9a44-d32fd0b7ab23",
   "metadata": {},
   "outputs": [
    {
     "name": "stderr",
     "output_type": "stream",
     "text": [
      "The PostScript backend does not support transparency; partially transparent artists will be rendered opaque.\n",
      "The PostScript backend does not support transparency; partially transparent artists will be rendered opaque.\n"
     ]
    },
    {
     "data": {
      "image/png": "[encoded data removed]",
      "text/plain": [
       "<Figure size 432x288 with 1 Axes>"
      ]
     },
     "metadata": {
      "needs_background": "light"
     },
     "output_type": "display_data"
    }
   ],
   "source": [
    "ax = df.plot.bar(x='model', y='f1-score', rot=0, colormap='tab20b')\n",
    "plt.xlabel('Classification model')\n",
    "plt.ylabel('f1-score')\n",
    "plt.title('Label: SEMAs')\n",
    "plt.savefig(\"visualizations/sema_f1.png\",bbox_inches='tight')\n",
    "plt.savefig(\"visualizations/sema_f1.eps\",bbox_inches='tight')\n",
    "plt.show()"
   ]
  },
  {
   "cell_type": "code",
   "execution_count": 17,
   "id": "b0905e67-da18-49ff-94f5-9c344067160b",
   "metadata": {},
   "outputs": [
    {
     "name": "stderr",
     "output_type": "stream",
     "text": [
      "The PostScript backend does not support transparency; partially transparent artists will be rendered opaque.\n",
      "The PostScript backend does not support transparency; partially transparent artists will be rendered opaque.\n"
     ]
    },
    {
     "data": {
      "image/png": "[encoded data removed]",
      "text/plain": [
       "<Figure size 432x288 with 1 Axes>"
      ]
     },
     "metadata": {
      "needs_background": "light"
     },
     "output_type": "display_data"
    }
   ],
   "source": [
    "plotdata = pd.DataFrame({\n",
    "    \"lightgbm\":[0.6586, 0.6219, 0, 0.6418, 0.5146],\n",
    "    \"lr\":[0.6558, 0.5141, 0.5102, 0.5291, 0],\n",
    "    \"rf\":[0.6113, 0, 0, 0.6037, 0.5565],\n",
    "    \"nb\":[0.2712, 0.4697, 0.5215, 0.4860, 0.4983]\n",
    "    }, \n",
    "    index=[\"aggreableness\", \"conscientiousness\", \"extraversion\", \"intellect\", \"stability\"]\n",
    ")\n",
    "plotdata.plot(kind=\"bar\", colormap='tab20b')\n",
    "plt.title(\"Big Five Personality Traits\", size=15)\n",
    "plt.xlabel(\"Personality types\", size=15)\n",
    "plt.ylabel(\"AUC\", size=15)\n",
    "plt.ylim(0, 0.8)\n",
    "plt.legend(loc='best', ncol=2)\n",
    "plt.savefig(\"visualizations/personality_AUC_barplot.png\",bbox_inches='tight')\n",
    "plt.savefig(\"visualizations/personality_AUC_barplot.eps\",bbox_inches='tight')\n",
    "plt.show()"
   ]
  },
  {
   "cell_type": "code",
   "execution_count": null,
   "id": "812549b9-bae5-4bdc-bb89-1824eefcc069",
   "metadata": {},
   "outputs": [],
   "source": []
  },
  {
   "cell_type": "code",
   "execution_count": null,
   "id": "1e63486f-491f-4c62-8f7f-9d288f3e557e",
   "metadata": {},
   "outputs": [],
   "source": []
  },
  {
   "cell_type": "code",
   "execution_count": null,
   "id": "263b17a0-4ebe-4929-b1f9-aac6847c27ff",
   "metadata": {},
   "outputs": [],
   "source": []
  }
 ],
 "metadata": {
  "kernelspec": {
   "display_name": "Python 3 (ipykernel)",
   "language": "python",
   "name": "python3"
  },
  "language_info": {
   "codemirror_mode": {
    "name": "ipython",
    "version": 3
   },
   "file_extension": ".py",
   "mimetype": "text/x-python",
   "name": "python",
   "nbconvert_exporter": "python",
   "pygments_lexer": "ipython3",
   "version": "3.9.7"
  }
 },
 "nbformat": 4,
 "nbformat_minor": 5
}
