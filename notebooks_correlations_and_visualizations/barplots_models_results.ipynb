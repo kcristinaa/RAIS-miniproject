{
 "cells": [
  {
   "cell_type": "code",
   "execution_count": 1,
   "id": "03a5ff0d-66a8-48e2-99a3-f88869fc8ee3",
   "metadata": {
    "pycharm": {
     "name": "#%%\n"
    }
   },
   "outputs": [],
   "source": [
    "import pandas as pd\n",
    "import matplotlib.pyplot as plt\n",
    "import numpy as np\n",
    "import seaborn as sns\n",
    "import cycler"
   ]
  },
  {
   "cell_type": "code",
   "execution_count": 2,
   "id": "53e1e43b-e0d9-40ba-810b-4c0268f22167",
   "metadata": {
    "pycharm": {
     "name": "#%%\n"
    }
   },
   "outputs": [],
   "source": [
    "#n = 100\n",
    "#color = plt.cm.viridis(np.linspace(0, 1,n))\n",
    "#plt.rcParams['axes.prop_cycle'] = cycler.cycler('color', color)"
   ]
  },
  {
   "cell_type": "code",
   "execution_count": 3,
   "id": "8a086130-da15-48ae-803e-3a3f38485ef5",
   "metadata": {
    "pycharm": {
     "name": "#%%\n"
    }
   },
   "outputs": [],
   "source": [
    "my_colors = ['#668B8B', '#CDAF95', '#CDB5CD', '#CAE1FF']\n",
    "sns.set_style(\"whitegrid\")\n",
    "sns.set_palette(my_colors )"
   ]
  },
  {
   "cell_type": "code",
   "execution_count": null,
   "outputs": [],
   "source": [
    "plotdata = pd.DataFrame({\n",
    "    \"lightgbm\":[0.6586, 0.6219, 0, 0.6418, 0.5146],\n",
    "    \"lr\":[0.6558, 0.5141, 0.5102, 0.5291, 0],\n",
    "    \"rf\":[0.6113, 0, 0, 0.6037, 0.5565],\n",
    "    \"nb\":[0.2712, 0.4697, 0.5215, 0.4860, 0.4983]\n",
    "    }, \n",
    "    index=[\"aggreableness\", \"conscientiousness\", \"extraversion\", \"intellect\", \"stability\"]\n",
    ")\n",
    "plotdata.plot(kind=\"bar\")\n",
    "plt.title(\"Big Five Personality Traits\", size=15)\n",
    "plt.xlabel(\"Personality types\", size=15)\n",
    "plt.ylabel(\"AUC\", size=15)\n",
    "plt.ylim(0, 1)\n",
    "plt.xticks(fontsize=15)\n",
    "plt.yticks(fontsize=15)\n",
    "plt.legend(loc='best', ncol=2, fontsize=15)\n",
    "plt.savefig(\"visualizations/personality_AUC_barplot.png\",bbox_inches='tight')\n",
    "plt.savefig(\"visualizations/personality_AUC_barplot.eps\",bbox_inches='tight')\n",
    "plt.show()"
   ],
   "metadata": {
    "collapsed": false,
    "pycharm": {
     "name": "#%%\n"
    }
   }
  },
  {
   "cell_type": "code",
   "execution_count": null,
   "outputs": [],
   "source": [
    "# AUCs from LGBM model\n",
    "plotdata = pd.DataFrame({\n",
    "    \"unprocessed\":[0.3964, 0.3769, 0.4202, 0.4512, 0.4079],\n",
    "    \"preprocessed\":[0.6596, 0.6219, 0.5968, 0.6418, 0.5146],\n",
    "    },\n",
    "    index=[\"aggreableness\", \"conscientiousness\", \"extraversion\", \"intellect\", \"stability\"]\n",
    ")\n",
    "plotdata.plot(kind=\"bar\")\n",
    "plt.title(\"Personality Traits with LGBM\", size=25)\n",
    "plt.xlabel(\"Personality types\", size=20)\n",
    "plt.ylabel(\"AUC-ROC\", size=20)\n",
    "plt.ylim(0, 1)\n",
    "plt.xticks(fontsize=15)\n",
    "plt.yticks(fontsize=15)\n",
    "plt.legend(loc='best', ncol=2, fontsize=15)\n",
    "plt.savefig(\"visualizations/personality_AUC_barplot_datasets.png\",bbox_inches='tight')\n",
    "plt.savefig(\"visualizations/personality_AUC_barplot_datasets.eps\",bbox_inches='tight')\n",
    "plt.show()"
   ],
   "metadata": {
    "collapsed": false,
    "pycharm": {
     "name": "#%%\n"
    }
   }
  },
  {
   "cell_type": "code",
   "execution_count": null,
   "outputs": [],
   "source": [
    "# AUCs from LR model\n",
    "plotdata = pd.DataFrame({\n",
    "    \"unprocessed\":[0.4072, 0.5806],\n",
    "    \"preprocessed\":[0.8229, 0.8349],\n",
    "    },\n",
    "    index=[\"age\", \"gender\"]\n",
    ")\n",
    "plotdata.plot(kind=\"bar\")\n",
    "plt.title(\"Demographic Traits with LR\", size=25)\n",
    "plt.xlabel(\"Demographics\", size=20)\n",
    "plt.ylabel(\"AUC-ROC\", size=20)\n",
    "plt.ylim(0, 1)\n",
    "plt.xticks(fontsize=15)\n",
    "plt.yticks(fontsize=15)\n",
    "plt.legend(loc='best', ncol=2, fontsize=15)\n",
    "plt.savefig(\"visualizations/demographics_AUC_barplot_datasets.png\",bbox_inches='tight')\n",
    "plt.savefig(\"visualizations/demographics_AUC_barplot_datasets.eps\",bbox_inches='tight')\n",
    "plt.show()"
   ],
   "metadata": {
    "collapsed": false,
    "pycharm": {
     "name": "#%%\n"
    }
   }
  },
  {
   "cell_type": "code",
   "execution_count": null,
   "outputs": [],
   "source": [
    "# AUCs from RF model\n",
    "plotdata = pd.DataFrame({\n",
    "    \"unprocessed\":[0.5034, 0.4785, 0.4264],\n",
    "    \"preprocessed\":[0.5762, 0.4567, 0.6701],\n",
    "    },\n",
    "    index=[\"SEMA_mood\", \"PANAS_affect\", \"STAI_stress\"]\n",
    ")\n",
    "plotdata.plot(kind=\"bar\")\n",
    "plt.title(\"Psychological Traits with RF\", size=25)\n",
    "plt.xlabel(\"Psychological traits\", size=20)\n",
    "plt.ylabel(\"AUC-ROC\", size=20)\n",
    "plt.ylim(0, 1)\n",
    "plt.xticks(fontsize=15)\n",
    "plt.yticks(fontsize=15)\n",
    "plt.legend(loc='best', ncol=2, fontsize=15)\n",
    "plt.savefig(\"visualizations/mood_AUC_barplot_datasets.png\",bbox_inches='tight')\n",
    "plt.savefig(\"visualizations/mood_AUC_barplot_datasets.eps\",bbox_inches='tight')\n",
    "plt.show()"
   ],
   "metadata": {
    "collapsed": false,
    "pycharm": {
     "name": "#%%\n"
    }
   }
  },
  {
   "cell_type": "code",
   "execution_count": null,
   "outputs": [],
   "source": [
    "# AUCs from ET model\n",
    "plotdata = pd.DataFrame({\n",
    "    \"unprocessed\":[0.4868],\n",
    "    \"preprocessed\":[0.775],\n",
    "    },\n",
    "    index=[\"fitness_level\"]\n",
    ")\n",
    "plotdata.plot(kind=\"bar\")\n",
    "plt.title(\"Physiological Traits with ET\", size=25)\n",
    "plt.xlabel(\"Physiological trait\", size=20)\n",
    "plt.ylabel(\"AUC-ROC\", size=20)\n",
    "plt.ylim(0, 1)\n",
    "plt.xticks(fontsize=15)\n",
    "plt.yticks(fontsize=15)\n",
    "plt.legend(loc='best', ncol=2, fontsize=15)\n",
    "plt.savefig(\"visualizations/physiological_AUC_barplot_datasets.png\",bbox_inches='tight')\n",
    "plt.savefig(\"visualizations/physiological_AUC_barplot_datasets.eps\",bbox_inches='tight')\n",
    "plt.show()"
   ],
   "metadata": {
    "collapsed": false,
    "pycharm": {
     "name": "#%%\n"
    }
   }
  },
  {
   "cell_type": "code",
   "execution_count": null,
   "outputs": [],
   "source": [],
   "metadata": {
    "collapsed": false,
    "pycharm": {
     "name": "#%%\n"
    }
   }
  },
  {
   "cell_type": "code",
   "execution_count": null,
   "outputs": [],
   "source": [],
   "metadata": {
    "collapsed": false,
    "pycharm": {
     "name": "#%%\n"
    }
   }
  },
  {
   "cell_type": "code",
   "execution_count": null,
   "id": "3efa9fec-af2d-46fa-96e0-9e5bd1937180",
   "metadata": {
    "pycharm": {
     "name": "#%%\n"
    }
   },
   "outputs": [],
   "source": []
  }
 ],
 "metadata": {
  "kernelspec": {
   "display_name": "Python 3 (ipykernel)",
   "language": "python",
   "name": "python3"
  },
  "language_info": {
   "codemirror_mode": {
    "name": "ipython",
    "version": 3
   },
   "file_extension": ".py",
   "mimetype": "text/x-python",
   "name": "python",
   "nbconvert_exporter": "python",
   "pygments_lexer": "ipython3",
   "version": "3.9.7"
  }
 },
 "nbformat": 4,
 "nbformat_minor": 5
}