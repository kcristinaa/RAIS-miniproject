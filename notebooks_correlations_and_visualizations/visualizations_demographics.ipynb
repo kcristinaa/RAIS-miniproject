{
 "cells": [
  {
   "cell_type": "code",
   "execution_count": 310,
   "id": "4a455093-b3dd-48cb-a3d7-c5510869d271",
   "metadata": {},
   "outputs": [],
   "source": [
    "import pandas as pd\n",
    "import matplotlib.pyplot as plt\n",
    "import seaborn as sns\n",
    "import numpy as np"
   ]
  },
  {
   "cell_type": "code",
   "execution_count": 311,
   "id": "e09bf04b-e33c-4b25-ab4f-d61d3f61a7bd",
   "metadata": {},
   "outputs": [
    {
     "data": {
      "text/html": [
       "<div>\n",
       "<style scoped>\n",
       "    .dataframe tbody tr th:only-of-type {\n",
       "        vertical-align: middle;\n",
       "    }\n",
       "\n",
       "    .dataframe tbody tr th {\n",
       "        vertical-align: top;\n",
       "    }\n",
       "\n",
       "    .dataframe thead th {\n",
       "        text-align: right;\n",
       "    }\n",
       "</style>\n",
       "<table border=\"1\" class=\"dataframe\">\n",
       "  <thead>\n",
       "    <tr style=\"text-align: right;\">\n",
       "      <th></th>\n",
       "      <th>id</th>\n",
       "      <th>date</th>\n",
       "      <th>nightly_temperature</th>\n",
       "      <th>nremhr</th>\n",
       "      <th>rmssd</th>\n",
       "      <th>spo2</th>\n",
       "      <th>full_sleep_breathing_rate</th>\n",
       "      <th>stress_score</th>\n",
       "      <th>sleep_points_percentage</th>\n",
       "      <th>exertion_points_percentage</th>\n",
       "      <th>...</th>\n",
       "      <th>Steps_hour14</th>\n",
       "      <th>Steps_hour15</th>\n",
       "      <th>Steps_hour16</th>\n",
       "      <th>Steps_hour17</th>\n",
       "      <th>Steps_hour18</th>\n",
       "      <th>Steps_hour19</th>\n",
       "      <th>Steps_hour20</th>\n",
       "      <th>Steps_hour21</th>\n",
       "      <th>Steps_hour22</th>\n",
       "      <th>Steps_hour23</th>\n",
       "    </tr>\n",
       "  </thead>\n",
       "  <tbody>\n",
       "    <tr>\n",
       "      <th>0</th>\n",
       "      <td>621e2e8e67b776a24055b564</td>\n",
       "      <td>2021-05-24</td>\n",
       "      <td>34.137687</td>\n",
       "      <td>57.432</td>\n",
       "      <td>89.603</td>\n",
       "      <td>95.9</td>\n",
       "      <td>14.8</td>\n",
       "      <td>78.0</td>\n",
       "      <td>0.833333</td>\n",
       "      <td>0.675</td>\n",
       "      <td>...</td>\n",
       "      <td>191.0</td>\n",
       "      <td>33.0</td>\n",
       "      <td>342.0</td>\n",
       "      <td>1712.0</td>\n",
       "      <td>1838.0</td>\n",
       "      <td>160.0</td>\n",
       "      <td>155.0</td>\n",
       "      <td>37.0</td>\n",
       "      <td>31.0</td>\n",
       "      <td>53.0</td>\n",
       "    </tr>\n",
       "    <tr>\n",
       "      <th>1</th>\n",
       "      <td>621e2e8e67b776a24055b564</td>\n",
       "      <td>2021-05-25</td>\n",
       "      <td>33.794544</td>\n",
       "      <td>57.681</td>\n",
       "      <td>94.303</td>\n",
       "      <td>95.9</td>\n",
       "      <td>15.8</td>\n",
       "      <td>80.0</td>\n",
       "      <td>0.833333</td>\n",
       "      <td>0.725</td>\n",
       "      <td>...</td>\n",
       "      <td>120.0</td>\n",
       "      <td>24.0</td>\n",
       "      <td>446.0</td>\n",
       "      <td>377.0</td>\n",
       "      <td>3165.0</td>\n",
       "      <td>332.0</td>\n",
       "      <td>97.0</td>\n",
       "      <td>9.0</td>\n",
       "      <td>24.0</td>\n",
       "      <td>58.0</td>\n",
       "    </tr>\n",
       "    <tr>\n",
       "      <th>2</th>\n",
       "      <td>621e2e8e67b776a24055b564</td>\n",
       "      <td>2021-05-25</td>\n",
       "      <td>33.794544</td>\n",
       "      <td>57.681</td>\n",
       "      <td>94.303</td>\n",
       "      <td>95.9</td>\n",
       "      <td>15.8</td>\n",
       "      <td>80.0</td>\n",
       "      <td>0.833333</td>\n",
       "      <td>0.725</td>\n",
       "      <td>...</td>\n",
       "      <td>120.0</td>\n",
       "      <td>24.0</td>\n",
       "      <td>446.0</td>\n",
       "      <td>377.0</td>\n",
       "      <td>3165.0</td>\n",
       "      <td>332.0</td>\n",
       "      <td>97.0</td>\n",
       "      <td>9.0</td>\n",
       "      <td>24.0</td>\n",
       "      <td>58.0</td>\n",
       "    </tr>\n",
       "    <tr>\n",
       "      <th>3</th>\n",
       "      <td>621e2e8e67b776a24055b564</td>\n",
       "      <td>2021-05-26</td>\n",
       "      <td>34.611011</td>\n",
       "      <td>57.481</td>\n",
       "      <td>35.216</td>\n",
       "      <td>95.9</td>\n",
       "      <td>14.6</td>\n",
       "      <td>84.0</td>\n",
       "      <td>0.966667</td>\n",
       "      <td>0.725</td>\n",
       "      <td>...</td>\n",
       "      <td>85.0</td>\n",
       "      <td>477.0</td>\n",
       "      <td>390.0</td>\n",
       "      <td>2821.0</td>\n",
       "      <td>293.0</td>\n",
       "      <td>158.0</td>\n",
       "      <td>66.0</td>\n",
       "      <td>0.0</td>\n",
       "      <td>70.0</td>\n",
       "      <td>74.0</td>\n",
       "    </tr>\n",
       "    <tr>\n",
       "      <th>4</th>\n",
       "      <td>621e2e8e67b776a24055b564</td>\n",
       "      <td>2021-05-27</td>\n",
       "      <td>34.408304</td>\n",
       "      <td>57.493</td>\n",
       "      <td>35.216</td>\n",
       "      <td>95.9</td>\n",
       "      <td>14.8</td>\n",
       "      <td>82.0</td>\n",
       "      <td>0.933333</td>\n",
       "      <td>0.725</td>\n",
       "      <td>...</td>\n",
       "      <td>58.0</td>\n",
       "      <td>296.0</td>\n",
       "      <td>401.0</td>\n",
       "      <td>21.0</td>\n",
       "      <td>3054.0</td>\n",
       "      <td>503.0</td>\n",
       "      <td>411.0</td>\n",
       "      <td>96.0</td>\n",
       "      <td>63.0</td>\n",
       "      <td>8.0</td>\n",
       "    </tr>\n",
       "  </tbody>\n",
       "</table>\n",
       "<p>5 rows × 159 columns</p>\n",
       "</div>"
      ],
      "text/plain": [
       "                         id       date  nightly_temperature  nremhr   rmssd  \\\n",
       "0  621e2e8e67b776a24055b564 2021-05-24            34.137687  57.432  89.603   \n",
       "1  621e2e8e67b776a24055b564 2021-05-25            33.794544  57.681  94.303   \n",
       "2  621e2e8e67b776a24055b564 2021-05-25            33.794544  57.681  94.303   \n",
       "3  621e2e8e67b776a24055b564 2021-05-26            34.611011  57.481  35.216   \n",
       "4  621e2e8e67b776a24055b564 2021-05-27            34.408304  57.493  35.216   \n",
       "\n",
       "   spo2  full_sleep_breathing_rate  stress_score  sleep_points_percentage  \\\n",
       "0  95.9                       14.8          78.0                 0.833333   \n",
       "1  95.9                       15.8          80.0                 0.833333   \n",
       "2  95.9                       15.8          80.0                 0.833333   \n",
       "3  95.9                       14.6          84.0                 0.966667   \n",
       "4  95.9                       14.8          82.0                 0.933333   \n",
       "\n",
       "   exertion_points_percentage  ...  Steps_hour14  Steps_hour15  Steps_hour16  \\\n",
       "0                       0.675  ...         191.0          33.0         342.0   \n",
       "1                       0.725  ...         120.0          24.0         446.0   \n",
       "2                       0.725  ...         120.0          24.0         446.0   \n",
       "3                       0.725  ...          85.0         477.0         390.0   \n",
       "4                       0.725  ...          58.0         296.0         401.0   \n",
       "\n",
       "   Steps_hour17  Steps_hour18  Steps_hour19  Steps_hour20  Steps_hour21  \\\n",
       "0        1712.0        1838.0         160.0         155.0          37.0   \n",
       "1         377.0        3165.0         332.0          97.0           9.0   \n",
       "2         377.0        3165.0         332.0          97.0           9.0   \n",
       "3        2821.0         293.0         158.0          66.0           0.0   \n",
       "4          21.0        3054.0         503.0         411.0          96.0   \n",
       "\n",
       "   Steps_hour22  Steps_hour23  \n",
       "0          31.0          53.0  \n",
       "1          24.0          58.0  \n",
       "2          24.0          58.0  \n",
       "3          70.0          74.0  \n",
       "4          63.0           8.0  \n",
       "\n",
       "[5 rows x 159 columns]"
      ]
     },
     "execution_count": 311,
     "metadata": {},
     "output_type": "execute_result"
    }
   ],
   "source": [
    "df = pd.read_pickle('../data/unified_dataframe/data_preprocessed.pkl')\n",
    "df.head()"
   ]
  },
  {
   "cell_type": "code",
   "execution_count": 312,
   "id": "eddb096f-e174-4a80-a026-6e6b8739e4be",
   "metadata": {},
   "outputs": [
    {
     "data": {
      "text/html": [
       "<div>\n",
       "<style scoped>\n",
       "    .dataframe tbody tr th:only-of-type {\n",
       "        vertical-align: middle;\n",
       "    }\n",
       "\n",
       "    .dataframe tbody tr th {\n",
       "        vertical-align: top;\n",
       "    }\n",
       "\n",
       "    .dataframe thead th {\n",
       "        text-align: right;\n",
       "    }\n",
       "</style>\n",
       "<table border=\"1\" class=\"dataframe\">\n",
       "  <thead>\n",
       "    <tr style=\"text-align: right;\">\n",
       "      <th></th>\n",
       "      <th>id</th>\n",
       "      <th>age</th>\n",
       "      <th>gender</th>\n",
       "      <th>bmi</th>\n",
       "    </tr>\n",
       "  </thead>\n",
       "  <tbody>\n",
       "    <tr>\n",
       "      <th>0</th>\n",
       "      <td>621e2e8e67b776a24055b564</td>\n",
       "      <td>0.0</td>\n",
       "      <td>0.0</td>\n",
       "      <td>Underweight</td>\n",
       "    </tr>\n",
       "    <tr>\n",
       "      <th>87</th>\n",
       "      <td>621e2eaf67b776a2406b14ac</td>\n",
       "      <td>1.0</td>\n",
       "      <td>1.0</td>\n",
       "      <td>Underweight</td>\n",
       "    </tr>\n",
       "    <tr>\n",
       "      <th>173</th>\n",
       "      <td>621e2ed667b776a24085d8d1</td>\n",
       "      <td>0.0</td>\n",
       "      <td>1.0</td>\n",
       "      <td>Normal</td>\n",
       "    </tr>\n",
       "    <tr>\n",
       "      <th>276</th>\n",
       "      <td>621e2ef567b776a24099f889</td>\n",
       "      <td>0.0</td>\n",
       "      <td>0.0</td>\n",
       "      <td>Overweight</td>\n",
       "    </tr>\n",
       "    <tr>\n",
       "      <th>342</th>\n",
       "      <td>621e2efa67b776a2409dd1c3</td>\n",
       "      <td>0.0</td>\n",
       "      <td>1.0</td>\n",
       "      <td>Normal</td>\n",
       "    </tr>\n",
       "  </tbody>\n",
       "</table>\n",
       "</div>"
      ],
      "text/plain": [
       "                           id  age  gender          bmi\n",
       "0    621e2e8e67b776a24055b564  0.0     0.0  Underweight\n",
       "87   621e2eaf67b776a2406b14ac  1.0     1.0  Underweight\n",
       "173  621e2ed667b776a24085d8d1  0.0     1.0       Normal\n",
       "276  621e2ef567b776a24099f889  0.0     0.0   Overweight\n",
       "342  621e2efa67b776a2409dd1c3  0.0     1.0       Normal"
      ]
     },
     "execution_count": 312,
     "metadata": {},
     "output_type": "execute_result"
    }
   ],
   "source": [
    "demo = df[['id', 'age', 'gender', 'bmi']]\n",
    "demo = demo.drop_duplicates()\n",
    "demo.head()"
   ]
  },
  {
   "cell_type": "code",
   "execution_count": 313,
   "id": "02c24acf-4d75-4aa4-af5e-359d6ebd6bc7",
   "metadata": {},
   "outputs": [
    {
     "data": {
      "text/plain": [
       "0.0    37\n",
       "1.0    34\n",
       "Name: age, dtype: int64"
      ]
     },
     "execution_count": 313,
     "metadata": {},
     "output_type": "execute_result"
    }
   ],
   "source": [
    "demo['age'].value_counts()"
   ]
  },
  {
   "cell_type": "code",
   "execution_count": 314,
   "id": "8401028e-e17c-427d-b387-705c0032b0e0",
   "metadata": {},
   "outputs": [
    {
     "data": {
      "text/plain": [
       "0.0    44\n",
       "1.0    27\n",
       "Name: gender, dtype: int64"
      ]
     },
     "execution_count": 314,
     "metadata": {},
     "output_type": "execute_result"
    }
   ],
   "source": [
    "demo['gender'].value_counts()"
   ]
  },
  {
   "cell_type": "code",
   "execution_count": 315,
   "id": "6f0f07ad-d18a-449a-8d04-ea973d228a60",
   "metadata": {},
   "outputs": [
    {
     "data": {
      "text/plain": [
       "Normal         43\n",
       "Overweight     17\n",
       "Underweight     7\n",
       "Obese           4\n",
       "Name: bmi, dtype: int64"
      ]
     },
     "execution_count": 315,
     "metadata": {},
     "output_type": "execute_result"
    }
   ],
   "source": [
    "demo['bmi'].value_counts()"
   ]
  },
  {
   "cell_type": "code",
   "execution_count": 316,
   "id": "533d71bd-09b9-4a33-94dd-5d0ca6bbe5b8",
   "metadata": {},
   "outputs": [
    {
     "name": "stdout",
     "output_type": "stream",
     "text": [
      "['#e41a1c', '#377eb8', '#4daf4a', '#984ea3', '#ff7f00', '#ffff33', '#a65628', '#f781bf', '#999999']\n"
     ]
    }
   ],
   "source": [
    "print(sns.color_palette(\"Set1\").as_hex())"
   ]
  },
  {
   "cell_type": "code",
   "execution_count": 317,
   "id": "889647de-c22e-48b3-850a-0a680d9e2fbf",
   "metadata": {},
   "outputs": [
    {
     "name": "stderr",
     "output_type": "stream",
     "text": [
      "The PostScript backend does not support transparency; partially transparent artists will be rendered opaque.\n"
     ]
    },
    {
     "data": {
      "image/png": "[encoded data removed]",
      "text/plain": [
       "<Figure size 640x480 with 1 Axes>"
      ]
     },
     "metadata": {},
     "output_type": "display_data"
    }
   ],
   "source": [
    "first_labels = ['male', 'female']\n",
    "first_sizes = [42, 27]\n",
    "second_labels=['below 30s', 'above 30s']\n",
    "second_sizes = [37, 31]\n",
    "third_labels = ['normal', 'overweight', 'underweight', 'obese']\n",
    "third_sizes = [43, 17, 7, 4]\n",
    " \n",
    "fl = ['#668B8B', '#CDAF95']\n",
    "dd = ['#CDB5CD', '#CAE1FF']\n",
    "\n",
    "\n",
    "bigger = plt.pie(first_sizes, labels=first_labels, colors=fl,\n",
    "                 startangle=90, frame=True, radius = 1,\n",
    "                wedgeprops={'edgecolor':'w'})\n",
    "\n",
    "smaller = plt.pie(second_sizes, labels=second_labels,\n",
    "                  colors=dd, radius=0.8,\n",
    "                  startangle=90, labeldistance=0.3,\n",
    "                 wedgeprops={'edgecolor':'w'}, rotatelabels=True)\n",
    "\n",
    "centre_circle = plt.Circle((0, 0), 0.2, color='white', linewidth=0)\n",
    "\n",
    "fig = plt.gcf()\n",
    "fig.gca().add_artist(centre_circle)\n",
    "\n",
    "# add legend to current ax:\n",
    "plt.gca().legend(loc='best', bbox_to_anchor=(-0.1,-0.09,0.5,0.5))\n",
    "plt.title('Gender and Age')\n",
    "plt.savefig(\"visualizations/demo1.png\",bbox_inches='tight')\n",
    "plt.savefig(\"visualizations/demo1.eps\",bbox_inches='tight')\n",
    "plt.show()"
   ]
  },
  {
   "cell_type": "code",
   "execution_count": 318,
   "id": "c262828e-5f28-4e16-ae68-c941ce83c5cd",
   "metadata": {},
   "outputs": [
    {
     "name": "stderr",
     "output_type": "stream",
     "text": [
      "The PostScript backend does not support transparency; partially transparent artists will be rendered opaque.\n"
     ]
    },
    {
     "data": {
      "image/png": "[encoded data removed]",
      "text/plain": [
       "<Figure size 640x480 with 1 Axes>"
      ]
     },
     "metadata": {},
     "output_type": "display_data"
    }
   ],
   "source": [
    "f = ['#668B8B', '#CDAF95', '#CDB5CD', '#CAE1FF']\n",
    "\n",
    "smaller = plt.pie(third_sizes, labels=third_labels,\n",
    "                  colors=f, radius=1,\n",
    "                  startangle=90, labeldistance=1.1,\n",
    "                 wedgeprops={'edgecolor':'w'})\n",
    "\n",
    "centre_circle = plt.Circle((0, 0), 0.2, color='white', linewidth=0)\n",
    "\n",
    "fig = plt.gcf()\n",
    "fig.gca().add_artist(centre_circle)\n",
    "\n",
    "# add legend to current ax:\n",
    "plt.gca().legend(loc='center right', bbox_to_anchor=(1,0,0.5,0.5))\n",
    "plt.title('BMI')\n",
    "plt.legend(third_labels,loc=3)\n",
    "plt.savefig(\"visualizations/demo2.png\",bbox_inches='tight')\n",
    "plt.savefig(\"visualizations/demo2.eps\",bbox_inches='tight')\n",
    "plt.show()"
   ]
  },
  {
   "cell_type": "code",
   "execution_count": null,
   "id": "24781209-f7f7-46df-91f2-b22f3676cfff",
   "metadata": {},
   "outputs": [],
   "source": []
  },
  {
   "cell_type": "code",
   "execution_count": null,
   "id": "dc65b3b2-3419-4c06-aa93-4405b7aeba78",
   "metadata": {},
   "outputs": [],
   "source": []
  },
  {
   "cell_type": "code",
   "execution_count": null,
   "id": "e67033e7-2a21-4131-afff-6e35e3e250a5",
   "metadata": {},
   "outputs": [],
   "source": []
  }
 ],
 "metadata": {
  "kernelspec": {
   "display_name": "tsfresh",
   "language": "python",
   "name": "tsfresh"
  },
  "language_info": {
   "codemirror_mode": {
    "name": "ipython",
    "version": 3
   },
   "file_extension": ".py",
   "mimetype": "text/x-python",
   "name": "python",
   "nbconvert_exporter": "python",
   "pygments_lexer": "ipython3",
   "version": "3.8.15"
  }
 },
 "nbformat": 4,
 "nbformat_minor": 5
}
