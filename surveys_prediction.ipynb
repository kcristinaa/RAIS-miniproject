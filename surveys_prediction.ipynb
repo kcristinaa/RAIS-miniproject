{
 "cells": [
  {
   "cell_type": "code",
   "execution_count": 3,
   "metadata": {
    "collapsed": true,
    "pycharm": {
     "name": "#%%\n"
    }
   },
   "outputs": [
    {
     "data": {
      "text/plain": "                            id       date  nightly_temperature  nremhr  \\\n0     621e2e8e67b776a24055b564 2021-05-24            34.137687  57.432   \n1     621e2e8e67b776a24055b564 2021-05-25            33.794544  57.681   \n2     621e2e8e67b776a24055b564 2021-05-26            34.611011  57.481   \n3     621e2e8e67b776a24055b564 2021-05-27            34.408304  57.493   \n4     621e2e8e67b776a24055b564 2021-05-28            34.178922  56.750   \n...                        ...        ...                  ...     ...   \n7416  621e375b67b776a240290cdc 2021-08-13                  NaN     NaN   \n7417  621e375b67b776a240290cdc 2021-08-14                  NaN     NaN   \n7418  621e375b67b776a240290cdc 2021-08-15                  NaN     NaN   \n7419  621e375b67b776a240290cdc 2021-08-16                  NaN     NaN   \n7420  621e375b67b776a240290cdc 2021-08-17                  NaN     NaN   \n\n        rmssd  spo2  full_sleep_breathing_rate  stress_score  \\\n0      89.603   NaN                       14.8          78.0   \n1      94.303   NaN                       15.8          80.0   \n2     119.212   NaN                       14.6          84.0   \n3     111.709   NaN                       14.8          82.0   \n4     103.034   NaN                       15.2          81.0   \n...       ...   ...                        ...           ...   \n7416      NaN   NaN                        NaN           NaN   \n7417      NaN   NaN                        NaN           NaN   \n7418      NaN   NaN                        NaN           NaN   \n7419      NaN   NaN                        NaN           NaN   \n7420      NaN   NaN                        NaN           NaN   \n\n      sleep_points_percentage  exertion_points_percentage  ...  \\\n0                    0.833333                       0.675  ...   \n1                    0.833333                       0.725  ...   \n2                    0.966667                       0.725  ...   \n3                    0.933333                       0.725  ...   \n4                    0.866667                       0.725  ...   \n...                       ...                         ...  ...   \n7416                      NaN                         NaN  ...   \n7417                      NaN                         NaN  ...   \n7418                      NaN                         NaN  ...   \n7419                      NaN                         NaN  ...   \n7420                      NaN                         NaN  ...   \n\n      sleep_light_ratio  sleep_rem_ratio steps  minutes_in_default_zone_1  \\\n0              0.921642         1.341772   NaN                       83.0   \n1              0.947566         1.197531   NaN                       56.0   \n2              1.015038         1.670732   NaN                       85.0   \n3              1.191729         1.588235   NaN                       90.0   \n4              1.211896         1.090909   NaN                      146.0   \n...                 ...              ...   ...                        ...   \n7416                NaN              NaN   NaN                        NaN   \n7417                NaN              NaN   NaN                        NaN   \n7418                NaN              NaN   NaN                        NaN   \n7419                NaN              NaN   NaN                        NaN   \n7420                NaN              NaN   NaN                        NaN   \n\n      minutes_below_default_zone_1  minutes_in_default_zone_2  \\\n0                           1349.0                        0.0   \n1                           1374.0                        4.0   \n2                           1350.0                        0.0   \n3                           1282.0                        0.0   \n4                           1274.0                        4.0   \n...                            ...                        ...   \n7416                           NaN                        NaN   \n7417                           NaN                        NaN   \n7418                           NaN                        NaN   \n7419                           NaN                        NaN   \n7420                           NaN                        NaN   \n\n     minutes_in_default_zone_3  age  gender   bmi  \n0                          0.0  <30    MALE   <19  \n1                          0.0  <30    MALE   <19  \n2                          0.0  <30    MALE   <19  \n3                          0.0  <30    MALE   <19  \n4                          0.0  <30    MALE   <19  \n...                        ...  ...     ...   ...  \n7416                       NaN  <30  FEMALE  23.0  \n7417                       NaN  <30  FEMALE  23.0  \n7418                       NaN  <30  FEMALE  23.0  \n7419                       NaN  <30  FEMALE  23.0  \n7420                       NaN  <30  FEMALE  23.0  \n\n[7421 rows x 43 columns]",
      "text/html": "<div>\n<style scoped>\n    .dataframe tbody tr th:only-of-type {\n        vertical-align: middle;\n    }\n\n    .dataframe tbody tr th {\n        vertical-align: top;\n    }\n\n    .dataframe thead th {\n        text-align: right;\n    }\n</style>\n<table border=\"1\" class=\"dataframe\">\n  <thead>\n    <tr style=\"text-align: right;\">\n      <th></th>\n      <th>id</th>\n      <th>date</th>\n      <th>nightly_temperature</th>\n      <th>nremhr</th>\n      <th>rmssd</th>\n      <th>spo2</th>\n      <th>full_sleep_breathing_rate</th>\n      <th>stress_score</th>\n      <th>sleep_points_percentage</th>\n      <th>exertion_points_percentage</th>\n      <th>...</th>\n      <th>sleep_light_ratio</th>\n      <th>sleep_rem_ratio</th>\n      <th>steps</th>\n      <th>minutes_in_default_zone_1</th>\n      <th>minutes_below_default_zone_1</th>\n      <th>minutes_in_default_zone_2</th>\n      <th>minutes_in_default_zone_3</th>\n      <th>age</th>\n      <th>gender</th>\n      <th>bmi</th>\n    </tr>\n  </thead>\n  <tbody>\n    <tr>\n      <th>0</th>\n      <td>621e2e8e67b776a24055b564</td>\n      <td>2021-05-24</td>\n      <td>34.137687</td>\n      <td>57.432</td>\n      <td>89.603</td>\n      <td>NaN</td>\n      <td>14.8</td>\n      <td>78.0</td>\n      <td>0.833333</td>\n      <td>0.675</td>\n      <td>...</td>\n      <td>0.921642</td>\n      <td>1.341772</td>\n      <td>NaN</td>\n      <td>83.0</td>\n      <td>1349.0</td>\n      <td>0.0</td>\n      <td>0.0</td>\n      <td>&lt;30</td>\n      <td>MALE</td>\n      <td>&lt;19</td>\n    </tr>\n    <tr>\n      <th>1</th>\n      <td>621e2e8e67b776a24055b564</td>\n      <td>2021-05-25</td>\n      <td>33.794544</td>\n      <td>57.681</td>\n      <td>94.303</td>\n      <td>NaN</td>\n      <td>15.8</td>\n      <td>80.0</td>\n      <td>0.833333</td>\n      <td>0.725</td>\n      <td>...</td>\n      <td>0.947566</td>\n      <td>1.197531</td>\n      <td>NaN</td>\n      <td>56.0</td>\n      <td>1374.0</td>\n      <td>4.0</td>\n      <td>0.0</td>\n      <td>&lt;30</td>\n      <td>MALE</td>\n      <td>&lt;19</td>\n    </tr>\n    <tr>\n      <th>2</th>\n      <td>621e2e8e67b776a24055b564</td>\n      <td>2021-05-26</td>\n      <td>34.611011</td>\n      <td>57.481</td>\n      <td>119.212</td>\n      <td>NaN</td>\n      <td>14.6</td>\n      <td>84.0</td>\n      <td>0.966667</td>\n      <td>0.725</td>\n      <td>...</td>\n      <td>1.015038</td>\n      <td>1.670732</td>\n      <td>NaN</td>\n      <td>85.0</td>\n      <td>1350.0</td>\n      <td>0.0</td>\n      <td>0.0</td>\n      <td>&lt;30</td>\n      <td>MALE</td>\n      <td>&lt;19</td>\n    </tr>\n    <tr>\n      <th>3</th>\n      <td>621e2e8e67b776a24055b564</td>\n      <td>2021-05-27</td>\n      <td>34.408304</td>\n      <td>57.493</td>\n      <td>111.709</td>\n      <td>NaN</td>\n      <td>14.8</td>\n      <td>82.0</td>\n      <td>0.933333</td>\n      <td>0.725</td>\n      <td>...</td>\n      <td>1.191729</td>\n      <td>1.588235</td>\n      <td>NaN</td>\n      <td>90.0</td>\n      <td>1282.0</td>\n      <td>0.0</td>\n      <td>0.0</td>\n      <td>&lt;30</td>\n      <td>MALE</td>\n      <td>&lt;19</td>\n    </tr>\n    <tr>\n      <th>4</th>\n      <td>621e2e8e67b776a24055b564</td>\n      <td>2021-05-28</td>\n      <td>34.178922</td>\n      <td>56.750</td>\n      <td>103.034</td>\n      <td>NaN</td>\n      <td>15.2</td>\n      <td>81.0</td>\n      <td>0.866667</td>\n      <td>0.725</td>\n      <td>...</td>\n      <td>1.211896</td>\n      <td>1.090909</td>\n      <td>NaN</td>\n      <td>146.0</td>\n      <td>1274.0</td>\n      <td>4.0</td>\n      <td>0.0</td>\n      <td>&lt;30</td>\n      <td>MALE</td>\n      <td>&lt;19</td>\n    </tr>\n    <tr>\n      <th>...</th>\n      <td>...</td>\n      <td>...</td>\n      <td>...</td>\n      <td>...</td>\n      <td>...</td>\n      <td>...</td>\n      <td>...</td>\n      <td>...</td>\n      <td>...</td>\n      <td>...</td>\n      <td>...</td>\n      <td>...</td>\n      <td>...</td>\n      <td>...</td>\n      <td>...</td>\n      <td>...</td>\n      <td>...</td>\n      <td>...</td>\n      <td>...</td>\n      <td>...</td>\n      <td>...</td>\n    </tr>\n    <tr>\n      <th>7416</th>\n      <td>621e375b67b776a240290cdc</td>\n      <td>2021-08-13</td>\n      <td>NaN</td>\n      <td>NaN</td>\n      <td>NaN</td>\n      <td>NaN</td>\n      <td>NaN</td>\n      <td>NaN</td>\n      <td>NaN</td>\n      <td>NaN</td>\n      <td>...</td>\n      <td>NaN</td>\n      <td>NaN</td>\n      <td>NaN</td>\n      <td>NaN</td>\n      <td>NaN</td>\n      <td>NaN</td>\n      <td>NaN</td>\n      <td>&lt;30</td>\n      <td>FEMALE</td>\n      <td>23.0</td>\n    </tr>\n    <tr>\n      <th>7417</th>\n      <td>621e375b67b776a240290cdc</td>\n      <td>2021-08-14</td>\n      <td>NaN</td>\n      <td>NaN</td>\n      <td>NaN</td>\n      <td>NaN</td>\n      <td>NaN</td>\n      <td>NaN</td>\n      <td>NaN</td>\n      <td>NaN</td>\n      <td>...</td>\n      <td>NaN</td>\n      <td>NaN</td>\n      <td>NaN</td>\n      <td>NaN</td>\n      <td>NaN</td>\n      <td>NaN</td>\n      <td>NaN</td>\n      <td>&lt;30</td>\n      <td>FEMALE</td>\n      <td>23.0</td>\n    </tr>\n    <tr>\n      <th>7418</th>\n      <td>621e375b67b776a240290cdc</td>\n      <td>2021-08-15</td>\n      <td>NaN</td>\n      <td>NaN</td>\n      <td>NaN</td>\n      <td>NaN</td>\n      <td>NaN</td>\n      <td>NaN</td>\n      <td>NaN</td>\n      <td>NaN</td>\n      <td>...</td>\n      <td>NaN</td>\n      <td>NaN</td>\n      <td>NaN</td>\n      <td>NaN</td>\n      <td>NaN</td>\n      <td>NaN</td>\n      <td>NaN</td>\n      <td>&lt;30</td>\n      <td>FEMALE</td>\n      <td>23.0</td>\n    </tr>\n    <tr>\n      <th>7419</th>\n      <td>621e375b67b776a240290cdc</td>\n      <td>2021-08-16</td>\n      <td>NaN</td>\n      <td>NaN</td>\n      <td>NaN</td>\n      <td>NaN</td>\n      <td>NaN</td>\n      <td>NaN</td>\n      <td>NaN</td>\n      <td>NaN</td>\n      <td>...</td>\n      <td>NaN</td>\n      <td>NaN</td>\n      <td>NaN</td>\n      <td>NaN</td>\n      <td>NaN</td>\n      <td>NaN</td>\n      <td>NaN</td>\n      <td>&lt;30</td>\n      <td>FEMALE</td>\n      <td>23.0</td>\n    </tr>\n    <tr>\n      <th>7420</th>\n      <td>621e375b67b776a240290cdc</td>\n      <td>2021-08-17</td>\n      <td>NaN</td>\n      <td>NaN</td>\n      <td>NaN</td>\n      <td>NaN</td>\n      <td>NaN</td>\n      <td>NaN</td>\n      <td>NaN</td>\n      <td>NaN</td>\n      <td>...</td>\n      <td>NaN</td>\n      <td>NaN</td>\n      <td>NaN</td>\n      <td>NaN</td>\n      <td>NaN</td>\n      <td>NaN</td>\n      <td>NaN</td>\n      <td>&lt;30</td>\n      <td>FEMALE</td>\n      <td>23.0</td>\n    </tr>\n  </tbody>\n</table>\n<p>7421 rows × 43 columns</p>\n</div>"
     },
     "execution_count": 3,
     "metadata": {},
     "output_type": "execute_result"
    }
   ],
   "source": [
    "import pickle\n",
    "\n",
    "# loading the data\n",
    "infile = open('data/daily_fitbit_df_unprocessed.pkl','rb')\n",
    "fitbit_df = pickle.load(infile)\n",
    "infile.close()\n",
    "fitbit_df"
   ]
  },
  {
   "cell_type": "code",
   "execution_count": null,
   "outputs": [],
   "source": [
    "from dataprep.eda import create_report\n",
    "create_report(fitbit_df).show_browser()"
   ],
   "metadata": {
    "collapsed": false,
    "pycharm": {
     "name": "#%%\n"
    }
   }
  }
 ],
 "metadata": {
  "kernelspec": {
   "display_name": "Python 3",
   "language": "python",
   "name": "python3"
  },
  "language_info": {
   "codemirror_mode": {
    "name": "ipython",
    "version": 2
   },
   "file_extension": ".py",
   "mimetype": "text/x-python",
   "name": "python",
   "nbconvert_exporter": "python",
   "pygments_lexer": "ipython2",
   "version": "2.7.6"
  }
 },
 "nbformat": 4,
 "nbformat_minor": 0
}