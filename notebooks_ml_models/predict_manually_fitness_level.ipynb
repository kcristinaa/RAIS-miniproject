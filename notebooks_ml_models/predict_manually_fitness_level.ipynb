{
 "cells": [
  {
   "cell_type": "code",
   "execution_count": 83,
   "metadata": {
    "collapsed": true,
    "pycharm": {
     "name": "#%%\n"
    }
   },
   "outputs": [],
   "source": [
    "import numpy as np\n",
    "import pandas as pd\n",
    "from dataprep.eda import create_report\n",
    "from sklearn.metrics import auc, roc_curve\n",
    "from sklearn.ensemble import ExtraTreesClassifier"
   ]
  },
  {
   "cell_type": "code",
   "execution_count": 84,
   "outputs": [],
   "source": [
    "def train_test_split_per_user(data, train_size=0.7):\n",
    "    users = list(set(data.id))\n",
    "    users = sorted(users, reverse=True)  # fix randomness\n",
    "    total_users = len(users)\n",
    "    slice = int(train_size * total_users)\n",
    "    users_train = users[:slice]\n",
    "    users_test = users[slice:]\n",
    "    return data[data.id.isin(users_train)], data[data.id.isin(users_test)]\n",
    "\n",
    "def get_cardio_category(gender, age, vo2max):\n",
    "    if pd.isna(gender):\n",
    "        return np.nan\n",
    "    if gender == \"MALE\":\n",
    "        if age == \"<30\":\n",
    "            if vo2max >= 51.1:\n",
    "                return \"Superior/Excellent\"\n",
    "            elif vo2max >= 41.7:\n",
    "                return \"Fair/Good\"\n",
    "            else:\n",
    "                return \"Poor\"\n",
    "        else:\n",
    "            if vo2max >= 48.3:\n",
    "                return \"Superior/Excellent\"\n",
    "            elif vo2max >= 40.5:\n",
    "                return \"Fair/Good\"\n",
    "            else:\n",
    "                return \"Poor\"\n",
    "    else:\n",
    "        if age == \"<30\":\n",
    "            if vo2max >= 43.9:\n",
    "                return \"Superior/Excellent\"\n",
    "            elif vo2max >= 36.1:\n",
    "                return \"Fair/Good\"\n",
    "            else:\n",
    "                return \"Poor\"\n",
    "        else:\n",
    "            if vo2max >= 42.4:\n",
    "                return \"Superior/Excellent\"\n",
    "            elif vo2max >= 34.4:\n",
    "                return \"Fair/Good\"\n",
    "            else:\n",
    "                return \"Poor\""
   ],
   "metadata": {
    "collapsed": false,
    "pycharm": {
     "name": "#%%\n"
    }
   }
  },
  {
   "cell_type": "code",
   "execution_count": 85,
   "outputs": [
    {
     "data": {
      "text/plain": "                         id       date  nightly_temperature  nremhr    rmssd  \\\n0  621e2e8e67b776a24055b564 2021-05-24            34.137687  57.432   89.603   \n1  621e2e8e67b776a24055b564 2021-05-25            33.794544  57.681   94.303   \n2  621e2e8e67b776a24055b564 2021-05-26            34.611011  57.481  119.212   \n3  621e2e8e67b776a24055b564 2021-05-27            34.408304  57.493  111.709   \n4  621e2e8e67b776a24055b564 2021-05-28            34.178922  56.750  103.034   \n\n   spo2  full_sleep_breathing_rate  stress_score  sleep_points_percentage  \\\n0  95.9                       14.8          78.0                 0.833333   \n1  95.9                       15.8          80.0                 0.833333   \n2  95.9                       14.6          84.0                 0.966667   \n3  95.9                       14.8          82.0                 0.933333   \n4  95.9                       15.2          81.0                 0.866667   \n\n   exertion_points_percentage  ...  Steps_hour14  Steps_hour15  Steps_hour16  \\\n0                       0.675  ...         191.0          33.0         342.0   \n1                       0.725  ...         120.0          24.0         446.0   \n2                       0.725  ...          85.0         477.0         390.0   \n3                       0.725  ...          58.0         296.0         401.0   \n4                       0.725  ...         250.0          82.0        1363.0   \n\n   Steps_hour17  Steps_hour18  Steps_hour19  Steps_hour20  Steps_hour21  \\\n0        1712.0        1838.0         160.0         155.0          37.0   \n1         377.0        3165.0         332.0          97.0           9.0   \n2        2821.0         293.0         158.0          66.0           0.0   \n3          21.0        3054.0         503.0         411.0          96.0   \n4        3014.0          81.0         104.0        1984.0          18.0   \n\n   Steps_hour22  Steps_hour23  \n0          31.0          53.0  \n1          24.0          58.0  \n2          70.0          74.0  \n3          63.0           8.0  \n4         141.0          60.0  \n\n[5 rows x 150 columns]",
      "text/html": "<div>\n<style scoped>\n    .dataframe tbody tr th:only-of-type {\n        vertical-align: middle;\n    }\n\n    .dataframe tbody tr th {\n        vertical-align: top;\n    }\n\n    .dataframe thead th {\n        text-align: right;\n    }\n</style>\n<table border=\"1\" class=\"dataframe\">\n  <thead>\n    <tr style=\"text-align: right;\">\n      <th></th>\n      <th>id</th>\n      <th>date</th>\n      <th>nightly_temperature</th>\n      <th>nremhr</th>\n      <th>rmssd</th>\n      <th>spo2</th>\n      <th>full_sleep_breathing_rate</th>\n      <th>stress_score</th>\n      <th>sleep_points_percentage</th>\n      <th>exertion_points_percentage</th>\n      <th>...</th>\n      <th>Steps_hour14</th>\n      <th>Steps_hour15</th>\n      <th>Steps_hour16</th>\n      <th>Steps_hour17</th>\n      <th>Steps_hour18</th>\n      <th>Steps_hour19</th>\n      <th>Steps_hour20</th>\n      <th>Steps_hour21</th>\n      <th>Steps_hour22</th>\n      <th>Steps_hour23</th>\n    </tr>\n  </thead>\n  <tbody>\n    <tr>\n      <th>0</th>\n      <td>621e2e8e67b776a24055b564</td>\n      <td>2021-05-24</td>\n      <td>34.137687</td>\n      <td>57.432</td>\n      <td>89.603</td>\n      <td>95.9</td>\n      <td>14.8</td>\n      <td>78.0</td>\n      <td>0.833333</td>\n      <td>0.675</td>\n      <td>...</td>\n      <td>191.0</td>\n      <td>33.0</td>\n      <td>342.0</td>\n      <td>1712.0</td>\n      <td>1838.0</td>\n      <td>160.0</td>\n      <td>155.0</td>\n      <td>37.0</td>\n      <td>31.0</td>\n      <td>53.0</td>\n    </tr>\n    <tr>\n      <th>1</th>\n      <td>621e2e8e67b776a24055b564</td>\n      <td>2021-05-25</td>\n      <td>33.794544</td>\n      <td>57.681</td>\n      <td>94.303</td>\n      <td>95.9</td>\n      <td>15.8</td>\n      <td>80.0</td>\n      <td>0.833333</td>\n      <td>0.725</td>\n      <td>...</td>\n      <td>120.0</td>\n      <td>24.0</td>\n      <td>446.0</td>\n      <td>377.0</td>\n      <td>3165.0</td>\n      <td>332.0</td>\n      <td>97.0</td>\n      <td>9.0</td>\n      <td>24.0</td>\n      <td>58.0</td>\n    </tr>\n    <tr>\n      <th>2</th>\n      <td>621e2e8e67b776a24055b564</td>\n      <td>2021-05-26</td>\n      <td>34.611011</td>\n      <td>57.481</td>\n      <td>119.212</td>\n      <td>95.9</td>\n      <td>14.6</td>\n      <td>84.0</td>\n      <td>0.966667</td>\n      <td>0.725</td>\n      <td>...</td>\n      <td>85.0</td>\n      <td>477.0</td>\n      <td>390.0</td>\n      <td>2821.0</td>\n      <td>293.0</td>\n      <td>158.0</td>\n      <td>66.0</td>\n      <td>0.0</td>\n      <td>70.0</td>\n      <td>74.0</td>\n    </tr>\n    <tr>\n      <th>3</th>\n      <td>621e2e8e67b776a24055b564</td>\n      <td>2021-05-27</td>\n      <td>34.408304</td>\n      <td>57.493</td>\n      <td>111.709</td>\n      <td>95.9</td>\n      <td>14.8</td>\n      <td>82.0</td>\n      <td>0.933333</td>\n      <td>0.725</td>\n      <td>...</td>\n      <td>58.0</td>\n      <td>296.0</td>\n      <td>401.0</td>\n      <td>21.0</td>\n      <td>3054.0</td>\n      <td>503.0</td>\n      <td>411.0</td>\n      <td>96.0</td>\n      <td>63.0</td>\n      <td>8.0</td>\n    </tr>\n    <tr>\n      <th>4</th>\n      <td>621e2e8e67b776a24055b564</td>\n      <td>2021-05-28</td>\n      <td>34.178922</td>\n      <td>56.750</td>\n      <td>103.034</td>\n      <td>95.9</td>\n      <td>15.2</td>\n      <td>81.0</td>\n      <td>0.866667</td>\n      <td>0.725</td>\n      <td>...</td>\n      <td>250.0</td>\n      <td>82.0</td>\n      <td>1363.0</td>\n      <td>3014.0</td>\n      <td>81.0</td>\n      <td>104.0</td>\n      <td>1984.0</td>\n      <td>18.0</td>\n      <td>141.0</td>\n      <td>60.0</td>\n    </tr>\n  </tbody>\n</table>\n<p>5 rows × 150 columns</p>\n</div>"
     },
     "execution_count": 85,
     "metadata": {},
     "output_type": "execute_result"
    }
   ],
   "source": [
    "df=pd.read_pickle('../data/unified_dataframe/dataframe_demographics_preprocessed.pkl')\n",
    "df = df[df['filteredDemographicVO2Max'].notna()]\n",
    "df.head()"
   ],
   "metadata": {
    "collapsed": false,
    "pycharm": {
     "name": "#%%\n"
    }
   }
  },
  {
   "cell_type": "code",
   "execution_count": 86,
   "outputs": [
    {
     "data": {
      "text/plain": "                         id       date  nightly_temperature  nremhr    rmssd  \\\n0  621e2e8e67b776a24055b564 2021-05-24            34.137687  57.432   89.603   \n1  621e2e8e67b776a24055b564 2021-05-25            33.794544  57.681   94.303   \n2  621e2e8e67b776a24055b564 2021-05-26            34.611011  57.481  119.212   \n3  621e2e8e67b776a24055b564 2021-05-27            34.408304  57.493  111.709   \n4  621e2e8e67b776a24055b564 2021-05-28            34.178922  56.750  103.034   \n\n   spo2  full_sleep_breathing_rate  stress_score  sleep_points_percentage  \\\n0  95.9                       14.8          78.0                 0.833333   \n1  95.9                       15.8          80.0                 0.833333   \n2  95.9                       14.6          84.0                 0.966667   \n3  95.9                       14.8          82.0                 0.933333   \n4  95.9                       15.2          81.0                 0.866667   \n\n   exertion_points_percentage  ...  Steps_hour15  Steps_hour16  Steps_hour17  \\\n0                       0.675  ...          33.0         342.0        1712.0   \n1                       0.725  ...          24.0         446.0         377.0   \n2                       0.725  ...         477.0         390.0        2821.0   \n3                       0.725  ...         296.0         401.0          21.0   \n4                       0.725  ...          82.0        1363.0        3014.0   \n\n   Steps_hour18  Steps_hour19  Steps_hour20  Steps_hour21  Steps_hour22  \\\n0        1838.0         160.0         155.0          37.0          31.0   \n1        3165.0         332.0          97.0           9.0          24.0   \n2         293.0         158.0          66.0           0.0          70.0   \n3        3054.0         503.0         411.0          96.0          63.0   \n4          81.0         104.0        1984.0          18.0         141.0   \n\n   Steps_hour23       fitness_level  \n0          53.0  Superior/Excellent  \n1          58.0  Superior/Excellent  \n2          74.0  Superior/Excellent  \n3           8.0  Superior/Excellent  \n4          60.0  Superior/Excellent  \n\n[5 rows x 151 columns]",
      "text/html": "<div>\n<style scoped>\n    .dataframe tbody tr th:only-of-type {\n        vertical-align: middle;\n    }\n\n    .dataframe tbody tr th {\n        vertical-align: top;\n    }\n\n    .dataframe thead th {\n        text-align: right;\n    }\n</style>\n<table border=\"1\" class=\"dataframe\">\n  <thead>\n    <tr style=\"text-align: right;\">\n      <th></th>\n      <th>id</th>\n      <th>date</th>\n      <th>nightly_temperature</th>\n      <th>nremhr</th>\n      <th>rmssd</th>\n      <th>spo2</th>\n      <th>full_sleep_breathing_rate</th>\n      <th>stress_score</th>\n      <th>sleep_points_percentage</th>\n      <th>exertion_points_percentage</th>\n      <th>...</th>\n      <th>Steps_hour15</th>\n      <th>Steps_hour16</th>\n      <th>Steps_hour17</th>\n      <th>Steps_hour18</th>\n      <th>Steps_hour19</th>\n      <th>Steps_hour20</th>\n      <th>Steps_hour21</th>\n      <th>Steps_hour22</th>\n      <th>Steps_hour23</th>\n      <th>fitness_level</th>\n    </tr>\n  </thead>\n  <tbody>\n    <tr>\n      <th>0</th>\n      <td>621e2e8e67b776a24055b564</td>\n      <td>2021-05-24</td>\n      <td>34.137687</td>\n      <td>57.432</td>\n      <td>89.603</td>\n      <td>95.9</td>\n      <td>14.8</td>\n      <td>78.0</td>\n      <td>0.833333</td>\n      <td>0.675</td>\n      <td>...</td>\n      <td>33.0</td>\n      <td>342.0</td>\n      <td>1712.0</td>\n      <td>1838.0</td>\n      <td>160.0</td>\n      <td>155.0</td>\n      <td>37.0</td>\n      <td>31.0</td>\n      <td>53.0</td>\n      <td>Superior/Excellent</td>\n    </tr>\n    <tr>\n      <th>1</th>\n      <td>621e2e8e67b776a24055b564</td>\n      <td>2021-05-25</td>\n      <td>33.794544</td>\n      <td>57.681</td>\n      <td>94.303</td>\n      <td>95.9</td>\n      <td>15.8</td>\n      <td>80.0</td>\n      <td>0.833333</td>\n      <td>0.725</td>\n      <td>...</td>\n      <td>24.0</td>\n      <td>446.0</td>\n      <td>377.0</td>\n      <td>3165.0</td>\n      <td>332.0</td>\n      <td>97.0</td>\n      <td>9.0</td>\n      <td>24.0</td>\n      <td>58.0</td>\n      <td>Superior/Excellent</td>\n    </tr>\n    <tr>\n      <th>2</th>\n      <td>621e2e8e67b776a24055b564</td>\n      <td>2021-05-26</td>\n      <td>34.611011</td>\n      <td>57.481</td>\n      <td>119.212</td>\n      <td>95.9</td>\n      <td>14.6</td>\n      <td>84.0</td>\n      <td>0.966667</td>\n      <td>0.725</td>\n      <td>...</td>\n      <td>477.0</td>\n      <td>390.0</td>\n      <td>2821.0</td>\n      <td>293.0</td>\n      <td>158.0</td>\n      <td>66.0</td>\n      <td>0.0</td>\n      <td>70.0</td>\n      <td>74.0</td>\n      <td>Superior/Excellent</td>\n    </tr>\n    <tr>\n      <th>3</th>\n      <td>621e2e8e67b776a24055b564</td>\n      <td>2021-05-27</td>\n      <td>34.408304</td>\n      <td>57.493</td>\n      <td>111.709</td>\n      <td>95.9</td>\n      <td>14.8</td>\n      <td>82.0</td>\n      <td>0.933333</td>\n      <td>0.725</td>\n      <td>...</td>\n      <td>296.0</td>\n      <td>401.0</td>\n      <td>21.0</td>\n      <td>3054.0</td>\n      <td>503.0</td>\n      <td>411.0</td>\n      <td>96.0</td>\n      <td>63.0</td>\n      <td>8.0</td>\n      <td>Superior/Excellent</td>\n    </tr>\n    <tr>\n      <th>4</th>\n      <td>621e2e8e67b776a24055b564</td>\n      <td>2021-05-28</td>\n      <td>34.178922</td>\n      <td>56.750</td>\n      <td>103.034</td>\n      <td>95.9</td>\n      <td>15.2</td>\n      <td>81.0</td>\n      <td>0.866667</td>\n      <td>0.725</td>\n      <td>...</td>\n      <td>82.0</td>\n      <td>1363.0</td>\n      <td>3014.0</td>\n      <td>81.0</td>\n      <td>104.0</td>\n      <td>1984.0</td>\n      <td>18.0</td>\n      <td>141.0</td>\n      <td>60.0</td>\n      <td>Superior/Excellent</td>\n    </tr>\n  </tbody>\n</table>\n<p>5 rows × 151 columns</p>\n</div>"
     },
     "execution_count": 86,
     "metadata": {},
     "output_type": "execute_result"
    }
   ],
   "source": [
    "df['fitness_level'] = df.apply(lambda row: get_cardio_category(row[\"gender\"], row['age'], row[\"filteredDemographicVO2Max\"]), axis=1)\n",
    "df.fitness_level.astype(str)\n",
    "df.head()"
   ],
   "metadata": {
    "collapsed": false,
    "pycharm": {
     "name": "#%%\n"
    }
   }
  },
  {
   "cell_type": "code",
   "execution_count": 87,
   "outputs": [],
   "source": [
    "fitness_level = df.drop(columns=['date','age', 'gender', 'bmi','filteredDemographicVO2Max'])"
   ],
   "metadata": {
    "collapsed": false,
    "pycharm": {
     "name": "#%%\n"
    }
   }
  },
  {
   "cell_type": "code",
   "execution_count": 88,
   "outputs": [
    {
     "data": {
      "text/plain": "Superior/Excellent    2676\nFair/Good              912\nPoor                    95\nName: fitness_level, dtype: int64"
     },
     "execution_count": 88,
     "metadata": {},
     "output_type": "execute_result"
    }
   ],
   "source": [
    "fitness_level['fitness_level'].value_counts()"
   ],
   "metadata": {
    "collapsed": false,
    "pycharm": {
     "name": "#%%\n"
    }
   }
  },
  {
   "cell_type": "code",
   "execution_count": 89,
   "outputs": [],
   "source": [
    "fitness_level['fitness_level'].replace(to_replace=['Superior/Excellent', 'Fair/Good', 'Poor'], value=[2, 1, 0], inplace=True)"
   ],
   "metadata": {
    "collapsed": false,
    "pycharm": {
     "name": "#%%\n"
    }
   }
  },
  {
   "cell_type": "code",
   "execution_count": 90,
   "outputs": [
    {
     "name": "stdout",
     "output_type": "stream",
     "text": [
      "193\n",
      "0\n"
     ]
    }
   ],
   "source": [
    "print(fitness_level['fitness_level'].isna().sum())\n",
    "fitness_level = fitness_level[fitness_level['fitness_level'].notna()]\n",
    "print(fitness_level['fitness_level'].isna().sum())"
   ],
   "metadata": {
    "collapsed": false,
    "pycharm": {
     "name": "#%%\n"
    }
   }
  },
  {
   "cell_type": "code",
   "execution_count": 91,
   "outputs": [],
   "source": [
    "drop_columns =  fitness_level.columns[fitness_level.isna().any()].tolist()\n",
    "fitness_level.drop(columns=drop_columns, inplace=True)"
   ],
   "metadata": {
    "collapsed": false,
    "pycharm": {
     "name": "#%%\n"
    }
   }
  },
  {
   "cell_type": "code",
   "execution_count": 92,
   "outputs": [],
   "source": [
    "train_data, test_data = train_test_split_per_user(fitness_level)\n",
    "fold_groups = train_data.id\n",
    "train_data = train_data.drop(columns=['id'])\n",
    "test_data = test_data.drop(columns=['id'])"
   ],
   "metadata": {
    "collapsed": false,
    "pycharm": {
     "name": "#%%\n"
    }
   }
  },
  {
   "cell_type": "code",
   "execution_count": 93,
   "outputs": [],
   "source": [
    "et = ExtraTreesClassifier(n_estimators=100, random_state=0)"
   ],
   "metadata": {
    "collapsed": false,
    "pycharm": {
     "name": "#%%\n"
    }
   }
  },
  {
   "cell_type": "code",
   "execution_count": 94,
   "outputs": [],
   "source": [
    "x_train = train_data.drop(columns=['fitness_level'])\n",
    "y_train = train_data['fitness_level']\n",
    "x_test = test_data.drop(columns=['fitness_level'])\n",
    "y_test = test_data['fitness_level']"
   ],
   "metadata": {
    "collapsed": false,
    "pycharm": {
     "name": "#%%\n"
    }
   }
  },
  {
   "cell_type": "code",
   "execution_count": 95,
   "outputs": [],
   "source": [
    "et = et.fit(x_train, y_train)"
   ],
   "metadata": {
    "collapsed": false,
    "pycharm": {
     "name": "#%%\n"
    }
   }
  },
  {
   "cell_type": "code",
   "execution_count": 96,
   "outputs": [],
   "source": [
    "y_pred = et.predict(x_test)"
   ],
   "metadata": {
    "collapsed": false,
    "pycharm": {
     "name": "#%%\n"
    }
   }
  },
  {
   "cell_type": "code",
   "execution_count": 97,
   "outputs": [
    {
     "data": {
      "text/plain": "0.4868212819202369"
     },
     "execution_count": 97,
     "metadata": {},
     "output_type": "execute_result"
    }
   ],
   "source": [
    "fpr, tpr, thresholds = roc_curve(y_test, y_pred, pos_label=2)\n",
    "auc(fpr, tpr)"
   ],
   "metadata": {
    "collapsed": false,
    "pycharm": {
     "name": "#%%\n"
    }
   }
  },
  {
   "cell_type": "code",
   "execution_count": null,
   "outputs": [],
   "source": [],
   "metadata": {
    "collapsed": false,
    "pycharm": {
     "name": "#%%\n"
    }
   }
  }
 ],
 "metadata": {
  "kernelspec": {
   "display_name": "Python 3",
   "language": "python",
   "name": "python3"
  },
  "language_info": {
   "codemirror_mode": {
    "name": "ipython",
    "version": 2
   },
   "file_extension": ".py",
   "mimetype": "text/x-python",
   "name": "python",
   "nbconvert_exporter": "python",
   "pygments_lexer": "ipython2",
   "version": "2.7.6"
  }
 },
 "nbformat": 4,
 "nbformat_minor": 0
}