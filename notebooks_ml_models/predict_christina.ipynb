{
 "cells": [
  {
   "cell_type": "code",
   "execution_count": null,
   "id": "0584bb3a-506e-4e42-93a4-a90a78df4213",
   "metadata": {},
   "outputs": [],
   "source": [
    "import pickle\n",
    "import pycaret\n",
    "import pandas as pd\n",
    "import seaborn as sns\n",
    "from pycaret.classification import *\n",
    "from dataprep.eda import create_report"
   ]
  },
  {
   "cell_type": "markdown",
   "id": "608869e5-8066-4d3c-85e8-88fdbe4d48b5",
   "metadata": {},
   "source": [
    "-----------------------------\n",
    "# functions"
   ]
  },
  {
   "cell_type": "code",
   "execution_count": null,
   "id": "6744e164-4381-4afa-bb38-8d357283318d",
   "metadata": {},
   "outputs": [],
   "source": [
    "def train_test_split_per_user(data, train_size=0.7):\n",
    "    users = list(set(data.id))\n",
    "    users = sorted(users, reverse=True)  # fix randomness\n",
    "    total_users = len(users)\n",
    "    slice = int(train_size * total_users)\n",
    "    users_train = users[:slice]\n",
    "    users_test = users[slice:]\n",
    "    return data[data.id.isin(users_train)], data[data.id.isin(users_test)]\n",
    "\n",
    "# Apply Recursive Feature Elimination and return the new dataframes\n",
    "def feature_elimination(x_train_df, x_test_df, y_train_df):\n",
    "    # Convert numeric to float\n",
    "    x_train_df = x_train_df.astype(np.float_)\n",
    "    x_test_df = x_test_df.astype(np.float_)\n",
    "\n",
    "    # RFE\n",
    "    estimator = GradientBoostingClassifier(n_estimators=100, learning_rate=1.0, max_depth=1, \n",
    "                                           random_state=0)\n",
    "    selector = RFE(estimator, n_features_to_select=10, step=1)\n",
    "    selector = selector.fit(x_train_df, y_train_df)\n",
    "    x_train_df = selector.transform(x_train_df)\n",
    "    x_test_df = selector.transform(x_test_df)\n",
    "    \n",
    "    # rename columns\n",
    "    x_train_df = pd.DataFrame(x_train_df)\n",
    "    x_train_df.columns = selector.get_feature_names_out()\n",
    "    x_test_df = pd.DataFrame(x_test_df)\n",
    "    x_test_df.columns = selector.get_feature_names_out()\n",
    "\n",
    "    return x_train_df, x_test_df"
   ]
  },
  {
   "cell_type": "markdown",
   "id": "e582a2be-c331-4b9c-b267-c6498041d93b",
   "metadata": {},
   "source": [
    "-----------------\n",
    "# Predicting semas negative feelings"
   ]
  },
  {
   "cell_type": "code",
   "execution_count": null,
   "id": "4fef88ed-98ca-43da-893c-22e8794f2ac5",
   "metadata": {},
   "outputs": [],
   "source": [
    "df=pd.read_pickle('../data/unified_dataframe/data_unprocessed.pkl')\n",
    "df.head()"
   ]
  },
  {
   "cell_type": "code",
   "execution_count": null,
   "id": "8f34943a-f654-458e-b0ad-114504dc6c8f",
   "metadata": {},
   "outputs": [],
   "source": [
    "df.columns"
   ]
  },
  {
   "cell_type": "code",
   "execution_count": null,
   "id": "128abfda-2876-4959-8346-fc5d861a2b3a",
   "metadata": {},
   "outputs": [],
   "source": [
    "sema = df.drop(columns=['date','startTime', 'endTime', 'label_ttm_stage', \n",
    "                        'label_breq_self_determination','label_ipip_extraversion_category',\n",
    "                        'label_ipip_agreeableness_category',\n",
    "                        'label_ipip_conscientiousness_category',\n",
    "                        'label_ipip_stability_category', 'label_ipip_intellect_category',\n",
    "                        'label_stai_stress_category', 'label_panas_negative_affect'])"
   ]
  },
  {
   "cell_type": "code",
   "execution_count": null,
   "id": "336e41a5-722a-4eda-970a-2f9a21b6fe8e",
   "metadata": {},
   "outputs": [],
   "source": [
    "train_data, test_data = train_test_split_per_user(sema)"
   ]
  },
  {
   "cell_type": "code",
   "execution_count": null,
   "id": "f32709f3-7b01-47e2-92cf-fdcbc1e14638",
   "metadata": {},
   "outputs": [],
   "source": [
    "fold_groups = train_data.id\n",
    "train_data = train_data.drop(columns=['id'])\n",
    "test_data = test_data.drop(columns=['id'])"
   ]
  },
  {
   "cell_type": "code",
   "execution_count": null,
   "id": "99dcf2d1-4bdf-4036-b29d-500d51be985f",
   "metadata": {},
   "outputs": [],
   "source": [
    "s = setup(data=train_data, target='label_sema_negative_feelings', silent=True, session_id=123, \n",
    "          fold_strategy='groupkfold', fold=3,  fold_groups=fold_groups, test_data=test_data)"
   ]
  },
  {
   "cell_type": "code",
   "execution_count": null,
   "id": "5d646c37-77ce-483c-8dfa-2d685c6fc436",
   "metadata": {},
   "outputs": [],
   "source": [
    "best = compare_models()"
   ]
  },
  {
   "cell_type": "code",
   "execution_count": null,
   "id": "af7332a0-5e7c-4bf0-9d98-01326b8c7299",
   "metadata": {},
   "outputs": [],
   "source": [
    "df=pd.read_pickle('../data/unified_dataframe/data_preprocessed.pkl')\n",
    "\n",
    "sema = df.drop(columns=['date','startTime', 'endTime', 'label_ttm_stage', \n",
    "                        'label_breq_self_determination','label_ipip_extraversion_category',\n",
    "                        'label_ipip_agreeableness_category',\n",
    "                        'label_ipip_conscientiousness_category',\n",
    "                        'label_ipip_stability_category', 'label_ipip_intellect_category',\n",
    "                        'label_stai_stress_category', 'label_panas_negative_affect'])\n",
    "\n",
    "train_data, test_data = train_test_split_per_user(sema)\n",
    "\n",
    "fold_groups = train_data.id\n",
    "train_data = train_data.drop(columns=['id'])\n",
    "test_data = test_data.drop(columns=['id'])"
   ]
  },
  {
   "cell_type": "code",
   "execution_count": null,
   "id": "738fc4f7-8211-4302-8b14-a34fc16fefc6",
   "metadata": {},
   "outputs": [],
   "source": [
    "s = setup(data=train_data, target='label_sema_negative_feelings', silent=True, session_id=123, \n",
    "          fold_strategy='groupkfold', fold=3,  fold_groups=fold_groups, test_data=test_data)"
   ]
  },
  {
   "cell_type": "code",
   "execution_count": null,
   "id": "bc0d6298-6f7e-4933-af99-9a87cfb68b2b",
   "metadata": {},
   "outputs": [],
   "source": [
    "best = compare_models()"
   ]
  },
  {
   "cell_type": "markdown",
   "id": "30af4f23-bb95-4546-92bd-882b50387219",
   "metadata": {},
   "source": [
    "When remove_multicollinearity is set to True, the variables with inter-correlations higher than the threshold defined under the multicollinearity_threshold param are dropped. When two features are highly correlated with each other, the feature that is less correlated with the target variable is dropped."
   ]
  },
  {
   "cell_type": "code",
   "execution_count": null,
   "id": "d81f3595-0af9-4530-9d07-168e3d80d9ad",
   "metadata": {},
   "outputs": [],
   "source": [
    "s = setup(data=train_data, target='label_sema_negative_feelings', silent=True, session_id=123, \n",
    "          fold_strategy='groupkfold', fold=3,  fold_groups=fold_groups, test_data=test_data, \n",
    "          normalize=True, fix_imbalance=True, transformation=True, remove_multicollinearity = True,\n",
    "          multicollinearity_threshold = 0.6)"
   ]
  },
  {
   "cell_type": "code",
   "execution_count": null,
   "id": "1b086aa2-9027-4dc8-8207-52f31cc5885e",
   "metadata": {},
   "outputs": [],
   "source": [
    "best = compare_models()"
   ]
  },
  {
   "cell_type": "code",
   "execution_count": null,
   "id": "1a2404ad-01c1-466c-969b-dae6ed04ef60",
   "metadata": {},
   "outputs": [],
   "source": [
    "df=pd.read_pickle('../data/unified_dataframe/data_features.pkl')"
   ]
  },
  {
   "cell_type": "code",
   "execution_count": null,
   "id": "e25ee271-62d5-4a70-b2ca-bb0e0e1ab0ae",
   "metadata": {},
   "outputs": [],
   "source": [
    "df['bmi'].replace(to_replace=['Normal', 'Overweight', 'Underweight', 'Obese'], value=[0, 1, 2, 3], \n",
    "                  inplace=True)\n",
    "\n",
    "sema = df.drop(columns=['date','startTime', 'endTime', 'label_ttm_stage', \n",
    "                        'label_breq_self_determination','label_ipip_extraversion_category',\n",
    "                        'label_ipip_agreeableness_category',\n",
    "                        'label_ipip_conscientiousness_category',\n",
    "                        'label_ipip_stability_category', 'label_ipip_intellect_category',\n",
    "                        'label_stai_stress_category', 'label_panas_negative_affect'])\n",
    "\n",
    "train_data, test_data = train_test_split_per_user(sema)\n",
    "\n",
    "fold_groups = train_data.id\n",
    "train_data = train_data.drop(columns=['id'])\n",
    "test_data = test_data.drop(columns=['id'])"
   ]
  },
  {
   "cell_type": "code",
   "execution_count": null,
   "id": "b5dc557c-9b62-4afe-b820-587d39a73379",
   "metadata": {},
   "outputs": [],
   "source": [
    "from sklearn.ensemble import ExtraTreesClassifier\n",
    "\n",
    "x = train_data.drop(columns='label_sema_negative_feelings')\n",
    "y = train_data['label_sema_negative_feelings']\n",
    "model = ExtraTreesClassifier()\n",
    "model.fit(x,y)\n",
    "print('Model feature importances')\n",
    "print(model.feature_importances_) \n",
    "feat_importances = pd.Series(model.feature_importances_, index=x.columns)\n",
    "feat_importances.nlargest(12).plot(kind='barh')\n",
    "plt.show()"
   ]
  },
  {
   "cell_type": "code",
   "execution_count": null,
   "id": "eebe9193-506b-4f36-8cff-8eb227d89eab",
   "metadata": {},
   "outputs": [],
   "source": []
  },
  {
   "cell_type": "code",
   "execution_count": null,
   "id": "e9b7ee7c-56fa-4859-a240-4da3c0ff1ddc",
   "metadata": {},
   "outputs": [],
   "source": []
  },
  {
   "cell_type": "code",
   "execution_count": null,
   "id": "f3d5c448-8cdb-4951-a141-f41e6dde50c6",
   "metadata": {},
   "outputs": [],
   "source": [
    "from sklearn.svm import SVC\n",
    "from sklearn.datasets import load_digits\n",
    "from sklearn.feature_selection import RFE\n",
    "import matplotlib.pyplot as plt\n",
    "\n",
    "# Load the digits dataset\n",
    "X = train_data.drop(columns='label_sema_negative_feelings')\n",
    "y = train_data['label_sema_negative_feelings']"
   ]
  },
  {
   "cell_type": "code",
   "execution_count": null,
   "id": "28ef0788-2493-43d5-b61e-f795a8d400c9",
   "metadata": {},
   "outputs": [],
   "source": [
    "# Create the RFE object and rank each pixel\n",
    "svc = SVC(kernel=\"linear\", C=1)\n",
    "rfe = RFE(estimator=svc, n_features_to_select=1, step=1)\n",
    "rfe.fit(X, y)\n",
    "ranking = rfe.ranking_.reshape(digits.images[0].shape)"
   ]
  },
  {
   "cell_type": "code",
   "execution_count": null,
   "id": "dadda1d0-2d9f-462b-8aee-455c3067f024",
   "metadata": {},
   "outputs": [],
   "source": []
  },
  {
   "cell_type": "code",
   "execution_count": null,
   "id": "6b8f36bc-2384-4c0e-a9a2-89b6b84defee",
   "metadata": {},
   "outputs": [],
   "source": []
  },
  {
   "cell_type": "code",
   "execution_count": null,
   "id": "89781ac9-d9b4-40c8-b345-0e2741596201",
   "metadata": {},
   "outputs": [],
   "source": []
  },
  {
   "cell_type": "markdown",
   "id": "54fde638-a439-436e-96d3-aa50499816f9",
   "metadata": {},
   "source": [
    "**feature_selection:** bool, default = False\n",
    "When set to True, a subset of features are selected using a combination of various permutation importance techniques including Random Forest, Adaboost and Linear correlation with target variable. The size of the subset is dependent on the feature_selection_param. Generally, this is used to constrain the feature space in order to improve efficiency in modeling. When polynomial_features and feature_interaction are used, it is highly recommended to define the feature_selection_threshold param with a lower value.\n",
    "\n",
    "**feature_selection_threshold:** float, default = 0.8\n",
    "Threshold used for feature selection (including newly created polynomial features). A higher value will result in a higher feature space. It is recommended to do multiple trials with different values of feature_selection_threshold specially in cases where polynomial_features and feature_interaction are used. Setting a very low value may be efficient but could result in under-fitting."
   ]
  },
  {
   "cell_type": "code",
   "execution_count": null,
   "id": "5db2a1f0-9e8e-4f0d-82c1-63835ad26aea",
   "metadata": {},
   "outputs": [],
   "source": [
    "s = setup(data=train_data, target='label_sema_negative_feelings', silent=True, session_id=123, \n",
    "          fold_strategy='groupkfold', fold=3,  fold_groups=fold_groups, test_data=test_data, \n",
    "          normalize=True, fix_imbalance=True, transformation=True, remove_multicollinearity = True,\n",
    "          multicollinearity_threshold = 0.6, feature_selection=True, \n",
    "          feature_selection_threshold=0.1)"
   ]
  },
  {
   "cell_type": "code",
   "execution_count": null,
   "id": "07312d57-1a3c-453f-87f4-34389519db29",
   "metadata": {},
   "outputs": [],
   "source": []
  }
 ],
 "metadata": {
  "kernelspec": {
   "display_name": "pycaret",
   "language": "python",
   "name": "pycaret"
  },
  "language_info": {
   "codemirror_mode": {
    "name": "ipython",
    "version": 3
   },
   "file_extension": ".py",
   "mimetype": "text/x-python",
   "name": "python",
   "nbconvert_exporter": "python",
   "pygments_lexer": "ipython3",
   "version": "3.8.15"
  }
 },
 "nbformat": 4,
 "nbformat_minor": 5
}
